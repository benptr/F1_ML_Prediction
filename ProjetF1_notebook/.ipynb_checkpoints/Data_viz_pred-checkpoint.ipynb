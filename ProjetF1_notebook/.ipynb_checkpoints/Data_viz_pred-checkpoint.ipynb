{
 "cells": [
  {
   "cell_type": "markdown",
   "metadata": {},
   "source": [
    "# This notebook show the preparation of the data for the machine learning prediction "
   ]
  },
  {
   "cell_type": "markdown",
   "metadata": {},
   "source": [
    "The objective here is to obtain a data representing the full grand Prix week end, for every drivers.\n",
    "Now we have those informations in the data depending on the session name. \n",
    "In  our case we need to have them in the same row."
   ]
  },
  {
   "cell_type": "markdown",
   "metadata": {},
   "source": [
    "### Import the data and the tools"
   ]
  },
  {
   "cell_type": "code",
   "execution_count": 1,
   "metadata": {},
   "outputs": [],
   "source": [
    "import numpy as np\n",
    "import sklearn\n",
    "import matplotlib.pyplot as plt\n",
    "import seaborn as sns\n",
    "import pandas as pd"
   ]
  },
  {
   "cell_type": "code",
   "execution_count": 2,
   "metadata": {},
   "outputs": [],
   "source": [
    "data = pd.read_csv(r'..\\Data\\allData.csv')"
   ]
  },
  {
   "cell_type": "markdown",
   "metadata": {},
   "source": [
    "## Checking the data"
   ]
  },
  {
   "cell_type": "code",
   "execution_count": 3,
   "metadata": {},
   "outputs": [
    {
     "data": {
      "text/plain": [
       "(6625, 25)"
      ]
     },
     "execution_count": 3,
     "metadata": {},
     "output_type": "execute_result"
    }
   ],
   "source": [
    "data.shape"
   ]
  },
  {
   "cell_type": "code",
   "execution_count": 4,
   "metadata": {
    "scrolled": true
   },
   "outputs": [
    {
     "data": {
      "text/plain": [
       "Index(['number', 'position', 'Q1', 'Q2', 'Q3', 'positionText', 'points',\n",
       "       'grid', 'laps', 'status', 'year', 'gpName', 'gpNumber', 'sessionName',\n",
       "       'driverId', 'code', 'DriverNationality', 'constructorId',\n",
       "       'constructorNationality', 'fastestLapNumber', 'fastestLapRank',\n",
       "       'fastestLapAvgSpeed', 'fastestLapTime', 'totalTime', 'TimeInterval'],\n",
       "      dtype='object')"
      ]
     },
     "execution_count": 4,
     "metadata": {},
     "output_type": "execute_result"
    }
   ],
   "source": [
    "data.columns"
   ]
  },
  {
   "cell_type": "code",
   "execution_count": 5,
   "metadata": {},
   "outputs": [
    {
     "data": {
      "text/html": [
       "<div>\n",
       "<style scoped>\n",
       "    .dataframe tbody tr th:only-of-type {\n",
       "        vertical-align: middle;\n",
       "    }\n",
       "\n",
       "    .dataframe tbody tr th {\n",
       "        vertical-align: top;\n",
       "    }\n",
       "\n",
       "    .dataframe thead th {\n",
       "        text-align: right;\n",
       "    }\n",
       "</style>\n",
       "<table border=\"1\" class=\"dataframe\">\n",
       "  <thead>\n",
       "    <tr style=\"text-align: right;\">\n",
       "      <th></th>\n",
       "      <th>number</th>\n",
       "      <th>position</th>\n",
       "      <th>points</th>\n",
       "      <th>grid</th>\n",
       "      <th>laps</th>\n",
       "      <th>year</th>\n",
       "      <th>gpNumber</th>\n",
       "      <th>fastestLapNumber</th>\n",
       "      <th>fastestLapRank</th>\n",
       "      <th>fastestLapAvgSpeed</th>\n",
       "      <th>totalTime</th>\n",
       "    </tr>\n",
       "  </thead>\n",
       "  <tbody>\n",
       "    <tr>\n",
       "      <th>count</th>\n",
       "      <td>6625.000000</td>\n",
       "      <td>6605.000000</td>\n",
       "      <td>1599.000000</td>\n",
       "      <td>1599.000000</td>\n",
       "      <td>1599.000000</td>\n",
       "      <td>6625.000000</td>\n",
       "      <td>6625.000000</td>\n",
       "      <td>4915.000000</td>\n",
       "      <td>4915.000000</td>\n",
       "      <td>1526.000000</td>\n",
       "      <td>7.840000e+02</td>\n",
       "    </tr>\n",
       "    <tr>\n",
       "      <th>mean</th>\n",
       "      <td>28.059925</td>\n",
       "      <td>10.479485</td>\n",
       "      <td>5.065979</td>\n",
       "      <td>10.151345</td>\n",
       "      <td>54.482802</td>\n",
       "      <td>2019.506113</td>\n",
       "      <td>10.544906</td>\n",
       "      <td>23.241506</td>\n",
       "      <td>10.382299</td>\n",
       "      <td>210.311455</td>\n",
       "      <td>5.668426e+06</td>\n",
       "    </tr>\n",
       "    <tr>\n",
       "      <th>std</th>\n",
       "      <td>25.708990</td>\n",
       "      <td>5.756997</td>\n",
       "      <td>7.217079</td>\n",
       "      <td>5.819209</td>\n",
       "      <td>17.902728</td>\n",
       "      <td>1.147093</td>\n",
       "      <td>5.960681</td>\n",
       "      <td>18.519107</td>\n",
       "      <td>5.711499</td>\n",
       "      <td>19.500750</td>\n",
       "      <td>1.275282e+06</td>\n",
       "    </tr>\n",
       "    <tr>\n",
       "      <th>min</th>\n",
       "      <td>2.000000</td>\n",
       "      <td>1.000000</td>\n",
       "      <td>0.000000</td>\n",
       "      <td>0.000000</td>\n",
       "      <td>0.000000</td>\n",
       "      <td>2018.000000</td>\n",
       "      <td>1.000000</td>\n",
       "      <td>2.000000</td>\n",
       "      <td>1.000000</td>\n",
       "      <td>140.802000</td>\n",
       "      <td>2.070710e+05</td>\n",
       "    </tr>\n",
       "    <tr>\n",
       "      <th>25%</th>\n",
       "      <td>8.000000</td>\n",
       "      <td>5.000000</td>\n",
       "      <td>0.000000</td>\n",
       "      <td>5.000000</td>\n",
       "      <td>52.000000</td>\n",
       "      <td>2018.000000</td>\n",
       "      <td>5.000000</td>\n",
       "      <td>10.000000</td>\n",
       "      <td>5.000000</td>\n",
       "      <td>200.244500</td>\n",
       "      <td>5.280748e+06</td>\n",
       "    </tr>\n",
       "    <tr>\n",
       "      <th>50%</th>\n",
       "      <td>18.000000</td>\n",
       "      <td>10.000000</td>\n",
       "      <td>1.000000</td>\n",
       "      <td>10.000000</td>\n",
       "      <td>56.000000</td>\n",
       "      <td>2019.000000</td>\n",
       "      <td>10.000000</td>\n",
       "      <td>14.000000</td>\n",
       "      <td>10.000000</td>\n",
       "      <td>209.825500</td>\n",
       "      <td>5.591682e+06</td>\n",
       "    </tr>\n",
       "    <tr>\n",
       "      <th>75%</th>\n",
       "      <td>44.000000</td>\n",
       "      <td>15.000000</td>\n",
       "      <td>8.000000</td>\n",
       "      <td>15.000000</td>\n",
       "      <td>67.000000</td>\n",
       "      <td>2021.000000</td>\n",
       "      <td>16.000000</td>\n",
       "      <td>36.000000</td>\n",
       "      <td>15.000000</td>\n",
       "      <td>224.209000</td>\n",
       "      <td>5.884478e+06</td>\n",
       "    </tr>\n",
       "    <tr>\n",
       "      <th>max</th>\n",
       "      <td>99.000000</td>\n",
       "      <td>20.000000</td>\n",
       "      <td>27.000000</td>\n",
       "      <td>20.000000</td>\n",
       "      <td>87.000000</td>\n",
       "      <td>2021.000000</td>\n",
       "      <td>22.000000</td>\n",
       "      <td>85.000000</td>\n",
       "      <td>20.000000</td>\n",
       "      <td>255.014000</td>\n",
       "      <td>1.081032e+07</td>\n",
       "    </tr>\n",
       "  </tbody>\n",
       "</table>\n",
       "</div>"
      ],
      "text/plain": [
       "            number     position       points         grid         laps  \\\n",
       "count  6625.000000  6605.000000  1599.000000  1599.000000  1599.000000   \n",
       "mean     28.059925    10.479485     5.065979    10.151345    54.482802   \n",
       "std      25.708990     5.756997     7.217079     5.819209    17.902728   \n",
       "min       2.000000     1.000000     0.000000     0.000000     0.000000   \n",
       "25%       8.000000     5.000000     0.000000     5.000000    52.000000   \n",
       "50%      18.000000    10.000000     1.000000    10.000000    56.000000   \n",
       "75%      44.000000    15.000000     8.000000    15.000000    67.000000   \n",
       "max      99.000000    20.000000    27.000000    20.000000    87.000000   \n",
       "\n",
       "              year     gpNumber  fastestLapNumber  fastestLapRank  \\\n",
       "count  6625.000000  6625.000000       4915.000000     4915.000000   \n",
       "mean   2019.506113    10.544906         23.241506       10.382299   \n",
       "std       1.147093     5.960681         18.519107        5.711499   \n",
       "min    2018.000000     1.000000          2.000000        1.000000   \n",
       "25%    2018.000000     5.000000         10.000000        5.000000   \n",
       "50%    2019.000000    10.000000         14.000000       10.000000   \n",
       "75%    2021.000000    16.000000         36.000000       15.000000   \n",
       "max    2021.000000    22.000000         85.000000       20.000000   \n",
       "\n",
       "       fastestLapAvgSpeed     totalTime  \n",
       "count         1526.000000  7.840000e+02  \n",
       "mean           210.311455  5.668426e+06  \n",
       "std             19.500750  1.275282e+06  \n",
       "min            140.802000  2.070710e+05  \n",
       "25%            200.244500  5.280748e+06  \n",
       "50%            209.825500  5.591682e+06  \n",
       "75%            224.209000  5.884478e+06  \n",
       "max            255.014000  1.081032e+07  "
      ]
     },
     "execution_count": 5,
     "metadata": {},
     "output_type": "execute_result"
    }
   ],
   "source": [
    "data.describe()"
   ]
  },
  {
   "cell_type": "markdown",
   "metadata": {},
   "source": [
    "## Spliting the data into the practice, the race and qualifying "
   ]
  },
  {
   "cell_type": "markdown",
   "metadata": {},
   "source": [
    " The goal of this step is to be able to merge the data to obtain a good data structure for processing"
   ]
  },
  {
   "cell_type": "code",
   "execution_count": 6,
   "metadata": {},
   "outputs": [],
   "source": [
    "df_race = data[data['sessionName'] == 'Race']"
   ]
  },
  {
   "cell_type": "code",
   "execution_count": 7,
   "metadata": {},
   "outputs": [],
   "source": [
    "df_practice1 = data[data['sessionName'] == 'Practice 1'][['fastestLapRank','fastestLapTime','year','gpName','driverId']]"
   ]
  },
  {
   "cell_type": "code",
   "execution_count": 8,
   "metadata": {},
   "outputs": [],
   "source": [
    "df_practice2 = data[data['sessionName'] == 'Practice 2'][['fastestLapRank','fastestLapTime','year','gpName','driverId']]"
   ]
  },
  {
   "cell_type": "code",
   "execution_count": 9,
   "metadata": {},
   "outputs": [],
   "source": [
    "df_practice3 = data[data['sessionName'] == 'Practice 3'][['fastestLapRank','fastestLapTime','year','gpName','driverId']]"
   ]
  },
  {
   "cell_type": "code",
   "execution_count": 10,
   "metadata": {},
   "outputs": [],
   "source": [
    "df_practice1 = df_practice1.rename(columns={\"fastestLapRank\": \"fastestLapRankP1\",\"fastestLapTime\": \"fastestLapTimeP1\"})\n",
    "df_practice2 = df_practice2.rename(columns={\"fastestLapRank\": \"fastestLapRankP2\",\"fastestLapTime\": \"fastestLapTimeP2\"})\n",
    "df_practice3 = df_practice3.rename(columns={\"fastestLapRank\": \"fastestLapRankP3\",\"fastestLapTime\": \"fastestLapTimeP3\"})"
   ]
  },
  {
   "cell_type": "code",
   "execution_count": 11,
   "metadata": {},
   "outputs": [],
   "source": [
    "df_quali = data[data['sessionName'] == 'Qualifying'][['Q1','Q2','Q3','year','gpName','driverId']]"
   ]
  },
  {
   "cell_type": "markdown",
   "metadata": {},
   "source": [
    "#### Data manipulation on race and qualifying to merge them "
   ]
  },
  {
   "cell_type": "code",
   "execution_count": 12,
   "metadata": {
    "scrolled": false
   },
   "outputs": [
    {
     "data": {
      "text/plain": [
       "number                       0\n",
       "position                    20\n",
       "Q1                        1619\n",
       "Q2                        1619\n",
       "Q3                        1619\n",
       "positionText                20\n",
       "points                      20\n",
       "grid                        20\n",
       "laps                        20\n",
       "status                      20\n",
       "year                         0\n",
       "gpName                       0\n",
       "gpNumber                     0\n",
       "sessionName                  0\n",
       "driverId                    20\n",
       "code                         0\n",
       "DriverNationality           20\n",
       "constructorId               20\n",
       "constructorNationality      20\n",
       "fastestLapNumber            93\n",
       "fastestLapRank              93\n",
       "fastestLapAvgSpeed          93\n",
       "fastestLapTime              93\n",
       "totalTime                  835\n",
       "TimeInterval               835\n",
       "dtype: int64"
      ]
     },
     "execution_count": 12,
     "metadata": {},
     "output_type": "execute_result"
    }
   ],
   "source": [
    "df_race.isna().sum()"
   ]
  },
  {
   "cell_type": "code",
   "execution_count": 13,
   "metadata": {},
   "outputs": [],
   "source": [
    "df_race = df_race.drop(['Q1','Q2','Q3'], axis=1)"
   ]
  },
  {
   "cell_type": "code",
   "execution_count": 14,
   "metadata": {},
   "outputs": [
    {
     "data": {
      "text/plain": [
       "count    7.840000e+02\n",
       "mean     5.668426e+06\n",
       "std      1.275282e+06\n",
       "min      2.070710e+05\n",
       "25%      5.280748e+06\n",
       "50%      5.591682e+06\n",
       "75%      5.884478e+06\n",
       "max      1.081032e+07\n",
       "Name: totalTime, dtype: float64"
      ]
     },
     "execution_count": 14,
     "metadata": {},
     "output_type": "execute_result"
    }
   ],
   "source": [
    "df_race['totalTime'].describe()"
   ]
  },
  {
   "cell_type": "code",
   "execution_count": 15,
   "metadata": {},
   "outputs": [],
   "source": [
    "df_race['totalTime'] = df_race['totalTime'].fillna(df_race['totalTime'].max())"
   ]
  },
  {
   "cell_type": "code",
   "execution_count": 16,
   "metadata": {
    "scrolled": true
   },
   "outputs": [
    {
     "data": {
      "text/plain": [
       "number                      0\n",
       "position                   20\n",
       "positionText               20\n",
       "points                     20\n",
       "grid                       20\n",
       "laps                       20\n",
       "status                     20\n",
       "year                        0\n",
       "gpName                      0\n",
       "gpNumber                    0\n",
       "sessionName                 0\n",
       "driverId                   20\n",
       "code                        0\n",
       "DriverNationality          20\n",
       "constructorId              20\n",
       "constructorNationality     20\n",
       "fastestLapNumber           93\n",
       "fastestLapRank             93\n",
       "fastestLapAvgSpeed         93\n",
       "fastestLapTime             93\n",
       "totalTime                   0\n",
       "TimeInterval              835\n",
       "dtype: int64"
      ]
     },
     "execution_count": 16,
     "metadata": {},
     "output_type": "execute_result"
    }
   ],
   "source": [
    "df_race.isna().sum()"
   ]
  },
  {
   "cell_type": "markdown",
   "metadata": {},
   "source": [
    "first step of our data creation, the race is combined to the qualifying for each drivers "
   ]
  },
  {
   "cell_type": "code",
   "execution_count": 17,
   "metadata": {},
   "outputs": [],
   "source": [
    "race_quali = pd.merge(df_race, df_quali, how=\"left\", on=['year','gpName','driverId'])"
   ]
  },
  {
   "cell_type": "code",
   "execution_count": 18,
   "metadata": {},
   "outputs": [
    {
     "data": {
      "text/plain": [
       "(1619, 25)"
      ]
     },
     "execution_count": 18,
     "metadata": {},
     "output_type": "execute_result"
    }
   ],
   "source": [
    "race_quali.shape "
   ]
  },
  {
   "cell_type": "code",
   "execution_count": 19,
   "metadata": {},
   "outputs": [
    {
     "data": {
      "text/plain": [
       "Index(['number', 'position', 'positionText', 'points', 'grid', 'laps',\n",
       "       'status', 'year', 'gpName', 'gpNumber', 'sessionName', 'driverId',\n",
       "       'code', 'DriverNationality', 'constructorId', 'constructorNationality',\n",
       "       'fastestLapNumber', 'fastestLapRank', 'fastestLapAvgSpeed',\n",
       "       'fastestLapTime', 'totalTime', 'TimeInterval', 'Q1', 'Q2', 'Q3'],\n",
       "      dtype='object')"
      ]
     },
     "execution_count": 19,
     "metadata": {},
     "output_type": "execute_result"
    }
   ],
   "source": [
    "race_quali.columns"
   ]
  },
  {
   "cell_type": "markdown",
   "metadata": {},
   "source": [
    "Second step is to combined the practices data with "
   ]
  },
  {
   "cell_type": "code",
   "execution_count": 20,
   "metadata": {},
   "outputs": [],
   "source": [
    "race_quali_1 = pd.merge(race_quali, df_practice1, how=\"left\", on=['year','gpName','driverId'])"
   ]
  },
  {
   "cell_type": "code",
   "execution_count": 21,
   "metadata": {},
   "outputs": [],
   "source": [
    "race_quali_12 = pd.merge(race_quali_1, df_practice2, how=\"left\", on=['year','gpName','driverId'])"
   ]
  },
  {
   "cell_type": "code",
   "execution_count": 22,
   "metadata": {},
   "outputs": [],
   "source": [
    "data_complete = pd.merge(race_quali_12, df_practice3, how=\"left\", on=['year','gpName','driverId'])"
   ]
  },
  {
   "cell_type": "code",
   "execution_count": 23,
   "metadata": {},
   "outputs": [
    {
     "data": {
      "text/plain": [
       "Index(['number', 'position', 'positionText', 'points', 'grid', 'laps',\n",
       "       'status', 'year', 'gpName', 'gpNumber', 'sessionName', 'driverId',\n",
       "       'code', 'DriverNationality', 'constructorId', 'constructorNationality',\n",
       "       'fastestLapNumber', 'fastestLapRank', 'fastestLapAvgSpeed',\n",
       "       'fastestLapTime', 'totalTime', 'TimeInterval', 'Q1', 'Q2', 'Q3',\n",
       "       'fastestLapRankP1', 'fastestLapTimeP1', 'fastestLapRankP2',\n",
       "       'fastestLapTimeP2', 'fastestLapRankP3', 'fastestLapTimeP3'],\n",
       "      dtype='object')"
      ]
     },
     "execution_count": 23,
     "metadata": {},
     "output_type": "execute_result"
    }
   ],
   "source": [
    "data_complete.columns"
   ]
  },
  {
   "cell_type": "code",
   "execution_count": 24,
   "metadata": {},
   "outputs": [
    {
     "data": {
      "text/plain": [
       "(1619, 31)"
      ]
     },
     "execution_count": 24,
     "metadata": {},
     "output_type": "execute_result"
    }
   ],
   "source": [
    "data_complete.shape"
   ]
  },
  {
   "cell_type": "markdown",
   "metadata": {},
   "source": [
    "We have now finaly a data that represent the entire week end (Grand prix) for a driver "
   ]
  },
  {
   "cell_type": "markdown",
   "metadata": {},
   "source": [
    "# Now we have to make the data suitable for the predictions  "
   ]
  },
  {
   "cell_type": "markdown",
   "metadata": {},
   "source": [
    "We want to predict the position of a driver before the race but after the practices sessions and the qualifying. \n",
    "To do so we have to predict the variable \" Position \". \n",
    "To avoid biased predictions, we have to drop the variables that are calculated after the race.\n",
    "We will also drop the variables that are representing the same information ( number, code, driverID represente the same information)."
   ]
  },
  {
   "cell_type": "code",
   "execution_count": 25,
   "metadata": {},
   "outputs": [],
   "source": [
    "df_pred_postion = data_complete.drop(['positionText','points','laps','status','fastestLapNumber', 'fastestLapRank', 'fastestLapAvgSpeed',\n",
    "       'fastestLapTime', 'totalTime', 'TimeInterval','code','number','sessionName'], axis=1)"
   ]
  },
  {
   "cell_type": "code",
   "execution_count": 26,
   "metadata": {},
   "outputs": [
    {
     "data": {
      "text/plain": [
       "(1619, 18)"
      ]
     },
     "execution_count": 26,
     "metadata": {},
     "output_type": "execute_result"
    }
   ],
   "source": [
    "df_pred_postion.shape"
   ]
  },
  {
   "cell_type": "code",
   "execution_count": 27,
   "metadata": {},
   "outputs": [
    {
     "data": {
      "text/plain": [
       "position                   20\n",
       "grid                       20\n",
       "year                        0\n",
       "gpName                      0\n",
       "gpNumber                    0\n",
       "driverId                   20\n",
       "DriverNationality          20\n",
       "constructorId              20\n",
       "constructorNationality     20\n",
       "Q1                         46\n",
       "Q2                        449\n",
       "Q3                        838\n",
       "fastestLapRankP1          900\n",
       "fastestLapTimeP1          900\n",
       "fastestLapRankP2          227\n",
       "fastestLapTimeP2          227\n",
       "fastestLapRankP3          401\n",
       "fastestLapTimeP3          401\n",
       "dtype: int64"
      ]
     },
     "execution_count": 27,
     "metadata": {},
     "output_type": "execute_result"
    }
   ],
   "source": [
    "df_pred_postion.isna().sum()"
   ]
  },
  {
   "cell_type": "markdown",
   "metadata": {},
   "source": [
    "## Dealing with NaN values and conversion"
   ]
  },
  {
   "cell_type": "code",
   "execution_count": 28,
   "metadata": {},
   "outputs": [
    {
     "data": {
      "text/plain": [
       "count                       1218\n",
       "unique                      1202\n",
       "top       0 days 00:01:32.047000\n",
       "freq                           2\n",
       "Name: fastestLapTimeP3, dtype: object"
      ]
     },
     "execution_count": 28,
     "metadata": {},
     "output_type": "execute_result"
    }
   ],
   "source": [
    "df_pred_postion['fastestLapTimeP3'].describe()"
   ]
  },
  {
   "cell_type": "code",
   "execution_count": 29,
   "metadata": {},
   "outputs": [],
   "source": [
    "def timeStrToInt(df,columnName):\n",
    "    l = []\n",
    "    is_na = df[columnName].isna()\n",
    "    for i in range(len(df[columnName])):\n",
    "        is_nai = is_na[i]\n",
    "        if  is_nai == False :\n",
    "            value = df[columnName][i]\n",
    "            if type(value) == np.int64:\n",
    "                l.append(value)\n",
    "            else:\n",
    "                a = value.split(':')\n",
    "                b = list(map(float,a[1:]))\n",
    "                l.append(int((b[0]*60*1000 + b[1])*1000))\n",
    "        else:\n",
    "            l.append(120004382)\n",
    "    df[columnName] = l"
   ]
  },
  {
   "cell_type": "code",
   "execution_count": 30,
   "metadata": {},
   "outputs": [],
   "source": [
    "timeStrToInt(df_pred_postion,'fastestLapTimeP1')\n",
    "timeStrToInt(df_pred_postion,'fastestLapTimeP2')\n",
    "timeStrToInt(df_pred_postion,'fastestLapTimeP3')"
   ]
  },
  {
   "cell_type": "code",
   "execution_count": 31,
   "metadata": {},
   "outputs": [
    {
     "data": {
      "text/plain": [
       "count    1.619000e+03\n",
       "mean     9.259106e+07\n",
       "std      3.140976e+07\n",
       "min      1.794000e+03\n",
       "25%      6.003021e+07\n",
       "50%      1.200044e+08\n",
       "75%      1.200044e+08\n",
       "max      1.200044e+08\n",
       "Name: fastestLapTimeP1, dtype: float64"
      ]
     },
     "execution_count": 31,
     "metadata": {},
     "output_type": "execute_result"
    }
   ],
   "source": [
    "df_pred_postion['fastestLapTimeP1'].describe()"
   ]
  },
  {
   "cell_type": "code",
   "execution_count": 32,
   "metadata": {
    "scrolled": true
   },
   "outputs": [
    {
     "data": {
      "text/plain": [
       "position                   20\n",
       "grid                       20\n",
       "year                        0\n",
       "gpName                      0\n",
       "gpNumber                    0\n",
       "driverId                   20\n",
       "DriverNationality          20\n",
       "constructorId              20\n",
       "constructorNationality     20\n",
       "Q1                         46\n",
       "Q2                        449\n",
       "Q3                        838\n",
       "fastestLapRankP1          900\n",
       "fastestLapTimeP1            0\n",
       "fastestLapRankP2          227\n",
       "fastestLapTimeP2            0\n",
       "fastestLapRankP3          401\n",
       "fastestLapTimeP3            0\n",
       "dtype: int64"
      ]
     },
     "execution_count": 32,
     "metadata": {},
     "output_type": "execute_result"
    }
   ],
   "source": [
    "df_pred_postion.isna().sum()"
   ]
  },
  {
   "cell_type": "markdown",
   "metadata": {},
   "source": [
    "Q1 Q2 and Q3 must have normaly NaN values, because the drivers are qualified or not to the next Q.\n",
    "In order to deal with that, we'll put the time of the precedent Q in the one missing."
   ]
  },
  {
   "cell_type": "code",
   "execution_count": 33,
   "metadata": {
    "scrolled": true
   },
   "outputs": [
    {
     "data": {
      "text/html": [
       "<div>\n",
       "<style scoped>\n",
       "    .dataframe tbody tr th:only-of-type {\n",
       "        vertical-align: middle;\n",
       "    }\n",
       "\n",
       "    .dataframe tbody tr th {\n",
       "        vertical-align: top;\n",
       "    }\n",
       "\n",
       "    .dataframe thead th {\n",
       "        text-align: right;\n",
       "    }\n",
       "</style>\n",
       "<table border=\"1\" class=\"dataframe\">\n",
       "  <thead>\n",
       "    <tr style=\"text-align: right;\">\n",
       "      <th></th>\n",
       "      <th>position</th>\n",
       "      <th>grid</th>\n",
       "      <th>year</th>\n",
       "      <th>gpName</th>\n",
       "      <th>gpNumber</th>\n",
       "      <th>driverId</th>\n",
       "      <th>DriverNationality</th>\n",
       "      <th>constructorId</th>\n",
       "      <th>constructorNationality</th>\n",
       "      <th>Q1</th>\n",
       "      <th>Q2</th>\n",
       "      <th>Q3</th>\n",
       "      <th>fastestLapRankP1</th>\n",
       "      <th>fastestLapTimeP1</th>\n",
       "      <th>fastestLapRankP2</th>\n",
       "      <th>fastestLapTimeP2</th>\n",
       "      <th>fastestLapRankP3</th>\n",
       "      <th>fastestLapTimeP3</th>\n",
       "    </tr>\n",
       "  </thead>\n",
       "  <tbody>\n",
       "    <tr>\n",
       "      <th>74</th>\n",
       "      <td>15.0</td>\n",
       "      <td>20.0</td>\n",
       "      <td>2018</td>\n",
       "      <td>Azerbaijan Grand Prix</td>\n",
       "      <td>4</td>\n",
       "      <td>grosjean</td>\n",
       "      <td>French</td>\n",
       "      <td>haas</td>\n",
       "      <td>American</td>\n",
       "      <td>NaN</td>\n",
       "      <td>NaN</td>\n",
       "      <td>NaN</td>\n",
       "      <td>14.0</td>\n",
       "      <td>60046856</td>\n",
       "      <td>13.0</td>\n",
       "      <td>60044425</td>\n",
       "      <td>15.0</td>\n",
       "      <td>60045261</td>\n",
       "    </tr>\n",
       "    <tr>\n",
       "      <th>91</th>\n",
       "      <td>12.0</td>\n",
       "      <td>20.0</td>\n",
       "      <td>2018</td>\n",
       "      <td>Spanish Grand Prix</td>\n",
       "      <td>5</td>\n",
       "      <td>brendon_hartley</td>\n",
       "      <td>New Zealander</td>\n",
       "      <td>toro_rosso</td>\n",
       "      <td>Italian</td>\n",
       "      <td>NaN</td>\n",
       "      <td>NaN</td>\n",
       "      <td>NaN</td>\n",
       "      <td>NaN</td>\n",
       "      <td>120004382</td>\n",
       "      <td>18.0</td>\n",
       "      <td>60021265</td>\n",
       "      <td>17.0</td>\n",
       "      <td>60019428</td>\n",
       "    </tr>\n",
       "    <tr>\n",
       "      <th>108</th>\n",
       "      <td>9.0</td>\n",
       "      <td>20.0</td>\n",
       "      <td>2018</td>\n",
       "      <td>Monaco Grand Prix</td>\n",
       "      <td>6</td>\n",
       "      <td>max_verstappen</td>\n",
       "      <td>Dutch</td>\n",
       "      <td>red_bull</td>\n",
       "      <td>Austrian</td>\n",
       "      <td>NaN</td>\n",
       "      <td>NaN</td>\n",
       "      <td>NaN</td>\n",
       "      <td>3.0</td>\n",
       "      <td>60012280</td>\n",
       "      <td>2.0</td>\n",
       "      <td>60012035</td>\n",
       "      <td>2.0</td>\n",
       "      <td>60011787</td>\n",
       "    </tr>\n",
       "    <tr>\n",
       "      <th>131</th>\n",
       "      <td>12.0</td>\n",
       "      <td>20.0</td>\n",
       "      <td>2018</td>\n",
       "      <td>Canadian Grand Prix</td>\n",
       "      <td>7</td>\n",
       "      <td>grosjean</td>\n",
       "      <td>French</td>\n",
       "      <td>haas</td>\n",
       "      <td>American</td>\n",
       "      <td>NaN</td>\n",
       "      <td>NaN</td>\n",
       "      <td>NaN</td>\n",
       "      <td>NaN</td>\n",
       "      <td>120004382</td>\n",
       "      <td>7.0</td>\n",
       "      <td>60013620</td>\n",
       "      <td>9.0</td>\n",
       "      <td>60013014</td>\n",
       "    </tr>\n",
       "    <tr>\n",
       "      <th>191</th>\n",
       "      <td>12.0</td>\n",
       "      <td>19.0</td>\n",
       "      <td>2018</td>\n",
       "      <td>British Grand Prix</td>\n",
       "      <td>10</td>\n",
       "      <td>stroll</td>\n",
       "      <td>Canadian</td>\n",
       "      <td>williams</td>\n",
       "      <td>British</td>\n",
       "      <td>NaN</td>\n",
       "      <td>NaN</td>\n",
       "      <td>NaN</td>\n",
       "      <td>10.0</td>\n",
       "      <td>60029878</td>\n",
       "      <td>NaN</td>\n",
       "      <td>120004382</td>\n",
       "      <td>NaN</td>\n",
       "      <td>120004382</td>\n",
       "    </tr>\n",
       "    <tr>\n",
       "      <th>199</th>\n",
       "      <td>20.0</td>\n",
       "      <td>0.0</td>\n",
       "      <td>2018</td>\n",
       "      <td>British Grand Prix</td>\n",
       "      <td>10</td>\n",
       "      <td>brendon_hartley</td>\n",
       "      <td>New Zealander</td>\n",
       "      <td>toro_rosso</td>\n",
       "      <td>Italian</td>\n",
       "      <td>NaN</td>\n",
       "      <td>NaN</td>\n",
       "      <td>NaN</td>\n",
       "      <td>19.0</td>\n",
       "      <td>60030749</td>\n",
       "      <td>NaN</td>\n",
       "      <td>120004382</td>\n",
       "      <td>NaN</td>\n",
       "      <td>120004382</td>\n",
       "    </tr>\n",
       "    <tr>\n",
       "      <th>469</th>\n",
       "      <td>10.0</td>\n",
       "      <td>0.0</td>\n",
       "      <td>2019</td>\n",
       "      <td>Chinese Grand Prix</td>\n",
       "      <td>3</td>\n",
       "      <td>albon</td>\n",
       "      <td>Thai</td>\n",
       "      <td>toro_rosso</td>\n",
       "      <td>Italian</td>\n",
       "      <td>NaN</td>\n",
       "      <td>NaN</td>\n",
       "      <td>NaN</td>\n",
       "      <td>NaN</td>\n",
       "      <td>120004382</td>\n",
       "      <td>12.0</td>\n",
       "      <td>60034634</td>\n",
       "      <td>9.0</td>\n",
       "      <td>60034600</td>\n",
       "    </tr>\n",
       "    <tr>\n",
       "      <th>474</th>\n",
       "      <td>15.0</td>\n",
       "      <td>19.0</td>\n",
       "      <td>2019</td>\n",
       "      <td>Chinese Grand Prix</td>\n",
       "      <td>3</td>\n",
       "      <td>giovinazzi</td>\n",
       "      <td>Italian</td>\n",
       "      <td>alfa</td>\n",
       "      <td>Swiss</td>\n",
       "      <td>NaN</td>\n",
       "      <td>NaN</td>\n",
       "      <td>NaN</td>\n",
       "      <td>NaN</td>\n",
       "      <td>120004382</td>\n",
       "      <td>18.0</td>\n",
       "      <td>60035914</td>\n",
       "      <td>16.0</td>\n",
       "      <td>60035726</td>\n",
       "    </tr>\n",
       "    <tr>\n",
       "      <th>489</th>\n",
       "      <td>10.0</td>\n",
       "      <td>0.0</td>\n",
       "      <td>2019</td>\n",
       "      <td>Azerbaijan Grand Prix</td>\n",
       "      <td>4</td>\n",
       "      <td>raikkonen</td>\n",
       "      <td>Finnish</td>\n",
       "      <td>alfa</td>\n",
       "      <td>Swiss</td>\n",
       "      <td>NaN</td>\n",
       "      <td>NaN</td>\n",
       "      <td>NaN</td>\n",
       "      <td>NaN</td>\n",
       "      <td>120004382</td>\n",
       "      <td>14.0</td>\n",
       "      <td>60045482</td>\n",
       "      <td>10.0</td>\n",
       "      <td>60043537</td>\n",
       "    </tr>\n",
       "    <tr>\n",
       "      <th>496</th>\n",
       "      <td>17.0</td>\n",
       "      <td>0.0</td>\n",
       "      <td>2019</td>\n",
       "      <td>Azerbaijan Grand Prix</td>\n",
       "      <td>4</td>\n",
       "      <td>gasly</td>\n",
       "      <td>French</td>\n",
       "      <td>red_bull</td>\n",
       "      <td>Austrian</td>\n",
       "      <td>NaN</td>\n",
       "      <td>NaN</td>\n",
       "      <td>NaN</td>\n",
       "      <td>NaN</td>\n",
       "      <td>120004382</td>\n",
       "      <td>9.0</td>\n",
       "      <td>60044240</td>\n",
       "      <td>20.0</td>\n",
       "      <td>60047836</td>\n",
       "    </tr>\n",
       "    <tr>\n",
       "      <th>621</th>\n",
       "      <td>2.0</td>\n",
       "      <td>20.0</td>\n",
       "      <td>2019</td>\n",
       "      <td>German Grand Prix</td>\n",
       "      <td>11</td>\n",
       "      <td>vettel</td>\n",
       "      <td>German</td>\n",
       "      <td>ferrari</td>\n",
       "      <td>Italian</td>\n",
       "      <td>NaN</td>\n",
       "      <td>NaN</td>\n",
       "      <td>NaN</td>\n",
       "      <td>1.0</td>\n",
       "      <td>60014013</td>\n",
       "      <td>2.0</td>\n",
       "      <td>60013573</td>\n",
       "      <td>3.0</td>\n",
       "      <td>60012644</td>\n",
       "    </tr>\n",
       "    <tr>\n",
       "      <th>676</th>\n",
       "      <td>17.0</td>\n",
       "      <td>0.0</td>\n",
       "      <td>2019</td>\n",
       "      <td>Belgian Grand Prix</td>\n",
       "      <td>13</td>\n",
       "      <td>kubica</td>\n",
       "      <td>Polish</td>\n",
       "      <td>williams</td>\n",
       "      <td>British</td>\n",
       "      <td>NaN</td>\n",
       "      <td>NaN</td>\n",
       "      <td>NaN</td>\n",
       "      <td>NaN</td>\n",
       "      <td>120004382</td>\n",
       "      <td>20.0</td>\n",
       "      <td>60048331</td>\n",
       "      <td>19.0</td>\n",
       "      <td>60048350</td>\n",
       "    </tr>\n",
       "    <tr>\n",
       "      <th>687</th>\n",
       "      <td>8.0</td>\n",
       "      <td>19.0</td>\n",
       "      <td>2019</td>\n",
       "      <td>Italian Grand Prix</td>\n",
       "      <td>14</td>\n",
       "      <td>max_verstappen</td>\n",
       "      <td>Dutch</td>\n",
       "      <td>red_bull</td>\n",
       "      <td>Austrian</td>\n",
       "      <td>NaN</td>\n",
       "      <td>NaN</td>\n",
       "      <td>NaN</td>\n",
       "      <td>NaN</td>\n",
       "      <td>120004382</td>\n",
       "      <td>5.0</td>\n",
       "      <td>60021350</td>\n",
       "      <td>2.0</td>\n",
       "      <td>60020326</td>\n",
       "    </tr>\n",
       "    <tr>\n",
       "      <th>713</th>\n",
       "      <td>14.0</td>\n",
       "      <td>20.0</td>\n",
       "      <td>2019</td>\n",
       "      <td>Singapore Grand Prix</td>\n",
       "      <td>15</td>\n",
       "      <td>ricciardo</td>\n",
       "      <td>Australian</td>\n",
       "      <td>renault</td>\n",
       "      <td>French</td>\n",
       "      <td>NaN</td>\n",
       "      <td>NaN</td>\n",
       "      <td>NaN</td>\n",
       "      <td>11.0</td>\n",
       "      <td>60042527</td>\n",
       "      <td>12.0</td>\n",
       "      <td>60040811</td>\n",
       "      <td>10.0</td>\n",
       "      <td>60040153</td>\n",
       "    </tr>\n",
       "    <tr>\n",
       "      <th>754</th>\n",
       "      <td>15.0</td>\n",
       "      <td>19.0</td>\n",
       "      <td>2019</td>\n",
       "      <td>Japanese Grand Prix</td>\n",
       "      <td>17</td>\n",
       "      <td>kevin_magnussen</td>\n",
       "      <td>Danish</td>\n",
       "      <td>haas</td>\n",
       "      <td>American</td>\n",
       "      <td>NaN</td>\n",
       "      <td>NaN</td>\n",
       "      <td>NaN</td>\n",
       "      <td>NaN</td>\n",
       "      <td>120004382</td>\n",
       "      <td>16.0</td>\n",
       "      <td>60029749</td>\n",
       "      <td>NaN</td>\n",
       "      <td>120004382</td>\n",
       "    </tr>\n",
       "    <tr>\n",
       "      <th>756</th>\n",
       "      <td>17.0</td>\n",
       "      <td>0.0</td>\n",
       "      <td>2019</td>\n",
       "      <td>Japanese Grand Prix</td>\n",
       "      <td>17</td>\n",
       "      <td>kubica</td>\n",
       "      <td>Polish</td>\n",
       "      <td>williams</td>\n",
       "      <td>British</td>\n",
       "      <td>NaN</td>\n",
       "      <td>NaN</td>\n",
       "      <td>NaN</td>\n",
       "      <td>NaN</td>\n",
       "      <td>120004382</td>\n",
       "      <td>19.0</td>\n",
       "      <td>60030916</td>\n",
       "      <td>NaN</td>\n",
       "      <td>120004382</td>\n",
       "    </tr>\n",
       "    <tr>\n",
       "      <th>802</th>\n",
       "      <td>3.0</td>\n",
       "      <td>20.0</td>\n",
       "      <td>2019</td>\n",
       "      <td>Brazilian Grand Prix</td>\n",
       "      <td>20</td>\n",
       "      <td>sainz</td>\n",
       "      <td>Spanish</td>\n",
       "      <td>mclaren</td>\n",
       "      <td>British</td>\n",
       "      <td>NaN</td>\n",
       "      <td>NaN</td>\n",
       "      <td>NaN</td>\n",
       "      <td>NaN</td>\n",
       "      <td>120004382</td>\n",
       "      <td>NaN</td>\n",
       "      <td>120004382</td>\n",
       "      <td>10.0</td>\n",
       "      <td>60009588</td>\n",
       "    </tr>\n",
       "    <tr>\n",
       "      <th>872</th>\n",
       "      <td>13.0</td>\n",
       "      <td>0.0</td>\n",
       "      <td>2020</td>\n",
       "      <td>Styrian Grand Prix</td>\n",
       "      <td>2</td>\n",
       "      <td>grosjean</td>\n",
       "      <td>French</td>\n",
       "      <td>haas</td>\n",
       "      <td>American</td>\n",
       "      <td>NaN</td>\n",
       "      <td>NaN</td>\n",
       "      <td>NaN</td>\n",
       "      <td>NaN</td>\n",
       "      <td>120004382</td>\n",
       "      <td>NaN</td>\n",
       "      <td>120004382</td>\n",
       "      <td>NaN</td>\n",
       "      <td>120004382</td>\n",
       "    </tr>\n",
       "    <tr>\n",
       "      <th>1211</th>\n",
       "      <td>12.0</td>\n",
       "      <td>20.0</td>\n",
       "      <td>2021</td>\n",
       "      <td>Emilia Romagna Grand Prix</td>\n",
       "      <td>2</td>\n",
       "      <td>tsunoda</td>\n",
       "      <td>Japanese</td>\n",
       "      <td>alphatauri</td>\n",
       "      <td>Italian</td>\n",
       "      <td>NaN</td>\n",
       "      <td>NaN</td>\n",
       "      <td>NaN</td>\n",
       "      <td>NaN</td>\n",
       "      <td>120004382</td>\n",
       "      <td>7.0</td>\n",
       "      <td>60016419</td>\n",
       "      <td>11.0</td>\n",
       "      <td>60016230</td>\n",
       "    </tr>\n",
       "    <tr>\n",
       "      <th>1277</th>\n",
       "      <td>18.0</td>\n",
       "      <td>20.0</td>\n",
       "      <td>2021</td>\n",
       "      <td>Monaco Grand Prix</td>\n",
       "      <td>5</td>\n",
       "      <td>mick_schumacher</td>\n",
       "      <td>German</td>\n",
       "      <td>haas</td>\n",
       "      <td>American</td>\n",
       "      <td>NaN</td>\n",
       "      <td>NaN</td>\n",
       "      <td>NaN</td>\n",
       "      <td>18.0</td>\n",
       "      <td>60014801</td>\n",
       "      <td>19.0</td>\n",
       "      <td>60014416</td>\n",
       "      <td>14.0</td>\n",
       "      <td>60013139</td>\n",
       "    </tr>\n",
       "    <tr>\n",
       "      <th>1290</th>\n",
       "      <td>11.0</td>\n",
       "      <td>20.0</td>\n",
       "      <td>2021</td>\n",
       "      <td>Azerbaijan Grand Prix</td>\n",
       "      <td>6</td>\n",
       "      <td>giovinazzi</td>\n",
       "      <td>Italian</td>\n",
       "      <td>alfa</td>\n",
       "      <td>Swiss</td>\n",
       "      <td>NaN</td>\n",
       "      <td>NaN</td>\n",
       "      <td>NaN</td>\n",
       "      <td>12.0</td>\n",
       "      <td>60045092</td>\n",
       "      <td>7.0</td>\n",
       "      <td>60042941</td>\n",
       "      <td>17.0</td>\n",
       "      <td>60044113</td>\n",
       "    </tr>\n",
       "    <tr>\n",
       "      <th>1298</th>\n",
       "      <td>19.0</td>\n",
       "      <td>19.0</td>\n",
       "      <td>2021</td>\n",
       "      <td>Azerbaijan Grand Prix</td>\n",
       "      <td>6</td>\n",
       "      <td>stroll</td>\n",
       "      <td>Canadian</td>\n",
       "      <td>aston_martin</td>\n",
       "      <td>British</td>\n",
       "      <td>NaN</td>\n",
       "      <td>NaN</td>\n",
       "      <td>NaN</td>\n",
       "      <td>13.0</td>\n",
       "      <td>60045234</td>\n",
       "      <td>14.0</td>\n",
       "      <td>60043812</td>\n",
       "      <td>12.0</td>\n",
       "      <td>60043682</td>\n",
       "    </tr>\n",
       "    <tr>\n",
       "      <th>1309</th>\n",
       "      <td>10.0</td>\n",
       "      <td>19.0</td>\n",
       "      <td>2021</td>\n",
       "      <td>French Grand Prix</td>\n",
       "      <td>7</td>\n",
       "      <td>stroll</td>\n",
       "      <td>Canadian</td>\n",
       "      <td>aston_martin</td>\n",
       "      <td>British</td>\n",
       "      <td>NaN</td>\n",
       "      <td>NaN</td>\n",
       "      <td>NaN</td>\n",
       "      <td>NaN</td>\n",
       "      <td>120004382</td>\n",
       "      <td>16.0</td>\n",
       "      <td>60034632</td>\n",
       "      <td>14.0</td>\n",
       "      <td>60033051</td>\n",
       "    </tr>\n",
       "    <tr>\n",
       "      <th>1312</th>\n",
       "      <td>13.0</td>\n",
       "      <td>0.0</td>\n",
       "      <td>2021</td>\n",
       "      <td>French Grand Prix</td>\n",
       "      <td>7</td>\n",
       "      <td>tsunoda</td>\n",
       "      <td>Japanese</td>\n",
       "      <td>alphatauri</td>\n",
       "      <td>Italian</td>\n",
       "      <td>NaN</td>\n",
       "      <td>NaN</td>\n",
       "      <td>NaN</td>\n",
       "      <td>NaN</td>\n",
       "      <td>120004382</td>\n",
       "      <td>13.0</td>\n",
       "      <td>60033955</td>\n",
       "      <td>12.0</td>\n",
       "      <td>60032900</td>\n",
       "    </tr>\n",
       "    <tr>\n",
       "      <th>1391</th>\n",
       "      <td>12.0</td>\n",
       "      <td>20.0</td>\n",
       "      <td>2021</td>\n",
       "      <td>Hungarian Grand Prix</td>\n",
       "      <td>11</td>\n",
       "      <td>mick_schumacher</td>\n",
       "      <td>German</td>\n",
       "      <td>haas</td>\n",
       "      <td>American</td>\n",
       "      <td>NaN</td>\n",
       "      <td>NaN</td>\n",
       "      <td>NaN</td>\n",
       "      <td>NaN</td>\n",
       "      <td>120004382</td>\n",
       "      <td>19.0</td>\n",
       "      <td>60019817</td>\n",
       "      <td>19.0</td>\n",
       "      <td>60019406</td>\n",
       "    </tr>\n",
       "    <tr>\n",
       "      <th>1461</th>\n",
       "      <td>2.0</td>\n",
       "      <td>20.0</td>\n",
       "      <td>2021</td>\n",
       "      <td>Russian Grand Prix</td>\n",
       "      <td>15</td>\n",
       "      <td>max_verstappen</td>\n",
       "      <td>Dutch</td>\n",
       "      <td>red_bull</td>\n",
       "      <td>Austrian</td>\n",
       "      <td>NaN</td>\n",
       "      <td>NaN</td>\n",
       "      <td>NaN</td>\n",
       "      <td>3.0</td>\n",
       "      <td>60034654</td>\n",
       "      <td>6.0</td>\n",
       "      <td>60034621</td>\n",
       "      <td>NaN</td>\n",
       "      <td>120004382</td>\n",
       "    </tr>\n",
       "    <tr>\n",
       "      <th>1580</th>\n",
       "      <td>NaN</td>\n",
       "      <td>NaN</td>\n",
       "      <td>2021</td>\n",
       "      <td>Saudi Arabian Grand Prix</td>\n",
       "      <td>21</td>\n",
       "      <td>NaN</td>\n",
       "      <td>NaN</td>\n",
       "      <td>NaN</td>\n",
       "      <td>NaN</td>\n",
       "      <td>NaN</td>\n",
       "      <td>NaN</td>\n",
       "      <td>NaN</td>\n",
       "      <td>NaN</td>\n",
       "      <td>120004382</td>\n",
       "      <td>NaN</td>\n",
       "      <td>120004382</td>\n",
       "      <td>NaN</td>\n",
       "      <td>120004382</td>\n",
       "    </tr>\n",
       "    <tr>\n",
       "      <th>1581</th>\n",
       "      <td>NaN</td>\n",
       "      <td>NaN</td>\n",
       "      <td>2021</td>\n",
       "      <td>Saudi Arabian Grand Prix</td>\n",
       "      <td>21</td>\n",
       "      <td>NaN</td>\n",
       "      <td>NaN</td>\n",
       "      <td>NaN</td>\n",
       "      <td>NaN</td>\n",
       "      <td>NaN</td>\n",
       "      <td>NaN</td>\n",
       "      <td>NaN</td>\n",
       "      <td>NaN</td>\n",
       "      <td>120004382</td>\n",
       "      <td>NaN</td>\n",
       "      <td>120004382</td>\n",
       "      <td>NaN</td>\n",
       "      <td>120004382</td>\n",
       "    </tr>\n",
       "    <tr>\n",
       "      <th>1582</th>\n",
       "      <td>NaN</td>\n",
       "      <td>NaN</td>\n",
       "      <td>2021</td>\n",
       "      <td>Saudi Arabian Grand Prix</td>\n",
       "      <td>21</td>\n",
       "      <td>NaN</td>\n",
       "      <td>NaN</td>\n",
       "      <td>NaN</td>\n",
       "      <td>NaN</td>\n",
       "      <td>NaN</td>\n",
       "      <td>NaN</td>\n",
       "      <td>NaN</td>\n",
       "      <td>NaN</td>\n",
       "      <td>120004382</td>\n",
       "      <td>NaN</td>\n",
       "      <td>120004382</td>\n",
       "      <td>NaN</td>\n",
       "      <td>120004382</td>\n",
       "    </tr>\n",
       "    <tr>\n",
       "      <th>1583</th>\n",
       "      <td>NaN</td>\n",
       "      <td>NaN</td>\n",
       "      <td>2021</td>\n",
       "      <td>Saudi Arabian Grand Prix</td>\n",
       "      <td>21</td>\n",
       "      <td>NaN</td>\n",
       "      <td>NaN</td>\n",
       "      <td>NaN</td>\n",
       "      <td>NaN</td>\n",
       "      <td>NaN</td>\n",
       "      <td>NaN</td>\n",
       "      <td>NaN</td>\n",
       "      <td>NaN</td>\n",
       "      <td>120004382</td>\n",
       "      <td>NaN</td>\n",
       "      <td>120004382</td>\n",
       "      <td>NaN</td>\n",
       "      <td>120004382</td>\n",
       "    </tr>\n",
       "    <tr>\n",
       "      <th>1584</th>\n",
       "      <td>NaN</td>\n",
       "      <td>NaN</td>\n",
       "      <td>2021</td>\n",
       "      <td>Saudi Arabian Grand Prix</td>\n",
       "      <td>21</td>\n",
       "      <td>NaN</td>\n",
       "      <td>NaN</td>\n",
       "      <td>NaN</td>\n",
       "      <td>NaN</td>\n",
       "      <td>NaN</td>\n",
       "      <td>NaN</td>\n",
       "      <td>NaN</td>\n",
       "      <td>NaN</td>\n",
       "      <td>120004382</td>\n",
       "      <td>NaN</td>\n",
       "      <td>120004382</td>\n",
       "      <td>NaN</td>\n",
       "      <td>120004382</td>\n",
       "    </tr>\n",
       "    <tr>\n",
       "      <th>1585</th>\n",
       "      <td>NaN</td>\n",
       "      <td>NaN</td>\n",
       "      <td>2021</td>\n",
       "      <td>Saudi Arabian Grand Prix</td>\n",
       "      <td>21</td>\n",
       "      <td>NaN</td>\n",
       "      <td>NaN</td>\n",
       "      <td>NaN</td>\n",
       "      <td>NaN</td>\n",
       "      <td>NaN</td>\n",
       "      <td>NaN</td>\n",
       "      <td>NaN</td>\n",
       "      <td>NaN</td>\n",
       "      <td>120004382</td>\n",
       "      <td>NaN</td>\n",
       "      <td>120004382</td>\n",
       "      <td>NaN</td>\n",
       "      <td>120004382</td>\n",
       "    </tr>\n",
       "    <tr>\n",
       "      <th>1586</th>\n",
       "      <td>NaN</td>\n",
       "      <td>NaN</td>\n",
       "      <td>2021</td>\n",
       "      <td>Saudi Arabian Grand Prix</td>\n",
       "      <td>21</td>\n",
       "      <td>NaN</td>\n",
       "      <td>NaN</td>\n",
       "      <td>NaN</td>\n",
       "      <td>NaN</td>\n",
       "      <td>NaN</td>\n",
       "      <td>NaN</td>\n",
       "      <td>NaN</td>\n",
       "      <td>NaN</td>\n",
       "      <td>120004382</td>\n",
       "      <td>NaN</td>\n",
       "      <td>120004382</td>\n",
       "      <td>NaN</td>\n",
       "      <td>120004382</td>\n",
       "    </tr>\n",
       "    <tr>\n",
       "      <th>1587</th>\n",
       "      <td>NaN</td>\n",
       "      <td>NaN</td>\n",
       "      <td>2021</td>\n",
       "      <td>Saudi Arabian Grand Prix</td>\n",
       "      <td>21</td>\n",
       "      <td>NaN</td>\n",
       "      <td>NaN</td>\n",
       "      <td>NaN</td>\n",
       "      <td>NaN</td>\n",
       "      <td>NaN</td>\n",
       "      <td>NaN</td>\n",
       "      <td>NaN</td>\n",
       "      <td>NaN</td>\n",
       "      <td>120004382</td>\n",
       "      <td>NaN</td>\n",
       "      <td>120004382</td>\n",
       "      <td>NaN</td>\n",
       "      <td>120004382</td>\n",
       "    </tr>\n",
       "    <tr>\n",
       "      <th>1588</th>\n",
       "      <td>NaN</td>\n",
       "      <td>NaN</td>\n",
       "      <td>2021</td>\n",
       "      <td>Saudi Arabian Grand Prix</td>\n",
       "      <td>21</td>\n",
       "      <td>NaN</td>\n",
       "      <td>NaN</td>\n",
       "      <td>NaN</td>\n",
       "      <td>NaN</td>\n",
       "      <td>NaN</td>\n",
       "      <td>NaN</td>\n",
       "      <td>NaN</td>\n",
       "      <td>NaN</td>\n",
       "      <td>120004382</td>\n",
       "      <td>NaN</td>\n",
       "      <td>120004382</td>\n",
       "      <td>NaN</td>\n",
       "      <td>120004382</td>\n",
       "    </tr>\n",
       "    <tr>\n",
       "      <th>1589</th>\n",
       "      <td>NaN</td>\n",
       "      <td>NaN</td>\n",
       "      <td>2021</td>\n",
       "      <td>Saudi Arabian Grand Prix</td>\n",
       "      <td>21</td>\n",
       "      <td>NaN</td>\n",
       "      <td>NaN</td>\n",
       "      <td>NaN</td>\n",
       "      <td>NaN</td>\n",
       "      <td>NaN</td>\n",
       "      <td>NaN</td>\n",
       "      <td>NaN</td>\n",
       "      <td>NaN</td>\n",
       "      <td>120004382</td>\n",
       "      <td>NaN</td>\n",
       "      <td>120004382</td>\n",
       "      <td>NaN</td>\n",
       "      <td>120004382</td>\n",
       "    </tr>\n",
       "    <tr>\n",
       "      <th>1590</th>\n",
       "      <td>NaN</td>\n",
       "      <td>NaN</td>\n",
       "      <td>2021</td>\n",
       "      <td>Saudi Arabian Grand Prix</td>\n",
       "      <td>21</td>\n",
       "      <td>NaN</td>\n",
       "      <td>NaN</td>\n",
       "      <td>NaN</td>\n",
       "      <td>NaN</td>\n",
       "      <td>NaN</td>\n",
       "      <td>NaN</td>\n",
       "      <td>NaN</td>\n",
       "      <td>NaN</td>\n",
       "      <td>120004382</td>\n",
       "      <td>NaN</td>\n",
       "      <td>120004382</td>\n",
       "      <td>NaN</td>\n",
       "      <td>120004382</td>\n",
       "    </tr>\n",
       "    <tr>\n",
       "      <th>1591</th>\n",
       "      <td>NaN</td>\n",
       "      <td>NaN</td>\n",
       "      <td>2021</td>\n",
       "      <td>Saudi Arabian Grand Prix</td>\n",
       "      <td>21</td>\n",
       "      <td>NaN</td>\n",
       "      <td>NaN</td>\n",
       "      <td>NaN</td>\n",
       "      <td>NaN</td>\n",
       "      <td>NaN</td>\n",
       "      <td>NaN</td>\n",
       "      <td>NaN</td>\n",
       "      <td>NaN</td>\n",
       "      <td>120004382</td>\n",
       "      <td>NaN</td>\n",
       "      <td>120004382</td>\n",
       "      <td>NaN</td>\n",
       "      <td>120004382</td>\n",
       "    </tr>\n",
       "    <tr>\n",
       "      <th>1592</th>\n",
       "      <td>NaN</td>\n",
       "      <td>NaN</td>\n",
       "      <td>2021</td>\n",
       "      <td>Saudi Arabian Grand Prix</td>\n",
       "      <td>21</td>\n",
       "      <td>NaN</td>\n",
       "      <td>NaN</td>\n",
       "      <td>NaN</td>\n",
       "      <td>NaN</td>\n",
       "      <td>NaN</td>\n",
       "      <td>NaN</td>\n",
       "      <td>NaN</td>\n",
       "      <td>NaN</td>\n",
       "      <td>120004382</td>\n",
       "      <td>NaN</td>\n",
       "      <td>120004382</td>\n",
       "      <td>NaN</td>\n",
       "      <td>120004382</td>\n",
       "    </tr>\n",
       "    <tr>\n",
       "      <th>1593</th>\n",
       "      <td>NaN</td>\n",
       "      <td>NaN</td>\n",
       "      <td>2021</td>\n",
       "      <td>Saudi Arabian Grand Prix</td>\n",
       "      <td>21</td>\n",
       "      <td>NaN</td>\n",
       "      <td>NaN</td>\n",
       "      <td>NaN</td>\n",
       "      <td>NaN</td>\n",
       "      <td>NaN</td>\n",
       "      <td>NaN</td>\n",
       "      <td>NaN</td>\n",
       "      <td>NaN</td>\n",
       "      <td>120004382</td>\n",
       "      <td>NaN</td>\n",
       "      <td>120004382</td>\n",
       "      <td>NaN</td>\n",
       "      <td>120004382</td>\n",
       "    </tr>\n",
       "    <tr>\n",
       "      <th>1594</th>\n",
       "      <td>NaN</td>\n",
       "      <td>NaN</td>\n",
       "      <td>2021</td>\n",
       "      <td>Saudi Arabian Grand Prix</td>\n",
       "      <td>21</td>\n",
       "      <td>NaN</td>\n",
       "      <td>NaN</td>\n",
       "      <td>NaN</td>\n",
       "      <td>NaN</td>\n",
       "      <td>NaN</td>\n",
       "      <td>NaN</td>\n",
       "      <td>NaN</td>\n",
       "      <td>NaN</td>\n",
       "      <td>120004382</td>\n",
       "      <td>NaN</td>\n",
       "      <td>120004382</td>\n",
       "      <td>NaN</td>\n",
       "      <td>120004382</td>\n",
       "    </tr>\n",
       "    <tr>\n",
       "      <th>1595</th>\n",
       "      <td>NaN</td>\n",
       "      <td>NaN</td>\n",
       "      <td>2021</td>\n",
       "      <td>Saudi Arabian Grand Prix</td>\n",
       "      <td>21</td>\n",
       "      <td>NaN</td>\n",
       "      <td>NaN</td>\n",
       "      <td>NaN</td>\n",
       "      <td>NaN</td>\n",
       "      <td>NaN</td>\n",
       "      <td>NaN</td>\n",
       "      <td>NaN</td>\n",
       "      <td>NaN</td>\n",
       "      <td>120004382</td>\n",
       "      <td>NaN</td>\n",
       "      <td>120004382</td>\n",
       "      <td>NaN</td>\n",
       "      <td>120004382</td>\n",
       "    </tr>\n",
       "    <tr>\n",
       "      <th>1596</th>\n",
       "      <td>NaN</td>\n",
       "      <td>NaN</td>\n",
       "      <td>2021</td>\n",
       "      <td>Saudi Arabian Grand Prix</td>\n",
       "      <td>21</td>\n",
       "      <td>NaN</td>\n",
       "      <td>NaN</td>\n",
       "      <td>NaN</td>\n",
       "      <td>NaN</td>\n",
       "      <td>NaN</td>\n",
       "      <td>NaN</td>\n",
       "      <td>NaN</td>\n",
       "      <td>NaN</td>\n",
       "      <td>120004382</td>\n",
       "      <td>NaN</td>\n",
       "      <td>120004382</td>\n",
       "      <td>NaN</td>\n",
       "      <td>120004382</td>\n",
       "    </tr>\n",
       "    <tr>\n",
       "      <th>1597</th>\n",
       "      <td>NaN</td>\n",
       "      <td>NaN</td>\n",
       "      <td>2021</td>\n",
       "      <td>Saudi Arabian Grand Prix</td>\n",
       "      <td>21</td>\n",
       "      <td>NaN</td>\n",
       "      <td>NaN</td>\n",
       "      <td>NaN</td>\n",
       "      <td>NaN</td>\n",
       "      <td>NaN</td>\n",
       "      <td>NaN</td>\n",
       "      <td>NaN</td>\n",
       "      <td>NaN</td>\n",
       "      <td>120004382</td>\n",
       "      <td>NaN</td>\n",
       "      <td>120004382</td>\n",
       "      <td>NaN</td>\n",
       "      <td>120004382</td>\n",
       "    </tr>\n",
       "    <tr>\n",
       "      <th>1598</th>\n",
       "      <td>NaN</td>\n",
       "      <td>NaN</td>\n",
       "      <td>2021</td>\n",
       "      <td>Saudi Arabian Grand Prix</td>\n",
       "      <td>21</td>\n",
       "      <td>NaN</td>\n",
       "      <td>NaN</td>\n",
       "      <td>NaN</td>\n",
       "      <td>NaN</td>\n",
       "      <td>NaN</td>\n",
       "      <td>NaN</td>\n",
       "      <td>NaN</td>\n",
       "      <td>NaN</td>\n",
       "      <td>120004382</td>\n",
       "      <td>NaN</td>\n",
       "      <td>120004382</td>\n",
       "      <td>NaN</td>\n",
       "      <td>120004382</td>\n",
       "    </tr>\n",
       "    <tr>\n",
       "      <th>1599</th>\n",
       "      <td>NaN</td>\n",
       "      <td>NaN</td>\n",
       "      <td>2021</td>\n",
       "      <td>Saudi Arabian Grand Prix</td>\n",
       "      <td>21</td>\n",
       "      <td>NaN</td>\n",
       "      <td>NaN</td>\n",
       "      <td>NaN</td>\n",
       "      <td>NaN</td>\n",
       "      <td>NaN</td>\n",
       "      <td>NaN</td>\n",
       "      <td>NaN</td>\n",
       "      <td>NaN</td>\n",
       "      <td>120004382</td>\n",
       "      <td>NaN</td>\n",
       "      <td>120004382</td>\n",
       "      <td>NaN</td>\n",
       "      <td>120004382</td>\n",
       "    </tr>\n",
       "  </tbody>\n",
       "</table>\n",
       "</div>"
      ],
      "text/plain": [
       "      position  grid  year                     gpName  gpNumber  \\\n",
       "74        15.0  20.0  2018      Azerbaijan Grand Prix         4   \n",
       "91        12.0  20.0  2018         Spanish Grand Prix         5   \n",
       "108        9.0  20.0  2018          Monaco Grand Prix         6   \n",
       "131       12.0  20.0  2018        Canadian Grand Prix         7   \n",
       "191       12.0  19.0  2018         British Grand Prix        10   \n",
       "199       20.0   0.0  2018         British Grand Prix        10   \n",
       "469       10.0   0.0  2019         Chinese Grand Prix         3   \n",
       "474       15.0  19.0  2019         Chinese Grand Prix         3   \n",
       "489       10.0   0.0  2019      Azerbaijan Grand Prix         4   \n",
       "496       17.0   0.0  2019      Azerbaijan Grand Prix         4   \n",
       "621        2.0  20.0  2019          German Grand Prix        11   \n",
       "676       17.0   0.0  2019         Belgian Grand Prix        13   \n",
       "687        8.0  19.0  2019         Italian Grand Prix        14   \n",
       "713       14.0  20.0  2019       Singapore Grand Prix        15   \n",
       "754       15.0  19.0  2019        Japanese Grand Prix        17   \n",
       "756       17.0   0.0  2019        Japanese Grand Prix        17   \n",
       "802        3.0  20.0  2019       Brazilian Grand Prix        20   \n",
       "872       13.0   0.0  2020         Styrian Grand Prix         2   \n",
       "1211      12.0  20.0  2021  Emilia Romagna Grand Prix         2   \n",
       "1277      18.0  20.0  2021          Monaco Grand Prix         5   \n",
       "1290      11.0  20.0  2021      Azerbaijan Grand Prix         6   \n",
       "1298      19.0  19.0  2021      Azerbaijan Grand Prix         6   \n",
       "1309      10.0  19.0  2021          French Grand Prix         7   \n",
       "1312      13.0   0.0  2021          French Grand Prix         7   \n",
       "1391      12.0  20.0  2021       Hungarian Grand Prix        11   \n",
       "1461       2.0  20.0  2021         Russian Grand Prix        15   \n",
       "1580       NaN   NaN  2021   Saudi Arabian Grand Prix        21   \n",
       "1581       NaN   NaN  2021   Saudi Arabian Grand Prix        21   \n",
       "1582       NaN   NaN  2021   Saudi Arabian Grand Prix        21   \n",
       "1583       NaN   NaN  2021   Saudi Arabian Grand Prix        21   \n",
       "1584       NaN   NaN  2021   Saudi Arabian Grand Prix        21   \n",
       "1585       NaN   NaN  2021   Saudi Arabian Grand Prix        21   \n",
       "1586       NaN   NaN  2021   Saudi Arabian Grand Prix        21   \n",
       "1587       NaN   NaN  2021   Saudi Arabian Grand Prix        21   \n",
       "1588       NaN   NaN  2021   Saudi Arabian Grand Prix        21   \n",
       "1589       NaN   NaN  2021   Saudi Arabian Grand Prix        21   \n",
       "1590       NaN   NaN  2021   Saudi Arabian Grand Prix        21   \n",
       "1591       NaN   NaN  2021   Saudi Arabian Grand Prix        21   \n",
       "1592       NaN   NaN  2021   Saudi Arabian Grand Prix        21   \n",
       "1593       NaN   NaN  2021   Saudi Arabian Grand Prix        21   \n",
       "1594       NaN   NaN  2021   Saudi Arabian Grand Prix        21   \n",
       "1595       NaN   NaN  2021   Saudi Arabian Grand Prix        21   \n",
       "1596       NaN   NaN  2021   Saudi Arabian Grand Prix        21   \n",
       "1597       NaN   NaN  2021   Saudi Arabian Grand Prix        21   \n",
       "1598       NaN   NaN  2021   Saudi Arabian Grand Prix        21   \n",
       "1599       NaN   NaN  2021   Saudi Arabian Grand Prix        21   \n",
       "\n",
       "             driverId DriverNationality constructorId constructorNationality  \\\n",
       "74           grosjean            French          haas               American   \n",
       "91    brendon_hartley     New Zealander    toro_rosso                Italian   \n",
       "108    max_verstappen             Dutch      red_bull               Austrian   \n",
       "131          grosjean            French          haas               American   \n",
       "191            stroll          Canadian      williams                British   \n",
       "199   brendon_hartley     New Zealander    toro_rosso                Italian   \n",
       "469             albon              Thai    toro_rosso                Italian   \n",
       "474        giovinazzi           Italian          alfa                  Swiss   \n",
       "489         raikkonen           Finnish          alfa                  Swiss   \n",
       "496             gasly            French      red_bull               Austrian   \n",
       "621            vettel            German       ferrari                Italian   \n",
       "676            kubica            Polish      williams                British   \n",
       "687    max_verstappen             Dutch      red_bull               Austrian   \n",
       "713         ricciardo        Australian       renault                 French   \n",
       "754   kevin_magnussen            Danish          haas               American   \n",
       "756            kubica            Polish      williams                British   \n",
       "802             sainz           Spanish       mclaren                British   \n",
       "872          grosjean            French          haas               American   \n",
       "1211          tsunoda          Japanese    alphatauri                Italian   \n",
       "1277  mick_schumacher            German          haas               American   \n",
       "1290       giovinazzi           Italian          alfa                  Swiss   \n",
       "1298           stroll          Canadian  aston_martin                British   \n",
       "1309           stroll          Canadian  aston_martin                British   \n",
       "1312          tsunoda          Japanese    alphatauri                Italian   \n",
       "1391  mick_schumacher            German          haas               American   \n",
       "1461   max_verstappen             Dutch      red_bull               Austrian   \n",
       "1580              NaN               NaN           NaN                    NaN   \n",
       "1581              NaN               NaN           NaN                    NaN   \n",
       "1582              NaN               NaN           NaN                    NaN   \n",
       "1583              NaN               NaN           NaN                    NaN   \n",
       "1584              NaN               NaN           NaN                    NaN   \n",
       "1585              NaN               NaN           NaN                    NaN   \n",
       "1586              NaN               NaN           NaN                    NaN   \n",
       "1587              NaN               NaN           NaN                    NaN   \n",
       "1588              NaN               NaN           NaN                    NaN   \n",
       "1589              NaN               NaN           NaN                    NaN   \n",
       "1590              NaN               NaN           NaN                    NaN   \n",
       "1591              NaN               NaN           NaN                    NaN   \n",
       "1592              NaN               NaN           NaN                    NaN   \n",
       "1593              NaN               NaN           NaN                    NaN   \n",
       "1594              NaN               NaN           NaN                    NaN   \n",
       "1595              NaN               NaN           NaN                    NaN   \n",
       "1596              NaN               NaN           NaN                    NaN   \n",
       "1597              NaN               NaN           NaN                    NaN   \n",
       "1598              NaN               NaN           NaN                    NaN   \n",
       "1599              NaN               NaN           NaN                    NaN   \n",
       "\n",
       "       Q1   Q2   Q3  fastestLapRankP1  fastestLapTimeP1  fastestLapRankP2  \\\n",
       "74    NaN  NaN  NaN              14.0          60046856              13.0   \n",
       "91    NaN  NaN  NaN               NaN         120004382              18.0   \n",
       "108   NaN  NaN  NaN               3.0          60012280               2.0   \n",
       "131   NaN  NaN  NaN               NaN         120004382               7.0   \n",
       "191   NaN  NaN  NaN              10.0          60029878               NaN   \n",
       "199   NaN  NaN  NaN              19.0          60030749               NaN   \n",
       "469   NaN  NaN  NaN               NaN         120004382              12.0   \n",
       "474   NaN  NaN  NaN               NaN         120004382              18.0   \n",
       "489   NaN  NaN  NaN               NaN         120004382              14.0   \n",
       "496   NaN  NaN  NaN               NaN         120004382               9.0   \n",
       "621   NaN  NaN  NaN               1.0          60014013               2.0   \n",
       "676   NaN  NaN  NaN               NaN         120004382              20.0   \n",
       "687   NaN  NaN  NaN               NaN         120004382               5.0   \n",
       "713   NaN  NaN  NaN              11.0          60042527              12.0   \n",
       "754   NaN  NaN  NaN               NaN         120004382              16.0   \n",
       "756   NaN  NaN  NaN               NaN         120004382              19.0   \n",
       "802   NaN  NaN  NaN               NaN         120004382               NaN   \n",
       "872   NaN  NaN  NaN               NaN         120004382               NaN   \n",
       "1211  NaN  NaN  NaN               NaN         120004382               7.0   \n",
       "1277  NaN  NaN  NaN              18.0          60014801              19.0   \n",
       "1290  NaN  NaN  NaN              12.0          60045092               7.0   \n",
       "1298  NaN  NaN  NaN              13.0          60045234              14.0   \n",
       "1309  NaN  NaN  NaN               NaN         120004382              16.0   \n",
       "1312  NaN  NaN  NaN               NaN         120004382              13.0   \n",
       "1391  NaN  NaN  NaN               NaN         120004382              19.0   \n",
       "1461  NaN  NaN  NaN               3.0          60034654               6.0   \n",
       "1580  NaN  NaN  NaN               NaN         120004382               NaN   \n",
       "1581  NaN  NaN  NaN               NaN         120004382               NaN   \n",
       "1582  NaN  NaN  NaN               NaN         120004382               NaN   \n",
       "1583  NaN  NaN  NaN               NaN         120004382               NaN   \n",
       "1584  NaN  NaN  NaN               NaN         120004382               NaN   \n",
       "1585  NaN  NaN  NaN               NaN         120004382               NaN   \n",
       "1586  NaN  NaN  NaN               NaN         120004382               NaN   \n",
       "1587  NaN  NaN  NaN               NaN         120004382               NaN   \n",
       "1588  NaN  NaN  NaN               NaN         120004382               NaN   \n",
       "1589  NaN  NaN  NaN               NaN         120004382               NaN   \n",
       "1590  NaN  NaN  NaN               NaN         120004382               NaN   \n",
       "1591  NaN  NaN  NaN               NaN         120004382               NaN   \n",
       "1592  NaN  NaN  NaN               NaN         120004382               NaN   \n",
       "1593  NaN  NaN  NaN               NaN         120004382               NaN   \n",
       "1594  NaN  NaN  NaN               NaN         120004382               NaN   \n",
       "1595  NaN  NaN  NaN               NaN         120004382               NaN   \n",
       "1596  NaN  NaN  NaN               NaN         120004382               NaN   \n",
       "1597  NaN  NaN  NaN               NaN         120004382               NaN   \n",
       "1598  NaN  NaN  NaN               NaN         120004382               NaN   \n",
       "1599  NaN  NaN  NaN               NaN         120004382               NaN   \n",
       "\n",
       "      fastestLapTimeP2  fastestLapRankP3  fastestLapTimeP3  \n",
       "74            60044425              15.0          60045261  \n",
       "91            60021265              17.0          60019428  \n",
       "108           60012035               2.0          60011787  \n",
       "131           60013620               9.0          60013014  \n",
       "191          120004382               NaN         120004382  \n",
       "199          120004382               NaN         120004382  \n",
       "469           60034634               9.0          60034600  \n",
       "474           60035914              16.0          60035726  \n",
       "489           60045482              10.0          60043537  \n",
       "496           60044240              20.0          60047836  \n",
       "621           60013573               3.0          60012644  \n",
       "676           60048331              19.0          60048350  \n",
       "687           60021350               2.0          60020326  \n",
       "713           60040811              10.0          60040153  \n",
       "754           60029749               NaN         120004382  \n",
       "756           60030916               NaN         120004382  \n",
       "802          120004382              10.0          60009588  \n",
       "872          120004382               NaN         120004382  \n",
       "1211          60016419              11.0          60016230  \n",
       "1277          60014416              14.0          60013139  \n",
       "1290          60042941              17.0          60044113  \n",
       "1298          60043812              12.0          60043682  \n",
       "1309          60034632              14.0          60033051  \n",
       "1312          60033955              12.0          60032900  \n",
       "1391          60019817              19.0          60019406  \n",
       "1461          60034621               NaN         120004382  \n",
       "1580         120004382               NaN         120004382  \n",
       "1581         120004382               NaN         120004382  \n",
       "1582         120004382               NaN         120004382  \n",
       "1583         120004382               NaN         120004382  \n",
       "1584         120004382               NaN         120004382  \n",
       "1585         120004382               NaN         120004382  \n",
       "1586         120004382               NaN         120004382  \n",
       "1587         120004382               NaN         120004382  \n",
       "1588         120004382               NaN         120004382  \n",
       "1589         120004382               NaN         120004382  \n",
       "1590         120004382               NaN         120004382  \n",
       "1591         120004382               NaN         120004382  \n",
       "1592         120004382               NaN         120004382  \n",
       "1593         120004382               NaN         120004382  \n",
       "1594         120004382               NaN         120004382  \n",
       "1595         120004382               NaN         120004382  \n",
       "1596         120004382               NaN         120004382  \n",
       "1597         120004382               NaN         120004382  \n",
       "1598         120004382               NaN         120004382  \n",
       "1599         120004382               NaN         120004382  "
      ]
     },
     "execution_count": 33,
     "metadata": {},
     "output_type": "execute_result"
    }
   ],
   "source": [
    "df_pred_postion[df_pred_postion['Q1'].isna()]"
   ]
  },
  {
   "cell_type": "code",
   "execution_count": 34,
   "metadata": {},
   "outputs": [],
   "source": [
    "def timeStrToIntQ1(df):\n",
    "    l = []\n",
    "    is_na = df['Q1'].isna()\n",
    "    for i in range(len(df['Q1'])):\n",
    "        is_nai = is_na[i]\n",
    "        if  is_nai == False :\n",
    "            value = df['Q1'][i]\n",
    "            if type(value) == np.int64:\n",
    "                l.append(value)\n",
    "            else:\n",
    "                a = value.split(':')\n",
    "                b = list(map(float,a))\n",
    "                l.append(int((b[0]*60*1000 + b[1])*1000))\n",
    "        else:\n",
    "            l.append(120004382)\n",
    "    df['Q1'] = l\n",
    "\n",
    "def timeStrToIntQ2_3(df, Q_number):\n",
    "    l = []\n",
    "    Q = 'Q'+str(Q_number)\n",
    "    is_na = df[Q].isna()\n",
    "    for i in range(len(df[Q])):\n",
    "        is_nai = is_na[i]\n",
    "        if  is_nai == False :\n",
    "            value = df[Q][i]\n",
    "            if type(value) == np.int64:\n",
    "                l.append(value)\n",
    "            else:\n",
    "                a = value.split(':')\n",
    "                b = list(map(float,a))\n",
    "                l.append(int((b[0]*60*1000 + b[1])*1000))\n",
    "        else:\n",
    "            c_name = 'Q'+ str((Q_number-1))\n",
    "            l.append(df[c_name].iloc[i])\n",
    "    df[Q] = l\n"
   ]
  },
  {
   "cell_type": "code",
   "execution_count": 35,
   "metadata": {},
   "outputs": [],
   "source": [
    "timeStrToIntQ1(df_pred_postion)\n",
    "timeStrToIntQ2_3(df_pred_postion,2)\n",
    "timeStrToIntQ2_3(df_pred_postion,3)"
   ]
  },
  {
   "cell_type": "code",
   "execution_count": 36,
   "metadata": {},
   "outputs": [],
   "source": [
    "df_pred_postion = df_pred_postion.dropna(subset=['position'])"
   ]
  },
  {
   "cell_type": "markdown",
   "metadata": {},
   "source": [
    "Now we have to take care of the laps rank, because we don't have the data,\n",
    "we presume it is because the drivers did not compete \n",
    "on those practices sessions. So their ranks are after the last one possible : 21 "
   ]
  },
  {
   "cell_type": "code",
   "execution_count": 37,
   "metadata": {},
   "outputs": [],
   "source": [
    "df_pred_postion.loc[df_pred_postion.fastestLapRankP1.isna(), 'fastestLapRankP1'] = 21\n",
    "df_pred_postion.loc[df_pred_postion.fastestLapRankP2.isna(), 'fastestLapRankP2'] = 21\n",
    "df_pred_postion.loc[df_pred_postion.fastestLapRankP3.isna(), 'fastestLapRankP3'] = 21"
   ]
  },
  {
   "cell_type": "code",
   "execution_count": 38,
   "metadata": {
    "scrolled": true
   },
   "outputs": [
    {
     "data": {
      "text/plain": [
       "position                  0\n",
       "grid                      0\n",
       "year                      0\n",
       "gpName                    0\n",
       "gpNumber                  0\n",
       "driverId                  0\n",
       "DriverNationality         0\n",
       "constructorId             0\n",
       "constructorNationality    0\n",
       "Q1                        0\n",
       "Q2                        0\n",
       "Q3                        0\n",
       "fastestLapRankP1          0\n",
       "fastestLapTimeP1          0\n",
       "fastestLapRankP2          0\n",
       "fastestLapTimeP2          0\n",
       "fastestLapRankP3          0\n",
       "fastestLapTimeP3          0\n",
       "dtype: int64"
      ]
     },
     "execution_count": 38,
     "metadata": {},
     "output_type": "execute_result"
    }
   ],
   "source": [
    "df_pred_postion.isna().sum()"
   ]
  },
  {
   "cell_type": "markdown",
   "metadata": {},
   "source": [
    "we have noticed that when the driver can't do the Qualifying, it can happen that the driver will have a grid of 0\n",
    "In real life, they start the grand prix from the pit line, we'll assume that the pit line is the position 21 on the grid.\n",
    "To have logique grid data we need to have that : "
   ]
  },
  {
   "cell_type": "code",
   "execution_count": 39,
   "metadata": {},
   "outputs": [],
   "source": [
    "df_pred_postion.loc[df_pred_postion.grid == 0.0, 'grid'] = 21.0"
   ]
  },
  {
   "cell_type": "markdown",
   "metadata": {},
   "source": [
    "## data homogenization"
   ]
  },
  {
   "cell_type": "markdown",
   "metadata": {},
   "source": [
    "Now we have to change the format of some variables to make sure that the classifiers support the data "
   ]
  },
  {
   "cell_type": "code",
   "execution_count": 40,
   "metadata": {},
   "outputs": [
    {
     "data": {
      "text/plain": [
       "Index(['position', 'grid', 'year', 'gpName', 'gpNumber', 'driverId',\n",
       "       'DriverNationality', 'constructorId', 'constructorNationality', 'Q1',\n",
       "       'Q2', 'Q3', 'fastestLapRankP1', 'fastestLapTimeP1', 'fastestLapRankP2',\n",
       "       'fastestLapTimeP2', 'fastestLapRankP3', 'fastestLapTimeP3'],\n",
       "      dtype='object')"
      ]
     },
     "execution_count": 40,
     "metadata": {},
     "output_type": "execute_result"
    }
   ],
   "source": [
    "df_pred_postion.columns"
   ]
  },
  {
   "cell_type": "code",
   "execution_count": 41,
   "metadata": {},
   "outputs": [],
   "source": [
    "df_features = pd.get_dummies(df_pred_postion, columns = [ 'gpName', 'driverId',\n",
    "       'DriverNationality', 'constructorId', 'constructorNationality'])"
   ]
  },
  {
   "cell_type": "markdown",
   "metadata": {},
   "source": [
    "## Scale data "
   ]
  },
  {
   "cell_type": "code",
   "execution_count": 42,
   "metadata": {},
   "outputs": [],
   "source": [
    "from sklearn.preprocessing import MinMaxScaler"
   ]
  },
  {
   "cell_type": "code",
   "execution_count": 43,
   "metadata": {},
   "outputs": [
    {
     "data": {
      "text/html": [
       "<div>\n",
       "<style scoped>\n",
       "    .dataframe tbody tr th:only-of-type {\n",
       "        vertical-align: middle;\n",
       "    }\n",
       "\n",
       "    .dataframe tbody tr th {\n",
       "        vertical-align: top;\n",
       "    }\n",
       "\n",
       "    .dataframe thead th {\n",
       "        text-align: right;\n",
       "    }\n",
       "</style>\n",
       "<table border=\"1\" class=\"dataframe\">\n",
       "  <thead>\n",
       "    <tr style=\"text-align: right;\">\n",
       "      <th></th>\n",
       "      <th>position</th>\n",
       "      <th>grid</th>\n",
       "      <th>year</th>\n",
       "      <th>gpNumber</th>\n",
       "      <th>Q1</th>\n",
       "      <th>Q2</th>\n",
       "      <th>Q3</th>\n",
       "      <th>fastestLapRankP1</th>\n",
       "      <th>fastestLapTimeP1</th>\n",
       "      <th>fastestLapRankP2</th>\n",
       "      <th>...</th>\n",
       "      <th>constructorId_toro_rosso</th>\n",
       "      <th>constructorId_williams</th>\n",
       "      <th>constructorNationality_American</th>\n",
       "      <th>constructorNationality_Austrian</th>\n",
       "      <th>constructorNationality_British</th>\n",
       "      <th>constructorNationality_French</th>\n",
       "      <th>constructorNationality_German</th>\n",
       "      <th>constructorNationality_Indian</th>\n",
       "      <th>constructorNationality_Italian</th>\n",
       "      <th>constructorNationality_Swiss</th>\n",
       "    </tr>\n",
       "  </thead>\n",
       "  <tbody>\n",
       "    <tr>\n",
       "      <th>0</th>\n",
       "      <td>1.0</td>\n",
       "      <td>3.0</td>\n",
       "      <td>2018</td>\n",
       "      <td>1</td>\n",
       "      <td>0.499880</td>\n",
       "      <td>0.499869</td>\n",
       "      <td>0.499869</td>\n",
       "      <td>5.0</td>\n",
       "      <td>0.500183</td>\n",
       "      <td>5.0</td>\n",
       "      <td>...</td>\n",
       "      <td>0</td>\n",
       "      <td>0</td>\n",
       "      <td>0</td>\n",
       "      <td>0</td>\n",
       "      <td>0</td>\n",
       "      <td>0</td>\n",
       "      <td>0</td>\n",
       "      <td>0</td>\n",
       "      <td>1</td>\n",
       "      <td>0</td>\n",
       "    </tr>\n",
       "    <tr>\n",
       "      <th>1</th>\n",
       "      <td>2.0</td>\n",
       "      <td>1.0</td>\n",
       "      <td>2018</td>\n",
       "      <td>1</td>\n",
       "      <td>0.499876</td>\n",
       "      <td>0.499870</td>\n",
       "      <td>0.499864</td>\n",
       "      <td>1.0</td>\n",
       "      <td>0.500174</td>\n",
       "      <td>1.0</td>\n",
       "      <td>...</td>\n",
       "      <td>0</td>\n",
       "      <td>0</td>\n",
       "      <td>0</td>\n",
       "      <td>0</td>\n",
       "      <td>0</td>\n",
       "      <td>0</td>\n",
       "      <td>1</td>\n",
       "      <td>0</td>\n",
       "      <td>0</td>\n",
       "      <td>0</td>\n",
       "    </tr>\n",
       "    <tr>\n",
       "      <th>2</th>\n",
       "      <td>3.0</td>\n",
       "      <td>2.0</td>\n",
       "      <td>2018</td>\n",
       "      <td>1</td>\n",
       "      <td>0.499878</td>\n",
       "      <td>0.499874</td>\n",
       "      <td>0.499869</td>\n",
       "      <td>4.0</td>\n",
       "      <td>0.500182</td>\n",
       "      <td>4.0</td>\n",
       "      <td>...</td>\n",
       "      <td>0</td>\n",
       "      <td>0</td>\n",
       "      <td>0</td>\n",
       "      <td>0</td>\n",
       "      <td>0</td>\n",
       "      <td>0</td>\n",
       "      <td>0</td>\n",
       "      <td>0</td>\n",
       "      <td>1</td>\n",
       "      <td>0</td>\n",
       "    </tr>\n",
       "    <tr>\n",
       "      <th>3</th>\n",
       "      <td>4.0</td>\n",
       "      <td>8.0</td>\n",
       "      <td>2018</td>\n",
       "      <td>1</td>\n",
       "      <td>0.499881</td>\n",
       "      <td>0.499877</td>\n",
       "      <td>0.499872</td>\n",
       "      <td>6.0</td>\n",
       "      <td>0.500183</td>\n",
       "      <td>7.0</td>\n",
       "      <td>...</td>\n",
       "      <td>0</td>\n",
       "      <td>0</td>\n",
       "      <td>0</td>\n",
       "      <td>1</td>\n",
       "      <td>0</td>\n",
       "      <td>0</td>\n",
       "      <td>0</td>\n",
       "      <td>0</td>\n",
       "      <td>0</td>\n",
       "      <td>0</td>\n",
       "    </tr>\n",
       "    <tr>\n",
       "      <th>4</th>\n",
       "      <td>5.0</td>\n",
       "      <td>10.0</td>\n",
       "      <td>2018</td>\n",
       "      <td>1</td>\n",
       "      <td>0.499882</td>\n",
       "      <td>0.499884</td>\n",
       "      <td>0.499885</td>\n",
       "      <td>8.0</td>\n",
       "      <td>0.500190</td>\n",
       "      <td>8.0</td>\n",
       "      <td>...</td>\n",
       "      <td>0</td>\n",
       "      <td>0</td>\n",
       "      <td>0</td>\n",
       "      <td>0</td>\n",
       "      <td>1</td>\n",
       "      <td>0</td>\n",
       "      <td>0</td>\n",
       "      <td>0</td>\n",
       "      <td>0</td>\n",
       "      <td>0</td>\n",
       "    </tr>\n",
       "  </tbody>\n",
       "</table>\n",
       "<p>5 rows × 121 columns</p>\n",
       "</div>"
      ],
      "text/plain": [
       "   position  grid  year  gpNumber        Q1        Q2        Q3  \\\n",
       "0       1.0   3.0  2018         1  0.499880  0.499869  0.499869   \n",
       "1       2.0   1.0  2018         1  0.499876  0.499870  0.499864   \n",
       "2       3.0   2.0  2018         1  0.499878  0.499874  0.499869   \n",
       "3       4.0   8.0  2018         1  0.499881  0.499877  0.499872   \n",
       "4       5.0  10.0  2018         1  0.499882  0.499884  0.499885   \n",
       "\n",
       "   fastestLapRankP1  fastestLapTimeP1  fastestLapRankP2  ...  \\\n",
       "0               5.0          0.500183               5.0  ...   \n",
       "1               1.0          0.500174               1.0  ...   \n",
       "2               4.0          0.500182               4.0  ...   \n",
       "3               6.0          0.500183               7.0  ...   \n",
       "4               8.0          0.500190               8.0  ...   \n",
       "\n",
       "   constructorId_toro_rosso  constructorId_williams  \\\n",
       "0                         0                       0   \n",
       "1                         0                       0   \n",
       "2                         0                       0   \n",
       "3                         0                       0   \n",
       "4                         0                       0   \n",
       "\n",
       "   constructorNationality_American  constructorNationality_Austrian  \\\n",
       "0                                0                                0   \n",
       "1                                0                                0   \n",
       "2                                0                                0   \n",
       "3                                0                                1   \n",
       "4                                0                                0   \n",
       "\n",
       "   constructorNationality_British  constructorNationality_French  \\\n",
       "0                               0                              0   \n",
       "1                               0                              0   \n",
       "2                               0                              0   \n",
       "3                               0                              0   \n",
       "4                               1                              0   \n",
       "\n",
       "   constructorNationality_German  constructorNationality_Indian  \\\n",
       "0                              0                              0   \n",
       "1                              1                              0   \n",
       "2                              0                              0   \n",
       "3                              0                              0   \n",
       "4                              0                              0   \n",
       "\n",
       "   constructorNationality_Italian  constructorNationality_Swiss  \n",
       "0                               1                             0  \n",
       "1                               0                             0  \n",
       "2                               1                             0  \n",
       "3                               0                             0  \n",
       "4                               0                             0  \n",
       "\n",
       "[5 rows x 121 columns]"
      ]
     },
     "execution_count": 43,
     "metadata": {},
     "output_type": "execute_result"
    }
   ],
   "source": [
    "scaler = MinMaxScaler()\n",
    "to_scale = ['Q1','Q2', 'Q3','fastestLapTimeP1',\n",
    "       'fastestLapTimeP2', 'fastestLapTimeP3']\n",
    "df_scaled = df_features.copy()\n",
    "\n",
    "df_scaled[to_scale] = scaler.fit_transform(df_scaled[to_scale].to_numpy())\n",
    "\n",
    "df_scaled.head()"
   ]
  },
  {
   "cell_type": "code",
   "execution_count": 44,
   "metadata": {},
   "outputs": [],
   "source": [
    "df_scaled = pd.DataFrame(df_scaled, columns= df_features.columns)"
   ]
  },
  {
   "cell_type": "code",
   "execution_count": 45,
   "metadata": {},
   "outputs": [],
   "source": [
    "def error_calculation(error):\n",
    "    round_error = round(error)\n",
    "    print('Mean Absolute Error:', round(np.mean(error), 2))\n",
    "    mape = 100 * (error / y_test)\n",
    "    print('Mean Absolute Percentage Error :', round(np.mean(mape), 2), '%.')\n",
    "    count = 0\n",
    "    for elmt in round_error:\n",
    "        if elmt==0:\n",
    "            count+=1\n",
    "    print('Accuracy :',count/len(round_error)*100, '%.')"
   ]
  },
  {
   "cell_type": "code",
   "execution_count": 46,
   "metadata": {},
   "outputs": [],
   "source": [
    "from sklearn.model_selection import train_test_split\n",
    "from sklearn.ensemble import RandomForestRegressor\n",
    "from sklearn.linear_model import LinearRegression\n",
    "from sklearn.discriminant_analysis import LinearDiscriminantAnalysis\n",
    "from sklearn.discriminant_analysis import QuadraticDiscriminantAnalysis\n",
    "#from sklearn import svm\n",
    "from sklearn.neural_network import MLPClassifier"
   ]
  },
  {
   "cell_type": "code",
   "execution_count": 47,
   "metadata": {},
   "outputs": [],
   "source": [
    "train, test = train_test_split(df_scaled, test_size=0.2)\n",
    "X_train = train.drop(['position'], axis=1)\n",
    "y_train = train['position']\n",
    "X_test = test.drop(['position'], axis=1)\n",
    "y_test = test['position']"
   ]
  },
  {
   "cell_type": "code",
   "execution_count": 48,
   "metadata": {},
   "outputs": [],
   "source": [
    "random_forest = RandomForestRegressor() \n",
    "model_rd = random_forest.fit(X_train, y_train)"
   ]
  },
  {
   "cell_type": "code",
   "execution_count": 49,
   "metadata": {},
   "outputs": [
    {
     "data": {
      "text/plain": [
       "0.38483845405051087"
      ]
     },
     "execution_count": 49,
     "metadata": {},
     "output_type": "execute_result"
    }
   ],
   "source": [
    "model_rd.score(X_test,y_test)"
   ]
  },
  {
   "cell_type": "code",
   "execution_count": 50,
   "metadata": {},
   "outputs": [],
   "source": [
    "y_pred = random_forest.predict(X_test) "
   ]
  },
  {
   "cell_type": "code",
   "execution_count": 51,
   "metadata": {},
   "outputs": [
    {
     "name": "stdout",
     "output_type": "stream",
     "text": [
      "Mean Absolute Error: 3.36\n",
      "Mean Absolute Percentage Error : 61.61 %.\n",
      "Accuracy : 8.75 %.\n"
     ]
    }
   ],
   "source": [
    "error_rd = abs(y_pred - y_test)\n",
    "error_calculation(error_rd)"
   ]
  },
  {
   "cell_type": "code",
   "execution_count": 52,
   "metadata": {
    "scrolled": false
   },
   "outputs": [
    {
     "data": {
      "text/plain": [
       "Text(0.5, 0, 'Relative Importance')"
      ]
     },
     "execution_count": 52,
     "metadata": {},
     "output_type": "execute_result"
    },
    {
     "data": {
      "image/png": "[encoded data removed]",
      "text/plain": [
       "<Figure size 432x288 with 1 Axes>"
      ]
     },
     "metadata": {
      "needs_background": "light"
     },
     "output_type": "display_data"
    }
   ],
   "source": [
    "importances = model_rd.feature_importances_\n",
    "indices = np.argsort(importances)\n",
    "plt.figure(1)\n",
    "plt.title('Feature Importances')\n",
    "plt.barh(range(len(indices)), importances[indices], color='b', align='center')\n",
    "plt.yticks(range(len(indices)), [X_test.columns[i] for i in indices])\n",
    "plt.xlabel('Relative Importance')"
   ]
  },
  {
   "cell_type": "markdown",
   "metadata": {},
   "source": [
    "We can see from this graph that mst of the features like the nationality ones are note usefull at all."
   ]
  },
  {
   "cell_type": "code",
   "execution_count": 53,
   "metadata": {},
   "outputs": [
    {
     "data": {
      "text/plain": [
       "['gpName_Eifel Grand Prix',\n",
       " 'DriverNationality_French',\n",
       " 'gpName_Italian Grand Prix',\n",
       " 'constructorId_haas',\n",
       " 'constructorId_williams',\n",
       " 'gpName_Azerbaijan Grand Prix',\n",
       " 'gpName_Hungarian Grand Prix',\n",
       " 'gpName_German Grand Prix',\n",
       " 'year',\n",
       " 'fastestLapTimeP1',\n",
       " 'Q2',\n",
       " 'fastestLapRankP1',\n",
       " 'Q3',\n",
       " 'fastestLapTimeP3',\n",
       " 'Q1',\n",
       " 'gpNumber',\n",
       " 'fastestLapTimeP2',\n",
       " 'fastestLapRankP3',\n",
       " 'fastestLapRankP2',\n",
       " 'grid']"
      ]
     },
     "execution_count": 53,
     "metadata": {},
     "output_type": "execute_result"
    }
   ],
   "source": [
    "[X_test.columns[i] for i in indices][-20:]"
   ]
  },
  {
   "cell_type": "code",
   "execution_count": 54,
   "metadata": {},
   "outputs": [],
   "source": [
    "\n",
    "model_lm = LinearRegression()\n",
    "model_lm.fit(X_train, y_train)\n",
    "\n",
    "y_pred = model_lm.predict(X_test)"
   ]
  },
  {
   "cell_type": "code",
   "execution_count": 55,
   "metadata": {},
   "outputs": [
    {
     "name": "stdout",
     "output_type": "stream",
     "text": [
      "Mean Absolute Error: 3.23\n",
      "Mean Absolute Percentage Error : 56.16 %.\n",
      "Accuracy : 10.9375 %.\n"
     ]
    }
   ],
   "source": [
    "error_lm = abs(y_pred - y_test)\n",
    "error_calculation(error_lm)"
   ]
  },
  {
   "cell_type": "markdown",
   "metadata": {},
   "source": [
    "## Not scaled data "
   ]
  },
  {
   "cell_type": "code",
   "execution_count": 56,
   "metadata": {},
   "outputs": [],
   "source": [
    "train, test = train_test_split(df_features, test_size=0.2)\n",
    "X_train = train.drop(['position'], axis=1)\n",
    "y_train = train['position']\n",
    "X_test = test.drop(['position'], axis=1)\n",
    "y_test = test['position']"
   ]
  },
  {
   "cell_type": "code",
   "execution_count": 57,
   "metadata": {},
   "outputs": [
    {
     "name": "stdout",
     "output_type": "stream",
     "text": [
      "Mean Absolute Error: 3.36\n",
      "Mean Absolute Percentage Error : 58.31 %.\n",
      "Accuracy : 9.6875 %.\n"
     ]
    }
   ],
   "source": [
    "random_forest = RandomForestRegressor() \n",
    "model_rd = random_forest.fit(X_train, y_train)\n",
    "y_pred = random_forest.predict(X_test) \n",
    "error = abs(y_pred - y_test)\n",
    "error_calculation(error)"
   ]
  },
  {
   "cell_type": "code",
   "execution_count": 58,
   "metadata": {
    "scrolled": true
   },
   "outputs": [
    {
     "name": "stdout",
     "output_type": "stream",
     "text": [
      "Mean Absolute Error: 3.35\n",
      "Mean Absolute Percentage Error : 62.23 %.\n",
      "Accuracy : 9.6875 %.\n"
     ]
    }
   ],
   "source": [
    "model = LinearRegression()\n",
    "model.fit(X_train, y_train)\n",
    "y_pred = model.predict(X_test)\n",
    "error = abs(y_pred - y_test)\n",
    "error_calculation(error)"
   ]
  },
  {
   "cell_type": "code",
   "execution_count": 59,
   "metadata": {},
   "outputs": [
    {
     "name": "stdout",
     "output_type": "stream",
     "text": [
      "Mean Absolute Error: 3.62\n",
      "Mean Absolute Percentage Error : 46.83 %.\n",
      "Accuracy : 10.625 %.\n"
     ]
    }
   ],
   "source": [
    "lda = LinearDiscriminantAnalysis(solver=\"svd\", store_covariance=True)\n",
    "y_pred = lda.fit(X_train, y_train).predict(X_test)\n",
    "error = abs(y_pred - y_test)\n",
    "error_calculation(error)"
   ]
  },
  {
   "cell_type": "code",
   "execution_count": 60,
   "metadata": {},
   "outputs": [
    {
     "name": "stdout",
     "output_type": "stream",
     "text": [
      "Mean Absolute Error: 4.97\n",
      "Mean Absolute Percentage Error : 53.12 %.\n",
      "Accuracy : 6.5625 %.\n"
     ]
    },
    {
     "name": "stderr",
     "output_type": "stream",
     "text": [
      "C:\\Users\\benja\\anaconda3\\lib\\site-packages\\sklearn\\discriminant_analysis.py:715: UserWarning: Variables are collinear\n",
      "  warnings.warn(\"Variables are collinear\")\n"
     ]
    }
   ],
   "source": [
    "qda = QuadraticDiscriminantAnalysis(store_covariance=True)\n",
    "y_pred = qda.fit(X_train, y_train).predict(X_test)\n",
    "error = abs(y_pred - y_test)\n",
    "error_calculation(error)"
   ]
  },
  {
   "cell_type": "code",
   "execution_count": 61,
   "metadata": {},
   "outputs": [
    {
     "name": "stdout",
     "output_type": "stream",
     "text": [
      "Iteration 1, loss = 34.32460934\n",
      "Iteration 2, loss = 33.16035482\n",
      "Iteration 3, loss = 7.84070627\n",
      "Iteration 4, loss = 7.55656498\n",
      "Iteration 5, loss = 6.22316127\n",
      "Iteration 6, loss = 3.88806257\n",
      "Iteration 7, loss = 3.88738326\n",
      "Iteration 8, loss = 3.60759064\n",
      "Iteration 9, loss = 3.50319038\n",
      "Iteration 10, loss = 3.47628485\n",
      "Iteration 11, loss = 3.44993719\n",
      "Iteration 12, loss = 3.39766103\n",
      "Iteration 13, loss = 3.31860600\n",
      "Iteration 14, loss = 3.31779976\n",
      "Iteration 15, loss = 3.31695618\n",
      "Iteration 16, loss = 3.31607542\n",
      "Iteration 17, loss = 3.31525111\n",
      "Iteration 18, loss = 3.28856352\n",
      "Iteration 19, loss = 3.23627196\n",
      "Iteration 20, loss = 3.23542724\n",
      "Iteration 21, loss = 3.23469326\n",
      "Iteration 22, loss = 3.23384953\n",
      "Iteration 23, loss = 3.23310818\n",
      "Iteration 24, loss = 3.23234919\n",
      "Iteration 25, loss = 3.23164098\n",
      "Iteration 26, loss = 3.23092147\n",
      "Iteration 27, loss = 3.23021922\n",
      "Iteration 28, loss = 3.22951773\n",
      "Iteration 29, loss = 3.12496516\n",
      "Iteration 30, loss = 3.04659919\n",
      "Iteration 31, loss = 3.04593500\n",
      "Iteration 32, loss = 3.04524610\n",
      "Iteration 33, loss = 3.04460409\n",
      "Iteration 34, loss = 3.04396953\n",
      "Iteration 35, loss = 3.04334789\n",
      "Iteration 36, loss = 3.04276219\n",
      "Iteration 37, loss = 3.04216368\n",
      "Iteration 38, loss = 3.04162260\n",
      "Iteration 39, loss = 3.04105388\n",
      "Iteration 40, loss = 3.04049093\n",
      "Iteration 41, loss = 3.03996770\n",
      "Iteration 42, loss = 3.03942062\n",
      "Iteration 43, loss = 3.03890817\n",
      "Iteration 44, loss = 3.03840382\n",
      "Iteration 45, loss = 3.03794368\n",
      "Iteration 46, loss = 3.03744197\n",
      "Iteration 47, loss = 3.03695319\n",
      "Iteration 48, loss = 3.03648448\n",
      "Iteration 49, loss = 3.03606091\n",
      "Iteration 50, loss = 3.03561732\n",
      "Iteration 51, loss = 3.03518590\n",
      "Iteration 52, loss = 3.03477610\n",
      "Iteration 53, loss = 3.03437232\n",
      "Iteration 54, loss = 3.03396315\n",
      "Iteration 55, loss = 3.03355906\n",
      "Iteration 56, loss = 3.03321421\n",
      "Iteration 57, loss = 3.03281175\n",
      "Iteration 58, loss = 3.03245287\n",
      "Iteration 59, loss = 3.03213916\n",
      "Iteration 60, loss = 3.03176631\n",
      "Iteration 61, loss = 3.03145473\n",
      "Iteration 62, loss = 3.03115878\n",
      "Iteration 63, loss = 3.03081404\n",
      "Iteration 64, loss = 3.03054107\n",
      "Iteration 65, loss = 3.03021822\n",
      "Iteration 66, loss = 3.02994302\n",
      "Iteration 67, loss = 3.02966381\n",
      "Iteration 68, loss = 3.02935970\n",
      "Iteration 69, loss = 3.02908282\n",
      "Iteration 70, loss = 3.02890541\n",
      "Iteration 71, loss = 3.02857670\n",
      "Iteration 72, loss = 3.02836180\n",
      "Iteration 73, loss = 3.02813179\n",
      "Iteration 74, loss = 3.02791503\n",
      "Iteration 75, loss = 3.02768427\n",
      "Iteration 76, loss = 3.02747286\n",
      "Iteration 77, loss = 3.02723057\n",
      "Iteration 78, loss = 3.02703928\n",
      "Iteration 79, loss = 3.02684475\n",
      "Iteration 80, loss = 3.02665041\n",
      "Iteration 81, loss = 3.02644818\n",
      "Iteration 82, loss = 3.02627252\n",
      "Iteration 83, loss = 3.02613559\n",
      "Iteration 84, loss = 3.02593536\n",
      "Iteration 85, loss = 3.02576632\n",
      "Iteration 86, loss = 3.02561233\n",
      "Iteration 87, loss = 3.02546059\n",
      "Iteration 88, loss = 3.02529269\n",
      "Iteration 89, loss = 3.02512275\n",
      "Iteration 90, loss = 3.02500013\n",
      "Iteration 91, loss = 3.02485310\n",
      "Iteration 92, loss = 3.02472181\n",
      "Iteration 93, loss = 3.02459424\n",
      "Iteration 94, loss = 3.02448634\n",
      "Iteration 95, loss = 3.02437071\n",
      "Iteration 96, loss = 3.02425885\n",
      "Iteration 97, loss = 3.02414002\n",
      "Iteration 98, loss = 3.02404795\n",
      "Iteration 99, loss = 3.02390868\n",
      "Iteration 100, loss = 3.02380748\n",
      "Iteration 101, loss = 3.02372099\n",
      "Iteration 102, loss = 3.02358749\n",
      "Iteration 103, loss = 3.02351744\n",
      "Iteration 104, loss = 3.02339740\n",
      "Iteration 105, loss = 3.02331621\n",
      "Iteration 106, loss = 3.02320225\n",
      "Iteration 107, loss = 3.02308926\n",
      "Iteration 108, loss = 3.02300150\n",
      "Iteration 109, loss = 3.02291362\n",
      "Iteration 110, loss = 3.02284213\n",
      "Iteration 111, loss = 3.02275489\n",
      "Iteration 112, loss = 3.02267385\n",
      "Iteration 113, loss = 3.02259580\n",
      "Iteration 114, loss = 3.02253585\n",
      "Iteration 115, loss = 3.02248150\n",
      "Iteration 116, loss = 3.02240739\n",
      "Iteration 117, loss = 3.02234442\n",
      "Iteration 118, loss = 3.02227375\n",
      "Training loss did not improve more than tol=0.000100 for 10 consecutive epochs. Stopping.\n",
      "Mean Absolute Error: 8.82\n",
      "Mean Absolute Percentage Error : 251.9 %.\n",
      "Accuracy : 4.375 %.\n"
     ]
    }
   ],
   "source": [
    "clf = MLPClassifier(solver='adam', alpha=0.0001,\n",
    " hidden_layer_sizes=(5, 2), random_state=1,verbose = True)\n",
    "clf.fit(X_train, y_train)\n",
    "y_pred = clf.predict(X_test)\n",
    "error = abs(y_pred - y_test)\n",
    "error_calculation(error)"
   ]
  },
  {
   "cell_type": "markdown",
   "metadata": {},
   "source": [
    "## Drop not usefull data"
   ]
  },
  {
   "cell_type": "code",
   "execution_count": 62,
   "metadata": {},
   "outputs": [],
   "source": [
    "df_features2 =  pd.get_dummies(df_pred_postion, columns = [ 'gpName', 'driverId', 'constructorId'])\n"
   ]
  },
  {
   "cell_type": "code",
   "execution_count": 65,
   "metadata": {},
   "outputs": [],
   "source": [
    "df_features2=df_features2.drop(['DriverNationality','constructorNationality'], axis=1)"
   ]
  },
  {
   "cell_type": "code",
   "execution_count": 72,
   "metadata": {},
   "outputs": [
    {
     "data": {
      "text/plain": [
       "(1599, 93)"
      ]
     },
     "execution_count": 72,
     "metadata": {},
     "output_type": "execute_result"
    }
   ],
   "source": [
    "df_features2.shape"
   ]
  },
  {
   "cell_type": "code",
   "execution_count": 70,
   "metadata": {},
   "outputs": [],
   "source": [
    "train, test = train_test_split(df_features2, test_size=0.2)\n",
    "X_train = train.drop(['position'], axis=1)\n",
    "y_train = train['position']\n",
    "X_test = test.drop(['position'], axis=1)\n",
    "y_test = test['position']"
   ]
  },
  {
   "cell_type": "code",
   "execution_count": 71,
   "metadata": {},
   "outputs": [
    {
     "name": "stdout",
     "output_type": "stream",
     "text": [
      "Mean Absolute Error: 3.48\n",
      "Mean Absolute Percentage Error : 55.47 %.\n",
      "Accuracy : 11.5625 %.\n"
     ]
    }
   ],
   "source": [
    "random_forest = RandomForestRegressor() \n",
    "model_rd = random_forest.fit(X_train, y_train)\n",
    "y_pred = random_forest.predict(X_test) \n",
    "error = abs(y_pred - y_test)\n",
    "error_calculation(error)"
   ]
  },
  {
   "cell_type": "code",
   "execution_count": 64,
   "metadata": {},
   "outputs": [
    {
     "ename": "NameError",
     "evalue": "name 'model_svm' is not defined",
     "output_type": "error",
     "traceback": [
      "\u001b[1;31m---------------------------------------------------------------------------\u001b[0m",
      "\u001b[1;31mNameError\u001b[0m                                 Traceback (most recent call last)",
      "\u001b[1;32m<ipython-input-64-78401ee44e76>\u001b[0m in \u001b[0;36m<module>\u001b[1;34m\u001b[0m\n\u001b[0;32m      1\u001b[0m \u001b[1;31m#model_svm = svm.SVC(kernel='linear',verbose = True) # Linear Kernel\u001b[0m\u001b[1;33m\u001b[0m\u001b[1;33m\u001b[0m\u001b[1;33m\u001b[0m\u001b[0m\n\u001b[1;32m----> 2\u001b[1;33m \u001b[0mmodel_svm\u001b[0m\u001b[1;33m.\u001b[0m\u001b[0mfit\u001b[0m\u001b[1;33m(\u001b[0m\u001b[0mX_train\u001b[0m\u001b[1;33m,\u001b[0m \u001b[0my_train\u001b[0m\u001b[1;33m)\u001b[0m\u001b[1;33m\u001b[0m\u001b[1;33m\u001b[0m\u001b[0m\n\u001b[0m\u001b[0;32m      3\u001b[0m \u001b[0my_pred\u001b[0m \u001b[1;33m=\u001b[0m \u001b[0mmodel_svm\u001b[0m\u001b[1;33m.\u001b[0m\u001b[0mpredict\u001b[0m\u001b[1;33m(\u001b[0m\u001b[0mX_test\u001b[0m\u001b[1;33m)\u001b[0m\u001b[1;33m\u001b[0m\u001b[1;33m\u001b[0m\u001b[0m\n\u001b[0;32m      4\u001b[0m \u001b[0merror\u001b[0m \u001b[1;33m=\u001b[0m \u001b[0mabs\u001b[0m\u001b[1;33m(\u001b[0m\u001b[0my_pred\u001b[0m \u001b[1;33m-\u001b[0m \u001b[0my_test\u001b[0m\u001b[1;33m)\u001b[0m\u001b[1;33m\u001b[0m\u001b[1;33m\u001b[0m\u001b[0m\n\u001b[0;32m      5\u001b[0m \u001b[0merror_calculation\u001b[0m\u001b[1;33m(\u001b[0m\u001b[0merror\u001b[0m\u001b[1;33m)\u001b[0m\u001b[1;33m\u001b[0m\u001b[1;33m\u001b[0m\u001b[0m\n",
      "\u001b[1;31mNameError\u001b[0m: name 'model_svm' is not defined"
     ]
    }
   ],
   "source": [
    "\n",
    "#model_svm = svm.SVC(kernel='linear',verbose = True) # Linear Kernel\n",
    "model_svm.fit(X_train, y_train)\n",
    "y_pred = model_svm.predict(X_test)\n",
    "error = abs(y_pred - y_test)\n",
    "error_calculation(error)"
   ]
  },
  {
   "cell_type": "code",
   "execution_count": null,
   "metadata": {},
   "outputs": [],
   "source": []
  }
 ],
 "metadata": {
  "kernelspec": {
   "display_name": "Python 3",
   "language": "python",
   "name": "python3"
  },
  "language_info": {
   "codemirror_mode": {
    "name": "ipython",
    "version": 3
   },
   "file_extension": ".py",
   "mimetype": "text/x-python",
   "name": "python",
   "nbconvert_exporter": "python",
   "pygments_lexer": "ipython3",
   "version": "3.8.5"
  }
 },
 "nbformat": 4,
 "nbformat_minor": 4
}
