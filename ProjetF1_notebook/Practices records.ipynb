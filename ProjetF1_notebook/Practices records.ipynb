{
 "cells": [
  {
   "cell_type": "code",
   "execution_count": 13,
   "id": "a7d6a174",
   "metadata": {},
   "outputs": [],
   "source": [
    "import fastf1 as ff1\n",
    "from fastf1.core import Laps"
   ]
  },
  {
   "cell_type": "code",
   "execution_count": 14,
   "id": "053d20bf",
   "metadata": {},
   "outputs": [],
   "source": [
    "import matplotlib.pyplot as plt\n",
    "from matplotlib.collections import LineCollection\n",
    "from matplotlib import cm\n",
    "\n",
    "import numpy as np\n",
    "import pandas as pd"
   ]
  },
  {
   "cell_type": "code",
   "execution_count": 15,
   "id": "c6ec542c",
   "metadata": {},
   "outputs": [],
   "source": [
    "ff1.Cache.enable_cache(\"C:/Users/lmbfr/OneDrive/Documents/Travail ESILV/Cours + Exercices/Semestre 7/Python Data Analysis/F1\")"
   ]
  },
  {
   "cell_type": "code",
   "execution_count": null,
   "id": "cc933c66",
   "metadata": {},
   "outputs": [],
   "source": [
    "#Grand prix with sprint qualifying (SQ session)\n",
    "#Silverstone n°10 - Monza n°14 - Interlagos n°19"
   ]
  },
  {
   "cell_type": "markdown",
   "id": "f369572b",
   "metadata": {},
   "source": [
    "## Retrieve fastest lap for every practice session + row content overview"
   ]
  },
  {
   "cell_type": "code",
   "execution_count": 145,
   "id": "ff94d4e5",
   "metadata": {},
   "outputs": [],
   "source": [
    "def GetPositionsDataframe(year, gpNumber, sessionLetters):\n",
    "    \n",
    "    session = None\n",
    "    \n",
    "    weekend = ff1.get_session(year, gpNumber)\n",
    "    if (sessionLetters[0] == \"P\"):\n",
    "        session = weekend.get_practice(sessionLetters[1])\n",
    "        \n",
    "    laps = session.load_laps()\n",
    "    drivers = pd.unique(laps['Driver'])\n",
    "    \n",
    "    list_fastest_laps = list()\n",
    "    for drv in drivers:\n",
    "        drvs_fastest_lap = laps.pick_driver(drv).pick_fastest()\n",
    "        list_fastest_laps.append(drvs_fastest_lap)\n",
    "    fastest_laps = Laps(list_fastest_laps).sort_values(by='LapTime').reset_index(drop=True)\n",
    "    \n",
    "    df = pd.DataFrame(fastest_laps)\n",
    "    df['Position'] = np.arange(1, df.shape[0] + 1)\n",
    "    df['Weekend'] = session\n",
    "    df['WeekendNumber'] = gpNumber\n",
    "    return df"
   ]
  },
  {
   "cell_type": "code",
   "execution_count": 134,
   "id": "da73cd27",
   "metadata": {},
   "outputs": [
    {
     "name": "stderr",
     "output_type": "stream",
     "text": [
      "core           INFO \tLoading laps for Saudi Arabian Grand Prix - Practice 1 [v2.1.12]\n",
      "api            INFO \tUsing cached data for timing_data\n",
      "api            INFO \tUsing cached data for timing_app_data\n",
      "core           INFO \tProcessing timing data...\n",
      "api            INFO \tUsing cached data for driver_info\n",
      "api            INFO \tUsing cached data for session_status_data\n",
      "api            INFO \tUsing cached data for track_status_data\n",
      "api            INFO \tUsing cached data for weather_data\n",
      "core           INFO \tLoaded data for 20 drivers: ['3', '4', '5', '6', '7', '9', '10', '11', '14', '16', '18', '22', '31', '33', '44', '47', '55', '63', '77', '99']\n"
     ]
    },
    {
     "data": {
      "text/html": [
       "<div>\n",
       "<style scoped>\n",
       "    .dataframe tbody tr th:only-of-type {\n",
       "        vertical-align: middle;\n",
       "    }\n",
       "\n",
       "    .dataframe tbody tr th {\n",
       "        vertical-align: top;\n",
       "    }\n",
       "\n",
       "    .dataframe thead th {\n",
       "        text-align: right;\n",
       "    }\n",
       "</style>\n",
       "<table border=\"1\" class=\"dataframe\">\n",
       "  <thead>\n",
       "    <tr style=\"text-align: right;\">\n",
       "      <th></th>\n",
       "      <th>Time</th>\n",
       "      <th>DriverNumber</th>\n",
       "      <th>LapTime</th>\n",
       "      <th>LapNumber</th>\n",
       "      <th>Stint</th>\n",
       "      <th>PitOutTime</th>\n",
       "      <th>PitInTime</th>\n",
       "      <th>Sector1Time</th>\n",
       "      <th>Sector2Time</th>\n",
       "      <th>Sector3Time</th>\n",
       "      <th>...</th>\n",
       "      <th>TyreLife</th>\n",
       "      <th>FreshTyre</th>\n",
       "      <th>LapStartTime</th>\n",
       "      <th>Team</th>\n",
       "      <th>Driver</th>\n",
       "      <th>TrackStatus</th>\n",
       "      <th>IsAccurate</th>\n",
       "      <th>Position</th>\n",
       "      <th>Weekend</th>\n",
       "      <th>WeekendNumber</th>\n",
       "    </tr>\n",
       "  </thead>\n",
       "  <tbody>\n",
       "    <tr>\n",
       "      <th>0</th>\n",
       "      <td>0 days 00:57:56.937000</td>\n",
       "      <td>44</td>\n",
       "      <td>0 days 00:01:29.786000</td>\n",
       "      <td>14</td>\n",
       "      <td>3</td>\n",
       "      <td>NaT</td>\n",
       "      <td>NaT</td>\n",
       "      <td>0 days 00:00:32.907000</td>\n",
       "      <td>0 days 00:00:28.660000</td>\n",
       "      <td>0 days 00:00:28.219000</td>\n",
       "      <td>...</td>\n",
       "      <td>5.0</td>\n",
       "      <td>False</td>\n",
       "      <td>0 days 00:56:27.151000</td>\n",
       "      <td>Mercedes</td>\n",
       "      <td>HAM</td>\n",
       "      <td>1</td>\n",
       "      <td>True</td>\n",
       "      <td>1</td>\n",
       "      <td>&lt;fastf1.core.Session object at 0x00000199D4B71...</td>\n",
       "      <td>21</td>\n",
       "    </tr>\n",
       "    <tr>\n",
       "      <th>1</th>\n",
       "      <td>0 days 01:13:01.705000</td>\n",
       "      <td>33</td>\n",
       "      <td>0 days 00:01:29.842000</td>\n",
       "      <td>20</td>\n",
       "      <td>5</td>\n",
       "      <td>NaT</td>\n",
       "      <td>NaT</td>\n",
       "      <td>0 days 00:00:32.765000</td>\n",
       "      <td>0 days 00:00:28.742000</td>\n",
       "      <td>0 days 00:00:28.335000</td>\n",
       "      <td>...</td>\n",
       "      <td>9.0</td>\n",
       "      <td>False</td>\n",
       "      <td>0 days 01:11:31.863000</td>\n",
       "      <td>Red Bull</td>\n",
       "      <td>VER</td>\n",
       "      <td>1</td>\n",
       "      <td>True</td>\n",
       "      <td>2</td>\n",
       "      <td>&lt;fastf1.core.Session object at 0x00000199D4B71...</td>\n",
       "      <td>21</td>\n",
       "    </tr>\n",
       "    <tr>\n",
       "      <th>2</th>\n",
       "      <td>0 days 00:52:54.908000</td>\n",
       "      <td>77</td>\n",
       "      <td>0 days 00:01:30.009000</td>\n",
       "      <td>14</td>\n",
       "      <td>2</td>\n",
       "      <td>NaT</td>\n",
       "      <td>NaT</td>\n",
       "      <td>0 days 00:00:32.847000</td>\n",
       "      <td>0 days 00:00:28.791000</td>\n",
       "      <td>0 days 00:00:28.371000</td>\n",
       "      <td>...</td>\n",
       "      <td>6.0</td>\n",
       "      <td>True</td>\n",
       "      <td>0 days 00:51:24.899000</td>\n",
       "      <td>Mercedes</td>\n",
       "      <td>BOT</td>\n",
       "      <td>2</td>\n",
       "      <td>True</td>\n",
       "      <td>3</td>\n",
       "      <td>&lt;fastf1.core.Session object at 0x00000199D4B71...</td>\n",
       "      <td>21</td>\n",
       "    </tr>\n",
       "    <tr>\n",
       "      <th>3</th>\n",
       "      <td>0 days 00:57:11.680000</td>\n",
       "      <td>10</td>\n",
       "      <td>0 days 00:01:30.263000</td>\n",
       "      <td>19</td>\n",
       "      <td>3</td>\n",
       "      <td>NaT</td>\n",
       "      <td>NaT</td>\n",
       "      <td>0 days 00:00:32.945000</td>\n",
       "      <td>0 days 00:00:28.821000</td>\n",
       "      <td>0 days 00:00:28.497000</td>\n",
       "      <td>...</td>\n",
       "      <td>8.0</td>\n",
       "      <td>False</td>\n",
       "      <td>0 days 00:55:41.417000</td>\n",
       "      <td>AlphaTauri</td>\n",
       "      <td>GAS</td>\n",
       "      <td>1</td>\n",
       "      <td>True</td>\n",
       "      <td>4</td>\n",
       "      <td>&lt;fastf1.core.Session object at 0x00000199D4B71...</td>\n",
       "      <td>21</td>\n",
       "    </tr>\n",
       "    <tr>\n",
       "      <th>4</th>\n",
       "      <td>0 days 00:59:07.815000</td>\n",
       "      <td>99</td>\n",
       "      <td>0 days 00:01:30.318000</td>\n",
       "      <td>19</td>\n",
       "      <td>3</td>\n",
       "      <td>NaT</td>\n",
       "      <td>NaT</td>\n",
       "      <td>0 days 00:00:32.962000</td>\n",
       "      <td>0 days 00:00:28.879000</td>\n",
       "      <td>0 days 00:00:28.477000</td>\n",
       "      <td>...</td>\n",
       "      <td>9.0</td>\n",
       "      <td>True</td>\n",
       "      <td>0 days 00:57:37.497000</td>\n",
       "      <td>Alfa Romeo</td>\n",
       "      <td>GIO</td>\n",
       "      <td>1</td>\n",
       "      <td>True</td>\n",
       "      <td>5</td>\n",
       "      <td>&lt;fastf1.core.Session object at 0x00000199D4B71...</td>\n",
       "      <td>21</td>\n",
       "    </tr>\n",
       "  </tbody>\n",
       "</table>\n",
       "<p>5 rows × 28 columns</p>\n",
       "</div>"
      ],
      "text/plain": [
       "                    Time DriverNumber                LapTime  LapNumber  \\\n",
       "0 0 days 00:57:56.937000           44 0 days 00:01:29.786000         14   \n",
       "1 0 days 01:13:01.705000           33 0 days 00:01:29.842000         20   \n",
       "2 0 days 00:52:54.908000           77 0 days 00:01:30.009000         14   \n",
       "3 0 days 00:57:11.680000           10 0 days 00:01:30.263000         19   \n",
       "4 0 days 00:59:07.815000           99 0 days 00:01:30.318000         19   \n",
       "\n",
       "   Stint PitOutTime PitInTime            Sector1Time            Sector2Time  \\\n",
       "0      3        NaT       NaT 0 days 00:00:32.907000 0 days 00:00:28.660000   \n",
       "1      5        NaT       NaT 0 days 00:00:32.765000 0 days 00:00:28.742000   \n",
       "2      2        NaT       NaT 0 days 00:00:32.847000 0 days 00:00:28.791000   \n",
       "3      3        NaT       NaT 0 days 00:00:32.945000 0 days 00:00:28.821000   \n",
       "4      3        NaT       NaT 0 days 00:00:32.962000 0 days 00:00:28.879000   \n",
       "\n",
       "             Sector3Time  ... TyreLife FreshTyre           LapStartTime  \\\n",
       "0 0 days 00:00:28.219000  ...      5.0     False 0 days 00:56:27.151000   \n",
       "1 0 days 00:00:28.335000  ...      9.0     False 0 days 01:11:31.863000   \n",
       "2 0 days 00:00:28.371000  ...      6.0      True 0 days 00:51:24.899000   \n",
       "3 0 days 00:00:28.497000  ...      8.0     False 0 days 00:55:41.417000   \n",
       "4 0 days 00:00:28.477000  ...      9.0      True 0 days 00:57:37.497000   \n",
       "\n",
       "         Team  Driver  TrackStatus  IsAccurate Position  \\\n",
       "0    Mercedes     HAM            1        True        1   \n",
       "1    Red Bull     VER            1        True        2   \n",
       "2    Mercedes     BOT            2        True        3   \n",
       "3  AlphaTauri     GAS            1        True        4   \n",
       "4  Alfa Romeo     GIO            1        True        5   \n",
       "\n",
       "                                             Weekend  WeekendNumber  \n",
       "0  <fastf1.core.Session object at 0x00000199D4B71...             21  \n",
       "1  <fastf1.core.Session object at 0x00000199D4B71...             21  \n",
       "2  <fastf1.core.Session object at 0x00000199D4B71...             21  \n",
       "3  <fastf1.core.Session object at 0x00000199D4B71...             21  \n",
       "4  <fastf1.core.Session object at 0x00000199D4B71...             21  \n",
       "\n",
       "[5 rows x 28 columns]"
      ]
     },
     "execution_count": 134,
     "metadata": {},
     "output_type": "execute_result"
    }
   ],
   "source": [
    "fastests = GetPositionsDataframe(2021, 21, 'P1')\n",
    "fastests.head()"
   ]
  },
  {
   "cell_type": "code",
   "execution_count": 136,
   "id": "c432b9c2",
   "metadata": {},
   "outputs": [
    {
     "data": {
      "text/plain": [
       "Index(['Time', 'DriverNumber', 'LapTime', 'LapNumber', 'Stint', 'PitOutTime',\n",
       "       'PitInTime', 'Sector1Time', 'Sector2Time', 'Sector3Time',\n",
       "       'Sector1SessionTime', 'Sector2SessionTime', 'Sector3SessionTime',\n",
       "       'SpeedI1', 'SpeedI2', 'SpeedFL', 'SpeedST', 'Compound', 'TyreLife',\n",
       "       'FreshTyre', 'LapStartTime', 'Team', 'Driver', 'TrackStatus',\n",
       "       'IsAccurate', 'Position', 'Weekend', 'WeekendNumber'],\n",
       "      dtype='object')"
      ]
     },
     "execution_count": 136,
     "metadata": {},
     "output_type": "execute_result"
    }
   ],
   "source": [
    "fastests.columns"
   ]
  },
  {
   "cell_type": "code",
   "execution_count": 137,
   "id": "d93a3798",
   "metadata": {},
   "outputs": [
    {
     "data": {
      "text/plain": [
       "Time                                             0 days 00:57:56.937000\n",
       "DriverNumber                                                         44\n",
       "LapTime                                          0 days 00:01:29.786000\n",
       "LapNumber                                                            14\n",
       "Stint                                                                 3\n",
       "PitOutTime                                                          NaT\n",
       "PitInTime                                                           NaT\n",
       "Sector1Time                                      0 days 00:00:32.907000\n",
       "Sector2Time                                      0 days 00:00:28.660000\n",
       "Sector3Time                                      0 days 00:00:28.219000\n",
       "Sector1SessionTime                               0 days 00:57:00.058000\n",
       "Sector2SessionTime                               0 days 00:57:28.718000\n",
       "Sector3SessionTime                               0 days 00:57:56.937000\n",
       "SpeedI1                                                           287.0\n",
       "SpeedI2                                                           318.0\n",
       "SpeedFL                                                           293.0\n",
       "SpeedST                                                           321.0\n",
       "Compound                                                           SOFT\n",
       "TyreLife                                                            5.0\n",
       "FreshTyre                                                         False\n",
       "LapStartTime                                     0 days 00:56:27.151000\n",
       "Team                                                           Mercedes\n",
       "Driver                                                              HAM\n",
       "TrackStatus                                                           1\n",
       "IsAccurate                                                         True\n",
       "Position                                                              1\n",
       "Weekend               <fastf1.core.Session object at 0x00000199D4B71...\n",
       "WeekendNumber                                                        21\n",
       "Name: 0, dtype: object"
      ]
     },
     "execution_count": 137,
     "metadata": {},
     "output_type": "execute_result"
    }
   ],
   "source": [
    "fastests.iloc[0]"
   ]
  },
  {
   "cell_type": "markdown",
   "id": "c04cea2c",
   "metadata": {},
   "source": [
    "## Data format to fit into quali and race dataframe"
   ]
  },
  {
   "cell_type": "code",
   "execution_count": 138,
   "id": "f214149e",
   "metadata": {},
   "outputs": [],
   "source": [
    "#From df_global.columns\n",
    "lnames = ['number', 'position', 'positionText', 'points', 'grid', 'laps',\n",
    "       'status', 'Q1', 'Q2', 'Q3', 'year', 'gpName', 'gpNumber', 'sessionName', 'driverId',\n",
    "       'code', 'DriverNationality', 'constructorId', 'constructorNationality',\n",
    "       'fastestLapNumber', 'fastestLapRank', 'fastestLapAvgSpeed',\n",
    "       'fastestLapTime', 'totalTime', 'TimeInterval']\n",
    "\n",
    "#NaN values\n",
    "NaNs = [np.NaN for x in range(len(lnames))]"
   ]
  },
  {
   "cell_type": "code",
   "execution_count": 139,
   "id": "e003ded1",
   "metadata": {},
   "outputs": [],
   "source": [
    "def DataFramePracticeResult(fastests):\n",
    "    rows = []\n",
    "    for i in range(fastests.shape[0]):\n",
    "        row = dict(zip(lnames, NaNs))\n",
    "        row[\"number\"] = fastests.iloc[i][\"DriverNumber\"]\n",
    "        row[\"position\"] = fastests.iloc[i][\"Position\"]\n",
    "\n",
    "        row[\"year\"] = fastests.iloc[i][\"Weekend\"].weekend.year\n",
    "        row[\"gpName\"] = fastests.iloc[i][\"Weekend\"].weekend.name\n",
    "        row[\"gpNumber\"] = fastests.iloc[i][\"WeekendNumber\"]\n",
    "        row[\"sessionName\"] = fastests.iloc[i][\"Weekend\"].name\n",
    "\n",
    "        #Le driverId et les autres infos sur l'écurie ne sont pas fournies par fastest laps\n",
    "\n",
    "        row[\"code\"] = fastests.iloc[i][\"Driver\"]\n",
    "\n",
    "        #...\n",
    "\n",
    "        row[\"fastestLapNumber\"] = fastests.iloc[i][\"LapNumber\"]\n",
    "        row[\"fastestLapRank\"] = fastests.iloc[i][\"Position\"]\n",
    "        #Fastest lap avg. speed needs a calculation\n",
    "        row[\"fastestLapTime\"] = fastests.iloc[i][\"LapTime\"]\n",
    "        \n",
    "        rows.append(row)\n",
    "    \n",
    "    return pd.DataFrame(rows)"
   ]
  },
  {
   "cell_type": "markdown",
   "id": "f6c4b12b",
   "metadata": {},
   "source": [
    "## Concatenate all practices records and write it into a .csv file"
   ]
  },
  {
   "cell_type": "code",
   "execution_count": 140,
   "id": "f092bcfc",
   "metadata": {},
   "outputs": [],
   "source": [
    "def WriteAllData():\n",
    "    session_letter = ['P1', 'P2', 'P3']\n",
    "    firstrows = True\n",
    "    \n",
    "    practiceData = None\n",
    "    \n",
    "    for year in range(2014,2022):\n",
    "        for gp in range(1,23):\n",
    "            for l in session_letter:\n",
    "                try:\n",
    "                    fastests = GetPositionsDataframe(year, gp, l)\n",
    "                    if (firstrows == True):\n",
    "                        practiceData = DataFramePracticeResult(fastests)\n",
    "                        firstrows = False\n",
    "                    else:\n",
    "                        practiceData = pd.concat([practiceData, DataFramePracticeResult(fastests)])\n",
    "                    \n",
    "                except:\n",
    "                    print(\"problem on\",year, gp, l)\n",
    "                    \n",
    "    practiceData.to_csv(r'C:\\Users\\lmbfr\\OneDrive\\Documents\\Travail ESILV\\Cours + Exercices\\Semestre 7\\Python Data Analysis\\F1\\practices.csv', index=False)"
   ]
  },
  {
   "cell_type": "code",
   "execution_count": 144,
   "id": "2cb065bb",
   "metadata": {},
   "outputs": [
    {
     "name": "stderr",
     "output_type": "stream",
     "text": [
      "core           INFO \tLoading laps for Australian Grand Prix - Practice 1 [v2.1.12]\n",
      "api            INFO \tNo cached data found for timing_data. Loading data...\n",
      "api            INFO \tFetching timing data...\n",
      "core           INFO \tLoading laps for Australian Grand Prix - Practice 2 [v2.1.12]\n",
      "api            INFO \tNo cached data found for timing_data. Loading data...\n",
      "api            INFO \tFetching timing data...\n",
      "core           INFO \tLoading laps for Australian Grand Prix - Practice 3 [v2.1.12]\n",
      "api            INFO \tNo cached data found for timing_data. Loading data...\n",
      "api            INFO \tFetching timing data...\n"
     ]
    },
    {
     "name": "stdout",
     "output_type": "stream",
     "text": [
      "problem on 2014 1 P1\n",
      "problem on 2014 1 P2\n",
      "problem on 2014 1 P3"
     ]
    },
    {
     "name": "stderr",
     "output_type": "stream",
     "text": [
      "core           INFO \tLoading laps for Malaysian Grand Prix - Practice 1 [v2.1.12]\n",
      "api            INFO \tNo cached data found for timing_data. Loading data...\n",
      "api            INFO \tFetching timing data...\n",
      "core           INFO \tLoading laps for Malaysian Grand Prix - Practice 2 [v2.1.12]\n",
      "api            INFO \tNo cached data found for timing_data. Loading data...\n",
      "api            INFO \tFetching timing data...\n"
     ]
    },
    {
     "name": "stdout",
     "output_type": "stream",
     "text": [
      "\n",
      "problem on 2014 2 P1\n"
     ]
    },
    {
     "name": "stderr",
     "output_type": "stream",
     "text": [
      "core           INFO \tLoading laps for Malaysian Grand Prix - Practice 3 [v2.1.12]\n",
      "api            INFO \tNo cached data found for timing_data. Loading data...\n",
      "api            INFO \tFetching timing data...\n",
      "core           INFO \tLoading laps for Bahrain Grand Prix - Practice 1 [v2.1.12]\n",
      "api            INFO \tNo cached data found for timing_data. Loading data...\n",
      "api            INFO \tFetching timing data...\n"
     ]
    },
    {
     "name": "stdout",
     "output_type": "stream",
     "text": [
      "problem on 2014 2 P2\n",
      "problem on 2014 2 P3\n"
     ]
    },
    {
     "name": "stderr",
     "output_type": "stream",
     "text": [
      "core           INFO \tLoading laps for Bahrain Grand Prix - Practice 2 [v2.1.12]\n",
      "api            INFO \tNo cached data found for timing_data. Loading data...\n",
      "api            INFO \tFetching timing data...\n",
      "core           INFO \tLoading laps for Bahrain Grand Prix - Practice 3 [v2.1.12]\n",
      "api            INFO \tNo cached data found for timing_data. Loading data...\n",
      "api            INFO \tFetching timing data...\n"
     ]
    },
    {
     "name": "stdout",
     "output_type": "stream",
     "text": [
      "problem on 2014 3 P1\n",
      "problem on 2014 3 P2\n"
     ]
    },
    {
     "name": "stderr",
     "output_type": "stream",
     "text": [
      "core           INFO \tLoading laps for Chinese Grand Prix - Practice 1 [v2.1.12]\n",
      "api            INFO \tNo cached data found for timing_data. Loading data...\n",
      "api            INFO \tFetching timing data...\n",
      "core           INFO \tLoading laps for Chinese Grand Prix - Practice 2 [v2.1.12]\n",
      "api            INFO \tNo cached data found for timing_data. Loading data...\n",
      "api            INFO \tFetching timing data...\n"
     ]
    },
    {
     "name": "stdout",
     "output_type": "stream",
     "text": [
      "problem on 2014 3 P3\n",
      "problem on 2014 4 P1\n",
      "problem on 2014 4 P2\n"
     ]
    },
    {
     "name": "stderr",
     "output_type": "stream",
     "text": [
      "core           INFO \tLoading laps for Chinese Grand Prix - Practice 3 [v2.1.12]\n",
      "api            INFO \tNo cached data found for timing_data. Loading data...\n",
      "api            INFO \tFetching timing data...\n",
      "core           INFO \tLoading laps for Spanish Grand Prix - Practice 1 [v2.1.12]\n",
      "api            INFO \tNo cached data found for timing_data. Loading data...\n",
      "api            INFO \tFetching timing data...\n",
      "core           INFO \tLoading laps for Spanish Grand Prix - Practice 2 [v2.1.12]\n",
      "api            INFO \tNo cached data found for timing_data. Loading data...\n",
      "api            INFO \tFetching timing data...\n"
     ]
    },
    {
     "name": "stdout",
     "output_type": "stream",
     "text": [
      "problem on 2014 4 P3\n",
      "problem on 2014 5 P1\n",
      "problem on 2014 5 P2\n"
     ]
    },
    {
     "name": "stderr",
     "output_type": "stream",
     "text": [
      "core           INFO \tLoading laps for Spanish Grand Prix - Practice 3 [v2.1.12]\n",
      "api            INFO \tNo cached data found for timing_data. Loading data...\n",
      "api            INFO \tFetching timing data...\n",
      "core           INFO \tLoading laps for Monaco Grand Prix - Practice 1 [v2.1.12]\n",
      "api            INFO \tNo cached data found for timing_data. Loading data...\n",
      "api            INFO \tFetching timing data...\n",
      "core           INFO \tLoading laps for Monaco Grand Prix - Practice 2 [v2.1.12]\n",
      "api            INFO \tNo cached data found for timing_data. Loading data...\n",
      "api            INFO \tFetching timing data...\n"
     ]
    },
    {
     "name": "stdout",
     "output_type": "stream",
     "text": [
      "problem on 2014 5 P3\n",
      "problem on 2014 6 P1\n",
      "problem on 2014 6 P2\n"
     ]
    },
    {
     "name": "stderr",
     "output_type": "stream",
     "text": [
      "core           INFO \tLoading laps for Monaco Grand Prix - Practice 3 [v2.1.12]\n",
      "api            INFO \tNo cached data found for timing_data. Loading data...\n",
      "api            INFO \tFetching timing data...\n",
      "core           INFO \tLoading laps for Canadian Grand Prix - Practice 1 [v2.1.12]\n",
      "api            INFO \tNo cached data found for timing_data. Loading data...\n",
      "api            INFO \tFetching timing data...\n",
      "core           INFO \tLoading laps for Canadian Grand Prix - Practice 2 [v2.1.12]\n",
      "api            INFO \tNo cached data found for timing_data. Loading data...\n",
      "api            INFO \tFetching timing data...\n"
     ]
    },
    {
     "name": "stdout",
     "output_type": "stream",
     "text": [
      "problem on 2014 6 P3\n",
      "problem on 2014 7 P1\n",
      "problem on 2014 7 P2\n"
     ]
    },
    {
     "name": "stderr",
     "output_type": "stream",
     "text": [
      "core           INFO \tLoading laps for Canadian Grand Prix - Practice 3 [v2.1.12]\n",
      "api            INFO \tNo cached data found for timing_data. Loading data...\n",
      "api            INFO \tFetching timing data...\n",
      "core           INFO \tLoading laps for Austrian Grand Prix - Practice 1 [v2.1.12]\n",
      "api            INFO \tNo cached data found for timing_data. Loading data...\n",
      "api            INFO \tFetching timing data...\n",
      "core           INFO \tLoading laps for Austrian Grand Prix - Practice 2 [v2.1.12]\n",
      "api            INFO \tNo cached data found for timing_data. Loading data...\n",
      "api            INFO \tFetching timing data...\n"
     ]
    },
    {
     "name": "stdout",
     "output_type": "stream",
     "text": [
      "problem on 2014 7 P3\n",
      "problem on 2014 8 P1\n",
      "problem on 2014 8 P2\n"
     ]
    },
    {
     "name": "stderr",
     "output_type": "stream",
     "text": [
      "core           INFO \tLoading laps for Austrian Grand Prix - Practice 3 [v2.1.12]\n",
      "api            INFO \tNo cached data found for timing_data. Loading data...\n",
      "api            INFO \tFetching timing data...\n",
      "core           INFO \tLoading laps for British Grand Prix - Practice 1 [v2.1.12]\n",
      "api            INFO \tNo cached data found for timing_data. Loading data...\n",
      "api            INFO \tFetching timing data...\n",
      "core           INFO \tLoading laps for British Grand Prix - Practice 2 [v2.1.12]\n",
      "api            INFO \tNo cached data found for timing_data. Loading data...\n",
      "api            INFO \tFetching timing data...\n",
      "core           INFO \tLoading laps for British Grand Prix - Practice 3 [v2.1.12]\n"
     ]
    },
    {
     "name": "stdout",
     "output_type": "stream",
     "text": [
      "problem on 2014 8 P3\n",
      "problem on 2014 9 P1\n",
      "problem on 2014 9 P2\n"
     ]
    },
    {
     "name": "stderr",
     "output_type": "stream",
     "text": [
      "api            INFO \tNo cached data found for timing_data. Loading data...\n",
      "api            INFO \tFetching timing data...\n",
      "core           INFO \tLoading laps for German Grand Prix - Practice 1 [v2.1.12]\n",
      "api            INFO \tNo cached data found for timing_data. Loading data...\n",
      "api            INFO \tFetching timing data...\n",
      "core           INFO \tLoading laps for German Grand Prix - Practice 2 [v2.1.12]\n",
      "api            INFO \tNo cached data found for timing_data. Loading data...\n",
      "api            INFO \tFetching timing data...\n"
     ]
    },
    {
     "name": "stdout",
     "output_type": "stream",
     "text": [
      "problem on 2014 9 P3\n",
      "problem on 2014 10 P1\n",
      "problem on 2014 10 P2\n"
     ]
    },
    {
     "name": "stderr",
     "output_type": "stream",
     "text": [
      "core           INFO \tLoading laps for German Grand Prix - Practice 3 [v2.1.12]\n",
      "api            INFO \tNo cached data found for timing_data. Loading data...\n",
      "api            INFO \tFetching timing data...\n",
      "core           INFO \tLoading laps for Hungarian Grand Prix - Practice 1 [v2.1.12]\n",
      "api            INFO \tNo cached data found for timing_data. Loading data...\n",
      "api            INFO \tFetching timing data...\n",
      "core           INFO \tLoading laps for Hungarian Grand Prix - Practice 2 [v2.1.12]\n",
      "api            INFO \tNo cached data found for timing_data. Loading data...\n",
      "api            INFO \tFetching timing data...\n",
      "core           INFO \tLoading laps for Hungarian Grand Prix - Practice 3 [v2.1.12]\n"
     ]
    },
    {
     "name": "stdout",
     "output_type": "stream",
     "text": [
      "problem on 2014 10 P3\n",
      "problem on 2014 11 P1\n",
      "problem on 2014 11 P2\n"
     ]
    },
    {
     "name": "stderr",
     "output_type": "stream",
     "text": [
      "api            INFO \tNo cached data found for timing_data. Loading data...\n",
      "api            INFO \tFetching timing data...\n",
      "core           INFO \tLoading laps for Belgian Grand Prix - Practice 1 [v2.1.12]\n",
      "api            INFO \tNo cached data found for timing_data. Loading data...\n",
      "api            INFO \tFetching timing data...\n",
      "core           INFO \tLoading laps for Belgian Grand Prix - Practice 2 [v2.1.12]\n",
      "api            INFO \tNo cached data found for timing_data. Loading data...\n",
      "api            INFO \tFetching timing data...\n"
     ]
    },
    {
     "name": "stdout",
     "output_type": "stream",
     "text": [
      "problem on 2014 11 P3\n",
      "problem on 2014 12 P1\n",
      "problem on 2014 12 P2\n"
     ]
    },
    {
     "name": "stderr",
     "output_type": "stream",
     "text": [
      "core           INFO \tLoading laps for Belgian Grand Prix - Practice 3 [v2.1.12]\n",
      "api            INFO \tNo cached data found for timing_data. Loading data...\n",
      "api            INFO \tFetching timing data...\n",
      "core           INFO \tLoading laps for Italian Grand Prix - Practice 1 [v2.1.12]\n",
      "api            INFO \tNo cached data found for timing_data. Loading data...\n",
      "api            INFO \tFetching timing data...\n",
      "core           INFO \tLoading laps for Italian Grand Prix - Practice 2 [v2.1.12]\n",
      "api            INFO \tNo cached data found for timing_data. Loading data...\n",
      "api            INFO \tFetching timing data...\n"
     ]
    },
    {
     "name": "stdout",
     "output_type": "stream",
     "text": [
      "problem on 2014 12 P3\n",
      "problem on 2014 13 P1\n",
      "problem on 2014 13 P2\n"
     ]
    },
    {
     "name": "stderr",
     "output_type": "stream",
     "text": [
      "core           INFO \tLoading laps for Italian Grand Prix - Practice 3 [v2.1.12]\n",
      "api            INFO \tNo cached data found for timing_data. Loading data...\n",
      "api            INFO \tFetching timing data...\n",
      "core           INFO \tLoading laps for Singapore Grand Prix - Practice 1 [v2.1.12]\n",
      "api            INFO \tNo cached data found for timing_data. Loading data...\n",
      "api            INFO \tFetching timing data...\n",
      "core           INFO \tLoading laps for Singapore Grand Prix - Practice 2 [v2.1.12]\n",
      "api            INFO \tNo cached data found for timing_data. Loading data...\n",
      "api            INFO \tFetching timing data...\n"
     ]
    },
    {
     "name": "stdout",
     "output_type": "stream",
     "text": [
      "problem on 2014 13 P3\n",
      "problem on 2014 14 P1\n",
      "problem on 2014 14 P2\n"
     ]
    },
    {
     "name": "stderr",
     "output_type": "stream",
     "text": [
      "core           INFO \tLoading laps for Singapore Grand Prix - Practice 3 [v2.1.12]\n",
      "api            INFO \tNo cached data found for timing_data. Loading data...\n",
      "api            INFO \tFetching timing data...\n",
      "core           INFO \tLoading laps for Japanese Grand Prix - Practice 1 [v2.1.12]\n",
      "api            INFO \tNo cached data found for timing_data. Loading data...\n",
      "api            INFO \tFetching timing data...\n",
      "core           INFO \tLoading laps for Japanese Grand Prix - Practice 2 [v2.1.12]\n",
      "api            INFO \tNo cached data found for timing_data. Loading data...\n",
      "api            INFO \tFetching timing data...\n"
     ]
    },
    {
     "name": "stdout",
     "output_type": "stream",
     "text": [
      "problem on 2014 14 P3\n",
      "problem on 2014 15 P1\n",
      "problem on 2014 15 P2\n"
     ]
    },
    {
     "name": "stderr",
     "output_type": "stream",
     "text": [
      "core           INFO \tLoading laps for Japanese Grand Prix - Practice 3 [v2.1.12]\n",
      "api            INFO \tNo cached data found for timing_data. Loading data...\n",
      "api            INFO \tFetching timing data...\n",
      "core           INFO \tLoading laps for Russian Grand Prix - Practice 1 [v2.1.12]\n",
      "api            INFO \tNo cached data found for timing_data. Loading data...\n",
      "api            INFO \tFetching timing data...\n",
      "core           INFO \tLoading laps for Russian Grand Prix - Practice 2 [v2.1.12]\n",
      "api            INFO \tNo cached data found for timing_data. Loading data...\n",
      "api            INFO \tFetching timing data...\n",
      "core           INFO \tLoading laps for Russian Grand Prix - Practice 3 [v2.1.12]\n"
     ]
    },
    {
     "name": "stdout",
     "output_type": "stream",
     "text": [
      "problem on 2014 15 P3\n",
      "problem on 2014 16 P1\n",
      "problem on 2014 16 P2\n"
     ]
    },
    {
     "name": "stderr",
     "output_type": "stream",
     "text": [
      "api            INFO \tNo cached data found for timing_data. Loading data...\n",
      "api            INFO \tFetching timing data...\n",
      "core           INFO \tLoading laps for United States Grand Prix - Practice 1 [v2.1.12]\n",
      "api            INFO \tNo cached data found for timing_data. Loading data...\n",
      "api            INFO \tFetching timing data...\n",
      "core           INFO \tLoading laps for United States Grand Prix - Practice 2 [v2.1.12]\n",
      "api            INFO \tNo cached data found for timing_data. Loading data...\n",
      "api            INFO \tFetching timing data...\n",
      "core           INFO \tLoading laps for United States Grand Prix - Practice 3 [v2.1.12]\n"
     ]
    },
    {
     "name": "stdout",
     "output_type": "stream",
     "text": [
      "problem on 2014 16 P3\n",
      "problem on 2014 17 P1\n",
      "problem on 2014 17 P2\n"
     ]
    },
    {
     "name": "stderr",
     "output_type": "stream",
     "text": [
      "api            INFO \tNo cached data found for timing_data. Loading data...\n",
      "api            INFO \tFetching timing data...\n",
      "core           INFO \tLoading laps for Brazilian Grand Prix - Practice 1 [v2.1.12]\n",
      "api            INFO \tNo cached data found for timing_data. Loading data...\n",
      "api            INFO \tFetching timing data...\n",
      "core           INFO \tLoading laps for Brazilian Grand Prix - Practice 2 [v2.1.12]\n",
      "api            INFO \tNo cached data found for timing_data. Loading data...\n",
      "api            INFO \tFetching timing data...\n",
      "core           INFO \tLoading laps for Brazilian Grand Prix - Practice 3 [v2.1.12]\n"
     ]
    },
    {
     "name": "stdout",
     "output_type": "stream",
     "text": [
      "problem on 2014 17 P3\n",
      "problem on 2014 18 P1\n",
      "problem on 2014 18 P2\n"
     ]
    },
    {
     "name": "stderr",
     "output_type": "stream",
     "text": [
      "api            INFO \tNo cached data found for timing_data. Loading data...\n",
      "api            INFO \tFetching timing data...\n",
      "core           INFO \tLoading laps for Abu Dhabi Grand Prix - Practice 1 [v2.1.12]\n",
      "api            INFO \tNo cached data found for timing_data. Loading data...\n",
      "api            INFO \tFetching timing data...\n",
      "core           INFO \tLoading laps for Abu Dhabi Grand Prix - Practice 2 [v2.1.12]\n",
      "api            INFO \tNo cached data found for timing_data. Loading data...\n",
      "api            INFO \tFetching timing data...\n"
     ]
    },
    {
     "name": "stdout",
     "output_type": "stream",
     "text": [
      "problem on 2014 18 P3\n",
      "problem on 2014 19 P1\n"
     ]
    },
    {
     "name": "stderr",
     "output_type": "stream",
     "text": [
      "core           INFO \tLoading laps for Abu Dhabi Grand Prix - Practice 3 [v2.1.12]\n",
      "api            INFO \tNo cached data found for timing_data. Loading data...\n",
      "api            INFO \tFetching timing data...\n",
      "core       CRITICAL \tFailed to load critical data from Ergast!\n",
      "\n",
      " Cannot determine the date and name of the event. Cannot proceed!\n",
      "\n",
      "core       CRITICAL \tlist index out of range\n",
      "core       CRITICAL \tFailed to load critical data from Ergast!\n",
      "\n",
      " Cannot determine the date and name of the event. Cannot proceed!\n",
      "\n",
      "core       CRITICAL \tlist index out of range\n",
      "core       CRITICAL \tFailed to load critical data from Ergast!\n",
      "\n",
      " Cannot determine the date and name of the event. Cannot proceed!\n",
      "\n",
      "core       CRITICAL \tlist index out of range\n",
      "core       CRITICAL \tFailed to load critical data from Ergast!\n",
      "\n",
      " Cannot determine the date and name of the event. Cannot proceed!\n",
      "\n",
      "core       CRITICAL \tlist index out of range\n",
      "core       CRITICAL \tFailed to load critical data from Ergast!\n",
      "\n",
      " Cannot determine the date and name of the event. Cannot proceed!\n",
      "\n",
      "core       CRITICAL \tlist index out of range\n",
      "core       CRITICAL \tFailed to load critical data from Ergast!\n",
      "\n",
      " Cannot determine the date and name of the event. Cannot proceed!\n",
      "\n",
      "core       CRITICAL \tlist index out of range\n",
      "core       CRITICAL \tFailed to load critical data from Ergast!\n",
      "\n",
      " Cannot determine the date and name of the event. Cannot proceed!\n",
      "\n",
      "core       CRITICAL \tlist index out of range\n",
      "core       CRITICAL \tFailed to load critical data from Ergast!\n",
      "\n",
      " Cannot determine the date and name of the event. Cannot proceed!\n",
      "\n",
      "core       CRITICAL \tlist index out of range\n",
      "core       CRITICAL \tFailed to load critical data from Ergast!\n",
      "\n",
      " Cannot determine the date and name of the event. Cannot proceed!\n",
      "\n",
      "core       CRITICAL \tlist index out of range\n",
      "core           INFO \tLoading laps for Australian Grand Prix - Practice 1 [v2.1.12]\n"
     ]
    },
    {
     "name": "stdout",
     "output_type": "stream",
     "text": [
      "problem on 2014 19 P2\n",
      "problem on 2014 19 P3\n",
      "problem on 2014 20 P1\n",
      "problem on 2014 20 P2\n",
      "problem on 2014 20 P3\n",
      "problem on 2014 21 P1\n",
      "problem on 2014 21 P2\n",
      "problem on 2014 21 P3\n",
      "problem on 2014 22 P1\n",
      "problem on 2014 22 P2\n",
      "problem on 2014 22 P3\n"
     ]
    },
    {
     "name": "stderr",
     "output_type": "stream",
     "text": [
      "api            INFO \tNo cached data found for timing_data. Loading data...\n",
      "api            INFO \tFetching timing data...\n",
      "core           INFO \tLoading laps for Australian Grand Prix - Practice 2 [v2.1.12]\n",
      "api            INFO \tNo cached data found for timing_data. Loading data...\n",
      "api            INFO \tFetching timing data...\n",
      "core           INFO \tLoading laps for Australian Grand Prix - Practice 3 [v2.1.12]\n",
      "api            INFO \tNo cached data found for timing_data. Loading data...\n",
      "api            INFO \tFetching timing data...\n"
     ]
    },
    {
     "name": "stdout",
     "output_type": "stream",
     "text": [
      "problem on 2015 1 P1\n",
      "problem on 2015 1 P2\n",
      "problem on 2015 1 P3"
     ]
    },
    {
     "name": "stderr",
     "output_type": "stream",
     "text": [
      "core           INFO \tLoading laps for Malaysian Grand Prix - Practice 1 [v2.1.12]\n",
      "api            INFO \tNo cached data found for timing_data. Loading data...\n",
      "api            INFO \tFetching timing data...\n",
      "core           INFO \tLoading laps for Malaysian Grand Prix - Practice 2 [v2.1.12]\n",
      "api            INFO \tNo cached data found for timing_data. Loading data...\n",
      "api            INFO \tFetching timing data...\n"
     ]
    },
    {
     "name": "stdout",
     "output_type": "stream",
     "text": [
      "\n",
      "problem on 2015 2 P1\n",
      "problem on 2015 2 P2\n"
     ]
    },
    {
     "name": "stderr",
     "output_type": "stream",
     "text": [
      "core           INFO \tLoading laps for Malaysian Grand Prix - Practice 3 [v2.1.12]\n",
      "api            INFO \tNo cached data found for timing_data. Loading data...\n",
      "api            INFO \tFetching timing data...\n",
      "core           INFO \tLoading laps for Chinese Grand Prix - Practice 1 [v2.1.12]\n",
      "api            INFO \tNo cached data found for timing_data. Loading data...\n",
      "api            INFO \tFetching timing data...\n",
      "core           INFO \tLoading laps for Chinese Grand Prix - Practice 2 [v2.1.12]\n",
      "api            INFO \tNo cached data found for timing_data. Loading data...\n",
      "api            INFO \tFetching timing data...\n"
     ]
    },
    {
     "name": "stdout",
     "output_type": "stream",
     "text": [
      "problem on 2015 2 P3\n",
      "problem on 2015 3 P1\n"
     ]
    },
    {
     "name": "stderr",
     "output_type": "stream",
     "text": [
      "core           INFO \tLoading laps for Chinese Grand Prix - Practice 3 [v2.1.12]\n",
      "api            INFO \tNo cached data found for timing_data. Loading data...\n",
      "api            INFO \tFetching timing data...\n",
      "core           INFO \tLoading laps for Bahrain Grand Prix - Practice 1 [v2.1.12]\n",
      "api            INFO \tNo cached data found for timing_data. Loading data...\n",
      "api            INFO \tFetching timing data...\n"
     ]
    },
    {
     "name": "stdout",
     "output_type": "stream",
     "text": [
      "problem on 2015 3 P2\n",
      "problem on 2015 3 P3\n"
     ]
    },
    {
     "name": "stderr",
     "output_type": "stream",
     "text": [
      "core           INFO \tLoading laps for Bahrain Grand Prix - Practice 2 [v2.1.12]\n",
      "api            INFO \tNo cached data found for timing_data. Loading data...\n",
      "api            INFO \tFetching timing data...\n",
      "core           INFO \tLoading laps for Bahrain Grand Prix - Practice 3 [v2.1.12]\n",
      "api            INFO \tNo cached data found for timing_data. Loading data...\n",
      "api            INFO \tFetching timing data...\n",
      "core           INFO \tLoading laps for Spanish Grand Prix - Practice 1 [v2.1.12]\n"
     ]
    },
    {
     "name": "stdout",
     "output_type": "stream",
     "text": [
      "problem on 2015 4 P1\n",
      "problem on 2015 4 P2\n",
      "problem on 2015 4 P3\n"
     ]
    },
    {
     "name": "stderr",
     "output_type": "stream",
     "text": [
      "api            INFO \tNo cached data found for timing_data. Loading data...\n",
      "api            INFO \tFetching timing data...\n",
      "core           INFO \tLoading laps for Spanish Grand Prix - Practice 2 [v2.1.12]\n",
      "api            INFO \tNo cached data found for timing_data. Loading data...\n",
      "api            INFO \tFetching timing data...\n",
      "core           INFO \tLoading laps for Spanish Grand Prix - Practice 3 [v2.1.12]\n",
      "api            INFO \tNo cached data found for timing_data. Loading data...\n",
      "api            INFO \tFetching timing data...\n"
     ]
    },
    {
     "name": "stdout",
     "output_type": "stream",
     "text": [
      "problem on 2015 5 P1\n",
      "problem on 2015 5 P2\n",
      "problem on 2015 5 P3\n"
     ]
    },
    {
     "name": "stderr",
     "output_type": "stream",
     "text": [
      "core           INFO \tLoading laps for Monaco Grand Prix - Practice 1 [v2.1.12]\n",
      "api            INFO \tNo cached data found for timing_data. Loading data...\n",
      "api            INFO \tFetching timing data...\n",
      "core           INFO \tLoading laps for Monaco Grand Prix - Practice 2 [v2.1.12]\n",
      "api            INFO \tNo cached data found for timing_data. Loading data...\n",
      "api            INFO \tFetching timing data...\n",
      "core           INFO \tLoading laps for Monaco Grand Prix - Practice 3 [v2.1.12]\n",
      "api            INFO \tNo cached data found for timing_data. Loading data...\n",
      "api            INFO \tFetching timing data...\n"
     ]
    },
    {
     "name": "stdout",
     "output_type": "stream",
     "text": [
      "problem on 2015 6 P1\n",
      "problem on 2015 6 P2\n",
      "problem on 2015 6 P3\n"
     ]
    },
    {
     "name": "stderr",
     "output_type": "stream",
     "text": [
      "core           INFO \tLoading laps for Canadian Grand Prix - Practice 1 [v2.1.12]\n",
      "api            INFO \tNo cached data found for timing_data. Loading data...\n",
      "api            INFO \tFetching timing data...\n",
      "core           INFO \tLoading laps for Canadian Grand Prix - Practice 2 [v2.1.12]\n",
      "api            INFO \tNo cached data found for timing_data. Loading data...\n",
      "api            INFO \tFetching timing data...\n",
      "core           INFO \tLoading laps for Canadian Grand Prix - Practice 3 [v2.1.12]\n",
      "api            INFO \tNo cached data found for timing_data. Loading data...\n",
      "api            INFO \tFetching timing data...\n"
     ]
    },
    {
     "name": "stdout",
     "output_type": "stream",
     "text": [
      "problem on 2015 7 P1\n",
      "problem on 2015 7 P2\n",
      "problem on 2015 7 P3\n"
     ]
    },
    {
     "name": "stderr",
     "output_type": "stream",
     "text": [
      "core           INFO \tLoading laps for Austrian Grand Prix - Practice 1 [v2.1.12]\n",
      "api            INFO \tNo cached data found for timing_data. Loading data...\n",
      "api            INFO \tFetching timing data...\n",
      "core           INFO \tLoading laps for Austrian Grand Prix - Practice 2 [v2.1.12]\n",
      "api            INFO \tNo cached data found for timing_data. Loading data...\n",
      "api            INFO \tFetching timing data...\n",
      "core           INFO \tLoading laps for Austrian Grand Prix - Practice 3 [v2.1.12]\n",
      "api            INFO \tNo cached data found for timing_data. Loading data...\n",
      "api            INFO \tFetching timing data...\n"
     ]
    },
    {
     "name": "stdout",
     "output_type": "stream",
     "text": [
      "problem on 2015 8 P1\n",
      "problem on 2015 8 P2\n",
      "problem on 2015 8 P3\n"
     ]
    },
    {
     "name": "stderr",
     "output_type": "stream",
     "text": [
      "core           INFO \tLoading laps for British Grand Prix - Practice 1 [v2.1.12]\n",
      "api            INFO \tNo cached data found for timing_data. Loading data...\n",
      "api            INFO \tFetching timing data...\n",
      "core           INFO \tLoading laps for British Grand Prix - Practice 2 [v2.1.12]\n",
      "api            INFO \tNo cached data found for timing_data. Loading data...\n",
      "api            INFO \tFetching timing data...\n"
     ]
    },
    {
     "name": "stdout",
     "output_type": "stream",
     "text": [
      "problem on 2015 9 P1\n",
      "problem on 2015 9 P2\n"
     ]
    },
    {
     "name": "stderr",
     "output_type": "stream",
     "text": [
      "core           INFO \tLoading laps for British Grand Prix - Practice 3 [v2.1.12]\n",
      "api            INFO \tNo cached data found for timing_data. Loading data...\n",
      "api            INFO \tFetching timing data...\n",
      "core           INFO \tLoading laps for Hungarian Grand Prix - Practice 1 [v2.1.12]\n",
      "api            INFO \tNo cached data found for timing_data. Loading data...\n",
      "api            INFO \tFetching timing data...\n"
     ]
    },
    {
     "name": "stdout",
     "output_type": "stream",
     "text": [
      "problem on 2015 9 P3\n",
      "problem on 2015 10 P1\n"
     ]
    },
    {
     "name": "stderr",
     "output_type": "stream",
     "text": [
      "core           INFO \tLoading laps for Hungarian Grand Prix - Practice 2 [v2.1.12]\n",
      "api            INFO \tNo cached data found for timing_data. Loading data...\n",
      "api            INFO \tFetching timing data...\n",
      "core           INFO \tLoading laps for Hungarian Grand Prix - Practice 3 [v2.1.12]\n",
      "api            INFO \tNo cached data found for timing_data. Loading data...\n",
      "api            INFO \tFetching timing data...\n",
      "core           INFO \tLoading laps for Belgian Grand Prix - Practice 1 [v2.1.12]\n",
      "api            INFO \tNo cached data found for timing_data. Loading data...\n",
      "api            INFO \tFetching timing data...\n",
      "core           INFO \tLoading laps for Belgian Grand Prix - Practice 2 [v2.1.12]\n"
     ]
    },
    {
     "name": "stdout",
     "output_type": "stream",
     "text": [
      "problem on 2015 10 P2\n",
      "problem on 2015 10 P3\n",
      "problem on 2015 11 P1\n"
     ]
    },
    {
     "name": "stderr",
     "output_type": "stream",
     "text": [
      "api            INFO \tNo cached data found for timing_data. Loading data...\n",
      "api            INFO \tFetching timing data...\n",
      "core           INFO \tLoading laps for Belgian Grand Prix - Practice 3 [v2.1.12]\n",
      "api            INFO \tNo cached data found for timing_data. Loading data...\n",
      "api            INFO \tFetching timing data...\n",
      "core           INFO \tLoading laps for Italian Grand Prix - Practice 1 [v2.1.12]\n",
      "api            INFO \tNo cached data found for timing_data. Loading data...\n",
      "api            INFO \tFetching timing data...\n",
      "core           INFO \tLoading laps for Italian Grand Prix - Practice 2 [v2.1.12]\n"
     ]
    },
    {
     "name": "stdout",
     "output_type": "stream",
     "text": [
      "problem on 2015 11 P2\n",
      "problem on 2015 11 P3\n",
      "problem on 2015 12 P1\n"
     ]
    },
    {
     "name": "stderr",
     "output_type": "stream",
     "text": [
      "api            INFO \tNo cached data found for timing_data. Loading data...\n",
      "api            INFO \tFetching timing data...\n",
      "core           INFO \tLoading laps for Italian Grand Prix - Practice 3 [v2.1.12]\n",
      "api            INFO \tNo cached data found for timing_data. Loading data...\n",
      "api            INFO \tFetching timing data...\n",
      "core           INFO \tLoading laps for Singapore Grand Prix - Practice 1 [v2.1.12]\n",
      "api            INFO \tNo cached data found for timing_data. Loading data...\n",
      "api            INFO \tFetching timing data...\n",
      "core           INFO \tLoading laps for Singapore Grand Prix - Practice 2 [v2.1.12]\n"
     ]
    },
    {
     "name": "stdout",
     "output_type": "stream",
     "text": [
      "problem on 2015 12 P2\n",
      "problem on 2015 12 P3\n",
      "problem on 2015 13 P1\n"
     ]
    },
    {
     "name": "stderr",
     "output_type": "stream",
     "text": [
      "api            INFO \tNo cached data found for timing_data. Loading data...\n",
      "api            INFO \tFetching timing data...\n",
      "core           INFO \tLoading laps for Singapore Grand Prix - Practice 3 [v2.1.12]\n",
      "api            INFO \tNo cached data found for timing_data. Loading data...\n",
      "api            INFO \tFetching timing data...\n",
      "core           INFO \tLoading laps for Japanese Grand Prix - Practice 1 [v2.1.12]\n",
      "api            INFO \tNo cached data found for timing_data. Loading data...\n",
      "api            INFO \tFetching timing data...\n",
      "core           INFO \tLoading laps for Japanese Grand Prix - Practice 2 [v2.1.12]\n",
      "api            INFO \tNo cached data found for timing_data. Loading data...\n",
      "api            INFO \tFetching timing data...\n"
     ]
    },
    {
     "name": "stdout",
     "output_type": "stream",
     "text": [
      "problem on 2015 13 P2\n",
      "problem on 2015 13 P3\n",
      "problem on 2015 14 P1\n"
     ]
    },
    {
     "name": "stderr",
     "output_type": "stream",
     "text": [
      "core           INFO \tLoading laps for Japanese Grand Prix - Practice 3 [v2.1.12]\n",
      "api            INFO \tNo cached data found for timing_data. Loading data...\n",
      "api            INFO \tFetching timing data...\n",
      "core           INFO \tLoading laps for Russian Grand Prix - Practice 1 [v2.1.12]\n",
      "api            INFO \tNo cached data found for timing_data. Loading data...\n",
      "api            INFO \tFetching timing data...\n"
     ]
    },
    {
     "name": "stdout",
     "output_type": "stream",
     "text": [
      "problem on 2015 14 P2\n",
      "problem on 2015 14 P3\n",
      "problem on 2015 15 P1\n"
     ]
    },
    {
     "name": "stderr",
     "output_type": "stream",
     "text": [
      "core           INFO \tLoading laps for Russian Grand Prix - Practice 2 [v2.1.12]\n",
      "api            INFO \tNo cached data found for timing_data. Loading data...\n",
      "api            INFO \tFetching timing data...\n",
      "core           INFO \tLoading laps for Russian Grand Prix - Practice 3 [v2.1.12]\n",
      "api            INFO \tNo cached data found for timing_data. Loading data...\n",
      "api            INFO \tFetching timing data...\n",
      "core           INFO \tLoading laps for United States Grand Prix - Practice 1 [v2.1.12]\n",
      "api            INFO \tNo cached data found for timing_data. Loading data...\n",
      "api            INFO \tFetching timing data...\n"
     ]
    },
    {
     "name": "stdout",
     "output_type": "stream",
     "text": [
      "problem on 2015 15 P2\n",
      "problem on 2015 15 P3\n",
      "problem on 2015 16 P1\n"
     ]
    },
    {
     "name": "stderr",
     "output_type": "stream",
     "text": [
      "core           INFO \tLoading laps for United States Grand Prix - Practice 2 [v2.1.12]\n",
      "api            INFO \tNo cached data found for timing_data. Loading data...\n",
      "api            INFO \tFetching timing data...\n",
      "core           INFO \tLoading laps for United States Grand Prix - Practice 3 [v2.1.12]\n",
      "api            INFO \tNo cached data found for timing_data. Loading data...\n",
      "api            INFO \tFetching timing data...\n",
      "core           INFO \tLoading laps for Mexican Grand Prix - Practice 1 [v2.1.12]\n",
      "api            INFO \tNo cached data found for timing_data. Loading data...\n",
      "api            INFO \tFetching timing data...\n"
     ]
    },
    {
     "name": "stdout",
     "output_type": "stream",
     "text": [
      "problem on 2015 16 P2\n",
      "problem on 2015 16 P3\n",
      "problem on 2015 17 P1\n"
     ]
    },
    {
     "name": "stderr",
     "output_type": "stream",
     "text": [
      "core           INFO \tLoading laps for Mexican Grand Prix - Practice 2 [v2.1.12]\n",
      "api            INFO \tNo cached data found for timing_data. Loading data...\n",
      "api            INFO \tFetching timing data...\n",
      "core           INFO \tLoading laps for Mexican Grand Prix - Practice 3 [v2.1.12]\n",
      "api            INFO \tNo cached data found for timing_data. Loading data...\n",
      "api            INFO \tFetching timing data...\n",
      "core           INFO \tLoading laps for Brazilian Grand Prix - Practice 1 [v2.1.12]\n",
      "api            INFO \tNo cached data found for timing_data. Loading data...\n",
      "api            INFO \tFetching timing data...\n"
     ]
    },
    {
     "name": "stdout",
     "output_type": "stream",
     "text": [
      "problem on 2015 17 P2\n",
      "problem on 2015 17 P3\n",
      "problem on 2015 18 P1\n"
     ]
    },
    {
     "name": "stderr",
     "output_type": "stream",
     "text": [
      "core           INFO \tLoading laps for Brazilian Grand Prix - Practice 2 [v2.1.12]\n",
      "api            INFO \tNo cached data found for timing_data. Loading data...\n",
      "api            INFO \tFetching timing data...\n",
      "core           INFO \tLoading laps for Brazilian Grand Prix - Practice 3 [v2.1.12]\n",
      "api            INFO \tNo cached data found for timing_data. Loading data...\n",
      "api            INFO \tFetching timing data...\n",
      "core           INFO \tLoading laps for Abu Dhabi Grand Prix - Practice 1 [v2.1.12]\n",
      "api            INFO \tNo cached data found for timing_data. Loading data...\n",
      "api            INFO \tFetching timing data...\n"
     ]
    },
    {
     "name": "stdout",
     "output_type": "stream",
     "text": [
      "problem on 2015 18 P2\n",
      "problem on 2015 18 P3\n",
      "problem on 2015 19 P1\n"
     ]
    },
    {
     "name": "stderr",
     "output_type": "stream",
     "text": [
      "core           INFO \tLoading laps for Abu Dhabi Grand Prix - Practice 2 [v2.1.12]\n",
      "api            INFO \tNo cached data found for timing_data. Loading data...\n",
      "api            INFO \tFetching timing data...\n",
      "core           INFO \tLoading laps for Abu Dhabi Grand Prix - Practice 3 [v2.1.12]\n",
      "api            INFO \tNo cached data found for timing_data. Loading data...\n",
      "api            INFO \tFetching timing data...\n",
      "core       CRITICAL \tFailed to load critical data from Ergast!\n",
      "\n",
      " Cannot determine the date and name of the event. Cannot proceed!\n",
      "\n",
      "core       CRITICAL \tlist index out of range\n",
      "core       CRITICAL \tFailed to load critical data from Ergast!\n",
      "\n",
      " Cannot determine the date and name of the event. Cannot proceed!\n",
      "\n",
      "core       CRITICAL \tlist index out of range\n",
      "core       CRITICAL \tFailed to load critical data from Ergast!\n",
      "\n",
      " Cannot determine the date and name of the event. Cannot proceed!\n",
      "\n",
      "core       CRITICAL \tlist index out of range\n",
      "core       CRITICAL \tFailed to load critical data from Ergast!\n",
      "\n",
      " Cannot determine the date and name of the event. Cannot proceed!\n",
      "\n",
      "core       CRITICAL \tlist index out of range\n",
      "core       CRITICAL \tFailed to load critical data from Ergast!\n",
      "\n",
      " Cannot determine the date and name of the event. Cannot proceed!\n",
      "\n",
      "core       CRITICAL \tlist index out of range\n",
      "core       CRITICAL \tFailed to load critical data from Ergast!\n",
      "\n",
      " Cannot determine the date and name of the event. Cannot proceed!\n",
      "\n",
      "core       CRITICAL \tlist index out of range\n",
      "core       CRITICAL \tFailed to load critical data from Ergast!\n",
      "\n",
      " Cannot determine the date and name of the event. Cannot proceed!\n",
      "\n",
      "core       CRITICAL \tlist index out of range\n",
      "core       CRITICAL \tFailed to load critical data from Ergast!\n",
      "\n",
      " Cannot determine the date and name of the event. Cannot proceed!\n",
      "\n",
      "core       CRITICAL \tlist index out of range\n",
      "core       CRITICAL \tFailed to load critical data from Ergast!\n",
      "\n",
      " Cannot determine the date and name of the event. Cannot proceed!\n",
      "\n",
      "core       CRITICAL \tlist index out of range\n",
      "core           INFO \tLoading laps for Australian Grand Prix - Practice 1 [v2.1.12]\n"
     ]
    },
    {
     "name": "stdout",
     "output_type": "stream",
     "text": [
      "problem on 2015 19 P2\n",
      "problem on 2015 19 P3\n",
      "problem on 2015 20 P1\n",
      "problem on 2015 20 P2\n",
      "problem on 2015 20 P3\n",
      "problem on 2015 21 P1\n",
      "problem on 2015 21 P2\n",
      "problem on 2015 21 P3\n",
      "problem on 2015 22 P1\n",
      "problem on 2015 22 P2\n",
      "problem on 2015 22 P3\n"
     ]
    },
    {
     "name": "stderr",
     "output_type": "stream",
     "text": [
      "api            INFO \tNo cached data found for timing_data. Loading data...\n",
      "api            INFO \tFetching timing data...\n",
      "core           INFO \tLoading laps for Australian Grand Prix - Practice 2 [v2.1.12]\n",
      "api            INFO \tNo cached data found for timing_data. Loading data...\n",
      "api            INFO \tFetching timing data...\n",
      "core           INFO \tLoading laps for Australian Grand Prix - Practice 3 [v2.1.12]\n",
      "api            INFO \tNo cached data found for timing_data. Loading data...\n",
      "api            INFO \tFetching timing data...\n"
     ]
    },
    {
     "name": "stdout",
     "output_type": "stream",
     "text": [
      "problem on 2016 1 P1\n",
      "problem on 2016 1 P2\n",
      "problem on 2016 1 P3\n"
     ]
    },
    {
     "name": "stderr",
     "output_type": "stream",
     "text": [
      "core           INFO \tLoading laps for Bahrain Grand Prix - Practice 1 [v2.1.12]\n",
      "api            INFO \tNo cached data found for timing_data. Loading data...\n",
      "api            INFO \tFetching timing data...\n",
      "core           INFO \tLoading laps for Bahrain Grand Prix - Practice 2 [v2.1.12]\n",
      "api            INFO \tNo cached data found for timing_data. Loading data...\n",
      "api            INFO \tFetching timing data...\n",
      "core           INFO \tLoading laps for Bahrain Grand Prix - Practice 3 [v2.1.12]\n",
      "api            INFO \tNo cached data found for timing_data. Loading data...\n",
      "api            INFO \tFetching timing data...\n"
     ]
    },
    {
     "name": "stdout",
     "output_type": "stream",
     "text": [
      "problem on 2016 2 P1\n",
      "problem on 2016 2 P2\n",
      "problem on 2016 2 P3\n"
     ]
    },
    {
     "name": "stderr",
     "output_type": "stream",
     "text": [
      "core           INFO \tLoading laps for Chinese Grand Prix - Practice 1 [v2.1.12]\n",
      "api            INFO \tNo cached data found for timing_data. Loading data...\n",
      "api            INFO \tFetching timing data...\n",
      "core           INFO \tLoading laps for Chinese Grand Prix - Practice 2 [v2.1.12]\n",
      "api            INFO \tNo cached data found for timing_data. Loading data...\n",
      "api            INFO \tFetching timing data...\n",
      "core           INFO \tLoading laps for Chinese Grand Prix - Practice 3 [v2.1.12]\n",
      "api            INFO \tNo cached data found for timing_data. Loading data...\n",
      "api            INFO \tFetching timing data...\n"
     ]
    },
    {
     "name": "stdout",
     "output_type": "stream",
     "text": [
      "problem on 2016 3 P1\n",
      "problem on 2016 3 P2\n",
      "problem on 2016 3 P3\n"
     ]
    },
    {
     "name": "stderr",
     "output_type": "stream",
     "text": [
      "core           INFO \tLoading laps for Russian Grand Prix - Practice 1 [v2.1.12]\n",
      "api            INFO \tNo cached data found for timing_data. Loading data...\n",
      "api            INFO \tFetching timing data...\n",
      "core           INFO \tLoading laps for Russian Grand Prix - Practice 2 [v2.1.12]\n",
      "api            INFO \tNo cached data found for timing_data. Loading data...\n",
      "api            INFO \tFetching timing data...\n",
      "core           INFO \tLoading laps for Russian Grand Prix - Practice 3 [v2.1.12]\n",
      "api            INFO \tNo cached data found for timing_data. Loading data...\n",
      "api            INFO \tFetching timing data...\n"
     ]
    },
    {
     "name": "stdout",
     "output_type": "stream",
     "text": [
      "problem on 2016 4 P1\n",
      "problem on 2016 4 P2\n",
      "problem on 2016 4 P3\n"
     ]
    },
    {
     "name": "stderr",
     "output_type": "stream",
     "text": [
      "core           INFO \tLoading laps for Spanish Grand Prix - Practice 1 [v2.1.12]\n",
      "api            INFO \tNo cached data found for timing_data. Loading data...\n",
      "api            INFO \tFetching timing data...\n",
      "core           INFO \tLoading laps for Spanish Grand Prix - Practice 2 [v2.1.12]\n",
      "api            INFO \tNo cached data found for timing_data. Loading data...\n",
      "api            INFO \tFetching timing data...\n",
      "core           INFO \tLoading laps for Spanish Grand Prix - Practice 3 [v2.1.12]\n",
      "api            INFO \tNo cached data found for timing_data. Loading data...\n",
      "api            INFO \tFetching timing data...\n"
     ]
    },
    {
     "name": "stdout",
     "output_type": "stream",
     "text": [
      "problem on 2016 5 P1\n",
      "problem on 2016 5 P2\n",
      "problem on 2016 5 P3\n"
     ]
    },
    {
     "name": "stderr",
     "output_type": "stream",
     "text": [
      "core           INFO \tLoading laps for Monaco Grand Prix - Practice 1 [v2.1.12]\n",
      "api            INFO \tNo cached data found for timing_data. Loading data...\n",
      "api            INFO \tFetching timing data...\n",
      "core           INFO \tLoading laps for Monaco Grand Prix - Practice 2 [v2.1.12]\n",
      "api            INFO \tNo cached data found for timing_data. Loading data...\n",
      "api            INFO \tFetching timing data...\n",
      "core           INFO \tLoading laps for Monaco Grand Prix - Practice 3 [v2.1.12]\n",
      "api            INFO \tNo cached data found for timing_data. Loading data...\n",
      "api            INFO \tFetching timing data...\n"
     ]
    },
    {
     "name": "stdout",
     "output_type": "stream",
     "text": [
      "problem on 2016 6 P1\n",
      "problem on 2016 6 P2\n",
      "problem on 2016 6 P3\n"
     ]
    },
    {
     "name": "stderr",
     "output_type": "stream",
     "text": [
      "core           INFO \tLoading laps for Canadian Grand Prix - Practice 1 [v2.1.12]\n",
      "api            INFO \tNo cached data found for timing_data. Loading data...\n",
      "api            INFO \tFetching timing data...\n",
      "core           INFO \tLoading laps for Canadian Grand Prix - Practice 2 [v2.1.12]\n",
      "api            INFO \tNo cached data found for timing_data. Loading data...\n",
      "api            INFO \tFetching timing data...\n",
      "core           INFO \tLoading laps for Canadian Grand Prix - Practice 3 [v2.1.12]\n",
      "api            INFO \tNo cached data found for timing_data. Loading data...\n",
      "api            INFO \tFetching timing data...\n"
     ]
    },
    {
     "name": "stdout",
     "output_type": "stream",
     "text": [
      "problem on 2016 7 P1\n",
      "problem on 2016 7 P2\n",
      "problem on 2016 7 P3\n"
     ]
    },
    {
     "name": "stderr",
     "output_type": "stream",
     "text": [
      "core           INFO \tLoading laps for European Grand Prix - Practice 1 [v2.1.12]\n",
      "api            INFO \tNo cached data found for timing_data. Loading data...\n",
      "api            INFO \tFetching timing data...\n",
      "core           INFO \tLoading laps for European Grand Prix - Practice 2 [v2.1.12]\n",
      "api            INFO \tNo cached data found for timing_data. Loading data...\n",
      "api            INFO \tFetching timing data...\n",
      "core           INFO \tLoading laps for European Grand Prix - Practice 3 [v2.1.12]\n",
      "api            INFO \tNo cached data found for timing_data. Loading data...\n",
      "api            INFO \tFetching timing data...\n",
      "core           INFO \tLoading laps for Austrian Grand Prix - Practice 1 [v2.1.12]\n"
     ]
    },
    {
     "name": "stdout",
     "output_type": "stream",
     "text": [
      "problem on 2016 8 P1\n",
      "problem on 2016 8 P2\n",
      "problem on 2016 8 P3\n"
     ]
    },
    {
     "name": "stderr",
     "output_type": "stream",
     "text": [
      "api            INFO \tNo cached data found for timing_data. Loading data...\n",
      "api            INFO \tFetching timing data...\n",
      "core           INFO \tLoading laps for Austrian Grand Prix - Practice 2 [v2.1.12]\n",
      "api            INFO \tNo cached data found for timing_data. Loading data...\n",
      "api            INFO \tFetching timing data...\n",
      "core           INFO \tLoading laps for Austrian Grand Prix - Practice 3 [v2.1.12]\n",
      "api            INFO \tNo cached data found for timing_data. Loading data...\n",
      "api            INFO \tFetching timing data...\n",
      "core           INFO \tLoading laps for British Grand Prix - Practice 1 [v2.1.12]\n"
     ]
    },
    {
     "name": "stdout",
     "output_type": "stream",
     "text": [
      "problem on 2016 9 P1\n",
      "problem on 2016 9 P2\n",
      "problem on 2016 9 P3\n"
     ]
    },
    {
     "name": "stderr",
     "output_type": "stream",
     "text": [
      "api            INFO \tNo cached data found for timing_data. Loading data...\n",
      "api            INFO \tFetching timing data...\n",
      "core           INFO \tLoading laps for British Grand Prix - Practice 2 [v2.1.12]\n",
      "api            INFO \tNo cached data found for timing_data. Loading data...\n",
      "api            INFO \tFetching timing data...\n",
      "core           INFO \tLoading laps for British Grand Prix - Practice 3 [v2.1.12]\n",
      "api            INFO \tNo cached data found for timing_data. Loading data...\n",
      "api            INFO \tFetching timing data...\n",
      "core           INFO \tLoading laps for Hungarian Grand Prix - Practice 1 [v2.1.12]\n"
     ]
    },
    {
     "name": "stdout",
     "output_type": "stream",
     "text": [
      "problem on 2016 10 P1\n",
      "problem on 2016 10 P2\n",
      "problem on 2016 10 P3\n"
     ]
    },
    {
     "name": "stderr",
     "output_type": "stream",
     "text": [
      "api            INFO \tNo cached data found for timing_data. Loading data...\n",
      "api            INFO \tFetching timing data...\n",
      "core           INFO \tLoading laps for Hungarian Grand Prix - Practice 2 [v2.1.12]\n",
      "api            INFO \tNo cached data found for timing_data. Loading data...\n",
      "api            INFO \tFetching timing data...\n",
      "core           INFO \tLoading laps for Hungarian Grand Prix - Practice 3 [v2.1.12]\n",
      "api            INFO \tNo cached data found for timing_data. Loading data...\n",
      "api            INFO \tFetching timing data...\n",
      "core           INFO \tLoading laps for German Grand Prix - Practice 1 [v2.1.12]\n"
     ]
    },
    {
     "name": "stdout",
     "output_type": "stream",
     "text": [
      "problem on 2016 11 P1\n",
      "problem on 2016 11 P2\n",
      "problem on 2016 11 P3\n"
     ]
    },
    {
     "name": "stderr",
     "output_type": "stream",
     "text": [
      "api            INFO \tNo cached data found for timing_data. Loading data...\n",
      "api            INFO \tFetching timing data...\n",
      "core           INFO \tLoading laps for German Grand Prix - Practice 2 [v2.1.12]\n",
      "api            INFO \tNo cached data found for timing_data. Loading data...\n",
      "api            INFO \tFetching timing data...\n",
      "core           INFO \tLoading laps for German Grand Prix - Practice 3 [v2.1.12]\n",
      "api            INFO \tNo cached data found for timing_data. Loading data...\n",
      "api            INFO \tFetching timing data...\n"
     ]
    },
    {
     "name": "stdout",
     "output_type": "stream",
     "text": [
      "problem on 2016 12 P1\n",
      "problem on 2016 12 P2\n",
      "problem on 2016 12 P3\n"
     ]
    },
    {
     "name": "stderr",
     "output_type": "stream",
     "text": [
      "core           INFO \tLoading laps for Belgian Grand Prix - Practice 1 [v2.1.12]\n",
      "api            INFO \tNo cached data found for timing_data. Loading data...\n",
      "api            INFO \tFetching timing data...\n",
      "core           INFO \tLoading laps for Belgian Grand Prix - Practice 2 [v2.1.12]\n",
      "api            INFO \tNo cached data found for timing_data. Loading data...\n",
      "api            INFO \tFetching timing data...\n",
      "core           INFO \tLoading laps for Belgian Grand Prix - Practice 3 [v2.1.12]\n",
      "api            INFO \tNo cached data found for timing_data. Loading data...\n",
      "api            INFO \tFetching timing data...\n"
     ]
    },
    {
     "name": "stdout",
     "output_type": "stream",
     "text": [
      "problem on 2016 13 P1\n",
      "problem on 2016 13 P2\n",
      "problem on 2016 13 P3\n"
     ]
    },
    {
     "name": "stderr",
     "output_type": "stream",
     "text": [
      "core           INFO \tLoading laps for Italian Grand Prix - Practice 1 [v2.1.12]\n",
      "api            INFO \tNo cached data found for timing_data. Loading data...\n",
      "api            INFO \tFetching timing data...\n",
      "core           INFO \tLoading laps for Italian Grand Prix - Practice 2 [v2.1.12]\n",
      "api            INFO \tNo cached data found for timing_data. Loading data...\n",
      "api            INFO \tFetching timing data...\n",
      "core           INFO \tLoading laps for Italian Grand Prix - Practice 3 [v2.1.12]\n",
      "api            INFO \tNo cached data found for timing_data. Loading data...\n",
      "api            INFO \tFetching timing data...\n"
     ]
    },
    {
     "name": "stdout",
     "output_type": "stream",
     "text": [
      "problem on 2016 14 P1\n",
      "problem on 2016 14 P2\n",
      "problem on 2016 14 P3\n"
     ]
    },
    {
     "name": "stderr",
     "output_type": "stream",
     "text": [
      "core           INFO \tLoading laps for Singapore Grand Prix - Practice 1 [v2.1.12]\n",
      "api            INFO \tNo cached data found for timing_data. Loading data...\n",
      "api            INFO \tFetching timing data...\n",
      "core           INFO \tLoading laps for Singapore Grand Prix - Practice 2 [v2.1.12]\n",
      "api            INFO \tNo cached data found for timing_data. Loading data...\n",
      "api            INFO \tFetching timing data...\n",
      "core           INFO \tLoading laps for Singapore Grand Prix - Practice 3 [v2.1.12]\n",
      "api            INFO \tNo cached data found for timing_data. Loading data...\n",
      "api            INFO \tFetching timing data...\n"
     ]
    },
    {
     "name": "stdout",
     "output_type": "stream",
     "text": [
      "problem on 2016 15 P1\n",
      "problem on 2016 15 P2\n",
      "problem on 2016 15 P3\n"
     ]
    },
    {
     "name": "stderr",
     "output_type": "stream",
     "text": [
      "core           INFO \tLoading laps for Malaysian Grand Prix - Practice 1 [v2.1.12]\n",
      "api            INFO \tNo cached data found for timing_data. Loading data...\n",
      "api            INFO \tFetching timing data...\n",
      "core           INFO \tLoading laps for Malaysian Grand Prix - Practice 2 [v2.1.12]\n",
      "api            INFO \tNo cached data found for timing_data. Loading data...\n",
      "api            INFO \tFetching timing data...\n",
      "core           INFO \tLoading laps for Malaysian Grand Prix - Practice 3 [v2.1.12]\n",
      "api            INFO \tNo cached data found for timing_data. Loading data...\n",
      "api            INFO \tFetching timing data...\n"
     ]
    },
    {
     "name": "stdout",
     "output_type": "stream",
     "text": [
      "problem on 2016 16 P1\n",
      "problem on 2016 16 P2\n",
      "problem on 2016 16 P3\n"
     ]
    },
    {
     "name": "stderr",
     "output_type": "stream",
     "text": [
      "core           INFO \tLoading laps for Japanese Grand Prix - Practice 1 [v2.1.12]\n",
      "api            INFO \tNo cached data found for timing_data. Loading data...\n",
      "api            INFO \tFetching timing data...\n",
      "core           INFO \tLoading laps for Japanese Grand Prix - Practice 2 [v2.1.12]\n",
      "api            INFO \tNo cached data found for timing_data. Loading data...\n",
      "api            INFO \tFetching timing data...\n",
      "core           INFO \tLoading laps for Japanese Grand Prix - Practice 3 [v2.1.12]\n",
      "api            INFO \tNo cached data found for timing_data. Loading data...\n",
      "api            INFO \tFetching timing data...\n",
      "core           INFO \tLoading laps for United States Grand Prix - Practice 1 [v2.1.12]\n"
     ]
    },
    {
     "name": "stdout",
     "output_type": "stream",
     "text": [
      "problem on 2016 17 P1\n",
      "problem on 2016 17 P2\n",
      "problem on 2016 17 P3\n"
     ]
    },
    {
     "name": "stderr",
     "output_type": "stream",
     "text": [
      "api            INFO \tNo cached data found for timing_data. Loading data...\n",
      "api            INFO \tFetching timing data...\n",
      "core           INFO \tLoading laps for United States Grand Prix - Practice 2 [v2.1.12]\n",
      "api            INFO \tNo cached data found for timing_data. Loading data...\n",
      "api            INFO \tFetching timing data...\n",
      "core           INFO \tLoading laps for United States Grand Prix - Practice 3 [v2.1.12]\n",
      "api            INFO \tNo cached data found for timing_data. Loading data...\n",
      "api            INFO \tFetching timing data...\n",
      "core           INFO \tLoading laps for Mexican Grand Prix - Practice 1 [v2.1.12]\n"
     ]
    },
    {
     "name": "stdout",
     "output_type": "stream",
     "text": [
      "problem on 2016 18 P1\n",
      "problem on 2016 18 P2\n",
      "problem on 2016 18 P3\n"
     ]
    },
    {
     "name": "stderr",
     "output_type": "stream",
     "text": [
      "api            INFO \tNo cached data found for timing_data. Loading data...\n",
      "api            INFO \tFetching timing data...\n",
      "core           INFO \tLoading laps for Mexican Grand Prix - Practice 2 [v2.1.12]\n",
      "api            INFO \tNo cached data found for timing_data. Loading data...\n",
      "api            INFO \tFetching timing data...\n",
      "core           INFO \tLoading laps for Mexican Grand Prix - Practice 3 [v2.1.12]\n",
      "api            INFO \tNo cached data found for timing_data. Loading data...\n",
      "api            INFO \tFetching timing data...\n"
     ]
    },
    {
     "name": "stdout",
     "output_type": "stream",
     "text": [
      "problem on 2016 19 P1\n",
      "problem on 2016 19 P2\n",
      "problem on 2016 19 P3\n"
     ]
    },
    {
     "name": "stderr",
     "output_type": "stream",
     "text": [
      "core           INFO \tLoading laps for Brazilian Grand Prix - Practice 1 [v2.1.12]\n",
      "api            INFO \tNo cached data found for timing_data. Loading data...\n",
      "api            INFO \tFetching timing data...\n",
      "core           INFO \tLoading laps for Brazilian Grand Prix - Practice 2 [v2.1.12]\n",
      "api            INFO \tNo cached data found for timing_data. Loading data...\n",
      "api            INFO \tFetching timing data...\n"
     ]
    },
    {
     "name": "stdout",
     "output_type": "stream",
     "text": [
      "problem on 2016 20 P1\n",
      "problem on 2016 20 P2\n"
     ]
    },
    {
     "name": "stderr",
     "output_type": "stream",
     "text": [
      "core           INFO \tLoading laps for Brazilian Grand Prix - Practice 3 [v2.1.12]\n",
      "api            INFO \tNo cached data found for timing_data. Loading data...\n",
      "api            INFO \tFetching timing data...\n",
      "core           INFO \tLoading laps for Abu Dhabi Grand Prix - Practice 1 [v2.1.12]\n",
      "api            INFO \tNo cached data found for timing_data. Loading data...\n",
      "api            INFO \tFetching timing data...\n",
      "core           INFO \tLoading laps for Abu Dhabi Grand Prix - Practice 2 [v2.1.12]\n",
      "api            INFO \tNo cached data found for timing_data. Loading data...\n",
      "api            INFO \tFetching timing data...\n"
     ]
    },
    {
     "name": "stdout",
     "output_type": "stream",
     "text": [
      "problem on 2016 20 P3\n",
      "problem on 2016 21 P1\n",
      "problem on 2016 21 P2\n"
     ]
    },
    {
     "name": "stderr",
     "output_type": "stream",
     "text": [
      "core           INFO \tLoading laps for Abu Dhabi Grand Prix - Practice 3 [v2.1.12]\n",
      "api            INFO \tNo cached data found for timing_data. Loading data...\n",
      "api            INFO \tFetching timing data...\n",
      "core       CRITICAL \tFailed to load critical data from Ergast!\n",
      "\n",
      " Cannot determine the date and name of the event. Cannot proceed!\n",
      "\n",
      "core       CRITICAL \tlist index out of range\n",
      "core       CRITICAL \tFailed to load critical data from Ergast!\n",
      "\n",
      " Cannot determine the date and name of the event. Cannot proceed!\n",
      "\n",
      "core       CRITICAL \tlist index out of range\n",
      "core       CRITICAL \tFailed to load critical data from Ergast!\n",
      "\n",
      " Cannot determine the date and name of the event. Cannot proceed!\n",
      "\n",
      "core       CRITICAL \tlist index out of range\n",
      "core           INFO \tLoading laps for Australian Grand Prix - Practice 1 [v2.1.12]\n",
      "api            INFO \tNo cached data found for timing_data. Loading data...\n",
      "api            INFO \tFetching timing data...\n",
      "core           INFO \tLoading laps for Australian Grand Prix - Practice 2 [v2.1.12]\n",
      "api            INFO \tNo cached data found for timing_data. Loading data...\n",
      "api            INFO \tFetching timing data...\n"
     ]
    },
    {
     "name": "stdout",
     "output_type": "stream",
     "text": [
      "problem on 2016 21 P3\n",
      "problem on 2016 22 P1\n",
      "problem on 2016 22 P2\n",
      "problem on 2016 22 P3\n",
      "problem on 2017 1 P1\n"
     ]
    },
    {
     "name": "stderr",
     "output_type": "stream",
     "text": [
      "core           INFO \tLoading laps for Australian Grand Prix - Practice 3 [v2.1.12]\n",
      "api            INFO \tNo cached data found for timing_data. Loading data...\n",
      "api            INFO \tFetching timing data...\n",
      "core           INFO \tLoading laps for Chinese Grand Prix - Practice 1 [v2.1.12]\n",
      "api            INFO \tNo cached data found for timing_data. Loading data...\n",
      "api            INFO \tFetching timing data...\n"
     ]
    },
    {
     "name": "stdout",
     "output_type": "stream",
     "text": [
      "problem on 2017 1 P2\n",
      "problem on 2017 1 P3\n",
      "problem on 2017 2 P1\n"
     ]
    },
    {
     "name": "stderr",
     "output_type": "stream",
     "text": [
      "core           INFO \tLoading laps for Chinese Grand Prix - Practice 2 [v2.1.12]\n",
      "api            INFO \tNo cached data found for timing_data. Loading data...\n",
      "api            INFO \tFetching timing data...\n",
      "core           INFO \tLoading laps for Chinese Grand Prix - Practice 3 [v2.1.12]\n",
      "api            INFO \tNo cached data found for timing_data. Loading data...\n",
      "api            INFO \tFetching timing data...\n",
      "core           INFO \tLoading laps for Bahrain Grand Prix - Practice 1 [v2.1.12]\n",
      "api            INFO \tNo cached data found for timing_data. Loading data...\n",
      "api            INFO \tFetching timing data...\n",
      "core           INFO \tLoading laps for Bahrain Grand Prix - Practice 2 [v2.1.12]\n",
      "api            INFO \tNo cached data found for timing_data. Loading data...\n"
     ]
    },
    {
     "name": "stdout",
     "output_type": "stream",
     "text": [
      "problem on 2017 2 P2\n",
      "problem on 2017 2 P3\n",
      "problem on 2017 3 P1\n"
     ]
    },
    {
     "name": "stderr",
     "output_type": "stream",
     "text": [
      "api            INFO \tFetching timing data...\n",
      "core           INFO \tLoading laps for Bahrain Grand Prix - Practice 3 [v2.1.12]\n",
      "api            INFO \tNo cached data found for timing_data. Loading data...\n",
      "api            INFO \tFetching timing data...\n",
      "core           INFO \tLoading laps for Russian Grand Prix - Practice 1 [v2.1.12]\n",
      "api            INFO \tNo cached data found for timing_data. Loading data...\n",
      "api            INFO \tFetching timing data...\n",
      "core           INFO \tLoading laps for Russian Grand Prix - Practice 2 [v2.1.12]\n",
      "api            INFO \tNo cached data found for timing_data. Loading data...\n",
      "api            INFO \tFetching timing data...\n"
     ]
    },
    {
     "name": "stdout",
     "output_type": "stream",
     "text": [
      "problem on 2017 3 P2\n",
      "problem on 2017 3 P3\n",
      "problem on 2017 4 P1\n"
     ]
    },
    {
     "name": "stderr",
     "output_type": "stream",
     "text": [
      "core           INFO \tLoading laps for Russian Grand Prix - Practice 3 [v2.1.12]\n",
      "api            INFO \tNo cached data found for timing_data. Loading data...\n",
      "api            INFO \tFetching timing data...\n",
      "core           INFO \tLoading laps for Spanish Grand Prix - Practice 1 [v2.1.12]\n",
      "api            INFO \tNo cached data found for timing_data. Loading data...\n",
      "api            INFO \tFetching timing data...\n",
      "core           INFO \tLoading laps for Spanish Grand Prix - Practice 2 [v2.1.12]\n",
      "api            INFO \tNo cached data found for timing_data. Loading data...\n",
      "api            INFO \tFetching timing data...\n"
     ]
    },
    {
     "name": "stdout",
     "output_type": "stream",
     "text": [
      "problem on 2017 4 P2\n",
      "problem on 2017 4 P3\n",
      "problem on 2017 5 P1\n"
     ]
    },
    {
     "name": "stderr",
     "output_type": "stream",
     "text": [
      "core           INFO \tLoading laps for Spanish Grand Prix - Practice 3 [v2.1.12]\n",
      "api            INFO \tNo cached data found for timing_data. Loading data...\n",
      "api            INFO \tFetching timing data...\n",
      "core           INFO \tLoading laps for Monaco Grand Prix - Practice 1 [v2.1.12]\n",
      "api            INFO \tNo cached data found for timing_data. Loading data...\n",
      "api            INFO \tFetching timing data...\n",
      "core           INFO \tLoading laps for Monaco Grand Prix - Practice 2 [v2.1.12]\n"
     ]
    },
    {
     "name": "stdout",
     "output_type": "stream",
     "text": [
      "problem on 2017 5 P2\n",
      "problem on 2017 5 P3\n",
      "problem on 2017 6 P1\n"
     ]
    },
    {
     "name": "stderr",
     "output_type": "stream",
     "text": [
      "api            INFO \tNo cached data found for timing_data. Loading data...\n",
      "api            INFO \tFetching timing data...\n",
      "core           INFO \tLoading laps for Monaco Grand Prix - Practice 3 [v2.1.12]\n",
      "api            INFO \tNo cached data found for timing_data. Loading data...\n",
      "api            INFO \tFetching timing data...\n",
      "core           INFO \tLoading laps for Canadian Grand Prix - Practice 1 [v2.1.12]\n",
      "api            INFO \tNo cached data found for timing_data. Loading data...\n",
      "api            INFO \tFetching timing data...\n"
     ]
    },
    {
     "name": "stdout",
     "output_type": "stream",
     "text": [
      "problem on 2017 6 P2\n",
      "problem on 2017 6 P3\n",
      "problem on 2017 7 P1\n"
     ]
    },
    {
     "name": "stderr",
     "output_type": "stream",
     "text": [
      "core           INFO \tLoading laps for Canadian Grand Prix - Practice 2 [v2.1.12]\n",
      "api            INFO \tNo cached data found for timing_data. Loading data...\n",
      "api            INFO \tFetching timing data...\n",
      "core           INFO \tLoading laps for Canadian Grand Prix - Practice 3 [v2.1.12]\n",
      "api            INFO \tNo cached data found for timing_data. Loading data...\n",
      "api            INFO \tFetching timing data...\n",
      "core           INFO \tLoading laps for Azerbaijan Grand Prix - Practice 1 [v2.1.12]\n",
      "api            INFO \tNo cached data found for timing_data. Loading data...\n",
      "api            INFO \tFetching timing data...\n"
     ]
    },
    {
     "name": "stdout",
     "output_type": "stream",
     "text": [
      "problem on 2017 7 P2\n",
      "problem on 2017 7 P3\n",
      "problem on 2017 8 P1\n"
     ]
    },
    {
     "name": "stderr",
     "output_type": "stream",
     "text": [
      "core           INFO \tLoading laps for Azerbaijan Grand Prix - Practice 2 [v2.1.12]\n",
      "api            INFO \tNo cached data found for timing_data. Loading data...\n",
      "api            INFO \tFetching timing data...\n",
      "core           INFO \tLoading laps for Azerbaijan Grand Prix - Practice 3 [v2.1.12]\n",
      "api            INFO \tNo cached data found for timing_data. Loading data...\n",
      "api            INFO \tFetching timing data...\n",
      "core           INFO \tLoading laps for Austrian Grand Prix - Practice 1 [v2.1.12]\n",
      "api            INFO \tNo cached data found for timing_data. Loading data...\n",
      "api            INFO \tFetching timing data...\n"
     ]
    },
    {
     "name": "stdout",
     "output_type": "stream",
     "text": [
      "problem on 2017 8 P2\n",
      "problem on 2017 8 P3\n"
     ]
    },
    {
     "name": "stderr",
     "output_type": "stream",
     "text": [
      "core           INFO \tLoading laps for Austrian Grand Prix - Practice 2 [v2.1.12]\n",
      "api            INFO \tNo cached data found for timing_data. Loading data...\n",
      "api            INFO \tFetching timing data...\n",
      "core           INFO \tLoading laps for Austrian Grand Prix - Practice 3 [v2.1.12]\n",
      "api            INFO \tNo cached data found for timing_data. Loading data...\n",
      "api            INFO \tFetching timing data...\n"
     ]
    },
    {
     "name": "stdout",
     "output_type": "stream",
     "text": [
      "problem on 2017 9 P1\n",
      "problem on 2017 9 P2\n"
     ]
    },
    {
     "name": "stderr",
     "output_type": "stream",
     "text": [
      "core           INFO \tLoading laps for British Grand Prix - Practice 1 [v2.1.12]\n",
      "api            INFO \tNo cached data found for timing_data. Loading data...\n",
      "api            INFO \tFetching timing data...\n",
      "core           INFO \tLoading laps for British Grand Prix - Practice 2 [v2.1.12]\n",
      "api            INFO \tNo cached data found for timing_data. Loading data...\n",
      "api            INFO \tFetching timing data...\n"
     ]
    },
    {
     "name": "stdout",
     "output_type": "stream",
     "text": [
      "problem on 2017 9 P3\n",
      "problem on 2017 10 P1\n"
     ]
    },
    {
     "name": "stderr",
     "output_type": "stream",
     "text": [
      "core           INFO \tLoading laps for British Grand Prix - Practice 3 [v2.1.12]\n",
      "api            INFO \tNo cached data found for timing_data. Loading data...\n",
      "api            INFO \tFetching timing data...\n",
      "core           INFO \tLoading laps for Hungarian Grand Prix - Practice 1 [v2.1.12]\n",
      "api            INFO \tNo cached data found for timing_data. Loading data...\n",
      "api            INFO \tFetching timing data...\n"
     ]
    },
    {
     "name": "stdout",
     "output_type": "stream",
     "text": [
      "problem on 2017 10 P2\n",
      "problem on 2017 10 P3\n"
     ]
    },
    {
     "name": "stderr",
     "output_type": "stream",
     "text": [
      "core           INFO \tLoading laps for Hungarian Grand Prix - Practice 2 [v2.1.12]\n",
      "api            INFO \tNo cached data found for timing_data. Loading data...\n",
      "api            INFO \tFetching timing data...\n",
      "core           INFO \tLoading laps for Hungarian Grand Prix - Practice 3 [v2.1.12]\n",
      "api            INFO \tNo cached data found for timing_data. Loading data...\n",
      "api            INFO \tFetching timing data...\n"
     ]
    },
    {
     "name": "stdout",
     "output_type": "stream",
     "text": [
      "problem on 2017 11 P1\n",
      "problem on 2017 11 P2\n"
     ]
    },
    {
     "name": "stderr",
     "output_type": "stream",
     "text": [
      "core           INFO \tLoading laps for Belgian Grand Prix - Practice 1 [v2.1.12]\n",
      "api            INFO \tNo cached data found for timing_data. Loading data...\n",
      "api            INFO \tFetching timing data...\n",
      "core           INFO \tLoading laps for Belgian Grand Prix - Practice 2 [v2.1.12]\n",
      "api            INFO \tNo cached data found for timing_data. Loading data...\n",
      "api            INFO \tFetching timing data...\n"
     ]
    },
    {
     "name": "stdout",
     "output_type": "stream",
     "text": [
      "problem on 2017 11 P3\n",
      "problem on 2017 12 P1\n",
      "problem on 2017 12 P2\n"
     ]
    },
    {
     "name": "stderr",
     "output_type": "stream",
     "text": [
      "core           INFO \tLoading laps for Belgian Grand Prix - Practice 3 [v2.1.12]\n",
      "api            INFO \tNo cached data found for timing_data. Loading data...\n",
      "api            INFO \tFetching timing data...\n",
      "core           INFO \tLoading laps for Italian Grand Prix - Practice 1 [v2.1.12]\n",
      "api            INFO \tNo cached data found for timing_data. Loading data...\n",
      "api            INFO \tFetching timing data...\n",
      "core           INFO \tLoading laps for Italian Grand Prix - Practice 2 [v2.1.12]\n"
     ]
    },
    {
     "name": "stdout",
     "output_type": "stream",
     "text": [
      "problem on 2017 12 P3\n",
      "problem on 2017 13 P1\n"
     ]
    },
    {
     "name": "stderr",
     "output_type": "stream",
     "text": [
      "api            INFO \tNo cached data found for timing_data. Loading data...\n",
      "api            INFO \tFetching timing data...\n",
      "core           INFO \tLoading laps for Italian Grand Prix - Practice 3 [v2.1.12]\n",
      "api            INFO \tNo cached data found for timing_data. Loading data...\n",
      "api            INFO \tFetching timing data...\n",
      "core           INFO \tLoading laps for Singapore Grand Prix - Practice 1 [v2.1.12]\n",
      "api            INFO \tNo cached data found for timing_data. Loading data...\n",
      "api            INFO \tFetching timing data...\n"
     ]
    },
    {
     "name": "stdout",
     "output_type": "stream",
     "text": [
      "problem on 2017 13 P2\n",
      "problem on 2017 13 P3\n"
     ]
    },
    {
     "name": "stderr",
     "output_type": "stream",
     "text": [
      "core           INFO \tLoading laps for Singapore Grand Prix - Practice 2 [v2.1.12]\n",
      "api            INFO \tNo cached data found for timing_data. Loading data...\n",
      "api            INFO \tFetching timing data...\n",
      "core           INFO \tLoading laps for Singapore Grand Prix - Practice 3 [v2.1.12]\n",
      "api            INFO \tNo cached data found for timing_data. Loading data...\n",
      "api            INFO \tFetching timing data...\n"
     ]
    },
    {
     "name": "stdout",
     "output_type": "stream",
     "text": [
      "problem on 2017 14 P1\n",
      "problem on 2017 14 P2\n"
     ]
    },
    {
     "name": "stderr",
     "output_type": "stream",
     "text": [
      "core           INFO \tLoading laps for Malaysian Grand Prix - Practice 1 [v2.1.12]\n",
      "api            INFO \tNo cached data found for timing_data. Loading data...\n",
      "api            INFO \tFetching timing data...\n",
      "core           INFO \tLoading laps for Malaysian Grand Prix - Practice 2 [v2.1.12]\n",
      "api            INFO \tNo cached data found for timing_data. Loading data...\n",
      "api            INFO \tFetching timing data...\n"
     ]
    },
    {
     "name": "stdout",
     "output_type": "stream",
     "text": [
      "problem on 2017 14 P3\n",
      "problem on 2017 15 P1\n"
     ]
    },
    {
     "name": "stderr",
     "output_type": "stream",
     "text": [
      "core           INFO \tLoading laps for Malaysian Grand Prix - Practice 3 [v2.1.12]\n",
      "api            INFO \tNo cached data found for timing_data. Loading data...\n",
      "api            INFO \tFetching timing data...\n",
      "core           INFO \tLoading laps for Japanese Grand Prix - Practice 1 [v2.1.12]\n"
     ]
    },
    {
     "name": "stdout",
     "output_type": "stream",
     "text": [
      "problem on 2017 15 P2\n",
      "problem on 2017 15 P3\n"
     ]
    },
    {
     "name": "stderr",
     "output_type": "stream",
     "text": [
      "api            INFO \tNo cached data found for timing_data. Loading data...\n",
      "api            INFO \tFetching timing data...\n",
      "core           INFO \tLoading laps for Japanese Grand Prix - Practice 2 [v2.1.12]\n",
      "api            INFO \tNo cached data found for timing_data. Loading data...\n",
      "api            INFO \tFetching timing data...\n",
      "core           INFO \tLoading laps for Japanese Grand Prix - Practice 3 [v2.1.12]\n",
      "api            INFO \tNo cached data found for timing_data. Loading data...\n",
      "api            INFO \tFetching timing data...\n"
     ]
    },
    {
     "name": "stdout",
     "output_type": "stream",
     "text": [
      "problem on 2017 16 P1\n",
      "problem on 2017 16 P2\n"
     ]
    },
    {
     "name": "stderr",
     "output_type": "stream",
     "text": [
      "core           INFO \tLoading laps for United States Grand Prix - Practice 1 [v2.1.12]\n",
      "api            INFO \tNo cached data found for timing_data. Loading data...\n",
      "api            INFO \tFetching timing data...\n",
      "core           INFO \tLoading laps for United States Grand Prix - Practice 2 [v2.1.12]\n"
     ]
    },
    {
     "name": "stdout",
     "output_type": "stream",
     "text": [
      "problem on 2017 16 P3\n",
      "problem on 2017 17 P1\n"
     ]
    },
    {
     "name": "stderr",
     "output_type": "stream",
     "text": [
      "api            INFO \tNo cached data found for timing_data. Loading data...\n",
      "api            INFO \tFetching timing data...\n",
      "core           INFO \tLoading laps for United States Grand Prix - Practice 3 [v2.1.12]\n",
      "api            INFO \tNo cached data found for timing_data. Loading data...\n",
      "api            INFO \tFetching timing data...\n",
      "core           INFO \tLoading laps for Mexican Grand Prix - Practice 1 [v2.1.12]\n",
      "api            INFO \tNo cached data found for timing_data. Loading data...\n",
      "api            INFO \tFetching timing data...\n"
     ]
    },
    {
     "name": "stdout",
     "output_type": "stream",
     "text": [
      "problem on 2017 17 P2\n",
      "problem on 2017 17 P3\n"
     ]
    },
    {
     "name": "stderr",
     "output_type": "stream",
     "text": [
      "core           INFO \tLoading laps for Mexican Grand Prix - Practice 2 [v2.1.12]\n",
      "api            INFO \tNo cached data found for timing_data. Loading data...\n",
      "api            INFO \tFetching timing data...\n",
      "core           INFO \tLoading laps for Mexican Grand Prix - Practice 3 [v2.1.12]\n",
      "api            INFO \tNo cached data found for timing_data. Loading data...\n",
      "api            INFO \tFetching timing data...\n"
     ]
    },
    {
     "name": "stdout",
     "output_type": "stream",
     "text": [
      "problem on 2017 18 P1\n",
      "problem on 2017 18 P2\n"
     ]
    },
    {
     "name": "stderr",
     "output_type": "stream",
     "text": [
      "core           INFO \tLoading laps for Brazilian Grand Prix - Practice 1 [v2.1.12]\n",
      "api            INFO \tNo cached data found for timing_data. Loading data...\n",
      "api            INFO \tFetching timing data...\n",
      "core           INFO \tLoading laps for Brazilian Grand Prix - Practice 2 [v2.1.12]\n",
      "api            INFO \tNo cached data found for timing_data. Loading data...\n",
      "api            INFO \tFetching timing data...\n"
     ]
    },
    {
     "name": "stdout",
     "output_type": "stream",
     "text": [
      "problem on 2017 18 P3\n",
      "problem on 2017 19 P1\n",
      "problem on 2017 19 P2\n"
     ]
    },
    {
     "name": "stderr",
     "output_type": "stream",
     "text": [
      "core           INFO \tLoading laps for Brazilian Grand Prix - Practice 3 [v2.1.12]\n",
      "api            INFO \tNo cached data found for timing_data. Loading data...\n",
      "api            INFO \tFetching timing data...\n",
      "core           INFO \tLoading laps for Abu Dhabi Grand Prix - Practice 1 [v2.1.12]\n",
      "api            INFO \tNo cached data found for timing_data. Loading data...\n",
      "api            INFO \tFetching timing data...\n",
      "core           INFO \tLoading laps for Abu Dhabi Grand Prix - Practice 2 [v2.1.12]\n",
      "api            INFO \tNo cached data found for timing_data. Loading data...\n",
      "api            INFO \tFetching timing data...\n"
     ]
    },
    {
     "name": "stdout",
     "output_type": "stream",
     "text": [
      "problem on 2017 19 P3\n",
      "problem on 2017 20 P1\n"
     ]
    },
    {
     "name": "stderr",
     "output_type": "stream",
     "text": [
      "core           INFO \tLoading laps for Abu Dhabi Grand Prix - Practice 3 [v2.1.12]\n",
      "api            INFO \tNo cached data found for timing_data. Loading data...\n",
      "api            INFO \tFetching timing data...\n",
      "core       CRITICAL \tFailed to load critical data from Ergast!\n",
      "\n",
      " Cannot determine the date and name of the event. Cannot proceed!\n",
      "\n",
      "core       CRITICAL \tlist index out of range\n",
      "core       CRITICAL \tFailed to load critical data from Ergast!\n",
      "\n",
      " Cannot determine the date and name of the event. Cannot proceed!\n",
      "\n",
      "core       CRITICAL \tlist index out of range\n",
      "core       CRITICAL \tFailed to load critical data from Ergast!\n",
      "\n",
      " Cannot determine the date and name of the event. Cannot proceed!\n",
      "\n",
      "core       CRITICAL \tlist index out of range\n",
      "core       CRITICAL \tFailed to load critical data from Ergast!\n",
      "\n",
      " Cannot determine the date and name of the event. Cannot proceed!\n",
      "\n",
      "core       CRITICAL \tlist index out of range\n",
      "core       CRITICAL \tFailed to load critical data from Ergast!\n",
      "\n",
      " Cannot determine the date and name of the event. Cannot proceed!\n",
      "\n",
      "core       CRITICAL \tlist index out of range\n",
      "core       CRITICAL \tFailed to load critical data from Ergast!\n",
      "\n",
      " Cannot determine the date and name of the event. Cannot proceed!\n",
      "\n",
      "core       CRITICAL \tlist index out of range\n",
      "core           INFO \tLoading laps for Australian Grand Prix - Practice 1 [v2.1.12]\n",
      "api            INFO \tUsing cached data for timing_data\n",
      "api            INFO \tUsing cached data for timing_app_data\n"
     ]
    },
    {
     "name": "stdout",
     "output_type": "stream",
     "text": [
      "problem on 2017 20 P2\n",
      "problem on 2017 20 P3\n",
      "problem on 2017 21 P1\n",
      "problem on 2017 21 P2\n",
      "problem on 2017 21 P3\n",
      "problem on 2017 22 P1\n",
      "problem on 2017 22 P2\n",
      "problem on 2017 22 P3\n"
     ]
    },
    {
     "name": "stderr",
     "output_type": "stream",
     "text": [
      "core           INFO \tProcessing timing data...\n",
      "api            INFO \tUsing cached data for driver_info\n",
      "api            INFO \tUsing cached data for session_status_data\n",
      "api            INFO \tUsing cached data for track_status_data\n",
      "api            INFO \tUsing cached data for weather_data\n",
      "core           INFO \tLoaded data for 20 drivers: ['2', '3', '5', '7', '8', '9', '10', '11', '14', '16', '18', '20', '27', '28', '31', '33', '35', '44', '55', '77']\n",
      "core           INFO \tLoading laps for Australian Grand Prix - Practice 2 [v2.1.12]\n",
      "api            INFO \tUsing cached data for timing_data\n",
      "api            INFO \tUsing cached data for timing_app_data\n",
      "core           INFO \tProcessing timing data...\n",
      "api            INFO \tUsing cached data for driver_info\n",
      "api            INFO \tUsing cached data for session_status_data\n",
      "api            INFO \tUsing cached data for track_status_data\n",
      "core        WARNING \tDriver  2: Lap timing integrity check failed for 1 lap(s)\n",
      "core        WARNING \tDriver  5: Lap timing integrity check failed for 2 lap(s)\n",
      "core        WARNING \tDriver  7: Lap timing integrity check failed for 1 lap(s)\n",
      "core        WARNING \tDriver  9: Lap timing integrity check failed for 1 lap(s)\n",
      "core        WARNING \tDriver 14: Lap timing integrity check failed for 1 lap(s)\n",
      "core        WARNING \tDriver 27: Lap timing integrity check failed for 1 lap(s)\n",
      "core        WARNING \tDriver 28: Lap timing integrity check failed for 1 lap(s)\n",
      "core        WARNING \tDriver 31: Lap timing integrity check failed for 1 lap(s)\n",
      "core        WARNING \tDriver 33: Lap timing integrity check failed for 1 lap(s)\n",
      "core        WARNING \tDriver 35: Lap timing integrity check failed for 1 lap(s)\n",
      "core        WARNING \tDriver 55: Lap timing integrity check failed for 1 lap(s)\n",
      "api            INFO \tUsing cached data for weather_data\n",
      "core           INFO \tLoaded data for 20 drivers: ['2', '3', '5', '7', '8', '9', '10', '11', '14', '16', '18', '20', '27', '28', '31', '33', '35', '44', '55', '77']\n",
      "core           INFO \tLoading laps for Australian Grand Prix - Practice 3 [v2.1.12]\n",
      "api            INFO \tUsing cached data for timing_data\n",
      "api            INFO \tUsing cached data for timing_app_data\n",
      "core           INFO \tProcessing timing data...\n",
      "api            INFO \tUsing cached data for driver_info\n",
      "api            INFO \tUsing cached data for session_status_data\n",
      "api            INFO \tUsing cached data for track_status_data\n",
      "api            INFO \tUsing cached data for weather_data\n",
      "core           INFO \tLoaded data for 20 drivers: ['2', '3', '5', '7', '8', '9', '10', '11', '14', '16', '18', '20', '27', '28', '31', '33', '35', '44', '55', '77']\n",
      "core           INFO \tLoading laps for Bahrain Grand Prix - Practice 1 [v2.1.12]\n",
      "api            INFO \tUsing cached data for timing_data\n",
      "api            INFO \tUsing cached data for timing_app_data\n",
      "core           INFO \tProcessing timing data...\n",
      "api            INFO \tUsing cached data for driver_info\n",
      "api            INFO \tUsing cached data for session_status_data\n"
     ]
    },
    {
     "name": "stdout",
     "output_type": "stream",
     "text": [
      "problem on 2018 1 P3\n"
     ]
    },
    {
     "name": "stderr",
     "output_type": "stream",
     "text": [
      "api            INFO \tUsing cached data for track_status_data\n",
      "api            INFO \tUsing cached data for weather_data\n",
      "core           INFO \tLoaded data for 20 drivers: ['2', '3', '5', '7', '8', '9', '10', '11', '14', '16', '18', '20', '27', '28', '31', '33', '35', '44', '55', '77']\n",
      "core           INFO \tLoading laps for Bahrain Grand Prix - Practice 2 [v2.1.12]\n",
      "api            INFO \tUsing cached data for timing_data\n",
      "api            INFO \tUsing cached data for timing_app_data\n",
      "core           INFO \tProcessing timing data...\n",
      "api            INFO \tUsing cached data for driver_info\n",
      "api            INFO \tUsing cached data for session_status_data\n"
     ]
    },
    {
     "name": "stdout",
     "output_type": "stream",
     "text": [
      "problem on 2018 2 P1\n"
     ]
    },
    {
     "name": "stderr",
     "output_type": "stream",
     "text": [
      "api            INFO \tUsing cached data for track_status_data\n",
      "api            INFO \tUsing cached data for weather_data\n",
      "core           INFO \tLoaded data for 20 drivers: ['2', '3', '5', '7', '8', '9', '10', '11', '14', '16', '18', '20', '27', '28', '31', '33', '35', '44', '55', '77']\n",
      "core           INFO \tLoading laps for Bahrain Grand Prix - Practice 3 [v2.1.12]\n",
      "api            INFO \tUsing cached data for timing_data\n",
      "api            INFO \tUsing cached data for timing_app_data\n",
      "core           INFO \tProcessing timing data...\n",
      "api            INFO \tUsing cached data for driver_info\n",
      "api            INFO \tUsing cached data for session_status_data\n",
      "api            INFO \tUsing cached data for track_status_data\n",
      "api            INFO \tUsing cached data for weather_data\n",
      "core           INFO \tLoaded data for 20 drivers: ['2', '3', '5', '7', '8', '9', '10', '11', '14', '16', '18', '20', '27', '28', '31', '33', '35', '44', '55', '77']\n",
      "core           INFO \tLoading laps for Chinese Grand Prix - Practice 1 [v2.1.12]\n",
      "api            INFO \tUsing cached data for timing_data\n",
      "api            INFO \tUsing cached data for timing_app_data\n",
      "core           INFO \tProcessing timing data...\n",
      "api            INFO \tUsing cached data for driver_info\n",
      "api            INFO \tUsing cached data for session_status_data\n",
      "api            INFO \tUsing cached data for track_status_data\n",
      "api            INFO \tUsing cached data for weather_data\n",
      "core           INFO \tLoaded data for 20 drivers: ['2', '3', '5', '7', '8', '9', '10', '11', '14', '16', '18', '20', '27', '28', '31', '33', '35', '44', '55', '77']\n",
      "core           INFO \tLoading laps for Chinese Grand Prix - Practice 2 [v2.1.12]\n",
      "api            INFO \tUsing cached data for timing_data\n",
      "api            INFO \tUsing cached data for timing_app_data\n",
      "core           INFO \tProcessing timing data...\n",
      "api            INFO \tUsing cached data for driver_info\n",
      "api            INFO \tUsing cached data for session_status_data\n",
      "api            INFO \tUsing cached data for track_status_data\n",
      "api            INFO \tUsing cached data for weather_data\n",
      "core           INFO \tLoaded data for 20 drivers: ['2', '3', '5', '7', '8', '9', '10', '11', '14', '16', '18', '20', '27', '28', '31', '33', '35', '44', '55', '77']\n",
      "core           INFO \tLoading laps for Chinese Grand Prix - Practice 3 [v2.1.12]\n",
      "api            INFO \tUsing cached data for timing_data\n",
      "api            INFO \tUsing cached data for timing_app_data\n",
      "core           INFO \tProcessing timing data...\n",
      "api            INFO \tUsing cached data for driver_info\n",
      "api            INFO \tUsing cached data for session_status_data\n",
      "api            INFO \tUsing cached data for track_status_data\n",
      "api            INFO \tUsing cached data for weather_data\n",
      "core           INFO \tLoaded data for 20 drivers: ['2', '3', '5', '7', '8', '9', '10', '11', '14', '16', '18', '20', '27', '28', '31', '33', '35', '44', '55', '77']\n",
      "core           INFO \tLoading laps for Azerbaijan Grand Prix - Practice 1 [v2.1.12]\n",
      "api            INFO \tUsing cached data for timing_data\n",
      "api            INFO \tUsing cached data for timing_app_data\n",
      "core           INFO \tProcessing timing data...\n",
      "api            INFO \tUsing cached data for driver_info\n",
      "api            INFO \tUsing cached data for session_status_data\n",
      "api            INFO \tUsing cached data for track_status_data\n",
      "api            INFO \tUsing cached data for weather_data\n",
      "core           INFO \tLoaded data for 20 drivers: ['2', '3', '5', '7', '8', '9', '10', '11', '14', '16', '18', '20', '27', '28', '31', '33', '35', '44', '55', '77']\n",
      "core           INFO \tLoading laps for Azerbaijan Grand Prix - Practice 2 [v2.1.12]\n",
      "api            INFO \tUsing cached data for timing_data\n",
      "api            INFO \tUsing cached data for timing_app_data\n",
      "core           INFO \tProcessing timing data...\n",
      "api            INFO \tUsing cached data for driver_info\n",
      "api            INFO \tUsing cached data for session_status_data\n",
      "api            INFO \tUsing cached data for track_status_data\n",
      "core        WARNING \tDriver 44: Lap timing integrity check failed for 1 lap(s)\n",
      "api            INFO \tUsing cached data for weather_data\n",
      "core           INFO \tLoaded data for 20 drivers: ['2', '3', '5', '7', '8', '9', '10', '11', '14', '16', '18', '20', '27', '28', '31', '33', '35', '44', '55', '77']\n",
      "core           INFO \tLoading laps for Azerbaijan Grand Prix - Practice 3 [v2.1.12]\n",
      "api            INFO \tUsing cached data for timing_data\n",
      "api            INFO \tUsing cached data for timing_app_data\n",
      "core           INFO \tProcessing timing data...\n",
      "api            INFO \tUsing cached data for driver_info\n",
      "api            INFO \tUsing cached data for session_status_data\n",
      "api            INFO \tUsing cached data for track_status_data\n",
      "api            INFO \tUsing cached data for weather_data\n",
      "core           INFO \tLoaded data for 20 drivers: ['2', '3', '5', '7', '8', '9', '10', '11', '14', '16', '18', '20', '27', '28', '31', '33', '35', '44', '55', '77']\n",
      "core           INFO \tLoading laps for Spanish Grand Prix - Practice 1 [v2.1.12]\n",
      "api            INFO \tUsing cached data for timing_data\n",
      "api            INFO \tUsing cached data for timing_app_data\n",
      "core           INFO \tProcessing timing data...\n",
      "api            INFO \tUsing cached data for driver_info\n",
      "api            INFO \tUsing cached data for session_status_data\n",
      "api            INFO \tUsing cached data for track_status_data\n",
      "api            INFO \tUsing cached data for weather_data\n",
      "core           INFO \tLoaded data for 20 drivers: ['2', '3', '5', '7', '8', '9', '10', '11', '14', '16', '18', '20', '27', '28', '31', '33', '40', '44', '55', '77']\n",
      "core           INFO \tLoading laps for Spanish Grand Prix - Practice 2 [v2.1.12]\n",
      "api            INFO \tUsing cached data for timing_data\n",
      "api            INFO \tUsing cached data for timing_app_data\n",
      "core           INFO \tProcessing timing data...\n",
      "api            INFO \tUsing cached data for driver_info\n",
      "api            INFO \tUsing cached data for session_status_data\n"
     ]
    },
    {
     "name": "stdout",
     "output_type": "stream",
     "text": [
      "problem on 2018 5 P1\n"
     ]
    },
    {
     "name": "stderr",
     "output_type": "stream",
     "text": [
      "api            INFO \tUsing cached data for track_status_data\n",
      "api            INFO \tUsing cached data for weather_data\n",
      "core           INFO \tLoaded data for 20 drivers: ['2', '3', '5', '7', '8', '9', '10', '11', '14', '16', '18', '20', '27', '28', '31', '33', '35', '44', '55', '77']\n",
      "core           INFO \tLoading laps for Spanish Grand Prix - Practice 3 [v2.1.12]\n",
      "api            INFO \tUsing cached data for timing_data\n",
      "api            INFO \tUsing cached data for timing_app_data\n",
      "core           INFO \tProcessing timing data...\n",
      "api            INFO \tUsing cached data for driver_info\n",
      "api            INFO \tUsing cached data for session_status_data\n",
      "api            INFO \tUsing cached data for track_status_data\n",
      "api            INFO \tUsing cached data for weather_data\n",
      "core           INFO \tLoaded data for 20 drivers: ['2', '3', '5', '7', '8', '9', '10', '11', '14', '16', '18', '20', '27', '28', '31', '33', '35', '44', '55', '77']\n",
      "core           INFO \tLoading laps for Monaco Grand Prix - Practice 1 [v2.1.12]\n",
      "api            INFO \tUsing cached data for timing_data\n",
      "api            INFO \tUsing cached data for timing_app_data\n",
      "core           INFO \tProcessing timing data...\n",
      "api            INFO \tUsing cached data for driver_info\n",
      "api            INFO \tUsing cached data for session_status_data\n",
      "api            INFO \tUsing cached data for track_status_data\n",
      "api            INFO \tUsing cached data for weather_data\n",
      "core           INFO \tLoaded data for 20 drivers: ['2', '3', '5', '7', '8', '9', '10', '11', '14', '16', '18', '20', '27', '28', '31', '33', '35', '44', '55', '77']\n",
      "core           INFO \tLoading laps for Monaco Grand Prix - Practice 2 [v2.1.12]\n",
      "api            INFO \tUsing cached data for timing_data\n",
      "api            INFO \tUsing cached data for timing_app_data\n",
      "core           INFO \tProcessing timing data...\n",
      "api            INFO \tUsing cached data for driver_info\n",
      "api            INFO \tUsing cached data for session_status_data\n",
      "api            INFO \tUsing cached data for track_status_data\n",
      "api            INFO \tUsing cached data for weather_data\n",
      "core           INFO \tLoaded data for 20 drivers: ['2', '3', '5', '7', '8', '9', '10', '11', '14', '16', '18', '20', '27', '28', '31', '33', '35', '44', '55', '77']\n",
      "core           INFO \tLoading laps for Monaco Grand Prix - Practice 3 [v2.1.12]\n",
      "api            INFO \tUsing cached data for timing_data\n",
      "api            INFO \tUsing cached data for timing_app_data\n",
      "core           INFO \tProcessing timing data...\n",
      "api            INFO \tUsing cached data for driver_info\n",
      "api            INFO \tUsing cached data for session_status_data\n",
      "api            INFO \tUsing cached data for track_status_data\n",
      "api            INFO \tUsing cached data for weather_data\n",
      "core           INFO \tLoaded data for 20 drivers: ['2', '3', '5', '7', '8', '9', '10', '11', '14', '16', '18', '20', '27', '28', '31', '33', '35', '44', '55', '77']\n",
      "core           INFO \tLoading laps for Canadian Grand Prix - Practice 1 [v2.1.12]\n",
      "api            INFO \tUsing cached data for timing_data\n",
      "api            INFO \tUsing cached data for timing_app_data\n",
      "core           INFO \tProcessing timing data...\n",
      "api            INFO \tUsing cached data for driver_info\n",
      "api            INFO \tUsing cached data for session_status_data\n",
      "api            INFO \tUsing cached data for track_status_data\n",
      "api            INFO \tUsing cached data for weather_data\n",
      "core           INFO \tLoaded data for 20 drivers: ['2', '3', '5', '7', '8', '9', '10', '14', '16', '18', '20', '27', '28', '31', '33', '34', '35', '44', '55', '77']\n",
      "core           INFO \tLoading laps for Canadian Grand Prix - Practice 2 [v2.1.12]\n",
      "api            INFO \tUsing cached data for timing_data\n",
      "api            INFO \tUsing cached data for timing_app_data\n",
      "core           INFO \tProcessing timing data...\n",
      "api            INFO \tUsing cached data for driver_info\n",
      "api            INFO \tUsing cached data for session_status_data\n"
     ]
    },
    {
     "name": "stdout",
     "output_type": "stream",
     "text": [
      "problem on 2018 7 P1\n"
     ]
    },
    {
     "name": "stderr",
     "output_type": "stream",
     "text": [
      "api            INFO \tUsing cached data for track_status_data\n",
      "api            INFO \tUsing cached data for weather_data\n",
      "core           INFO \tLoaded data for 20 drivers: ['2', '3', '5', '7', '8', '9', '10', '11', '14', '16', '18', '20', '27', '28', '31', '33', '35', '44', '55', '77']\n",
      "core           INFO \tLoading laps for Canadian Grand Prix - Practice 3 [v2.1.12]\n",
      "api            INFO \tUsing cached data for timing_data\n",
      "api            INFO \tUsing cached data for timing_app_data\n",
      "core           INFO \tProcessing timing data...\n",
      "api            INFO \tUsing cached data for driver_info\n",
      "api            INFO \tUsing cached data for session_status_data\n",
      "api            INFO \tUsing cached data for track_status_data\n",
      "api            INFO \tUsing cached data for weather_data\n",
      "core           INFO \tLoaded data for 20 drivers: ['2', '3', '5', '7', '8', '9', '10', '11', '14', '16', '18', '20', '27', '28', '31', '33', '35', '44', '55', '77']\n",
      "core           INFO \tLoading laps for French Grand Prix - Practice 1 [v2.1.12]\n",
      "api            INFO \tUsing cached data for timing_data\n",
      "api            INFO \tUsing cached data for timing_app_data\n",
      "core           INFO \tProcessing timing data...\n",
      "api            INFO \tUsing cached data for driver_info\n",
      "api            INFO \tUsing cached data for session_status_data\n",
      "api            INFO \tUsing cached data for track_status_data\n",
      "api            INFO \tUsing cached data for weather_data\n",
      "core           INFO \tLoaded data for 20 drivers: ['2', '3', '5', '7', '8', '9', '10', '11', '14', '16', '18', '20', '27', '28', '31', '33', '35', '44', '55', '77']\n",
      "core           INFO \tLoading laps for French Grand Prix - Practice 2 [v2.1.12]\n",
      "api            INFO \tUsing cached data for timing_data\n",
      "api            INFO \tUsing cached data for timing_app_data\n",
      "core           INFO \tProcessing timing data...\n",
      "api            INFO \tUsing cached data for driver_info\n",
      "api            INFO \tUsing cached data for session_status_data\n",
      "api            INFO \tUsing cached data for track_status_data\n",
      "api            INFO \tUsing cached data for weather_data\n",
      "core           INFO \tLoaded data for 20 drivers: ['2', '3', '5', '7', '8', '9', '10', '11', '14', '16', '18', '20', '27', '28', '31', '33', '35', '44', '55', '77']\n",
      "core           INFO \tLoading laps for French Grand Prix - Practice 3 [v2.1.12]\n",
      "api            INFO \tUsing cached data for timing_data\n",
      "api            INFO \tUsing cached data for timing_app_data\n",
      "core           INFO \tProcessing timing data...\n",
      "api            INFO \tUsing cached data for driver_info\n",
      "api            INFO \tUsing cached data for session_status_data\n",
      "api            INFO \tUsing cached data for track_status_data\n",
      "api            INFO \tUsing cached data for weather_data\n",
      "core           INFO \tLoaded data for 20 drivers: ['2', '3', '5', '7', '8', '9', '10', '11', '14', '16', '18', '20', '27', '28', '31', '33', '35', '44', '55', '77']\n",
      "core           INFO \tLoading laps for Austrian Grand Prix - Practice 1 [v2.1.12]\n",
      "api            INFO \tUsing cached data for timing_data\n",
      "api            INFO \tUsing cached data for timing_app_data\n",
      "core           INFO \tProcessing timing data...\n",
      "api            INFO \tUsing cached data for driver_info\n",
      "api            INFO \tUsing cached data for session_status_data\n"
     ]
    },
    {
     "name": "stdout",
     "output_type": "stream",
     "text": [
      "problem on 2018 8 P3\n"
     ]
    },
    {
     "name": "stderr",
     "output_type": "stream",
     "text": [
      "api            INFO \tUsing cached data for track_status_data\n",
      "api            INFO \tUsing cached data for weather_data\n",
      "core           INFO \tLoaded data for 20 drivers: ['2', '3', '5', '7', '8', '9', '10', '11', '14', '16', '18', '20', '27', '28', '31', '33', '40', '44', '55', '77']\n",
      "core           INFO \tLoading laps for Austrian Grand Prix - Practice 2 [v2.1.12]\n",
      "api            INFO \tUsing cached data for timing_data\n",
      "api            INFO \tUsing cached data for timing_app_data\n",
      "core           INFO \tProcessing timing data...\n",
      "api            INFO \tUsing cached data for driver_info\n",
      "api            INFO \tUsing cached data for session_status_data\n"
     ]
    },
    {
     "name": "stdout",
     "output_type": "stream",
     "text": [
      "problem on 2018 9 P1\n"
     ]
    },
    {
     "name": "stderr",
     "output_type": "stream",
     "text": [
      "api            INFO \tUsing cached data for track_status_data\n",
      "api            INFO \tUsing cached data for weather_data\n",
      "core           INFO \tLoaded data for 20 drivers: ['2', '3', '5', '7', '8', '9', '10', '11', '14', '16', '18', '20', '27', '28', '31', '33', '35', '44', '55', '77']\n",
      "core           INFO \tLoading laps for Austrian Grand Prix - Practice 3 [v2.1.12]\n",
      "api            INFO \tUsing cached data for timing_data\n",
      "api            INFO \tUsing cached data for timing_app_data\n",
      "core           INFO \tProcessing timing data...\n",
      "api            INFO \tUsing cached data for driver_info\n",
      "api            INFO \tUsing cached data for session_status_data\n",
      "api            INFO \tUsing cached data for track_status_data\n",
      "api            INFO \tUsing cached data for weather_data\n",
      "core           INFO \tLoaded data for 20 drivers: ['2', '3', '5', '7', '8', '9', '10', '11', '14', '16', '18', '20', '27', '28', '31', '33', '35', '44', '55', '77']\n",
      "core           INFO \tLoading laps for British Grand Prix - Practice 1 [v2.1.12]\n",
      "api            INFO \tUsing cached data for timing_data\n",
      "api            INFO \tUsing cached data for timing_app_data\n",
      "core           INFO \tProcessing timing data...\n",
      "api            INFO \tUsing cached data for driver_info\n",
      "api            INFO \tUsing cached data for session_status_data\n",
      "api            INFO \tUsing cached data for track_status_data\n",
      "api            INFO \tUsing cached data for weather_data\n",
      "core           INFO \tLoaded data for 20 drivers: ['2', '3', '5', '7', '8', '9', '10', '11', '14', '16', '18', '20', '27', '28', '31', '33', '35', '44', '55', '77']\n",
      "core           INFO \tLoading laps for British Grand Prix - Practice 2 [v2.1.12]\n",
      "api            INFO \tUsing cached data for timing_data\n",
      "api            INFO \tUsing cached data for timing_app_data\n",
      "core           INFO \tProcessing timing data...\n",
      "api            INFO \tUsing cached data for driver_info\n",
      "api            INFO \tUsing cached data for session_status_data\n",
      "api            INFO \tUsing cached data for track_status_data\n",
      "api            INFO \tUsing cached data for weather_data\n",
      "core           INFO \tLoaded data for 20 drivers: ['2', '3', '5', '7', '8', '9', '10', '11', '14', '16', '18', '20', '27', '28', '31', '33', '35', '44', '55', '77']\n",
      "core           INFO \tLoading laps for British Grand Prix - Practice 3 [v2.1.12]\n",
      "api            INFO \tUsing cached data for timing_data\n",
      "api            INFO \tUsing cached data for timing_app_data\n",
      "core           INFO \tProcessing timing data...\n",
      "api            INFO \tUsing cached data for driver_info\n",
      "api            INFO \tUsing cached data for session_status_data\n"
     ]
    },
    {
     "name": "stdout",
     "output_type": "stream",
     "text": [
      "problem on 2018 10 P2\n"
     ]
    },
    {
     "name": "stderr",
     "output_type": "stream",
     "text": [
      "api            INFO \tUsing cached data for track_status_data\n",
      "api            INFO \tUsing cached data for weather_data\n",
      "core           INFO \tLoaded data for 20 drivers: ['2', '3', '5', '7', '8', '9', '10', '11', '14', '16', '18', '20', '27', '28', '31', '33', '35', '44', '55', '77']\n",
      "core           INFO \tLoading laps for German Grand Prix - Practice 1 [v2.1.12]\n",
      "api            INFO \tUsing cached data for timing_data\n",
      "api            INFO \tUsing cached data for timing_app_data\n",
      "core           INFO \tProcessing timing data...\n",
      "api            INFO \tUsing cached data for driver_info\n",
      "api            INFO \tUsing cached data for session_status_data\n"
     ]
    },
    {
     "name": "stdout",
     "output_type": "stream",
     "text": [
      "problem on 2018 10 P3\n"
     ]
    },
    {
     "name": "stderr",
     "output_type": "stream",
     "text": [
      "api            INFO \tUsing cached data for track_status_data\n",
      "api            INFO \tUsing cached data for weather_data\n",
      "core           INFO \tLoaded data for 20 drivers: ['2', '3', '5', '7', '8', '10', '11', '14', '16', '18', '20', '27', '28', '33', '34', '35', '36', '44', '55', '77']\n",
      "core           INFO \tLoading laps for German Grand Prix - Practice 2 [v2.1.12]\n",
      "api            INFO \tUsing cached data for timing_data\n",
      "api            INFO \tUsing cached data for timing_app_data\n",
      "core           INFO \tProcessing timing data...\n",
      "api            INFO \tUsing cached data for driver_info\n",
      "api            INFO \tUsing cached data for session_status_data\n"
     ]
    },
    {
     "name": "stdout",
     "output_type": "stream",
     "text": [
      "problem on 2018 11 P1\n"
     ]
    },
    {
     "name": "stderr",
     "output_type": "stream",
     "text": [
      "api            INFO \tUsing cached data for track_status_data\n",
      "api            INFO \tUsing cached data for weather_data\n",
      "core           INFO \tLoaded data for 20 drivers: ['2', '3', '5', '7', '8', '9', '10', '11', '14', '16', '18', '20', '27', '28', '31', '33', '35', '44', '55', '77']\n",
      "core           INFO \tLoading laps for German Grand Prix - Practice 3 [v2.1.12]\n",
      "api            INFO \tUsing cached data for timing_data\n",
      "api            INFO \tUsing cached data for timing_app_data\n",
      "core           INFO \tProcessing timing data...\n",
      "api            INFO \tUsing cached data for driver_info\n",
      "api            INFO \tUsing cached data for session_status_data\n",
      "api            INFO \tUsing cached data for track_status_data\n",
      "api            INFO \tUsing cached data for weather_data\n",
      "core           INFO \tLoaded data for 20 drivers: ['2', '3', '5', '7', '8', '9', '10', '11', '14', '16', '18', '20', '27', '28', '31', '33', '35', '44', '55', '77']\n",
      "core           INFO \tLoading laps for Hungarian Grand Prix - Practice 1 [v2.1.12]\n",
      "api            INFO \tUsing cached data for timing_data\n",
      "api            INFO \tUsing cached data for timing_app_data\n",
      "core           INFO \tProcessing timing data...\n",
      "api            INFO \tUsing cached data for driver_info\n",
      "api            INFO \tUsing cached data for session_status_data\n"
     ]
    },
    {
     "name": "stdout",
     "output_type": "stream",
     "text": [
      "problem on 2018 11 P3\n"
     ]
    },
    {
     "name": "stderr",
     "output_type": "stream",
     "text": [
      "api            INFO \tUsing cached data for track_status_data\n",
      "api            INFO \tUsing cached data for weather_data\n",
      "core           INFO \tLoaded data for 20 drivers: ['2', '3', '5', '7', '8', '9', '10', '11', '14', '18', '20', '27', '28', '31', '33', '35', '36', '44', '55', '77']\n",
      "core           INFO \tLoading laps for Hungarian Grand Prix - Practice 2 [v2.1.12]\n",
      "api            INFO \tUsing cached data for timing_data\n",
      "api            INFO \tUsing cached data for timing_app_data\n",
      "core           INFO \tProcessing timing data...\n",
      "api            INFO \tUsing cached data for driver_info\n",
      "api            INFO \tUsing cached data for session_status_data\n"
     ]
    },
    {
     "name": "stdout",
     "output_type": "stream",
     "text": [
      "problem on 2018 12 P1\n"
     ]
    },
    {
     "name": "stderr",
     "output_type": "stream",
     "text": [
      "api            INFO \tUsing cached data for track_status_data\n",
      "api            INFO \tUsing cached data for weather_data\n",
      "core           INFO \tLoaded data for 20 drivers: ['2', '3', '5', '7', '8', '9', '10', '11', '14', '16', '18', '20', '27', '28', '31', '33', '35', '44', '55', '77']\n",
      "core           INFO \tLoading laps for Hungarian Grand Prix - Practice 3 [v2.1.12]\n",
      "api            INFO \tUsing cached data for timing_data\n",
      "api            INFO \tUsing cached data for timing_app_data\n",
      "core           INFO \tProcessing timing data...\n",
      "api            INFO \tUsing cached data for driver_info\n",
      "api            INFO \tUsing cached data for session_status_data\n",
      "api            INFO \tUsing cached data for track_status_data\n",
      "api            INFO \tUsing cached data for weather_data\n",
      "core           INFO \tLoaded data for 20 drivers: ['2', '3', '5', '7', '8', '9', '10', '11', '14', '16', '18', '20', '27', '28', '31', '33', '35', '44', '55', '77']\n",
      "core           INFO \tLoading laps for Belgian Grand Prix - Practice 1 [v2.1.12]\n",
      "api            INFO \tUsing cached data for timing_data\n",
      "api            INFO \tUsing cached data for timing_app_data\n",
      "core           INFO \tProcessing timing data...\n",
      "api            INFO \tUsing cached data for driver_info\n",
      "api            INFO \tUsing cached data for session_status_data\n",
      "api            INFO \tUsing cached data for track_status_data\n",
      "api            INFO \tUsing cached data for weather_data\n",
      "core           INFO \tLoaded data for 20 drivers: ['2', '3', '5', '7', '8', '9', '10', '11', '16', '18', '20', '27', '28', '31', '33', '35', '44', '47', '55', '77']\n",
      "core           INFO \tLoading laps for Belgian Grand Prix - Practice 2 [v2.1.12]\n",
      "api            INFO \tUsing cached data for timing_data\n",
      "api            INFO \tUsing cached data for timing_app_data\n",
      "core           INFO \tProcessing timing data...\n",
      "api            INFO \tUsing cached data for driver_info\n",
      "api            INFO \tUsing cached data for session_status_data\n"
     ]
    },
    {
     "name": "stdout",
     "output_type": "stream",
     "text": [
      "problem on 2018 13 P1\n"
     ]
    },
    {
     "name": "stderr",
     "output_type": "stream",
     "text": [
      "api            INFO \tUsing cached data for track_status_data\n",
      "api            INFO \tUsing cached data for weather_data\n",
      "core           INFO \tLoaded data for 20 drivers: ['2', '3', '5', '7', '8', '9', '10', '11', '14', '16', '18', '20', '27', '28', '31', '33', '35', '44', '55', '77']\n",
      "core           INFO \tLoading laps for Belgian Grand Prix - Practice 3 [v2.1.12]\n",
      "api            INFO \tUsing cached data for timing_data\n",
      "api            INFO \tUsing cached data for timing_app_data\n",
      "core           INFO \tProcessing timing data...\n",
      "api            INFO \tUsing cached data for driver_info\n",
      "api            INFO \tUsing cached data for session_status_data\n",
      "api            INFO \tUsing cached data for track_status_data\n",
      "api            INFO \tUsing cached data for weather_data\n",
      "core           INFO \tLoaded data for 20 drivers: ['2', '3', '5', '7', '8', '9', '10', '11', '14', '16', '18', '20', '27', '28', '31', '33', '35', '44', '55', '77']\n",
      "core           INFO \tLoading laps for Italian Grand Prix - Practice 1 [v2.1.12]\n",
      "api            INFO \tUsing cached data for timing_data\n",
      "api            INFO \tUsing cached data for timing_app_data\n",
      "core           INFO \tProcessing timing data...\n",
      "api            INFO \tUsing cached data for driver_info\n",
      "api            INFO \tUsing cached data for session_status_data\n",
      "api            INFO \tUsing cached data for track_status_data\n",
      "api            INFO \tUsing cached data for weather_data\n",
      "core           INFO \tLoaded data for 20 drivers: ['3', '5', '7', '8', '9', '10', '11', '14', '16', '18', '20', '27', '28', '31', '33', '35', '44', '47', '55', '77']\n",
      "core           INFO \tLoading laps for Italian Grand Prix - Practice 2 [v2.1.12]\n",
      "api            INFO \tUsing cached data for timing_data\n",
      "api            INFO \tUsing cached data for timing_app_data\n",
      "core           INFO \tProcessing timing data...\n",
      "api            INFO \tUsing cached data for driver_info\n",
      "api            INFO \tUsing cached data for session_status_data\n"
     ]
    },
    {
     "name": "stdout",
     "output_type": "stream",
     "text": [
      "problem on 2018 14 P1\n"
     ]
    },
    {
     "name": "stderr",
     "output_type": "stream",
     "text": [
      "api            INFO \tUsing cached data for track_status_data\n",
      "api            INFO \tUsing cached data for weather_data\n",
      "core           INFO \tLoaded data for 20 drivers: ['2', '3', '5', '7', '8', '9', '10', '11', '14', '16', '18', '20', '27', '28', '31', '33', '35', '44', '55', '77']\n",
      "core           INFO \tLoading laps for Italian Grand Prix - Practice 3 [v2.1.12]\n",
      "api            INFO \tUsing cached data for timing_data\n",
      "api            INFO \tUsing cached data for timing_app_data\n",
      "core           INFO \tProcessing timing data...\n",
      "api            INFO \tUsing cached data for driver_info\n",
      "api            INFO \tUsing cached data for session_status_data\n"
     ]
    },
    {
     "name": "stdout",
     "output_type": "stream",
     "text": [
      "problem on 2018 14 P2\n"
     ]
    },
    {
     "name": "stderr",
     "output_type": "stream",
     "text": [
      "api            INFO \tUsing cached data for track_status_data\n",
      "api            INFO \tUsing cached data for weather_data\n",
      "core           INFO \tLoaded data for 20 drivers: ['2', '3', '5', '7', '8', '9', '10', '11', '14', '16', '18', '20', '27', '28', '31', '33', '35', '44', '55', '77']\n",
      "core           INFO \tLoading laps for Singapore Grand Prix - Practice 1 [v2.1.12]\n",
      "api            INFO \tUsing cached data for timing_data\n",
      "api            INFO \tUsing cached data for timing_app_data\n",
      "core           INFO \tProcessing timing data...\n",
      "api            INFO \tUsing cached data for driver_info\n",
      "api            INFO \tUsing cached data for session_status_data\n",
      "api            INFO \tUsing cached data for track_status_data\n",
      "api            INFO \tUsing cached data for weather_data\n",
      "core           INFO \tLoaded data for 20 drivers: ['2', '3', '5', '7', '8', '9', '10', '11', '14', '16', '18', '20', '27', '28', '31', '33', '35', '44', '55', '77']\n",
      "core           INFO \tLoading laps for Singapore Grand Prix - Practice 2 [v2.1.12]\n",
      "api            INFO \tUsing cached data for timing_data\n",
      "api            INFO \tUsing cached data for timing_app_data\n",
      "core           INFO \tProcessing timing data...\n",
      "api            INFO \tUsing cached data for driver_info\n",
      "api            INFO \tUsing cached data for session_status_data\n",
      "api            INFO \tUsing cached data for track_status_data\n",
      "api            INFO \tUsing cached data for weather_data\n",
      "core           INFO \tLoaded data for 20 drivers: ['2', '3', '5', '7', '8', '9', '10', '11', '14', '16', '18', '20', '27', '28', '31', '33', '35', '44', '55', '77']\n",
      "core           INFO \tLoading laps for Singapore Grand Prix - Practice 3 [v2.1.12]\n",
      "api            INFO \tUsing cached data for timing_data\n",
      "api            INFO \tUsing cached data for timing_app_data\n",
      "core           INFO \tProcessing timing data...\n",
      "api            INFO \tUsing cached data for driver_info\n",
      "api            INFO \tUsing cached data for session_status_data\n",
      "api            INFO \tUsing cached data for track_status_data\n",
      "api            INFO \tUsing cached data for weather_data\n",
      "core           INFO \tLoaded data for 20 drivers: ['2', '3', '5', '7', '8', '9', '10', '11', '14', '16', '18', '20', '27', '28', '31', '33', '35', '44', '55', '77']\n",
      "core           INFO \tLoading laps for Russian Grand Prix - Practice 1 [v2.1.12]\n",
      "api            INFO \tUsing cached data for timing_data\n",
      "api            INFO \tUsing cached data for timing_app_data\n",
      "core           INFO \tProcessing timing data...\n",
      "api            INFO \tUsing cached data for driver_info\n",
      "api            INFO \tUsing cached data for session_status_data\n",
      "api            INFO \tUsing cached data for track_status_data\n",
      "api            INFO \tUsing cached data for weather_data\n",
      "core           INFO \tLoaded data for 20 drivers: ['2', '3', '5', '7', '8', '10', '16', '18', '20', '27', '28', '31', '33', '34', '35', '36', '44', '46', '47', '77']\n",
      "core           INFO \tLoading laps for Russian Grand Prix - Practice 2 [v2.1.12]\n",
      "api            INFO \tUsing cached data for timing_data\n",
      "api            INFO \tUsing cached data for timing_app_data\n",
      "core           INFO \tProcessing timing data...\n",
      "api            INFO \tUsing cached data for driver_info\n",
      "api            INFO \tUsing cached data for session_status_data\n"
     ]
    },
    {
     "name": "stdout",
     "output_type": "stream",
     "text": [
      "problem on 2018 16 P1\n"
     ]
    },
    {
     "name": "stderr",
     "output_type": "stream",
     "text": [
      "api            INFO \tUsing cached data for track_status_data\n",
      "api            INFO \tUsing cached data for weather_data\n",
      "core           INFO \tLoaded data for 20 drivers: ['2', '3', '5', '7', '8', '9', '10', '11', '14', '16', '18', '20', '27', '28', '31', '33', '35', '44', '55', '77']\n",
      "core           INFO \tLoading laps for Russian Grand Prix - Practice 3 [v2.1.12]\n",
      "api            INFO \tUsing cached data for timing_data\n",
      "api            INFO \tUsing cached data for timing_app_data\n",
      "core           INFO \tProcessing timing data...\n",
      "api            INFO \tUsing cached data for driver_info\n",
      "api            INFO \tUsing cached data for session_status_data\n",
      "api            INFO \tUsing cached data for track_status_data\n",
      "api            INFO \tUsing cached data for weather_data\n",
      "core           INFO \tLoaded data for 20 drivers: ['2', '3', '5', '7', '8', '9', '10', '11', '14', '16', '18', '20', '27', '28', '31', '33', '35', '44', '55', '77']\n",
      "core           INFO \tLoading laps for Japanese Grand Prix - Practice 1 [v2.1.12]\n",
      "api            INFO \tUsing cached data for timing_data\n",
      "api            INFO \tUsing cached data for timing_app_data\n",
      "core           INFO \tProcessing timing data...\n",
      "api            INFO \tUsing cached data for driver_info\n",
      "api            INFO \tUsing cached data for session_status_data\n",
      "api            INFO \tUsing cached data for track_status_data\n",
      "api            INFO \tUsing cached data for weather_data\n",
      "core           INFO \tLoaded data for 20 drivers: ['3', '5', '7', '8', '9', '10', '11', '14', '16', '18', '20', '27', '28', '31', '33', '35', '44', '47', '55', '77']\n",
      "core           INFO \tLoading laps for Japanese Grand Prix - Practice 2 [v2.1.12]\n",
      "api            INFO \tUsing cached data for timing_data\n",
      "api            INFO \tUsing cached data for timing_app_data\n",
      "core           INFO \tProcessing timing data...\n",
      "api            INFO \tUsing cached data for driver_info\n",
      "api            INFO \tUsing cached data for session_status_data\n"
     ]
    },
    {
     "name": "stdout",
     "output_type": "stream",
     "text": [
      "problem on 2018 17 P1\n"
     ]
    },
    {
     "name": "stderr",
     "output_type": "stream",
     "text": [
      "api            INFO \tUsing cached data for track_status_data\n",
      "api            INFO \tUsing cached data for weather_data\n",
      "core           INFO \tLoaded data for 20 drivers: ['2', '3', '5', '7', '8', '9', '10', '11', '14', '16', '18', '20', '27', '28', '31', '33', '35', '44', '55', '77']\n",
      "core           INFO \tLoading laps for Japanese Grand Prix - Practice 3 [v2.1.12]\n",
      "api            INFO \tUsing cached data for timing_data\n",
      "api            INFO \tUsing cached data for timing_app_data\n",
      "core           INFO \tProcessing timing data...\n",
      "api            INFO \tUsing cached data for driver_info\n",
      "api            INFO \tUsing cached data for session_status_data\n",
      "api            INFO \tUsing cached data for track_status_data\n",
      "api            INFO \tUsing cached data for weather_data\n",
      "core           INFO \tLoaded data for 20 drivers: ['2', '3', '5', '7', '8', '9', '10', '11', '14', '16', '18', '20', '27', '28', '31', '33', '35', '44', '55', '77']\n",
      "core           INFO \tLoading laps for United States Grand Prix - Practice 1 [v2.1.12]\n",
      "api            INFO \tUsing cached data for timing_data\n",
      "api            INFO \tUsing cached data for timing_app_data\n",
      "core           INFO \tProcessing timing data...\n",
      "api            INFO \tUsing cached data for driver_info\n",
      "api            INFO \tUsing cached data for session_status_data\n",
      "api            INFO \tUsing cached data for track_status_data\n",
      "api            INFO \tUsing cached data for weather_data\n",
      "core           INFO \tLoaded data for 20 drivers: ['3', '5', '7', '8', '9', '10', '11', '14', '16', '18', '20', '27', '31', '33', '35', '38', '44', '47', '55', '77']\n",
      "core           INFO \tLoading laps for United States Grand Prix - Practice 2 [v2.1.12]\n",
      "api            INFO \tUsing cached data for timing_data\n",
      "api            INFO \tUsing cached data for timing_app_data\n",
      "core           INFO \tProcessing timing data...\n",
      "api            INFO \tUsing cached data for driver_info\n",
      "api            INFO \tUsing cached data for session_status_data\n"
     ]
    },
    {
     "name": "stdout",
     "output_type": "stream",
     "text": [
      "problem on 2018 18 P1\n"
     ]
    },
    {
     "name": "stderr",
     "output_type": "stream",
     "text": [
      "api            INFO \tUsing cached data for track_status_data\n",
      "api            INFO \tUsing cached data for weather_data\n",
      "core           INFO \tLoaded data for 20 drivers: ['2', '3', '5', '7', '8', '9', '10', '11', '14', '16', '18', '20', '27', '28', '31', '33', '35', '44', '55', '77']\n",
      "core           INFO \tLoading laps for United States Grand Prix - Practice 3 [v2.1.12]\n",
      "api            INFO \tUsing cached data for timing_data\n",
      "api            INFO \tUsing cached data for timing_app_data\n",
      "core           INFO \tProcessing timing data...\n",
      "api            INFO \tUsing cached data for driver_info\n",
      "api            INFO \tUsing cached data for session_status_data\n",
      "api            INFO \tUsing cached data for track_status_data\n",
      "api            INFO \tUsing cached data for weather_data\n",
      "core           INFO \tLoaded data for 20 drivers: ['2', '3', '5', '7', '8', '9', '10', '11', '14', '16', '18', '20', '27', '28', '31', '33', '35', '44', '55', '77']\n",
      "core           INFO \tLoading laps for Mexican Grand Prix - Practice 1 [v2.1.12]\n",
      "api            INFO \tUsing cached data for timing_data\n",
      "api            INFO \tUsing cached data for timing_app_data\n",
      "core           INFO \tProcessing timing data...\n",
      "api            INFO \tUsing cached data for driver_info\n",
      "api            INFO \tUsing cached data for session_status_data\n",
      "api            INFO \tUsing cached data for track_status_data\n",
      "api            INFO \tUsing cached data for weather_data\n",
      "core           INFO \tLoaded data for 20 drivers: ['2', '3', '5', '7', '8', '9', '10', '11', '18', '20', '27', '28', '33', '34', '35', '36', '44', '47', '55', '77']\n",
      "core           INFO \tLoading laps for Mexican Grand Prix - Practice 2 [v2.1.12]\n",
      "api            INFO \tUsing cached data for timing_data\n",
      "api            INFO \tUsing cached data for timing_app_data\n",
      "core           INFO \tProcessing timing data...\n",
      "api            INFO \tUsing cached data for driver_info\n",
      "api            INFO \tUsing cached data for session_status_data\n"
     ]
    },
    {
     "name": "stdout",
     "output_type": "stream",
     "text": [
      "problem on 2018 19 P1\n"
     ]
    },
    {
     "name": "stderr",
     "output_type": "stream",
     "text": [
      "api            INFO \tUsing cached data for track_status_data\n",
      "api            INFO \tUsing cached data for weather_data\n",
      "core           INFO \tLoaded data for 20 drivers: ['2', '3', '5', '7', '8', '9', '10', '11', '14', '16', '18', '20', '27', '28', '31', '33', '35', '44', '55', '77']\n",
      "core           INFO \tLoading laps for Mexican Grand Prix - Practice 3 [v2.1.12]\n",
      "api            INFO \tUsing cached data for timing_data\n",
      "api            INFO \tUsing cached data for timing_app_data\n",
      "core           INFO \tProcessing timing data...\n",
      "api            INFO \tUsing cached data for driver_info\n",
      "api            INFO \tUsing cached data for session_status_data\n",
      "api            INFO \tUsing cached data for track_status_data\n",
      "api            INFO \tUsing cached data for weather_data\n",
      "core           INFO \tLoaded data for 20 drivers: ['2', '3', '5', '7', '8', '9', '10', '11', '14', '16', '18', '20', '27', '28', '31', '33', '35', '44', '55', '77']\n",
      "core           INFO \tLoading laps for Brazilian Grand Prix - Practice 1 [v2.1.12]\n",
      "api            INFO \tUsing cached data for timing_data\n",
      "api            INFO \tUsing cached data for timing_app_data\n",
      "core           INFO \tProcessing timing data...\n",
      "api            INFO \tUsing cached data for driver_info\n",
      "api            INFO \tUsing cached data for session_status_data\n"
     ]
    },
    {
     "name": "stdout",
     "output_type": "stream",
     "text": [
      "problem on 2018 19 P3\n"
     ]
    },
    {
     "name": "stderr",
     "output_type": "stream",
     "text": [
      "api            INFO \tUsing cached data for track_status_data\n",
      "api            INFO \tUsing cached data for weather_data\n",
      "core           INFO \tLoaded data for 20 drivers: ['2', '3', '5', '7', '8', '10', '16', '18', '20', '27', '28', '31', '33', '34', '35', '36', '44', '47', '55', '77']\n",
      "core           INFO \tLoading laps for Brazilian Grand Prix - Practice 2 [v2.1.12]\n",
      "api            INFO \tUsing cached data for timing_data\n",
      "api            INFO \tUsing cached data for timing_app_data\n",
      "core           INFO \tProcessing timing data...\n",
      "api            INFO \tUsing cached data for driver_info\n",
      "api            INFO \tUsing cached data for session_status_data\n"
     ]
    },
    {
     "name": "stdout",
     "output_type": "stream",
     "text": [
      "problem on 2018 20 P1\n"
     ]
    },
    {
     "name": "stderr",
     "output_type": "stream",
     "text": [
      "api            INFO \tUsing cached data for track_status_data\n",
      "core        WARNING \tDriver 35: Lap timing integrity check failed for 1 lap(s)\n",
      "api            INFO \tUsing cached data for weather_data\n",
      "core           INFO \tLoaded data for 20 drivers: ['2', '3', '5', '7', '8', '9', '10', '11', '14', '16', '18', '20', '27', '28', '31', '33', '35', '44', '55', '77']\n",
      "core           INFO \tLoading laps for Brazilian Grand Prix - Practice 3 [v2.1.12]\n",
      "api            INFO \tUsing cached data for timing_data\n",
      "api            INFO \tUsing cached data for timing_app_data\n",
      "core           INFO \tProcessing timing data...\n",
      "api            INFO \tUsing cached data for driver_info\n",
      "api            INFO \tUsing cached data for session_status_data\n",
      "api            INFO \tUsing cached data for track_status_data\n",
      "api            INFO \tUsing cached data for weather_data\n",
      "core           INFO \tLoaded data for 20 drivers: ['2', '3', '5', '7', '8', '9', '10', '11', '14', '16', '18', '20', '27', '28', '31', '33', '35', '44', '55', '77']\n",
      "core           INFO \tLoading laps for Abu Dhabi Grand Prix - Practice 1 [v2.1.12]\n",
      "api            INFO \tUsing cached data for timing_data\n",
      "api            INFO \tUsing cached data for timing_app_data\n",
      "core           INFO \tProcessing timing data...\n",
      "api            INFO \tUsing cached data for driver_info\n",
      "api            INFO \tUsing cached data for session_status_data\n",
      "api            INFO \tUsing cached data for track_status_data\n",
      "core        WARNING \tDriver 36: Lap timing integrity check failed for 1 lap(s)\n",
      "core        WARNING \tDriver 44: Lap timing integrity check failed for 1 lap(s)\n",
      "api            INFO \tUsing cached data for weather_data\n",
      "core           INFO \tLoaded data for 20 drivers: ['2', '3', '5', '7', '8', '9', '10', '11', '14', '18', '20', '27', '28', '31', '33', '36', '40', '44', '55', '77']\n",
      "core           INFO \tLoading laps for Abu Dhabi Grand Prix - Practice 2 [v2.1.12]\n",
      "api            INFO \tUsing cached data for timing_data\n",
      "api            INFO \tUsing cached data for timing_app_data\n",
      "core           INFO \tProcessing timing data...\n",
      "api            INFO \tUsing cached data for driver_info\n",
      "api            INFO \tUsing cached data for session_status_data\n"
     ]
    },
    {
     "name": "stdout",
     "output_type": "stream",
     "text": [
      "problem on 2018 21 P1\n"
     ]
    },
    {
     "name": "stderr",
     "output_type": "stream",
     "text": [
      "api            INFO \tUsing cached data for track_status_data\n",
      "api            INFO \tUsing cached data for weather_data\n",
      "core           INFO \tLoaded data for 20 drivers: ['2', '3', '5', '7', '8', '9', '10', '11', '14', '16', '18', '20', '27', '28', '31', '33', '35', '44', '55', '77']\n",
      "core           INFO \tLoading laps for Abu Dhabi Grand Prix - Practice 3 [v2.1.12]\n",
      "api            INFO \tUsing cached data for timing_data\n",
      "api            INFO \tUsing cached data for timing_app_data\n",
      "core           INFO \tProcessing timing data...\n",
      "api            INFO \tUsing cached data for driver_info\n",
      "api            INFO \tUsing cached data for session_status_data\n",
      "api            INFO \tUsing cached data for track_status_data\n",
      "api            INFO \tUsing cached data for weather_data\n",
      "core           INFO \tLoaded data for 20 drivers: ['2', '3', '5', '7', '8', '9', '10', '11', '14', '16', '18', '20', '27', '28', '31', '33', '35', '44', '55', '77']\n",
      "core       CRITICAL \tFailed to load critical data from Ergast!\n",
      "\n",
      " Cannot determine the date and name of the event. Cannot proceed!\n",
      "\n",
      "core       CRITICAL \tlist index out of range\n",
      "core       CRITICAL \tFailed to load critical data from Ergast!\n",
      "\n",
      " Cannot determine the date and name of the event. Cannot proceed!\n",
      "\n",
      "core       CRITICAL \tlist index out of range\n",
      "core       CRITICAL \tFailed to load critical data from Ergast!\n",
      "\n",
      " Cannot determine the date and name of the event. Cannot proceed!\n",
      "\n",
      "core       CRITICAL \tlist index out of range\n",
      "core           INFO \tLoading laps for Australian Grand Prix - Practice 1 [v2.1.12]\n",
      "api            INFO \tUsing cached data for timing_data\n",
      "api            INFO \tUsing cached data for timing_app_data\n",
      "core           INFO \tProcessing timing data...\n",
      "api            INFO \tUsing cached data for driver_info\n",
      "api            INFO \tUsing cached data for session_status_data\n"
     ]
    },
    {
     "name": "stdout",
     "output_type": "stream",
     "text": [
      "problem on 2018 22 P1\n",
      "problem on 2018 22 P2\n",
      "problem on 2018 22 P3\n"
     ]
    },
    {
     "name": "stderr",
     "output_type": "stream",
     "text": [
      "api            INFO \tUsing cached data for track_status_data\n",
      "api            INFO \tUsing cached data for weather_data\n",
      "core           INFO \tLoaded data for 20 drivers: ['3', '4', '5', '7', '8', '10', '11', '16', '18', '20', '23', '26', '27', '33', '44', '55', '63', '77', '88', '99']\n",
      "core           INFO \tLoading laps for Australian Grand Prix - Practice 2 [v2.1.12]\n",
      "api            INFO \tUsing cached data for timing_data\n",
      "api            INFO \tUsing cached data for timing_app_data\n",
      "core           INFO \tProcessing timing data...\n",
      "api            INFO \tUsing cached data for driver_info\n",
      "api            INFO \tUsing cached data for session_status_data\n",
      "api            INFO \tUsing cached data for track_status_data\n",
      "api            INFO \tUsing cached data for weather_data\n",
      "core           INFO \tLoaded data for 20 drivers: ['3', '4', '5', '7', '8', '10', '11', '16', '18', '20', '23', '26', '27', '33', '44', '55', '63', '77', '88', '99']\n",
      "core           INFO \tLoading laps for Australian Grand Prix - Practice 3 [v2.1.12]\n",
      "api            INFO \tUsing cached data for timing_data\n",
      "api            INFO \tUsing cached data for timing_app_data\n",
      "core           INFO \tProcessing timing data...\n",
      "api            INFO \tUsing cached data for driver_info\n",
      "api            INFO \tUsing cached data for session_status_data\n",
      "api            INFO \tUsing cached data for track_status_data\n",
      "api            INFO \tUsing cached data for weather_data\n",
      "core           INFO \tLoaded data for 20 drivers: ['3', '4', '5', '7', '8', '10', '11', '16', '18', '20', '23', '26', '27', '33', '44', '55', '63', '77', '88', '99']\n",
      "core           INFO \tLoading laps for Bahrain Grand Prix - Practice 1 [v2.1.12]\n",
      "api            INFO \tUsing cached data for timing_data\n",
      "api            INFO \tUsing cached data for timing_app_data\n",
      "core           INFO \tProcessing timing data...\n",
      "api            INFO \tUsing cached data for driver_info\n",
      "api            INFO \tUsing cached data for session_status_data\n",
      "api            INFO \tUsing cached data for track_status_data\n",
      "api            INFO \tUsing cached data for weather_data\n",
      "core           INFO \tLoaded data for 20 drivers: ['3', '4', '5', '7', '8', '10', '11', '16', '18', '20', '23', '26', '27', '33', '44', '55', '63', '77', '88', '99']\n",
      "core           INFO \tLoading laps for Bahrain Grand Prix - Practice 2 [v2.1.12]\n",
      "api            INFO \tUsing cached data for timing_data\n",
      "api            INFO \tUsing cached data for timing_app_data\n",
      "core           INFO \tProcessing timing data...\n",
      "api            INFO \tUsing cached data for driver_info\n",
      "api            INFO \tUsing cached data for session_status_data\n",
      "api            INFO \tUsing cached data for track_status_data\n",
      "api            INFO \tUsing cached data for weather_data\n",
      "core           INFO \tLoaded data for 20 drivers: ['3', '4', '5', '7', '8', '10', '11', '16', '18', '20', '23', '26', '27', '33', '44', '55', '63', '77', '88', '99']\n",
      "core           INFO \tLoading laps for Bahrain Grand Prix - Practice 3 [v2.1.12]\n",
      "api            INFO \tUsing cached data for timing_data\n",
      "api            INFO \tUsing cached data for timing_app_data\n",
      "core           INFO \tProcessing timing data...\n",
      "api            INFO \tUsing cached data for driver_info\n",
      "api            INFO \tUsing cached data for session_status_data\n",
      "api            INFO \tUsing cached data for track_status_data\n",
      "api            INFO \tUsing cached data for weather_data\n",
      "core           INFO \tLoaded data for 20 drivers: ['3', '4', '5', '7', '8', '10', '11', '16', '18', '20', '23', '26', '27', '33', '44', '55', '63', '77', '88', '99']\n",
      "core           INFO \tLoading laps for Chinese Grand Prix - Practice 1 [v2.1.12]\n",
      "api            INFO \tUsing cached data for timing_data\n",
      "api            INFO \tUsing cached data for timing_app_data\n",
      "core           INFO \tProcessing timing data...\n",
      "api            INFO \tUsing cached data for driver_info\n",
      "api            INFO \tUsing cached data for session_status_data\n",
      "api            INFO \tUsing cached data for track_status_data\n",
      "api            INFO \tUsing cached data for weather_data\n",
      "core           INFO \tLoaded data for 20 drivers: ['3', '4', '5', '7', '8', '10', '11', '16', '18', '20', '23', '26', '27', '33', '44', '55', '63', '77', '88', '99']\n",
      "core           INFO \tLoading laps for Chinese Grand Prix - Practice 2 [v2.1.12]\n",
      "api            INFO \tUsing cached data for timing_data\n",
      "api            INFO \tUsing cached data for timing_app_data\n",
      "core           INFO \tProcessing timing data...\n",
      "api            INFO \tUsing cached data for driver_info\n",
      "api            INFO \tUsing cached data for session_status_data\n"
     ]
    },
    {
     "name": "stdout",
     "output_type": "stream",
     "text": [
      "problem on 2019 3 P1\n"
     ]
    },
    {
     "name": "stderr",
     "output_type": "stream",
     "text": [
      "api            INFO \tUsing cached data for track_status_data\n",
      "api            INFO \tUsing cached data for weather_data\n",
      "core           INFO \tLoaded data for 20 drivers: ['3', '4', '5', '7', '8', '10', '11', '16', '18', '20', '23', '26', '27', '33', '44', '55', '63', '77', '88', '99']\n",
      "core           INFO \tLoading laps for Chinese Grand Prix - Practice 3 [v2.1.12]\n",
      "api            INFO \tUsing cached data for timing_data\n",
      "api            INFO \tUsing cached data for timing_app_data\n",
      "core           INFO \tProcessing timing data...\n",
      "api            INFO \tUsing cached data for driver_info\n",
      "api            INFO \tUsing cached data for session_status_data\n",
      "api            INFO \tUsing cached data for track_status_data\n",
      "api            INFO \tUsing cached data for weather_data\n",
      "core           INFO \tLoaded data for 20 drivers: ['3', '4', '5', '7', '8', '10', '11', '16', '18', '20', '23', '26', '27', '33', '44', '55', '63', '77', '88', '99']\n",
      "core           INFO \tLoading laps for Azerbaijan Grand Prix - Practice 1 [v2.1.12]\n",
      "api            INFO \tUsing cached data for timing_data\n",
      "api            INFO \tUsing cached data for timing_app_data\n",
      "core           INFO \tProcessing timing data...\n",
      "api            INFO \tUsing cached data for driver_info\n",
      "api            INFO \tUsing cached data for session_status_data\n",
      "api            INFO \tUsing cached data for track_status_data\n",
      "api            INFO \tUsing cached data for weather_data\n",
      "core           INFO \tLoaded data for 20 drivers: ['3', '4', '5', '7', '8', '10', '11', '16', '18', '20', '23', '26', '27', '33', '44', '55', '63', '77', '88', '99']\n",
      "core           INFO \tLoading laps for Azerbaijan Grand Prix - Practice 2 [v2.1.12]\n",
      "api            INFO \tUsing cached data for timing_data\n",
      "api            INFO \tUsing cached data for timing_app_data\n",
      "core           INFO \tProcessing timing data...\n",
      "api            INFO \tUsing cached data for driver_info\n",
      "api            INFO \tUsing cached data for session_status_data\n"
     ]
    },
    {
     "name": "stdout",
     "output_type": "stream",
     "text": [
      "problem on 2019 4 P1\n"
     ]
    },
    {
     "name": "stderr",
     "output_type": "stream",
     "text": [
      "api            INFO \tUsing cached data for track_status_data\n",
      "api            INFO \tUsing cached data for weather_data\n",
      "core           INFO \tLoaded data for 20 drivers: ['3', '4', '5', '7', '8', '10', '11', '16', '18', '20', '23', '26', '27', '33', '44', '55', '63', '77', '88', '99']\n",
      "core           INFO \tLoading laps for Azerbaijan Grand Prix - Practice 3 [v2.1.12]\n",
      "api            INFO \tUsing cached data for timing_data\n",
      "api            INFO \tUsing cached data for timing_app_data\n",
      "core           INFO \tProcessing timing data...\n",
      "api            INFO \tUsing cached data for driver_info\n",
      "api            INFO \tUsing cached data for session_status_data\n",
      "api            INFO \tUsing cached data for track_status_data\n",
      "api            INFO \tUsing cached data for weather_data\n",
      "core           INFO \tLoaded data for 20 drivers: ['3', '4', '5', '7', '8', '10', '11', '16', '18', '20', '23', '26', '27', '33', '44', '55', '63', '77', '88', '99']\n",
      "core           INFO \tLoading laps for Spanish Grand Prix - Practice 1 [v2.1.12]\n",
      "api            INFO \tUsing cached data for timing_data\n",
      "api            INFO \tUsing cached data for timing_app_data\n",
      "core           INFO \tProcessing timing data...\n",
      "api            INFO \tUsing cached data for driver_info\n",
      "api            INFO \tUsing cached data for session_status_data\n",
      "api            INFO \tUsing cached data for track_status_data\n",
      "api            INFO \tUsing cached data for weather_data\n",
      "core           INFO \tLoaded data for 20 drivers: ['3', '4', '5', '7', '8', '10', '11', '16', '18', '20', '23', '26', '27', '33', '44', '55', '63', '77', '88', '99']\n",
      "core           INFO \tLoading laps for Spanish Grand Prix - Practice 2 [v2.1.12]\n",
      "api            INFO \tUsing cached data for timing_data\n",
      "api            INFO \tUsing cached data for timing_app_data\n",
      "core           INFO \tProcessing timing data...\n",
      "api            INFO \tUsing cached data for driver_info\n",
      "api            INFO \tUsing cached data for session_status_data\n",
      "api            INFO \tUsing cached data for track_status_data\n",
      "api            INFO \tUsing cached data for weather_data\n",
      "core           INFO \tLoaded data for 20 drivers: ['3', '4', '5', '7', '8', '10', '11', '16', '18', '20', '23', '26', '27', '33', '44', '55', '63', '77', '88', '99']\n",
      "core           INFO \tLoading laps for Spanish Grand Prix - Practice 3 [v2.1.12]\n",
      "api            INFO \tUsing cached data for timing_data\n",
      "api            INFO \tUsing cached data for timing_app_data\n",
      "core           INFO \tProcessing timing data...\n",
      "api            INFO \tUsing cached data for driver_info\n",
      "api            INFO \tUsing cached data for session_status_data\n",
      "api            INFO \tUsing cached data for track_status_data\n",
      "api            INFO \tUsing cached data for weather_data\n",
      "core           INFO \tLoaded data for 20 drivers: ['3', '4', '5', '7', '8', '10', '11', '16', '18', '20', '23', '26', '27', '33', '44', '55', '63', '77', '88', '99']\n",
      "core           INFO \tLoading laps for Monaco Grand Prix - Practice 1 [v2.1.12]\n",
      "api            INFO \tUsing cached data for timing_data\n",
      "api            INFO \tUsing cached data for timing_app_data\n",
      "core           INFO \tProcessing timing data...\n",
      "api            INFO \tUsing cached data for driver_info\n",
      "api            INFO \tUsing cached data for session_status_data\n",
      "api            INFO \tUsing cached data for track_status_data\n",
      "core        WARNING \tDriver 33: Lap timing integrity check failed for 1 lap(s)\n",
      "api            INFO \tUsing cached data for weather_data\n",
      "core           INFO \tLoaded data for 20 drivers: ['3', '4', '5', '7', '8', '10', '11', '16', '18', '20', '23', '26', '27', '33', '44', '55', '63', '77', '88', '99']\n",
      "core           INFO \tLoading laps for Monaco Grand Prix - Practice 2 [v2.1.12]\n",
      "api            INFO \tUsing cached data for timing_data\n",
      "api            INFO \tUsing cached data for timing_app_data\n",
      "core           INFO \tProcessing timing data...\n",
      "api            INFO \tUsing cached data for driver_info\n",
      "api            INFO \tUsing cached data for session_status_data\n",
      "api            INFO \tUsing cached data for track_status_data\n",
      "api            INFO \tUsing cached data for weather_data\n",
      "core           INFO \tLoaded data for 20 drivers: ['3', '4', '5', '7', '8', '10', '11', '16', '18', '20', '23', '26', '27', '33', '44', '55', '63', '77', '88', '99']\n",
      "core           INFO \tLoading laps for Monaco Grand Prix - Practice 3 [v2.1.12]\n",
      "api            INFO \tUsing cached data for timing_data\n",
      "api            INFO \tUsing cached data for timing_app_data\n",
      "core           INFO \tProcessing timing data...\n",
      "api            INFO \tUsing cached data for driver_info\n",
      "api            INFO \tUsing cached data for session_status_data\n",
      "api            INFO \tUsing cached data for track_status_data\n",
      "api            INFO \tUsing cached data for weather_data\n",
      "core           INFO \tLoaded data for 20 drivers: ['3', '4', '5', '7', '8', '10', '11', '16', '18', '20', '23', '26', '27', '33', '44', '55', '63', '77', '88', '99']\n",
      "core           INFO \tLoading laps for Canadian Grand Prix - Practice 1 [v2.1.12]\n",
      "api            INFO \tUsing cached data for timing_data\n",
      "api            INFO \tUsing cached data for timing_app_data\n",
      "core           INFO \tProcessing timing data...\n",
      "api            INFO \tUsing cached data for driver_info\n",
      "api            INFO \tUsing cached data for session_status_data\n",
      "api            INFO \tUsing cached data for track_status_data\n",
      "api            INFO \tUsing cached data for weather_data\n",
      "core           INFO \tLoaded data for 20 drivers: ['3', '4', '5', '7', '8', '10', '11', '16', '18', '20', '23', '26', '27', '33', '40', '44', '55', '63', '77', '99']\n",
      "core           INFO \tLoading laps for Canadian Grand Prix - Practice 2 [v2.1.12]\n",
      "api            INFO \tUsing cached data for timing_data\n",
      "api            INFO \tUsing cached data for timing_app_data\n",
      "core           INFO \tProcessing timing data...\n",
      "api            INFO \tUsing cached data for driver_info\n",
      "api            INFO \tUsing cached data for session_status_data\n"
     ]
    },
    {
     "name": "stdout",
     "output_type": "stream",
     "text": [
      "problem on 2019 7 P1\n"
     ]
    },
    {
     "name": "stderr",
     "output_type": "stream",
     "text": [
      "api            INFO \tUsing cached data for track_status_data\n",
      "api            INFO \tUsing cached data for weather_data\n",
      "core           INFO \tLoaded data for 20 drivers: ['3', '4', '5', '7', '8', '10', '11', '16', '18', '20', '23', '26', '27', '33', '44', '55', '63', '77', '88', '99']\n",
      "core           INFO \tLoading laps for Canadian Grand Prix - Practice 3 [v2.1.12]\n",
      "api            INFO \tUsing cached data for timing_data\n",
      "api            INFO \tUsing cached data for timing_app_data\n",
      "core           INFO \tProcessing timing data...\n",
      "api            INFO \tUsing cached data for driver_info\n",
      "api            INFO \tUsing cached data for session_status_data\n",
      "api            INFO \tUsing cached data for track_status_data\n",
      "api            INFO \tUsing cached data for weather_data\n",
      "core           INFO \tLoaded data for 20 drivers: ['3', '4', '5', '7', '8', '10', '11', '16', '18', '20', '23', '26', '27', '33', '44', '55', '63', '77', '88', '99']\n",
      "core           INFO \tLoading laps for French Grand Prix - Practice 1 [v2.1.12]\n",
      "api            INFO \tUsing cached data for timing_data\n",
      "api            INFO \tUsing cached data for timing_app_data\n",
      "core           INFO \tProcessing timing data...\n",
      "api            INFO \tUsing cached data for driver_info\n",
      "api            INFO \tUsing cached data for session_status_data\n"
     ]
    },
    {
     "name": "stdout",
     "output_type": "stream",
     "text": [
      "problem on 2019 7 P3\n"
     ]
    },
    {
     "name": "stderr",
     "output_type": "stream",
     "text": [
      "api            INFO \tUsing cached data for track_status_data\n",
      "api            INFO \tUsing cached data for weather_data\n",
      "core           INFO \tLoaded data for 20 drivers: ['3', '4', '5', '7', '8', '10', '11', '16', '18', '20', '23', '26', '27', '33', '40', '44', '55', '77', '88', '99']\n",
      "core           INFO \tLoading laps for French Grand Prix - Practice 2 [v2.1.12]\n",
      "api            INFO \tUsing cached data for timing_data\n",
      "api            INFO \tUsing cached data for timing_app_data\n",
      "core           INFO \tProcessing timing data...\n",
      "api            INFO \tUsing cached data for driver_info\n",
      "api            INFO \tUsing cached data for session_status_data\n"
     ]
    },
    {
     "name": "stdout",
     "output_type": "stream",
     "text": [
      "problem on 2019 8 P1\n"
     ]
    },
    {
     "name": "stderr",
     "output_type": "stream",
     "text": [
      "api            INFO \tUsing cached data for track_status_data\n",
      "api            INFO \tUsing cached data for weather_data\n",
      "core           INFO \tLoaded data for 20 drivers: ['3', '4', '5', '7', '8', '10', '11', '16', '18', '20', '23', '26', '27', '33', '44', '55', '63', '77', '88', '99']\n",
      "core           INFO \tLoading laps for French Grand Prix - Practice 3 [v2.1.12]\n",
      "api            INFO \tUsing cached data for timing_data\n",
      "api            INFO \tUsing cached data for timing_app_data\n",
      "core           INFO \tProcessing timing data...\n",
      "api            INFO \tUsing cached data for driver_info\n",
      "api            INFO \tUsing cached data for session_status_data\n",
      "api            INFO \tUsing cached data for track_status_data\n",
      "api            INFO \tUsing cached data for weather_data\n",
      "core           INFO \tLoaded data for 20 drivers: ['3', '4', '5', '7', '8', '10', '11', '16', '18', '20', '23', '26', '27', '33', '44', '55', '63', '77', '88', '99']\n",
      "core           INFO \tLoading laps for Austrian Grand Prix - Practice 1 [v2.1.12]\n",
      "api            INFO \tUsing cached data for timing_data\n",
      "api            INFO \tUsing cached data for timing_app_data\n",
      "core           INFO \tProcessing timing data...\n",
      "api            INFO \tUsing cached data for driver_info\n",
      "api            INFO \tUsing cached data for session_status_data\n",
      "api            INFO \tUsing cached data for track_status_data\n",
      "api            INFO \tUsing cached data for weather_data\n",
      "core           INFO \tLoaded data for 20 drivers: ['3', '4', '5', '7', '8', '10', '11', '16', '18', '20', '23', '26', '27', '33', '44', '55', '63', '77', '88', '99']\n",
      "core           INFO \tLoading laps for Austrian Grand Prix - Practice 2 [v2.1.12]\n",
      "api            INFO \tUsing cached data for timing_data\n",
      "api            INFO \tUsing cached data for timing_app_data\n",
      "core           INFO \tProcessing timing data...\n",
      "api            INFO \tUsing cached data for driver_info\n",
      "api            INFO \tUsing cached data for session_status_data\n",
      "api            INFO \tUsing cached data for track_status_data\n",
      "api            INFO \tUsing cached data for weather_data\n",
      "core           INFO \tLoaded data for 20 drivers: ['3', '4', '5', '7', '8', '10', '11', '16', '18', '20', '23', '26', '27', '33', '44', '55', '63', '77', '88', '99']\n",
      "core           INFO \tLoading laps for Austrian Grand Prix - Practice 3 [v2.1.12]\n",
      "api            INFO \tUsing cached data for timing_data\n",
      "api            INFO \tUsing cached data for timing_app_data\n",
      "core           INFO \tProcessing timing data...\n",
      "api            INFO \tUsing cached data for driver_info\n",
      "api            INFO \tUsing cached data for session_status_data\n",
      "api            INFO \tUsing cached data for track_status_data\n",
      "api            INFO \tUsing cached data for weather_data\n",
      "core           INFO \tLoaded data for 20 drivers: ['3', '4', '5', '7', '8', '10', '11', '16', '18', '20', '23', '26', '27', '33', '44', '55', '63', '77', '88', '99']\n",
      "core           INFO \tLoading laps for British Grand Prix - Practice 1 [v2.1.12]\n",
      "api            INFO \tUsing cached data for timing_data\n",
      "api            INFO \tUsing cached data for timing_app_data\n",
      "core           INFO \tProcessing timing data...\n",
      "api            INFO \tUsing cached data for driver_info\n",
      "api            INFO \tUsing cached data for session_status_data\n",
      "api            INFO \tUsing cached data for track_status_data\n",
      "api            INFO \tUsing cached data for weather_data\n",
      "core           INFO \tLoaded data for 20 drivers: ['3', '4', '5', '7', '8', '10', '11', '16', '18', '20', '23', '26', '27', '33', '44', '55', '63', '77', '88', '99']\n",
      "core           INFO \tLoading laps for British Grand Prix - Practice 2 [v2.1.12]\n",
      "api            INFO \tUsing cached data for timing_data\n",
      "api            INFO \tUsing cached data for timing_app_data\n",
      "core           INFO \tProcessing timing data...\n",
      "api            INFO \tUsing cached data for driver_info\n",
      "api            INFO \tUsing cached data for session_status_data\n",
      "api            INFO \tUsing cached data for track_status_data\n",
      "api            INFO \tUsing cached data for weather_data\n",
      "core           INFO \tLoaded data for 20 drivers: ['3', '4', '5', '7', '8', '10', '11', '16', '18', '20', '23', '26', '27', '33', '44', '55', '63', '77', '88', '99']\n",
      "core           INFO \tLoading laps for British Grand Prix - Practice 3 [v2.1.12]\n",
      "api            INFO \tUsing cached data for timing_data\n",
      "api            INFO \tUsing cached data for timing_app_data\n",
      "core           INFO \tProcessing timing data...\n",
      "api            INFO \tUsing cached data for driver_info\n",
      "api            INFO \tUsing cached data for session_status_data\n",
      "api            INFO \tUsing cached data for track_status_data\n",
      "api            INFO \tUsing cached data for weather_data\n",
      "core           INFO \tLoaded data for 20 drivers: ['3', '4', '5', '7', '8', '10', '11', '16', '18', '20', '23', '26', '27', '33', '44', '55', '63', '77', '88', '99']\n",
      "core           INFO \tLoading laps for German Grand Prix - Practice 1 [v2.1.12]\n",
      "api            INFO \tUsing cached data for timing_data\n",
      "api            INFO \tUsing cached data for timing_app_data\n",
      "core           INFO \tProcessing timing data...\n",
      "api            INFO \tUsing cached data for driver_info\n",
      "api            INFO \tUsing cached data for session_status_data\n",
      "api            INFO \tUsing cached data for track_status_data\n",
      "api            INFO \tUsing cached data for weather_data\n",
      "core           INFO \tLoaded data for 20 drivers: ['3', '4', '5', '7', '8', '10', '11', '16', '18', '20', '23', '26', '27', '33', '44', '55', '63', '77', '88', '99']\n",
      "core           INFO \tLoading laps for German Grand Prix - Practice 2 [v2.1.12]\n",
      "api            INFO \tUsing cached data for timing_data\n",
      "api            INFO \tUsing cached data for timing_app_data\n",
      "core           INFO \tProcessing timing data...\n",
      "api            INFO \tUsing cached data for driver_info\n",
      "api            INFO \tUsing cached data for session_status_data\n",
      "api            INFO \tUsing cached data for track_status_data\n",
      "api            INFO \tUsing cached data for weather_data\n",
      "core           INFO \tLoaded data for 20 drivers: ['3', '4', '5', '7', '8', '10', '11', '16', '18', '20', '23', '26', '27', '33', '44', '55', '63', '77', '88', '99']\n",
      "core           INFO \tLoading laps for German Grand Prix - Practice 3 [v2.1.12]\n",
      "api            INFO \tUsing cached data for timing_data\n",
      "api            INFO \tUsing cached data for timing_app_data\n",
      "core           INFO \tProcessing timing data...\n",
      "api            INFO \tUsing cached data for driver_info\n",
      "api            INFO \tUsing cached data for session_status_data\n",
      "api            INFO \tUsing cached data for track_status_data\n",
      "api            INFO \tUsing cached data for weather_data\n",
      "core           INFO \tLoaded data for 20 drivers: ['3', '4', '5', '7', '8', '10', '11', '16', '18', '20', '23', '26', '27', '33', '44', '55', '63', '77', '88', '99']\n",
      "core           INFO \tLoading laps for Hungarian Grand Prix - Practice 1 [v2.1.12]\n",
      "api            INFO \tUsing cached data for timing_data\n",
      "api            INFO \tUsing cached data for timing_app_data\n",
      "core           INFO \tProcessing timing data...\n",
      "api            INFO \tUsing cached data for driver_info\n",
      "api            INFO \tUsing cached data for session_status_data\n",
      "api            INFO \tUsing cached data for track_status_data\n",
      "api            INFO \tUsing cached data for weather_data\n",
      "core           INFO \tLoaded data for 20 drivers: ['3', '4', '5', '7', '8', '10', '11', '16', '18', '20', '23', '26', '27', '33', '44', '55', '63', '77', '88', '99']\n",
      "core           INFO \tLoading laps for Hungarian Grand Prix - Practice 2 [v2.1.12]\n",
      "api            INFO \tUsing cached data for timing_data\n",
      "api            INFO \tUsing cached data for timing_app_data\n",
      "core           INFO \tProcessing timing data...\n",
      "api            INFO \tUsing cached data for driver_info\n",
      "api            INFO \tUsing cached data for session_status_data\n",
      "api            INFO \tUsing cached data for track_status_data\n",
      "api            INFO \tUsing cached data for weather_data\n",
      "core           INFO \tLoaded data for 20 drivers: ['3', '4', '5', '7', '8', '10', '11', '16', '18', '20', '23', '26', '27', '33', '44', '55', '63', '77', '88', '99']\n",
      "core           INFO \tLoading laps for Hungarian Grand Prix - Practice 3 [v2.1.12]\n",
      "api            INFO \tUsing cached data for timing_data\n",
      "api            INFO \tUsing cached data for timing_app_data\n",
      "core           INFO \tProcessing timing data...\n"
     ]
    },
    {
     "name": "stderr",
     "output_type": "stream",
     "text": [
      "api            INFO \tUsing cached data for driver_info\n",
      "api            INFO \tUsing cached data for session_status_data\n"
     ]
    },
    {
     "name": "stdout",
     "output_type": "stream",
     "text": [
      "problem on 2019 12 P2\n"
     ]
    },
    {
     "name": "stderr",
     "output_type": "stream",
     "text": [
      "api            INFO \tUsing cached data for track_status_data\n",
      "api            INFO \tUsing cached data for weather_data\n",
      "core           INFO \tLoaded data for 20 drivers: ['3', '4', '5', '7', '8', '10', '11', '16', '18', '20', '23', '26', '27', '33', '44', '55', '63', '77', '88', '99']\n",
      "core           INFO \tLoading laps for Belgian Grand Prix - Practice 1 [v2.1.12]\n",
      "api            INFO \tUsing cached data for timing_data\n",
      "api            INFO \tUsing cached data for timing_app_data\n",
      "core           INFO \tProcessing timing data...\n",
      "api            INFO \tUsing cached data for driver_info\n",
      "api            INFO \tUsing cached data for session_status_data\n",
      "api            INFO \tUsing cached data for track_status_data\n",
      "api            INFO \tUsing cached data for weather_data\n",
      "core           INFO \tLoaded data for 20 drivers: ['3', '4', '5', '7', '8', '10', '11', '16', '18', '20', '23', '26', '27', '33', '40', '44', '55', '77', '88', '99']\n",
      "core           INFO \tLoading laps for Belgian Grand Prix - Practice 2 [v2.1.12]\n",
      "api            INFO \tUsing cached data for timing_data\n",
      "api            INFO \tUsing cached data for timing_app_data\n",
      "core           INFO \tProcessing timing data...\n",
      "api            INFO \tUsing cached data for driver_info\n",
      "api            INFO \tUsing cached data for session_status_data\n"
     ]
    },
    {
     "name": "stdout",
     "output_type": "stream",
     "text": [
      "problem on 2019 13 P1\n"
     ]
    },
    {
     "name": "stderr",
     "output_type": "stream",
     "text": [
      "api            INFO \tUsing cached data for track_status_data\n",
      "api            INFO \tUsing cached data for weather_data\n",
      "core           INFO \tLoaded data for 20 drivers: ['3', '4', '5', '7', '8', '10', '11', '16', '18', '20', '23', '26', '27', '33', '44', '55', '63', '77', '88', '99']\n",
      "core           INFO \tLoading laps for Belgian Grand Prix - Practice 3 [v2.1.12]\n",
      "api            INFO \tUsing cached data for timing_data\n",
      "api            INFO \tUsing cached data for timing_app_data\n",
      "core           INFO \tProcessing timing data...\n",
      "api            INFO \tUsing cached data for driver_info\n",
      "api            INFO \tUsing cached data for session_status_data\n",
      "api            INFO \tUsing cached data for track_status_data\n",
      "api            INFO \tUsing cached data for weather_data\n",
      "core           INFO \tLoaded data for 20 drivers: ['3', '4', '5', '7', '8', '10', '11', '16', '18', '20', '23', '26', '27', '33', '44', '55', '63', '77', '88', '99']\n",
      "core           INFO \tLoading laps for Italian Grand Prix - Practice 1 [v2.1.12]\n",
      "api            INFO \tUsing cached data for timing_data\n",
      "api            INFO \tUsing cached data for timing_app_data\n",
      "core           INFO \tProcessing timing data...\n",
      "api            INFO \tUsing cached data for driver_info\n",
      "api            INFO \tUsing cached data for session_status_data\n",
      "api            INFO \tUsing cached data for track_status_data\n",
      "api            INFO \tUsing cached data for weather_data\n",
      "core           INFO \tLoaded data for 20 drivers: ['3', '4', '5', '7', '8', '10', '11', '16', '18', '20', '23', '26', '27', '33', '44', '55', '63', '77', '88', '99']\n",
      "core           INFO \tLoading laps for Italian Grand Prix - Practice 2 [v2.1.12]\n",
      "api            INFO \tUsing cached data for timing_data\n",
      "api            INFO \tUsing cached data for timing_app_data\n",
      "core           INFO \tProcessing timing data...\n",
      "api            INFO \tUsing cached data for driver_info\n",
      "api            INFO \tUsing cached data for session_status_data\n"
     ]
    },
    {
     "name": "stdout",
     "output_type": "stream",
     "text": [
      "problem on 2019 14 P1\n"
     ]
    },
    {
     "name": "stderr",
     "output_type": "stream",
     "text": [
      "api            INFO \tUsing cached data for track_status_data\n",
      "api            INFO \tUsing cached data for weather_data\n",
      "core           INFO \tLoaded data for 20 drivers: ['3', '4', '5', '7', '8', '10', '11', '16', '18', '20', '23', '26', '27', '33', '44', '55', '63', '77', '88', '99']\n",
      "core           INFO \tLoading laps for Italian Grand Prix - Practice 3 [v2.1.12]\n",
      "api            INFO \tUsing cached data for timing_data\n",
      "api            INFO \tUsing cached data for timing_app_data\n",
      "core           INFO \tProcessing timing data...\n",
      "api            INFO \tUsing cached data for driver_info\n",
      "api            INFO \tUsing cached data for session_status_data\n",
      "api            INFO \tUsing cached data for track_status_data\n",
      "api            INFO \tUsing cached data for weather_data\n",
      "core           INFO \tLoaded data for 20 drivers: ['3', '4', '5', '7', '8', '10', '11', '16', '18', '20', '23', '26', '27', '33', '44', '55', '63', '77', '88', '99']\n",
      "core           INFO \tLoading laps for Singapore Grand Prix - Practice 1 [v2.1.12]\n",
      "api            INFO \tUsing cached data for timing_data\n",
      "api            INFO \tUsing cached data for timing_app_data\n",
      "core           INFO \tProcessing timing data...\n",
      "api            INFO \tUsing cached data for driver_info\n",
      "api            INFO \tUsing cached data for session_status_data\n",
      "api            INFO \tUsing cached data for track_status_data\n",
      "api            INFO \tUsing cached data for weather_data\n",
      "core           INFO \tLoaded data for 20 drivers: ['3', '4', '5', '7', '8', '10', '11', '16', '18', '20', '23', '26', '27', '33', '44', '55', '63', '77', '88', '99']\n",
      "core           INFO \tLoading laps for Singapore Grand Prix - Practice 2 [v2.1.12]\n",
      "api            INFO \tUsing cached data for timing_data\n",
      "api            INFO \tUsing cached data for timing_app_data\n",
      "core           INFO \tProcessing timing data...\n",
      "api            INFO \tUsing cached data for driver_info\n",
      "api            INFO \tUsing cached data for session_status_data\n",
      "api            INFO \tUsing cached data for track_status_data\n",
      "api            INFO \tUsing cached data for weather_data\n",
      "core           INFO \tLoaded data for 20 drivers: ['3', '4', '5', '7', '8', '10', '11', '16', '18', '20', '23', '26', '27', '33', '44', '55', '63', '77', '88', '99']\n",
      "core           INFO \tLoading laps for Singapore Grand Prix - Practice 3 [v2.1.12]\n",
      "api            INFO \tUsing cached data for timing_data\n",
      "api            INFO \tUsing cached data for timing_app_data\n",
      "core           INFO \tProcessing timing data...\n",
      "api            INFO \tUsing cached data for driver_info\n",
      "api            INFO \tUsing cached data for session_status_data\n",
      "api            INFO \tUsing cached data for track_status_data\n",
      "api            INFO \tUsing cached data for weather_data\n",
      "core           INFO \tLoaded data for 20 drivers: ['3', '4', '5', '7', '8', '10', '11', '16', '18', '20', '23', '26', '27', '33', '44', '55', '63', '77', '88', '99']\n",
      "core           INFO \tLoading laps for Russian Grand Prix - Practice 1 [v2.1.12]\n",
      "api            INFO \tUsing cached data for timing_data\n",
      "api            INFO \tUsing cached data for timing_app_data\n",
      "core           INFO \tProcessing timing data...\n",
      "api            INFO \tUsing cached data for driver_info\n",
      "api            INFO \tUsing cached data for session_status_data\n",
      "api            INFO \tUsing cached data for track_status_data\n",
      "api            INFO \tUsing cached data for weather_data\n",
      "core           INFO \tLoaded data for 20 drivers: ['3', '4', '5', '7', '8', '10', '11', '16', '18', '20', '23', '26', '27', '33', '44', '55', '63', '77', '88', '99']\n",
      "core           INFO \tLoading laps for Russian Grand Prix - Practice 2 [v2.1.12]\n",
      "api            INFO \tUsing cached data for timing_data\n",
      "api            INFO \tUsing cached data for timing_app_data\n",
      "core           INFO \tProcessing timing data...\n",
      "api            INFO \tUsing cached data for driver_info\n",
      "api            INFO \tUsing cached data for session_status_data\n",
      "api            INFO \tUsing cached data for track_status_data\n",
      "api            INFO \tUsing cached data for weather_data\n",
      "core           INFO \tLoaded data for 20 drivers: ['3', '4', '5', '7', '8', '10', '11', '16', '18', '20', '23', '26', '27', '33', '44', '55', '63', '77', '88', '99']\n",
      "core           INFO \tLoading laps for Russian Grand Prix - Practice 3 [v2.1.12]\n",
      "api            INFO \tUsing cached data for timing_data\n",
      "api            INFO \tUsing cached data for timing_app_data\n",
      "core           INFO \tProcessing timing data...\n",
      "api            INFO \tUsing cached data for driver_info\n",
      "api            INFO \tUsing cached data for session_status_data\n",
      "api            INFO \tUsing cached data for track_status_data\n",
      "api            INFO \tUsing cached data for weather_data\n",
      "core           INFO \tLoaded data for 20 drivers: ['3', '4', '5', '7', '8', '10', '11', '16', '18', '20', '23', '26', '27', '33', '44', '55', '63', '77', '88', '99']\n",
      "core           INFO \tLoading laps for Japanese Grand Prix - Practice 1 [v2.1.12]\n",
      "api            INFO \tUsing cached data for timing_data\n",
      "api            INFO \tUsing cached data for timing_app_data\n",
      "core           INFO \tProcessing timing data...\n",
      "api            INFO \tUsing cached data for driver_info\n",
      "api            INFO \tUsing cached data for session_status_data\n",
      "api            INFO \tUsing cached data for track_status_data\n",
      "api            INFO \tUsing cached data for weather_data\n",
      "core           INFO \tLoaded data for 20 drivers: ['3', '4', '5', '7', '8', '11', '16', '18', '20', '23', '26', '27', '33', '38', '44', '55', '63', '77', '88', '99']\n",
      "core           INFO \tLoading laps for Japanese Grand Prix - Practice 2 [v2.1.12]\n",
      "api            INFO \tUsing cached data for timing_data\n",
      "api            INFO \tUsing cached data for timing_app_data\n",
      "core           INFO \tProcessing timing data...\n",
      "api            INFO \tUsing cached data for driver_info\n",
      "api            INFO \tUsing cached data for session_status_data\n"
     ]
    },
    {
     "name": "stdout",
     "output_type": "stream",
     "text": [
      "problem on 2019 17 P1\n"
     ]
    },
    {
     "name": "stderr",
     "output_type": "stream",
     "text": [
      "api            INFO \tUsing cached data for track_status_data\n",
      "api            INFO \tUsing cached data for weather_data\n",
      "core           INFO \tLoaded data for 20 drivers: ['3', '4', '5', '7', '8', '10', '11', '16', '18', '20', '23', '26', '27', '33', '44', '55', '63', '77', '88', '99']\n",
      "core           INFO \tLoading laps for Japanese Grand Prix - Practice 3 [v2.1.12]\n",
      "api            INFO \tNo cached data found for timing_data. Loading data...\n",
      "api            INFO \tFetching timing data...\n",
      "core           INFO \tLoading laps for Mexican Grand Prix - Practice 1 [v2.1.12]\n",
      "api            INFO \tUsing cached data for timing_data\n",
      "api            INFO \tUsing cached data for timing_app_data\n",
      "core           INFO \tProcessing timing data...\n",
      "api            INFO \tUsing cached data for driver_info\n",
      "api            INFO \tUsing cached data for session_status_data\n"
     ]
    },
    {
     "name": "stdout",
     "output_type": "stream",
     "text": [
      "problem on 2019 17 P3\n"
     ]
    },
    {
     "name": "stderr",
     "output_type": "stream",
     "text": [
      "api            INFO \tUsing cached data for track_status_data\n",
      "api            INFO \tUsing cached data for weather_data\n",
      "core           INFO \tLoaded data for 20 drivers: ['3', '4', '5', '7', '8', '10', '11', '16', '18', '20', '23', '26', '27', '33', '40', '44', '55', '63', '77', '99']\n",
      "core           INFO \tLoading laps for Mexican Grand Prix - Practice 2 [v2.1.12]\n",
      "api            INFO \tUsing cached data for timing_data\n",
      "api            INFO \tUsing cached data for timing_app_data\n",
      "core           INFO \tProcessing timing data...\n",
      "api            INFO \tUsing cached data for driver_info\n",
      "api            INFO \tUsing cached data for session_status_data\n"
     ]
    },
    {
     "name": "stdout",
     "output_type": "stream",
     "text": [
      "problem on 2019 18 P1\n"
     ]
    },
    {
     "name": "stderr",
     "output_type": "stream",
     "text": [
      "api            INFO \tUsing cached data for track_status_data\n",
      "api            INFO \tUsing cached data for weather_data\n",
      "core           INFO \tLoaded data for 20 drivers: ['3', '4', '5', '7', '8', '10', '11', '16', '18', '20', '23', '26', '27', '33', '44', '55', '63', '77', '88', '99']\n",
      "core           INFO \tLoading laps for Mexican Grand Prix - Practice 3 [v2.1.12]\n",
      "api            INFO \tUsing cached data for timing_data\n",
      "api            INFO \tUsing cached data for timing_app_data\n",
      "core           INFO \tProcessing timing data...\n",
      "api            INFO \tUsing cached data for driver_info\n",
      "api            INFO \tUsing cached data for session_status_data\n",
      "api            INFO \tUsing cached data for track_status_data\n",
      "api            INFO \tUsing cached data for weather_data\n",
      "core           INFO \tLoaded data for 20 drivers: ['3', '4', '5', '7', '8', '10', '11', '16', '18', '20', '23', '26', '27', '33', '44', '55', '63', '77', '88', '99']\n",
      "core           INFO \tLoading laps for United States Grand Prix - Practice 1 [v2.1.12]\n",
      "api            INFO \tUsing cached data for timing_data\n",
      "api            INFO \tUsing cached data for timing_app_data\n",
      "core           INFO \tProcessing timing data...\n",
      "api            INFO \tUsing cached data for driver_info\n",
      "api            INFO \tUsing cached data for session_status_data\n"
     ]
    },
    {
     "name": "stdout",
     "output_type": "stream",
     "text": [
      "problem on 2019 18 P3\n"
     ]
    },
    {
     "name": "stderr",
     "output_type": "stream",
     "text": [
      "api            INFO \tUsing cached data for track_status_data\n",
      "api            INFO \tUsing cached data for weather_data\n",
      "core           INFO \tLoaded data for 20 drivers: ['3', '4', '5', '7', '8', '10', '11', '16', '18', '20', '23', '26', '27', '33', '40', '44', '55', '77', '88', '99']\n",
      "core           INFO \tLoading laps for United States Grand Prix - Practice 2 [v2.1.12]\n",
      "api            INFO \tUsing cached data for timing_data\n",
      "api            INFO \tUsing cached data for timing_app_data\n",
      "core           INFO \tProcessing timing data...\n",
      "api            INFO \tUsing cached data for driver_info\n",
      "api            INFO \tUsing cached data for session_status_data\n"
     ]
    },
    {
     "name": "stdout",
     "output_type": "stream",
     "text": [
      "problem on 2019 19 P1\n"
     ]
    },
    {
     "name": "stderr",
     "output_type": "stream",
     "text": [
      "api            INFO \tUsing cached data for track_status_data\n",
      "api            INFO \tUsing cached data for weather_data\n",
      "core           INFO \tLoaded data for 20 drivers: ['3', '4', '5', '7', '8', '10', '11', '16', '18', '20', '23', '26', '27', '33', '44', '55', '63', '77', '88', '99']\n",
      "core           INFO \tLoading laps for United States Grand Prix - Practice 3 [v2.1.12]\n",
      "api            INFO \tUsing cached data for timing_data\n",
      "api            INFO \tUsing cached data for timing_app_data\n",
      "core           INFO \tProcessing timing data...\n",
      "api            INFO \tUsing cached data for driver_info\n",
      "api            INFO \tUsing cached data for session_status_data\n",
      "api            INFO \tUsing cached data for track_status_data\n",
      "api            INFO \tUsing cached data for weather_data\n",
      "core           INFO \tLoaded data for 20 drivers: ['3', '4', '5', '7', '8', '10', '11', '16', '18', '20', '23', '26', '27', '33', '44', '55', '63', '77', '88', '99']\n",
      "core           INFO \tLoading laps for Brazilian Grand Prix - Practice 1 [v2.1.12]\n",
      "api            INFO \tUsing cached data for timing_data\n",
      "api            INFO \tUsing cached data for timing_app_data\n",
      "core           INFO \tProcessing timing data...\n",
      "api            INFO \tUsing cached data for driver_info\n",
      "api            INFO \tUsing cached data for session_status_data\n"
     ]
    },
    {
     "name": "stdout",
     "output_type": "stream",
     "text": [
      "problem on 2019 19 P3\n"
     ]
    },
    {
     "name": "stderr",
     "output_type": "stream",
     "text": [
      "api            INFO \tUsing cached data for track_status_data\n",
      "api            INFO \tUsing cached data for weather_data\n",
      "core           INFO \tLoaded data for 20 drivers: ['3', '4', '5', '7', '8', '10', '11', '16', '18', '20', '23', '26', '27', '33', '40', '44', '55', '63', '77', '99']\n",
      "core           INFO \tLoading laps for Brazilian Grand Prix - Practice 2 [v2.1.12]\n",
      "api            INFO \tUsing cached data for timing_data\n",
      "api            INFO \tUsing cached data for timing_app_data\n",
      "core           INFO \tProcessing timing data...\n",
      "api            INFO \tUsing cached data for driver_info\n",
      "api            INFO \tUsing cached data for session_status_data\n"
     ]
    },
    {
     "name": "stdout",
     "output_type": "stream",
     "text": [
      "problem on 2019 20 P1\n"
     ]
    },
    {
     "name": "stderr",
     "output_type": "stream",
     "text": [
      "api            INFO \tUsing cached data for track_status_data\n",
      "api            INFO \tUsing cached data for weather_data\n",
      "core           INFO \tLoaded data for 20 drivers: ['3', '4', '5', '7', '8', '10', '11', '16', '18', '20', '23', '26', '27', '33', '44', '55', '63', '77', '88', '99']\n",
      "core           INFO \tLoading laps for Brazilian Grand Prix - Practice 3 [v2.1.12]\n",
      "api            INFO \tUsing cached data for timing_data\n",
      "api            INFO \tUsing cached data for timing_app_data\n",
      "core           INFO \tProcessing timing data...\n",
      "api            INFO \tUsing cached data for driver_info\n",
      "api            INFO \tUsing cached data for session_status_data\n"
     ]
    },
    {
     "name": "stdout",
     "output_type": "stream",
     "text": [
      "problem on 2019 20 P2\n"
     ]
    },
    {
     "name": "stderr",
     "output_type": "stream",
     "text": [
      "api            INFO \tUsing cached data for track_status_data\n",
      "api            INFO \tUsing cached data for weather_data\n",
      "core           INFO \tLoaded data for 20 drivers: ['3', '4', '5', '7', '8', '10', '11', '16', '18', '20', '23', '26', '27', '33', '44', '55', '63', '77', '88', '99']\n",
      "core           INFO \tLoading laps for Abu Dhabi Grand Prix - Practice 1 [v2.1.12]\n",
      "api            INFO \tUsing cached data for timing_data\n",
      "api            INFO \tUsing cached data for timing_app_data\n",
      "core           INFO \tProcessing timing data...\n",
      "api            INFO \tUsing cached data for driver_info\n",
      "api            INFO \tUsing cached data for session_status_data\n",
      "api            INFO \tUsing cached data for track_status_data\n",
      "api            INFO \tUsing cached data for weather_data\n",
      "core           INFO \tLoaded data for 20 drivers: ['3', '4', '5', '7', '8', '10', '11', '16', '18', '20', '23', '26', '27', '33', '44', '55', '63', '77', '88', '99']\n",
      "core           INFO \tLoading laps for Abu Dhabi Grand Prix - Practice 2 [v2.1.12]\n",
      "api            INFO \tUsing cached data for timing_data\n",
      "api            INFO \tUsing cached data for timing_app_data\n",
      "core           INFO \tProcessing timing data...\n",
      "api            INFO \tUsing cached data for driver_info\n",
      "api            INFO \tUsing cached data for session_status_data\n",
      "api            INFO \tUsing cached data for track_status_data\n",
      "api            INFO \tUsing cached data for weather_data\n",
      "core           INFO \tLoaded data for 20 drivers: ['3', '4', '5', '7', '8', '10', '11', '16', '18', '20', '23', '26', '27', '33', '44', '55', '63', '77', '88', '99']\n",
      "core           INFO \tLoading laps for Abu Dhabi Grand Prix - Practice 3 [v2.1.12]\n",
      "api            INFO \tUsing cached data for timing_data\n",
      "api            INFO \tUsing cached data for timing_app_data\n",
      "core           INFO \tProcessing timing data...\n",
      "api            INFO \tUsing cached data for driver_info\n",
      "api            INFO \tUsing cached data for session_status_data\n",
      "api            INFO \tUsing cached data for track_status_data\n",
      "api            INFO \tUsing cached data for weather_data\n",
      "core           INFO \tLoaded data for 20 drivers: ['3', '4', '5', '7', '8', '10', '11', '16', '18', '20', '23', '26', '27', '33', '44', '55', '63', '77', '88', '99']\n",
      "core       CRITICAL \tFailed to load critical data from Ergast!\n",
      "\n",
      " Cannot determine the date and name of the event. Cannot proceed!\n",
      "\n",
      "core       CRITICAL \tlist index out of range\n",
      "core       CRITICAL \tFailed to load critical data from Ergast!\n",
      "\n",
      " Cannot determine the date and name of the event. Cannot proceed!\n",
      "\n",
      "core       CRITICAL \tlist index out of range\n",
      "core       CRITICAL \tFailed to load critical data from Ergast!\n",
      "\n",
      " Cannot determine the date and name of the event. Cannot proceed!\n",
      "\n",
      "core       CRITICAL \tlist index out of range\n",
      "core           INFO \tLoading laps for Austrian Grand Prix - Practice 1 [v2.1.12]\n",
      "api            INFO \tUsing cached data for timing_data\n",
      "api            INFO \tUsing cached data for timing_app_data\n",
      "core           INFO \tProcessing timing data...\n",
      "api            INFO \tUsing cached data for driver_info\n",
      "api            INFO \tUsing cached data for session_status_data\n"
     ]
    },
    {
     "name": "stdout",
     "output_type": "stream",
     "text": [
      "problem on 2019 22 P1\n",
      "problem on 2019 22 P2\n",
      "problem on 2019 22 P3\n"
     ]
    },
    {
     "name": "stderr",
     "output_type": "stream",
     "text": [
      "core           INFO \tLoading laps for Austrian Grand Prix - Practice 2 [v2.1.12]\n",
      "api            INFO \tUsing cached data for timing_data\n",
      "api            INFO \tUsing cached data for timing_app_data\n",
      "core           INFO \tProcessing timing data...\n",
      "api            INFO \tUsing cached data for driver_info\n",
      "api            INFO \tUsing cached data for session_status_data\n"
     ]
    },
    {
     "name": "stdout",
     "output_type": "stream",
     "text": [
      "problem on 2020 1 P1\n"
     ]
    },
    {
     "name": "stderr",
     "output_type": "stream",
     "text": [
      "api            INFO \tUsing cached data for track_status_data\n",
      "core        WARNING \tDriver 18: Lap timing integrity check failed for 1 lap(s)\n",
      "api            INFO \tUsing cached data for weather_data\n",
      "core           INFO \tLoaded data for 20 drivers: ['3', '4', '5', '6', '7', '8', '10', '11', '16', '18', '20', '23', '26', '31', '33', '44', '55', '63', '77', '99']\n",
      "core           INFO \tLoading laps for Austrian Grand Prix - Practice 3 [v2.1.12]\n",
      "api            INFO \tUsing cached data for timing_data\n",
      "api            INFO \tUsing cached data for timing_app_data\n",
      "core           INFO \tProcessing timing data...\n",
      "api            INFO \tUsing cached data for driver_info\n",
      "api            INFO \tUsing cached data for session_status_data\n",
      "api            INFO \tUsing cached data for track_status_data\n",
      "api            INFO \tUsing cached data for weather_data\n",
      "core           INFO \tLoaded data for 20 drivers: ['3', '4', '5', '6', '7', '8', '10', '11', '16', '18', '20', '23', '26', '31', '33', '44', '55', '63', '77', '99']\n",
      "core           INFO \tLoading laps for Styrian Grand Prix - Practice 1 [v2.1.12]\n",
      "api            INFO \tUsing cached data for timing_data\n",
      "api            INFO \tUsing cached data for timing_app_data\n",
      "core           INFO \tProcessing timing data...\n",
      "api            INFO \tUsing cached data for driver_info\n",
      "api            INFO \tUsing cached data for session_status_data\n",
      "api            INFO \tUsing cached data for track_status_data\n",
      "api            INFO \tUsing cached data for weather_data\n",
      "core           INFO \tLoaded data for 20 drivers: ['3', '4', '5', '6', '7', '8', '10', '11', '16', '18', '20', '23', '26', '31', '33', '40', '44', '55', '77', '88']\n",
      "core           INFO \tLoading laps for Styrian Grand Prix - Practice 2 [v2.1.12]\n",
      "api            INFO \tUsing cached data for timing_data\n",
      "api            INFO \tUsing cached data for timing_app_data\n",
      "core           INFO \tProcessing timing data...\n",
      "api            INFO \tUsing cached data for driver_info\n",
      "api            INFO \tUsing cached data for session_status_data\n"
     ]
    },
    {
     "name": "stdout",
     "output_type": "stream",
     "text": [
      "problem on 2020 2 P1\n"
     ]
    },
    {
     "name": "stderr",
     "output_type": "stream",
     "text": [
      "api            INFO \tUsing cached data for track_status_data\n",
      "api            INFO \tUsing cached data for weather_data\n",
      "core           INFO \tLoaded data for 20 drivers: ['3', '4', '5', '6', '7', '8', '10', '11', '16', '18', '20', '23', '26', '31', '33', '44', '55', '63', '77', '99']\n",
      "core           INFO \tLoading laps for Styrian Grand Prix - Practice 3 [v2.1.12]\n",
      "api            INFO \tNo cached data found for timing_data. Loading data...\n",
      "api            INFO \tFetching timing data...\n",
      "api            INFO \tParsing timing data...\n",
      "core           INFO \tLoading laps for Hungarian Grand Prix - Practice 1 [v2.1.12]\n",
      "api            INFO \tUsing cached data for timing_data\n",
      "api            INFO \tUsing cached data for timing_app_data\n",
      "core           INFO \tProcessing timing data...\n",
      "api            INFO \tUsing cached data for driver_info\n",
      "api            INFO \tUsing cached data for session_status_data\n"
     ]
    },
    {
     "name": "stdout",
     "output_type": "stream",
     "text": [
      "problem on 2020 2 P2\n",
      "problem on 2020 2 P3\n"
     ]
    },
    {
     "name": "stderr",
     "output_type": "stream",
     "text": [
      "api            INFO \tUsing cached data for track_status_data\n",
      "api            INFO \tUsing cached data for weather_data\n",
      "core           INFO \tLoaded data for 20 drivers: ['3', '4', '5', '6', '8', '10', '11', '16', '18', '20', '23', '26', '31', '33', '44', '55', '63', '77', '88', '99']\n",
      "core           INFO \tLoading laps for Hungarian Grand Prix - Practice 2 [v2.1.12]\n",
      "api            INFO \tUsing cached data for timing_data\n",
      "api            INFO \tUsing cached data for timing_app_data\n",
      "core           INFO \tProcessing timing data...\n",
      "api            INFO \tUsing cached data for driver_info\n",
      "api            INFO \tUsing cached data for session_status_data\n"
     ]
    },
    {
     "name": "stdout",
     "output_type": "stream",
     "text": [
      "problem on 2020 3 P1\n"
     ]
    },
    {
     "name": "stderr",
     "output_type": "stream",
     "text": [
      "api            INFO \tUsing cached data for track_status_data\n",
      "api            INFO \tUsing cached data for weather_data\n",
      "core           INFO \tLoaded data for 20 drivers: ['3', '4', '5', '6', '7', '8', '10', '11', '16', '18', '20', '23', '26', '31', '33', '44', '55', '63', '77', '99']\n",
      "core           INFO \tLoading laps for Hungarian Grand Prix - Practice 3 [v2.1.12]\n",
      "api            INFO \tUsing cached data for timing_data\n",
      "api            INFO \tUsing cached data for timing_app_data\n",
      "core           INFO \tProcessing timing data...\n",
      "api            INFO \tUsing cached data for driver_info\n",
      "api            INFO \tUsing cached data for session_status_data\n"
     ]
    },
    {
     "name": "stdout",
     "output_type": "stream",
     "text": [
      "problem on 2020 3 P2\n"
     ]
    },
    {
     "name": "stderr",
     "output_type": "stream",
     "text": [
      "api            INFO \tUsing cached data for track_status_data\n",
      "api            INFO \tUsing cached data for weather_data\n",
      "core           INFO \tLoaded data for 20 drivers: ['3', '4', '5', '6', '7', '8', '10', '11', '16', '18', '20', '23', '26', '31', '33', '44', '55', '63', '77', '99']\n",
      "core           INFO \tLoading laps for British Grand Prix - Practice 1 [v2.1.12]\n",
      "api            INFO \tUsing cached data for timing_data\n",
      "api            INFO \tUsing cached data for timing_app_data\n",
      "core           INFO \tProcessing timing data...\n",
      "api            INFO \tUsing cached data for driver_info\n",
      "api            INFO \tUsing cached data for session_status_data\n",
      "api            INFO \tUsing cached data for track_status_data\n",
      "api            INFO \tUsing cached data for weather_data\n",
      "core           INFO \tLoaded data for 20 drivers: ['3', '4', '5', '6', '7', '8', '10', '11', '16', '18', '20', '23', '26', '31', '33', '44', '55', '63', '77', '99']\n",
      "core           INFO \tLoading laps for British Grand Prix - Practice 2 [v2.1.12]\n",
      "api            INFO \tUsing cached data for timing_data\n",
      "api            INFO \tUsing cached data for timing_app_data\n",
      "core           INFO \tProcessing timing data...\n",
      "api            INFO \tUsing cached data for driver_info\n",
      "api            INFO \tUsing cached data for session_status_data\n",
      "api            INFO \tUsing cached data for track_status_data\n",
      "api            INFO \tUsing cached data for weather_data\n",
      "core           INFO \tLoaded data for 20 drivers: ['3', '4', '5', '6', '7', '8', '10', '16', '18', '20', '23', '26', '27', '31', '33', '44', '55', '63', '77', '99']\n",
      "core           INFO \tLoading laps for British Grand Prix - Practice 3 [v2.1.12]\n",
      "api            INFO \tUsing cached data for timing_data\n",
      "api            INFO \tUsing cached data for timing_app_data\n",
      "core           INFO \tProcessing timing data...\n",
      "api            INFO \tUsing cached data for driver_info\n",
      "api            INFO \tUsing cached data for session_status_data\n",
      "api            INFO \tUsing cached data for track_status_data\n",
      "api            INFO \tUsing cached data for weather_data\n",
      "core           INFO \tLoaded data for 20 drivers: ['3', '4', '5', '6', '7', '8', '10', '16', '18', '20', '23', '26', '27', '31', '33', '44', '55', '63', '77', '99']\n",
      "core           INFO \tLoading laps for 70th Anniversary Grand Prix - Practice 1 [v2.1.12]\n",
      "api            INFO \tUsing cached data for timing_data\n",
      "api            INFO \tUsing cached data for timing_app_data\n",
      "core           INFO \tProcessing timing data...\n",
      "api            INFO \tUsing cached data for driver_info\n",
      "api            INFO \tUsing cached data for session_status_data\n",
      "api            INFO \tUsing cached data for track_status_data\n",
      "api            INFO \tUsing cached data for weather_data\n",
      "core           INFO \tLoaded data for 20 drivers: ['3', '4', '5', '6', '7', '8', '10', '16', '18', '20', '23', '26', '27', '31', '33', '44', '55', '63', '77', '88']\n",
      "core           INFO \tLoading laps for 70th Anniversary Grand Prix - Practice 2 [v2.1.12]\n",
      "api            INFO \tUsing cached data for timing_data\n",
      "api            INFO \tUsing cached data for timing_app_data\n",
      "core           INFO \tProcessing timing data...\n",
      "api            INFO \tUsing cached data for driver_info\n",
      "api            INFO \tUsing cached data for session_status_data\n"
     ]
    },
    {
     "name": "stdout",
     "output_type": "stream",
     "text": [
      "problem on 2020 5 P1\n"
     ]
    },
    {
     "name": "stderr",
     "output_type": "stream",
     "text": [
      "api            INFO \tUsing cached data for track_status_data\n",
      "api            INFO \tUsing cached data for weather_data\n",
      "core           INFO \tLoaded data for 20 drivers: ['3', '4', '5', '6', '7', '8', '10', '16', '18', '20', '23', '26', '27', '31', '33', '44', '55', '63', '77', '99']\n",
      "core           INFO \tLoading laps for 70th Anniversary Grand Prix - Practice 3 [v2.1.12]\n",
      "api            INFO \tUsing cached data for timing_data\n",
      "api            INFO \tUsing cached data for timing_app_data\n",
      "core           INFO \tProcessing timing data...\n",
      "api            INFO \tUsing cached data for driver_info\n",
      "api            INFO \tUsing cached data for session_status_data\n",
      "api            INFO \tUsing cached data for track_status_data\n",
      "api            INFO \tUsing cached data for weather_data\n",
      "core           INFO \tLoaded data for 20 drivers: ['3', '4', '5', '6', '7', '8', '10', '16', '18', '20', '23', '26', '27', '31', '33', '44', '55', '63', '77', '99']\n",
      "core           INFO \tLoading laps for Spanish Grand Prix - Practice 1 [v2.1.12]\n",
      "api            INFO \tUsing cached data for timing_data\n",
      "api            INFO \tUsing cached data for timing_app_data\n",
      "core           INFO \tProcessing timing data...\n",
      "api            INFO \tUsing cached data for driver_info\n",
      "api            INFO \tUsing cached data for session_status_data\n",
      "api            INFO \tUsing cached data for track_status_data\n",
      "api            INFO \tUsing cached data for weather_data\n",
      "core           INFO \tLoaded data for 20 drivers: ['3', '4', '5', '6', '7', '8', '10', '11', '16', '18', '20', '23', '26', '31', '33', '40', '44', '55', '77', '99']\n",
      "core           INFO \tLoading laps for Spanish Grand Prix - Practice 2 [v2.1.12]\n",
      "api            INFO \tUsing cached data for timing_data\n",
      "api            INFO \tUsing cached data for timing_app_data\n",
      "core           INFO \tProcessing timing data...\n",
      "api            INFO \tUsing cached data for driver_info\n",
      "api            INFO \tUsing cached data for session_status_data\n"
     ]
    },
    {
     "name": "stdout",
     "output_type": "stream",
     "text": [
      "problem on 2020 6 P1\n"
     ]
    },
    {
     "name": "stderr",
     "output_type": "stream",
     "text": [
      "api            INFO \tUsing cached data for track_status_data\n",
      "api            INFO \tUsing cached data for weather_data\n",
      "core           INFO \tLoaded data for 20 drivers: ['3', '4', '5', '6', '7', '8', '10', '11', '16', '18', '20', '23', '26', '31', '33', '44', '55', '63', '77', '99']\n",
      "core           INFO \tLoading laps for Spanish Grand Prix - Practice 3 [v2.1.12]\n",
      "api            INFO \tUsing cached data for timing_data\n",
      "api            INFO \tUsing cached data for timing_app_data\n",
      "core           INFO \tProcessing timing data...\n",
      "api            INFO \tUsing cached data for driver_info\n",
      "api            INFO \tUsing cached data for session_status_data\n",
      "api            INFO \tUsing cached data for track_status_data\n",
      "api            INFO \tUsing cached data for weather_data\n",
      "core           INFO \tLoaded data for 20 drivers: ['3', '4', '5', '6', '7', '8', '10', '11', '16', '18', '20', '23', '26', '31', '33', '44', '55', '63', '77', '99']\n",
      "core           INFO \tLoading laps for Belgian Grand Prix - Practice 1 [v2.1.12]\n",
      "api            INFO \tUsing cached data for timing_data\n",
      "api            INFO \tUsing cached data for timing_app_data\n",
      "core           INFO \tProcessing timing data...\n",
      "api            INFO \tUsing cached data for driver_info\n",
      "api            INFO \tUsing cached data for session_status_data\n",
      "api            INFO \tUsing cached data for track_status_data\n",
      "api            INFO \tUsing cached data for weather_data\n",
      "core           INFO \tLoaded data for 20 drivers: ['3', '4', '5', '6', '7', '8', '10', '11', '16', '18', '20', '23', '26', '31', '33', '44', '55', '63', '77', '99']\n",
      "core           INFO \tLoading laps for Belgian Grand Prix - Practice 2 [v2.1.12]\n",
      "api            INFO \tUsing cached data for timing_data\n",
      "api            INFO \tUsing cached data for timing_app_data\n",
      "core           INFO \tProcessing timing data...\n",
      "api            INFO \tUsing cached data for driver_info\n",
      "api            INFO \tUsing cached data for session_status_data\n"
     ]
    },
    {
     "name": "stdout",
     "output_type": "stream",
     "text": [
      "problem on 2020 7 P1\n"
     ]
    },
    {
     "name": "stderr",
     "output_type": "stream",
     "text": [
      "api            INFO \tUsing cached data for track_status_data\n",
      "api            INFO \tUsing cached data for weather_data\n",
      "core           INFO \tLoaded data for 20 drivers: ['3', '4', '5', '6', '7', '8', '10', '11', '16', '18', '20', '23', '26', '31', '33', '44', '55', '63', '77', '99']\n",
      "core           INFO \tLoading laps for Belgian Grand Prix - Practice 3 [v2.1.12]\n",
      "api            INFO \tUsing cached data for timing_data\n",
      "api            INFO \tUsing cached data for timing_app_data\n",
      "core           INFO \tProcessing timing data...\n",
      "api            INFO \tUsing cached data for driver_info\n",
      "api            INFO \tUsing cached data for session_status_data\n",
      "api            INFO \tUsing cached data for track_status_data\n",
      "api            INFO \tUsing cached data for weather_data\n",
      "core           INFO \tLoaded data for 20 drivers: ['3', '4', '5', '6', '7', '8', '10', '11', '16', '18', '20', '23', '26', '31', '33', '44', '55', '63', '77', '99']\n",
      "core           INFO \tLoading laps for Italian Grand Prix - Practice 1 [v2.1.12]\n",
      "api            INFO \tUsing cached data for timing_data\n",
      "api            INFO \tUsing cached data for timing_app_data\n",
      "core           INFO \tProcessing timing data...\n",
      "api            INFO \tUsing cached data for driver_info\n",
      "api            INFO \tUsing cached data for session_status_data\n",
      "api            INFO \tUsing cached data for track_status_data\n",
      "api            INFO \tUsing cached data for weather_data\n",
      "core           INFO \tLoaded data for 20 drivers: ['3', '4', '5', '6', '7', '8', '10', '11', '16', '18', '20', '23', '26', '31', '33', '40', '44', '55', '77', '99']\n",
      "core           INFO \tLoading laps for Italian Grand Prix - Practice 2 [v2.1.12]\n",
      "api            INFO \tUsing cached data for timing_data\n",
      "api            INFO \tUsing cached data for timing_app_data\n",
      "core           INFO \tProcessing timing data...\n",
      "api            INFO \tUsing cached data for driver_info\n",
      "api            INFO \tUsing cached data for session_status_data\n"
     ]
    },
    {
     "name": "stdout",
     "output_type": "stream",
     "text": [
      "problem on 2020 8 P1\n"
     ]
    },
    {
     "name": "stderr",
     "output_type": "stream",
     "text": [
      "api            INFO \tUsing cached data for track_status_data\n",
      "api            INFO \tUsing cached data for weather_data\n",
      "core           INFO \tLoaded data for 20 drivers: ['3', '4', '5', '6', '7', '8', '10', '11', '16', '18', '20', '23', '26', '31', '33', '44', '55', '63', '77', '99']\n",
      "core           INFO \tLoading laps for Italian Grand Prix - Practice 3 [v2.1.12]\n",
      "api            INFO \tUsing cached data for timing_data\n",
      "api            INFO \tUsing cached data for timing_app_data\n",
      "core           INFO \tProcessing timing data...\n",
      "api            INFO \tUsing cached data for driver_info\n",
      "api            INFO \tUsing cached data for session_status_data\n",
      "api            INFO \tUsing cached data for track_status_data\n",
      "api            INFO \tUsing cached data for weather_data\n",
      "core           INFO \tLoaded data for 20 drivers: ['3', '4', '5', '6', '7', '8', '10', '11', '16', '18', '20', '23', '26', '31', '33', '44', '55', '63', '77', '99']\n",
      "core           INFO \tLoading laps for Tuscan Grand Prix - Practice 1 [v2.1.12]\n",
      "api            INFO \tUsing cached data for timing_data\n",
      "api            INFO \tUsing cached data for timing_app_data\n",
      "core           INFO \tProcessing timing data...\n",
      "api            INFO \tUsing cached data for driver_info\n",
      "api            INFO \tUsing cached data for session_status_data\n",
      "api            INFO \tUsing cached data for track_status_data\n",
      "api            INFO \tUsing cached data for weather_data\n",
      "core           INFO \tLoaded data for 20 drivers: ['3', '4', '5', '6', '7', '8', '10', '11', '16', '18', '20', '23', '26', '31', '33', '44', '55', '63', '77', '99']\n",
      "core           INFO \tLoading laps for Tuscan Grand Prix - Practice 2 [v2.1.12]\n",
      "api            INFO \tUsing cached data for timing_data\n",
      "api            INFO \tUsing cached data for timing_app_data\n",
      "core           INFO \tProcessing timing data...\n",
      "api            INFO \tUsing cached data for driver_info\n",
      "api            INFO \tUsing cached data for session_status_data\n",
      "api            INFO \tUsing cached data for track_status_data\n",
      "api            INFO \tUsing cached data for weather_data\n",
      "core           INFO \tLoaded data for 20 drivers: ['3', '4', '5', '6', '7', '8', '10', '11', '16', '18', '20', '23', '26', '31', '33', '44', '55', '63', '77', '99']\n",
      "core           INFO \tLoading laps for Tuscan Grand Prix - Practice 3 [v2.1.12]\n",
      "api            INFO \tUsing cached data for timing_data\n",
      "api            INFO \tUsing cached data for timing_app_data\n",
      "core           INFO \tProcessing timing data...\n",
      "api            INFO \tUsing cached data for driver_info\n",
      "api            INFO \tUsing cached data for session_status_data\n",
      "api            INFO \tUsing cached data for track_status_data\n",
      "api            INFO \tUsing cached data for weather_data\n",
      "core           INFO \tLoaded data for 20 drivers: ['3', '4', '5', '6', '7', '8', '10', '11', '16', '18', '20', '23', '26', '31', '33', '44', '55', '63', '77', '99']\n",
      "core           INFO \tLoading laps for Russian Grand Prix - Practice 1 [v2.1.12]\n",
      "api            INFO \tUsing cached data for timing_data\n",
      "api            INFO \tUsing cached data for timing_app_data\n",
      "core           INFO \tProcessing timing data...\n",
      "api            INFO \tUsing cached data for driver_info\n",
      "api            INFO \tUsing cached data for session_status_data\n"
     ]
    },
    {
     "name": "stdout",
     "output_type": "stream",
     "text": [
      "problem on 2020 9 P3\n"
     ]
    },
    {
     "name": "stderr",
     "output_type": "stream",
     "text": [
      "api            INFO \tUsing cached data for track_status_data\n",
      "api            INFO \tUsing cached data for weather_data\n",
      "core           INFO \tLoaded data for 20 drivers: ['3', '4', '5', '6', '7', '8', '10', '11', '16', '18', '20', '23', '26', '31', '33', '44', '55', '63', '77', '99']\n",
      "core           INFO \tLoading laps for Russian Grand Prix - Practice 2 [v2.1.12]\n",
      "api            INFO \tUsing cached data for timing_data\n",
      "api            INFO \tUsing cached data for timing_app_data\n",
      "core           INFO \tProcessing timing data...\n",
      "api            INFO \tUsing cached data for driver_info\n",
      "api            INFO \tUsing cached data for session_status_data\n",
      "api            INFO \tUsing cached data for track_status_data\n",
      "api            INFO \tUsing cached data for weather_data\n",
      "core           INFO \tLoaded data for 20 drivers: ['3', '4', '5', '6', '7', '8', '10', '11', '16', '18', '20', '23', '26', '31', '33', '44', '55', '63', '77', '99']\n",
      "core           INFO \tLoading laps for Russian Grand Prix - Practice 3 [v2.1.12]\n",
      "api            INFO \tUsing cached data for timing_data\n",
      "api            INFO \tUsing cached data for timing_app_data\n",
      "core           INFO \tProcessing timing data...\n",
      "api            INFO \tUsing cached data for driver_info\n",
      "api            INFO \tUsing cached data for session_status_data\n",
      "api            INFO \tUsing cached data for track_status_data\n",
      "api            INFO \tUsing cached data for weather_data\n",
      "core           INFO \tLoaded data for 20 drivers: ['3', '4', '5', '6', '7', '8', '10', '11', '16', '18', '20', '23', '26', '31', '33', '44', '55', '63', '77', '99']\n",
      "core           INFO \tLoading laps for Eifel Grand Prix - Practice 1 [v2.1.12]\n",
      "api            INFO \tNo cached data found for timing_data. Loading data...\n",
      "api            INFO \tFetching timing data...\n",
      "api            INFO \tParsing timing data...\n",
      "core           INFO \tLoading laps for Eifel Grand Prix - Practice 2 [v2.1.12]\n",
      "api            INFO \tNo cached data found for timing_data. Loading data...\n",
      "api            INFO \tFetching timing data...\n",
      "api            INFO \tParsing timing data...\n",
      "core           INFO \tLoading laps for Eifel Grand Prix - Practice 3 [v2.1.12]\n",
      "api            INFO \tUsing cached data for timing_data\n",
      "api            INFO \tUsing cached data for timing_app_data\n",
      "core           INFO \tProcessing timing data...\n",
      "api            INFO \tUsing cached data for driver_info\n",
      "api            INFO \tUsing cached data for session_status_data\n"
     ]
    },
    {
     "name": "stdout",
     "output_type": "stream",
     "text": [
      "problem on 2020 11 P1\n",
      "problem on 2020 11 P2\n"
     ]
    },
    {
     "name": "stderr",
     "output_type": "stream",
     "text": [
      "api            INFO \tUsing cached data for track_status_data\n",
      "api            INFO \tUsing cached data for weather_data\n",
      "core           INFO \tLoaded data for 20 drivers: ['3', '4', '5', '6', '7', '8', '10', '11', '16', '18', '20', '23', '26', '31', '33', '44', '55', '63', '77', '99']\n",
      "core           INFO \tLoading laps for Portuguese Grand Prix - Practice 1 [v2.1.12]\n",
      "api            INFO \tUsing cached data for timing_data\n",
      "api            INFO \tUsing cached data for timing_app_data\n",
      "core           INFO \tProcessing timing data...\n",
      "api            INFO \tUsing cached data for driver_info\n",
      "api            INFO \tUsing cached data for session_status_data\n",
      "api            INFO \tUsing cached data for track_status_data\n",
      "api            INFO \tUsing cached data for weather_data\n",
      "core           INFO \tLoaded data for 20 drivers: ['3', '4', '5', '6', '7', '8', '10', '11', '16', '18', '20', '23', '26', '31', '33', '44', '55', '63', '77', '99']\n",
      "core           INFO \tLoading laps for Portuguese Grand Prix - Practice 2 [v2.1.12]\n",
      "api            INFO \tUsing cached data for timing_data\n",
      "api            INFO \tUsing cached data for timing_app_data\n",
      "core           INFO \tProcessing timing data...\n",
      "api            INFO \tUsing cached data for driver_info\n",
      "api            INFO \tUsing cached data for session_status_data\n",
      "api            INFO \tUsing cached data for track_status_data\n",
      "api            INFO \tUsing cached data for weather_data\n",
      "core           INFO \tLoaded data for 20 drivers: ['3', '4', '5', '6', '7', '8', '10', '11', '16', '18', '20', '23', '26', '31', '33', '44', '55', '63', '77', '99']\n",
      "core           INFO \tLoading laps for Portuguese Grand Prix - Practice 3 [v2.1.12]\n",
      "api            INFO \tUsing cached data for timing_data\n",
      "api            INFO \tUsing cached data for timing_app_data\n",
      "core           INFO \tProcessing timing data...\n",
      "api            INFO \tUsing cached data for driver_info\n",
      "api            INFO \tUsing cached data for session_status_data\n",
      "api            INFO \tUsing cached data for track_status_data\n",
      "api            INFO \tUsing cached data for weather_data\n",
      "core           INFO \tLoaded data for 20 drivers: ['3', '4', '5', '6', '7', '8', '10', '11', '16', '18', '20', '23', '26', '31', '33', '44', '55', '63', '77', '99']\n",
      "core           INFO \tLoading laps for Emilia Romagna Grand Prix - Practice 1 [v2.1.12]\n",
      "api            INFO \tNo cached data found for timing_data. Loading data...\n",
      "api            INFO \tFetching timing data...\n",
      "core           INFO \tLoading laps for Emilia Romagna Grand Prix - Practice 2 [v2.1.12]\n",
      "api            INFO \tNo cached data found for timing_data. Loading data...\n",
      "api            INFO \tFetching timing data...\n",
      "core           INFO \tLoading laps for Emilia Romagna Grand Prix - Practice 3 [v2.1.12]\n",
      "api            INFO \tNo cached data found for timing_data. Loading data...\n",
      "api            INFO \tFetching timing data...\n"
     ]
    },
    {
     "name": "stdout",
     "output_type": "stream",
     "text": [
      "problem on 2020 13 P1\n",
      "problem on 2020 13 P2\n",
      "problem on 2020 13 P3\n"
     ]
    },
    {
     "name": "stderr",
     "output_type": "stream",
     "text": [
      "core           INFO \tLoading laps for Turkish Grand Prix - Practice 1 [v2.1.12]\n",
      "api            INFO \tUsing cached data for timing_data\n",
      "api            INFO \tUsing cached data for timing_app_data\n",
      "core           INFO \tProcessing timing data...\n",
      "api            INFO \tUsing cached data for driver_info\n",
      "api            INFO \tUsing cached data for session_status_data\n",
      "api            INFO \tUsing cached data for track_status_data\n",
      "api            INFO \tUsing cached data for weather_data\n",
      "core           INFO \tLoaded data for 20 drivers: ['3', '4', '5', '6', '7', '8', '10', '11', '16', '18', '20', '23', '26', '31', '33', '44', '55', '63', '77', '99']\n",
      "core           INFO \tLoading laps for Turkish Grand Prix - Practice 2 [v2.1.12]\n",
      "api            INFO \tUsing cached data for timing_data\n",
      "api            INFO \tUsing cached data for timing_app_data\n",
      "core           INFO \tProcessing timing data...\n",
      "api            INFO \tUsing cached data for driver_info\n",
      "api            INFO \tUsing cached data for session_status_data\n",
      "api            INFO \tUsing cached data for track_status_data\n",
      "api            INFO \tUsing cached data for weather_data\n",
      "core           INFO \tLoaded data for 20 drivers: ['3', '4', '5', '6', '7', '8', '10', '11', '16', '18', '20', '23', '26', '31', '33', '44', '55', '63', '77', '99']\n",
      "core           INFO \tLoading laps for Turkish Grand Prix - Practice 3 [v2.1.12]\n",
      "api            INFO \tUsing cached data for timing_data\n",
      "api            INFO \tUsing cached data for timing_app_data\n",
      "core           INFO \tProcessing timing data...\n",
      "api            INFO \tUsing cached data for driver_info\n",
      "api            INFO \tUsing cached data for session_status_data\n",
      "api            INFO \tUsing cached data for track_status_data\n",
      "api            INFO \tUsing cached data for weather_data\n",
      "core           INFO \tLoaded data for 20 drivers: ['3', '4', '5', '6', '7', '8', '10', '11', '16', '18', '20', '23', '26', '31', '33', '44', '55', '63', '77', '99']\n",
      "core           INFO \tLoading laps for Bahrain Grand Prix - Practice 1 [v2.1.12]\n",
      "api            INFO \tUsing cached data for timing_data\n",
      "api            INFO \tUsing cached data for timing_app_data\n",
      "core           INFO \tProcessing timing data...\n",
      "api            INFO \tUsing cached data for driver_info\n",
      "api            INFO \tUsing cached data for session_status_data\n"
     ]
    },
    {
     "name": "stdout",
     "output_type": "stream",
     "text": [
      "problem on 2020 14 P3\n"
     ]
    },
    {
     "name": "stderr",
     "output_type": "stream",
     "text": [
      "api            INFO \tUsing cached data for track_status_data\n",
      "api            INFO \tUsing cached data for weather_data\n",
      "core           INFO \tLoaded data for 20 drivers: ['3', '4', '5', '6', '8', '10', '11', '16', '18', '20', '23', '26', '31', '33', '40', '44', '55', '77', '88', '99']\n",
      "core           INFO \tLoading laps for Bahrain Grand Prix - Practice 2 [v2.1.12]\n",
      "api            INFO \tUsing cached data for timing_data\n",
      "api            INFO \tUsing cached data for timing_app_data\n",
      "core           INFO \tProcessing timing data...\n",
      "api            INFO \tUsing cached data for driver_info\n",
      "api            INFO \tUsing cached data for session_status_data\n"
     ]
    },
    {
     "name": "stdout",
     "output_type": "stream",
     "text": [
      "problem on 2020 15 P1\n"
     ]
    },
    {
     "name": "stderr",
     "output_type": "stream",
     "text": [
      "api            INFO \tUsing cached data for track_status_data\n",
      "api            INFO \tUsing cached data for weather_data\n",
      "core           INFO \tLoaded data for 20 drivers: ['3', '4', '5', '6', '7', '8', '10', '11', '16', '18', '20', '23', '26', '31', '33', '44', '55', '63', '77', '99']\n",
      "core           INFO \tLoading laps for Bahrain Grand Prix - Practice 3 [v2.1.12]\n",
      "api            INFO \tUsing cached data for timing_data\n",
      "api            INFO \tUsing cached data for timing_app_data\n",
      "core           INFO \tProcessing timing data...\n",
      "api            INFO \tUsing cached data for driver_info\n",
      "api            INFO \tUsing cached data for session_status_data\n",
      "api            INFO \tUsing cached data for track_status_data\n",
      "api            INFO \tUsing cached data for weather_data\n",
      "core           INFO \tLoaded data for 20 drivers: ['3', '4', '5', '6', '7', '8', '10', '11', '16', '18', '20', '23', '26', '31', '33', '44', '55', '63', '77', '99']\n",
      "core           INFO \tLoading laps for Sakhir Grand Prix - Practice 1 [v2.1.12]\n",
      "api            INFO \tUsing cached data for timing_data\n",
      "api            INFO \tUsing cached data for timing_app_data\n",
      "core           INFO \tProcessing timing data...\n",
      "api            INFO \tUsing cached data for driver_info\n",
      "api            INFO \tUsing cached data for session_status_data\n",
      "api            INFO \tUsing cached data for track_status_data\n",
      "api            INFO \tUsing cached data for weather_data\n",
      "core           INFO \tLoaded data for 20 drivers: ['3', '4', '5', '6', '7', '10', '11', '16', '18', '20', '23', '26', '31', '33', '51', '55', '63', '77', '89', '99']\n",
      "core           INFO \tLoading laps for Sakhir Grand Prix - Practice 2 [v2.1.12]\n",
      "api            INFO \tUsing cached data for timing_data\n",
      "api            INFO \tUsing cached data for timing_app_data\n",
      "core           INFO \tProcessing timing data...\n",
      "api            INFO \tUsing cached data for driver_info\n",
      "api            INFO \tUsing cached data for session_status_data\n",
      "api            INFO \tUsing cached data for track_status_data\n",
      "api            INFO \tUsing cached data for weather_data\n",
      "core           INFO \tLoaded data for 20 drivers: ['3', '4', '5', '6', '7', '10', '11', '16', '18', '20', '23', '26', '31', '33', '51', '55', '63', '77', '89', '99']\n",
      "core           INFO \tLoading laps for Sakhir Grand Prix - Practice 3 [v2.1.12]\n",
      "api            INFO \tUsing cached data for timing_data\n",
      "api            INFO \tUsing cached data for timing_app_data\n",
      "core           INFO \tProcessing timing data...\n",
      "api            INFO \tUsing cached data for driver_info\n",
      "api            INFO \tUsing cached data for session_status_data\n",
      "api            INFO \tUsing cached data for track_status_data\n",
      "api            INFO \tUsing cached data for weather_data\n",
      "core           INFO \tLoaded data for 20 drivers: ['3', '4', '5', '6', '7', '10', '11', '16', '18', '20', '23', '26', '31', '33', '51', '55', '63', '77', '89', '99']\n",
      "core           INFO \tLoading laps for Abu Dhabi Grand Prix - Practice 1 [v2.1.12]\n",
      "api            INFO \tUsing cached data for timing_data\n",
      "api            INFO \tUsing cached data for timing_app_data\n",
      "core           INFO \tProcessing timing data...\n",
      "api            INFO \tUsing cached data for driver_info\n",
      "api            INFO \tUsing cached data for session_status_data\n",
      "api            INFO \tUsing cached data for track_status_data\n",
      "core        WARNING \tDriver 18: Lap timing integrity check failed for 1 lap(s)\n",
      "api            INFO \tUsing cached data for weather_data\n",
      "core           INFO \tLoaded data for 20 drivers: ['3', '4', '5', '6', '7', '10', '11', '16', '18', '23', '26', '31', '33', '44', '50', '51', '55', '63', '77', '88']\n",
      "core           INFO \tLoading laps for Abu Dhabi Grand Prix - Practice 2 [v2.1.12]\n",
      "api            INFO \tUsing cached data for timing_data\n",
      "api            INFO \tUsing cached data for timing_app_data\n",
      "core           INFO \tProcessing timing data...\n",
      "api            INFO \tUsing cached data for driver_info\n",
      "api            INFO \tUsing cached data for session_status_data\n"
     ]
    },
    {
     "name": "stdout",
     "output_type": "stream",
     "text": [
      "problem on 2020 17 P1\n"
     ]
    },
    {
     "name": "stderr",
     "output_type": "stream",
     "text": [
      "api            INFO \tUsing cached data for track_status_data\n",
      "api            INFO \tUsing cached data for weather_data\n",
      "core           INFO \tLoaded data for 20 drivers: ['3', '4', '5', '6', '7', '10', '11', '16', '18', '20', '23', '26', '31', '33', '44', '51', '55', '63', '77', '99']\n",
      "core           INFO \tLoading laps for Abu Dhabi Grand Prix - Practice 3 [v2.1.12]\n",
      "api            INFO \tUsing cached data for timing_data\n",
      "api            INFO \tUsing cached data for timing_app_data\n",
      "core           INFO \tProcessing timing data...\n",
      "api            INFO \tUsing cached data for driver_info\n",
      "api            INFO \tUsing cached data for session_status_data\n",
      "api            INFO \tUsing cached data for track_status_data\n",
      "api            INFO \tUsing cached data for weather_data\n",
      "core           INFO \tLoaded data for 20 drivers: ['3', '4', '5', '6', '7', '10', '11', '16', '18', '20', '23', '26', '31', '33', '44', '51', '55', '63', '77', '99']\n",
      "core       CRITICAL \tFailed to load critical data from Ergast!\n",
      "\n",
      " Cannot determine the date and name of the event. Cannot proceed!\n",
      "\n",
      "core       CRITICAL \tlist index out of range\n",
      "core       CRITICAL \tFailed to load critical data from Ergast!\n",
      "\n",
      " Cannot determine the date and name of the event. Cannot proceed!\n",
      "\n",
      "core       CRITICAL \tlist index out of range\n",
      "core       CRITICAL \tFailed to load critical data from Ergast!\n",
      "\n",
      " Cannot determine the date and name of the event. Cannot proceed!\n",
      "\n",
      "core       CRITICAL \tlist index out of range\n",
      "core       CRITICAL \tFailed to load critical data from Ergast!\n",
      "\n",
      " Cannot determine the date and name of the event. Cannot proceed!\n",
      "\n",
      "core       CRITICAL \tlist index out of range\n",
      "core       CRITICAL \tFailed to load critical data from Ergast!\n",
      "\n",
      " Cannot determine the date and name of the event. Cannot proceed!\n",
      "\n",
      "core       CRITICAL \tlist index out of range\n",
      "core       CRITICAL \tFailed to load critical data from Ergast!\n",
      "\n",
      " Cannot determine the date and name of the event. Cannot proceed!\n",
      "\n",
      "core       CRITICAL \tlist index out of range\n",
      "core       CRITICAL \tFailed to load critical data from Ergast!\n",
      "\n",
      " Cannot determine the date and name of the event. Cannot proceed!\n",
      "\n",
      "core       CRITICAL \tlist index out of range\n",
      "core       CRITICAL \tFailed to load critical data from Ergast!\n",
      "\n",
      " Cannot determine the date and name of the event. Cannot proceed!\n",
      "\n",
      "core       CRITICAL \tlist index out of range\n",
      "core       CRITICAL \tFailed to load critical data from Ergast!\n",
      "\n",
      " Cannot determine the date and name of the event. Cannot proceed!\n",
      "\n",
      "core       CRITICAL \tlist index out of range\n",
      "core       CRITICAL \tFailed to load critical data from Ergast!\n",
      "\n",
      " Cannot determine the date and name of the event. Cannot proceed!\n",
      "\n",
      "core       CRITICAL \tlist index out of range\n",
      "core       CRITICAL \tFailed to load critical data from Ergast!\n",
      "\n",
      " Cannot determine the date and name of the event. Cannot proceed!\n",
      "\n",
      "core       CRITICAL \tlist index out of range\n",
      "core       CRITICAL \tFailed to load critical data from Ergast!\n",
      "\n",
      " Cannot determine the date and name of the event. Cannot proceed!\n",
      "\n",
      "core       CRITICAL \tlist index out of range\n",
      "core       CRITICAL \tFailed to load critical data from Ergast!\n",
      "\n",
      " Cannot determine the date and name of the event. Cannot proceed!\n",
      "\n",
      "core       CRITICAL \tlist index out of range\n",
      "core       CRITICAL \tFailed to load critical data from Ergast!\n",
      "\n",
      " Cannot determine the date and name of the event. Cannot proceed!\n",
      "\n",
      "core       CRITICAL \tlist index out of range\n",
      "core       CRITICAL \tFailed to load critical data from Ergast!\n",
      "\n",
      " Cannot determine the date and name of the event. Cannot proceed!\n",
      "\n",
      "core       CRITICAL \tlist index out of range\n",
      "core           INFO \tLoading laps for Bahrain Grand Prix - Practice 1 [v2.1.12]\n",
      "api            INFO \tUsing cached data for timing_data\n",
      "api            INFO \tUsing cached data for timing_app_data\n",
      "core           INFO \tProcessing timing data...\n",
      "api            INFO \tUsing cached data for driver_info\n",
      "api            INFO \tUsing cached data for session_status_data\n"
     ]
    },
    {
     "name": "stdout",
     "output_type": "stream",
     "text": [
      "problem on 2020 18 P1\n",
      "problem on 2020 18 P2\n",
      "problem on 2020 18 P3\n",
      "problem on 2020 19 P1\n",
      "problem on 2020 19 P2\n",
      "problem on 2020 19 P3\n",
      "problem on 2020 20 P1\n",
      "problem on 2020 20 P2\n",
      "problem on 2020 20 P3\n",
      "problem on 2020 21 P1\n",
      "problem on 2020 21 P2\n",
      "problem on 2020 21 P3\n",
      "problem on 2020 22 P1\n",
      "problem on 2020 22 P2\n",
      "problem on 2020 22 P3\n"
     ]
    },
    {
     "name": "stderr",
     "output_type": "stream",
     "text": [
      "api            INFO \tUsing cached data for track_status_data\n",
      "api            INFO \tUsing cached data for weather_data\n",
      "core           INFO \tLoaded data for 20 drivers: ['3', '4', '5', '6', '7', '9', '10', '11', '14', '16', '18', '22', '31', '33', '44', '47', '55', '63', '77', '99']\n",
      "core           INFO \tLoading laps for Bahrain Grand Prix - Practice 2 [v2.1.12]\n",
      "api            INFO \tUsing cached data for timing_data\n",
      "api            INFO \tUsing cached data for timing_app_data\n",
      "core           INFO \tProcessing timing data...\n",
      "api            INFO \tUsing cached data for driver_info\n",
      "api            INFO \tUsing cached data for session_status_data\n",
      "api            INFO \tUsing cached data for track_status_data\n",
      "api            INFO \tUsing cached data for weather_data\n",
      "core           INFO \tLoaded data for 20 drivers: ['3', '4', '5', '6', '7', '9', '10', '11', '14', '16', '18', '22', '31', '33', '44', '47', '55', '63', '77', '99']\n",
      "core           INFO \tLoading laps for Bahrain Grand Prix - Practice 3 [v2.1.12]\n",
      "api            INFO \tUsing cached data for timing_data\n",
      "api            INFO \tUsing cached data for timing_app_data\n",
      "core           INFO \tProcessing timing data...\n",
      "api            INFO \tUsing cached data for driver_info\n",
      "api            INFO \tUsing cached data for session_status_data\n",
      "api            INFO \tUsing cached data for track_status_data\n",
      "api            INFO \tUsing cached data for weather_data\n",
      "core           INFO \tLoaded data for 20 drivers: ['3', '4', '5', '6', '7', '9', '10', '11', '14', '16', '18', '22', '31', '33', '44', '47', '55', '63', '77', '99']\n",
      "core           INFO \tLoading laps for Emilia Romagna Grand Prix - Practice 1 [v2.1.12]\n",
      "api            INFO \tUsing cached data for timing_data\n",
      "api            INFO \tUsing cached data for timing_app_data\n",
      "core           INFO \tProcessing timing data...\n",
      "api            INFO \tUsing cached data for driver_info\n",
      "api            INFO \tUsing cached data for session_status_data\n",
      "core           INFO \tLoading laps for Emilia Romagna Grand Prix - Practice 2 [v2.1.12]\n",
      "api            INFO \tUsing cached data for timing_data\n",
      "api            INFO \tUsing cached data for timing_app_data\n",
      "core           INFO \tProcessing timing data...\n",
      "api            INFO \tUsing cached data for driver_info\n",
      "api            INFO \tUsing cached data for session_status_data\n"
     ]
    },
    {
     "name": "stdout",
     "output_type": "stream",
     "text": [
      "problem on 2021 2 P1\n"
     ]
    },
    {
     "name": "stderr",
     "output_type": "stream",
     "text": [
      "api            INFO \tUsing cached data for track_status_data\n",
      "api            INFO \tUsing cached data for weather_data\n",
      "core           INFO \tLoaded data for 20 drivers: ['3', '4', '5', '6', '7', '9', '10', '11', '14', '16', '18', '22', '31', '33', '44', '47', '55', '63', '77', '99']\n",
      "core           INFO \tLoading laps for Emilia Romagna Grand Prix - Practice 3 [v2.1.12]\n",
      "api            INFO \tUsing cached data for timing_data\n",
      "api            INFO \tUsing cached data for timing_app_data\n",
      "core           INFO \tProcessing timing data...\n",
      "api            INFO \tUsing cached data for driver_info\n",
      "api            INFO \tUsing cached data for session_status_data\n",
      "api            INFO \tUsing cached data for track_status_data\n",
      "api            INFO \tUsing cached data for weather_data\n",
      "core           INFO \tLoaded data for 20 drivers: ['3', '4', '5', '6', '7', '9', '10', '11', '14', '16', '18', '22', '31', '33', '44', '47', '55', '63', '77', '99']\n",
      "core           INFO \tLoading laps for Portuguese Grand Prix - Practice 1 [v2.1.12]\n",
      "api            INFO \tUsing cached data for timing_data\n",
      "api            INFO \tUsing cached data for timing_app_data\n",
      "core           INFO \tProcessing timing data...\n",
      "api            INFO \tUsing cached data for driver_info\n",
      "api            INFO \tUsing cached data for session_status_data\n",
      "api            INFO \tUsing cached data for track_status_data\n",
      "core        WARNING \tDriver 22: Lap timing integrity check failed for 1 lap(s)\n",
      "api            INFO \tUsing cached data for weather_data\n",
      "core           INFO \tLoaded data for 20 drivers: ['3', '4', '5', '6', '7', '9', '10', '11', '14', '16', '18', '22', '31', '33', '44', '47', '55', '63', '77', '98']\n",
      "core           INFO \tLoading laps for Portuguese Grand Prix - Practice 2 [v2.1.12]\n",
      "api            INFO \tUsing cached data for timing_data\n",
      "api            INFO \tUsing cached data for timing_app_data\n",
      "core           INFO \tProcessing timing data...\n",
      "api            INFO \tUsing cached data for driver_info\n",
      "api            INFO \tUsing cached data for session_status_data\n"
     ]
    },
    {
     "name": "stdout",
     "output_type": "stream",
     "text": [
      "problem on 2021 3 P1\n"
     ]
    },
    {
     "name": "stderr",
     "output_type": "stream",
     "text": [
      "api            INFO \tUsing cached data for track_status_data\n",
      "api            INFO \tUsing cached data for weather_data\n",
      "core           INFO \tLoaded data for 20 drivers: ['3', '4', '5', '6', '7', '9', '10', '11', '14', '16', '18', '22', '31', '33', '44', '47', '55', '63', '77', '99']\n",
      "core           INFO \tLoading laps for Portuguese Grand Prix - Practice 3 [v2.1.12]\n",
      "api            INFO \tUsing cached data for timing_data\n",
      "api            INFO \tUsing cached data for timing_app_data\n",
      "core           INFO \tProcessing timing data...\n",
      "api            INFO \tUsing cached data for driver_info\n",
      "api            INFO \tUsing cached data for session_status_data\n",
      "api            INFO \tUsing cached data for track_status_data\n",
      "core        WARNING \tDriver  7: Lap timing integrity check failed for 1 lap(s)\n",
      "api            INFO \tUsing cached data for weather_data\n",
      "core           INFO \tLoaded data for 20 drivers: ['3', '4', '5', '6', '7', '9', '10', '11', '14', '16', '18', '22', '31', '33', '44', '47', '55', '63', '77', '99']\n",
      "core           INFO \tLoading laps for Spanish Grand Prix - Practice 1 [v2.1.12]\n",
      "api            INFO \tUsing cached data for timing_data\n",
      "api            INFO \tUsing cached data for timing_app_data\n",
      "core           INFO \tProcessing timing data...\n",
      "api            INFO \tUsing cached data for driver_info\n",
      "api            INFO \tUsing cached data for session_status_data\n",
      "api            INFO \tUsing cached data for track_status_data\n",
      "api            INFO \tUsing cached data for weather_data\n",
      "core           INFO \tLoaded data for 20 drivers: ['3', '4', '5', '6', '9', '10', '11', '14', '16', '18', '22', '31', '33', '44', '45', '47', '55', '77', '88', '99']\n",
      "core           INFO \tLoading laps for Spanish Grand Prix - Practice 2 [v2.1.12]\n",
      "api            INFO \tUsing cached data for timing_data\n",
      "api            INFO \tUsing cached data for timing_app_data\n",
      "core           INFO \tProcessing timing data...\n",
      "api            INFO \tUsing cached data for driver_info\n",
      "api            INFO \tUsing cached data for session_status_data\n"
     ]
    },
    {
     "name": "stdout",
     "output_type": "stream",
     "text": [
      "problem on 2021 4 P1\n"
     ]
    },
    {
     "name": "stderr",
     "output_type": "stream",
     "text": [
      "api            INFO \tUsing cached data for track_status_data\n",
      "api            INFO \tUsing cached data for weather_data\n",
      "core           INFO \tLoaded data for 20 drivers: ['3', '4', '5', '6', '7', '9', '10', '11', '14', '16', '18', '22', '31', '33', '44', '47', '55', '63', '77', '99']\n",
      "core           INFO \tLoading laps for Spanish Grand Prix - Practice 3 [v2.1.12]\n",
      "api            INFO \tUsing cached data for timing_data\n",
      "api            INFO \tUsing cached data for timing_app_data\n",
      "core           INFO \tProcessing timing data...\n",
      "api            INFO \tUsing cached data for driver_info\n",
      "api            INFO \tUsing cached data for session_status_data\n",
      "api            INFO \tUsing cached data for track_status_data\n",
      "api            INFO \tUsing cached data for weather_data\n",
      "core           INFO \tLoaded data for 20 drivers: ['3', '4', '5', '6', '7', '9', '10', '11', '14', '16', '18', '22', '31', '33', '44', '47', '55', '63', '77', '99']\n",
      "core           INFO \tLoading laps for Monaco Grand Prix - Practice 1 [v2.1.12]\n",
      "api            INFO \tUsing cached data for timing_data\n",
      "api            INFO \tUsing cached data for timing_app_data\n",
      "core           INFO \tProcessing timing data...\n",
      "api            INFO \tUsing cached data for driver_info\n",
      "api            INFO \tUsing cached data for session_status_data\n",
      "api            INFO \tUsing cached data for track_status_data\n",
      "api            INFO \tUsing cached data for weather_data\n",
      "core           INFO \tLoaded data for 20 drivers: ['3', '4', '5', '6', '7', '9', '10', '11', '14', '16', '18', '22', '31', '33', '44', '47', '55', '63', '77', '99']\n",
      "core           INFO \tLoading laps for Monaco Grand Prix - Practice 2 [v2.1.12]\n",
      "api            INFO \tUsing cached data for timing_data\n",
      "api            INFO \tUsing cached data for timing_app_data\n",
      "core           INFO \tProcessing timing data...\n",
      "api            INFO \tUsing cached data for driver_info\n",
      "api            INFO \tUsing cached data for session_status_data\n",
      "api            INFO \tUsing cached data for track_status_data\n",
      "api            INFO \tUsing cached data for weather_data\n",
      "core           INFO \tLoaded data for 20 drivers: ['3', '4', '5', '6', '7', '9', '10', '11', '14', '16', '18', '22', '31', '33', '44', '47', '55', '63', '77', '99']\n",
      "core           INFO \tLoading laps for Monaco Grand Prix - Practice 3 [v2.1.12]\n",
      "api            INFO \tUsing cached data for timing_data\n",
      "api            INFO \tUsing cached data for timing_app_data\n",
      "core           INFO \tProcessing timing data...\n",
      "api            INFO \tUsing cached data for driver_info\n",
      "api            INFO \tUsing cached data for session_status_data\n",
      "api            INFO \tUsing cached data for track_status_data\n",
      "api            INFO \tUsing cached data for weather_data\n",
      "core           INFO \tLoaded data for 20 drivers: ['3', '4', '5', '6', '7', '9', '10', '11', '14', '16', '18', '22', '31', '33', '44', '47', '55', '63', '77', '99']\n",
      "core           INFO \tLoading laps for Azerbaijan Grand Prix - Practice 1 [v2.1.12]\n",
      "api            INFO \tUsing cached data for timing_data\n",
      "api            INFO \tUsing cached data for timing_app_data\n",
      "core           INFO \tProcessing timing data...\n",
      "api            INFO \tUsing cached data for driver_info\n",
      "api            INFO \tUsing cached data for session_status_data\n",
      "api            INFO \tUsing cached data for track_status_data\n",
      "api            INFO \tUsing cached data for weather_data\n",
      "core           INFO \tLoaded data for 20 drivers: ['3', '4', '5', '6', '7', '9', '10', '11', '14', '16', '18', '22', '31', '33', '44', '47', '55', '63', '77', '99']\n",
      "core           INFO \tLoading laps for Azerbaijan Grand Prix - Practice 2 [v2.1.12]\n",
      "api            INFO \tUsing cached data for timing_data\n",
      "api            INFO \tUsing cached data for timing_app_data\n",
      "core           INFO \tProcessing timing data...\n",
      "api            INFO \tUsing cached data for driver_info\n",
      "api            INFO \tUsing cached data for session_status_data\n",
      "api            INFO \tUsing cached data for track_status_data\n",
      "api            INFO \tUsing cached data for weather_data\n",
      "core           INFO \tLoaded data for 20 drivers: ['3', '4', '5', '6', '7', '9', '10', '11', '14', '16', '18', '22', '31', '33', '44', '47', '55', '63', '77', '99']\n",
      "core           INFO \tLoading laps for Azerbaijan Grand Prix - Practice 3 [v2.1.12]\n",
      "api            INFO \tUsing cached data for timing_data\n",
      "api            INFO \tUsing cached data for timing_app_data\n",
      "core           INFO \tProcessing timing data...\n",
      "api            INFO \tUsing cached data for driver_info\n",
      "api            INFO \tUsing cached data for session_status_data\n",
      "api            INFO \tUsing cached data for track_status_data\n",
      "api            INFO \tUsing cached data for weather_data\n",
      "core           INFO \tLoaded data for 20 drivers: ['3', '4', '5', '6', '7', '9', '10', '11', '14', '16', '18', '22', '31', '33', '44', '47', '55', '63', '77', '99']\n",
      "core           INFO \tLoading laps for French Grand Prix - Practice 1 [v2.1.12]\n",
      "api            INFO \tUsing cached data for timing_data\n",
      "api            INFO \tUsing cached data for timing_app_data\n",
      "core           INFO \tProcessing timing data...\n",
      "api            INFO \tUsing cached data for driver_info\n",
      "api            INFO \tUsing cached data for session_status_data\n",
      "api            INFO \tUsing cached data for track_status_data\n",
      "api            INFO \tUsing cached data for weather_data\n",
      "core           INFO \tLoaded data for 20 drivers: ['3', '4', '5', '6', '7', '9', '10', '11', '14', '16', '18', '22', '31', '33', '44', '45', '47', '55', '77', '99']\n",
      "core           INFO \tLoading laps for French Grand Prix - Practice 2 [v2.1.12]\n",
      "api            INFO \tUsing cached data for timing_data\n",
      "api            INFO \tUsing cached data for timing_app_data\n",
      "core           INFO \tProcessing timing data...\n",
      "api            INFO \tUsing cached data for driver_info\n",
      "api            INFO \tUsing cached data for session_status_data\n"
     ]
    },
    {
     "name": "stdout",
     "output_type": "stream",
     "text": [
      "problem on 2021 7 P1\n"
     ]
    },
    {
     "name": "stderr",
     "output_type": "stream",
     "text": [
      "api            INFO \tUsing cached data for track_status_data\n",
      "api            INFO \tUsing cached data for weather_data\n",
      "core           INFO \tLoaded data for 20 drivers: ['3', '4', '5', '6', '7', '9', '10', '11', '14', '16', '18', '22', '31', '33', '44', '47', '55', '63', '77', '99']\n",
      "core           INFO \tLoading laps for French Grand Prix - Practice 3 [v2.1.12]\n",
      "api            INFO \tUsing cached data for timing_data\n",
      "api            INFO \tUsing cached data for timing_app_data\n",
      "core           INFO \tProcessing timing data...\n",
      "api            INFO \tUsing cached data for driver_info\n",
      "api            INFO \tUsing cached data for session_status_data\n",
      "api            INFO \tUsing cached data for track_status_data\n",
      "api            INFO \tUsing cached data for weather_data\n",
      "core           INFO \tLoaded data for 20 drivers: ['3', '4', '5', '6', '7', '9', '10', '11', '14', '16', '18', '22', '31', '33', '44', '47', '55', '63', '77', '99']\n",
      "core           INFO \tLoading laps for Styrian Grand Prix - Practice 1 [v2.1.12]\n",
      "api            INFO \tUsing cached data for timing_data\n",
      "api            INFO \tUsing cached data for timing_app_data\n",
      "core           INFO \tProcessing timing data...\n",
      "api            INFO \tUsing cached data for driver_info\n",
      "api            INFO \tUsing cached data for session_status_data\n",
      "api            INFO \tUsing cached data for track_status_data\n",
      "api            INFO \tUsing cached data for weather_data\n",
      "core           INFO \tLoaded data for 20 drivers: ['3', '4', '5', '6', '9', '10', '11', '14', '16', '18', '22', '31', '33', '44', '47', '55', '63', '77', '88', '99']\n",
      "core           INFO \tLoading laps for Styrian Grand Prix - Practice 2 [v2.1.12]\n",
      "api            INFO \tUsing cached data for timing_data\n",
      "api            INFO \tUsing cached data for timing_app_data\n",
      "core           INFO \tProcessing timing data...\n",
      "api            INFO \tUsing cached data for driver_info\n",
      "api            INFO \tUsing cached data for session_status_data\n"
     ]
    },
    {
     "name": "stdout",
     "output_type": "stream",
     "text": [
      "problem on 2021 8 P1\n"
     ]
    },
    {
     "name": "stderr",
     "output_type": "stream",
     "text": [
      "api            INFO \tUsing cached data for track_status_data\n",
      "api            INFO \tUsing cached data for weather_data\n",
      "core           INFO \tLoaded data for 20 drivers: ['3', '4', '5', '6', '7', '9', '10', '11', '14', '16', '18', '22', '31', '33', '44', '47', '55', '63', '77', '99']\n",
      "core           INFO \tLoading laps for Styrian Grand Prix - Practice 3 [v2.1.12]\n",
      "api            INFO \tUsing cached data for timing_data\n",
      "api            INFO \tUsing cached data for timing_app_data\n",
      "core           INFO \tProcessing timing data...\n",
      "api            INFO \tUsing cached data for driver_info\n",
      "api            INFO \tUsing cached data for session_status_data\n",
      "api            INFO \tUsing cached data for track_status_data\n",
      "core        WARNING \tDriver 18: Lap timing integrity check failed for 1 lap(s)\n",
      "api            INFO \tUsing cached data for weather_data\n",
      "core           INFO \tLoaded data for 20 drivers: ['3', '4', '5', '6', '7', '9', '10', '11', '14', '16', '18', '22', '31', '33', '44', '47', '55', '63', '77', '99']\n",
      "core           INFO \tLoading laps for Austrian Grand Prix - Practice 1 [v2.1.12]\n",
      "api            INFO \tUsing cached data for timing_data\n",
      "api            INFO \tUsing cached data for timing_app_data\n",
      "core           INFO \tProcessing timing data...\n",
      "api            INFO \tUsing cached data for driver_info\n",
      "api            INFO \tUsing cached data for session_status_data\n",
      "api            INFO \tUsing cached data for track_status_data\n",
      "api            INFO \tUsing cached data for weather_data\n",
      "core           INFO \tLoaded data for 20 drivers: ['3', '4', '5', '6', '7', '9', '10', '11', '16', '18', '22', '31', '33', '37', '44', '45', '47', '55', '77', '98']\n",
      "core           INFO \tLoading laps for Austrian Grand Prix - Practice 2 [v2.1.12]\n",
      "api            INFO \tUsing cached data for timing_data\n",
      "api            INFO \tUsing cached data for timing_app_data\n",
      "core           INFO \tProcessing timing data...\n",
      "api            INFO \tUsing cached data for driver_info\n",
      "api            INFO \tUsing cached data for session_status_data\n"
     ]
    },
    {
     "name": "stdout",
     "output_type": "stream",
     "text": [
      "problem on 2021 9 P1\n"
     ]
    },
    {
     "name": "stderr",
     "output_type": "stream",
     "text": [
      "api            INFO \tUsing cached data for track_status_data\n",
      "api            INFO \tUsing cached data for weather_data\n",
      "core           INFO \tLoaded data for 20 drivers: ['3', '4', '5', '6', '7', '9', '10', '11', '14', '16', '18', '22', '31', '33', '44', '47', '55', '63', '77', '99']\n",
      "core           INFO \tLoading laps for Austrian Grand Prix - Practice 3 [v2.1.12]\n",
      "api            INFO \tUsing cached data for timing_data\n",
      "api            INFO \tUsing cached data for timing_app_data\n",
      "core           INFO \tProcessing timing data...\n",
      "api            INFO \tUsing cached data for driver_info\n",
      "api            INFO \tUsing cached data for session_status_data\n",
      "api            INFO \tUsing cached data for track_status_data\n",
      "api            INFO \tUsing cached data for weather_data\n",
      "core           INFO \tLoaded data for 20 drivers: ['3', '4', '5', '6', '7', '9', '10', '11', '14', '16', '18', '22', '31', '33', '44', '47', '55', '63', '77', '99']\n",
      "core           INFO \tLoading laps for British Grand Prix - Practice 1 [v2.1.12]\n",
      "api            INFO \tUsing cached data for timing_data\n",
      "api            INFO \tUsing cached data for timing_app_data\n",
      "core           INFO \tProcessing timing data...\n",
      "api            INFO \tUsing cached data for driver_info\n",
      "api            INFO \tUsing cached data for session_status_data\n",
      "api            INFO \tUsing cached data for track_status_data\n",
      "api            INFO \tUsing cached data for weather_data\n",
      "core           INFO \tLoaded data for 20 drivers: ['3', '4', '5', '6', '7', '9', '10', '11', '14', '16', '18', '22', '31', '33', '44', '47', '55', '63', '77', '99']\n",
      "core           INFO \tLoading laps for British Grand Prix - Practice 2 [v2.1.12]\n",
      "api            INFO \tUsing cached data for timing_data\n",
      "api            INFO \tUsing cached data for timing_app_data\n",
      "core           INFO \tProcessing timing data...\n",
      "api            INFO \tUsing cached data for driver_info\n",
      "api            INFO \tUsing cached data for session_status_data\n",
      "api            INFO \tUsing cached data for track_status_data\n",
      "api            INFO \tUsing cached data for weather_data\n",
      "core           INFO \tLoaded data for 20 drivers: ['3', '4', '5', '6', '7', '9', '10', '11', '14', '16', '18', '22', '31', '33', '44', '47', '55', '63', '77', '99']\n",
      "core           INFO \tLoading laps for Hungarian Grand Prix - Practice 1 [v2.1.12]\n",
      "api            INFO \tUsing cached data for timing_data\n",
      "api            INFO \tUsing cached data for timing_app_data\n",
      "core           INFO \tProcessing timing data...\n",
      "api            INFO \tUsing cached data for driver_info\n",
      "api            INFO \tUsing cached data for session_status_data\n"
     ]
    },
    {
     "name": "stdout",
     "output_type": "stream",
     "text": [
      "problem on 2021 10 P3\n"
     ]
    },
    {
     "name": "stderr",
     "output_type": "stream",
     "text": [
      "api            INFO \tUsing cached data for track_status_data\n",
      "api            INFO \tUsing cached data for weather_data\n",
      "core           INFO \tLoaded data for 20 drivers: ['3', '4', '5', '6', '9', '10', '11', '14', '16', '18', '22', '31', '33', '44', '47', '55', '63', '77', '88', '99']\n",
      "core           INFO \tLoading laps for Hungarian Grand Prix - Practice 2 [v2.1.12]\n",
      "api            INFO \tUsing cached data for timing_data\n",
      "api            INFO \tUsing cached data for timing_app_data\n",
      "core           INFO \tProcessing timing data...\n",
      "api            INFO \tUsing cached data for driver_info\n",
      "api            INFO \tUsing cached data for session_status_data\n"
     ]
    },
    {
     "name": "stdout",
     "output_type": "stream",
     "text": [
      "problem on 2021 11 P1\n"
     ]
    },
    {
     "name": "stderr",
     "output_type": "stream",
     "text": [
      "api            INFO \tUsing cached data for track_status_data\n",
      "api            INFO \tUsing cached data for weather_data\n",
      "core           INFO \tLoaded data for 20 drivers: ['3', '4', '5', '6', '7', '9', '10', '11', '14', '16', '18', '22', '31', '33', '44', '47', '55', '63', '77', '99']\n",
      "core           INFO \tLoading laps for Hungarian Grand Prix - Practice 3 [v2.1.12]\n",
      "api            INFO \tUsing cached data for timing_data\n",
      "api            INFO \tUsing cached data for timing_app_data\n",
      "core           INFO \tProcessing timing data...\n",
      "api            INFO \tUsing cached data for driver_info\n",
      "api            INFO \tUsing cached data for session_status_data\n",
      "api            INFO \tUsing cached data for track_status_data\n",
      "api            INFO \tUsing cached data for weather_data\n",
      "core           INFO \tLoaded data for 20 drivers: ['3', '4', '5', '6', '7', '9', '10', '11', '14', '16', '18', '22', '31', '33', '44', '47', '55', '63', '77', '99']\n",
      "core           INFO \tLoading laps for Belgian Grand Prix - Practice 1 [v2.1.12]\n",
      "api            INFO \tUsing cached data for timing_data\n",
      "api            INFO \tUsing cached data for timing_app_data\n",
      "core           INFO \tProcessing timing data...\n",
      "api            INFO \tUsing cached data for driver_info\n",
      "api            INFO \tUsing cached data for session_status_data\n",
      "api            INFO \tUsing cached data for track_status_data\n",
      "api            INFO \tUsing cached data for weather_data\n",
      "core           INFO \tLoaded data for 20 drivers: ['3', '4', '5', '6', '7', '9', '10', '11', '14', '16', '18', '22', '31', '33', '44', '47', '55', '63', '77', '99']\n",
      "core           INFO \tLoading laps for Belgian Grand Prix - Practice 2 [v2.1.12]\n",
      "api            INFO \tUsing cached data for timing_data\n",
      "api            INFO \tUsing cached data for timing_app_data\n",
      "core           INFO \tProcessing timing data...\n",
      "api            INFO \tUsing cached data for driver_info\n",
      "api            INFO \tUsing cached data for session_status_data\n",
      "api            INFO \tUsing cached data for track_status_data\n",
      "api            INFO \tUsing cached data for weather_data\n",
      "core           INFO \tLoaded data for 20 drivers: ['3', '4', '5', '6', '7', '9', '10', '11', '14', '16', '18', '22', '31', '33', '44', '47', '55', '63', '77', '99']\n",
      "core           INFO \tLoading laps for Belgian Grand Prix - Practice 3 [v2.1.12]\n",
      "api            INFO \tUsing cached data for timing_data\n",
      "api            INFO \tUsing cached data for timing_app_data\n",
      "core           INFO \tProcessing timing data...\n",
      "api            INFO \tUsing cached data for driver_info\n",
      "api            INFO \tUsing cached data for session_status_data\n",
      "api            INFO \tUsing cached data for track_status_data\n",
      "api            INFO \tUsing cached data for weather_data\n",
      "core           INFO \tLoaded data for 20 drivers: ['3', '4', '5', '6', '7', '9', '10', '11', '14', '16', '18', '22', '31', '33', '44', '47', '55', '63', '77', '99']\n",
      "core           INFO \tLoading laps for Dutch Grand Prix - Practice 1 [v2.1.12]\n",
      "api            INFO \tUsing cached data for timing_data\n",
      "api            INFO \tUsing cached data for timing_app_data\n",
      "core           INFO \tProcessing timing data...\n",
      "api            INFO \tUsing cached data for driver_info\n",
      "api            INFO \tUsing cached data for session_status_data\n",
      "api            INFO \tUsing cached data for track_status_data\n",
      "api            INFO \tUsing cached data for weather_data\n",
      "core           INFO \tLoaded data for 20 drivers: ['3', '4', '5', '6', '7', '9', '10', '11', '14', '16', '18', '22', '31', '33', '44', '47', '55', '63', '77', '99']\n",
      "core           INFO \tLoading laps for Dutch Grand Prix - Practice 2 [v2.1.12]\n",
      "api            INFO \tUsing cached data for timing_data\n",
      "api            INFO \tUsing cached data for timing_app_data\n",
      "core           INFO \tProcessing timing data...\n",
      "api            INFO \tUsing cached data for driver_info\n",
      "api            INFO \tUsing cached data for session_status_data\n"
     ]
    },
    {
     "name": "stdout",
     "output_type": "stream",
     "text": [
      "problem on 2021 13 P1\n"
     ]
    },
    {
     "name": "stderr",
     "output_type": "stream",
     "text": [
      "api            INFO \tUsing cached data for track_status_data\n",
      "api            INFO \tUsing cached data for weather_data\n",
      "core           INFO \tLoaded data for 20 drivers: ['3', '4', '5', '6', '7', '9', '10', '11', '14', '16', '18', '22', '31', '33', '44', '47', '55', '63', '77', '99']\n",
      "core           INFO \tLoading laps for Dutch Grand Prix - Practice 3 [v2.1.12]\n",
      "api            INFO \tUsing cached data for timing_data\n",
      "api            INFO \tUsing cached data for timing_app_data\n",
      "core           INFO \tProcessing timing data...\n",
      "api            INFO \tUsing cached data for driver_info\n",
      "api            INFO \tUsing cached data for session_status_data\n"
     ]
    },
    {
     "name": "stdout",
     "output_type": "stream",
     "text": [
      "problem on 2021 13 P2\n"
     ]
    },
    {
     "name": "stderr",
     "output_type": "stream",
     "text": [
      "api            INFO \tUsing cached data for track_status_data\n",
      "api            INFO \tUsing cached data for weather_data\n",
      "core           INFO \tLoaded data for 20 drivers: ['3', '4', '5', '6', '9', '10', '11', '14', '16', '18', '22', '31', '33', '44', '47', '55', '63', '77', '88', '99']\n",
      "core           INFO \tLoading laps for Italian Grand Prix - Practice 1 [v2.1.12]\n",
      "api            INFO \tUsing cached data for timing_data\n",
      "api            INFO \tUsing cached data for timing_app_data\n",
      "core           INFO \tProcessing timing data...\n",
      "api            INFO \tUsing cached data for driver_info\n",
      "api            INFO \tUsing cached data for session_status_data\n",
      "api            INFO \tUsing cached data for track_status_data\n",
      "api            INFO \tUsing cached data for weather_data\n",
      "core           INFO \tLoaded data for 20 drivers: ['3', '4', '5', '6', '9', '10', '11', '14', '16', '18', '22', '31', '33', '44', '47', '55', '63', '77', '88', '99']\n",
      "core           INFO \tLoading laps for Italian Grand Prix - Practice 2 [v2.1.12]\n",
      "api            INFO \tUsing cached data for timing_data\n",
      "api            INFO \tUsing cached data for timing_app_data\n",
      "core           INFO \tProcessing timing data...\n",
      "api            INFO \tUsing cached data for driver_info\n",
      "api            INFO \tUsing cached data for session_status_data\n",
      "api            INFO \tUsing cached data for track_status_data\n",
      "api            INFO \tUsing cached data for weather_data\n",
      "core           INFO \tLoaded data for 20 drivers: ['3', '4', '5', '6', '9', '10', '11', '14', '16', '18', '22', '31', '33', '44', '47', '55', '63', '77', '88', '99']\n",
      "core           INFO \tLoading laps for Russian Grand Prix - Practice 1 [v2.1.12]\n",
      "api            INFO \tUsing cached data for timing_data\n",
      "api            INFO \tUsing cached data for timing_app_data\n",
      "core           INFO \tProcessing timing data...\n",
      "api            INFO \tUsing cached data for driver_info\n",
      "api            INFO \tUsing cached data for session_status_data\n"
     ]
    },
    {
     "name": "stdout",
     "output_type": "stream",
     "text": [
      "problem on 2021 14 P3\n"
     ]
    },
    {
     "name": "stderr",
     "output_type": "stream",
     "text": [
      "api            INFO \tUsing cached data for track_status_data\n",
      "api            INFO \tUsing cached data for weather_data\n",
      "core           INFO \tLoaded data for 20 drivers: ['3', '4', '5', '6', '7', '9', '10', '11', '14', '16', '18', '22', '31', '33', '44', '47', '55', '63', '77', '99']\n",
      "core           INFO \tLoading laps for Russian Grand Prix - Practice 2 [v2.1.12]\n",
      "api            INFO \tUsing cached data for timing_data\n",
      "api            INFO \tUsing cached data for timing_app_data\n",
      "core           INFO \tProcessing timing data...\n",
      "api            INFO \tUsing cached data for driver_info\n",
      "api            INFO \tUsing cached data for session_status_data\n",
      "api            INFO \tUsing cached data for track_status_data\n",
      "api            INFO \tUsing cached data for weather_data\n",
      "core           INFO \tLoaded data for 20 drivers: ['3', '4', '5', '6', '7', '9', '10', '11', '14', '16', '18', '22', '31', '33', '44', '47', '55', '63', '77', '99']\n",
      "core           INFO \tLoading laps for Russian Grand Prix - Practice 3 [v2.1.12]\n",
      "api            INFO \tNo cached data found for timing_data. Loading data...\n",
      "api            INFO \tFetching timing data...\n",
      "api            INFO \tParsing timing data...\n",
      "core           INFO \tLoading laps for Turkish Grand Prix - Practice 1 [v2.1.12]\n",
      "api            INFO \tUsing cached data for timing_data\n",
      "api            INFO \tUsing cached data for timing_app_data\n",
      "core           INFO \tProcessing timing data...\n",
      "api            INFO \tUsing cached data for driver_info\n",
      "api            INFO \tUsing cached data for session_status_data\n"
     ]
    },
    {
     "name": "stdout",
     "output_type": "stream",
     "text": [
      "problem on 2021 15 P3\n"
     ]
    },
    {
     "name": "stderr",
     "output_type": "stream",
     "text": [
      "api            INFO \tUsing cached data for track_status_data\n",
      "core        WARNING \tDriver  5: Lap timing integrity check failed for 1 lap(s)\n",
      "api            INFO \tUsing cached data for weather_data\n",
      "core           INFO \tLoaded data for 20 drivers: ['3', '4', '5', '6', '7', '9', '10', '11', '14', '16', '18', '22', '31', '33', '44', '47', '55', '63', '77', '99']\n",
      "core           INFO \tLoading laps for Turkish Grand Prix - Practice 2 [v2.1.12]\n",
      "api            INFO \tUsing cached data for timing_data\n",
      "api            INFO \tUsing cached data for timing_app_data\n",
      "core           INFO \tProcessing timing data...\n",
      "api            INFO \tUsing cached data for driver_info\n",
      "api            INFO \tUsing cached data for session_status_data\n",
      "api            INFO \tUsing cached data for track_status_data\n",
      "api            INFO \tUsing cached data for weather_data\n",
      "core           INFO \tLoaded data for 20 drivers: ['3', '4', '5', '6', '7', '9', '10', '11', '14', '16', '18', '22', '31', '33', '44', '47', '55', '63', '77', '99']\n",
      "core           INFO \tLoading laps for Turkish Grand Prix - Practice 3 [v2.1.12]\n",
      "api            INFO \tUsing cached data for timing_data\n",
      "api            INFO \tUsing cached data for timing_app_data\n",
      "core           INFO \tProcessing timing data...\n",
      "api            INFO \tUsing cached data for driver_info\n",
      "api            INFO \tUsing cached data for session_status_data\n",
      "api            INFO \tUsing cached data for track_status_data\n",
      "api            INFO \tUsing cached data for weather_data\n",
      "core           INFO \tLoaded data for 20 drivers: ['3', '4', '5', '6', '7', '9', '10', '11', '14', '16', '18', '22', '31', '33', '44', '47', '55', '63', '77', '99']\n",
      "core           INFO \tLoading laps for United States Grand Prix - Practice 1 [v2.1.12]\n",
      "api            INFO \tUsing cached data for timing_data\n",
      "api            INFO \tUsing cached data for timing_app_data\n",
      "core           INFO \tProcessing timing data...\n",
      "api            INFO \tUsing cached data for driver_info\n",
      "api            INFO \tUsing cached data for session_status_data\n"
     ]
    },
    {
     "name": "stdout",
     "output_type": "stream",
     "text": [
      "problem on 2021 16 P3\n"
     ]
    },
    {
     "name": "stderr",
     "output_type": "stream",
     "text": [
      "api            INFO \tUsing cached data for track_status_data\n",
      "api            INFO \tUsing cached data for weather_data\n",
      "core           INFO \tLoaded data for 20 drivers: ['3', '4', '5', '6', '7', '9', '10', '11', '14', '16', '18', '22', '31', '33', '44', '47', '55', '63', '77', '99']\n",
      "core           INFO \tLoading laps for United States Grand Prix - Practice 2 [v2.1.12]\n",
      "api            INFO \tUsing cached data for timing_data\n",
      "api            INFO \tUsing cached data for timing_app_data\n",
      "core           INFO \tProcessing timing data...\n",
      "api            INFO \tUsing cached data for driver_info\n",
      "api            INFO \tUsing cached data for session_status_data\n",
      "api            INFO \tUsing cached data for track_status_data\n",
      "api            INFO \tUsing cached data for weather_data\n",
      "core           INFO \tLoaded data for 20 drivers: ['3', '4', '5', '6', '7', '9', '10', '11', '14', '16', '18', '22', '31', '33', '44', '47', '55', '63', '77', '99']\n",
      "core           INFO \tLoading laps for United States Grand Prix - Practice 3 [v2.1.12]\n",
      "api            INFO \tUsing cached data for timing_data\n",
      "api            INFO \tUsing cached data for timing_app_data\n",
      "core           INFO \tProcessing timing data...\n",
      "api            INFO \tUsing cached data for driver_info\n",
      "api            INFO \tUsing cached data for session_status_data\n",
      "api            INFO \tUsing cached data for track_status_data\n",
      "api            INFO \tUsing cached data for weather_data\n",
      "core           INFO \tLoaded data for 20 drivers: ['3', '4', '5', '6', '7', '9', '10', '11', '14', '16', '18', '22', '31', '33', '44', '47', '55', '63', '77', '99']\n",
      "core           INFO \tLoading laps for Mexico City Grand Prix - Practice 1 [v2.1.12]\n",
      "api            INFO \tUsing cached data for timing_data\n",
      "api            INFO \tUsing cached data for timing_app_data\n",
      "core           INFO \tProcessing timing data...\n",
      "api            INFO \tUsing cached data for driver_info\n",
      "api            INFO \tUsing cached data for session_status_data\n",
      "api            INFO \tUsing cached data for track_status_data\n",
      "api            INFO \tUsing cached data for weather_data\n",
      "core           INFO \tLoaded data for 20 drivers: ['3', '4', '5', '6', '7', '9', '10', '11', '14', '16', '18', '22', '31', '33', '44', '47', '55', '63', '77', '99']\n",
      "core           INFO \tLoading laps for Mexico City Grand Prix - Practice 2 [v2.1.12]\n",
      "api            INFO \tUsing cached data for timing_data\n",
      "api            INFO \tUsing cached data for timing_app_data\n",
      "core           INFO \tProcessing timing data...\n",
      "api            INFO \tUsing cached data for driver_info\n",
      "api            INFO \tUsing cached data for session_status_data\n",
      "api            INFO \tUsing cached data for track_status_data\n",
      "api            INFO \tUsing cached data for weather_data\n",
      "core           INFO \tLoaded data for 20 drivers: ['3', '4', '5', '6', '7', '9', '10', '11', '14', '16', '18', '22', '31', '33', '44', '47', '55', '63', '77', '99']\n",
      "core           INFO \tLoading laps for Mexico City Grand Prix - Practice 3 [v2.1.12]\n",
      "api            INFO \tUsing cached data for timing_data\n",
      "api            INFO \tUsing cached data for timing_app_data\n",
      "core           INFO \tProcessing timing data...\n",
      "api            INFO \tUsing cached data for driver_info\n",
      "api            INFO \tUsing cached data for session_status_data\n",
      "api            INFO \tUsing cached data for track_status_data\n",
      "api            INFO \tUsing cached data for weather_data\n",
      "core           INFO \tLoaded data for 20 drivers: ['3', '4', '5', '6', '7', '9', '10', '11', '14', '16', '18', '22', '31', '33', '44', '47', '55', '63', '77', '99']\n",
      "core           INFO \tLoading laps for São Paulo Grand Prix - Practice 1 [v2.1.12]\n",
      "api            INFO \tUsing cached data for timing_data\n",
      "api            INFO \tUsing cached data for timing_app_data\n",
      "core           INFO \tProcessing timing data...\n",
      "api            INFO \tUsing cached data for driver_info\n",
      "api            INFO \tUsing cached data for session_status_data\n",
      "api            INFO \tUsing cached data for track_status_data\n",
      "api            INFO \tUsing cached data for weather_data\n",
      "core           INFO \tLoaded data for 20 drivers: ['3', '4', '5', '6', '7', '9', '10', '11', '14', '16', '18', '22', '31', '33', '44', '47', '55', '63', '77', '99']\n",
      "core           INFO \tLoading laps for São Paulo Grand Prix - Practice 2 [v2.1.12]\n",
      "api            INFO \tUsing cached data for timing_data\n",
      "api            INFO \tUsing cached data for timing_app_data\n",
      "core           INFO \tProcessing timing data...\n",
      "api            INFO \tUsing cached data for driver_info\n",
      "api            INFO \tUsing cached data for session_status_data\n",
      "api            INFO \tUsing cached data for track_status_data\n",
      "api            INFO \tUsing cached data for weather_data\n",
      "core           INFO \tLoaded data for 20 drivers: ['3', '4', '5', '6', '7', '9', '10', '11', '14', '16', '18', '22', '31', '33', '44', '47', '55', '63', '77', '99']\n",
      "core           INFO \tLoading laps for Qatar Grand Prix - Practice 1 [v2.1.12]\n",
      "api            INFO \tUsing cached data for timing_data\n",
      "api            INFO \tUsing cached data for timing_app_data\n",
      "core           INFO \tProcessing timing data...\n",
      "api            INFO \tUsing cached data for driver_info\n",
      "api            INFO \tUsing cached data for session_status_data\n"
     ]
    },
    {
     "name": "stdout",
     "output_type": "stream",
     "text": [
      "problem on 2021 19 P3\n"
     ]
    },
    {
     "name": "stderr",
     "output_type": "stream",
     "text": [
      "api            INFO \tUsing cached data for track_status_data\n",
      "api            INFO \tUsing cached data for weather_data\n",
      "core           INFO \tLoaded data for 20 drivers: ['3', '4', '5', '6', '7', '9', '10', '11', '14', '16', '18', '22', '31', '33', '44', '47', '55', '63', '77', '99']\n",
      "core           INFO \tLoading laps for Qatar Grand Prix - Practice 2 [v2.1.12]\n",
      "api            INFO \tUsing cached data for timing_data\n",
      "api            INFO \tUsing cached data for timing_app_data\n",
      "core           INFO \tProcessing timing data...\n",
      "api            INFO \tUsing cached data for driver_info\n",
      "api            INFO \tUsing cached data for session_status_data\n",
      "api            INFO \tUsing cached data for track_status_data\n",
      "api            INFO \tUsing cached data for weather_data\n",
      "core           INFO \tLoaded data for 20 drivers: ['3', '4', '5', '6', '7', '9', '10', '11', '14', '16', '18', '22', '31', '33', '44', '47', '55', '63', '77', '99']\n",
      "core           INFO \tLoading laps for Qatar Grand Prix - Practice 3 [v2.1.12]\n",
      "api            INFO \tUsing cached data for timing_data\n",
      "api            INFO \tUsing cached data for timing_app_data\n",
      "core           INFO \tProcessing timing data...\n",
      "api            INFO \tUsing cached data for driver_info\n",
      "api            INFO \tUsing cached data for session_status_data\n",
      "api            INFO \tUsing cached data for track_status_data\n",
      "api            INFO \tUsing cached data for weather_data\n",
      "core           INFO \tLoaded data for 20 drivers: ['3', '4', '5', '6', '7', '9', '10', '11', '14', '16', '18', '22', '31', '33', '44', '47', '55', '63', '77', '99']\n",
      "core           INFO \tLoading laps for Saudi Arabian Grand Prix - Practice 1 [v2.1.12]\n",
      "api            INFO \tUsing cached data for timing_data\n",
      "api            INFO \tUsing cached data for timing_app_data\n",
      "core           INFO \tProcessing timing data...\n",
      "api            INFO \tUsing cached data for driver_info\n",
      "api            INFO \tUsing cached data for session_status_data\n",
      "api            INFO \tUsing cached data for track_status_data\n",
      "api            INFO \tUsing cached data for weather_data\n",
      "core           INFO \tLoaded data for 20 drivers: ['3', '4', '5', '6', '7', '9', '10', '11', '14', '16', '18', '22', '31', '33', '44', '47', '55', '63', '77', '99']\n",
      "core           INFO \tLoading laps for Saudi Arabian Grand Prix - Practice 2 [v2.1.12]\n",
      "api            INFO \tUsing cached data for timing_data\n",
      "api            INFO \tUsing cached data for timing_app_data\n",
      "core           INFO \tProcessing timing data...\n",
      "api            INFO \tUsing cached data for driver_info\n",
      "api            INFO \tUsing cached data for session_status_data\n",
      "api            INFO \tUsing cached data for track_status_data\n",
      "api            INFO \tUsing cached data for weather_data\n",
      "core           INFO \tLoaded data for 20 drivers: ['3', '4', '5', '6', '7', '9', '10', '11', '14', '16', '18', '22', '31', '33', '44', '47', '55', '63', '77', '99']\n",
      "core           INFO \tLoading laps for Saudi Arabian Grand Prix - Practice 3 [v2.1.12]\n",
      "api            INFO \tUsing cached data for timing_data\n",
      "api            INFO \tUsing cached data for timing_app_data\n",
      "core           INFO \tProcessing timing data...\n",
      "api            INFO \tUsing cached data for driver_info\n",
      "api            INFO \tUsing cached data for session_status_data\n",
      "api            INFO \tUsing cached data for track_status_data\n",
      "api            INFO \tUsing cached data for weather_data\n",
      "core           INFO \tLoaded data for 20 drivers: ['3', '4', '5', '6', '7', '9', '10', '11', '14', '16', '18', '22', '31', '33', '44', '47', '55', '63', '77', '99']\n",
      "core           INFO \tLoading laps for Abu Dhabi Grand Prix - Practice 1 [v2.1.12]\n",
      "api            INFO \tUsing cached data for timing_data\n",
      "api            INFO \tUsing cached data for timing_app_data\n",
      "core           INFO \tProcessing timing data...\n",
      "api            INFO \tUsing cached data for driver_info\n",
      "api            INFO \tUsing cached data for session_status_data\n",
      "api            INFO \tUsing cached data for track_status_data\n",
      "api            INFO \tUsing cached data for weather_data\n",
      "core           INFO \tLoaded data for 20 drivers: ['3', '4', '5', '6', '7', '9', '10', '11', '14', '16', '18', '22', '31', '33', '44', '47', '55', '77', '89', '99']\n",
      "core           INFO \tLoading laps for Abu Dhabi Grand Prix - Practice 2 [v2.1.12]\n",
      "api            INFO \tUsing cached data for timing_data\n",
      "api            INFO \tUsing cached data for timing_app_data\n",
      "core           INFO \tProcessing timing data...\n",
      "api            INFO \tUsing cached data for driver_info\n",
      "api            INFO \tUsing cached data for session_status_data\n"
     ]
    },
    {
     "name": "stdout",
     "output_type": "stream",
     "text": [
      "problem on 2021 22 P1\n"
     ]
    },
    {
     "name": "stderr",
     "output_type": "stream",
     "text": [
      "api            INFO \tUsing cached data for track_status_data\n",
      "api            INFO \tUsing cached data for weather_data\n",
      "core           INFO \tLoaded data for 20 drivers: ['3', '4', '5', '6', '7', '9', '10', '11', '14', '16', '18', '22', '31', '33', '44', '47', '55', '63', '77', '99']\n",
      "core           INFO \tLoading laps for Abu Dhabi Grand Prix - Practice 3 [v2.1.12]\n",
      "api            INFO \tUsing cached data for timing_data\n",
      "api            INFO \tUsing cached data for timing_app_data\n",
      "core           INFO \tProcessing timing data...\n",
      "api            INFO \tUsing cached data for driver_info\n",
      "api            INFO \tUsing cached data for session_status_data\n"
     ]
    },
    {
     "name": "stdout",
     "output_type": "stream",
     "text": [
      "problem on 2021 22 P2\n"
     ]
    },
    {
     "name": "stderr",
     "output_type": "stream",
     "text": [
      "api            INFO \tUsing cached data for track_status_data\n",
      "api            INFO \tUsing cached data for weather_data\n",
      "core           INFO \tLoaded data for 20 drivers: ['3', '4', '5', '6', '7', '9', '10', '11', '14', '16', '18', '22', '31', '33', '44', '47', '55', '63', '77', '99']\n"
     ]
    },
    {
     "name": "stdout",
     "output_type": "stream",
     "text": [
      "problem on 2021 22 P3\n"
     ]
    }
   ],
   "source": [
    "WriteAllData()"
   ]
  },
  {
   "cell_type": "code",
   "execution_count": null,
   "id": "f6426bd7",
   "metadata": {},
   "outputs": [],
   "source": []
  }
 ],
 "metadata": {
  "kernelspec": {
   "display_name": "Python 3",
   "language": "python",
   "name": "python3"
  },
  "language_info": {
   "codemirror_mode": {
    "name": "ipython",
    "version": 3
   },
   "file_extension": ".py",
   "mimetype": "text/x-python",
   "name": "python",
   "nbconvert_exporter": "python",
   "pygments_lexer": "ipython3",
   "version": "3.8.8"
  }
 },
 "nbformat": 4,
 "nbformat_minor": 5
}
