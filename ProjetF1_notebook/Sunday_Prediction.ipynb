{
 "cells": [
  {
   "cell_type": "markdown",
   "metadata": {},
   "source": [
    "# This notebook shows the process from collecting data, to finding the best model for Formula One prediction"
   ]
  },
  {
   "cell_type": "markdown",
   "metadata": {},
   "source": [
    "The objective here is to obtain a data representing the full grand Prix week end, for every drivers.\n",
    "Now we have those informations in the data depending on the session name. \n",
    "In  our case we need to have them in the same row.\n",
    "\n",
    "Summary : Gather all prediction models attempts, correlation and models performance graphs\n",
    "1) “allData.csv” preparation for AI 2)  Training, pruning and best model selection 3)  Result analysis"
   ]
  },
  {
   "cell_type": "markdown",
   "metadata": {},
   "source": [
    "### Import the data and the tools"
   ]
  },
  {
   "cell_type": "code",
   "execution_count": 1,
   "metadata": {},
   "outputs": [],
   "source": [
    "import numpy as np\n",
    "import sklearn\n",
    "import matplotlib.pyplot as plt\n",
    "import seaborn as sns\n",
    "import pandas as pd"
   ]
  },
  {
   "cell_type": "code",
   "execution_count": 2,
   "metadata": {},
   "outputs": [],
   "source": [
    "data = pd.read_csv(r'..\\Data\\allData.csv')"
   ]
  },
  {
   "cell_type": "markdown",
   "metadata": {},
   "source": [
    "## Checking the data"
   ]
  },
  {
   "cell_type": "code",
   "execution_count": 3,
   "metadata": {},
   "outputs": [
    {
     "data": {
      "text/plain": [
       "(6625, 25)"
      ]
     },
     "execution_count": 3,
     "metadata": {},
     "output_type": "execute_result"
    }
   ],
   "source": [
    "data.shape"
   ]
  },
  {
   "cell_type": "code",
   "execution_count": 4,
   "metadata": {
    "scrolled": true
   },
   "outputs": [
    {
     "data": {
      "text/plain": [
       "Index(['number', 'position', 'Q1', 'Q2', 'Q3', 'positionText', 'points',\n",
       "       'grid', 'laps', 'status', 'year', 'gpName', 'gpNumber', 'sessionName',\n",
       "       'driverId', 'code', 'DriverNationality', 'constructorId',\n",
       "       'constructorNationality', 'fastestLapNumber', 'fastestLapRank',\n",
       "       'fastestLapAvgSpeed', 'fastestLapTime', 'totalTime', 'TimeInterval'],\n",
       "      dtype='object')"
      ]
     },
     "execution_count": 4,
     "metadata": {},
     "output_type": "execute_result"
    }
   ],
   "source": [
    "data.columns"
   ]
  },
  {
   "cell_type": "code",
   "execution_count": 5,
   "metadata": {},
   "outputs": [
    {
     "data": {
      "text/html": [
       "<div>\n",
       "<style scoped>\n",
       "    .dataframe tbody tr th:only-of-type {\n",
       "        vertical-align: middle;\n",
       "    }\n",
       "\n",
       "    .dataframe tbody tr th {\n",
       "        vertical-align: top;\n",
       "    }\n",
       "\n",
       "    .dataframe thead th {\n",
       "        text-align: right;\n",
       "    }\n",
       "</style>\n",
       "<table border=\"1\" class=\"dataframe\">\n",
       "  <thead>\n",
       "    <tr style=\"text-align: right;\">\n",
       "      <th></th>\n",
       "      <th>number</th>\n",
       "      <th>position</th>\n",
       "      <th>points</th>\n",
       "      <th>grid</th>\n",
       "      <th>laps</th>\n",
       "      <th>year</th>\n",
       "      <th>gpNumber</th>\n",
       "      <th>fastestLapNumber</th>\n",
       "      <th>fastestLapRank</th>\n",
       "      <th>fastestLapAvgSpeed</th>\n",
       "      <th>totalTime</th>\n",
       "    </tr>\n",
       "  </thead>\n",
       "  <tbody>\n",
       "    <tr>\n",
       "      <th>count</th>\n",
       "      <td>6625.000000</td>\n",
       "      <td>6625.000000</td>\n",
       "      <td>1619.000000</td>\n",
       "      <td>1619.000000</td>\n",
       "      <td>1619.000000</td>\n",
       "      <td>6625.000000</td>\n",
       "      <td>6625.000000</td>\n",
       "      <td>4935.000000</td>\n",
       "      <td>4935.000000</td>\n",
       "      <td>1546.000000</td>\n",
       "      <td>7.960000e+02</td>\n",
       "    </tr>\n",
       "    <tr>\n",
       "      <th>mean</th>\n",
       "      <td>28.059925</td>\n",
       "      <td>10.479547</td>\n",
       "      <td>5.066399</td>\n",
       "      <td>10.155652</td>\n",
       "      <td>54.329216</td>\n",
       "      <td>2019.506113</td>\n",
       "      <td>10.544906</td>\n",
       "      <td>23.296251</td>\n",
       "      <td>10.382776</td>\n",
       "      <td>210.685937</td>\n",
       "      <td>5.697824e+06</td>\n",
       "    </tr>\n",
       "    <tr>\n",
       "      <th>std</th>\n",
       "      <td>25.708990</td>\n",
       "      <td>5.757025</td>\n",
       "      <td>7.218282</td>\n",
       "      <td>5.818685</td>\n",
       "      <td>17.921190</td>\n",
       "      <td>1.147093</td>\n",
       "      <td>5.960681</td>\n",
       "      <td>18.526019</td>\n",
       "      <td>5.711727</td>\n",
       "      <td>19.654407</td>\n",
       "      <td>1.287765e+06</td>\n",
       "    </tr>\n",
       "    <tr>\n",
       "      <th>min</th>\n",
       "      <td>2.000000</td>\n",
       "      <td>1.000000</td>\n",
       "      <td>0.000000</td>\n",
       "      <td>0.000000</td>\n",
       "      <td>0.000000</td>\n",
       "      <td>2018.000000</td>\n",
       "      <td>1.000000</td>\n",
       "      <td>2.000000</td>\n",
       "      <td>1.000000</td>\n",
       "      <td>140.802000</td>\n",
       "      <td>2.070710e+05</td>\n",
       "    </tr>\n",
       "    <tr>\n",
       "      <th>25%</th>\n",
       "      <td>8.000000</td>\n",
       "      <td>5.000000</td>\n",
       "      <td>0.000000</td>\n",
       "      <td>5.000000</td>\n",
       "      <td>52.000000</td>\n",
       "      <td>2018.000000</td>\n",
       "      <td>5.000000</td>\n",
       "      <td>10.000000</td>\n",
       "      <td>5.000000</td>\n",
       "      <td>200.297250</td>\n",
       "      <td>5.282710e+06</td>\n",
       "    </tr>\n",
       "    <tr>\n",
       "      <th>50%</th>\n",
       "      <td>18.000000</td>\n",
       "      <td>10.000000</td>\n",
       "      <td>1.000000</td>\n",
       "      <td>10.000000</td>\n",
       "      <td>56.000000</td>\n",
       "      <td>2019.000000</td>\n",
       "      <td>10.000000</td>\n",
       "      <td>14.000000</td>\n",
       "      <td>10.000000</td>\n",
       "      <td>210.106500</td>\n",
       "      <td>5.596877e+06</td>\n",
       "    </tr>\n",
       "    <tr>\n",
       "      <th>75%</th>\n",
       "      <td>44.000000</td>\n",
       "      <td>15.000000</td>\n",
       "      <td>8.000000</td>\n",
       "      <td>15.000000</td>\n",
       "      <td>67.000000</td>\n",
       "      <td>2021.000000</td>\n",
       "      <td>16.000000</td>\n",
       "      <td>37.000000</td>\n",
       "      <td>15.000000</td>\n",
       "      <td>224.515500</td>\n",
       "      <td>5.948403e+06</td>\n",
       "    </tr>\n",
       "    <tr>\n",
       "      <th>max</th>\n",
       "      <td>99.000000</td>\n",
       "      <td>20.000000</td>\n",
       "      <td>27.000000</td>\n",
       "      <td>20.000000</td>\n",
       "      <td>87.000000</td>\n",
       "      <td>2021.000000</td>\n",
       "      <td>22.000000</td>\n",
       "      <td>85.000000</td>\n",
       "      <td>20.000000</td>\n",
       "      <td>255.014000</td>\n",
       "      <td>1.081032e+07</td>\n",
       "    </tr>\n",
       "  </tbody>\n",
       "</table>\n",
       "</div>"
      ],
      "text/plain": [
       "            number     position       points         grid         laps  \\\n",
       "count  6625.000000  6625.000000  1619.000000  1619.000000  1619.000000   \n",
       "mean     28.059925    10.479547     5.066399    10.155652    54.329216   \n",
       "std      25.708990     5.757025     7.218282     5.818685    17.921190   \n",
       "min       2.000000     1.000000     0.000000     0.000000     0.000000   \n",
       "25%       8.000000     5.000000     0.000000     5.000000    52.000000   \n",
       "50%      18.000000    10.000000     1.000000    10.000000    56.000000   \n",
       "75%      44.000000    15.000000     8.000000    15.000000    67.000000   \n",
       "max      99.000000    20.000000    27.000000    20.000000    87.000000   \n",
       "\n",
       "              year     gpNumber  fastestLapNumber  fastestLapRank  \\\n",
       "count  6625.000000  6625.000000       4935.000000     4935.000000   \n",
       "mean   2019.506113    10.544906         23.296251       10.382776   \n",
       "std       1.147093     5.960681         18.526019        5.711727   \n",
       "min    2018.000000     1.000000          2.000000        1.000000   \n",
       "25%    2018.000000     5.000000         10.000000        5.000000   \n",
       "50%    2019.000000    10.000000         14.000000       10.000000   \n",
       "75%    2021.000000    16.000000         37.000000       15.000000   \n",
       "max    2021.000000    22.000000         85.000000       20.000000   \n",
       "\n",
       "       fastestLapAvgSpeed     totalTime  \n",
       "count         1546.000000  7.960000e+02  \n",
       "mean           210.685937  5.697824e+06  \n",
       "std             19.654407  1.287765e+06  \n",
       "min            140.802000  2.070710e+05  \n",
       "25%            200.297250  5.282710e+06  \n",
       "50%            210.106500  5.596877e+06  \n",
       "75%            224.515500  5.948403e+06  \n",
       "max            255.014000  1.081032e+07  "
      ]
     },
     "execution_count": 5,
     "metadata": {},
     "output_type": "execute_result"
    }
   ],
   "source": [
    "data.describe()"
   ]
  },
  {
   "cell_type": "markdown",
   "metadata": {},
   "source": [
    "## Spliting the data into the practice, the race and qualifying "
   ]
  },
  {
   "cell_type": "markdown",
   "metadata": {},
   "source": [
    " The goal of this step is to be able to merge the data to obtain a good data structure for processing"
   ]
  },
  {
   "cell_type": "code",
   "execution_count": 6,
   "metadata": {},
   "outputs": [],
   "source": [
    "df_race = data[data['sessionName'] == 'Race']"
   ]
  },
  {
   "cell_type": "code",
   "execution_count": 7,
   "metadata": {},
   "outputs": [],
   "source": [
    "df_practice1 = data[data['sessionName'] == 'Practice 1'][['fastestLapRank','fastestLapTime','year','gpName','driverId']]"
   ]
  },
  {
   "cell_type": "code",
   "execution_count": 8,
   "metadata": {},
   "outputs": [],
   "source": [
    "df_practice2 = data[data['sessionName'] == 'Practice 2'][['fastestLapRank','fastestLapTime','year','gpName','driverId']]"
   ]
  },
  {
   "cell_type": "code",
   "execution_count": 9,
   "metadata": {},
   "outputs": [],
   "source": [
    "df_practice3 = data[data['sessionName'] == 'Practice 3'][['fastestLapRank','fastestLapTime','year','gpName','driverId']]"
   ]
  },
  {
   "cell_type": "code",
   "execution_count": 10,
   "metadata": {},
   "outputs": [],
   "source": [
    "df_practice1 = df_practice1.rename(columns={\"fastestLapRank\": \"fastestLapRankP1\",\"fastestLapTime\": \"fastestLapTimeP1\"})\n",
    "df_practice2 = df_practice2.rename(columns={\"fastestLapRank\": \"fastestLapRankP2\",\"fastestLapTime\": \"fastestLapTimeP2\"})\n",
    "df_practice3 = df_practice3.rename(columns={\"fastestLapRank\": \"fastestLapRankP3\",\"fastestLapTime\": \"fastestLapTimeP3\"})"
   ]
  },
  {
   "cell_type": "code",
   "execution_count": 11,
   "metadata": {},
   "outputs": [],
   "source": [
    "df_quali = data[data['sessionName'] == 'Qualifying'][['Q1','Q2','Q3','year','gpName','driverId']]"
   ]
  },
  {
   "cell_type": "markdown",
   "metadata": {},
   "source": [
    "#### Data manipulation on race and qualifying to merge them "
   ]
  },
  {
   "cell_type": "code",
   "execution_count": 12,
   "metadata": {
    "scrolled": false
   },
   "outputs": [
    {
     "data": {
      "text/plain": [
       "number                       0\n",
       "position                     0\n",
       "Q1                        1619\n",
       "Q2                        1619\n",
       "Q3                        1619\n",
       "positionText                 0\n",
       "points                       0\n",
       "grid                         0\n",
       "laps                         0\n",
       "status                       0\n",
       "year                         0\n",
       "gpName                       0\n",
       "gpNumber                     0\n",
       "sessionName                  0\n",
       "driverId                     0\n",
       "code                         0\n",
       "DriverNationality            0\n",
       "constructorId                0\n",
       "constructorNationality       0\n",
       "fastestLapNumber            73\n",
       "fastestLapRank              73\n",
       "fastestLapAvgSpeed          73\n",
       "fastestLapTime              73\n",
       "totalTime                  823\n",
       "TimeInterval               823\n",
       "dtype: int64"
      ]
     },
     "execution_count": 12,
     "metadata": {},
     "output_type": "execute_result"
    }
   ],
   "source": [
    "df_race.isna().sum()"
   ]
  },
  {
   "cell_type": "code",
   "execution_count": 13,
   "metadata": {},
   "outputs": [],
   "source": [
    "df_race = df_race.drop(['Q1','Q2','Q3'], axis=1)"
   ]
  },
  {
   "cell_type": "code",
   "execution_count": 14,
   "metadata": {},
   "outputs": [
    {
     "data": {
      "text/plain": [
       "count    7.960000e+02\n",
       "mean     5.697824e+06\n",
       "std      1.287765e+06\n",
       "min      2.070710e+05\n",
       "25%      5.282710e+06\n",
       "50%      5.596877e+06\n",
       "75%      5.948403e+06\n",
       "max      1.081032e+07\n",
       "Name: totalTime, dtype: float64"
      ]
     },
     "execution_count": 14,
     "metadata": {},
     "output_type": "execute_result"
    }
   ],
   "source": [
    "df_race['totalTime'].describe()"
   ]
  },
  {
   "cell_type": "code",
   "execution_count": 15,
   "metadata": {},
   "outputs": [],
   "source": [
    "df_race['totalTime'] = df_race['totalTime'].fillna(df_race['totalTime'].max())"
   ]
  },
  {
   "cell_type": "code",
   "execution_count": 16,
   "metadata": {
    "scrolled": false
   },
   "outputs": [
    {
     "data": {
      "text/plain": [
       "number                      0\n",
       "position                    0\n",
       "positionText                0\n",
       "points                      0\n",
       "grid                        0\n",
       "laps                        0\n",
       "status                      0\n",
       "year                        0\n",
       "gpName                      0\n",
       "gpNumber                    0\n",
       "sessionName                 0\n",
       "driverId                    0\n",
       "code                        0\n",
       "DriverNationality           0\n",
       "constructorId               0\n",
       "constructorNationality      0\n",
       "fastestLapNumber           73\n",
       "fastestLapRank             73\n",
       "fastestLapAvgSpeed         73\n",
       "fastestLapTime             73\n",
       "totalTime                   0\n",
       "TimeInterval              823\n",
       "dtype: int64"
      ]
     },
     "execution_count": 16,
     "metadata": {},
     "output_type": "execute_result"
    }
   ],
   "source": [
    "df_race.isna().sum()"
   ]
  },
  {
   "cell_type": "markdown",
   "metadata": {},
   "source": [
    "first step of our data creation, the race is combined to the qualifying for each drivers "
   ]
  },
  {
   "cell_type": "code",
   "execution_count": 17,
   "metadata": {},
   "outputs": [],
   "source": [
    "race_quali = pd.merge(df_race, df_quali, how=\"left\", on=['year','gpName','driverId'])"
   ]
  },
  {
   "cell_type": "code",
   "execution_count": 18,
   "metadata": {},
   "outputs": [
    {
     "data": {
      "text/plain": [
       "(1619, 25)"
      ]
     },
     "execution_count": 18,
     "metadata": {},
     "output_type": "execute_result"
    }
   ],
   "source": [
    "race_quali.shape "
   ]
  },
  {
   "cell_type": "code",
   "execution_count": 19,
   "metadata": {},
   "outputs": [
    {
     "data": {
      "text/plain": [
       "Index(['number', 'position', 'positionText', 'points', 'grid', 'laps',\n",
       "       'status', 'year', 'gpName', 'gpNumber', 'sessionName', 'driverId',\n",
       "       'code', 'DriverNationality', 'constructorId', 'constructorNationality',\n",
       "       'fastestLapNumber', 'fastestLapRank', 'fastestLapAvgSpeed',\n",
       "       'fastestLapTime', 'totalTime', 'TimeInterval', 'Q1', 'Q2', 'Q3'],\n",
       "      dtype='object')"
      ]
     },
     "execution_count": 19,
     "metadata": {},
     "output_type": "execute_result"
    }
   ],
   "source": [
    "race_quali.columns"
   ]
  },
  {
   "cell_type": "markdown",
   "metadata": {},
   "source": [
    "Second step is to combined the practices data with "
   ]
  },
  {
   "cell_type": "code",
   "execution_count": 20,
   "metadata": {},
   "outputs": [],
   "source": [
    "race_quali_1 = pd.merge(race_quali, df_practice1, how=\"left\", on=['year','gpName','driverId'])"
   ]
  },
  {
   "cell_type": "code",
   "execution_count": 21,
   "metadata": {},
   "outputs": [],
   "source": [
    "race_quali_12 = pd.merge(race_quali_1, df_practice2, how=\"left\", on=['year','gpName','driverId'])"
   ]
  },
  {
   "cell_type": "code",
   "execution_count": 22,
   "metadata": {},
   "outputs": [],
   "source": [
    "data_complete = pd.merge(race_quali_12, df_practice3, how=\"left\", on=['year','gpName','driverId'])"
   ]
  },
  {
   "cell_type": "code",
   "execution_count": 23,
   "metadata": {},
   "outputs": [
    {
     "data": {
      "text/plain": [
       "Index(['number', 'position', 'positionText', 'points', 'grid', 'laps',\n",
       "       'status', 'year', 'gpName', 'gpNumber', 'sessionName', 'driverId',\n",
       "       'code', 'DriverNationality', 'constructorId', 'constructorNationality',\n",
       "       'fastestLapNumber', 'fastestLapRank', 'fastestLapAvgSpeed',\n",
       "       'fastestLapTime', 'totalTime', 'TimeInterval', 'Q1', 'Q2', 'Q3',\n",
       "       'fastestLapRankP1', 'fastestLapTimeP1', 'fastestLapRankP2',\n",
       "       'fastestLapTimeP2', 'fastestLapRankP3', 'fastestLapTimeP3'],\n",
       "      dtype='object')"
      ]
     },
     "execution_count": 23,
     "metadata": {},
     "output_type": "execute_result"
    }
   ],
   "source": [
    "data_complete.columns"
   ]
  },
  {
   "cell_type": "code",
   "execution_count": 24,
   "metadata": {},
   "outputs": [
    {
     "data": {
      "text/plain": [
       "(1619, 31)"
      ]
     },
     "execution_count": 24,
     "metadata": {},
     "output_type": "execute_result"
    }
   ],
   "source": [
    "data_complete.shape"
   ]
  },
  {
   "cell_type": "markdown",
   "metadata": {},
   "source": [
    "We have now finaly a data that represent the entire week end (Grand prix) for a driver "
   ]
  },
  {
   "cell_type": "markdown",
   "metadata": {},
   "source": [
    "# Now we have to make the data suitable for the predictions  "
   ]
  },
  {
   "cell_type": "markdown",
   "metadata": {},
   "source": [
    "We want to predict the position of a driver before the race but after the practices sessions and the qualifying. \n",
    "To do so we have to predict the variable \" Position \". \n",
    "To avoid biased predictions, we have to drop the variables that are calculated after the race.\n",
    "We will also drop the variables that are representing the same information ( number, code, driverID represente the same information)."
   ]
  },
  {
   "cell_type": "code",
   "execution_count": 25,
   "metadata": {},
   "outputs": [],
   "source": [
    "df_pred_postion = data_complete.drop(['positionText','points','laps','status','fastestLapNumber', 'fastestLapRank', 'fastestLapAvgSpeed',\n",
    "       'fastestLapTime', 'totalTime', 'TimeInterval','code','driverId','sessionName'], axis=1)"
   ]
  },
  {
   "cell_type": "code",
   "execution_count": 26,
   "metadata": {},
   "outputs": [
    {
     "data": {
      "text/plain": [
       "(1619, 18)"
      ]
     },
     "execution_count": 26,
     "metadata": {},
     "output_type": "execute_result"
    }
   ],
   "source": [
    "df_pred_postion.shape"
   ]
  },
  {
   "cell_type": "code",
   "execution_count": 27,
   "metadata": {},
   "outputs": [
    {
     "data": {
      "text/plain": [
       "number                      0\n",
       "position                    0\n",
       "grid                        0\n",
       "year                        0\n",
       "gpName                      0\n",
       "gpNumber                    0\n",
       "DriverNationality           0\n",
       "constructorId               0\n",
       "constructorNationality      0\n",
       "Q1                         26\n",
       "Q2                        434\n",
       "Q3                        828\n",
       "fastestLapRankP1          880\n",
       "fastestLapTimeP1          880\n",
       "fastestLapRankP2          207\n",
       "fastestLapTimeP2          207\n",
       "fastestLapRankP3          381\n",
       "fastestLapTimeP3          381\n",
       "dtype: int64"
      ]
     },
     "execution_count": 27,
     "metadata": {},
     "output_type": "execute_result"
    }
   ],
   "source": [
    "df_pred_postion.isna().sum()"
   ]
  },
  {
   "cell_type": "markdown",
   "metadata": {},
   "source": [
    "## Dealing with NaN values and conversion"
   ]
  },
  {
   "cell_type": "code",
   "execution_count": 28,
   "metadata": {},
   "outputs": [
    {
     "data": {
      "text/plain": [
       "count                       1238\n",
       "unique                      1222\n",
       "top       0 days 00:01:05.228000\n",
       "freq                           2\n",
       "Name: fastestLapTimeP3, dtype: object"
      ]
     },
     "execution_count": 28,
     "metadata": {},
     "output_type": "execute_result"
    }
   ],
   "source": [
    "df_pred_postion['fastestLapTimeP3'].describe()"
   ]
  },
  {
   "cell_type": "code",
   "execution_count": 29,
   "metadata": {},
   "outputs": [],
   "source": [
    "def timeStrToInt(df,columnName):\n",
    "    l = []\n",
    "    is_na = df[columnName].isna()\n",
    "    for i in range(len(df[columnName])):\n",
    "        is_nai = is_na[i]\n",
    "        if  is_nai == False :\n",
    "            value = df[columnName][i]\n",
    "            if type(value) == np.int64:\n",
    "                l.append(value)\n",
    "            else:\n",
    "                a = value.split(':')\n",
    "                b = list(map(float,a[1:]))\n",
    "                l.append(int((b[0]*60*1000 + b[1])*1000))\n",
    "        else:\n",
    "            l.append(58276750)\n",
    "    df[columnName] = l"
   ]
  },
  {
   "cell_type": "code",
   "execution_count": 30,
   "metadata": {},
   "outputs": [],
   "source": [
    "timeStrToInt(df_pred_postion,'fastestLapTimeP1')\n",
    "timeStrToInt(df_pred_postion,'fastestLapTimeP2')\n",
    "timeStrToInt(df_pred_postion,'fastestLapTimeP3')"
   ]
  },
  {
   "cell_type": "code",
   "execution_count": 31,
   "metadata": {},
   "outputs": [
    {
     "data": {
      "text/plain": [
       "count    1.619000e+03\n",
       "mean     5.829842e+07\n",
       "std      6.734991e+06\n",
       "min      1.794000e+03\n",
       "25%      5.827675e+07\n",
       "50%      5.827675e+07\n",
       "75%      6.002710e+07\n",
       "max      6.004926e+07\n",
       "Name: fastestLapTimeP1, dtype: float64"
      ]
     },
     "execution_count": 31,
     "metadata": {},
     "output_type": "execute_result"
    }
   ],
   "source": [
    "df_pred_postion['fastestLapTimeP1'].describe()"
   ]
  },
  {
   "cell_type": "code",
   "execution_count": 32,
   "metadata": {
    "scrolled": true
   },
   "outputs": [
    {
     "data": {
      "text/plain": [
       "number                      0\n",
       "position                    0\n",
       "grid                        0\n",
       "year                        0\n",
       "gpName                      0\n",
       "gpNumber                    0\n",
       "DriverNationality           0\n",
       "constructorId               0\n",
       "constructorNationality      0\n",
       "Q1                         26\n",
       "Q2                        434\n",
       "Q3                        828\n",
       "fastestLapRankP1          880\n",
       "fastestLapTimeP1            0\n",
       "fastestLapRankP2          207\n",
       "fastestLapTimeP2            0\n",
       "fastestLapRankP3          381\n",
       "fastestLapTimeP3            0\n",
       "dtype: int64"
      ]
     },
     "execution_count": 32,
     "metadata": {},
     "output_type": "execute_result"
    }
   ],
   "source": [
    "df_pred_postion.isna().sum()"
   ]
  },
  {
   "cell_type": "markdown",
   "metadata": {},
   "source": [
    "Q1 Q2 and Q3 must have normaly NaN values, because the drivers are qualified or not to the next Q.\n",
    "In order to deal with that, we'll put the time of the precedent Q in the one missing."
   ]
  },
  {
   "cell_type": "code",
   "execution_count": 33,
   "metadata": {
    "scrolled": true
   },
   "outputs": [
    {
     "data": {
      "text/html": [
       "<div>\n",
       "<style scoped>\n",
       "    .dataframe tbody tr th:only-of-type {\n",
       "        vertical-align: middle;\n",
       "    }\n",
       "\n",
       "    .dataframe tbody tr th {\n",
       "        vertical-align: top;\n",
       "    }\n",
       "\n",
       "    .dataframe thead th {\n",
       "        text-align: right;\n",
       "    }\n",
       "</style>\n",
       "<table border=\"1\" class=\"dataframe\">\n",
       "  <thead>\n",
       "    <tr style=\"text-align: right;\">\n",
       "      <th></th>\n",
       "      <th>number</th>\n",
       "      <th>position</th>\n",
       "      <th>grid</th>\n",
       "      <th>year</th>\n",
       "      <th>gpName</th>\n",
       "      <th>gpNumber</th>\n",
       "      <th>DriverNationality</th>\n",
       "      <th>constructorId</th>\n",
       "      <th>constructorNationality</th>\n",
       "      <th>Q1</th>\n",
       "      <th>Q2</th>\n",
       "      <th>Q3</th>\n",
       "      <th>fastestLapRankP1</th>\n",
       "      <th>fastestLapTimeP1</th>\n",
       "      <th>fastestLapRankP2</th>\n",
       "      <th>fastestLapTimeP2</th>\n",
       "      <th>fastestLapRankP3</th>\n",
       "      <th>fastestLapTimeP3</th>\n",
       "    </tr>\n",
       "  </thead>\n",
       "  <tbody>\n",
       "    <tr>\n",
       "      <th>74</th>\n",
       "      <td>8</td>\n",
       "      <td>15</td>\n",
       "      <td>20.0</td>\n",
       "      <td>2018</td>\n",
       "      <td>Azerbaijan Grand Prix</td>\n",
       "      <td>4</td>\n",
       "      <td>French</td>\n",
       "      <td>haas</td>\n",
       "      <td>American</td>\n",
       "      <td>NaN</td>\n",
       "      <td>NaN</td>\n",
       "      <td>NaN</td>\n",
       "      <td>14.0</td>\n",
       "      <td>60046856</td>\n",
       "      <td>13.0</td>\n",
       "      <td>60044425</td>\n",
       "      <td>15.0</td>\n",
       "      <td>60045261</td>\n",
       "    </tr>\n",
       "    <tr>\n",
       "      <th>91</th>\n",
       "      <td>28</td>\n",
       "      <td>12</td>\n",
       "      <td>20.0</td>\n",
       "      <td>2018</td>\n",
       "      <td>Spanish Grand Prix</td>\n",
       "      <td>5</td>\n",
       "      <td>New Zealander</td>\n",
       "      <td>toro_rosso</td>\n",
       "      <td>Italian</td>\n",
       "      <td>NaN</td>\n",
       "      <td>NaN</td>\n",
       "      <td>NaN</td>\n",
       "      <td>NaN</td>\n",
       "      <td>58276750</td>\n",
       "      <td>18.0</td>\n",
       "      <td>60021265</td>\n",
       "      <td>17.0</td>\n",
       "      <td>60019428</td>\n",
       "    </tr>\n",
       "    <tr>\n",
       "      <th>108</th>\n",
       "      <td>33</td>\n",
       "      <td>9</td>\n",
       "      <td>20.0</td>\n",
       "      <td>2018</td>\n",
       "      <td>Monaco Grand Prix</td>\n",
       "      <td>6</td>\n",
       "      <td>Dutch</td>\n",
       "      <td>red_bull</td>\n",
       "      <td>Austrian</td>\n",
       "      <td>NaN</td>\n",
       "      <td>NaN</td>\n",
       "      <td>NaN</td>\n",
       "      <td>3.0</td>\n",
       "      <td>60012280</td>\n",
       "      <td>2.0</td>\n",
       "      <td>60012035</td>\n",
       "      <td>2.0</td>\n",
       "      <td>60011787</td>\n",
       "    </tr>\n",
       "    <tr>\n",
       "      <th>131</th>\n",
       "      <td>8</td>\n",
       "      <td>12</td>\n",
       "      <td>20.0</td>\n",
       "      <td>2018</td>\n",
       "      <td>Canadian Grand Prix</td>\n",
       "      <td>7</td>\n",
       "      <td>French</td>\n",
       "      <td>haas</td>\n",
       "      <td>American</td>\n",
       "      <td>NaN</td>\n",
       "      <td>NaN</td>\n",
       "      <td>NaN</td>\n",
       "      <td>NaN</td>\n",
       "      <td>58276750</td>\n",
       "      <td>7.0</td>\n",
       "      <td>60013620</td>\n",
       "      <td>9.0</td>\n",
       "      <td>60013014</td>\n",
       "    </tr>\n",
       "    <tr>\n",
       "      <th>191</th>\n",
       "      <td>18</td>\n",
       "      <td>12</td>\n",
       "      <td>19.0</td>\n",
       "      <td>2018</td>\n",
       "      <td>British Grand Prix</td>\n",
       "      <td>10</td>\n",
       "      <td>Canadian</td>\n",
       "      <td>williams</td>\n",
       "      <td>British</td>\n",
       "      <td>NaN</td>\n",
       "      <td>NaN</td>\n",
       "      <td>NaN</td>\n",
       "      <td>10.0</td>\n",
       "      <td>60029878</td>\n",
       "      <td>NaN</td>\n",
       "      <td>58276750</td>\n",
       "      <td>NaN</td>\n",
       "      <td>58276750</td>\n",
       "    </tr>\n",
       "  </tbody>\n",
       "</table>\n",
       "</div>"
      ],
      "text/plain": [
       "     number  position  grid  year                 gpName  gpNumber  \\\n",
       "74        8        15  20.0  2018  Azerbaijan Grand Prix         4   \n",
       "91       28        12  20.0  2018     Spanish Grand Prix         5   \n",
       "108      33         9  20.0  2018      Monaco Grand Prix         6   \n",
       "131       8        12  20.0  2018    Canadian Grand Prix         7   \n",
       "191      18        12  19.0  2018     British Grand Prix        10   \n",
       "\n",
       "    DriverNationality constructorId constructorNationality   Q1   Q2   Q3  \\\n",
       "74             French          haas               American  NaN  NaN  NaN   \n",
       "91      New Zealander    toro_rosso                Italian  NaN  NaN  NaN   \n",
       "108             Dutch      red_bull               Austrian  NaN  NaN  NaN   \n",
       "131            French          haas               American  NaN  NaN  NaN   \n",
       "191          Canadian      williams                British  NaN  NaN  NaN   \n",
       "\n",
       "     fastestLapRankP1  fastestLapTimeP1  fastestLapRankP2  fastestLapTimeP2  \\\n",
       "74               14.0          60046856              13.0          60044425   \n",
       "91                NaN          58276750              18.0          60021265   \n",
       "108               3.0          60012280               2.0          60012035   \n",
       "131               NaN          58276750               7.0          60013620   \n",
       "191              10.0          60029878               NaN          58276750   \n",
       "\n",
       "     fastestLapRankP3  fastestLapTimeP3  \n",
       "74               15.0          60045261  \n",
       "91               17.0          60019428  \n",
       "108               2.0          60011787  \n",
       "131               9.0          60013014  \n",
       "191               NaN          58276750  "
      ]
     },
     "execution_count": 33,
     "metadata": {},
     "output_type": "execute_result"
    }
   ],
   "source": [
    "df_pred_postion[df_pred_postion['Q1'].isna()].head()"
   ]
  },
  {
   "cell_type": "code",
   "execution_count": 34,
   "metadata": {},
   "outputs": [],
   "source": [
    "def timeStrToIntQ1(df):\n",
    "    l = []\n",
    "    is_na = df['Q1'].isna()\n",
    "    for i in range(len(df['Q1'])):\n",
    "        is_nai = is_na[i]\n",
    "        if  is_nai == False :\n",
    "            value = df['Q1'][i]\n",
    "            if type(value) == np.int64:\n",
    "                l.append(value)\n",
    "            else:\n",
    "                a = value.split(':')\n",
    "                b = list(map(float,a))\n",
    "                l.append(int((b[0]*60*1000 + b[1])*1000))\n",
    "        else:\n",
    "            l.append(120004382)\n",
    "    df['Q1'] = l\n",
    "\n",
    "def timeStrToIntQ2_3(df, Q_number):\n",
    "    l = []\n",
    "    Q = 'Q'+str(Q_number)\n",
    "    is_na = df[Q].isna()\n",
    "    for i in range(len(df[Q])):\n",
    "        is_nai = is_na[i]\n",
    "        if  is_nai == False :\n",
    "            value = df[Q][i]\n",
    "            if type(value) == np.int64:\n",
    "                l.append(value)\n",
    "            else:\n",
    "                a = value.split(':')\n",
    "                b = list(map(float,a))\n",
    "                l.append(int((b[0]*60*1000 + b[1])*1000))\n",
    "        else:\n",
    "            c_name = 'Q'+ str((Q_number-1))\n",
    "            l.append(df[c_name].iloc[i])\n",
    "    df[Q] = l\n"
   ]
  },
  {
   "cell_type": "code",
   "execution_count": 35,
   "metadata": {},
   "outputs": [],
   "source": [
    "timeStrToIntQ1(df_pred_postion)\n",
    "timeStrToIntQ2_3(df_pred_postion,2)\n",
    "timeStrToIntQ2_3(df_pred_postion,3)"
   ]
  },
  {
   "cell_type": "code",
   "execution_count": 36,
   "metadata": {},
   "outputs": [],
   "source": [
    "df_pred_postion = df_pred_postion.dropna(subset=['position'])"
   ]
  },
  {
   "cell_type": "markdown",
   "metadata": {},
   "source": [
    "Now we have to take care of the laps rank, because we don't have the data,\n",
    "we presume it is because the drivers did not compete \n",
    "on those practices sessions. So their ranks are after the last one possible : 21 "
   ]
  },
  {
   "cell_type": "code",
   "execution_count": 37,
   "metadata": {},
   "outputs": [],
   "source": [
    "df_pred_postion.loc[df_pred_postion.fastestLapRankP1.isna(), 'fastestLapRankP1'] = 10\n",
    "df_pred_postion.loc[df_pred_postion.fastestLapRankP2.isna(), 'fastestLapRankP2'] = 10\n",
    "df_pred_postion.loc[df_pred_postion.fastestLapRankP3.isna(), 'fastestLapRankP3'] = 10"
   ]
  },
  {
   "cell_type": "code",
   "execution_count": 38,
   "metadata": {
    "scrolled": true
   },
   "outputs": [
    {
     "data": {
      "text/plain": [
       "number                    0\n",
       "position                  0\n",
       "grid                      0\n",
       "year                      0\n",
       "gpName                    0\n",
       "gpNumber                  0\n",
       "DriverNationality         0\n",
       "constructorId             0\n",
       "constructorNationality    0\n",
       "Q1                        0\n",
       "Q2                        0\n",
       "Q3                        0\n",
       "fastestLapRankP1          0\n",
       "fastestLapTimeP1          0\n",
       "fastestLapRankP2          0\n",
       "fastestLapTimeP2          0\n",
       "fastestLapRankP3          0\n",
       "fastestLapTimeP3          0\n",
       "dtype: int64"
      ]
     },
     "execution_count": 38,
     "metadata": {},
     "output_type": "execute_result"
    }
   ],
   "source": [
    "df_pred_postion.isna().sum()"
   ]
  },
  {
   "cell_type": "markdown",
   "metadata": {},
   "source": [
    "we have noticed that when the driver can't do the Qualifying, it can happen that the driver will have a grid of 0\n",
    "In real life, they start the grand prix from the pit line, we'll assume that the pit line is the position 21 on the grid.\n",
    "To have logique grid data we need to have that : "
   ]
  },
  {
   "cell_type": "code",
   "execution_count": 39,
   "metadata": {},
   "outputs": [],
   "source": [
    "df_pred_postion.loc[df_pred_postion.grid == 0.0, 'grid'] = 21.0"
   ]
  },
  {
   "cell_type": "markdown",
   "metadata": {},
   "source": [
    "## data homogenization"
   ]
  },
  {
   "cell_type": "markdown",
   "metadata": {},
   "source": [
    "Now we have to change the format of some variables to make sure that the classifiers support the data "
   ]
  },
  {
   "cell_type": "code",
   "execution_count": 40,
   "metadata": {},
   "outputs": [
    {
     "data": {
      "text/plain": [
       "Index(['number', 'position', 'grid', 'year', 'gpName', 'gpNumber',\n",
       "       'DriverNationality', 'constructorId', 'constructorNationality', 'Q1',\n",
       "       'Q2', 'Q3', 'fastestLapRankP1', 'fastestLapTimeP1', 'fastestLapRankP2',\n",
       "       'fastestLapTimeP2', 'fastestLapRankP3', 'fastestLapTimeP3'],\n",
       "      dtype='object')"
      ]
     },
     "execution_count": 40,
     "metadata": {},
     "output_type": "execute_result"
    }
   ],
   "source": [
    "df_pred_postion.columns"
   ]
  },
  {
   "cell_type": "code",
   "execution_count": 41,
   "metadata": {},
   "outputs": [],
   "source": [
    "df_features = pd.get_dummies(df_pred_postion, columns = [ 'gpName',\n",
    "       'DriverNationality', 'constructorId', 'constructorNationality'])"
   ]
  },
  {
   "cell_type": "markdown",
   "metadata": {},
   "source": [
    "## Scale data "
   ]
  },
  {
   "cell_type": "code",
   "execution_count": 42,
   "metadata": {},
   "outputs": [],
   "source": [
    "from sklearn.preprocessing import MinMaxScaler"
   ]
  },
  {
   "cell_type": "code",
   "execution_count": 43,
   "metadata": {},
   "outputs": [
    {
     "data": {
      "text/html": [
       "<div>\n",
       "<style scoped>\n",
       "    .dataframe tbody tr th:only-of-type {\n",
       "        vertical-align: middle;\n",
       "    }\n",
       "\n",
       "    .dataframe tbody tr th {\n",
       "        vertical-align: top;\n",
       "    }\n",
       "\n",
       "    .dataframe thead th {\n",
       "        text-align: right;\n",
       "    }\n",
       "</style>\n",
       "<table border=\"1\" class=\"dataframe\">\n",
       "  <thead>\n",
       "    <tr style=\"text-align: right;\">\n",
       "      <th></th>\n",
       "      <th>number</th>\n",
       "      <th>position</th>\n",
       "      <th>grid</th>\n",
       "      <th>year</th>\n",
       "      <th>gpNumber</th>\n",
       "      <th>Q1</th>\n",
       "      <th>Q2</th>\n",
       "      <th>Q3</th>\n",
       "      <th>fastestLapRankP1</th>\n",
       "      <th>fastestLapTimeP1</th>\n",
       "      <th>...</th>\n",
       "      <th>constructorId_toro_rosso</th>\n",
       "      <th>constructorId_williams</th>\n",
       "      <th>constructorNationality_American</th>\n",
       "      <th>constructorNationality_Austrian</th>\n",
       "      <th>constructorNationality_British</th>\n",
       "      <th>constructorNationality_French</th>\n",
       "      <th>constructorNationality_German</th>\n",
       "      <th>constructorNationality_Indian</th>\n",
       "      <th>constructorNationality_Italian</th>\n",
       "      <th>constructorNationality_Swiss</th>\n",
       "    </tr>\n",
       "  </thead>\n",
       "  <tbody>\n",
       "    <tr>\n",
       "      <th>0</th>\n",
       "      <td>5</td>\n",
       "      <td>1</td>\n",
       "      <td>3.0</td>\n",
       "      <td>2018</td>\n",
       "      <td>1</td>\n",
       "      <td>0.499880</td>\n",
       "      <td>0.499869</td>\n",
       "      <td>0.499869</td>\n",
       "      <td>5.0</td>\n",
       "      <td>0.999596</td>\n",
       "      <td>...</td>\n",
       "      <td>0</td>\n",
       "      <td>0</td>\n",
       "      <td>0</td>\n",
       "      <td>0</td>\n",
       "      <td>0</td>\n",
       "      <td>0</td>\n",
       "      <td>0</td>\n",
       "      <td>0</td>\n",
       "      <td>1</td>\n",
       "      <td>0</td>\n",
       "    </tr>\n",
       "    <tr>\n",
       "      <th>1</th>\n",
       "      <td>44</td>\n",
       "      <td>2</td>\n",
       "      <td>1.0</td>\n",
       "      <td>2018</td>\n",
       "      <td>1</td>\n",
       "      <td>0.499876</td>\n",
       "      <td>0.499870</td>\n",
       "      <td>0.499864</td>\n",
       "      <td>1.0</td>\n",
       "      <td>0.999580</td>\n",
       "      <td>...</td>\n",
       "      <td>0</td>\n",
       "      <td>0</td>\n",
       "      <td>0</td>\n",
       "      <td>0</td>\n",
       "      <td>0</td>\n",
       "      <td>0</td>\n",
       "      <td>1</td>\n",
       "      <td>0</td>\n",
       "      <td>0</td>\n",
       "      <td>0</td>\n",
       "    </tr>\n",
       "    <tr>\n",
       "      <th>2</th>\n",
       "      <td>7</td>\n",
       "      <td>3</td>\n",
       "      <td>2.0</td>\n",
       "      <td>2018</td>\n",
       "      <td>1</td>\n",
       "      <td>0.499878</td>\n",
       "      <td>0.499874</td>\n",
       "      <td>0.499869</td>\n",
       "      <td>4.0</td>\n",
       "      <td>0.999594</td>\n",
       "      <td>...</td>\n",
       "      <td>0</td>\n",
       "      <td>0</td>\n",
       "      <td>0</td>\n",
       "      <td>0</td>\n",
       "      <td>0</td>\n",
       "      <td>0</td>\n",
       "      <td>0</td>\n",
       "      <td>0</td>\n",
       "      <td>1</td>\n",
       "      <td>0</td>\n",
       "    </tr>\n",
       "    <tr>\n",
       "      <th>3</th>\n",
       "      <td>3</td>\n",
       "      <td>4</td>\n",
       "      <td>8.0</td>\n",
       "      <td>2018</td>\n",
       "      <td>1</td>\n",
       "      <td>0.499881</td>\n",
       "      <td>0.499877</td>\n",
       "      <td>0.499872</td>\n",
       "      <td>6.0</td>\n",
       "      <td>0.999597</td>\n",
       "      <td>...</td>\n",
       "      <td>0</td>\n",
       "      <td>0</td>\n",
       "      <td>0</td>\n",
       "      <td>1</td>\n",
       "      <td>0</td>\n",
       "      <td>0</td>\n",
       "      <td>0</td>\n",
       "      <td>0</td>\n",
       "      <td>0</td>\n",
       "      <td>0</td>\n",
       "    </tr>\n",
       "    <tr>\n",
       "      <th>4</th>\n",
       "      <td>14</td>\n",
       "      <td>5</td>\n",
       "      <td>10.0</td>\n",
       "      <td>2018</td>\n",
       "      <td>1</td>\n",
       "      <td>0.499882</td>\n",
       "      <td>0.499884</td>\n",
       "      <td>0.499885</td>\n",
       "      <td>8.0</td>\n",
       "      <td>0.999611</td>\n",
       "      <td>...</td>\n",
       "      <td>0</td>\n",
       "      <td>0</td>\n",
       "      <td>0</td>\n",
       "      <td>0</td>\n",
       "      <td>1</td>\n",
       "      <td>0</td>\n",
       "      <td>0</td>\n",
       "      <td>0</td>\n",
       "      <td>0</td>\n",
       "      <td>0</td>\n",
       "    </tr>\n",
       "  </tbody>\n",
       "</table>\n",
       "<p>5 rows × 91 columns</p>\n",
       "</div>"
      ],
      "text/plain": [
       "   number  position  grid  year  gpNumber        Q1        Q2        Q3  \\\n",
       "0       5         1   3.0  2018         1  0.499880  0.499869  0.499869   \n",
       "1      44         2   1.0  2018         1  0.499876  0.499870  0.499864   \n",
       "2       7         3   2.0  2018         1  0.499878  0.499874  0.499869   \n",
       "3       3         4   8.0  2018         1  0.499881  0.499877  0.499872   \n",
       "4      14         5  10.0  2018         1  0.499882  0.499884  0.499885   \n",
       "\n",
       "   fastestLapRankP1  fastestLapTimeP1  ...  constructorId_toro_rosso  \\\n",
       "0               5.0          0.999596  ...                         0   \n",
       "1               1.0          0.999580  ...                         0   \n",
       "2               4.0          0.999594  ...                         0   \n",
       "3               6.0          0.999597  ...                         0   \n",
       "4               8.0          0.999611  ...                         0   \n",
       "\n",
       "   constructorId_williams  constructorNationality_American  \\\n",
       "0                       0                                0   \n",
       "1                       0                                0   \n",
       "2                       0                                0   \n",
       "3                       0                                0   \n",
       "4                       0                                0   \n",
       "\n",
       "   constructorNationality_Austrian  constructorNationality_British  \\\n",
       "0                                0                               0   \n",
       "1                                0                               0   \n",
       "2                                0                               0   \n",
       "3                                1                               0   \n",
       "4                                0                               1   \n",
       "\n",
       "   constructorNationality_French  constructorNationality_German  \\\n",
       "0                              0                              0   \n",
       "1                              0                              1   \n",
       "2                              0                              0   \n",
       "3                              0                              0   \n",
       "4                              0                              0   \n",
       "\n",
       "   constructorNationality_Indian  constructorNationality_Italian  \\\n",
       "0                              0                               1   \n",
       "1                              0                               0   \n",
       "2                              0                               1   \n",
       "3                              0                               0   \n",
       "4                              0                               0   \n",
       "\n",
       "   constructorNationality_Swiss  \n",
       "0                             0  \n",
       "1                             0  \n",
       "2                             0  \n",
       "3                             0  \n",
       "4                             0  \n",
       "\n",
       "[5 rows x 91 columns]"
      ]
     },
     "execution_count": 43,
     "metadata": {},
     "output_type": "execute_result"
    }
   ],
   "source": [
    "scaler = MinMaxScaler()\n",
    "to_scale = ['Q1','Q2', 'Q3','fastestLapTimeP1',\n",
    "       'fastestLapTimeP2', 'fastestLapTimeP3']\n",
    "df_scaled = df_features.copy()\n",
    "df_scaled[to_scale] = scaler.fit_transform(df_scaled[to_scale].to_numpy())\n",
    "df_scaled.head()"
   ]
  },
  {
   "cell_type": "code",
   "execution_count": 44,
   "metadata": {},
   "outputs": [],
   "source": [
    "df_scaled = pd.DataFrame(df_scaled, columns= df_features.columns)"
   ]
  },
  {
   "cell_type": "markdown",
   "metadata": {},
   "source": [
    "## Prediction models with scaled Data "
   ]
  },
  {
   "cell_type": "code",
   "execution_count": 45,
   "metadata": {},
   "outputs": [],
   "source": [
    "from sklearn.model_selection import train_test_split\n",
    "from sklearn.ensemble import RandomForestRegressor\n",
    "from sklearn.ensemble import RandomForestClassifier\n",
    "from sklearn.ensemble import GradientBoostingClassifier\n",
    "from sklearn.linear_model import LinearRegression\n",
    "from sklearn.linear_model import LogisticRegression\n",
    "from sklearn.neighbors import KNeighborsClassifier\n",
    "from sklearn.discriminant_analysis import LinearDiscriminantAnalysis\n",
    "from sklearn.discriminant_analysis import QuadraticDiscriminantAnalysis\n",
    "from sklearn import svm\n",
    "from sklearn.neural_network import MLPClassifier"
   ]
  },
  {
   "cell_type": "code",
   "execution_count": 46,
   "metadata": {},
   "outputs": [],
   "source": [
    "def error_calculation(error):\n",
    "    round_error = round(error)\n",
    "    mape = 100 * (error / y_test)\n",
    "    count = 0\n",
    "    for elmt in round_error:\n",
    "        if elmt==0:\n",
    "            count+=1\n",
    "    print('Mean Absolute Error:', round(np.mean(error), 2))\n",
    "    print('Mean Absolute Percentage Error :', round(np.mean(mape), 2), '%.')\n",
    "    print('Accuracy :',count/len(round_error)*100, '%.')       \n",
    "   "
   ]
  },
  {
   "cell_type": "code",
   "execution_count": 47,
   "metadata": {},
   "outputs": [],
   "source": [
    "def error_calculationNoDisplay(error):\n",
    "    round_error = round(error)\n",
    "    mape = 100 * (error / y_test)\n",
    "    count = 0\n",
    "    for elmt in round_error:\n",
    "        if elmt==0:\n",
    "            count+=1\n",
    "    return [round(np.mean(error), 2),round(np.mean(mape), 2),count/len(round_error)*100]"
   ]
  },
  {
   "cell_type": "code",
   "execution_count": 48,
   "metadata": {},
   "outputs": [],
   "source": [
    "def evaluate(model, test_features, test_labels,display=True):\n",
    "    y_pred = model.predict(test_features) \n",
    "    error = abs(y_pred - test_labels)\n",
    "    error_calculation(error)\n",
    "    return y_pred"
   ]
  },
  {
   "cell_type": "code",
   "execution_count": 49,
   "metadata": {},
   "outputs": [],
   "source": [
    "def evaluateNoDisplay(model, test_features, test_labels,display=True):\n",
    "    y_pred = model.predict(test_features) \n",
    "    error = abs(y_pred - test_labels)\n",
    "    return y_pred,error_calculationNoDisplay(error)"
   ]
  },
  {
   "cell_type": "code",
   "execution_count": 50,
   "metadata": {},
   "outputs": [],
   "source": [
    "def test_train_creation(df):\n",
    "    train, test = train_test_split(df, test_size=0.2)\n",
    "    X_train = train.drop(['position'], axis=1)\n",
    "    y_train = train['position']\n",
    "    X_test = test.drop(['position'], axis=1)\n",
    "    y_test = test['position']\n",
    "    return X_train,y_train,X_test,y_test"
   ]
  },
  {
   "cell_type": "markdown",
   "metadata": {},
   "source": [
    "Dictionnary to save the accuracy of the different models"
   ]
  },
  {
   "cell_type": "code",
   "execution_count": 51,
   "metadata": {},
   "outputs": [],
   "source": [
    "accuracy_pred = {}"
   ]
  },
  {
   "cell_type": "markdown",
   "metadata": {},
   "source": [
    "### We try a Random forest "
   ]
  },
  {
   "cell_type": "code",
   "execution_count": 52,
   "metadata": {},
   "outputs": [],
   "source": [
    "X_train,y_train,X_test,y_test = test_train_creation(df_scaled)"
   ]
  },
  {
   "cell_type": "code",
   "execution_count": 53,
   "metadata": {},
   "outputs": [
    {
     "data": {
      "text/plain": [
       "0.9125210913929984"
      ]
     },
     "execution_count": 53,
     "metadata": {},
     "output_type": "execute_result"
    }
   ],
   "source": [
    "random_forest = RandomForestRegressor() \n",
    "model_rd = random_forest.fit(X_train, y_train)\n",
    "model_rd.score(X_train,y_train)"
   ]
  },
  {
   "cell_type": "code",
   "execution_count": 54,
   "metadata": {},
   "outputs": [
    {
     "name": "stdout",
     "output_type": "stream",
     "text": [
      "Mean Absolute Error: 3.48\n",
      "Mean Absolute Percentage Error : 57.94 %.\n",
      "Accuracy : 10.185185185185185 %.\n"
     ]
    }
   ],
   "source": [
    "y_pred = evaluate(random_forest, X_test, y_test)"
   ]
  },
  {
   "cell_type": "code",
   "execution_count": 55,
   "metadata": {
    "scrolled": false
   },
   "outputs": [
    {
     "data": {
      "text/plain": [
       "Text(0.5, 0, 'Relative Importance')"
      ]
     },
     "execution_count": 55,
     "metadata": {},
     "output_type": "execute_result"
    },
    {
     "data": {
      "image/png": "[encoded data removed]",
      "text/plain": [
       "<Figure size 432x288 with 1 Axes>"
      ]
     },
     "metadata": {
      "needs_background": "light"
     },
     "output_type": "display_data"
    }
   ],
   "source": [
    "importances = model_rd.feature_importances_\n",
    "indices = np.argsort(importances)\n",
    "plt.figure(1)\n",
    "plt.title('Feature Importances')\n",
    "plt.barh(range(len(indices)), importances[indices], color='b', align='center')\n",
    "plt.yticks(range(len(indices)), [X_test.columns[i] for i in indices])\n",
    "plt.xlabel('Relative Importance')"
   ]
  },
  {
   "cell_type": "markdown",
   "metadata": {},
   "source": [
    "We can see from this graph that most of the features like the nationality ones are note usefull at all. 5 we'll drop those columns later, after the comparison with the not scaled data"
   ]
  },
  {
   "cell_type": "code",
   "execution_count": 56,
   "metadata": {},
   "outputs": [
    {
     "data": {
      "text/plain": [
       "['gpName_Italian Grand Prix',\n",
       " 'gpName_German Grand Prix',\n",
       " 'year',\n",
       " 'fastestLapTimeP1',\n",
       " 'Q3',\n",
       " 'Q2',\n",
       " 'Q1',\n",
       " 'fastestLapTimeP3',\n",
       " 'fastestLapRankP1',\n",
       " 'number',\n",
       " 'gpNumber',\n",
       " 'fastestLapTimeP2',\n",
       " 'fastestLapRankP3',\n",
       " 'fastestLapRankP2',\n",
       " 'grid']"
      ]
     },
     "execution_count": 56,
     "metadata": {},
     "output_type": "execute_result"
    }
   ],
   "source": [
    "[X_test.columns[i] for i in indices][-15:]"
   ]
  },
  {
   "cell_type": "markdown",
   "metadata": {},
   "source": [
    "## Searching a good regression algorithm ,Not scaled data ( to compare )"
   ]
  },
  {
   "cell_type": "code",
   "execution_count": 57,
   "metadata": {},
   "outputs": [],
   "source": [
    "X_train,y_train,X_test,y_test = test_train_creation(df_features)"
   ]
  },
  {
   "cell_type": "code",
   "execution_count": 58,
   "metadata": {},
   "outputs": [
    {
     "name": "stdout",
     "output_type": "stream",
     "text": [
      "Score on train data: 0.47826355447378244\n",
      "Mean Absolute Error: 3.41\n",
      "Mean Absolute Percentage Error : 63.09 %.\n",
      "Accuracy : 8.641975308641975 %.\n"
     ]
    }
   ],
   "source": [
    "model_lm = LinearRegression()\n",
    "model_lm.fit(X_train, y_train)\n",
    "print('Score on train data:',model_lm.score(X_train, y_train))\n",
    "y_pred = evaluate(model_lm, X_test, y_test)\n",
    "accuracy_pred['LinearRegression']= evaluateNoDisplay(model_lm, X_test, y_test)"
   ]
  },
  {
   "cell_type": "code",
   "execution_count": 59,
   "metadata": {},
   "outputs": [
    {
     "name": "stdout",
     "output_type": "stream",
     "text": [
      "Score on train data: 0.915223589699527\n",
      "Mean Absolute Error: 3.5\n",
      "Mean Absolute Percentage Error : 65.27 %.\n",
      "Accuracy : 10.802469135802468 %.\n"
     ]
    }
   ],
   "source": [
    "random_forest = RandomForestRegressor() \n",
    "model_rd = random_forest.fit(X_train, y_train)\n",
    "print('Score on train data:',model_rd.score(X_train, y_train))\n",
    "y_pred = evaluate(random_forest, X_test, y_test)\n",
    "accuracy_pred['RandomForestRegressor']= evaluateNoDisplay(random_forest, X_test, y_test)"
   ]
  },
  {
   "cell_type": "code",
   "execution_count": 60,
   "metadata": {},
   "outputs": [
    {
     "name": "stdout",
     "output_type": "stream",
     "text": [
      "Score on train data: 0.24324324324324326\n",
      "Mean Absolute Error: 3.95\n",
      "Mean Absolute Percentage Error : 45.9 %.\n",
      "Accuracy : 9.876543209876543 %.\n"
     ]
    }
   ],
   "source": [
    "lda = LinearDiscriminantAnalysis(solver=\"svd\", store_covariance=True)\n",
    "y_pred = lda.fit(X_train, y_train).predict(X_test)\n",
    "print('Score on train data:',lda.score(X_train, y_train))\n",
    "y_pred = evaluate(lda, X_test, y_test)\n",
    "accuracy_pred['LDA']= evaluateNoDisplay(lda, X_test, y_test)"
   ]
  },
  {
   "cell_type": "code",
   "execution_count": 61,
   "metadata": {},
   "outputs": [
    {
     "name": "stdout",
     "output_type": "stream",
     "text": [
      "Score on train data: 0.8355212355212355\n",
      "Mean Absolute Error: 4.69\n",
      "Mean Absolute Percentage Error : 56.61 %.\n",
      "Accuracy : 6.790123456790123 %.\n"
     ]
    },
    {
     "name": "stderr",
     "output_type": "stream",
     "text": [
      "C:\\Users\\benja\\anaconda3\\lib\\site-packages\\sklearn\\discriminant_analysis.py:715: UserWarning: Variables are collinear\n",
      "  warnings.warn(\"Variables are collinear\")\n"
     ]
    }
   ],
   "source": [
    "qda = QuadraticDiscriminantAnalysis(store_covariance=True)\n",
    "y_pred = qda.fit(X_train, y_train).predict(X_test)\n",
    "print('Score on train data:',qda.score(X_train, y_train))\n",
    "y_pred = evaluate(qda, X_test, y_test)\n",
    "accuracy_pred['QDA']= evaluateNoDisplay(qda, X_test, y_test)"
   ]
  },
  {
   "cell_type": "code",
   "execution_count": 62,
   "metadata": {},
   "outputs": [
    {
     "name": "stdout",
     "output_type": "stream",
     "text": [
      "Score on train data: 0.047104247104247106\n",
      "Mean Absolute Error: 5.21\n",
      "Mean Absolute Percentage Error : 106.75 %.\n",
      "Accuracy : 5.864197530864197 %.\n"
     ]
    }
   ],
   "source": [
    "clf = MLPClassifier()\n",
    "clf.fit(X_train, y_train)\n",
    "print('Score on train data:',clf.score(X_train, y_train))\n",
    "y_pred = evaluate(clf, X_test, y_test)\n",
    "accuracy_pred['MLPClassifier']= evaluateNoDisplay(clf, X_test, y_test)"
   ]
  },
  {
   "cell_type": "markdown",
   "metadata": {},
   "source": [
    "The results show that it is ambiguous between scaled or not scaled data we should use. The random forest seems to be the best option."
   ]
  },
  {
   "cell_type": "markdown",
   "metadata": {},
   "source": [
    "## Drop useless/non significant columns"
   ]
  },
  {
   "cell_type": "code",
   "execution_count": 63,
   "metadata": {},
   "outputs": [],
   "source": [
    "df_features2 =  pd.get_dummies(df_pred_postion, columns = ['constructorId'])\n"
   ]
  },
  {
   "cell_type": "code",
   "execution_count": 64,
   "metadata": {},
   "outputs": [],
   "source": [
    "df_features2=df_features2.drop(['DriverNationality','constructorNationality','gpName'], axis=1)"
   ]
  },
  {
   "cell_type": "code",
   "execution_count": 65,
   "metadata": {},
   "outputs": [
    {
     "data": {
      "text/plain": [
       "(1619, 29)"
      ]
     },
     "execution_count": 65,
     "metadata": {},
     "output_type": "execute_result"
    }
   ],
   "source": [
    "df_features2.shape"
   ]
  },
  {
   "cell_type": "code",
   "execution_count": 66,
   "metadata": {},
   "outputs": [],
   "source": [
    "scaler = MinMaxScaler()\n",
    "to_scale = ['Q1','Q2', 'Q3','fastestLapTimeP1',\n",
    "       'fastestLapTimeP2', 'fastestLapTimeP3']\n",
    "df_scaled2 = df_features2.copy()\n",
    "df_scaled2[to_scale] = scaler.fit_transform(df_scaled2[to_scale].to_numpy())\n",
    "df_scaled2 = pd.DataFrame(df_scaled2, columns= df_features2.columns)"
   ]
  },
  {
   "cell_type": "code",
   "execution_count": 67,
   "metadata": {},
   "outputs": [
    {
     "data": {
      "text/plain": [
       "Index(['number', 'position', 'grid', 'year', 'gpNumber', 'Q1', 'Q2', 'Q3',\n",
       "       'fastestLapRankP1', 'fastestLapTimeP1', 'fastestLapRankP2',\n",
       "       'fastestLapTimeP2', 'fastestLapRankP3', 'fastestLapTimeP3',\n",
       "       'constructorId_alfa', 'constructorId_alphatauri',\n",
       "       'constructorId_alpine', 'constructorId_aston_martin',\n",
       "       'constructorId_ferrari', 'constructorId_force_india',\n",
       "       'constructorId_haas', 'constructorId_mclaren', 'constructorId_mercedes',\n",
       "       'constructorId_racing_point', 'constructorId_red_bull',\n",
       "       'constructorId_renault', 'constructorId_sauber',\n",
       "       'constructorId_toro_rosso', 'constructorId_williams'],\n",
       "      dtype='object')"
      ]
     },
     "execution_count": 67,
     "metadata": {},
     "output_type": "execute_result"
    }
   ],
   "source": [
    "df_scaled2.columns"
   ]
  },
  {
   "cell_type": "markdown",
   "metadata": {},
   "source": [
    "## The data is now trained considering the season and not the previous ones ( exeption for the first GP)"
   ]
  },
  {
   "cell_type": "markdown",
   "metadata": {},
   "source": [
    "This choice has been made to have a better match with the reality ( we don't have the results of the future GP)"
   ]
  },
  {
   "cell_type": "code",
   "execution_count": 68,
   "metadata": {},
   "outputs": [],
   "source": [
    "def which_gpV2(gpNumber,year,df,n):\n",
    "    if year != 2018:\n",
    "        test,train = None,None\n",
    "        if (gpNumber-n)<=0:\n",
    "            gpy_1 = df[df['year']==year-1]['gpNumber'].max()\n",
    "            idx = df[(df['gpNumber']==(gpNumber)) & (df['year']==year)].index[0]\n",
    "            idx_begin = df[(df['gpNumber']==(gpy_1+(gpNumber-n))) & (df['year']==(year-1))].index[0]\n",
    "            idx_end = idx+20\n",
    "            train = df.iloc[idx_begin:idx]\n",
    "            test = df.iloc[idx:idx_end]\n",
    "        else:\n",
    "            idx = df[(df['gpNumber']==(gpNumber)) & (df['year']==year)].index[0]\n",
    "            idx_begin = df[df['year']==year].index[0]\n",
    "            idx_end = idx+20\n",
    "            train = df.iloc[idx_begin:idx]\n",
    "            test = df.iloc[idx:idx_end]\n",
    "    else:\n",
    "        if gpNumber != 1:\n",
    "            idx = df[(df['gpNumber']==gpNumber) & (df['year']==year)].index[0]\n",
    "            idx_begin = df[df['year']==year].index[0]\n",
    "            idx_end = idx+20\n",
    "            train = df.iloc[idx_begin:idx]\n",
    "            test = df.iloc[idx:idx_end]\n",
    "    return train,test"
   ]
  },
  {
   "cell_type": "code",
   "execution_count": 69,
   "metadata": {},
   "outputs": [],
   "source": [
    "def which_gp(gpNumber,year,df):\n",
    "    if gpNumber != 1:\n",
    "        idx = df[(df['gpNumber']==gpNumber) & (df['year']==year)].index[0]\n",
    "        idx_begin = df[df['year']==year].index[0]\n",
    "        idx_end = idx+20\n",
    "        train = df.iloc[idx_begin:idx]\n",
    "        test = df.iloc[idx:idx_end]\n",
    "    else:\n",
    "        idx = df[(df['gpNumber']==gpNumber) & (df['year']==year)].index[0]\n",
    "        idx_begin = df[df['year']==(year-1)].index[0]\n",
    "        idx_end = idx+20\n",
    "        train = df.iloc[idx_begin:idx]\n",
    "        test = df.iloc[idx:idx_end]\n",
    "    return train,test"
   ]
  },
  {
   "cell_type": "markdown",
   "metadata": {},
   "source": [
    "#### Test without the new data format"
   ]
  },
  {
   "cell_type": "code",
   "execution_count": 70,
   "metadata": {
    "scrolled": true
   },
   "outputs": [],
   "source": [
    "X_train,y_train,X_test,y_test = test_train_creation(df_features2)"
   ]
  },
  {
   "cell_type": "code",
   "execution_count": 71,
   "metadata": {},
   "outputs": [
    {
     "name": "stdout",
     "output_type": "stream",
     "text": [
      "Score on train data: 0.4247104247104247\n",
      "Mean Absolute Error: 3.37\n",
      "Mean Absolute Percentage Error : 36.16 %.\n",
      "Accuracy : 16.358024691358025 %.\n"
     ]
    }
   ],
   "source": [
    "clf = RandomForestClassifier(max_depth=5, random_state=1)\n",
    "model_rf = clf.fit(X_train, y_train)\n",
    "print('Score on train data:',clf.score(X_train, y_train))\n",
    "y_pred = evaluate(clf, X_test, y_test)"
   ]
  },
  {
   "cell_type": "markdown",
   "metadata": {},
   "source": [
    "#### test with the good data format"
   ]
  },
  {
   "cell_type": "code",
   "execution_count": 72,
   "metadata": {},
   "outputs": [],
   "source": [
    "def test_train_creation_gp(df,year,gpNumber):\n",
    "    train, test = which_gp(gpNumber,year,df)\n",
    "    X_train = train.drop(['position'], axis=1)\n",
    "    y_train = train['position']\n",
    "    X_test = test.drop(['position'], axis=1)\n",
    "    y_test = test['position']\n",
    "    return X_train,y_train,X_test,y_test\n",
    "def test_train_creation_gpV2(df,year,gpNumber,n):\n",
    "    train, test = which_gpV2(gpNumber,year,df,n)\n",
    "    X_train = train.drop(['position'], axis=1)\n",
    "    y_train = train['position']\n",
    "    X_test = test.drop(['position'], axis=1)\n",
    "    y_test = test['position']\n",
    "    return X_train,y_train,X_test,y_test"
   ]
  },
  {
   "cell_type": "code",
   "execution_count": 73,
   "metadata": {},
   "outputs": [],
   "source": [
    "X_train,y_train,X_test,y_test = test_train_creation_gp(df_features2,2021,21)"
   ]
  },
  {
   "cell_type": "code",
   "execution_count": 74,
   "metadata": {},
   "outputs": [
    {
     "name": "stdout",
     "output_type": "stream",
     "text": [
      "Score on train data: 1.0\n",
      "Mean Absolute Error: 3.7\n",
      "Mean Absolute Percentage Error : 37.54 %.\n",
      "Accuracy : 15.0 %.\n"
     ]
    }
   ],
   "source": [
    "clf = RandomForestClassifier()\n",
    "model_rf = clf.fit(X_train, y_train)\n",
    "print('Score on train data:',clf.score(X_train, y_train))\n",
    "y_pred = evaluate(clf, X_test, y_test)"
   ]
  },
  {
   "cell_type": "code",
   "execution_count": 75,
   "metadata": {
    "scrolled": true
   },
   "outputs": [
    {
     "name": "stdout",
     "output_type": "stream",
     "text": [
      "Score on train data: 0.9222568345864661\n",
      "Mean Absolute Error: 3.19\n",
      "Mean Absolute Percentage Error : 66.55 %.\n",
      "Accuracy : 10.0 %.\n"
     ]
    }
   ],
   "source": [
    "clf = RandomForestRegressor()\n",
    "model_rf = clf.fit(X_train, y_train)\n",
    "print('Score on train data:',clf.score(X_train, y_train))\n",
    "y_pred = evaluate(clf, X_test, y_test)"
   ]
  },
  {
   "cell_type": "markdown",
   "metadata": {},
   "source": [
    "#### We must have have,as a result, a ranking of every driver."
   ]
  },
  {
   "cell_type": "code",
   "execution_count": 76,
   "metadata": {},
   "outputs": [],
   "source": [
    "def rank(y_pred):\n",
    "    y_pred_1 =  sorted(y_pred.copy())\n",
    "    for i in range(len(y_pred_1)):\n",
    "        for j in range(len(y_pred)):\n",
    "            if y_pred_1[i] == y_pred[j]:\n",
    "                y_pred_1[i] = j+1\n",
    "    return y_pred_1"
   ]
  },
  {
   "cell_type": "code",
   "execution_count": 77,
   "metadata": {},
   "outputs": [],
   "source": [
    "def evaluaterank(test_labels,y_pred):\n",
    "    y_pred = rank(y_pred)\n",
    "    error = abs(y_pred - test_labels)\n",
    "    error_calculation(error)\n",
    "    return y_pred"
   ]
  },
  {
   "cell_type": "code",
   "execution_count": 78,
   "metadata": {},
   "outputs": [],
   "source": [
    "def evaluaterankNoDisplay(test_labels,y_pred):\n",
    "    y_pred = rank(y_pred)\n",
    "    error = abs(y_pred - test_labels)\n",
    "    return y_pred,error_calculationNoDisplay(error)"
   ]
  },
  {
   "cell_type": "code",
   "execution_count": 79,
   "metadata": {},
   "outputs": [
    {
     "name": "stdout",
     "output_type": "stream",
     "text": [
      "Mean Absolute Error: 2.7\n",
      "Mean Absolute Percentage Error : 40.14 %.\n",
      "Accuracy : 25.0 %.\n"
     ]
    },
    {
     "data": {
      "text/plain": [
       "([2, 3, 7, 1, 6, 17, 4, 8, 9, 10, 5, 15, 13, 14, 16, 19, 11, 20, 12, 18],\n",
       " [2.7, 40.14, 25.0])"
      ]
     },
     "execution_count": 79,
     "metadata": {},
     "output_type": "execute_result"
    }
   ],
   "source": [
    "y_pred_reg = evaluaterank(y_test,y_pred)\n",
    "y_pred_reg = evaluaterankNoDisplay(y_test,y_pred)\n",
    "y_pred_reg"
   ]
  },
  {
   "cell_type": "markdown",
   "metadata": {},
   "source": [
    "## Finding the best classification algorithm with scaled data"
   ]
  },
  {
   "cell_type": "code",
   "execution_count": 80,
   "metadata": {},
   "outputs": [],
   "source": [
    "X_train,y_train,X_test,y_test = test_train_creation_gp(df_scaled2,2019,10)"
   ]
  },
  {
   "cell_type": "code",
   "execution_count": 81,
   "metadata": {},
   "outputs": [
    {
     "name": "stdout",
     "output_type": "stream",
     "text": [
      "Score on train data: 1.0\n",
      "Mean Absolute Error: 2.65\n",
      "Mean Absolute Percentage Error : 21.68 %.\n",
      "Accuracy : 20.0 %.\n"
     ]
    }
   ],
   "source": [
    "random_forest = RandomForestClassifier() \n",
    "model_rd = random_forest.fit(X_train, y_train)\n",
    "print('Score on train data:',random_forest.score(X_train, y_train))\n",
    "y_pred = evaluate(random_forest, X_test, y_test)\n",
    "accuracy_pred['RFClf']= evaluateNoDisplay(random_forest, X_test, y_test)"
   ]
  },
  {
   "cell_type": "code",
   "execution_count": 82,
   "metadata": {
    "scrolled": true
   },
   "outputs": [
    {
     "data": {
      "text/plain": [
       "Text(0.5, 0, 'Relative Importance')"
      ]
     },
     "execution_count": 82,
     "metadata": {},
     "output_type": "execute_result"
    },
    {
     "data": {
      "image/png": "[encoded data removed]",
      "text/plain": [
       "<Figure size 432x288 with 1 Axes>"
      ]
     },
     "metadata": {
      "needs_background": "light"
     },
     "output_type": "display_data"
    }
   ],
   "source": [
    "importances = model_rd.feature_importances_\n",
    "indices = np.argsort(importances)\n",
    "plt.figure(1)\n",
    "plt.title('Feature Importances')\n",
    "plt.barh(range(len(indices)), importances[indices], color='b', align='center')\n",
    "plt.yticks(range(len(indices)), [X_test.columns[i] for i in indices])\n",
    "plt.xlabel('Relative Importance')"
   ]
  },
  {
   "cell_type": "code",
   "execution_count": 83,
   "metadata": {},
   "outputs": [
    {
     "data": {
      "image/png": "[encoded data removed]",
      "text/plain": [
       "<Figure size 432x288 with 2 Axes>"
      ]
     },
     "metadata": {
      "needs_background": "light"
     },
     "output_type": "display_data"
    }
   ],
   "source": [
    "corrMatrix = df_scaled2.corr()\n",
    "sns.heatmap(corrMatrix)\n",
    "plt.title('Correlation Matrix')\n",
    "plt.show()"
   ]
  },
  {
   "cell_type": "code",
   "execution_count": 84,
   "metadata": {},
   "outputs": [
    {
     "name": "stdout",
     "output_type": "stream",
     "text": [
      "Score on train data: 1.0\n",
      "Mean Absolute Error: 6.5\n",
      "Mean Absolute Percentage Error : 193.1 %.\n",
      "Accuracy : 5.0 %.\n"
     ]
    },
    {
     "name": "stderr",
     "output_type": "stream",
     "text": [
      "C:\\Users\\benja\\anaconda3\\lib\\site-packages\\sklearn\\svm\\_base.py:976: ConvergenceWarning: Liblinear failed to converge, increase the number of iterations.\n",
      "  warnings.warn(\"Liblinear failed to converge, increase \"\n"
     ]
    }
   ],
   "source": [
    "model_svm = svm.LinearSVC()\n",
    "model_svm.fit(X_train, y_train)\n",
    "print('Score on train data:',random_forest.score(X_train, y_train))\n",
    "y_pred = evaluate(model_svm, X_test, y_test)\n",
    "accuracy_pred['svm.LinearSVC']= evaluateNoDisplay(model_svm, X_test, y_test)"
   ]
  },
  {
   "cell_type": "code",
   "execution_count": 85,
   "metadata": {},
   "outputs": [
    {
     "name": "stdout",
     "output_type": "stream",
     "text": [
      "Score on train data: 0.39444444444444443\n",
      "Mean Absolute Error: 2.75\n",
      "Mean Absolute Percentage Error : 20.24 %.\n",
      "Accuracy : 30.0 %.\n"
     ]
    }
   ],
   "source": [
    "knn = KNeighborsClassifier(n_neighbors=4)\n",
    "knn.fit(X_train, y_train)\n",
    "print('Score on train data:',knn.score(X_train, y_train))\n",
    "y_pred = evaluate(knn, X_test, y_test)\n",
    "accuracy_pred['knn']= evaluateNoDisplay(knn, X_test, y_test)"
   ]
  },
  {
   "cell_type": "code",
   "execution_count": 86,
   "metadata": {},
   "outputs": [
    {
     "name": "stdout",
     "output_type": "stream",
     "text": [
      "Score on train data: 0.26666666666666666\n",
      "Mean Absolute Error: 3.55\n",
      "Mean Absolute Percentage Error : 41.33 %.\n",
      "Accuracy : 10.0 %.\n"
     ]
    },
    {
     "name": "stderr",
     "output_type": "stream",
     "text": [
      "C:\\Users\\benja\\anaconda3\\lib\\site-packages\\sklearn\\linear_model\\_logistic.py:762: ConvergenceWarning: lbfgs failed to converge (status=1):\n",
      "STOP: TOTAL NO. of ITERATIONS REACHED LIMIT.\n",
      "\n",
      "Increase the number of iterations (max_iter) or scale the data as shown in:\n",
      "    https://scikit-learn.org/stable/modules/preprocessing.html\n",
      "Please also refer to the documentation for alternative solver options:\n",
      "    https://scikit-learn.org/stable/modules/linear_model.html#logistic-regression\n",
      "  n_iter_i = _check_optimize_result(\n"
     ]
    }
   ],
   "source": [
    "log_Reg = LogisticRegression()\n",
    "log_Reg.fit(X_train, y_train)\n",
    "print('Score on train data:',log_Reg.score(X_train, y_train))\n",
    "y_pred = evaluate(log_Reg, X_test, y_test)\n",
    "accuracy_pred['Log_reg']= evaluateNoDisplay(log_Reg, X_test, y_test)"
   ]
  },
  {
   "cell_type": "code",
   "execution_count": 87,
   "metadata": {
    "scrolled": true
   },
   "outputs": [
    {
     "name": "stdout",
     "output_type": "stream",
     "text": [
      "Score on train data: 1.0\n",
      "Mean Absolute Error: 3.6\n",
      "Mean Absolute Percentage Error : 34.82 %.\n",
      "Accuracy : 25.0 %.\n"
     ]
    }
   ],
   "source": [
    "clf = GradientBoostingClassifier()\n",
    "clf.fit(X_train, y_train)\n",
    "print('Score on train data:',clf.score(X_train, y_train))\n",
    "y_pred = evaluate(clf, X_test, y_test)\n",
    "accuracy_pred['GradientBoostClf']= evaluateNoDisplay(clf, X_test, y_test)                           "
   ]
  },
  {
   "cell_type": "markdown",
   "metadata": {},
   "source": [
    "## Choice of the good model"
   ]
  },
  {
   "cell_type": "code",
   "execution_count": 88,
   "metadata": {},
   "outputs": [],
   "source": [
    "label_ = [x for x in accuracy_pred]\n",
    "label_.append('RdfRegRank')"
   ]
  },
  {
   "cell_type": "code",
   "execution_count": 89,
   "metadata": {},
   "outputs": [],
   "source": [
    "y = list(accuracy_pred.values())\n",
    "y.append([[0,1],[2.9,25.45,25.0]]) #calculated previously\n",
    "acc = [x_[1] for x_ in y]\n",
    "x0 =  [x_[0] for x_ in acc]\n",
    "x1 =  [x_[1] for x_ in acc]\n",
    "x1[4] = 100\n",
    "x2 =  [x_[2] for x_ in acc]"
   ]
  },
  {
   "cell_type": "code",
   "execution_count": 90,
   "metadata": {
    "scrolled": false
   },
   "outputs": [
    {
     "data": {
      "image/png": "[encoded data removed]",
      "text/plain": [
       "<Figure size 1224x504 with 1 Axes>"
      ]
     },
     "metadata": {
      "needs_background": "light"
     },
     "output_type": "display_data"
    }
   ],
   "source": [
    "x = np.arange(len(label_))  # the label locations\n",
    "width = 0.3\n",
    "fig, ax = plt.subplots(figsize = (17,7))\n",
    "a1 = ax.bar(x- width,x0,width,label = 'Mean Absolute Error')\n",
    "a2 = ax.bar(x,x1,width,label = 'Mean Absolute Percentage Error')\n",
    "a3 = ax.bar(x+ width,x2,width,label = 'Accuracy')\n",
    "ax.bar_label(a1, padding=4)\n",
    "ax.bar_label(a2, padding=4)\n",
    "ax.bar_label(a3, padding=4)\n",
    "ax.set_title('Accuracy in fonction of the position')\n",
    "ax.set_ylabel('Mean accuracy in %')\n",
    "ax.set_xlabel('Models')\n",
    "ax.set_ylabel('Scores')\n",
    "ax.set_title('Models insights')\n",
    "ax.set_xticks(x, label_)\n",
    "ax.legend()\n",
    "plt.grid(axis='y', color='0.8')\n",
    "ax.set_facecolor('seashell')\n",
    "plt.tight_layout();"
   ]
  },
  {
   "cell_type": "markdown",
   "metadata": {},
   "source": [
    "We have the Random forest Classifier and the Knn which can give some good results. The problem with the knn is that it will not always classifie the 20 position but maybe just 6 or 7. Therefore we prefere to stay on the Random Forest Classifier or The Random Forest Regressor with the rank technique applied ."
   ]
  },
  {
   "cell_type": "markdown",
   "metadata": {},
   "source": [
    "We can see that the results are the best for the Random Forest. Now we have to improve this result"
   ]
  },
  {
   "cell_type": "markdown",
   "metadata": {},
   "source": [
    "In classification or in regression (+rank), random forest seems to be the best. We'll try to make the classification and the regressio,n work together  "
   ]
  },
  {
   "cell_type": "markdown",
   "metadata": {},
   "source": [
    "# Test Random Forest with GridSearch "
   ]
  },
  {
   "cell_type": "markdown",
   "metadata": {},
   "source": [
    "## Not Scaled "
   ]
  },
  {
   "cell_type": "code",
   "execution_count": 91,
   "metadata": {},
   "outputs": [],
   "source": [
    "X_train,y_train,X_test,y_test = test_train_creation_gp(df_features2,2021,10)"
   ]
  },
  {
   "cell_type": "code",
   "execution_count": 92,
   "metadata": {},
   "outputs": [],
   "source": [
    "from sklearn.model_selection import RandomizedSearchCV\n",
    "from sklearn.model_selection import GridSearchCV"
   ]
  },
  {
   "cell_type": "markdown",
   "metadata": {},
   "source": [
    "### Regression "
   ]
  },
  {
   "cell_type": "code",
   "execution_count": 93,
   "metadata": {},
   "outputs": [],
   "source": [
    "\n",
    "n_estimators = [100,200,400,600,800]\n",
    "max_features = ['auto', 'sqrt']\n",
    "max_depth = [3,5,10,20,30]\n",
    "max_depth.append(None)\n",
    "min_samples_split = [2, 5]\n",
    "min_samples_leaf = [1, 2]\n",
    "random_grid = {'n_estimators': n_estimators,\n",
    "               'max_features': max_features,\n",
    "               'max_depth': max_depth,\n",
    "               'min_samples_split': min_samples_split,\n",
    "               'min_samples_leaf': min_samples_leaf}"
   ]
  },
  {
   "cell_type": "code",
   "execution_count": 94,
   "metadata": {},
   "outputs": [
    {
     "name": "stdout",
     "output_type": "stream",
     "text": [
      "Fitting 2 folds for each of 100 candidates, totalling 200 fits\n"
     ]
    },
    {
     "name": "stderr",
     "output_type": "stream",
     "text": [
      "[Parallel(n_jobs=-1)]: Using backend LokyBackend with 8 concurrent workers.\n",
      "[Parallel(n_jobs=-1)]: Done  25 tasks      | elapsed:   15.6s\n",
      "[Parallel(n_jobs=-1)]: Done 146 tasks      | elapsed:   43.5s\n",
      "[Parallel(n_jobs=-1)]: Done 200 out of 200 | elapsed:   55.4s finished\n"
     ]
    },
    {
     "data": {
      "text/plain": [
       "RandomizedSearchCV(cv=2, estimator=RandomForestRegressor(), n_iter=100,\n",
       "                   n_jobs=-1,\n",
       "                   param_distributions={'max_depth': [3, 5, 10, 20, 30, None],\n",
       "                                        'max_features': ['auto', 'sqrt'],\n",
       "                                        'min_samples_leaf': [1, 2],\n",
       "                                        'min_samples_split': [2, 5],\n",
       "                                        'n_estimators': [100, 200, 400, 600,\n",
       "                                                         800]},\n",
       "                   random_state=42, verbose=2)"
      ]
     },
     "execution_count": 94,
     "metadata": {},
     "output_type": "execute_result"
    }
   ],
   "source": [
    "rf = RandomForestRegressor()\n",
    "rf_random = RandomizedSearchCV(estimator = rf, param_distributions = random_grid, n_iter = 100, cv = 2, verbose=2, random_state=42, n_jobs = -1)\n",
    "rf_random.fit(X_train, y_train)"
   ]
  },
  {
   "cell_type": "code",
   "execution_count": 95,
   "metadata": {},
   "outputs": [
    {
     "data": {
      "text/plain": [
       "RandomForestRegressor(max_depth=3, min_samples_leaf=2, min_samples_split=5,\n",
       "                      n_estimators=200)"
      ]
     },
     "execution_count": 95,
     "metadata": {},
     "output_type": "execute_result"
    }
   ],
   "source": [
    "best_random = rf_random.best_estimator_\n",
    "best_random"
   ]
  },
  {
   "cell_type": "code",
   "execution_count": 96,
   "metadata": {},
   "outputs": [
    {
     "name": "stdout",
     "output_type": "stream",
     "text": [
      "Score on train data: 0.6713696976928499\n",
      "Mean Absolute Error: 3.99\n",
      "Mean Absolute Percentage Error : 90.34 %.\n",
      "Accuracy : 10.0 %.\n"
     ]
    }
   ],
   "source": [
    "print('Score on train data:',best_random.score(X_train, y_train))\n",
    "y_pred = evaluate(best_random, X_test, y_test)"
   ]
  },
  {
   "cell_type": "code",
   "execution_count": 97,
   "metadata": {},
   "outputs": [
    {
     "data": {
      "text/plain": [
       "array([ 8.352473  ,  8.46965788,  8.54715229,  7.86981227,  7.9733904 ,\n",
       "        9.33707905,  8.78395372, 13.12967538,  9.11134204, 12.31136968,\n",
       "        9.80826049, 12.98913771, 11.73882814, 13.52186314, 10.84832273,\n",
       "       11.33206659, 14.35266232, 14.59616033,  8.23103235,  8.5724554 ])"
      ]
     },
     "execution_count": 97,
     "metadata": {},
     "output_type": "execute_result"
    }
   ],
   "source": [
    "y_pred"
   ]
  },
  {
   "cell_type": "code",
   "execution_count": 98,
   "metadata": {},
   "outputs": [
    {
     "name": "stdout",
     "output_type": "stream",
     "text": [
      "Mean Absolute Error: 4.1\n",
      "Mean Absolute Percentage Error : 80.79 %.\n",
      "Accuracy : 10.0 %.\n"
     ]
    }
   ],
   "source": [
    "y_pred = evaluaterank(y_test,y_pred)"
   ]
  },
  {
   "cell_type": "code",
   "execution_count": 99,
   "metadata": {
    "scrolled": true
   },
   "outputs": [
    {
     "data": {
      "text/plain": [
       "[4, 5, 19, 1, 2, 3, 20, 7, 9, 6, 11, 15, 16, 13, 10, 12, 8, 14, 17, 18]"
      ]
     },
     "execution_count": 99,
     "metadata": {},
     "output_type": "execute_result"
    }
   ],
   "source": [
    "y_pred"
   ]
  },
  {
   "cell_type": "markdown",
   "metadata": {},
   "source": [
    "### Classification"
   ]
  },
  {
   "cell_type": "code",
   "execution_count": 100,
   "metadata": {},
   "outputs": [],
   "source": [
    "param_grid = { \n",
    "    'n_estimators': [100,500,800],\n",
    "    'max_features': ['auto', 'sqrt', 'log2'],\n",
    "    'max_depth' : [4,5,6,7,None],\n",
    "    'criterion' :['gini', 'entropy']\n",
    "}"
   ]
  },
  {
   "cell_type": "code",
   "execution_count": 101,
   "metadata": {},
   "outputs": [
    {
     "name": "stderr",
     "output_type": "stream",
     "text": [
      "C:\\Users\\benja\\anaconda3\\lib\\site-packages\\sklearn\\model_selection\\_search.py:278: UserWarning: The total space of parameters 90 is smaller than n_iter=100. Running 90 iterations. For exhaustive searches, use GridSearchCV.\n",
      "  warnings.warn(\n",
      "[Parallel(n_jobs=-1)]: Using backend LokyBackend with 8 concurrent workers.\n"
     ]
    },
    {
     "name": "stdout",
     "output_type": "stream",
     "text": [
      "Fitting 2 folds for each of 90 candidates, totalling 180 fits\n"
     ]
    },
    {
     "name": "stderr",
     "output_type": "stream",
     "text": [
      "[Parallel(n_jobs=-1)]: Done  25 tasks      | elapsed:    9.9s\n",
      "[Parallel(n_jobs=-1)]: Done 146 tasks      | elapsed:  1.0min\n",
      "[Parallel(n_jobs=-1)]: Done 180 out of 180 | elapsed:  1.2min finished\n"
     ]
    },
    {
     "data": {
      "text/plain": [
       "RandomizedSearchCV(cv=2, estimator=RandomForestClassifier(random_state=42),\n",
       "                   n_iter=100, n_jobs=-1,\n",
       "                   param_distributions={'criterion': ['gini', 'entropy'],\n",
       "                                        'max_depth': [4, 5, 6, 7, None],\n",
       "                                        'max_features': ['auto', 'sqrt',\n",
       "                                                         'log2'],\n",
       "                                        'n_estimators': [100, 500, 800]},\n",
       "                   random_state=42, verbose=2)"
      ]
     },
     "execution_count": 101,
     "metadata": {},
     "output_type": "execute_result"
    }
   ],
   "source": [
    "rfc=RandomForestClassifier(random_state=42)\n",
    "CV_rfc = RandomizedSearchCV(estimator = rfc, param_distributions = param_grid, n_iter = 100, cv = 2, verbose=2, random_state=42, n_jobs = -1)\n",
    "CV_rfc.fit(X_train, y_train)"
   ]
  },
  {
   "cell_type": "code",
   "execution_count": 102,
   "metadata": {},
   "outputs": [
    {
     "data": {
      "text/plain": [
       "RandomForestRegressor(max_depth=3, min_samples_leaf=2, min_samples_split=5,\n",
       "                      n_estimators=200)"
      ]
     },
     "execution_count": 102,
     "metadata": {},
     "output_type": "execute_result"
    }
   ],
   "source": [
    "best_randomCV = CV_rfc.best_estimator_\n",
    "best_random"
   ]
  },
  {
   "cell_type": "code",
   "execution_count": 103,
   "metadata": {},
   "outputs": [
    {
     "name": "stdout",
     "output_type": "stream",
     "text": [
      "Score on train data: 0.9944444444444445\n",
      "Mean Absolute Error: 3.4\n",
      "Mean Absolute Percentage Error : 37.99 %.\n",
      "Accuracy : 20.0 %.\n"
     ]
    }
   ],
   "source": [
    "print('Score on train data:',best_randomCV.score(X_train, y_train))\n",
    "y_pred = evaluate(best_randomCV, X_test, y_test)"
   ]
  },
  {
   "cell_type": "code",
   "execution_count": 104,
   "metadata": {
    "scrolled": true
   },
   "outputs": [
    {
     "data": {
      "text/plain": [
       "array([ 3,  4,  3,  4,  7,  8,  6, 12,  8, 10, 10, 14, 12, 12, 12,  5, 18,\n",
       "       18,  5,  1], dtype=int64)"
      ]
     },
     "execution_count": 104,
     "metadata": {},
     "output_type": "execute_result"
    }
   ],
   "source": [
    "y_pred"
   ]
  },
  {
   "cell_type": "markdown",
   "metadata": {},
   "source": [
    "## Scaled"
   ]
  },
  {
   "cell_type": "code",
   "execution_count": 105,
   "metadata": {},
   "outputs": [],
   "source": [
    "X_train,y_train,X_test,y_test = test_train_creation_gp(df_scaled2,2021,15)"
   ]
  },
  {
   "cell_type": "markdown",
   "metadata": {},
   "source": [
    "### Regressor"
   ]
  },
  {
   "cell_type": "code",
   "execution_count": 106,
   "metadata": {},
   "outputs": [
    {
     "name": "stdout",
     "output_type": "stream",
     "text": [
      "Fitting 2 folds for each of 100 candidates, totalling 200 fits\n"
     ]
    },
    {
     "name": "stderr",
     "output_type": "stream",
     "text": [
      "[Parallel(n_jobs=-1)]: Using backend LokyBackend with 8 concurrent workers.\n",
      "[Parallel(n_jobs=-1)]: Done  25 tasks      | elapsed:    9.4s\n",
      "[Parallel(n_jobs=-1)]: Done 146 tasks      | elapsed:   40.4s\n",
      "[Parallel(n_jobs=-1)]: Done 200 out of 200 | elapsed:   53.9s finished\n"
     ]
    },
    {
     "data": {
      "text/plain": [
       "RandomizedSearchCV(cv=2, estimator=RandomForestRegressor(), n_iter=100,\n",
       "                   n_jobs=-1,\n",
       "                   param_distributions={'max_depth': [3, 5, 10, 20, 30, None],\n",
       "                                        'max_features': ['auto', 'sqrt'],\n",
       "                                        'min_samples_leaf': [1, 2],\n",
       "                                        'min_samples_split': [2, 5],\n",
       "                                        'n_estimators': [100, 200, 400, 600,\n",
       "                                                         800]},\n",
       "                   random_state=42, verbose=2)"
      ]
     },
     "execution_count": 106,
     "metadata": {},
     "output_type": "execute_result"
    }
   ],
   "source": [
    "rf = RandomForestRegressor()\n",
    "rf_random = RandomizedSearchCV(estimator = rf, param_distributions = random_grid, n_iter = 100, cv = 2, verbose=2, random_state=42, n_jobs = -1)\n",
    "rf_random.fit(X_train, y_train)"
   ]
  },
  {
   "cell_type": "code",
   "execution_count": 107,
   "metadata": {},
   "outputs": [
    {
     "name": "stdout",
     "output_type": "stream",
     "text": [
      "RandomForestRegressor(max_depth=3, min_samples_leaf=2, min_samples_split=5,\n",
      "                      n_estimators=200)\n",
      "Score on train data: 0.5530203224122479\n",
      "Mean Absolute Error: 4.06\n",
      "Mean Absolute Percentage Error : 98.17 %.\n",
      "Accuracy : 0.0 %.\n",
      "[ 8.01954512 12.59526917  7.20470661  7.27444449 11.85255321  7.60691359\n",
      "  7.65000285 11.98877928  7.88318909  7.93183323  7.75936996 10.32297846\n",
      " 11.10876399  8.01651581 10.60140546 13.59626989 12.07568098 14.37105779\n",
      " 14.01552221 13.37310168]\n",
      "Mean Absolute Error: 4.0\n",
      "Mean Absolute Percentage Error : 58.02 %.\n",
      "Accuracy : 5.0 %.\n",
      "[3, 4, 6, 7, 11, 9, 10, 14, 1, 12, 15, 13, 5, 8, 17, 2, 20, 16, 19, 18]\n"
     ]
    }
   ],
   "source": [
    "best_random = rf_random.best_estimator_\n",
    "print(best_random)\n",
    "print('Score on train data:',best_random.score(X_train, y_train))\n",
    "y_pred = evaluate(best_random, X_test, y_test)\n",
    "print(y_pred)\n",
    "y_pred = evaluaterank(y_test,y_pred)\n",
    "print(y_pred)"
   ]
  },
  {
   "cell_type": "markdown",
   "metadata": {},
   "source": [
    "### Classificator "
   ]
  },
  {
   "cell_type": "code",
   "execution_count": 108,
   "metadata": {},
   "outputs": [
    {
     "name": "stdout",
     "output_type": "stream",
     "text": [
      "Fitting 2 folds for each of 90 candidates, totalling 180 fits\n"
     ]
    },
    {
     "name": "stderr",
     "output_type": "stream",
     "text": [
      "C:\\Users\\benja\\anaconda3\\lib\\site-packages\\sklearn\\model_selection\\_search.py:278: UserWarning: The total space of parameters 90 is smaller than n_iter=100. Running 90 iterations. For exhaustive searches, use GridSearchCV.\n",
      "  warnings.warn(\n",
      "[Parallel(n_jobs=-1)]: Using backend LokyBackend with 8 concurrent workers.\n",
      "[Parallel(n_jobs=-1)]: Done  25 tasks      | elapsed:   11.4s\n",
      "[Parallel(n_jobs=-1)]: Done 146 tasks      | elapsed:  1.0min\n",
      "[Parallel(n_jobs=-1)]: Done 180 out of 180 | elapsed:  1.2min finished\n"
     ]
    },
    {
     "data": {
      "text/plain": [
       "RandomizedSearchCV(cv=2, estimator=RandomForestClassifier(random_state=42),\n",
       "                   n_iter=100, n_jobs=-1,\n",
       "                   param_distributions={'criterion': ['gini', 'entropy'],\n",
       "                                        'max_depth': [4, 5, 6, 7, None],\n",
       "                                        'max_features': ['auto', 'sqrt',\n",
       "                                                         'log2'],\n",
       "                                        'n_estimators': [100, 500, 800]},\n",
       "                   random_state=42, verbose=2)"
      ]
     },
     "execution_count": 108,
     "metadata": {},
     "output_type": "execute_result"
    }
   ],
   "source": [
    "rfc=RandomForestClassifier(random_state=42)\n",
    "CV_rfc = RandomizedSearchCV(estimator = rfc, param_distributions = param_grid, n_iter = 100, cv = 2, verbose=2, random_state=42, n_jobs = -1)\n",
    "CV_rfc.fit(X_train, y_train)"
   ]
  },
  {
   "cell_type": "code",
   "execution_count": 109,
   "metadata": {
    "scrolled": false
   },
   "outputs": [
    {
     "name": "stdout",
     "output_type": "stream",
     "text": [
      "RandomForestRegressor(max_depth=3, min_samples_leaf=2, min_samples_split=5,\n",
      "                      n_estimators=200)\n",
      "Score on train data: 0.9178571428571428\n",
      "Mean Absolute Error: 4.0\n",
      "Mean Absolute Percentage Error : 66.78 %.\n",
      "Accuracy : 0.0 %.\n",
      "[ 3 12  4  5  3  7  4 15  5  3  7 10 10  9  8 13 10 16 14 16]\n"
     ]
    }
   ],
   "source": [
    "best_randomCV = CV_rfc.best_estimator_\n",
    "print(best_random)\n",
    "print('Score on train data:',best_randomCV.score(X_train, y_train))\n",
    "y_pred = evaluate(best_randomCV, X_test, y_test)\n",
    "print(y_pred)"
   ]
  },
  {
   "cell_type": "markdown",
   "metadata": {},
   "source": [
    "After the analysis of the results, we can observe that the tunning of parameter is not really the good methode.\n",
    "We have a dataset that changes everytime, so we are not able to find the best parameters. Especially for the begining of the season"
   ]
  },
  {
   "cell_type": "markdown",
   "metadata": {},
   "source": [
    "The strategie now is to keep the random forest but to decide between the regressor or the classificator one."
   ]
  },
  {
   "cell_type": "markdown",
   "metadata": {},
   "source": [
    "We also have to finally decide between the scaled data and the normal ones. "
   ]
  },
  {
   "cell_type": "markdown",
   "metadata": {},
   "source": [
    "To do so we'll compare all the possibilities and the results that are possible in our dataset"
   ]
  },
  {
   "cell_type": "markdown",
   "metadata": {},
   "source": [
    "#### All the possibilities predicted from non scaled data "
   ]
  },
  {
   "cell_type": "code",
   "execution_count": 110,
   "metadata": {},
   "outputs": [
    {
     "name": "stdout",
     "output_type": "stream",
     "text": [
      "error at: 2018   1\n",
      "error at: 2020   18\n",
      "error at: 2020   19\n",
      "error at: 2020   20\n",
      "error at: 2020   21\n"
     ]
    }
   ],
   "source": [
    "year = [2018,2019,2020,2021]\n",
    "GpNumber = [i for i in range(1,22)]\n",
    "reg=[]\n",
    "clf = []\n",
    "for y in year:\n",
    "    for g in GpNumber:\n",
    "        try:\n",
    "\n",
    "            X_train,y_train,X_test,y_test = test_train_creation_gp(df_features2,y,g)\n",
    "            random_forest = RandomForestClassifier() \n",
    "            model_rd = random_forest.fit(X_train, y_train)\n",
    "\n",
    "            y_pred = evaluateNoDisplay(random_forest, X_test, y_test)\n",
    "            clf.append((y_pred,y,g))\n",
    "\n",
    "            random_forest = RandomForestRegressor()\n",
    "            model_rd = random_forest.fit(X_train, y_train)\n",
    "            y_pred,acc = evaluateNoDisplay(random_forest, X_test, y_test)\n",
    "            l=[]\n",
    "            l.append((y,g))\n",
    "            l.append(acc)\n",
    "            l.append(y_test)\n",
    "            l.append(y_pred.copy())\n",
    "            y_pred_2 = evaluaterankNoDisplay(y_test,y_pred)\n",
    "            l.append(y_pred_2)\n",
    "            reg.append(l)\n",
    "        except : \n",
    "            print( 'error at:',y,' ',g)\n",
    "            \n",
    "            "
   ]
  },
  {
   "cell_type": "code",
   "execution_count": 111,
   "metadata": {},
   "outputs": [
    {
     "name": "stdout",
     "output_type": "stream",
     "text": [
      "Average Accuracy regression without ranking : 7.9113924050632916 %\n"
     ]
    }
   ],
   "source": [
    "sum_reg = 0\n",
    "for i in reg: \n",
    "    sum_reg+= i[1][2]\n",
    "print('Average Accuracy regression without ranking :',sum_reg/len(reg),'%')"
   ]
  },
  {
   "cell_type": "code",
   "execution_count": 112,
   "metadata": {},
   "outputs": [
    {
     "name": "stdout",
     "output_type": "stream",
     "text": [
      "Average Accuracy regression with ranking : 12.08860759493671 %\n"
     ]
    }
   ],
   "source": [
    "sum_rank = 0\n",
    "for i in reg:\n",
    "    t = i[4]\n",
    "    c = 0\n",
    "    for pos in range(0,20):\n",
    "        if (1+pos)==t[0][pos]:\n",
    "            c+=1\n",
    "    sum_rank+=((c/20)*100)\n",
    "print('Average Accuracy regression with ranking :',sum_rank/len(reg),'%')\n",
    "        "
   ]
  },
  {
   "cell_type": "code",
   "execution_count": 113,
   "metadata": {},
   "outputs": [
    {
     "data": {
      "text/plain": [
       "[((array([18,  8, 18, 18, 18, 18, 18,  9, 18, 12, 18, 18, 18, 18, 20, 12, 18,\n",
       "          18, 18, 18], dtype=int64),\n",
       "   [6.75, 192.99, 5.0]),\n",
       "  2018,\n",
       "  2),\n",
       " ((array([14,  2,  1,  2,  6,  6,  7,  1, 11, 14, 15, 16,  8, 14, 14, 14, 14,\n",
       "           9, 12, 15], dtype=int64),\n",
       "   [3.55, 92.16, 20.0]),\n",
       "  2018,\n",
       "  3),\n",
       " ((array([ 2,  3, 12,  8, 11, 19,  7, 14, 13, 19, 16, 18, 16,  2, 16,  5,  1,\n",
       "          19,  1, 15], dtype=int64),\n",
       "   [6.55, 79.76, 5.0]),\n",
       "  2018,\n",
       "  4)]"
      ]
     },
     "execution_count": 113,
     "metadata": {},
     "output_type": "execute_result"
    }
   ],
   "source": [
    "clf[:3]"
   ]
  },
  {
   "cell_type": "markdown",
   "metadata": {},
   "source": [
    "When we look at the result of the Classificator, we can see that it is not a logical result for our problem.\n",
    "Having a regressor allows us to classifie the position of the driver in a better way because the regressor will not give us two times the same result."
   ]
  },
  {
   "cell_type": "markdown",
   "metadata": {},
   "source": [
    "We will focus on the regressor"
   ]
  },
  {
   "cell_type": "markdown",
   "metadata": {},
   "source": [
    "### Now we are also testing on the scaled data."
   ]
  },
  {
   "cell_type": "code",
   "execution_count": 114,
   "metadata": {
    "scrolled": true
   },
   "outputs": [
    {
     "name": "stdout",
     "output_type": "stream",
     "text": [
      "error at: 2018   1\n",
      "error at: 2020   18\n",
      "error at: 2020   19\n",
      "error at: 2020   20\n",
      "error at: 2020   21\n"
     ]
    }
   ],
   "source": [
    "year = [2018,2019,2020,2021]\n",
    "GpNumber = [i for i in range(1,22)]\n",
    "reg_scaled=[]\n",
    "clf_scaled = []\n",
    "for y in year:\n",
    "    for g in GpNumber:\n",
    "        try:\n",
    "            X_train,y_train,X_test,y_test = test_train_creation_gp(df_scaled2,y,g)\n",
    "            random_forest = RandomForestClassifier() \n",
    "            model_rd = random_forest.fit(X_train, y_train)\n",
    "\n",
    "            y_pred = evaluateNoDisplay(random_forest, X_test, y_test)\n",
    "            clf_scaled.append((y_pred,y,g))\n",
    "\n",
    "            random_forest = RandomForestRegressor() \n",
    "            model_rd = random_forest.fit(X_train, y_train)\n",
    "            y_pred,acc = evaluateNoDisplay(random_forest, X_test, y_test)\n",
    "            l=[]\n",
    "            l.append((y,g))\n",
    "            l.append(acc)\n",
    "            l.append(y_test)\n",
    "            l.append(y_pred.copy())\n",
    "            y_pred_2 = evaluaterankNoDisplay(y_test,y_pred)\n",
    "            l.append(y_pred_2)\n",
    "            reg_scaled.append(l)\n",
    "        except:\n",
    "            print( 'error at:',y,' ',g)\n",
    "            "
   ]
  },
  {
   "cell_type": "code",
   "execution_count": 115,
   "metadata": {},
   "outputs": [
    {
     "name": "stdout",
     "output_type": "stream",
     "text": [
      "Average Accuracy regression without ranking : 8.670886075949367 %\n"
     ]
    }
   ],
   "source": [
    "sum_reg = 0\n",
    "for i in reg_scaled: \n",
    "    sum_reg+= i[1][2]\n",
    "print('Average Accuracy regression without ranking :',sum_reg/len(reg_scaled),'%')"
   ]
  },
  {
   "cell_type": "code",
   "execution_count": 116,
   "metadata": {},
   "outputs": [
    {
     "name": "stdout",
     "output_type": "stream",
     "text": [
      "Average Accuracy regression with ranking : 12.151898734177216 %\n"
     ]
    }
   ],
   "source": [
    "sum_rank = 0\n",
    "for i in reg_scaled:\n",
    "    t = i[4]\n",
    "    c = 0\n",
    "    for pos in range(0,20):\n",
    "        if (1+pos)==t[0][pos]:\n",
    "            c+=1\n",
    "    sum_rank+=((c/20)*100)\n",
    "print('Average Accuracy regression with ranking :',sum_rank/len(reg_scaled),'%')\n",
    "        "
   ]
  },
  {
   "cell_type": "markdown",
   "metadata": {},
   "source": [
    "##### We should try to find a good random state"
   ]
  },
  {
   "cell_type": "code",
   "execution_count": 117,
   "metadata": {
    "scrolled": true
   },
   "outputs": [
    {
     "name": "stdout",
     "output_type": "stream",
     "text": [
      "error at: 2018   1\n",
      "error at: 2020   18\n",
      "error at: 2020   19\n",
      "error at: 2020   20\n",
      "error at: 2020   21\n",
      "Random state: 5\n",
      "Average Accuracy regression without ranking : 8.734177215189874 %\n",
      "Average Accuracy regression with ranking : 12.531645569620252 %\n",
      "\n"
     ]
    }
   ],
   "source": [
    "year = [2018,2019,2020,2021]\n",
    "GpNumber = [i for i in range(1,22)]\n",
    "\n",
    "random_state_result = []\n",
    "for random in [x for x in range(5,6)]: # between 0 and 100 for testing\n",
    "    reg_scaled=[]\n",
    "    for y in year:\n",
    "        for g in GpNumber:\n",
    "            try:\n",
    "                X_train,y_train,X_test,y_test = test_train_creation_gp(df_scaled2,y,g)\n",
    "\n",
    "                random_forest = RandomForestRegressor(random_state = random) \n",
    "                model_rd = random_forest.fit(X_train, y_train)\n",
    "                y_pred,acc = evaluateNoDisplay(random_forest, X_test, y_test)\n",
    "                l=[]\n",
    "                l.append((y,g))\n",
    "                l.append(acc)\n",
    "                l.append(y_test)\n",
    "                l.append(y_pred.copy())\n",
    "                y_pred_2 = evaluaterankNoDisplay(y_test,y_pred)\n",
    "                l.append(y_pred_2)\n",
    "                reg_scaled.append(l)\n",
    "            except : \n",
    "                print( 'error at:',y,' ',g)\n",
    "                \n",
    "    print('Random state:',random)      \n",
    "    sum_reg = 0\n",
    "    for i in reg_scaled: \n",
    "        sum_reg+= i[1][2]\n",
    "    print('Average Accuracy regression without ranking :',sum_reg/len(reg_scaled),'%')\n",
    "    sum_rank = 0\n",
    "    for i in reg_scaled:\n",
    "        t = i[4]\n",
    "        c = 0\n",
    "        for pos in range(0,20):\n",
    "            if (1+pos)==t[0][pos]:\n",
    "                c+=1\n",
    "        sum_rank+=((c/20)*100)\n",
    "    print('Average Accuracy regression with ranking :',sum_rank/len(reg_scaled),'%')\n",
    "    print('')\n",
    "    random_state_result.append([random,sum_reg/len(reg_scaled),sum_rank/len(reg_scaled),reg_scaled])\n"
   ]
  },
  {
   "cell_type": "markdown",
   "metadata": {},
   "source": [
    "test made between 0 and 100, best results : Random_state = 9/19/42/43/47!! 47 is the best by far. (12.8 pourcents accuracy)"
   ]
  },
  {
   "cell_type": "markdown",
   "metadata": {},
   "source": [
    "### After several testing with the supposed best parameters etc, We conclude that the best opportunity to predict the race result is  the Random forest regression with ranking on the scaled data."
   ]
  },
  {
   "cell_type": "code",
   "execution_count": 118,
   "metadata": {},
   "outputs": [
    {
     "name": "stdout",
     "output_type": "stream",
     "text": [
      "error at: 2018   1\n",
      "error at: 2018   22\n",
      "error at: 2019   22\n",
      "error at: 2020   18\n",
      "error at: 2020   19\n",
      "error at: 2020   20\n",
      "error at: 2020   21\n",
      "error at: 2020   22\n"
     ]
    }
   ],
   "source": [
    "year = [2018,2019,2020,2021]\n",
    "GpNumber = [i for i in range(1,23)]\n",
    "reg_scaled=[]\n",
    "\n",
    "for y in year:\n",
    "    for g in GpNumber:\n",
    "        try:\n",
    "            X_train,y_train,X_test,y_test = test_train_creation_gp(df_scaled2,y,g)\n",
    "\n",
    "\n",
    "            random_forest = RandomForestRegressor(random_state = 47) \n",
    "            model_rd = random_forest.fit(X_train, y_train)\n",
    "            y_pred,acc = evaluateNoDisplay(random_forest, X_test, y_test)\n",
    "            l=[]\n",
    "            l.append((y,g))\n",
    "            l.append(acc)\n",
    "            l.append(y_test)\n",
    "            l.append(y_pred.copy())\n",
    "            y_pred_2 = evaluaterankNoDisplay(y_test,y_pred)\n",
    "            l.append(y_pred_2)\n",
    "            reg_scaled.append(l)\n",
    "        except:\n",
    "            print( 'error at:',y,' ',g)\n",
    "            "
   ]
  },
  {
   "cell_type": "code",
   "execution_count": 119,
   "metadata": {
    "scrolled": true
   },
   "outputs": [
    {
     "name": "stdout",
     "output_type": "stream",
     "text": [
      "Average Accuracy regression without ranking : 8.694078947368421 %\n",
      "Average Accuracy regression with ranking : 13.223684210526315 %\n",
      "\n"
     ]
    }
   ],
   "source": [
    "   \n",
    "sum_reg = 0\n",
    "for i in reg_scaled: \n",
    "    sum_reg+= i[1][2]\n",
    "print('Average Accuracy regression without ranking :',sum_reg/len(reg_scaled),'%')\n",
    "sum_rank = 0\n",
    "for i in reg_scaled:\n",
    "    t = i[4]\n",
    "    c = 0\n",
    "    if len(t) == 20 :\n",
    "        for pos in range(0,20):\n",
    "            if (1+pos)==t[0][pos]:\n",
    "                c+=1\n",
    "        sum_rank+=((c/20)*100)\n",
    "    else : \n",
    "        for pos in range(0,19):\n",
    "            if (1+pos)==t[0][pos]:\n",
    "                c+=1\n",
    "        sum_rank+=((c/19)*100)\n",
    "print('Average Accuracy regression with ranking :',sum_rank/len(reg_scaled),'%')\n",
    "print('')\n",
    "random_state_result.append([random,sum_reg/len(reg_scaled),sum_rank/len(reg_scaled),reg_scaled])\n"
   ]
  },
  {
   "cell_type": "markdown",
   "metadata": {},
   "source": [
    "# Performance study "
   ]
  },
  {
   "cell_type": "markdown",
   "metadata": {},
   "source": [
    "We have to understand what the random forest predict and how is it permormant. "
   ]
  },
  {
   "cell_type": "markdown",
   "metadata": {},
   "source": [
    "### global Accuracy "
   ]
  },
  {
   "cell_type": "markdown",
   "metadata": {},
   "source": [
    "We have an accuracy global of :  this number is calculated by training the model on every possibility of train and test that we can have"
   ]
  },
  {
   "cell_type": "markdown",
   "metadata": {},
   "source": [
    "This number seems low, but considering all the parameters of the formula one, and also the DNS problem that can occure, this number is good."
   ]
  },
  {
   "cell_type": "markdown",
   "metadata": {},
   "source": [
    "This accuracy needs to be compared with other indicators."
   ]
  },
  {
   "cell_type": "markdown",
   "metadata": {},
   "source": [
    "### performance within an Interval "
   ]
  },
  {
   "cell_type": "markdown",
   "metadata": {},
   "source": [
    "For this insight, we'll considere valide, a position that is +-1 the real position."
   ]
  },
  {
   "cell_type": "code",
   "execution_count": 120,
   "metadata": {},
   "outputs": [],
   "source": [
    "def interval_acc(reg_scaled,interval):\n",
    "    sum_rank = 0\n",
    "    for i in reg_scaled:\n",
    "        t = i[4]\n",
    "        c = 0\n",
    "        if len(t) == 20 :\n",
    "            for pos in range(0,20):\n",
    "                for j in range(0,(interval+1)):\n",
    "                    if ((1+pos+j)==t[0][pos])|((1+pos-j)==t[0][pos]):\n",
    "                        c+=1\n",
    "                        break\n",
    "            sum_rank+=((c/20)*100)\n",
    "        else : \n",
    "            for pos in range(0,19):\n",
    "                for j in range(0,(interval+1)):\n",
    "                    if ((1+pos+j)==t[0][pos])|((1+pos-j)==t[0][pos]):\n",
    "                        c+=1\n",
    "                        break\n",
    "            sum_rank+=((c/19)*100)\n",
    "    return sum_rank/len(reg_scaled)"
   ]
  },
  {
   "cell_type": "code",
   "execution_count": 121,
   "metadata": {},
   "outputs": [
    {
     "name": "stdout",
     "output_type": "stream",
     "text": [
      "Interval Accuracy : 31.381578947368418 %\n"
     ]
    }
   ],
   "source": [
    "print('Interval Accuracy :',interval_acc(reg_scaled,1),'%')"
   ]
  },
  {
   "cell_type": "markdown",
   "metadata": {},
   "source": [
    "Now we have 30 pourcents of success if we classifie the pilot in an interval of 3 places."
   ]
  },
  {
   "cell_type": "code",
   "execution_count": 122,
   "metadata": {
    "scrolled": false
   },
   "outputs": [
    {
     "data": {
      "image/png": "[encoded data removed]",
      "text/plain": [
       "<Figure size 720x504 with 1 Axes>"
      ]
     },
     "metadata": {
      "needs_background": "light"
     },
     "output_type": "display_data"
    }
   ],
   "source": [
    "intervals = [interval_acc(reg_scaled,x) for x in range(15)]\n",
    "x = [x for x in range(15)]\n",
    "fig, ax = plt.subplots(figsize = (10,7))\n",
    "ax.scatter(x, intervals)\n",
    "for i, txt in enumerate([round(j,2) for j in intervals]):\n",
    "    ax.annotate(txt, (x[i], (intervals[i]-4)))\n",
    "ax.plot([x for x in range(15)], intervals)\n",
    "ax.set_title('Accuracy in fonction of the position Interval')\n",
    "ax.set_ylabel('Mean accuracy in %')\n",
    "ax.set_xlabel('position Interval')\n",
    "plt.grid(axis='x', color='0.8')\n",
    "ax.set_facecolor('seashell')\n",
    "plt.tight_layout();\n"
   ]
  },
  {
   "cell_type": "markdown",
   "metadata": {},
   "source": [
    "Another insight is very good to calculate : The accuracy depending on the position"
   ]
  },
  {
   "cell_type": "markdown",
   "metadata": {},
   "source": [
    "### The position accuracy"
   ]
  },
  {
   "cell_type": "markdown",
   "metadata": {},
   "source": [
    "In formula One we want to know who is going to be the first, the middle field or the queue is \"less\" important. We want to understand if our model can predict the front row the best or not."
   ]
  },
  {
   "cell_type": "code",
   "execution_count": 123,
   "metadata": {},
   "outputs": [],
   "source": [
    "def position_acc(reg_scaled,position):\n",
    "    sum_rank = 0\n",
    "    for i in reg_scaled:\n",
    "        t = i[4]\n",
    "        c = 0  \n",
    "        if t != reg_scaled[-1][4] :\n",
    "            if (position==t[0][position-1]):\n",
    "                c+=1\n",
    "\n",
    "            sum_rank+=c\n",
    "        else : \n",
    "            position -=1\n",
    "            if (position==round(t[0][position-1])):\n",
    "                c=c\n",
    "\n",
    "            sum_rank+=c\n",
    "    return (sum_rank/len(reg_scaled))*100"
   ]
  },
  {
   "cell_type": "code",
   "execution_count": 124,
   "metadata": {},
   "outputs": [
    {
     "name": "stdout",
     "output_type": "stream",
     "text": [
      "Position Accuracy for the Race Winner : 47.5 %\n"
     ]
    }
   ],
   "source": [
    "print('Position Accuracy for the Race Winner :',position_acc(reg_scaled,1),'%')"
   ]
  },
  {
   "cell_type": "code",
   "execution_count": 125,
   "metadata": {
    "scrolled": false
   },
   "outputs": [
    {
     "data": {
      "image/png": "[encoded data removed]",
      "text/plain": [
       "<Figure size 720x504 with 1 Axes>"
      ]
     },
     "metadata": {
      "needs_background": "light"
     },
     "output_type": "display_data"
    }
   ],
   "source": [
    "positions_acc = [position_acc(reg_scaled,x) for x in range(1,21)]\n",
    "x = [x for x in range(1,21)]\n",
    "fig, ax = plt.subplots(figsize = (10,7))\n",
    "ax.bar(x, positions_acc)\n",
    "for i, txt in enumerate([round(j,2) for j in positions_acc]):\n",
    "    ax.annotate(txt, ((x[i]-0.5), (positions_acc[i]+0.5)))\n",
    "ax.set_title('Accuracy in fonction of the position')\n",
    "ax.set_ylabel('Mean accuracy in %')\n",
    "ax.set_xlabel('position')\n",
    "plt.grid(axis='x', color='0.8')\n",
    "ax.set_facecolor('seashell')\n",
    "plt.tight_layout();"
   ]
  },
  {
   "cell_type": "markdown",
   "metadata": {},
   "source": [
    "We can observe that our model can make very good predictions concerning the first drivers and the podium"
   ]
  },
  {
   "cell_type": "markdown",
   "metadata": {},
   "source": [
    "Our model is based on a dataset that get bigger during the season. \n",
    "Indeed, the data of the previous Grand Prix are added to feed the Train. In this case,\n",
    "it is interesting to see the progression of the accuracy depending on the gp Number"
   ]
  },
  {
   "cell_type": "markdown",
   "metadata": {},
   "source": [
    "### Accuracy evolution during the Season "
   ]
  },
  {
   "cell_type": "code",
   "execution_count": 126,
   "metadata": {},
   "outputs": [],
   "source": [
    "def evolution_acc(reg_scaled,gpNumber):\n",
    "    sum_y = 0\n",
    "    for y in [2018,2019,2020,2021]:\n",
    "        sum_rank = 0\n",
    "        gpn =0\n",
    "        for i in reg_scaled:\n",
    "            if (i[0][0] == y)&(i[0][1]<=gpNumber):\n",
    "                t = i[4]\n",
    "                c = 0\n",
    "                gpn+=1\n",
    "                if len(t) == 20 :\n",
    "                    for pos in range(0,20):\n",
    "                        if (1+pos)==t[0][pos]:\n",
    "                            c+=1\n",
    "                    sum_rank+=((c/20)*100)\n",
    "                else:\n",
    "                    for pos in range(0,19):\n",
    "                        if (1+pos)==round(t[0][pos]):\n",
    "                            c+=1\n",
    "                    sum_rank+=((c/19)*100)\n",
    "        if gpn!=0:\n",
    "            sum_y+=sum_rank/gpn\n",
    "    return sum_y/4"
   ]
  },
  {
   "cell_type": "code",
   "execution_count": 127,
   "metadata": {},
   "outputs": [],
   "source": [
    "from scipy.interpolate import make_interp_spline"
   ]
  },
  {
   "cell_type": "code",
   "execution_count": 128,
   "metadata": {
    "scrolled": false
   },
   "outputs": [
    {
     "data": {
      "image/png": "[encoded data removed]",
      "text/plain": [
       "<Figure size 720x504 with 1 Axes>"
      ]
     },
     "metadata": {
      "needs_background": "light"
     },
     "output_type": "display_data"
    }
   ],
   "source": [
    "\n",
    "evolutions = [evolution_acc(reg_scaled,x) for x in range(1,23)]\n",
    "x = np.array([x for x in range(1,23)])\n",
    "\n",
    "X_Y_Spline = make_interp_spline(x, evolutions)\n",
    " \n",
    "X_ = np.linspace(x.min(), x.max(), 500)\n",
    "Y_ = X_Y_Spline(X_)\n",
    "\n",
    "fig, ax = plt.subplots(figsize = (10,7))\n",
    "ax.scatter(x, evolutions)\n",
    "for i, txt in enumerate([round(j,2) for j in evolutions]):\n",
    "    ax.annotate(txt, ((x[i]-0.4), (evolutions[i]+0.08)))\n",
    "ax.plot(X_, Y_)\n",
    "ax.set_title('Accuracy evolution during the season')\n",
    "ax.set_ylabel('Mean accuracy in %')\n",
    "ax.set_xlabel('Grand Prix Number')\n",
    "plt.grid(axis='x', color='0.8')\n",
    "ax.set_facecolor('seashell')\n",
    "plt.tight_layout();\n"
   ]
  },
  {
   "cell_type": "markdown",
   "metadata": {},
   "source": [
    "We can notice from this result that we might have a better accuracy if we change the number of grand prix in count in the train.\n",
    "We will use the function  test_train_creation_gpV2 to generate our Train"
   ]
  },
  {
   "cell_type": "markdown",
   "metadata": {},
   "source": [
    "## Modifiying the number of GP in train"
   ]
  },
  {
   "cell_type": "code",
   "execution_count": 129,
   "metadata": {},
   "outputs": [],
   "source": [
    "def test_deepness(n):\n",
    "    inter = []\n",
    "    posacc = []\n",
    "    evol = []\n",
    "    for n_ in range(1,n+1):\n",
    "        print('Results for',n_,'gp considered')\n",
    "        year = [2018,2019,2020,2021]\n",
    "        GpNumber = [i for i in range(1,23)]\n",
    "        reg_scaled=[]\n",
    "\n",
    "        for y in year:\n",
    "            for g in GpNumber:\n",
    "                try:\n",
    "                    X_train,y_train,X_test,y_test = test_train_creation_gpV2(df_scaled2,y,g,n_)\n",
    "\n",
    "\n",
    "                    random_forest = RandomForestRegressor(random_state = 47) \n",
    "                    model_rd = random_forest.fit(X_train, y_train)\n",
    "                    y_pred,acc = evaluateNoDisplay(random_forest, X_test, y_test)\n",
    "                    l=[]\n",
    "                    l.append((y,g))\n",
    "                    l.append(acc)\n",
    "                    l.append(y_test)\n",
    "                    l.append(y_pred.copy())\n",
    "                    y_pred_2 = evaluaterankNoDisplay(y_test,y_pred)\n",
    "                    l.append(y_pred_2)\n",
    "                    reg_scaled.append(l)\n",
    "                except:\n",
    "                    error = 0\n",
    "                    #print( 'error at:',y,' ',g)\n",
    "        sum_reg = 0\n",
    "        for i in reg_scaled: \n",
    "            sum_reg+= i[1][2]\n",
    "        print('Average Accuracy regression without ranking :',sum_reg/len(reg_scaled),'%')\n",
    "        sum_rank = 0\n",
    "        for i in reg_scaled:\n",
    "            t = i[4]\n",
    "            c = 0\n",
    "            if len(t) == 20 :\n",
    "                for pos in range(0,20):\n",
    "                    if (1+pos)==t[0][pos]:\n",
    "                        c+=1\n",
    "                sum_rank+=((c/20)*100)\n",
    "            else : \n",
    "                for pos in range(0,19):\n",
    "                    if (1+pos)==t[0][pos]:\n",
    "                        c+=1\n",
    "                sum_rank+=((c/19)*100)\n",
    "        print('Average Accuracy regression with ranking :',sum_rank/len(reg_scaled),'%')\n",
    "        print('')\n",
    "        \n",
    "        intervals = [interval_acc(reg_scaled,x) for x in range(15)]\n",
    "        positions_acc = [position_acc(reg_scaled,x) for x in range(1,21)]\n",
    "        evolutions = [evolution_acc(reg_scaled,x) for x in range(1,23)]\n",
    "        inter.append(intervals)\n",
    "        posacc.append(positions_acc)\n",
    "        evol.append(evolutions)\n",
    "        \n",
    "    x = [x for x in range(15)]\n",
    "    fig, ax = plt.subplots(figsize = (12,9))\n",
    "    c=1\n",
    "    for elmt in inter:\n",
    "        ax.scatter(x, elmt)\n",
    "        ax.plot([x for x in range(15)], elmt,label = c )\n",
    "        c+=1\n",
    "    ax.set_title('Accuracy in fonction of the position Interval')\n",
    "    ax.set_ylabel('Mean accuracy in %')\n",
    "    ax.set_xlabel('position Interval')\n",
    "    plt.grid(axis='x', color='0.8')\n",
    "    ax.set_facecolor('seashell')\n",
    "    ax.legend()\n",
    "    plt.tight_layout();\n",
    "    \n",
    "    \n",
    "    x = [x for x in range(1,21)]\n",
    "    fig, ax = plt.subplots(figsize = (12,9))\n",
    "    c=1\n",
    "    for elmt in posacc:\n",
    "        ax.plot(x, elmt,label = c )\n",
    "        c+=1\n",
    "    ax.set_title('Accuracy in fonction of the position')\n",
    "    ax.set_ylabel('Mean accuracy in %')\n",
    "    ax.set_xlabel('position')\n",
    "    plt.grid(axis='x', color='0.8')\n",
    "    ax.set_facecolor('seashell')\n",
    "    ax.legend()\n",
    "    plt.tight_layout();\n",
    "    \n",
    "    \n",
    "    x = np.array([x for x in range(1,23)])\n",
    "    fig, ax = plt.subplots(figsize = (12,9))\n",
    "    c=1\n",
    "    for elmt in evol:\n",
    "        X_Y_Spline = make_interp_spline(x, elmt)\n",
    "        X_ = np.linspace(x.min(), x.max(), 500)\n",
    "        Y_ = X_Y_Spline(X_)\n",
    "        ax.scatter(x, elmt)\n",
    "        ax.plot(X_, Y_,label = c )\n",
    "        c+=1\n",
    "    ax.set_title('Accuracy evolution during the season')\n",
    "    ax.set_ylabel('Mean accuracy in %')\n",
    "    ax.set_xlabel('Grand Prix Number')\n",
    "    plt.grid(axis='x', color='0.8')\n",
    "    ax.legend()\n",
    "    ax.set_facecolor('seashell')\n",
    "    plt.tight_layout();"
   ]
  },
  {
   "cell_type": "code",
   "execution_count": 130,
   "metadata": {},
   "outputs": [],
   "source": [
    "def test_deepness_Unique(n):\n",
    "    print('Results for ',n,'gp considered')\n",
    "    year = [2018,2019,2020,2021]\n",
    "    GpNumber = [i for i in range(1,23)]\n",
    "    reg_scaled=[]\n",
    "\n",
    "    for y in year:\n",
    "        for g in GpNumber:\n",
    "            try:\n",
    "                X_train,y_train,X_test,y_test = test_train_creation_gpV2(df_scaled2,y,g,n)\n",
    "\n",
    "\n",
    "                random_forest = RandomForestRegressor(random_state = 47) \n",
    "                model_rd = random_forest.fit(X_train, y_train)\n",
    "                y_pred,acc = evaluateNoDisplay(random_forest, X_test, y_test)\n",
    "                l=[]\n",
    "                l.append((y,g))\n",
    "                l.append(acc)\n",
    "                l.append(y_test)\n",
    "                l.append(y_pred.copy())\n",
    "                y_pred_2 = evaluaterankNoDisplay(y_test,y_pred)\n",
    "                l.append(y_pred_2)\n",
    "                reg_scaled.append(l)\n",
    "            except:\n",
    "                print( 'error at:',y,' ',g)\n",
    "    sum_reg = 0\n",
    "    for i in reg_scaled: \n",
    "        sum_reg+= i[1][2]\n",
    "    print('Average Accuracy regression without ranking :',sum_reg/len(reg_scaled),'%')\n",
    "    sum_rank = 0\n",
    "    for i in reg_scaled:\n",
    "        t = i[4]\n",
    "        c = 0\n",
    "        if len(t) == 20 :\n",
    "            for pos in range(0,20):\n",
    "                if (1+pos)==t[0][pos]:\n",
    "                    c+=1\n",
    "            sum_rank+=((c/20)*100)\n",
    "        else : \n",
    "            for pos in range(0,19):\n",
    "                if (1+pos)==t[0][pos]:\n",
    "                    c+=1\n",
    "            sum_rank+=((c/19)*100)\n",
    "    print('Average Accuracy regression with ranking :',sum_rank/len(reg_scaled),'%')\n",
    "    print('')\n",
    "    intervals = [interval_acc(reg_scaled,x) for x in range(15)]\n",
    "    x = [x for x in range(15)]\n",
    "    fig, ax = plt.subplots(figsize = (10,7))\n",
    "    ax.scatter(x, intervals)\n",
    "    for i, txt in enumerate([round(j,2) for j in intervals]):\n",
    "        ax.annotate(txt, (x[i], (intervals[i]-4)))\n",
    "    ax.plot([x for x in range(15)], intervals)\n",
    "    ax.set_title('Accuracy in fonction of the position Interval')\n",
    "    ax.set_ylabel('Mean accuracy in %')\n",
    "    ax.set_xlabel('position Interval')\n",
    "    plt.grid(axis='x', color='0.8')\n",
    "    ax.set_facecolor('seashell')\n",
    "    plt.tight_layout();\n",
    "    \n",
    "    positions_acc = [position_acc(reg_scaled,x) for x in range(1,21)]\n",
    "    x = [x for x in range(1,21)]\n",
    "    fig, ax = plt.subplots(figsize = (10,7))\n",
    "    ax.bar(x, positions_acc)\n",
    "    for i, txt in enumerate([round(j,2) for j in positions_acc]):\n",
    "        ax.annotate(txt, ((x[i]-0.5), (positions_acc[i]+0.5)))\n",
    "    ax.set_title('Accuracy in fonction of the position')\n",
    "    ax.set_ylabel('Mean accuracy in %')\n",
    "    ax.set_xlabel('position')\n",
    "    plt.grid(axis='x', color='0.8')\n",
    "    ax.set_facecolor('seashell')\n",
    "    plt.tight_layout();\n",
    "    evolutions = [evolution_acc(reg_scaled,x) for x in range(1,23)]\n",
    "    x = np.array([x for x in range(1,23)])\n",
    "\n",
    "    X_Y_Spline = make_interp_spline(x, evolutions)\n",
    "\n",
    "    X_ = np.linspace(x.min(), x.max(), 500)\n",
    "    Y_ = X_Y_Spline(X_)\n",
    "\n",
    "    fig, ax = plt.subplots(figsize = (10,7))\n",
    "    ax.scatter(x, evolutions)\n",
    "    for i, txt in enumerate([round(j,2) for j in evolutions]):\n",
    "        ax.annotate(txt, ((x[i]-0.4), (evolutions[i]+0.08)))\n",
    "    ax.plot(X_, Y_)\n",
    "    ax.set_title('Accuracy evolution during the season')\n",
    "    ax.set_ylabel('Mean accuracy in %')\n",
    "    ax.set_xlabel('Grand Prix Number')\n",
    "    plt.grid(axis='x', color='0.8')\n",
    "    ax.set_facecolor('seashell')\n",
    "    plt.tight_layout();"
   ]
  },
  {
   "cell_type": "markdown",
   "metadata": {},
   "source": [
    "Those functions help you see wich of the parameters n (number of gp take in account in the train) might be the best."
   ]
  },
  {
   "cell_type": "code",
   "execution_count": 131,
   "metadata": {
    "scrolled": false
   },
   "outputs": [
    {
     "ename": "NameError",
     "evalue": "name 'test_deepnesas' is not defined",
     "output_type": "error",
     "traceback": [
      "\u001b[1;31m---------------------------------------------------------------------------\u001b[0m",
      "\u001b[1;31mNameError\u001b[0m                                 Traceback (most recent call last)",
      "\u001b[1;32m<ipython-input-131-1a01f764c537>\u001b[0m in \u001b[0;36m<module>\u001b[1;34m\u001b[0m\n\u001b[1;32m----> 1\u001b[1;33m \u001b[0mtest_deepnesas\u001b[0m\u001b[1;33m(\u001b[0m\u001b[1;36m19\u001b[0m\u001b[1;33m)\u001b[0m\u001b[1;33m\u001b[0m\u001b[1;33m\u001b[0m\u001b[0m\n\u001b[0m",
      "\u001b[1;31mNameError\u001b[0m: name 'test_deepnesas' is not defined"
     ]
    }
   ],
   "source": [
    "test_deepness(19)"
   ]
  },
  {
   "cell_type": "markdown",
   "metadata": {},
   "source": [
    "The 17 gives good stability over the differents grand prix, also it gives a good estimation of the podium and one of the best interval precision."
   ]
  },
  {
   "cell_type": "markdown",
   "metadata": {},
   "source": [
    "# The best one is with the parameter n=17 "
   ]
  },
  {
   "cell_type": "markdown",
   "metadata": {},
   "source": [
    "# Conclusion "
   ]
  },
  {
   "cell_type": "markdown",
   "metadata": {},
   "source": [
    "### We are finally using a Random Forest Regressor with a random state of 47, with an transformation of the output call Ranking. \n",
    "### Because of the nature of our problem, we have to train that model for every new prediction.\n",
    "### Another parameter is N, the number of GP in counting in the computation of the train. \n",
    "### Here n=17\n",
    "### We are also using scaled data (cf: df_scaled2) "
   ]
  },
  {
   "cell_type": "markdown",
   "metadata": {},
   "source": [
    "Bellow, the final results "
   ]
  },
  {
   "cell_type": "code",
   "execution_count": null,
   "metadata": {
    "scrolled": true
   },
   "outputs": [],
   "source": [
    "test_deepness_Unique(17)"
   ]
  },
  {
   "cell_type": "code",
   "execution_count": null,
   "metadata": {},
   "outputs": [],
   "source": [
    "def test_deepness_Unique_graph(n):\n",
    "    year = [2018,2019,2020,2021]\n",
    "    GpNumber = [i for i in range(1,23)]\n",
    "    reg_scaled=[]\n",
    "    interval_acc=[]\n",
    "    position_acc=[]\n",
    "    evolution_acc = []\n",
    "    \n",
    "    for y in year:\n",
    "        for g in GpNumber:\n",
    "            try:\n",
    "                X_train,y_train,X_test,y_test = test_train_creation_gpV2(df_scaled2,y,g,n)\n",
    "\n",
    "\n",
    "                random_forest = RandomForestRegressor(random_state = 47) \n",
    "                model_rd = random_forest.fit(X_train, y_train)\n",
    "                y_pred,acc = evaluateNoDisplay(random_forest, X_test, y_test)\n",
    "                l=[]\n",
    "                l.append((y,g))\n",
    "                l.append(acc)\n",
    "                l.append(y_test)\n",
    "                l.append(y_pred.copy())\n",
    "                y_pred_2 = evaluaterankNoDisplay(y_test,y_pred)\n",
    "                l.append(y_pred_2)\n",
    "                reg_scaled.append(l)\n",
    "            except:\n",
    "                error = 0\n",
    "\n",
    "                \n",
    "    intervals = [interval_acc(reg_scaled,x) for x in range(15)]\n",
    "    x = [x for x in range(15)]\n",
    "    fig, ax = plt.subplots(figsize = (10,7))\n",
    "    ax.scatter(x, intervals)\n",
    "    for i, txt in enumerate([round(j,2) for j in intervals]):\n",
    "        ax.annotate(txt, (x[i], (intervals[i]-4)))\n",
    "    ax.plot([x for x in range(15)], intervals)\n",
    "    ax.set_title('Accuracy in fonction of the position Interval')\n",
    "    ax.set_ylabel('Mean accuracy in %')\n",
    "    ax.set_xlabel('position Interval')\n",
    "    plt.grid(axis='x', color='0.8')\n",
    "    ax.set_facecolor('seashell')\n",
    "    plt.tight_layout();\n",
    "    \n",
    "    positions_acc = [position_acc(reg_scaled,x) for x in range(1,21)]\n",
    "    x = [x for x in range(1,21)]\n",
    "    fig, ax = plt.subplots(figsize = (10,7))\n",
    "    ax.bar(x, positions_acc)\n",
    "    for i, txt in enumerate([round(j,2) for j in positions_acc]):\n",
    "        ax.annotate(txt, ((x[i]-0.5), (positions_acc[i]+0.5)))\n",
    "    ax.set_title('Accuracy in fonction of the position')\n",
    "    ax.set_ylabel('Mean accuracy in %')\n",
    "    ax.set_xlabel('position')\n",
    "    plt.grid(axis='x', color='0.8')\n",
    "    ax.set_facecolor('seashell')\n",
    "    plt.tight_layout();\n",
    "    \n",
    "    evolutions = [evolution_acc(reg_scaled,x) for x in range(1,23)]\n",
    "    x = np.array([x for x in range(1,23)])\n",
    "\n",
    "    X_Y_Spline = make_interp_spline(x, evolutions)\n",
    "\n",
    "    X_ = np.linspace(x.min(), x.max(), 500)\n",
    "    Y_ = X_Y_Spline(X_)\n",
    "\n",
    "    fig, ax = plt.subplots(figsize = (10,7))\n",
    "    ax.scatter(x, evolutions)\n",
    "    for i, txt in enumerate([round(j,2) for j in evolutions]):\n",
    "        ax.annotate(txt, ((x[i]-0.4), (evolutions[i]+0.08)))\n",
    "    ax.plot(X_, Y_)\n",
    "    ax.set_title('Accuracy evolution during the season')\n",
    "    ax.set_ylabel('Mean accuracy in %')\n",
    "    ax.set_xlabel('Grand Prix Number')\n",
    "    plt.grid(axis='x', color='0.8')\n",
    "    ax.set_facecolor('seashell')\n",
    "    plt.tight_layout();"
   ]
  },
  {
   "cell_type": "code",
   "execution_count": null,
   "metadata": {},
   "outputs": [],
   "source": [
    "    intervals = [interval_acc(reg_scaled,x) for x in range(15)]\n",
    "    x = [x for x in range(15)]\n",
    "    fig, ax = plt.subplots(figsize = (10,7))\n",
    "    ax.scatter(x, intervals)\n",
    "    for i, txt in enumerate([round(j,2) for j in intervals]):\n",
    "        ax.annotate(txt, (x[i], (intervals[i]-4)))\n",
    "    ax.plot([x for x in range(15)], intervals)\n",
    "    ax.set_title('Accuracy in fonction of the position Interval')\n",
    "    ax.set_ylabel('Mean accuracy in %')\n",
    "    ax.set_xlabel('position Interval')\n",
    "    plt.grid(axis='x', color='0.8')\n",
    "    ax.set_facecolor('seashell')\n",
    "    plt.tight_layout();\n",
    "\n",
    "fig = px.scatter(df, x=x, y=intervals, text=\"country\", log_x=True, size_max=60)\n",
    "\n",
    "fig.update_traces(textposition='top center')\n",
    "fig.add_trace(\n",
    "    go.Scatter(\n",
    "        x=[2, 4],\n",
    "        y=[4, 8],\n",
    "        mode=\"lines\",\n",
    "        line=go.scatter.Line(color=\"gray\"),\n",
    "        showlegend=False)\n",
    "fig.update_layout(\n",
    "    height=800,\n",
    "    title_text='GDP and Life Expectancy (Americas, 2007)'\n",
    ")\n",
    "\n",
    "fig.show()"
   ]
  },
  {
   "cell_type": "code",
   "execution_count": 133,
   "metadata": {},
   "outputs": [],
   "source": [
    "import plotly.express as px\n",
    "import plotly.graph_objects as go"
   ]
  },
  {
   "cell_type": "code",
   "execution_count": null,
   "metadata": {},
   "outputs": [],
   "source": [
    "fig = px.scatter(df, x=\"sepal_width\", y=\"sepal_length\", color=\"species\",\n",
    "                 title=\"Using The add_trace() method With A Plotly Express Figure\")\n",
    ")\n",
    "fig.show()"
   ]
  },
  {
   "cell_type": "code",
   "execution_count": 185,
   "metadata": {},
   "outputs": [
    {
     "data": {
      "application/vnd.plotly.v1+json": {
       "config": {
        "plotlyServerURL": "https://plot.ly"
       },
       "data": [
        {
         "hovertemplate": "c=Performance<br>position Interval=%{x}<br>Mean accuracy in %=%{y}<br>Accuracy=%{text}<extra></extra>",
         "legendgroup": "Performance",
         "line": {
          "color": "darkred",
          "dash": "solid"
         },
         "marker": {
          "symbol": "circle"
         },
         "mode": "lines+markers+text",
         "name": "Performance",
         "orientation": "v",
         "showlegend": true,
         "text": [
          13.22,
          31.38,
          47.89,
          60.66,
          69.67,
          76.45,
          80.59,
          85.59,
          89.34,
          91.32,
          93.62,
          95.33,
          96.25,
          97.57,
          98.29
         ],
         "textposition": "top center",
         "type": "scatter",
         "x": [
          0,
          1,
          2,
          3,
          4,
          5,
          6,
          7,
          8,
          9,
          10,
          11,
          12,
          13,
          14
         ],
         "xaxis": "x",
         "y": [
          13.223684210526315,
          31.381578947368418,
          47.894736842105274,
          60.657894736842096,
          69.6710526315789,
          76.4473684210526,
          80.59210526315792,
          85.59210526315795,
          89.34210526315795,
          91.31578947368425,
          93.61842105263166,
          95.32894736842113,
          96.25000000000006,
          97.56578947368426,
          98.28947368421056
         ],
         "yaxis": "y"
        }
       ],
       "layout": {
        "legend": {
         "title": {
          "text": "c"
         },
         "tracegroupgap": 0
        },
        "margin": {
         "t": 60
        },
        "template": {
         "data": {
          "bar": [
           {
            "error_x": {
             "color": "#f2f5fa"
            },
            "error_y": {
             "color": "#f2f5fa"
            },
            "marker": {
             "line": {
              "color": "rgb(17,17,17)",
              "width": 0.5
             },
             "pattern": {
              "fillmode": "overlay",
              "size": 10,
              "solidity": 0.2
             }
            },
            "type": "bar"
           }
          ],
          "barpolar": [
           {
            "marker": {
             "line": {
              "color": "rgb(17,17,17)",
              "width": 0.5
             },
             "pattern": {
              "fillmode": "overlay",
              "size": 10,
              "solidity": 0.2
             }
            },
            "type": "barpolar"
           }
          ],
          "carpet": [
           {
            "aaxis": {
             "endlinecolor": "#A2B1C6",
             "gridcolor": "#506784",
             "linecolor": "#506784",
             "minorgridcolor": "#506784",
             "startlinecolor": "#A2B1C6"
            },
            "baxis": {
             "endlinecolor": "#A2B1C6",
             "gridcolor": "#506784",
             "linecolor": "#506784",
             "minorgridcolor": "#506784",
             "startlinecolor": "#A2B1C6"
            },
            "type": "carpet"
           }
          ],
          "choropleth": [
           {
            "colorbar": {
             "outlinewidth": 0,
             "ticks": ""
            },
            "type": "choropleth"
           }
          ],
          "contour": [
           {
            "colorbar": {
             "outlinewidth": 0,
             "ticks": ""
            },
            "colorscale": [
             [
              0,
              "#0d0887"
             ],
             [
              0.1111111111111111,
              "#46039f"
             ],
             [
              0.2222222222222222,
              "#7201a8"
             ],
             [
              0.3333333333333333,
              "#9c179e"
             ],
             [
              0.4444444444444444,
              "#bd3786"
             ],
             [
              0.5555555555555556,
              "#d8576b"
             ],
             [
              0.6666666666666666,
              "#ed7953"
             ],
             [
              0.7777777777777778,
              "#fb9f3a"
             ],
             [
              0.8888888888888888,
              "#fdca26"
             ],
             [
              1,
              "#f0f921"
             ]
            ],
            "type": "contour"
           }
          ],
          "contourcarpet": [
           {
            "colorbar": {
             "outlinewidth": 0,
             "ticks": ""
            },
            "type": "contourcarpet"
           }
          ],
          "heatmap": [
           {
            "colorbar": {
             "outlinewidth": 0,
             "ticks": ""
            },
            "colorscale": [
             [
              0,
              "#0d0887"
             ],
             [
              0.1111111111111111,
              "#46039f"
             ],
             [
              0.2222222222222222,
              "#7201a8"
             ],
             [
              0.3333333333333333,
              "#9c179e"
             ],
             [
              0.4444444444444444,
              "#bd3786"
             ],
             [
              0.5555555555555556,
              "#d8576b"
             ],
             [
              0.6666666666666666,
              "#ed7953"
             ],
             [
              0.7777777777777778,
              "#fb9f3a"
             ],
             [
              0.8888888888888888,
              "#fdca26"
             ],
             [
              1,
              "#f0f921"
             ]
            ],
            "type": "heatmap"
           }
          ],
          "heatmapgl": [
           {
            "colorbar": {
             "outlinewidth": 0,
             "ticks": ""
            },
            "colorscale": [
             [
              0,
              "#0d0887"
             ],
             [
              0.1111111111111111,
              "#46039f"
             ],
             [
              0.2222222222222222,
              "#7201a8"
             ],
             [
              0.3333333333333333,
              "#9c179e"
             ],
             [
              0.4444444444444444,
              "#bd3786"
             ],
             [
              0.5555555555555556,
              "#d8576b"
             ],
             [
              0.6666666666666666,
              "#ed7953"
             ],
             [
              0.7777777777777778,
              "#fb9f3a"
             ],
             [
              0.8888888888888888,
              "#fdca26"
             ],
             [
              1,
              "#f0f921"
             ]
            ],
            "type": "heatmapgl"
           }
          ],
          "histogram": [
           {
            "marker": {
             "pattern": {
              "fillmode": "overlay",
              "size": 10,
              "solidity": 0.2
             }
            },
            "type": "histogram"
           }
          ],
          "histogram2d": [
           {
            "colorbar": {
             "outlinewidth": 0,
             "ticks": ""
            },
            "colorscale": [
             [
              0,
              "#0d0887"
             ],
             [
              0.1111111111111111,
              "#46039f"
             ],
             [
              0.2222222222222222,
              "#7201a8"
             ],
             [
              0.3333333333333333,
              "#9c179e"
             ],
             [
              0.4444444444444444,
              "#bd3786"
             ],
             [
              0.5555555555555556,
              "#d8576b"
             ],
             [
              0.6666666666666666,
              "#ed7953"
             ],
             [
              0.7777777777777778,
              "#fb9f3a"
             ],
             [
              0.8888888888888888,
              "#fdca26"
             ],
             [
              1,
              "#f0f921"
             ]
            ],
            "type": "histogram2d"
           }
          ],
          "histogram2dcontour": [
           {
            "colorbar": {
             "outlinewidth": 0,
             "ticks": ""
            },
            "colorscale": [
             [
              0,
              "#0d0887"
             ],
             [
              0.1111111111111111,
              "#46039f"
             ],
             [
              0.2222222222222222,
              "#7201a8"
             ],
             [
              0.3333333333333333,
              "#9c179e"
             ],
             [
              0.4444444444444444,
              "#bd3786"
             ],
             [
              0.5555555555555556,
              "#d8576b"
             ],
             [
              0.6666666666666666,
              "#ed7953"
             ],
             [
              0.7777777777777778,
              "#fb9f3a"
             ],
             [
              0.8888888888888888,
              "#fdca26"
             ],
             [
              1,
              "#f0f921"
             ]
            ],
            "type": "histogram2dcontour"
           }
          ],
          "mesh3d": [
           {
            "colorbar": {
             "outlinewidth": 0,
             "ticks": ""
            },
            "type": "mesh3d"
           }
          ],
          "parcoords": [
           {
            "line": {
             "colorbar": {
              "outlinewidth": 0,
              "ticks": ""
             }
            },
            "type": "parcoords"
           }
          ],
          "pie": [
           {
            "automargin": true,
            "type": "pie"
           }
          ],
          "scatter": [
           {
            "marker": {
             "line": {
              "color": "#283442"
             }
            },
            "type": "scatter"
           }
          ],
          "scatter3d": [
           {
            "line": {
             "colorbar": {
              "outlinewidth": 0,
              "ticks": ""
             }
            },
            "marker": {
             "colorbar": {
              "outlinewidth": 0,
              "ticks": ""
             }
            },
            "type": "scatter3d"
           }
          ],
          "scattercarpet": [
           {
            "marker": {
             "colorbar": {
              "outlinewidth": 0,
              "ticks": ""
             }
            },
            "type": "scattercarpet"
           }
          ],
          "scattergeo": [
           {
            "marker": {
             "colorbar": {
              "outlinewidth": 0,
              "ticks": ""
             }
            },
            "type": "scattergeo"
           }
          ],
          "scattergl": [
           {
            "marker": {
             "line": {
              "color": "#283442"
             }
            },
            "type": "scattergl"
           }
          ],
          "scattermapbox": [
           {
            "marker": {
             "colorbar": {
              "outlinewidth": 0,
              "ticks": ""
             }
            },
            "type": "scattermapbox"
           }
          ],
          "scatterpolar": [
           {
            "marker": {
             "colorbar": {
              "outlinewidth": 0,
              "ticks": ""
             }
            },
            "type": "scatterpolar"
           }
          ],
          "scatterpolargl": [
           {
            "marker": {
             "colorbar": {
              "outlinewidth": 0,
              "ticks": ""
             }
            },
            "type": "scatterpolargl"
           }
          ],
          "scatterternary": [
           {
            "marker": {
             "colorbar": {
              "outlinewidth": 0,
              "ticks": ""
             }
            },
            "type": "scatterternary"
           }
          ],
          "surface": [
           {
            "colorbar": {
             "outlinewidth": 0,
             "ticks": ""
            },
            "colorscale": [
             [
              0,
              "#0d0887"
             ],
             [
              0.1111111111111111,
              "#46039f"
             ],
             [
              0.2222222222222222,
              "#7201a8"
             ],
             [
              0.3333333333333333,
              "#9c179e"
             ],
             [
              0.4444444444444444,
              "#bd3786"
             ],
             [
              0.5555555555555556,
              "#d8576b"
             ],
             [
              0.6666666666666666,
              "#ed7953"
             ],
             [
              0.7777777777777778,
              "#fb9f3a"
             ],
             [
              0.8888888888888888,
              "#fdca26"
             ],
             [
              1,
              "#f0f921"
             ]
            ],
            "type": "surface"
           }
          ],
          "table": [
           {
            "cells": {
             "fill": {
              "color": "#506784"
             },
             "line": {
              "color": "rgb(17,17,17)"
             }
            },
            "header": {
             "fill": {
              "color": "#2a3f5f"
             },
             "line": {
              "color": "rgb(17,17,17)"
             }
            },
            "type": "table"
           }
          ]
         },
         "layout": {
          "annotationdefaults": {
           "arrowcolor": "#f2f5fa",
           "arrowhead": 0,
           "arrowwidth": 1
          },
          "autotypenumbers": "strict",
          "coloraxis": {
           "colorbar": {
            "outlinewidth": 0,
            "ticks": ""
           }
          },
          "colorscale": {
           "diverging": [
            [
             0,
             "#8e0152"
            ],
            [
             0.1,
             "#c51b7d"
            ],
            [
             0.2,
             "#de77ae"
            ],
            [
             0.3,
             "#f1b6da"
            ],
            [
             0.4,
             "#fde0ef"
            ],
            [
             0.5,
             "#f7f7f7"
            ],
            [
             0.6,
             "#e6f5d0"
            ],
            [
             0.7,
             "#b8e186"
            ],
            [
             0.8,
             "#7fbc41"
            ],
            [
             0.9,
             "#4d9221"
            ],
            [
             1,
             "#276419"
            ]
           ],
           "sequential": [
            [
             0,
             "#0d0887"
            ],
            [
             0.1111111111111111,
             "#46039f"
            ],
            [
             0.2222222222222222,
             "#7201a8"
            ],
            [
             0.3333333333333333,
             "#9c179e"
            ],
            [
             0.4444444444444444,
             "#bd3786"
            ],
            [
             0.5555555555555556,
             "#d8576b"
            ],
            [
             0.6666666666666666,
             "#ed7953"
            ],
            [
             0.7777777777777778,
             "#fb9f3a"
            ],
            [
             0.8888888888888888,
             "#fdca26"
            ],
            [
             1,
             "#f0f921"
            ]
           ],
           "sequentialminus": [
            [
             0,
             "#0d0887"
            ],
            [
             0.1111111111111111,
             "#46039f"
            ],
            [
             0.2222222222222222,
             "#7201a8"
            ],
            [
             0.3333333333333333,
             "#9c179e"
            ],
            [
             0.4444444444444444,
             "#bd3786"
            ],
            [
             0.5555555555555556,
             "#d8576b"
            ],
            [
             0.6666666666666666,
             "#ed7953"
            ],
            [
             0.7777777777777778,
             "#fb9f3a"
            ],
            [
             0.8888888888888888,
             "#fdca26"
            ],
            [
             1,
             "#f0f921"
            ]
           ]
          },
          "colorway": [
           "#636efa",
           "#EF553B",
           "#00cc96",
           "#ab63fa",
           "#FFA15A",
           "#19d3f3",
           "#FF6692",
           "#B6E880",
           "#FF97FF",
           "#FECB52"
          ],
          "font": {
           "color": "#f2f5fa"
          },
          "geo": {
           "bgcolor": "rgb(17,17,17)",
           "lakecolor": "rgb(17,17,17)",
           "landcolor": "rgb(17,17,17)",
           "showlakes": true,
           "showland": true,
           "subunitcolor": "#506784"
          },
          "hoverlabel": {
           "align": "left"
          },
          "hovermode": "closest",
          "mapbox": {
           "style": "dark"
          },
          "paper_bgcolor": "rgb(17,17,17)",
          "plot_bgcolor": "rgb(17,17,17)",
          "polar": {
           "angularaxis": {
            "gridcolor": "#506784",
            "linecolor": "#506784",
            "ticks": ""
           },
           "bgcolor": "rgb(17,17,17)",
           "radialaxis": {
            "gridcolor": "#506784",
            "linecolor": "#506784",
            "ticks": ""
           }
          },
          "scene": {
           "xaxis": {
            "backgroundcolor": "rgb(17,17,17)",
            "gridcolor": "#506784",
            "gridwidth": 2,
            "linecolor": "#506784",
            "showbackground": true,
            "ticks": "",
            "zerolinecolor": "#C8D4E3"
           },
           "yaxis": {
            "backgroundcolor": "rgb(17,17,17)",
            "gridcolor": "#506784",
            "gridwidth": 2,
            "linecolor": "#506784",
            "showbackground": true,
            "ticks": "",
            "zerolinecolor": "#C8D4E3"
           },
           "zaxis": {
            "backgroundcolor": "rgb(17,17,17)",
            "gridcolor": "#506784",
            "gridwidth": 2,
            "linecolor": "#506784",
            "showbackground": true,
            "ticks": "",
            "zerolinecolor": "#C8D4E3"
           }
          },
          "shapedefaults": {
           "line": {
            "color": "#f2f5fa"
           }
          },
          "sliderdefaults": {
           "bgcolor": "#C8D4E3",
           "bordercolor": "rgb(17,17,17)",
           "borderwidth": 1,
           "tickwidth": 0
          },
          "ternary": {
           "aaxis": {
            "gridcolor": "#506784",
            "linecolor": "#506784",
            "ticks": ""
           },
           "baxis": {
            "gridcolor": "#506784",
            "linecolor": "#506784",
            "ticks": ""
           },
           "bgcolor": "rgb(17,17,17)",
           "caxis": {
            "gridcolor": "#506784",
            "linecolor": "#506784",
            "ticks": ""
           }
          },
          "title": {
           "x": 0.05
          },
          "updatemenudefaults": {
           "bgcolor": "#506784",
           "borderwidth": 0
          },
          "xaxis": {
           "automargin": true,
           "gridcolor": "#283442",
           "linecolor": "#506784",
           "ticks": "",
           "title": {
            "standoff": 15
           },
           "zerolinecolor": "#283442",
           "zerolinewidth": 2
          },
          "yaxis": {
           "automargin": true,
           "gridcolor": "#283442",
           "linecolor": "#506784",
           "ticks": "",
           "title": {
            "standoff": 15
           },
           "zerolinecolor": "#283442",
           "zerolinewidth": 2
          }
         }
        },
        "title": {
         "text": "Accuracy in fonction of the position Interval"
        },
        "xaxis": {
         "anchor": "y",
         "domain": [
          0,
          1
         ],
         "title": {
          "text": "position Interval"
         }
        },
        "yaxis": {
         "anchor": "x",
         "domain": [
          0,
          1
         ],
         "title": {
          "text": "Mean accuracy in %"
         }
        }
       }
      },
      "text/html": [
       "<div>                            <div id=\"26fcec2c-10bb-4734-9ddc-dccf50a4533a\" class=\"plotly-graph-div\" style=\"height:525px; width:100%;\"></div>            <script type=\"text/javascript\">                require([\"plotly\"], function(Plotly) {                    window.PLOTLYENV=window.PLOTLYENV || {};                                    if (document.getElementById(\"26fcec2c-10bb-4734-9ddc-dccf50a4533a\")) {                    Plotly.newPlot(                        \"26fcec2c-10bb-4734-9ddc-dccf50a4533a\",                        [{\"hovertemplate\":\"c=Performance<br>position Interval=%{x}<br>Mean accuracy in %=%{y}<br>Accuracy=%{text}<extra></extra>\",\"legendgroup\":\"Performance\",\"line\":{\"color\":\"darkred\",\"dash\":\"solid\"},\"marker\":{\"symbol\":\"circle\"},\"mode\":\"lines+markers+text\",\"name\":\"Performance\",\"orientation\":\"v\",\"showlegend\":true,\"text\":[13.22,31.38,47.89,60.66,69.67,76.45,80.59,85.59,89.34,91.32,93.62,95.33,96.25,97.57,98.29],\"x\":[0,1,2,3,4,5,6,7,8,9,10,11,12,13,14],\"xaxis\":\"x\",\"y\":[13.223684210526315,31.381578947368418,47.894736842105274,60.657894736842096,69.6710526315789,76.4473684210526,80.59210526315792,85.59210526315795,89.34210526315795,91.31578947368425,93.61842105263166,95.32894736842113,96.25000000000006,97.56578947368426,98.28947368421056],\"yaxis\":\"y\",\"type\":\"scatter\",\"textposition\":\"top center\"}],                        {\"template\":{\"data\":{\"barpolar\":[{\"marker\":{\"line\":{\"color\":\"rgb(17,17,17)\",\"width\":0.5},\"pattern\":{\"fillmode\":\"overlay\",\"size\":10,\"solidity\":0.2}},\"type\":\"barpolar\"}],\"bar\":[{\"error_x\":{\"color\":\"#f2f5fa\"},\"error_y\":{\"color\":\"#f2f5fa\"},\"marker\":{\"line\":{\"color\":\"rgb(17,17,17)\",\"width\":0.5},\"pattern\":{\"fillmode\":\"overlay\",\"size\":10,\"solidity\":0.2}},\"type\":\"bar\"}],\"carpet\":[{\"aaxis\":{\"endlinecolor\":\"#A2B1C6\",\"gridcolor\":\"#506784\",\"linecolor\":\"#506784\",\"minorgridcolor\":\"#506784\",\"startlinecolor\":\"#A2B1C6\"},\"baxis\":{\"endlinecolor\":\"#A2B1C6\",\"gridcolor\":\"#506784\",\"linecolor\":\"#506784\",\"minorgridcolor\":\"#506784\",\"startlinecolor\":\"#A2B1C6\"},\"type\":\"carpet\"}],\"choropleth\":[{\"colorbar\":{\"outlinewidth\":0,\"ticks\":\"\"},\"type\":\"choropleth\"}],\"contourcarpet\":[{\"colorbar\":{\"outlinewidth\":0,\"ticks\":\"\"},\"type\":\"contourcarpet\"}],\"contour\":[{\"colorbar\":{\"outlinewidth\":0,\"ticks\":\"\"},\"colorscale\":[[0.0,\"#0d0887\"],[0.1111111111111111,\"#46039f\"],[0.2222222222222222,\"#7201a8\"],[0.3333333333333333,\"#9c179e\"],[0.4444444444444444,\"#bd3786\"],[0.5555555555555556,\"#d8576b\"],[0.6666666666666666,\"#ed7953\"],[0.7777777777777778,\"#fb9f3a\"],[0.8888888888888888,\"#fdca26\"],[1.0,\"#f0f921\"]],\"type\":\"contour\"}],\"heatmapgl\":[{\"colorbar\":{\"outlinewidth\":0,\"ticks\":\"\"},\"colorscale\":[[0.0,\"#0d0887\"],[0.1111111111111111,\"#46039f\"],[0.2222222222222222,\"#7201a8\"],[0.3333333333333333,\"#9c179e\"],[0.4444444444444444,\"#bd3786\"],[0.5555555555555556,\"#d8576b\"],[0.6666666666666666,\"#ed7953\"],[0.7777777777777778,\"#fb9f3a\"],[0.8888888888888888,\"#fdca26\"],[1.0,\"#f0f921\"]],\"type\":\"heatmapgl\"}],\"heatmap\":[{\"colorbar\":{\"outlinewidth\":0,\"ticks\":\"\"},\"colorscale\":[[0.0,\"#0d0887\"],[0.1111111111111111,\"#46039f\"],[0.2222222222222222,\"#7201a8\"],[0.3333333333333333,\"#9c179e\"],[0.4444444444444444,\"#bd3786\"],[0.5555555555555556,\"#d8576b\"],[0.6666666666666666,\"#ed7953\"],[0.7777777777777778,\"#fb9f3a\"],[0.8888888888888888,\"#fdca26\"],[1.0,\"#f0f921\"]],\"type\":\"heatmap\"}],\"histogram2dcontour\":[{\"colorbar\":{\"outlinewidth\":0,\"ticks\":\"\"},\"colorscale\":[[0.0,\"#0d0887\"],[0.1111111111111111,\"#46039f\"],[0.2222222222222222,\"#7201a8\"],[0.3333333333333333,\"#9c179e\"],[0.4444444444444444,\"#bd3786\"],[0.5555555555555556,\"#d8576b\"],[0.6666666666666666,\"#ed7953\"],[0.7777777777777778,\"#fb9f3a\"],[0.8888888888888888,\"#fdca26\"],[1.0,\"#f0f921\"]],\"type\":\"histogram2dcontour\"}],\"histogram2d\":[{\"colorbar\":{\"outlinewidth\":0,\"ticks\":\"\"},\"colorscale\":[[0.0,\"#0d0887\"],[0.1111111111111111,\"#46039f\"],[0.2222222222222222,\"#7201a8\"],[0.3333333333333333,\"#9c179e\"],[0.4444444444444444,\"#bd3786\"],[0.5555555555555556,\"#d8576b\"],[0.6666666666666666,\"#ed7953\"],[0.7777777777777778,\"#fb9f3a\"],[0.8888888888888888,\"#fdca26\"],[1.0,\"#f0f921\"]],\"type\":\"histogram2d\"}],\"histogram\":[{\"marker\":{\"pattern\":{\"fillmode\":\"overlay\",\"size\":10,\"solidity\":0.2}},\"type\":\"histogram\"}],\"mesh3d\":[{\"colorbar\":{\"outlinewidth\":0,\"ticks\":\"\"},\"type\":\"mesh3d\"}],\"parcoords\":[{\"line\":{\"colorbar\":{\"outlinewidth\":0,\"ticks\":\"\"}},\"type\":\"parcoords\"}],\"pie\":[{\"automargin\":true,\"type\":\"pie\"}],\"scatter3d\":[{\"line\":{\"colorbar\":{\"outlinewidth\":0,\"ticks\":\"\"}},\"marker\":{\"colorbar\":{\"outlinewidth\":0,\"ticks\":\"\"}},\"type\":\"scatter3d\"}],\"scattercarpet\":[{\"marker\":{\"colorbar\":{\"outlinewidth\":0,\"ticks\":\"\"}},\"type\":\"scattercarpet\"}],\"scattergeo\":[{\"marker\":{\"colorbar\":{\"outlinewidth\":0,\"ticks\":\"\"}},\"type\":\"scattergeo\"}],\"scattergl\":[{\"marker\":{\"line\":{\"color\":\"#283442\"}},\"type\":\"scattergl\"}],\"scattermapbox\":[{\"marker\":{\"colorbar\":{\"outlinewidth\":0,\"ticks\":\"\"}},\"type\":\"scattermapbox\"}],\"scatterpolargl\":[{\"marker\":{\"colorbar\":{\"outlinewidth\":0,\"ticks\":\"\"}},\"type\":\"scatterpolargl\"}],\"scatterpolar\":[{\"marker\":{\"colorbar\":{\"outlinewidth\":0,\"ticks\":\"\"}},\"type\":\"scatterpolar\"}],\"scatter\":[{\"marker\":{\"line\":{\"color\":\"#283442\"}},\"type\":\"scatter\"}],\"scatterternary\":[{\"marker\":{\"colorbar\":{\"outlinewidth\":0,\"ticks\":\"\"}},\"type\":\"scatterternary\"}],\"surface\":[{\"colorbar\":{\"outlinewidth\":0,\"ticks\":\"\"},\"colorscale\":[[0.0,\"#0d0887\"],[0.1111111111111111,\"#46039f\"],[0.2222222222222222,\"#7201a8\"],[0.3333333333333333,\"#9c179e\"],[0.4444444444444444,\"#bd3786\"],[0.5555555555555556,\"#d8576b\"],[0.6666666666666666,\"#ed7953\"],[0.7777777777777778,\"#fb9f3a\"],[0.8888888888888888,\"#fdca26\"],[1.0,\"#f0f921\"]],\"type\":\"surface\"}],\"table\":[{\"cells\":{\"fill\":{\"color\":\"#506784\"},\"line\":{\"color\":\"rgb(17,17,17)\"}},\"header\":{\"fill\":{\"color\":\"#2a3f5f\"},\"line\":{\"color\":\"rgb(17,17,17)\"}},\"type\":\"table\"}]},\"layout\":{\"annotationdefaults\":{\"arrowcolor\":\"#f2f5fa\",\"arrowhead\":0,\"arrowwidth\":1},\"autotypenumbers\":\"strict\",\"coloraxis\":{\"colorbar\":{\"outlinewidth\":0,\"ticks\":\"\"}},\"colorscale\":{\"diverging\":[[0,\"#8e0152\"],[0.1,\"#c51b7d\"],[0.2,\"#de77ae\"],[0.3,\"#f1b6da\"],[0.4,\"#fde0ef\"],[0.5,\"#f7f7f7\"],[0.6,\"#e6f5d0\"],[0.7,\"#b8e186\"],[0.8,\"#7fbc41\"],[0.9,\"#4d9221\"],[1,\"#276419\"]],\"sequential\":[[0.0,\"#0d0887\"],[0.1111111111111111,\"#46039f\"],[0.2222222222222222,\"#7201a8\"],[0.3333333333333333,\"#9c179e\"],[0.4444444444444444,\"#bd3786\"],[0.5555555555555556,\"#d8576b\"],[0.6666666666666666,\"#ed7953\"],[0.7777777777777778,\"#fb9f3a\"],[0.8888888888888888,\"#fdca26\"],[1.0,\"#f0f921\"]],\"sequentialminus\":[[0.0,\"#0d0887\"],[0.1111111111111111,\"#46039f\"],[0.2222222222222222,\"#7201a8\"],[0.3333333333333333,\"#9c179e\"],[0.4444444444444444,\"#bd3786\"],[0.5555555555555556,\"#d8576b\"],[0.6666666666666666,\"#ed7953\"],[0.7777777777777778,\"#fb9f3a\"],[0.8888888888888888,\"#fdca26\"],[1.0,\"#f0f921\"]]},\"colorway\":[\"#636efa\",\"#EF553B\",\"#00cc96\",\"#ab63fa\",\"#FFA15A\",\"#19d3f3\",\"#FF6692\",\"#B6E880\",\"#FF97FF\",\"#FECB52\"],\"font\":{\"color\":\"#f2f5fa\"},\"geo\":{\"bgcolor\":\"rgb(17,17,17)\",\"lakecolor\":\"rgb(17,17,17)\",\"landcolor\":\"rgb(17,17,17)\",\"showlakes\":true,\"showland\":true,\"subunitcolor\":\"#506784\"},\"hoverlabel\":{\"align\":\"left\"},\"hovermode\":\"closest\",\"mapbox\":{\"style\":\"dark\"},\"paper_bgcolor\":\"rgb(17,17,17)\",\"plot_bgcolor\":\"rgb(17,17,17)\",\"polar\":{\"angularaxis\":{\"gridcolor\":\"#506784\",\"linecolor\":\"#506784\",\"ticks\":\"\"},\"bgcolor\":\"rgb(17,17,17)\",\"radialaxis\":{\"gridcolor\":\"#506784\",\"linecolor\":\"#506784\",\"ticks\":\"\"}},\"scene\":{\"xaxis\":{\"backgroundcolor\":\"rgb(17,17,17)\",\"gridcolor\":\"#506784\",\"gridwidth\":2,\"linecolor\":\"#506784\",\"showbackground\":true,\"ticks\":\"\",\"zerolinecolor\":\"#C8D4E3\"},\"yaxis\":{\"backgroundcolor\":\"rgb(17,17,17)\",\"gridcolor\":\"#506784\",\"gridwidth\":2,\"linecolor\":\"#506784\",\"showbackground\":true,\"ticks\":\"\",\"zerolinecolor\":\"#C8D4E3\"},\"zaxis\":{\"backgroundcolor\":\"rgb(17,17,17)\",\"gridcolor\":\"#506784\",\"gridwidth\":2,\"linecolor\":\"#506784\",\"showbackground\":true,\"ticks\":\"\",\"zerolinecolor\":\"#C8D4E3\"}},\"shapedefaults\":{\"line\":{\"color\":\"#f2f5fa\"}},\"sliderdefaults\":{\"bgcolor\":\"#C8D4E3\",\"bordercolor\":\"rgb(17,17,17)\",\"borderwidth\":1,\"tickwidth\":0},\"ternary\":{\"aaxis\":{\"gridcolor\":\"#506784\",\"linecolor\":\"#506784\",\"ticks\":\"\"},\"baxis\":{\"gridcolor\":\"#506784\",\"linecolor\":\"#506784\",\"ticks\":\"\"},\"bgcolor\":\"rgb(17,17,17)\",\"caxis\":{\"gridcolor\":\"#506784\",\"linecolor\":\"#506784\",\"ticks\":\"\"}},\"title\":{\"x\":0.05},\"updatemenudefaults\":{\"bgcolor\":\"#506784\",\"borderwidth\":0},\"xaxis\":{\"automargin\":true,\"gridcolor\":\"#283442\",\"linecolor\":\"#506784\",\"ticks\":\"\",\"title\":{\"standoff\":15},\"zerolinecolor\":\"#283442\",\"zerolinewidth\":2},\"yaxis\":{\"automargin\":true,\"gridcolor\":\"#283442\",\"linecolor\":\"#506784\",\"ticks\":\"\",\"title\":{\"standoff\":15},\"zerolinecolor\":\"#283442\",\"zerolinewidth\":2}}},\"xaxis\":{\"anchor\":\"y\",\"domain\":[0.0,1.0],\"title\":{\"text\":\"position Interval\"}},\"yaxis\":{\"anchor\":\"x\",\"domain\":[0.0,1.0],\"title\":{\"text\":\"Mean accuracy in %\"}},\"legend\":{\"title\":{\"text\":\"c\"},\"tracegroupgap\":0},\"margin\":{\"t\":60},\"title\":{\"text\":\"Accuracy in fonction of the position Interval\"}},                        {\"responsive\": true}                    ).then(function(){\n",
       "                            \n",
       "var gd = document.getElementById('26fcec2c-10bb-4734-9ddc-dccf50a4533a');\n",
       "var x = new MutationObserver(function (mutations, observer) {{\n",
       "        var display = window.getComputedStyle(gd).display;\n",
       "        if (!display || display === 'none') {{\n",
       "            console.log([gd, 'removed!']);\n",
       "            Plotly.purge(gd);\n",
       "            observer.disconnect();\n",
       "        }}\n",
       "}});\n",
       "\n",
       "// Listen for the removal of the full notebook cells\n",
       "var notebookContainer = gd.closest('#notebook-container');\n",
       "if (notebookContainer) {{\n",
       "    x.observe(notebookContainer, {childList: true});\n",
       "}}\n",
       "\n",
       "// Listen for the clearing of the current output cell\n",
       "var outputEl = gd.closest('.output');\n",
       "if (outputEl) {{\n",
       "    x.observe(outputEl, {childList: true});\n",
       "}}\n",
       "\n",
       "                        })                };                });            </script>        </div>"
      ]
     },
     "metadata": {},
     "output_type": "display_data"
    }
   ],
   "source": [
    "x = [x for x in range(15)]\n",
    "a = pd.DataFrame(x, columns = ['position Interval'])\n",
    "a['Mean accuracy in %'] = intervals\n",
    "a['Accuracy'] = [round(j,2) for j in intervals]\n",
    "a['c'] = [\"Performance\" for x in range(15)]\n",
    "fig = px.line(  a,x='position Interval', y='Mean accuracy in %', text='Accuracy',template = 'plotly_dark',color = 'c',color_discrete_sequence = ['darkred'])\n",
    "fig.update_traces(textposition='top center')\n",
    "fig.update_layout(title = \"Accuracy in fonction of the position Interval\")\n",
    "fig.show()"
   ]
  },
  {
   "cell_type": "code",
   "execution_count": 190,
   "metadata": {},
   "outputs": [
    {
     "data": {
      "application/vnd.plotly.v1+json": {
       "config": {
        "plotlyServerURL": "https://plot.ly"
       },
       "data": [
        {
         "alignmentgroup": "True",
         "hovertemplate": "c=Performance<br>position=%{x}<br>Mean accuracy in %=%{y}<br>Accuracy=%{text}<extra></extra>",
         "legendgroup": "Performance",
         "marker": {
          "color": "darkred",
          "pattern": {
           "shape": ""
          }
         },
         "name": "Performance",
         "offsetgroup": "Performance",
         "orientation": "v",
         "showlegend": true,
         "text": [
          47.5,
          28.75,
          18.75,
          18.75,
          6.25,
          13.75,
          10,
          11.25,
          8.75,
          7.5,
          5,
          6.25,
          12.5,
          6.25,
          10,
          8.75,
          5,
          12.5,
          11.25,
          5
         ],
         "textposition": "auto",
         "type": "bar",
         "x": [
          1,
          2,
          3,
          4,
          5,
          6,
          7,
          8,
          9,
          10,
          11,
          12,
          13,
          14,
          15,
          16,
          17,
          18,
          19,
          20
         ],
         "xaxis": "x",
         "y": [
          47.5,
          28.749999999999996,
          18.75,
          18.75,
          6.25,
          13.750000000000002,
          10,
          11.25,
          8.75,
          7.5,
          5,
          6.25,
          12.5,
          6.25,
          10,
          8.75,
          5,
          12.5,
          11.25,
          5
         ],
         "yaxis": "y"
        }
       ],
       "layout": {
        "barmode": "relative",
        "legend": {
         "title": {
          "text": "c"
         },
         "tracegroupgap": 0
        },
        "margin": {
         "t": 60
        },
        "template": {
         "data": {
          "bar": [
           {
            "error_x": {
             "color": "#f2f5fa"
            },
            "error_y": {
             "color": "#f2f5fa"
            },
            "marker": {
             "line": {
              "color": "rgb(17,17,17)",
              "width": 0.5
             },
             "pattern": {
              "fillmode": "overlay",
              "size": 10,
              "solidity": 0.2
             }
            },
            "type": "bar"
           }
          ],
          "barpolar": [
           {
            "marker": {
             "line": {
              "color": "rgb(17,17,17)",
              "width": 0.5
             },
             "pattern": {
              "fillmode": "overlay",
              "size": 10,
              "solidity": 0.2
             }
            },
            "type": "barpolar"
           }
          ],
          "carpet": [
           {
            "aaxis": {
             "endlinecolor": "#A2B1C6",
             "gridcolor": "#506784",
             "linecolor": "#506784",
             "minorgridcolor": "#506784",
             "startlinecolor": "#A2B1C6"
            },
            "baxis": {
             "endlinecolor": "#A2B1C6",
             "gridcolor": "#506784",
             "linecolor": "#506784",
             "minorgridcolor": "#506784",
             "startlinecolor": "#A2B1C6"
            },
            "type": "carpet"
           }
          ],
          "choropleth": [
           {
            "colorbar": {
             "outlinewidth": 0,
             "ticks": ""
            },
            "type": "choropleth"
           }
          ],
          "contour": [
           {
            "colorbar": {
             "outlinewidth": 0,
             "ticks": ""
            },
            "colorscale": [
             [
              0,
              "#0d0887"
             ],
             [
              0.1111111111111111,
              "#46039f"
             ],
             [
              0.2222222222222222,
              "#7201a8"
             ],
             [
              0.3333333333333333,
              "#9c179e"
             ],
             [
              0.4444444444444444,
              "#bd3786"
             ],
             [
              0.5555555555555556,
              "#d8576b"
             ],
             [
              0.6666666666666666,
              "#ed7953"
             ],
             [
              0.7777777777777778,
              "#fb9f3a"
             ],
             [
              0.8888888888888888,
              "#fdca26"
             ],
             [
              1,
              "#f0f921"
             ]
            ],
            "type": "contour"
           }
          ],
          "contourcarpet": [
           {
            "colorbar": {
             "outlinewidth": 0,
             "ticks": ""
            },
            "type": "contourcarpet"
           }
          ],
          "heatmap": [
           {
            "colorbar": {
             "outlinewidth": 0,
             "ticks": ""
            },
            "colorscale": [
             [
              0,
              "#0d0887"
             ],
             [
              0.1111111111111111,
              "#46039f"
             ],
             [
              0.2222222222222222,
              "#7201a8"
             ],
             [
              0.3333333333333333,
              "#9c179e"
             ],
             [
              0.4444444444444444,
              "#bd3786"
             ],
             [
              0.5555555555555556,
              "#d8576b"
             ],
             [
              0.6666666666666666,
              "#ed7953"
             ],
             [
              0.7777777777777778,
              "#fb9f3a"
             ],
             [
              0.8888888888888888,
              "#fdca26"
             ],
             [
              1,
              "#f0f921"
             ]
            ],
            "type": "heatmap"
           }
          ],
          "heatmapgl": [
           {
            "colorbar": {
             "outlinewidth": 0,
             "ticks": ""
            },
            "colorscale": [
             [
              0,
              "#0d0887"
             ],
             [
              0.1111111111111111,
              "#46039f"
             ],
             [
              0.2222222222222222,
              "#7201a8"
             ],
             [
              0.3333333333333333,
              "#9c179e"
             ],
             [
              0.4444444444444444,
              "#bd3786"
             ],
             [
              0.5555555555555556,
              "#d8576b"
             ],
             [
              0.6666666666666666,
              "#ed7953"
             ],
             [
              0.7777777777777778,
              "#fb9f3a"
             ],
             [
              0.8888888888888888,
              "#fdca26"
             ],
             [
              1,
              "#f0f921"
             ]
            ],
            "type": "heatmapgl"
           }
          ],
          "histogram": [
           {
            "marker": {
             "pattern": {
              "fillmode": "overlay",
              "size": 10,
              "solidity": 0.2
             }
            },
            "type": "histogram"
           }
          ],
          "histogram2d": [
           {
            "colorbar": {
             "outlinewidth": 0,
             "ticks": ""
            },
            "colorscale": [
             [
              0,
              "#0d0887"
             ],
             [
              0.1111111111111111,
              "#46039f"
             ],
             [
              0.2222222222222222,
              "#7201a8"
             ],
             [
              0.3333333333333333,
              "#9c179e"
             ],
             [
              0.4444444444444444,
              "#bd3786"
             ],
             [
              0.5555555555555556,
              "#d8576b"
             ],
             [
              0.6666666666666666,
              "#ed7953"
             ],
             [
              0.7777777777777778,
              "#fb9f3a"
             ],
             [
              0.8888888888888888,
              "#fdca26"
             ],
             [
              1,
              "#f0f921"
             ]
            ],
            "type": "histogram2d"
           }
          ],
          "histogram2dcontour": [
           {
            "colorbar": {
             "outlinewidth": 0,
             "ticks": ""
            },
            "colorscale": [
             [
              0,
              "#0d0887"
             ],
             [
              0.1111111111111111,
              "#46039f"
             ],
             [
              0.2222222222222222,
              "#7201a8"
             ],
             [
              0.3333333333333333,
              "#9c179e"
             ],
             [
              0.4444444444444444,
              "#bd3786"
             ],
             [
              0.5555555555555556,
              "#d8576b"
             ],
             [
              0.6666666666666666,
              "#ed7953"
             ],
             [
              0.7777777777777778,
              "#fb9f3a"
             ],
             [
              0.8888888888888888,
              "#fdca26"
             ],
             [
              1,
              "#f0f921"
             ]
            ],
            "type": "histogram2dcontour"
           }
          ],
          "mesh3d": [
           {
            "colorbar": {
             "outlinewidth": 0,
             "ticks": ""
            },
            "type": "mesh3d"
           }
          ],
          "parcoords": [
           {
            "line": {
             "colorbar": {
              "outlinewidth": 0,
              "ticks": ""
             }
            },
            "type": "parcoords"
           }
          ],
          "pie": [
           {
            "automargin": true,
            "type": "pie"
           }
          ],
          "scatter": [
           {
            "marker": {
             "line": {
              "color": "#283442"
             }
            },
            "type": "scatter"
           }
          ],
          "scatter3d": [
           {
            "line": {
             "colorbar": {
              "outlinewidth": 0,
              "ticks": ""
             }
            },
            "marker": {
             "colorbar": {
              "outlinewidth": 0,
              "ticks": ""
             }
            },
            "type": "scatter3d"
           }
          ],
          "scattercarpet": [
           {
            "marker": {
             "colorbar": {
              "outlinewidth": 0,
              "ticks": ""
             }
            },
            "type": "scattercarpet"
           }
          ],
          "scattergeo": [
           {
            "marker": {
             "colorbar": {
              "outlinewidth": 0,
              "ticks": ""
             }
            },
            "type": "scattergeo"
           }
          ],
          "scattergl": [
           {
            "marker": {
             "line": {
              "color": "#283442"
             }
            },
            "type": "scattergl"
           }
          ],
          "scattermapbox": [
           {
            "marker": {
             "colorbar": {
              "outlinewidth": 0,
              "ticks": ""
             }
            },
            "type": "scattermapbox"
           }
          ],
          "scatterpolar": [
           {
            "marker": {
             "colorbar": {
              "outlinewidth": 0,
              "ticks": ""
             }
            },
            "type": "scatterpolar"
           }
          ],
          "scatterpolargl": [
           {
            "marker": {
             "colorbar": {
              "outlinewidth": 0,
              "ticks": ""
             }
            },
            "type": "scatterpolargl"
           }
          ],
          "scatterternary": [
           {
            "marker": {
             "colorbar": {
              "outlinewidth": 0,
              "ticks": ""
             }
            },
            "type": "scatterternary"
           }
          ],
          "surface": [
           {
            "colorbar": {
             "outlinewidth": 0,
             "ticks": ""
            },
            "colorscale": [
             [
              0,
              "#0d0887"
             ],
             [
              0.1111111111111111,
              "#46039f"
             ],
             [
              0.2222222222222222,
              "#7201a8"
             ],
             [
              0.3333333333333333,
              "#9c179e"
             ],
             [
              0.4444444444444444,
              "#bd3786"
             ],
             [
              0.5555555555555556,
              "#d8576b"
             ],
             [
              0.6666666666666666,
              "#ed7953"
             ],
             [
              0.7777777777777778,
              "#fb9f3a"
             ],
             [
              0.8888888888888888,
              "#fdca26"
             ],
             [
              1,
              "#f0f921"
             ]
            ],
            "type": "surface"
           }
          ],
          "table": [
           {
            "cells": {
             "fill": {
              "color": "#506784"
             },
             "line": {
              "color": "rgb(17,17,17)"
             }
            },
            "header": {
             "fill": {
              "color": "#2a3f5f"
             },
             "line": {
              "color": "rgb(17,17,17)"
             }
            },
            "type": "table"
           }
          ]
         },
         "layout": {
          "annotationdefaults": {
           "arrowcolor": "#f2f5fa",
           "arrowhead": 0,
           "arrowwidth": 1
          },
          "autotypenumbers": "strict",
          "coloraxis": {
           "colorbar": {
            "outlinewidth": 0,
            "ticks": ""
           }
          },
          "colorscale": {
           "diverging": [
            [
             0,
             "#8e0152"
            ],
            [
             0.1,
             "#c51b7d"
            ],
            [
             0.2,
             "#de77ae"
            ],
            [
             0.3,
             "#f1b6da"
            ],
            [
             0.4,
             "#fde0ef"
            ],
            [
             0.5,
             "#f7f7f7"
            ],
            [
             0.6,
             "#e6f5d0"
            ],
            [
             0.7,
             "#b8e186"
            ],
            [
             0.8,
             "#7fbc41"
            ],
            [
             0.9,
             "#4d9221"
            ],
            [
             1,
             "#276419"
            ]
           ],
           "sequential": [
            [
             0,
             "#0d0887"
            ],
            [
             0.1111111111111111,
             "#46039f"
            ],
            [
             0.2222222222222222,
             "#7201a8"
            ],
            [
             0.3333333333333333,
             "#9c179e"
            ],
            [
             0.4444444444444444,
             "#bd3786"
            ],
            [
             0.5555555555555556,
             "#d8576b"
            ],
            [
             0.6666666666666666,
             "#ed7953"
            ],
            [
             0.7777777777777778,
             "#fb9f3a"
            ],
            [
             0.8888888888888888,
             "#fdca26"
            ],
            [
             1,
             "#f0f921"
            ]
           ],
           "sequentialminus": [
            [
             0,
             "#0d0887"
            ],
            [
             0.1111111111111111,
             "#46039f"
            ],
            [
             0.2222222222222222,
             "#7201a8"
            ],
            [
             0.3333333333333333,
             "#9c179e"
            ],
            [
             0.4444444444444444,
             "#bd3786"
            ],
            [
             0.5555555555555556,
             "#d8576b"
            ],
            [
             0.6666666666666666,
             "#ed7953"
            ],
            [
             0.7777777777777778,
             "#fb9f3a"
            ],
            [
             0.8888888888888888,
             "#fdca26"
            ],
            [
             1,
             "#f0f921"
            ]
           ]
          },
          "colorway": [
           "#636efa",
           "#EF553B",
           "#00cc96",
           "#ab63fa",
           "#FFA15A",
           "#19d3f3",
           "#FF6692",
           "#B6E880",
           "#FF97FF",
           "#FECB52"
          ],
          "font": {
           "color": "#f2f5fa"
          },
          "geo": {
           "bgcolor": "rgb(17,17,17)",
           "lakecolor": "rgb(17,17,17)",
           "landcolor": "rgb(17,17,17)",
           "showlakes": true,
           "showland": true,
           "subunitcolor": "#506784"
          },
          "hoverlabel": {
           "align": "left"
          },
          "hovermode": "closest",
          "mapbox": {
           "style": "dark"
          },
          "paper_bgcolor": "rgb(17,17,17)",
          "plot_bgcolor": "rgb(17,17,17)",
          "polar": {
           "angularaxis": {
            "gridcolor": "#506784",
            "linecolor": "#506784",
            "ticks": ""
           },
           "bgcolor": "rgb(17,17,17)",
           "radialaxis": {
            "gridcolor": "#506784",
            "linecolor": "#506784",
            "ticks": ""
           }
          },
          "scene": {
           "xaxis": {
            "backgroundcolor": "rgb(17,17,17)",
            "gridcolor": "#506784",
            "gridwidth": 2,
            "linecolor": "#506784",
            "showbackground": true,
            "ticks": "",
            "zerolinecolor": "#C8D4E3"
           },
           "yaxis": {
            "backgroundcolor": "rgb(17,17,17)",
            "gridcolor": "#506784",
            "gridwidth": 2,
            "linecolor": "#506784",
            "showbackground": true,
            "ticks": "",
            "zerolinecolor": "#C8D4E3"
           },
           "zaxis": {
            "backgroundcolor": "rgb(17,17,17)",
            "gridcolor": "#506784",
            "gridwidth": 2,
            "linecolor": "#506784",
            "showbackground": true,
            "ticks": "",
            "zerolinecolor": "#C8D4E3"
           }
          },
          "shapedefaults": {
           "line": {
            "color": "#f2f5fa"
           }
          },
          "sliderdefaults": {
           "bgcolor": "#C8D4E3",
           "bordercolor": "rgb(17,17,17)",
           "borderwidth": 1,
           "tickwidth": 0
          },
          "ternary": {
           "aaxis": {
            "gridcolor": "#506784",
            "linecolor": "#506784",
            "ticks": ""
           },
           "baxis": {
            "gridcolor": "#506784",
            "linecolor": "#506784",
            "ticks": ""
           },
           "bgcolor": "rgb(17,17,17)",
           "caxis": {
            "gridcolor": "#506784",
            "linecolor": "#506784",
            "ticks": ""
           }
          },
          "title": {
           "x": 0.05
          },
          "updatemenudefaults": {
           "bgcolor": "#506784",
           "borderwidth": 0
          },
          "xaxis": {
           "automargin": true,
           "gridcolor": "#283442",
           "linecolor": "#506784",
           "ticks": "",
           "title": {
            "standoff": 15
           },
           "zerolinecolor": "#283442",
           "zerolinewidth": 2
          },
          "yaxis": {
           "automargin": true,
           "gridcolor": "#283442",
           "linecolor": "#506784",
           "ticks": "",
           "title": {
            "standoff": 15
           },
           "zerolinecolor": "#283442",
           "zerolinewidth": 2
          }
         }
        },
        "title": {
         "text": "Accuracy in fonction of the position"
        },
        "xaxis": {
         "anchor": "y",
         "domain": [
          0,
          1
         ],
         "title": {
          "text": "position"
         }
        },
        "yaxis": {
         "anchor": "x",
         "domain": [
          0,
          1
         ],
         "title": {
          "text": "Mean accuracy in %"
         }
        }
       }
      },
      "text/html": [
       "<div>                            <div id=\"16ecf663-19c1-4bb4-a24f-444b958afa17\" class=\"plotly-graph-div\" style=\"height:525px; width:100%;\"></div>            <script type=\"text/javascript\">                require([\"plotly\"], function(Plotly) {                    window.PLOTLYENV=window.PLOTLYENV || {};                                    if (document.getElementById(\"16ecf663-19c1-4bb4-a24f-444b958afa17\")) {                    Plotly.newPlot(                        \"16ecf663-19c1-4bb4-a24f-444b958afa17\",                        [{\"alignmentgroup\":\"True\",\"hovertemplate\":\"c=Performance<br>position=%{x}<br>Mean accuracy in %=%{y}<br>Accuracy=%{text}<extra></extra>\",\"legendgroup\":\"Performance\",\"marker\":{\"color\":\"darkred\",\"pattern\":{\"shape\":\"\"}},\"name\":\"Performance\",\"offsetgroup\":\"Performance\",\"orientation\":\"v\",\"showlegend\":true,\"text\":[47.5,28.75,18.75,18.75,6.25,13.75,10.0,11.25,8.75,7.5,5.0,6.25,12.5,6.25,10.0,8.75,5.0,12.5,11.25,5.0],\"textposition\":\"auto\",\"x\":[1,2,3,4,5,6,7,8,9,10,11,12,13,14,15,16,17,18,19,20],\"xaxis\":\"x\",\"y\":[47.5,28.749999999999996,18.75,18.75,6.25,13.750000000000002,10.0,11.25,8.75,7.5,5.0,6.25,12.5,6.25,10.0,8.75,5.0,12.5,11.25,5.0],\"yaxis\":\"y\",\"type\":\"bar\"}],                        {\"template\":{\"data\":{\"barpolar\":[{\"marker\":{\"line\":{\"color\":\"rgb(17,17,17)\",\"width\":0.5},\"pattern\":{\"fillmode\":\"overlay\",\"size\":10,\"solidity\":0.2}},\"type\":\"barpolar\"}],\"bar\":[{\"error_x\":{\"color\":\"#f2f5fa\"},\"error_y\":{\"color\":\"#f2f5fa\"},\"marker\":{\"line\":{\"color\":\"rgb(17,17,17)\",\"width\":0.5},\"pattern\":{\"fillmode\":\"overlay\",\"size\":10,\"solidity\":0.2}},\"type\":\"bar\"}],\"carpet\":[{\"aaxis\":{\"endlinecolor\":\"#A2B1C6\",\"gridcolor\":\"#506784\",\"linecolor\":\"#506784\",\"minorgridcolor\":\"#506784\",\"startlinecolor\":\"#A2B1C6\"},\"baxis\":{\"endlinecolor\":\"#A2B1C6\",\"gridcolor\":\"#506784\",\"linecolor\":\"#506784\",\"minorgridcolor\":\"#506784\",\"startlinecolor\":\"#A2B1C6\"},\"type\":\"carpet\"}],\"choropleth\":[{\"colorbar\":{\"outlinewidth\":0,\"ticks\":\"\"},\"type\":\"choropleth\"}],\"contourcarpet\":[{\"colorbar\":{\"outlinewidth\":0,\"ticks\":\"\"},\"type\":\"contourcarpet\"}],\"contour\":[{\"colorbar\":{\"outlinewidth\":0,\"ticks\":\"\"},\"colorscale\":[[0.0,\"#0d0887\"],[0.1111111111111111,\"#46039f\"],[0.2222222222222222,\"#7201a8\"],[0.3333333333333333,\"#9c179e\"],[0.4444444444444444,\"#bd3786\"],[0.5555555555555556,\"#d8576b\"],[0.6666666666666666,\"#ed7953\"],[0.7777777777777778,\"#fb9f3a\"],[0.8888888888888888,\"#fdca26\"],[1.0,\"#f0f921\"]],\"type\":\"contour\"}],\"heatmapgl\":[{\"colorbar\":{\"outlinewidth\":0,\"ticks\":\"\"},\"colorscale\":[[0.0,\"#0d0887\"],[0.1111111111111111,\"#46039f\"],[0.2222222222222222,\"#7201a8\"],[0.3333333333333333,\"#9c179e\"],[0.4444444444444444,\"#bd3786\"],[0.5555555555555556,\"#d8576b\"],[0.6666666666666666,\"#ed7953\"],[0.7777777777777778,\"#fb9f3a\"],[0.8888888888888888,\"#fdca26\"],[1.0,\"#f0f921\"]],\"type\":\"heatmapgl\"}],\"heatmap\":[{\"colorbar\":{\"outlinewidth\":0,\"ticks\":\"\"},\"colorscale\":[[0.0,\"#0d0887\"],[0.1111111111111111,\"#46039f\"],[0.2222222222222222,\"#7201a8\"],[0.3333333333333333,\"#9c179e\"],[0.4444444444444444,\"#bd3786\"],[0.5555555555555556,\"#d8576b\"],[0.6666666666666666,\"#ed7953\"],[0.7777777777777778,\"#fb9f3a\"],[0.8888888888888888,\"#fdca26\"],[1.0,\"#f0f921\"]],\"type\":\"heatmap\"}],\"histogram2dcontour\":[{\"colorbar\":{\"outlinewidth\":0,\"ticks\":\"\"},\"colorscale\":[[0.0,\"#0d0887\"],[0.1111111111111111,\"#46039f\"],[0.2222222222222222,\"#7201a8\"],[0.3333333333333333,\"#9c179e\"],[0.4444444444444444,\"#bd3786\"],[0.5555555555555556,\"#d8576b\"],[0.6666666666666666,\"#ed7953\"],[0.7777777777777778,\"#fb9f3a\"],[0.8888888888888888,\"#fdca26\"],[1.0,\"#f0f921\"]],\"type\":\"histogram2dcontour\"}],\"histogram2d\":[{\"colorbar\":{\"outlinewidth\":0,\"ticks\":\"\"},\"colorscale\":[[0.0,\"#0d0887\"],[0.1111111111111111,\"#46039f\"],[0.2222222222222222,\"#7201a8\"],[0.3333333333333333,\"#9c179e\"],[0.4444444444444444,\"#bd3786\"],[0.5555555555555556,\"#d8576b\"],[0.6666666666666666,\"#ed7953\"],[0.7777777777777778,\"#fb9f3a\"],[0.8888888888888888,\"#fdca26\"],[1.0,\"#f0f921\"]],\"type\":\"histogram2d\"}],\"histogram\":[{\"marker\":{\"pattern\":{\"fillmode\":\"overlay\",\"size\":10,\"solidity\":0.2}},\"type\":\"histogram\"}],\"mesh3d\":[{\"colorbar\":{\"outlinewidth\":0,\"ticks\":\"\"},\"type\":\"mesh3d\"}],\"parcoords\":[{\"line\":{\"colorbar\":{\"outlinewidth\":0,\"ticks\":\"\"}},\"type\":\"parcoords\"}],\"pie\":[{\"automargin\":true,\"type\":\"pie\"}],\"scatter3d\":[{\"line\":{\"colorbar\":{\"outlinewidth\":0,\"ticks\":\"\"}},\"marker\":{\"colorbar\":{\"outlinewidth\":0,\"ticks\":\"\"}},\"type\":\"scatter3d\"}],\"scattercarpet\":[{\"marker\":{\"colorbar\":{\"outlinewidth\":0,\"ticks\":\"\"}},\"type\":\"scattercarpet\"}],\"scattergeo\":[{\"marker\":{\"colorbar\":{\"outlinewidth\":0,\"ticks\":\"\"}},\"type\":\"scattergeo\"}],\"scattergl\":[{\"marker\":{\"line\":{\"color\":\"#283442\"}},\"type\":\"scattergl\"}],\"scattermapbox\":[{\"marker\":{\"colorbar\":{\"outlinewidth\":0,\"ticks\":\"\"}},\"type\":\"scattermapbox\"}],\"scatterpolargl\":[{\"marker\":{\"colorbar\":{\"outlinewidth\":0,\"ticks\":\"\"}},\"type\":\"scatterpolargl\"}],\"scatterpolar\":[{\"marker\":{\"colorbar\":{\"outlinewidth\":0,\"ticks\":\"\"}},\"type\":\"scatterpolar\"}],\"scatter\":[{\"marker\":{\"line\":{\"color\":\"#283442\"}},\"type\":\"scatter\"}],\"scatterternary\":[{\"marker\":{\"colorbar\":{\"outlinewidth\":0,\"ticks\":\"\"}},\"type\":\"scatterternary\"}],\"surface\":[{\"colorbar\":{\"outlinewidth\":0,\"ticks\":\"\"},\"colorscale\":[[0.0,\"#0d0887\"],[0.1111111111111111,\"#46039f\"],[0.2222222222222222,\"#7201a8\"],[0.3333333333333333,\"#9c179e\"],[0.4444444444444444,\"#bd3786\"],[0.5555555555555556,\"#d8576b\"],[0.6666666666666666,\"#ed7953\"],[0.7777777777777778,\"#fb9f3a\"],[0.8888888888888888,\"#fdca26\"],[1.0,\"#f0f921\"]],\"type\":\"surface\"}],\"table\":[{\"cells\":{\"fill\":{\"color\":\"#506784\"},\"line\":{\"color\":\"rgb(17,17,17)\"}},\"header\":{\"fill\":{\"color\":\"#2a3f5f\"},\"line\":{\"color\":\"rgb(17,17,17)\"}},\"type\":\"table\"}]},\"layout\":{\"annotationdefaults\":{\"arrowcolor\":\"#f2f5fa\",\"arrowhead\":0,\"arrowwidth\":1},\"autotypenumbers\":\"strict\",\"coloraxis\":{\"colorbar\":{\"outlinewidth\":0,\"ticks\":\"\"}},\"colorscale\":{\"diverging\":[[0,\"#8e0152\"],[0.1,\"#c51b7d\"],[0.2,\"#de77ae\"],[0.3,\"#f1b6da\"],[0.4,\"#fde0ef\"],[0.5,\"#f7f7f7\"],[0.6,\"#e6f5d0\"],[0.7,\"#b8e186\"],[0.8,\"#7fbc41\"],[0.9,\"#4d9221\"],[1,\"#276419\"]],\"sequential\":[[0.0,\"#0d0887\"],[0.1111111111111111,\"#46039f\"],[0.2222222222222222,\"#7201a8\"],[0.3333333333333333,\"#9c179e\"],[0.4444444444444444,\"#bd3786\"],[0.5555555555555556,\"#d8576b\"],[0.6666666666666666,\"#ed7953\"],[0.7777777777777778,\"#fb9f3a\"],[0.8888888888888888,\"#fdca26\"],[1.0,\"#f0f921\"]],\"sequentialminus\":[[0.0,\"#0d0887\"],[0.1111111111111111,\"#46039f\"],[0.2222222222222222,\"#7201a8\"],[0.3333333333333333,\"#9c179e\"],[0.4444444444444444,\"#bd3786\"],[0.5555555555555556,\"#d8576b\"],[0.6666666666666666,\"#ed7953\"],[0.7777777777777778,\"#fb9f3a\"],[0.8888888888888888,\"#fdca26\"],[1.0,\"#f0f921\"]]},\"colorway\":[\"#636efa\",\"#EF553B\",\"#00cc96\",\"#ab63fa\",\"#FFA15A\",\"#19d3f3\",\"#FF6692\",\"#B6E880\",\"#FF97FF\",\"#FECB52\"],\"font\":{\"color\":\"#f2f5fa\"},\"geo\":{\"bgcolor\":\"rgb(17,17,17)\",\"lakecolor\":\"rgb(17,17,17)\",\"landcolor\":\"rgb(17,17,17)\",\"showlakes\":true,\"showland\":true,\"subunitcolor\":\"#506784\"},\"hoverlabel\":{\"align\":\"left\"},\"hovermode\":\"closest\",\"mapbox\":{\"style\":\"dark\"},\"paper_bgcolor\":\"rgb(17,17,17)\",\"plot_bgcolor\":\"rgb(17,17,17)\",\"polar\":{\"angularaxis\":{\"gridcolor\":\"#506784\",\"linecolor\":\"#506784\",\"ticks\":\"\"},\"bgcolor\":\"rgb(17,17,17)\",\"radialaxis\":{\"gridcolor\":\"#506784\",\"linecolor\":\"#506784\",\"ticks\":\"\"}},\"scene\":{\"xaxis\":{\"backgroundcolor\":\"rgb(17,17,17)\",\"gridcolor\":\"#506784\",\"gridwidth\":2,\"linecolor\":\"#506784\",\"showbackground\":true,\"ticks\":\"\",\"zerolinecolor\":\"#C8D4E3\"},\"yaxis\":{\"backgroundcolor\":\"rgb(17,17,17)\",\"gridcolor\":\"#506784\",\"gridwidth\":2,\"linecolor\":\"#506784\",\"showbackground\":true,\"ticks\":\"\",\"zerolinecolor\":\"#C8D4E3\"},\"zaxis\":{\"backgroundcolor\":\"rgb(17,17,17)\",\"gridcolor\":\"#506784\",\"gridwidth\":2,\"linecolor\":\"#506784\",\"showbackground\":true,\"ticks\":\"\",\"zerolinecolor\":\"#C8D4E3\"}},\"shapedefaults\":{\"line\":{\"color\":\"#f2f5fa\"}},\"sliderdefaults\":{\"bgcolor\":\"#C8D4E3\",\"bordercolor\":\"rgb(17,17,17)\",\"borderwidth\":1,\"tickwidth\":0},\"ternary\":{\"aaxis\":{\"gridcolor\":\"#506784\",\"linecolor\":\"#506784\",\"ticks\":\"\"},\"baxis\":{\"gridcolor\":\"#506784\",\"linecolor\":\"#506784\",\"ticks\":\"\"},\"bgcolor\":\"rgb(17,17,17)\",\"caxis\":{\"gridcolor\":\"#506784\",\"linecolor\":\"#506784\",\"ticks\":\"\"}},\"title\":{\"x\":0.05},\"updatemenudefaults\":{\"bgcolor\":\"#506784\",\"borderwidth\":0},\"xaxis\":{\"automargin\":true,\"gridcolor\":\"#283442\",\"linecolor\":\"#506784\",\"ticks\":\"\",\"title\":{\"standoff\":15},\"zerolinecolor\":\"#283442\",\"zerolinewidth\":2},\"yaxis\":{\"automargin\":true,\"gridcolor\":\"#283442\",\"linecolor\":\"#506784\",\"ticks\":\"\",\"title\":{\"standoff\":15},\"zerolinecolor\":\"#283442\",\"zerolinewidth\":2}}},\"xaxis\":{\"anchor\":\"y\",\"domain\":[0.0,1.0],\"title\":{\"text\":\"position\"}},\"yaxis\":{\"anchor\":\"x\",\"domain\":[0.0,1.0],\"title\":{\"text\":\"Mean accuracy in %\"}},\"legend\":{\"title\":{\"text\":\"c\"},\"tracegroupgap\":0},\"margin\":{\"t\":60},\"barmode\":\"relative\",\"title\":{\"text\":\"Accuracy in fonction of the position\"}},                        {\"responsive\": true}                    ).then(function(){\n",
       "                            \n",
       "var gd = document.getElementById('16ecf663-19c1-4bb4-a24f-444b958afa17');\n",
       "var x = new MutationObserver(function (mutations, observer) {{\n",
       "        var display = window.getComputedStyle(gd).display;\n",
       "        if (!display || display === 'none') {{\n",
       "            console.log([gd, 'removed!']);\n",
       "            Plotly.purge(gd);\n",
       "            observer.disconnect();\n",
       "        }}\n",
       "}});\n",
       "\n",
       "// Listen for the removal of the full notebook cells\n",
       "var notebookContainer = gd.closest('#notebook-container');\n",
       "if (notebookContainer) {{\n",
       "    x.observe(notebookContainer, {childList: true});\n",
       "}}\n",
       "\n",
       "// Listen for the clearing of the current output cell\n",
       "var outputEl = gd.closest('.output');\n",
       "if (outputEl) {{\n",
       "    x.observe(outputEl, {childList: true});\n",
       "}}\n",
       "\n",
       "                        })                };                });            </script>        </div>"
      ]
     },
     "metadata": {},
     "output_type": "display_data"
    }
   ],
   "source": [
    "x = [x for x in range(1,21)]\n",
    "positions_acc = [position_acc(reg_scaled,x) for x in range(1,21)]\n",
    "a = pd.DataFrame(x, columns = ['position'])\n",
    "a['Mean accuracy in %'] = positions_acc\n",
    "a['Accuracy'] = [round(j,2) for j in positions_acc]\n",
    "a['c'] = [\"Performance\" for x in range(1,21)]\n",
    "\n",
    "fig = px.bar(  a,x='position', y='Mean accuracy in %', text='Accuracy',template = 'plotly_dark',color = 'c',color_discrete_sequence = ['darkred'])\n",
    "fig.update_layout(title = \"Accuracy in fonction of the position\")\n",
    "fig.show()\n",
    "\n",
    "\n",
    "\n"
   ]
  },
  {
   "cell_type": "code",
   "execution_count": 220,
   "metadata": {},
   "outputs": [
    {
     "data": {
      "application/vnd.plotly.v1+json": {
       "config": {
        "plotlyServerURL": "https://plot.ly"
       },
       "data": [
        {
         "hovertemplate": "c=Performance<br>Grand Prix Number=%{x}<br>Mean accuracy in %=%{y}<br>Accuracy=%{text}<extra></extra>",
         "legendgroup": "Performance",
         "line": {
          "color": "darkred",
          "dash": "solid"
         },
         "marker": {
          "symbol": "circle"
         },
         "mode": "lines+markers+text",
         "name": "Performance",
         "orientation": "v",
         "showlegend": true,
         "text": [
          17.11,
          null,
          null,
          null,
          null,
          null,
          null,
          null,
          null,
          null,
          null,
          null,
          null,
          null,
          null,
          null,
          null,
          null,
          null,
          null,
          null,
          null,
          null,
          13.82,
          null,
          null,
          null,
          null,
          null,
          null,
          null,
          null,
          null,
          null,
          null,
          null,
          null,
          null,
          null,
          null,
          null,
          null,
          null,
          null,
          null,
          null,
          15.57,
          null,
          null,
          null,
          null,
          null,
          null,
          null,
          null,
          null,
          null,
          null,
          null,
          null,
          null,
          null,
          null,
          null,
          null,
          null,
          null,
          null,
          null,
          15.35,
          null,
          null,
          null,
          null,
          null,
          null,
          null,
          null,
          null,
          null,
          null,
          null,
          null,
          null,
          null,
          null,
          null,
          null,
          null,
          null,
          null,
          null,
          14.87,
          null,
          null,
          null,
          null,
          null,
          null,
          null,
          null,
          null,
          null,
          null,
          null,
          null,
          null,
          null,
          null,
          null,
          null,
          null,
          null,
          null,
          null,
          14.12,
          null,
          null,
          null,
          null,
          null,
          null,
          null,
          null,
          null,
          null,
          null,
          null,
          null,
          null,
          null,
          null,
          null,
          null,
          null,
          null,
          null,
          null,
          15.76,
          null,
          null,
          null,
          null,
          null,
          null,
          null,
          null,
          null,
          null,
          null,
          null,
          null,
          null,
          null,
          null,
          null,
          null,
          null,
          null,
          null,
          null,
          15.27,
          null,
          null,
          null,
          null,
          null,
          null,
          null,
          null,
          null,
          null,
          null,
          null,
          null,
          null,
          null,
          null,
          null,
          null,
          null,
          null,
          null,
          null,
          15,
          null,
          null,
          null,
          null,
          null,
          null,
          null,
          null,
          null,
          null,
          null,
          null,
          null,
          null,
          null,
          null,
          null,
          null,
          null,
          null,
          null,
          null,
          14.84,
          null,
          null,
          null,
          null,
          null,
          null,
          null,
          null,
          null,
          null,
          null,
          null,
          null,
          null,
          null,
          null,
          null,
          null,
          null,
          null,
          null,
          null,
          14.63,
          null,
          null,
          null,
          null,
          null,
          null,
          null,
          null,
          null,
          null,
          null,
          null,
          null,
          null,
          null,
          null,
          null,
          null,
          null,
          null,
          null,
          null,
          14.28,
          null,
          null,
          null,
          null,
          null,
          null,
          null,
          null,
          null,
          null,
          null,
          null,
          null,
          null,
          null,
          null,
          null,
          null,
          null,
          null,
          null,
          null,
          13.77,
          null,
          null,
          null,
          null,
          null,
          null,
          null,
          null,
          null,
          null,
          null,
          null,
          null,
          null,
          null,
          null,
          null,
          null,
          null,
          null,
          null,
          null,
          13.54,
          null,
          null,
          null,
          null,
          null,
          null,
          null,
          null,
          null,
          null,
          null,
          null,
          null,
          null,
          null,
          null,
          null,
          null,
          null,
          null,
          null,
          null,
          13.97,
          null,
          null,
          null,
          null,
          null,
          null,
          null,
          null,
          null,
          null,
          null,
          null,
          null,
          null,
          null,
          null,
          null,
          null,
          null,
          null,
          null,
          null,
          13.75,
          null,
          null,
          null,
          null,
          null,
          null,
          null,
          null,
          null,
          null,
          null,
          null,
          null,
          null,
          null,
          null,
          null,
          null,
          null,
          null,
          null,
          null,
          13.81,
          null,
          null,
          null,
          null,
          null,
          null,
          null,
          null,
          null,
          null,
          null,
          null,
          null,
          null,
          null,
          null,
          null,
          null,
          null,
          null,
          null,
          null,
          13.49,
          null,
          null,
          null,
          null,
          null,
          null,
          null,
          null,
          null,
          null,
          null,
          null,
          null,
          null,
          null,
          null,
          null,
          null,
          null,
          null,
          null,
          null,
          13.35,
          null,
          null,
          null,
          null,
          null,
          null,
          null,
          null,
          null,
          null,
          null,
          null,
          null,
          null,
          null,
          null,
          null,
          null,
          null,
          null,
          null,
          null,
          13.36,
          null,
          null,
          null,
          null,
          null,
          null,
          null,
          null,
          null,
          null,
          null,
          null,
          null,
          null,
          null,
          null,
          null,
          null,
          null,
          null,
          null,
          null,
          13.18,
          null,
          null,
          null,
          null,
          null,
          null,
          null,
          null,
          null,
          null,
          null,
          null,
          null,
          null,
          null,
          null,
          null,
          null,
          null,
          null,
          null,
          null,
          13.13,
          null,
          null,
          null,
          null,
          null,
          null,
          null,
          null,
          null,
          null,
          null,
          null,
          null,
          null,
          null,
          null
         ],
         "textposition": "middle center",
         "type": "scatter",
         "x": [
          1,
          1.0420841683366733,
          1.0841683366733468,
          1.12625250501002,
          1.1683366733466933,
          1.2104208416833666,
          1.25250501002004,
          1.2945891783567134,
          1.3366733466933867,
          1.3787575150300602,
          1.4208416833667334,
          1.4629258517034067,
          1.5050100200400802,
          1.5470941883767535,
          1.5891783567134268,
          1.6312625250501003,
          1.6733466933867736,
          1.7154308617234468,
          1.7575150300601203,
          1.7995991983967936,
          1.8416833667334669,
          1.8837675350701404,
          1.9258517034068137,
          1.967935871743487,
          2.0100200400801604,
          2.052104208416834,
          2.094188376753507,
          2.13627254509018,
          2.1783567134268536,
          2.220440881763527,
          2.2625250501002006,
          2.304609218436874,
          2.346693386773547,
          2.38877755511022,
          2.4308617234468937,
          2.472945891783567,
          2.5150300601202407,
          2.557114228456914,
          2.599198396793587,
          2.6412825651302603,
          2.6833667334669338,
          2.7254509018036073,
          2.7675350701402808,
          2.809619238476954,
          2.8517034068136273,
          2.8937875751503004,
          2.935871743486974,
          2.9779559118236474,
          3.020040080160321,
          3.062124248496994,
          3.1042084168336674,
          3.1462925851703405,
          3.188376753507014,
          3.2304609218436875,
          3.2725450901803605,
          3.314629258517034,
          3.3567134268537075,
          3.3987975951903806,
          3.440881763527054,
          3.4829659318637276,
          3.5250501002004007,
          3.567134268537074,
          3.6092184368737477,
          3.6513026052104207,
          3.693386773547094,
          3.7354709418837677,
          3.7775551102204408,
          3.8196392785571143,
          3.8617234468937878,
          3.903807615230461,
          3.9458917835671343,
          3.987975951903808,
          4.030060120240481,
          4.072144288577155,
          4.114228456913828,
          4.156312625250501,
          4.198396793587174,
          4.240480961923848,
          4.2825651302605205,
          4.324649298597194,
          4.3667334669338675,
          4.408817635270541,
          4.4509018036072145,
          4.492985971943888,
          4.5350701402805615,
          4.577154308617235,
          4.619238476953908,
          4.661322645290581,
          4.703406813627255,
          4.745490981963927,
          4.787575150300601,
          4.829659318637274,
          4.871743486973948,
          4.913827655310621,
          4.955911823647295,
          4.997995991983968,
          5.040080160320642,
          5.082164328657314,
          5.124248496993988,
          5.166332665330661,
          5.208416833667335,
          5.250501002004008,
          5.292585170340681,
          5.3346693386773545,
          5.376753507014028,
          5.4188376753507015,
          5.460921843687375,
          5.5030060120240485,
          5.545090180360721,
          5.587174348697395,
          5.629258517034068,
          5.671342685370742,
          5.713426853707415,
          5.755511022044089,
          5.797595190380761,
          5.839679358717435,
          5.881763527054108,
          5.923847695390782,
          5.965931863727455,
          6.008016032064129,
          6.050100200400801,
          6.092184368737475,
          6.134268537074148,
          6.176352705410822,
          6.218436873747495,
          6.260521042084169,
          6.302605210420841,
          6.344689378757515,
          6.386773547094188,
          6.428857715430862,
          6.470941883767535,
          6.513026052104208,
          6.5551102204408815,
          6.597194388777555,
          6.6392785571142285,
          6.681362725450902,
          6.7234468937875755,
          6.765531062124248,
          6.807615230460922,
          6.849699398797595,
          6.891783567134269,
          6.933867735470942,
          6.975951903807616,
          7.018036072144288,
          7.060120240480962,
          7.102204408817635,
          7.144288577154309,
          7.186372745490982,
          7.228456913827656,
          7.270541082164328,
          7.312625250501002,
          7.354709418837675,
          7.396793587174349,
          7.438877755511022,
          7.480961923847696,
          7.5230460921843685,
          7.565130260521042,
          7.6072144288577155,
          7.649298597194389,
          7.6913827655310625,
          7.733466933867735,
          7.775551102204409,
          7.817635270541082,
          7.859719438877756,
          7.901803607214429,
          7.943887775551103,
          7.985971943887775,
          8.028056112224448,
          8.070140280561123,
          8.112224448897795,
          8.15430861723447,
          8.196392785571142,
          8.238476953907815,
          8.280561122244489,
          8.322645290581162,
          8.364729458917836,
          8.40681362725451,
          8.448897795591183,
          8.490981963927855,
          8.53306613226453,
          8.575150300601202,
          8.617234468937877,
          8.659318637274549,
          8.701402805611224,
          8.743486973947896,
          8.785571142284569,
          8.827655310621243,
          8.869739478957916,
          8.91182364729459,
          8.953907815631263,
          8.995991983967937,
          9.03807615230461,
          9.080160320641284,
          9.122244488977955,
          9.164328657314629,
          9.206412825651302,
          9.248496993987976,
          9.29058116232465,
          9.332665330661323,
          9.374749498997996,
          9.41683366733467,
          9.458917835671343,
          9.501002004008017,
          9.54308617234469,
          9.585170340681362,
          9.627254509018035,
          9.669338677354709,
          9.711422845691382,
          9.753507014028056,
          9.79559118236473,
          9.837675350701403,
          9.879759519038076,
          9.92184368737475,
          9.963927855711423,
          10.006012024048097,
          10.04809619238477,
          10.090180360721442,
          10.132264529058116,
          10.17434869739479,
          10.216432865731463,
          10.258517034068136,
          10.30060120240481,
          10.342685370741483,
          10.384769539078157,
          10.42685370741483,
          10.468937875751504,
          10.511022044088177,
          10.553106212424849,
          10.595190380761522,
          10.637274549098196,
          10.67935871743487,
          10.721442885771543,
          10.763527054108216,
          10.80561122244489,
          10.847695390781563,
          10.889779559118237,
          10.93186372745491,
          10.973947895791584,
          11.016032064128257,
          11.05811623246493,
          11.100200400801603,
          11.142284569138276,
          11.18436873747495,
          11.226452905811623,
          11.268537074148297,
          11.31062124248497,
          11.352705410821644,
          11.394789579158317,
          11.43687374749499,
          11.478957915831664,
          11.521042084168338,
          11.56312625250501,
          11.605210420841683,
          11.647294589178356,
          11.68937875751503,
          11.731462925851703,
          11.773547094188377,
          11.81563126252505,
          11.857715430861724,
          11.899799599198397,
          11.94188376753507,
          11.983967935871744,
          12.026052104208416,
          12.06813627254509,
          12.110220440881763,
          12.152304609218437,
          12.19438877755511,
          12.236472945891784,
          12.278557114228457,
          12.32064128256513,
          12.362725450901804,
          12.404809619238478,
          12.446893787575151,
          12.488977955911825,
          12.531062124248496,
          12.57314629258517,
          12.615230460921843,
          12.657314629258517,
          12.69939879759519,
          12.741482965931864,
          12.783567134268537,
          12.82565130260521,
          12.867735470941884,
          12.909819639278558,
          12.951903807615231,
          12.993987975951905,
          13.036072144288577,
          13.07815631262525,
          13.120240480961924,
          13.162324649298597,
          13.20440881763527,
          13.246492985971944,
          13.288577154308618,
          13.330661322645291,
          13.372745490981965,
          13.414829659318638,
          13.456913827655312,
          13.498997995991983,
          13.541082164328657,
          13.58316633266533,
          13.625250501002004,
          13.667334669338677,
          13.70941883767535,
          13.751503006012024,
          13.793587174348698,
          13.835671342685371,
          13.877755511022045,
          13.919839679358718,
          13.961923847695392,
          14.004008016032063,
          14.046092184368737,
          14.08817635270541,
          14.130260521042084,
          14.172344689378757,
          14.214428857715431,
          14.256513026052104,
          14.298597194388778,
          14.340681362725451,
          14.382765531062125,
          14.424849699398798,
          14.46693386773547,
          14.509018036072144,
          14.551102204408817,
          14.59318637274549,
          14.635270541082164,
          14.677354709418838,
          14.719438877755511,
          14.761523046092185,
          14.803607214428858,
          14.845691382765532,
          14.887775551102205,
          14.929859719438879,
          14.97194388777555,
          15.014028056112224,
          15.056112224448897,
          15.098196392785571,
          15.140280561122244,
          15.182364729458918,
          15.224448897795591,
          15.266533066132265,
          15.308617234468938,
          15.350701402805612,
          15.392785571142285,
          15.434869739478959,
          15.47695390781563,
          15.519038076152304,
          15.561122244488978,
          15.603206412825651,
          15.645290581162325,
          15.687374749498998,
          15.729458917835672,
          15.771543086172345,
          15.813627254509019,
          15.855711422845692,
          15.897795591182366,
          15.939879759519037,
          15.98196392785571,
          16.024048096192384,
          16.06613226452906,
          16.10821643286573,
          16.150300601202403,
          16.19238476953908,
          16.234468937875754,
          16.276553106212425,
          16.318637274549097,
          16.360721442885772,
          16.402805611222448,
          16.44488977955912,
          16.48697394789579,
          16.529058116232463,
          16.571142284569138,
          16.613226452905813,
          16.655310621242485,
          16.697394789579157,
          16.739478957915832,
          16.781563126252507,
          16.82364729458918,
          16.86573146292585,
          16.907815631262526,
          16.949899799599198,
          16.991983967935873,
          17.034068136272545,
          17.07615230460922,
          17.118236472945892,
          17.160320641282567,
          17.20240480961924,
          17.24448897795591,
          17.286573146292586,
          17.328657314629258,
          17.370741482965933,
          17.412825651302605,
          17.45490981963928,
          17.49699398797595,
          17.539078156312627,
          17.5811623246493,
          17.623246492985974,
          17.665330661322646,
          17.707414829659317,
          17.749498997995993,
          17.791583166332664,
          17.83366733466934,
          17.87575150300601,
          17.917835671342687,
          17.95991983967936,
          18.002004008016034,
          18.044088176352705,
          18.08617234468938,
          18.128256513026052,
          18.170340681362724,
          18.2124248496994,
          18.25450901803607,
          18.296593186372746,
          18.338677354709418,
          18.380761523046093,
          18.422845691382765,
          18.46492985971944,
          18.507014028056112,
          18.549098196392787,
          18.59118236472946,
          18.63326653306613,
          18.675350701402806,
          18.717434869739478,
          18.759519038076153,
          18.801603206412825,
          18.8436873747495,
          18.88577154308617,
          18.927855711422847,
          18.96993987975952,
          19.012024048096194,
          19.054108216432866,
          19.09619238476954,
          19.138276553106213,
          19.180360721442884,
          19.22244488977956,
          19.26452905811623,
          19.306613226452907,
          19.34869739478958,
          19.390781563126254,
          19.432865731462925,
          19.4749498997996,
          19.517034068136272,
          19.559118236472948,
          19.60120240480962,
          19.64328657314629,
          19.685370741482966,
          19.727454909819638,
          19.769539078156313,
          19.811623246492985,
          19.85370741482966,
          19.895791583166332,
          19.937875751503007,
          19.97995991983968,
          20.022044088176354,
          20.064128256513026,
          20.106212424849698,
          20.148296593186373,
          20.190380761523045,
          20.23246492985972,
          20.274549098196392,
          20.316633266533067,
          20.35871743486974,
          20.400801603206414,
          20.442885771543086,
          20.48496993987976,
          20.527054108216433,
          20.569138276553108,
          20.61122244488978,
          20.65330661322645,
          20.695390781563127,
          20.7374749498998,
          20.779559118236474,
          20.821643286573146,
          20.86372745490982,
          20.905811623246493,
          20.947895791583168,
          20.98997995991984,
          21.032064128256515,
          21.074148296593187,
          21.11623246492986,
          21.158316633266534,
          21.200400801603205,
          21.24248496993988,
          21.284569138276552,
          21.326653306613228,
          21.3687374749499,
          21.410821643286575,
          21.452905811623246,
          21.49498997995992,
          21.537074148296593,
          21.579158316633265,
          21.62124248496994,
          21.663326653306612,
          21.705410821643287,
          21.74749498997996,
          21.789579158316634,
          21.831663326653306,
          21.87374749498998,
          21.915831663326653,
          21.95791583166333,
          22
         ],
         "xaxis": "x",
         "y": [
          17.105263157894736,
          16.739175635394677,
          16.39826911274729,
          16.081829768544665,
          15.789143781378877,
          15.519497329842006,
          15.27217659252613,
          15.046467748023334,
          14.84165697492569,
          14.657030451825285,
          14.491874357314195,
          14.3454748699845,
          14.217118168428279,
          14.106090431237615,
          14.01167783700458,
          13.933166564321263,
          13.869842791779744,
          13.820992697972091,
          13.785902461490391,
          13.763858260926726,
          13.754146274873177,
          13.756052681921817,
          13.768863660664731,
          13.791865389693994,
          13.82434404760169,
          13.865585812979894,
          13.914876864420693,
          13.971503380516157,
          14.034751539858373,
          14.103907521039423,
          14.178257502651377,
          14.25708766328632,
          14.339684181536335,
          14.425333235993497,
          14.513321005249885,
          14.602933667897586,
          14.693457402528672,
          14.784178387735224,
          14.874382802109324,
          14.96335682424305,
          15.050386632728483,
          15.134758406157701,
          15.215758323122785,
          15.292672562215815,
          15.364787302028871,
          15.431388721154027,
          15.491762998183374,
          15.545196311708981,
          15.590995439999427,
          15.628998447579747,
          15.659608736496674,
          15.683257126966375,
          15.700374439204998,
          15.711391493428696,
          15.716739109853624,
          15.716848108695938,
          15.712149310171794,
          15.703073534497344,
          15.690051601888737,
          15.67351433256213,
          15.65389254673369,
          15.631617064619556,
          15.60711870643589,
          15.580828292398838,
          15.553176642724562,
          15.524594577629221,
          15.495512917328957,
          15.466362482039933,
          15.437574091978298,
          15.409578567360212,
          15.382806728401825,
          15.357689395319293,
          15.3346163702129,
          15.313574493212663,
          15.294321887434506,
          15.276614050834954,
          15.260206481370519,
          15.244854676997727,
          15.230314135673092,
          15.216340355353129,
          15.202688833994362,
          15.189115069553305,
          15.175374559986475,
          15.161222803250398,
          15.146415297301585,
          15.130707540096555,
          15.113855029591829,
          15.09561326374392,
          15.075737740509354,
          15.053983957844643,
          15.030107413706308,
          15.003863606050864,
          14.975008032834834,
          14.943296192014731,
          14.908483581547078,
          14.870325699388387,
          14.828692025426761,
          14.783978080412261,
          14.736731038054925,
          14.687498086312521,
          14.636826413142822,
          14.585263206503603,
          14.533355654352642,
          14.481650944647704,
          14.430696265346562,
          14.381038804406991,
          14.333225749786765,
          14.28780428944366,
          14.245321611335445,
          14.20632490341989,
          14.171361353654776,
          14.140978149997867,
          14.115722480406944,
          14.096141532839775,
          14.082782495254135,
          14.076192555607797,
          14.076918901858532,
          14.085508721964112,
          14.102509203882317,
          14.128466027913882,
          14.163562824657815,
          14.207153542203192,
          14.258476392404809,
          14.316769587117461,
          14.381271338195939,
          14.451219857495047,
          14.525853356869575,
          14.604410048174323,
          14.686128143264085,
          14.770245853993655,
          14.856001392217832,
          14.94263296979141,
          15.029378798569187,
          15.115477090405957,
          15.200166057156514,
          15.28268391067566,
          15.362268862818185,
          15.438159125438885,
          15.50959291039256,
          15.575808429534003,
          15.636043894718012,
          15.689537517799382,
          15.735527510632906,
          15.77326846462378,
          15.802556102990266,
          15.8238382977164,
          15.837601746387142,
          15.844333146587461,
          15.844519195902325,
          15.838646591916694,
          15.827202032215538,
          15.810672214383823,
          15.789543836006512,
          15.764303594668572,
          15.735438187954975,
          15.703434313450677,
          15.668778668740647,
          15.63195795140986,
          15.593458859043269,
          15.553768089225848,
          15.513372339542558,
          15.472758307578372,
          15.432412690918246,
          15.392822187147155,
          15.35447349385006,
          15.31785330861193,
          15.28344832901773,
          15.25171432402614,
          15.222747517315282,
          15.196412167866153,
          15.172568668581452,
          15.151077412363884,
          15.131798792116154,
          15.114593200740963,
          15.09932103114102,
          15.085842676219027,
          15.07401852887769,
          15.063708982019712,
          15.054774428547796,
          15.047075261364649,
          15.040471873372976,
          15.034824657475474,
          15.029994006574857,
          15.025840313573825,
          15.02222397137508,
          15.019005372881331,
          15.016044910995276,
          15.013202978619628,
          15.010339968657087,
          15.007316274010355,
          15.003992287582134,
          15.000248292542233,
          14.996070603220378,
          14.991480723972728,
          14.986500182354462,
          14.981150505920759,
          14.9754532222268,
          14.969429858827773,
          14.963101943278849,
          14.956491003135216,
          14.94961856595205,
          14.942506159284536,
          14.935175310687857,
          14.927647547717186,
          14.91994439792771,
          14.91208738887461,
          14.904098048113063,
          14.895997903198253,
          14.887808481685362,
          14.879551311129566,
          14.871247919086052,
          14.862919833109997,
          14.854588580756584,
          14.846275689580992,
          14.838002670088535,
          14.82978237145026,
          14.82160491535974,
          14.81345674073848,
          14.805324286508013,
          14.79719399158984,
          14.789052294905487,
          14.78088563537647,
          14.772680451924307,
          14.764423183470507,
          14.7561002689366,
          14.747698147244094,
          14.739203257314513,
          14.730602038069371,
          14.72188092843018,
          14.713026367318468,
          14.70402479365574,
          14.694862646363523,
          14.68552636436333,
          14.67600238657668,
          14.66627715192509,
          14.656337099330075,
          14.646168667713152,
          14.635758295995842,
          14.62509248120747,
          14.614160255898053,
          14.602954115933885,
          14.591466806522805,
          14.579691072872631,
          14.567619660191196,
          14.55524531368632,
          14.542560778565832,
          14.529558800037561,
          14.516232123309337,
          14.50257349358898,
          14.488575656084318,
          14.474231356003177,
          14.459533338553383,
          14.444474348942764,
          14.429047132379148,
          14.413244434070359,
          14.397058999224228,
          14.380483573048577,
          14.363510900751232,
          14.346133727540025,
          14.328344798622775,
          14.310136859207313,
          14.291502654501466,
          14.272436354181215,
          14.252951913571275,
          14.233077773223059,
          14.212842705653264,
          14.192275483378571,
          14.171404878915673,
          14.15025966478126,
          14.128868613492015,
          14.107260497564633,
          14.085464089515794,
          14.063508161862199,
          14.04142148712053,
          14.019232837807476,
          13.996970986439726,
          13.974664705533968,
          13.952342767606895,
          13.93003394517519,
          13.90776701075554,
          13.88557073686464,
          13.863473896019178,
          13.841505260735838,
          13.819693603531316,
          13.798067696922296,
          13.776656313425466,
          13.755494722990088,
          13.73465829314697,
          13.714237672425735,
          13.694323539436725,
          13.675006572790274,
          13.65637745109672,
          13.638526852966391,
          13.621545457009635,
          13.605523941836775,
          13.590552986058155,
          13.576723268284109,
          13.564125467124972,
          13.552850261191077,
          13.542988329092765,
          13.534630349440368,
          13.527867000844221,
          13.522788961914666,
          13.519486911262028,
          13.518051527496652,
          13.51857348922887,
          13.521143475069014,
          13.52585216362743,
          13.532790233514445,
          13.542048318761443,
          13.553649432702636,
          13.567412840574038,
          13.583119586733059,
          13.600550715537093,
          13.61948727134356,
          13.639710298509858,
          13.661000841393397,
          13.683139944351577,
          13.70590865174181,
          13.729088007921497,
          13.752459057248046,
          13.775802844078868,
          13.798900412771363,
          13.821532807682937,
          13.843481073170995,
          13.86452625359295,
          13.8844493933062,
          13.903031536668157,
          13.920053728036223,
          13.935297011767807,
          13.948542432220309,
          13.959571033751137,
          13.968163860717706,
          13.97410451802467,
          13.97733024341246,
          13.978016405516906,
          13.976358857351942,
          13.972553451931505,
          13.966796042269527,
          13.959282481379942,
          13.950208622276687,
          13.939770317973695,
          13.928163421484896,
          13.915583785824237,
          13.902227264005644,
          13.888289709043049,
          13.873966973950388,
          13.859454911741599,
          13.844949375430616,
          13.830646218031369,
          13.816741292557797,
          13.803430452023838,
          13.790909549443416,
          13.779374437830473,
          13.76902097019894,
          13.760044999562757,
          13.75264237893585,
          13.746998283473243,
          13.743118533668492,
          13.740860127356534,
          13.740075557650561,
          13.740617317663778,
          13.742337900509384,
          13.745089799300581,
          13.748725507150567,
          13.753097517172542,
          13.75805832247971,
          13.763460416185271,
          13.769156291402423,
          13.774998441244371,
          13.780839358824313,
          13.786531537255446,
          13.791927469650973,
          13.796879649124097,
          13.801240568788016,
          13.804862721755931,
          13.807598601141043,
          13.809300700056554,
          13.809821511615661,
          13.809013528931567,
          13.806729245117474,
          13.802843275349332,
          13.79738882203091,
          13.790468290493411,
          13.782184374244707,
          13.77263976679267,
          13.761937161645188,
          13.750179252310131,
          13.737468732295373,
          13.723908295108794,
          13.70960063425827,
          13.694648443251682,
          13.679154415596898,
          13.6632212448018,
          13.646951624374264,
          13.630448247822166,
          13.613813808653385,
          13.597151000375794,
          13.580562516497269,
          13.564151050525691,
          13.548019295968931,
          13.532269946334875,
          13.517005695131388,
          13.502329235866355,
          13.488343259888461,
          13.47512747616024,
          13.46268187430194,
          13.450989170438014,
          13.440032080692907,
          13.429793321191074,
          13.420255608056967,
          13.411401657415036,
          13.40321418538973,
          13.3956759081055,
          13.388769541686802,
          13.382477802258078,
          13.376783405943788,
          13.371669068868382,
          13.367117507156303,
          13.363111436932009,
          13.359633574319949,
          13.356666635444576,
          13.354193336430335,
          13.352196393401682,
          13.350658522483071,
          13.349562439798945,
          13.34889086147376,
          13.348626503631968,
          13.348751977767305,
          13.349240779422884,
          13.350050343327789,
          13.351136469356263,
          13.352454957382534,
          13.353961607280853,
          13.355612218925451,
          13.357362592190565,
          13.359168526950434,
          13.360985823079297,
          13.362770280451391,
          13.36447769894096,
          13.36606387842223,
          13.367484618769453,
          13.368695719856857,
          13.369652981558684,
          13.37031220374917,
          13.370629186302555,
          13.37055972909308,
          13.370059631994977,
          13.369084694882483,
          13.367590717629847,
          13.365533500111297,
          13.362868842201078,
          13.35955451586965,
          13.355588955904167,
          13.351008810716053,
          13.345852210381823,
          13.340157284977998,
          13.33396216458109,
          13.327304979267614,
          13.320223859114085,
          13.312756934197028,
          13.304942334592946,
          13.296818190378362,
          13.288422631629793,
          13.279793788423751,
          13.270969790836759,
          13.261988768945326,
          13.252888852825969,
          13.243708172555204,
          13.23448485820955,
          13.225257039865518,
          13.216062847599627,
          13.206940411488395,
          13.197927861608335,
          13.189063328035965,
          13.180384940847798,
          13.171930830120353,
          13.163739125930142,
          13.155847958353686,
          13.148295457467498,
          13.141119753348097,
          13.13435897607199,
          13.128051255715704,
          13.122234722355747,
          13.116947506068641,
          13.112227736930897,
          13.108113545019036,
          13.104643060409568,
          13.101854413179016,
          13.099785733403891,
          13.09847515116071,
          13.097960796525985,
          13.098280799576239,
          13.099473290387984,
          13.101576399037738,
          13.104628255602014,
          13.108666990157333,
          13.113730732780205,
          13.119857613547147,
          13.12708576253468
         ],
         "yaxis": "y"
        }
       ],
       "layout": {
        "legend": {
         "title": {
          "text": "c"
         },
         "tracegroupgap": 0
        },
        "margin": {
         "t": 60
        },
        "template": {
         "data": {
          "bar": [
           {
            "error_x": {
             "color": "#f2f5fa"
            },
            "error_y": {
             "color": "#f2f5fa"
            },
            "marker": {
             "line": {
              "color": "rgb(17,17,17)",
              "width": 0.5
             },
             "pattern": {
              "fillmode": "overlay",
              "size": 10,
              "solidity": 0.2
             }
            },
            "type": "bar"
           }
          ],
          "barpolar": [
           {
            "marker": {
             "line": {
              "color": "rgb(17,17,17)",
              "width": 0.5
             },
             "pattern": {
              "fillmode": "overlay",
              "size": 10,
              "solidity": 0.2
             }
            },
            "type": "barpolar"
           }
          ],
          "carpet": [
           {
            "aaxis": {
             "endlinecolor": "#A2B1C6",
             "gridcolor": "#506784",
             "linecolor": "#506784",
             "minorgridcolor": "#506784",
             "startlinecolor": "#A2B1C6"
            },
            "baxis": {
             "endlinecolor": "#A2B1C6",
             "gridcolor": "#506784",
             "linecolor": "#506784",
             "minorgridcolor": "#506784",
             "startlinecolor": "#A2B1C6"
            },
            "type": "carpet"
           }
          ],
          "choropleth": [
           {
            "colorbar": {
             "outlinewidth": 0,
             "ticks": ""
            },
            "type": "choropleth"
           }
          ],
          "contour": [
           {
            "colorbar": {
             "outlinewidth": 0,
             "ticks": ""
            },
            "colorscale": [
             [
              0,
              "#0d0887"
             ],
             [
              0.1111111111111111,
              "#46039f"
             ],
             [
              0.2222222222222222,
              "#7201a8"
             ],
             [
              0.3333333333333333,
              "#9c179e"
             ],
             [
              0.4444444444444444,
              "#bd3786"
             ],
             [
              0.5555555555555556,
              "#d8576b"
             ],
             [
              0.6666666666666666,
              "#ed7953"
             ],
             [
              0.7777777777777778,
              "#fb9f3a"
             ],
             [
              0.8888888888888888,
              "#fdca26"
             ],
             [
              1,
              "#f0f921"
             ]
            ],
            "type": "contour"
           }
          ],
          "contourcarpet": [
           {
            "colorbar": {
             "outlinewidth": 0,
             "ticks": ""
            },
            "type": "contourcarpet"
           }
          ],
          "heatmap": [
           {
            "colorbar": {
             "outlinewidth": 0,
             "ticks": ""
            },
            "colorscale": [
             [
              0,
              "#0d0887"
             ],
             [
              0.1111111111111111,
              "#46039f"
             ],
             [
              0.2222222222222222,
              "#7201a8"
             ],
             [
              0.3333333333333333,
              "#9c179e"
             ],
             [
              0.4444444444444444,
              "#bd3786"
             ],
             [
              0.5555555555555556,
              "#d8576b"
             ],
             [
              0.6666666666666666,
              "#ed7953"
             ],
             [
              0.7777777777777778,
              "#fb9f3a"
             ],
             [
              0.8888888888888888,
              "#fdca26"
             ],
             [
              1,
              "#f0f921"
             ]
            ],
            "type": "heatmap"
           }
          ],
          "heatmapgl": [
           {
            "colorbar": {
             "outlinewidth": 0,
             "ticks": ""
            },
            "colorscale": [
             [
              0,
              "#0d0887"
             ],
             [
              0.1111111111111111,
              "#46039f"
             ],
             [
              0.2222222222222222,
              "#7201a8"
             ],
             [
              0.3333333333333333,
              "#9c179e"
             ],
             [
              0.4444444444444444,
              "#bd3786"
             ],
             [
              0.5555555555555556,
              "#d8576b"
             ],
             [
              0.6666666666666666,
              "#ed7953"
             ],
             [
              0.7777777777777778,
              "#fb9f3a"
             ],
             [
              0.8888888888888888,
              "#fdca26"
             ],
             [
              1,
              "#f0f921"
             ]
            ],
            "type": "heatmapgl"
           }
          ],
          "histogram": [
           {
            "marker": {
             "pattern": {
              "fillmode": "overlay",
              "size": 10,
              "solidity": 0.2
             }
            },
            "type": "histogram"
           }
          ],
          "histogram2d": [
           {
            "colorbar": {
             "outlinewidth": 0,
             "ticks": ""
            },
            "colorscale": [
             [
              0,
              "#0d0887"
             ],
             [
              0.1111111111111111,
              "#46039f"
             ],
             [
              0.2222222222222222,
              "#7201a8"
             ],
             [
              0.3333333333333333,
              "#9c179e"
             ],
             [
              0.4444444444444444,
              "#bd3786"
             ],
             [
              0.5555555555555556,
              "#d8576b"
             ],
             [
              0.6666666666666666,
              "#ed7953"
             ],
             [
              0.7777777777777778,
              "#fb9f3a"
             ],
             [
              0.8888888888888888,
              "#fdca26"
             ],
             [
              1,
              "#f0f921"
             ]
            ],
            "type": "histogram2d"
           }
          ],
          "histogram2dcontour": [
           {
            "colorbar": {
             "outlinewidth": 0,
             "ticks": ""
            },
            "colorscale": [
             [
              0,
              "#0d0887"
             ],
             [
              0.1111111111111111,
              "#46039f"
             ],
             [
              0.2222222222222222,
              "#7201a8"
             ],
             [
              0.3333333333333333,
              "#9c179e"
             ],
             [
              0.4444444444444444,
              "#bd3786"
             ],
             [
              0.5555555555555556,
              "#d8576b"
             ],
             [
              0.6666666666666666,
              "#ed7953"
             ],
             [
              0.7777777777777778,
              "#fb9f3a"
             ],
             [
              0.8888888888888888,
              "#fdca26"
             ],
             [
              1,
              "#f0f921"
             ]
            ],
            "type": "histogram2dcontour"
           }
          ],
          "mesh3d": [
           {
            "colorbar": {
             "outlinewidth": 0,
             "ticks": ""
            },
            "type": "mesh3d"
           }
          ],
          "parcoords": [
           {
            "line": {
             "colorbar": {
              "outlinewidth": 0,
              "ticks": ""
             }
            },
            "type": "parcoords"
           }
          ],
          "pie": [
           {
            "automargin": true,
            "type": "pie"
           }
          ],
          "scatter": [
           {
            "marker": {
             "line": {
              "color": "#283442"
             }
            },
            "type": "scatter"
           }
          ],
          "scatter3d": [
           {
            "line": {
             "colorbar": {
              "outlinewidth": 0,
              "ticks": ""
             }
            },
            "marker": {
             "colorbar": {
              "outlinewidth": 0,
              "ticks": ""
             }
            },
            "type": "scatter3d"
           }
          ],
          "scattercarpet": [
           {
            "marker": {
             "colorbar": {
              "outlinewidth": 0,
              "ticks": ""
             }
            },
            "type": "scattercarpet"
           }
          ],
          "scattergeo": [
           {
            "marker": {
             "colorbar": {
              "outlinewidth": 0,
              "ticks": ""
             }
            },
            "type": "scattergeo"
           }
          ],
          "scattergl": [
           {
            "marker": {
             "line": {
              "color": "#283442"
             }
            },
            "type": "scattergl"
           }
          ],
          "scattermapbox": [
           {
            "marker": {
             "colorbar": {
              "outlinewidth": 0,
              "ticks": ""
             }
            },
            "type": "scattermapbox"
           }
          ],
          "scatterpolar": [
           {
            "marker": {
             "colorbar": {
              "outlinewidth": 0,
              "ticks": ""
             }
            },
            "type": "scatterpolar"
           }
          ],
          "scatterpolargl": [
           {
            "marker": {
             "colorbar": {
              "outlinewidth": 0,
              "ticks": ""
             }
            },
            "type": "scatterpolargl"
           }
          ],
          "scatterternary": [
           {
            "marker": {
             "colorbar": {
              "outlinewidth": 0,
              "ticks": ""
             }
            },
            "type": "scatterternary"
           }
          ],
          "surface": [
           {
            "colorbar": {
             "outlinewidth": 0,
             "ticks": ""
            },
            "colorscale": [
             [
              0,
              "#0d0887"
             ],
             [
              0.1111111111111111,
              "#46039f"
             ],
             [
              0.2222222222222222,
              "#7201a8"
             ],
             [
              0.3333333333333333,
              "#9c179e"
             ],
             [
              0.4444444444444444,
              "#bd3786"
             ],
             [
              0.5555555555555556,
              "#d8576b"
             ],
             [
              0.6666666666666666,
              "#ed7953"
             ],
             [
              0.7777777777777778,
              "#fb9f3a"
             ],
             [
              0.8888888888888888,
              "#fdca26"
             ],
             [
              1,
              "#f0f921"
             ]
            ],
            "type": "surface"
           }
          ],
          "table": [
           {
            "cells": {
             "fill": {
              "color": "#506784"
             },
             "line": {
              "color": "rgb(17,17,17)"
             }
            },
            "header": {
             "fill": {
              "color": "#2a3f5f"
             },
             "line": {
              "color": "rgb(17,17,17)"
             }
            },
            "type": "table"
           }
          ]
         },
         "layout": {
          "annotationdefaults": {
           "arrowcolor": "#f2f5fa",
           "arrowhead": 0,
           "arrowwidth": 1
          },
          "autotypenumbers": "strict",
          "coloraxis": {
           "colorbar": {
            "outlinewidth": 0,
            "ticks": ""
           }
          },
          "colorscale": {
           "diverging": [
            [
             0,
             "#8e0152"
            ],
            [
             0.1,
             "#c51b7d"
            ],
            [
             0.2,
             "#de77ae"
            ],
            [
             0.3,
             "#f1b6da"
            ],
            [
             0.4,
             "#fde0ef"
            ],
            [
             0.5,
             "#f7f7f7"
            ],
            [
             0.6,
             "#e6f5d0"
            ],
            [
             0.7,
             "#b8e186"
            ],
            [
             0.8,
             "#7fbc41"
            ],
            [
             0.9,
             "#4d9221"
            ],
            [
             1,
             "#276419"
            ]
           ],
           "sequential": [
            [
             0,
             "#0d0887"
            ],
            [
             0.1111111111111111,
             "#46039f"
            ],
            [
             0.2222222222222222,
             "#7201a8"
            ],
            [
             0.3333333333333333,
             "#9c179e"
            ],
            [
             0.4444444444444444,
             "#bd3786"
            ],
            [
             0.5555555555555556,
             "#d8576b"
            ],
            [
             0.6666666666666666,
             "#ed7953"
            ],
            [
             0.7777777777777778,
             "#fb9f3a"
            ],
            [
             0.8888888888888888,
             "#fdca26"
            ],
            [
             1,
             "#f0f921"
            ]
           ],
           "sequentialminus": [
            [
             0,
             "#0d0887"
            ],
            [
             0.1111111111111111,
             "#46039f"
            ],
            [
             0.2222222222222222,
             "#7201a8"
            ],
            [
             0.3333333333333333,
             "#9c179e"
            ],
            [
             0.4444444444444444,
             "#bd3786"
            ],
            [
             0.5555555555555556,
             "#d8576b"
            ],
            [
             0.6666666666666666,
             "#ed7953"
            ],
            [
             0.7777777777777778,
             "#fb9f3a"
            ],
            [
             0.8888888888888888,
             "#fdca26"
            ],
            [
             1,
             "#f0f921"
            ]
           ]
          },
          "colorway": [
           "#636efa",
           "#EF553B",
           "#00cc96",
           "#ab63fa",
           "#FFA15A",
           "#19d3f3",
           "#FF6692",
           "#B6E880",
           "#FF97FF",
           "#FECB52"
          ],
          "font": {
           "color": "#f2f5fa"
          },
          "geo": {
           "bgcolor": "rgb(17,17,17)",
           "lakecolor": "rgb(17,17,17)",
           "landcolor": "rgb(17,17,17)",
           "showlakes": true,
           "showland": true,
           "subunitcolor": "#506784"
          },
          "hoverlabel": {
           "align": "left"
          },
          "hovermode": "closest",
          "mapbox": {
           "style": "dark"
          },
          "paper_bgcolor": "rgb(17,17,17)",
          "plot_bgcolor": "rgb(17,17,17)",
          "polar": {
           "angularaxis": {
            "gridcolor": "#506784",
            "linecolor": "#506784",
            "ticks": ""
           },
           "bgcolor": "rgb(17,17,17)",
           "radialaxis": {
            "gridcolor": "#506784",
            "linecolor": "#506784",
            "ticks": ""
           }
          },
          "scene": {
           "xaxis": {
            "backgroundcolor": "rgb(17,17,17)",
            "gridcolor": "#506784",
            "gridwidth": 2,
            "linecolor": "#506784",
            "showbackground": true,
            "ticks": "",
            "zerolinecolor": "#C8D4E3"
           },
           "yaxis": {
            "backgroundcolor": "rgb(17,17,17)",
            "gridcolor": "#506784",
            "gridwidth": 2,
            "linecolor": "#506784",
            "showbackground": true,
            "ticks": "",
            "zerolinecolor": "#C8D4E3"
           },
           "zaxis": {
            "backgroundcolor": "rgb(17,17,17)",
            "gridcolor": "#506784",
            "gridwidth": 2,
            "linecolor": "#506784",
            "showbackground": true,
            "ticks": "",
            "zerolinecolor": "#C8D4E3"
           }
          },
          "shapedefaults": {
           "line": {
            "color": "#f2f5fa"
           }
          },
          "sliderdefaults": {
           "bgcolor": "#C8D4E3",
           "bordercolor": "rgb(17,17,17)",
           "borderwidth": 1,
           "tickwidth": 0
          },
          "ternary": {
           "aaxis": {
            "gridcolor": "#506784",
            "linecolor": "#506784",
            "ticks": ""
           },
           "baxis": {
            "gridcolor": "#506784",
            "linecolor": "#506784",
            "ticks": ""
           },
           "bgcolor": "rgb(17,17,17)",
           "caxis": {
            "gridcolor": "#506784",
            "linecolor": "#506784",
            "ticks": ""
           }
          },
          "title": {
           "x": 0.05
          },
          "updatemenudefaults": {
           "bgcolor": "#506784",
           "borderwidth": 0
          },
          "xaxis": {
           "automargin": true,
           "gridcolor": "#283442",
           "linecolor": "#506784",
           "ticks": "",
           "title": {
            "standoff": 15
           },
           "zerolinecolor": "#283442",
           "zerolinewidth": 2
          },
          "yaxis": {
           "automargin": true,
           "gridcolor": "#283442",
           "linecolor": "#506784",
           "ticks": "",
           "title": {
            "standoff": 15
           },
           "zerolinecolor": "#283442",
           "zerolinewidth": 2
          }
         }
        },
        "title": {
         "text": "Accuracy evolution during the season"
        },
        "xaxis": {
         "anchor": "y",
         "domain": [
          0,
          1
         ],
         "title": {
          "text": "Grand Prix Number"
         }
        },
        "yaxis": {
         "anchor": "x",
         "domain": [
          0,
          1
         ],
         "title": {
          "text": "Mean accuracy in %"
         }
        }
       }
      },
      "text/html": [
       "<div>                            <div id=\"b57d4e56-e7d4-42e1-9a64-bb14b38187e4\" class=\"plotly-graph-div\" style=\"height:525px; width:100%;\"></div>            <script type=\"text/javascript\">                require([\"plotly\"], function(Plotly) {                    window.PLOTLYENV=window.PLOTLYENV || {};                                    if (document.getElementById(\"b57d4e56-e7d4-42e1-9a64-bb14b38187e4\")) {                    Plotly.newPlot(                        \"b57d4e56-e7d4-42e1-9a64-bb14b38187e4\",                        [{\"hovertemplate\":\"c=Performance<br>Grand Prix Number=%{x}<br>Mean accuracy in %=%{y}<br>Accuracy=%{text}<extra></extra>\",\"legendgroup\":\"Performance\",\"line\":{\"color\":\"darkred\",\"dash\":\"solid\"},\"marker\":{\"symbol\":\"circle\"},\"mode\":\"lines+markers+text\",\"name\":\"Performance\",\"orientation\":\"v\",\"showlegend\":true,\"text\":[17.11,null,null,null,null,null,null,null,null,null,null,null,null,null,null,null,null,null,null,null,null,null,null,13.82,null,null,null,null,null,null,null,null,null,null,null,null,null,null,null,null,null,null,null,null,null,null,15.57,null,null,null,null,null,null,null,null,null,null,null,null,null,null,null,null,null,null,null,null,null,null,15.35,null,null,null,null,null,null,null,null,null,null,null,null,null,null,null,null,null,null,null,null,null,null,14.87,null,null,null,null,null,null,null,null,null,null,null,null,null,null,null,null,null,null,null,null,null,null,14.12,null,null,null,null,null,null,null,null,null,null,null,null,null,null,null,null,null,null,null,null,null,null,15.76,null,null,null,null,null,null,null,null,null,null,null,null,null,null,null,null,null,null,null,null,null,null,15.27,null,null,null,null,null,null,null,null,null,null,null,null,null,null,null,null,null,null,null,null,null,null,15.0,null,null,null,null,null,null,null,null,null,null,null,null,null,null,null,null,null,null,null,null,null,null,14.84,null,null,null,null,null,null,null,null,null,null,null,null,null,null,null,null,null,null,null,null,null,null,14.63,null,null,null,null,null,null,null,null,null,null,null,null,null,null,null,null,null,null,null,null,null,null,14.28,null,null,null,null,null,null,null,null,null,null,null,null,null,null,null,null,null,null,null,null,null,null,13.77,null,null,null,null,null,null,null,null,null,null,null,null,null,null,null,null,null,null,null,null,null,null,13.54,null,null,null,null,null,null,null,null,null,null,null,null,null,null,null,null,null,null,null,null,null,null,13.97,null,null,null,null,null,null,null,null,null,null,null,null,null,null,null,null,null,null,null,null,null,null,13.75,null,null,null,null,null,null,null,null,null,null,null,null,null,null,null,null,null,null,null,null,null,null,13.81,null,null,null,null,null,null,null,null,null,null,null,null,null,null,null,null,null,null,null,null,null,null,13.49,null,null,null,null,null,null,null,null,null,null,null,null,null,null,null,null,null,null,null,null,null,null,13.35,null,null,null,null,null,null,null,null,null,null,null,null,null,null,null,null,null,null,null,null,null,null,13.36,null,null,null,null,null,null,null,null,null,null,null,null,null,null,null,null,null,null,null,null,null,null,13.18,null,null,null,null,null,null,null,null,null,null,null,null,null,null,null,null,null,null,null,null,null,null,13.13,null,null,null,null,null,null,null,null,null,null,null,null,null,null,null,null],\"x\":[1.0,1.0420841683366733,1.0841683366733468,1.12625250501002,1.1683366733466933,1.2104208416833666,1.25250501002004,1.2945891783567134,1.3366733466933867,1.3787575150300602,1.4208416833667334,1.4629258517034067,1.5050100200400802,1.5470941883767535,1.5891783567134268,1.6312625250501003,1.6733466933867736,1.7154308617234468,1.7575150300601203,1.7995991983967936,1.8416833667334669,1.8837675350701404,1.9258517034068137,1.967935871743487,2.0100200400801604,2.052104208416834,2.094188376753507,2.13627254509018,2.1783567134268536,2.220440881763527,2.2625250501002006,2.304609218436874,2.346693386773547,2.38877755511022,2.4308617234468937,2.472945891783567,2.5150300601202407,2.557114228456914,2.599198396793587,2.6412825651302603,2.6833667334669338,2.7254509018036073,2.7675350701402808,2.809619238476954,2.8517034068136273,2.8937875751503004,2.935871743486974,2.9779559118236474,3.020040080160321,3.062124248496994,3.1042084168336674,3.1462925851703405,3.188376753507014,3.2304609218436875,3.2725450901803605,3.314629258517034,3.3567134268537075,3.3987975951903806,3.440881763527054,3.4829659318637276,3.5250501002004007,3.567134268537074,3.6092184368737477,3.6513026052104207,3.693386773547094,3.7354709418837677,3.7775551102204408,3.8196392785571143,3.8617234468937878,3.903807615230461,3.9458917835671343,3.987975951903808,4.030060120240481,4.072144288577155,4.114228456913828,4.156312625250501,4.198396793587174,4.240480961923848,4.2825651302605205,4.324649298597194,4.3667334669338675,4.408817635270541,4.4509018036072145,4.492985971943888,4.5350701402805615,4.577154308617235,4.619238476953908,4.661322645290581,4.703406813627255,4.745490981963927,4.787575150300601,4.829659318637274,4.871743486973948,4.913827655310621,4.955911823647295,4.997995991983968,5.040080160320642,5.082164328657314,5.124248496993988,5.166332665330661,5.208416833667335,5.250501002004008,5.292585170340681,5.3346693386773545,5.376753507014028,5.4188376753507015,5.460921843687375,5.5030060120240485,5.545090180360721,5.587174348697395,5.629258517034068,5.671342685370742,5.713426853707415,5.755511022044089,5.797595190380761,5.839679358717435,5.881763527054108,5.923847695390782,5.965931863727455,6.008016032064129,6.050100200400801,6.092184368737475,6.134268537074148,6.176352705410822,6.218436873747495,6.260521042084169,6.302605210420841,6.344689378757515,6.386773547094188,6.428857715430862,6.470941883767535,6.513026052104208,6.5551102204408815,6.597194388777555,6.6392785571142285,6.681362725450902,6.7234468937875755,6.765531062124248,6.807615230460922,6.849699398797595,6.891783567134269,6.933867735470942,6.975951903807616,7.018036072144288,7.060120240480962,7.102204408817635,7.144288577154309,7.186372745490982,7.228456913827656,7.270541082164328,7.312625250501002,7.354709418837675,7.396793587174349,7.438877755511022,7.480961923847696,7.5230460921843685,7.565130260521042,7.6072144288577155,7.649298597194389,7.6913827655310625,7.733466933867735,7.775551102204409,7.817635270541082,7.859719438877756,7.901803607214429,7.943887775551103,7.985971943887775,8.028056112224448,8.070140280561123,8.112224448897795,8.15430861723447,8.196392785571142,8.238476953907815,8.280561122244489,8.322645290581162,8.364729458917836,8.40681362725451,8.448897795591183,8.490981963927855,8.53306613226453,8.575150300601202,8.617234468937877,8.659318637274549,8.701402805611224,8.743486973947896,8.785571142284569,8.827655310621243,8.869739478957916,8.91182364729459,8.953907815631263,8.995991983967937,9.03807615230461,9.080160320641284,9.122244488977955,9.164328657314629,9.206412825651302,9.248496993987976,9.29058116232465,9.332665330661323,9.374749498997996,9.41683366733467,9.458917835671343,9.501002004008017,9.54308617234469,9.585170340681362,9.627254509018035,9.669338677354709,9.711422845691382,9.753507014028056,9.79559118236473,9.837675350701403,9.879759519038076,9.92184368737475,9.963927855711423,10.006012024048097,10.04809619238477,10.090180360721442,10.132264529058116,10.17434869739479,10.216432865731463,10.258517034068136,10.30060120240481,10.342685370741483,10.384769539078157,10.42685370741483,10.468937875751504,10.511022044088177,10.553106212424849,10.595190380761522,10.637274549098196,10.67935871743487,10.721442885771543,10.763527054108216,10.80561122244489,10.847695390781563,10.889779559118237,10.93186372745491,10.973947895791584,11.016032064128257,11.05811623246493,11.100200400801603,11.142284569138276,11.18436873747495,11.226452905811623,11.268537074148297,11.31062124248497,11.352705410821644,11.394789579158317,11.43687374749499,11.478957915831664,11.521042084168338,11.56312625250501,11.605210420841683,11.647294589178356,11.68937875751503,11.731462925851703,11.773547094188377,11.81563126252505,11.857715430861724,11.899799599198397,11.94188376753507,11.983967935871744,12.026052104208416,12.06813627254509,12.110220440881763,12.152304609218437,12.19438877755511,12.236472945891784,12.278557114228457,12.32064128256513,12.362725450901804,12.404809619238478,12.446893787575151,12.488977955911825,12.531062124248496,12.57314629258517,12.615230460921843,12.657314629258517,12.69939879759519,12.741482965931864,12.783567134268537,12.82565130260521,12.867735470941884,12.909819639278558,12.951903807615231,12.993987975951905,13.036072144288577,13.07815631262525,13.120240480961924,13.162324649298597,13.20440881763527,13.246492985971944,13.288577154308618,13.330661322645291,13.372745490981965,13.414829659318638,13.456913827655312,13.498997995991983,13.541082164328657,13.58316633266533,13.625250501002004,13.667334669338677,13.70941883767535,13.751503006012024,13.793587174348698,13.835671342685371,13.877755511022045,13.919839679358718,13.961923847695392,14.004008016032063,14.046092184368737,14.08817635270541,14.130260521042084,14.172344689378757,14.214428857715431,14.256513026052104,14.298597194388778,14.340681362725451,14.382765531062125,14.424849699398798,14.46693386773547,14.509018036072144,14.551102204408817,14.59318637274549,14.635270541082164,14.677354709418838,14.719438877755511,14.761523046092185,14.803607214428858,14.845691382765532,14.887775551102205,14.929859719438879,14.97194388777555,15.014028056112224,15.056112224448897,15.098196392785571,15.140280561122244,15.182364729458918,15.224448897795591,15.266533066132265,15.308617234468938,15.350701402805612,15.392785571142285,15.434869739478959,15.47695390781563,15.519038076152304,15.561122244488978,15.603206412825651,15.645290581162325,15.687374749498998,15.729458917835672,15.771543086172345,15.813627254509019,15.855711422845692,15.897795591182366,15.939879759519037,15.98196392785571,16.024048096192384,16.06613226452906,16.10821643286573,16.150300601202403,16.19238476953908,16.234468937875754,16.276553106212425,16.318637274549097,16.360721442885772,16.402805611222448,16.44488977955912,16.48697394789579,16.529058116232463,16.571142284569138,16.613226452905813,16.655310621242485,16.697394789579157,16.739478957915832,16.781563126252507,16.82364729458918,16.86573146292585,16.907815631262526,16.949899799599198,16.991983967935873,17.034068136272545,17.07615230460922,17.118236472945892,17.160320641282567,17.20240480961924,17.24448897795591,17.286573146292586,17.328657314629258,17.370741482965933,17.412825651302605,17.45490981963928,17.49699398797595,17.539078156312627,17.5811623246493,17.623246492985974,17.665330661322646,17.707414829659317,17.749498997995993,17.791583166332664,17.83366733466934,17.87575150300601,17.917835671342687,17.95991983967936,18.002004008016034,18.044088176352705,18.08617234468938,18.128256513026052,18.170340681362724,18.2124248496994,18.25450901803607,18.296593186372746,18.338677354709418,18.380761523046093,18.422845691382765,18.46492985971944,18.507014028056112,18.549098196392787,18.59118236472946,18.63326653306613,18.675350701402806,18.717434869739478,18.759519038076153,18.801603206412825,18.8436873747495,18.88577154308617,18.927855711422847,18.96993987975952,19.012024048096194,19.054108216432866,19.09619238476954,19.138276553106213,19.180360721442884,19.22244488977956,19.26452905811623,19.306613226452907,19.34869739478958,19.390781563126254,19.432865731462925,19.4749498997996,19.517034068136272,19.559118236472948,19.60120240480962,19.64328657314629,19.685370741482966,19.727454909819638,19.769539078156313,19.811623246492985,19.85370741482966,19.895791583166332,19.937875751503007,19.97995991983968,20.022044088176354,20.064128256513026,20.106212424849698,20.148296593186373,20.190380761523045,20.23246492985972,20.274549098196392,20.316633266533067,20.35871743486974,20.400801603206414,20.442885771543086,20.48496993987976,20.527054108216433,20.569138276553108,20.61122244488978,20.65330661322645,20.695390781563127,20.7374749498998,20.779559118236474,20.821643286573146,20.86372745490982,20.905811623246493,20.947895791583168,20.98997995991984,21.032064128256515,21.074148296593187,21.11623246492986,21.158316633266534,21.200400801603205,21.24248496993988,21.284569138276552,21.326653306613228,21.3687374749499,21.410821643286575,21.452905811623246,21.49498997995992,21.537074148296593,21.579158316633265,21.62124248496994,21.663326653306612,21.705410821643287,21.74749498997996,21.789579158316634,21.831663326653306,21.87374749498998,21.915831663326653,21.95791583166333,22.0],\"xaxis\":\"x\",\"y\":[17.105263157894736,16.739175635394677,16.39826911274729,16.081829768544665,15.789143781378877,15.519497329842006,15.27217659252613,15.046467748023334,14.84165697492569,14.657030451825285,14.491874357314195,14.3454748699845,14.217118168428279,14.106090431237615,14.01167783700458,13.933166564321263,13.869842791779744,13.820992697972091,13.785902461490391,13.763858260926726,13.754146274873177,13.756052681921817,13.768863660664731,13.791865389693994,13.82434404760169,13.865585812979894,13.914876864420693,13.971503380516157,14.034751539858373,14.103907521039423,14.178257502651377,14.25708766328632,14.339684181536335,14.425333235993497,14.513321005249885,14.602933667897586,14.693457402528672,14.784178387735224,14.874382802109324,14.96335682424305,15.050386632728483,15.134758406157701,15.215758323122785,15.292672562215815,15.364787302028871,15.431388721154027,15.491762998183374,15.545196311708981,15.590995439999427,15.628998447579747,15.659608736496674,15.683257126966375,15.700374439204998,15.711391493428696,15.716739109853624,15.716848108695938,15.712149310171794,15.703073534497344,15.690051601888737,15.67351433256213,15.65389254673369,15.631617064619556,15.60711870643589,15.580828292398838,15.553176642724562,15.524594577629221,15.495512917328957,15.466362482039933,15.437574091978298,15.409578567360212,15.382806728401825,15.357689395319293,15.3346163702129,15.313574493212663,15.294321887434506,15.276614050834954,15.260206481370519,15.244854676997727,15.230314135673092,15.216340355353129,15.202688833994362,15.189115069553305,15.175374559986475,15.161222803250398,15.146415297301585,15.130707540096555,15.113855029591829,15.09561326374392,15.075737740509354,15.053983957844643,15.030107413706308,15.003863606050864,14.975008032834834,14.943296192014731,14.908483581547078,14.870325699388387,14.828692025426761,14.783978080412261,14.736731038054925,14.687498086312521,14.636826413142822,14.585263206503603,14.533355654352642,14.481650944647704,14.430696265346562,14.381038804406991,14.333225749786765,14.28780428944366,14.245321611335445,14.20632490341989,14.171361353654776,14.140978149997867,14.115722480406944,14.096141532839775,14.082782495254135,14.076192555607797,14.076918901858532,14.085508721964112,14.102509203882317,14.128466027913882,14.163562824657815,14.207153542203192,14.258476392404809,14.316769587117461,14.381271338195939,14.451219857495047,14.525853356869575,14.604410048174323,14.686128143264085,14.770245853993655,14.856001392217832,14.94263296979141,15.029378798569187,15.115477090405957,15.200166057156514,15.28268391067566,15.362268862818185,15.438159125438885,15.50959291039256,15.575808429534003,15.636043894718012,15.689537517799382,15.735527510632906,15.77326846462378,15.802556102990266,15.8238382977164,15.837601746387142,15.844333146587461,15.844519195902325,15.838646591916694,15.827202032215538,15.810672214383823,15.789543836006512,15.764303594668572,15.735438187954975,15.703434313450677,15.668778668740647,15.63195795140986,15.593458859043269,15.553768089225848,15.513372339542558,15.472758307578372,15.432412690918246,15.392822187147155,15.35447349385006,15.31785330861193,15.28344832901773,15.25171432402614,15.222747517315282,15.196412167866153,15.172568668581452,15.151077412363884,15.131798792116154,15.114593200740963,15.09932103114102,15.085842676219027,15.07401852887769,15.063708982019712,15.054774428547796,15.047075261364649,15.040471873372976,15.034824657475474,15.029994006574857,15.025840313573825,15.02222397137508,15.019005372881331,15.016044910995276,15.013202978619628,15.010339968657087,15.007316274010355,15.003992287582134,15.000248292542233,14.996070603220378,14.991480723972728,14.986500182354462,14.981150505920759,14.9754532222268,14.969429858827773,14.963101943278849,14.956491003135216,14.94961856595205,14.942506159284536,14.935175310687857,14.927647547717186,14.91994439792771,14.91208738887461,14.904098048113063,14.895997903198253,14.887808481685362,14.879551311129566,14.871247919086052,14.862919833109997,14.854588580756584,14.846275689580992,14.838002670088535,14.82978237145026,14.82160491535974,14.81345674073848,14.805324286508013,14.79719399158984,14.789052294905487,14.78088563537647,14.772680451924307,14.764423183470507,14.7561002689366,14.747698147244094,14.739203257314513,14.730602038069371,14.72188092843018,14.713026367318468,14.70402479365574,14.694862646363523,14.68552636436333,14.67600238657668,14.66627715192509,14.656337099330075,14.646168667713152,14.635758295995842,14.62509248120747,14.614160255898053,14.602954115933885,14.591466806522805,14.579691072872631,14.567619660191196,14.55524531368632,14.542560778565832,14.529558800037561,14.516232123309337,14.50257349358898,14.488575656084318,14.474231356003177,14.459533338553383,14.444474348942764,14.429047132379148,14.413244434070359,14.397058999224228,14.380483573048577,14.363510900751232,14.346133727540025,14.328344798622775,14.310136859207313,14.291502654501466,14.272436354181215,14.252951913571275,14.233077773223059,14.212842705653264,14.192275483378571,14.171404878915673,14.15025966478126,14.128868613492015,14.107260497564633,14.085464089515794,14.063508161862199,14.04142148712053,14.019232837807476,13.996970986439726,13.974664705533968,13.952342767606895,13.93003394517519,13.90776701075554,13.88557073686464,13.863473896019178,13.841505260735838,13.819693603531316,13.798067696922296,13.776656313425466,13.755494722990088,13.73465829314697,13.714237672425735,13.694323539436725,13.675006572790274,13.65637745109672,13.638526852966391,13.621545457009635,13.605523941836775,13.590552986058155,13.576723268284109,13.564125467124972,13.552850261191077,13.542988329092765,13.534630349440368,13.527867000844221,13.522788961914666,13.519486911262028,13.518051527496652,13.51857348922887,13.521143475069014,13.52585216362743,13.532790233514445,13.542048318761443,13.553649432702636,13.567412840574038,13.583119586733059,13.600550715537093,13.61948727134356,13.639710298509858,13.661000841393397,13.683139944351577,13.70590865174181,13.729088007921497,13.752459057248046,13.775802844078868,13.798900412771363,13.821532807682937,13.843481073170995,13.86452625359295,13.8844493933062,13.903031536668157,13.920053728036223,13.935297011767807,13.948542432220309,13.959571033751137,13.968163860717706,13.97410451802467,13.97733024341246,13.978016405516906,13.976358857351942,13.972553451931505,13.966796042269527,13.959282481379942,13.950208622276687,13.939770317973695,13.928163421484896,13.915583785824237,13.902227264005644,13.888289709043049,13.873966973950388,13.859454911741599,13.844949375430616,13.830646218031369,13.816741292557797,13.803430452023838,13.790909549443416,13.779374437830473,13.76902097019894,13.760044999562757,13.75264237893585,13.746998283473243,13.743118533668492,13.740860127356534,13.740075557650561,13.740617317663778,13.742337900509384,13.745089799300581,13.748725507150567,13.753097517172542,13.75805832247971,13.763460416185271,13.769156291402423,13.774998441244371,13.780839358824313,13.786531537255446,13.791927469650973,13.796879649124097,13.801240568788016,13.804862721755931,13.807598601141043,13.809300700056554,13.809821511615661,13.809013528931567,13.806729245117474,13.802843275349332,13.79738882203091,13.790468290493411,13.782184374244707,13.77263976679267,13.761937161645188,13.750179252310131,13.737468732295373,13.723908295108794,13.70960063425827,13.694648443251682,13.679154415596898,13.6632212448018,13.646951624374264,13.630448247822166,13.613813808653385,13.597151000375794,13.580562516497269,13.564151050525691,13.548019295968931,13.532269946334875,13.517005695131388,13.502329235866355,13.488343259888461,13.47512747616024,13.46268187430194,13.450989170438014,13.440032080692907,13.429793321191074,13.420255608056967,13.411401657415036,13.40321418538973,13.3956759081055,13.388769541686802,13.382477802258078,13.376783405943788,13.371669068868382,13.367117507156303,13.363111436932009,13.359633574319949,13.356666635444576,13.354193336430335,13.352196393401682,13.350658522483071,13.349562439798945,13.34889086147376,13.348626503631968,13.348751977767305,13.349240779422884,13.350050343327789,13.351136469356263,13.352454957382534,13.353961607280853,13.355612218925451,13.357362592190565,13.359168526950434,13.360985823079297,13.362770280451391,13.36447769894096,13.36606387842223,13.367484618769453,13.368695719856857,13.369652981558684,13.37031220374917,13.370629186302555,13.37055972909308,13.370059631994977,13.369084694882483,13.367590717629847,13.365533500111297,13.362868842201078,13.35955451586965,13.355588955904167,13.351008810716053,13.345852210381823,13.340157284977998,13.33396216458109,13.327304979267614,13.320223859114085,13.312756934197028,13.304942334592946,13.296818190378362,13.288422631629793,13.279793788423751,13.270969790836759,13.261988768945326,13.252888852825969,13.243708172555204,13.23448485820955,13.225257039865518,13.216062847599627,13.206940411488395,13.197927861608335,13.189063328035965,13.180384940847798,13.171930830120353,13.163739125930142,13.155847958353686,13.148295457467498,13.141119753348097,13.13435897607199,13.128051255715704,13.122234722355747,13.116947506068641,13.112227736930897,13.108113545019036,13.104643060409568,13.101854413179016,13.099785733403891,13.09847515116071,13.097960796525985,13.098280799576239,13.099473290387984,13.101576399037738,13.104628255602014,13.108666990157333,13.113730732780205,13.119857613547147,13.12708576253468],\"yaxis\":\"y\",\"type\":\"scatter\",\"textposition\":\"middle center\"}],                        {\"template\":{\"data\":{\"barpolar\":[{\"marker\":{\"line\":{\"color\":\"rgb(17,17,17)\",\"width\":0.5},\"pattern\":{\"fillmode\":\"overlay\",\"size\":10,\"solidity\":0.2}},\"type\":\"barpolar\"}],\"bar\":[{\"error_x\":{\"color\":\"#f2f5fa\"},\"error_y\":{\"color\":\"#f2f5fa\"},\"marker\":{\"line\":{\"color\":\"rgb(17,17,17)\",\"width\":0.5},\"pattern\":{\"fillmode\":\"overlay\",\"size\":10,\"solidity\":0.2}},\"type\":\"bar\"}],\"carpet\":[{\"aaxis\":{\"endlinecolor\":\"#A2B1C6\",\"gridcolor\":\"#506784\",\"linecolor\":\"#506784\",\"minorgridcolor\":\"#506784\",\"startlinecolor\":\"#A2B1C6\"},\"baxis\":{\"endlinecolor\":\"#A2B1C6\",\"gridcolor\":\"#506784\",\"linecolor\":\"#506784\",\"minorgridcolor\":\"#506784\",\"startlinecolor\":\"#A2B1C6\"},\"type\":\"carpet\"}],\"choropleth\":[{\"colorbar\":{\"outlinewidth\":0,\"ticks\":\"\"},\"type\":\"choropleth\"}],\"contourcarpet\":[{\"colorbar\":{\"outlinewidth\":0,\"ticks\":\"\"},\"type\":\"contourcarpet\"}],\"contour\":[{\"colorbar\":{\"outlinewidth\":0,\"ticks\":\"\"},\"colorscale\":[[0.0,\"#0d0887\"],[0.1111111111111111,\"#46039f\"],[0.2222222222222222,\"#7201a8\"],[0.3333333333333333,\"#9c179e\"],[0.4444444444444444,\"#bd3786\"],[0.5555555555555556,\"#d8576b\"],[0.6666666666666666,\"#ed7953\"],[0.7777777777777778,\"#fb9f3a\"],[0.8888888888888888,\"#fdca26\"],[1.0,\"#f0f921\"]],\"type\":\"contour\"}],\"heatmapgl\":[{\"colorbar\":{\"outlinewidth\":0,\"ticks\":\"\"},\"colorscale\":[[0.0,\"#0d0887\"],[0.1111111111111111,\"#46039f\"],[0.2222222222222222,\"#7201a8\"],[0.3333333333333333,\"#9c179e\"],[0.4444444444444444,\"#bd3786\"],[0.5555555555555556,\"#d8576b\"],[0.6666666666666666,\"#ed7953\"],[0.7777777777777778,\"#fb9f3a\"],[0.8888888888888888,\"#fdca26\"],[1.0,\"#f0f921\"]],\"type\":\"heatmapgl\"}],\"heatmap\":[{\"colorbar\":{\"outlinewidth\":0,\"ticks\":\"\"},\"colorscale\":[[0.0,\"#0d0887\"],[0.1111111111111111,\"#46039f\"],[0.2222222222222222,\"#7201a8\"],[0.3333333333333333,\"#9c179e\"],[0.4444444444444444,\"#bd3786\"],[0.5555555555555556,\"#d8576b\"],[0.6666666666666666,\"#ed7953\"],[0.7777777777777778,\"#fb9f3a\"],[0.8888888888888888,\"#fdca26\"],[1.0,\"#f0f921\"]],\"type\":\"heatmap\"}],\"histogram2dcontour\":[{\"colorbar\":{\"outlinewidth\":0,\"ticks\":\"\"},\"colorscale\":[[0.0,\"#0d0887\"],[0.1111111111111111,\"#46039f\"],[0.2222222222222222,\"#7201a8\"],[0.3333333333333333,\"#9c179e\"],[0.4444444444444444,\"#bd3786\"],[0.5555555555555556,\"#d8576b\"],[0.6666666666666666,\"#ed7953\"],[0.7777777777777778,\"#fb9f3a\"],[0.8888888888888888,\"#fdca26\"],[1.0,\"#f0f921\"]],\"type\":\"histogram2dcontour\"}],\"histogram2d\":[{\"colorbar\":{\"outlinewidth\":0,\"ticks\":\"\"},\"colorscale\":[[0.0,\"#0d0887\"],[0.1111111111111111,\"#46039f\"],[0.2222222222222222,\"#7201a8\"],[0.3333333333333333,\"#9c179e\"],[0.4444444444444444,\"#bd3786\"],[0.5555555555555556,\"#d8576b\"],[0.6666666666666666,\"#ed7953\"],[0.7777777777777778,\"#fb9f3a\"],[0.8888888888888888,\"#fdca26\"],[1.0,\"#f0f921\"]],\"type\":\"histogram2d\"}],\"histogram\":[{\"marker\":{\"pattern\":{\"fillmode\":\"overlay\",\"size\":10,\"solidity\":0.2}},\"type\":\"histogram\"}],\"mesh3d\":[{\"colorbar\":{\"outlinewidth\":0,\"ticks\":\"\"},\"type\":\"mesh3d\"}],\"parcoords\":[{\"line\":{\"colorbar\":{\"outlinewidth\":0,\"ticks\":\"\"}},\"type\":\"parcoords\"}],\"pie\":[{\"automargin\":true,\"type\":\"pie\"}],\"scatter3d\":[{\"line\":{\"colorbar\":{\"outlinewidth\":0,\"ticks\":\"\"}},\"marker\":{\"colorbar\":{\"outlinewidth\":0,\"ticks\":\"\"}},\"type\":\"scatter3d\"}],\"scattercarpet\":[{\"marker\":{\"colorbar\":{\"outlinewidth\":0,\"ticks\":\"\"}},\"type\":\"scattercarpet\"}],\"scattergeo\":[{\"marker\":{\"colorbar\":{\"outlinewidth\":0,\"ticks\":\"\"}},\"type\":\"scattergeo\"}],\"scattergl\":[{\"marker\":{\"line\":{\"color\":\"#283442\"}},\"type\":\"scattergl\"}],\"scattermapbox\":[{\"marker\":{\"colorbar\":{\"outlinewidth\":0,\"ticks\":\"\"}},\"type\":\"scattermapbox\"}],\"scatterpolargl\":[{\"marker\":{\"colorbar\":{\"outlinewidth\":0,\"ticks\":\"\"}},\"type\":\"scatterpolargl\"}],\"scatterpolar\":[{\"marker\":{\"colorbar\":{\"outlinewidth\":0,\"ticks\":\"\"}},\"type\":\"scatterpolar\"}],\"scatter\":[{\"marker\":{\"line\":{\"color\":\"#283442\"}},\"type\":\"scatter\"}],\"scatterternary\":[{\"marker\":{\"colorbar\":{\"outlinewidth\":0,\"ticks\":\"\"}},\"type\":\"scatterternary\"}],\"surface\":[{\"colorbar\":{\"outlinewidth\":0,\"ticks\":\"\"},\"colorscale\":[[0.0,\"#0d0887\"],[0.1111111111111111,\"#46039f\"],[0.2222222222222222,\"#7201a8\"],[0.3333333333333333,\"#9c179e\"],[0.4444444444444444,\"#bd3786\"],[0.5555555555555556,\"#d8576b\"],[0.6666666666666666,\"#ed7953\"],[0.7777777777777778,\"#fb9f3a\"],[0.8888888888888888,\"#fdca26\"],[1.0,\"#f0f921\"]],\"type\":\"surface\"}],\"table\":[{\"cells\":{\"fill\":{\"color\":\"#506784\"},\"line\":{\"color\":\"rgb(17,17,17)\"}},\"header\":{\"fill\":{\"color\":\"#2a3f5f\"},\"line\":{\"color\":\"rgb(17,17,17)\"}},\"type\":\"table\"}]},\"layout\":{\"annotationdefaults\":{\"arrowcolor\":\"#f2f5fa\",\"arrowhead\":0,\"arrowwidth\":1},\"autotypenumbers\":\"strict\",\"coloraxis\":{\"colorbar\":{\"outlinewidth\":0,\"ticks\":\"\"}},\"colorscale\":{\"diverging\":[[0,\"#8e0152\"],[0.1,\"#c51b7d\"],[0.2,\"#de77ae\"],[0.3,\"#f1b6da\"],[0.4,\"#fde0ef\"],[0.5,\"#f7f7f7\"],[0.6,\"#e6f5d0\"],[0.7,\"#b8e186\"],[0.8,\"#7fbc41\"],[0.9,\"#4d9221\"],[1,\"#276419\"]],\"sequential\":[[0.0,\"#0d0887\"],[0.1111111111111111,\"#46039f\"],[0.2222222222222222,\"#7201a8\"],[0.3333333333333333,\"#9c179e\"],[0.4444444444444444,\"#bd3786\"],[0.5555555555555556,\"#d8576b\"],[0.6666666666666666,\"#ed7953\"],[0.7777777777777778,\"#fb9f3a\"],[0.8888888888888888,\"#fdca26\"],[1.0,\"#f0f921\"]],\"sequentialminus\":[[0.0,\"#0d0887\"],[0.1111111111111111,\"#46039f\"],[0.2222222222222222,\"#7201a8\"],[0.3333333333333333,\"#9c179e\"],[0.4444444444444444,\"#bd3786\"],[0.5555555555555556,\"#d8576b\"],[0.6666666666666666,\"#ed7953\"],[0.7777777777777778,\"#fb9f3a\"],[0.8888888888888888,\"#fdca26\"],[1.0,\"#f0f921\"]]},\"colorway\":[\"#636efa\",\"#EF553B\",\"#00cc96\",\"#ab63fa\",\"#FFA15A\",\"#19d3f3\",\"#FF6692\",\"#B6E880\",\"#FF97FF\",\"#FECB52\"],\"font\":{\"color\":\"#f2f5fa\"},\"geo\":{\"bgcolor\":\"rgb(17,17,17)\",\"lakecolor\":\"rgb(17,17,17)\",\"landcolor\":\"rgb(17,17,17)\",\"showlakes\":true,\"showland\":true,\"subunitcolor\":\"#506784\"},\"hoverlabel\":{\"align\":\"left\"},\"hovermode\":\"closest\",\"mapbox\":{\"style\":\"dark\"},\"paper_bgcolor\":\"rgb(17,17,17)\",\"plot_bgcolor\":\"rgb(17,17,17)\",\"polar\":{\"angularaxis\":{\"gridcolor\":\"#506784\",\"linecolor\":\"#506784\",\"ticks\":\"\"},\"bgcolor\":\"rgb(17,17,17)\",\"radialaxis\":{\"gridcolor\":\"#506784\",\"linecolor\":\"#506784\",\"ticks\":\"\"}},\"scene\":{\"xaxis\":{\"backgroundcolor\":\"rgb(17,17,17)\",\"gridcolor\":\"#506784\",\"gridwidth\":2,\"linecolor\":\"#506784\",\"showbackground\":true,\"ticks\":\"\",\"zerolinecolor\":\"#C8D4E3\"},\"yaxis\":{\"backgroundcolor\":\"rgb(17,17,17)\",\"gridcolor\":\"#506784\",\"gridwidth\":2,\"linecolor\":\"#506784\",\"showbackground\":true,\"ticks\":\"\",\"zerolinecolor\":\"#C8D4E3\"},\"zaxis\":{\"backgroundcolor\":\"rgb(17,17,17)\",\"gridcolor\":\"#506784\",\"gridwidth\":2,\"linecolor\":\"#506784\",\"showbackground\":true,\"ticks\":\"\",\"zerolinecolor\":\"#C8D4E3\"}},\"shapedefaults\":{\"line\":{\"color\":\"#f2f5fa\"}},\"sliderdefaults\":{\"bgcolor\":\"#C8D4E3\",\"bordercolor\":\"rgb(17,17,17)\",\"borderwidth\":1,\"tickwidth\":0},\"ternary\":{\"aaxis\":{\"gridcolor\":\"#506784\",\"linecolor\":\"#506784\",\"ticks\":\"\"},\"baxis\":{\"gridcolor\":\"#506784\",\"linecolor\":\"#506784\",\"ticks\":\"\"},\"bgcolor\":\"rgb(17,17,17)\",\"caxis\":{\"gridcolor\":\"#506784\",\"linecolor\":\"#506784\",\"ticks\":\"\"}},\"title\":{\"x\":0.05},\"updatemenudefaults\":{\"bgcolor\":\"#506784\",\"borderwidth\":0},\"xaxis\":{\"automargin\":true,\"gridcolor\":\"#283442\",\"linecolor\":\"#506784\",\"ticks\":\"\",\"title\":{\"standoff\":15},\"zerolinecolor\":\"#283442\",\"zerolinewidth\":2},\"yaxis\":{\"automargin\":true,\"gridcolor\":\"#283442\",\"linecolor\":\"#506784\",\"ticks\":\"\",\"title\":{\"standoff\":15},\"zerolinecolor\":\"#283442\",\"zerolinewidth\":2}}},\"xaxis\":{\"anchor\":\"y\",\"domain\":[0.0,1.0],\"title\":{\"text\":\"Grand Prix Number\"}},\"yaxis\":{\"anchor\":\"x\",\"domain\":[0.0,1.0],\"title\":{\"text\":\"Mean accuracy in %\"}},\"legend\":{\"title\":{\"text\":\"c\"},\"tracegroupgap\":0},\"margin\":{\"t\":60},\"title\":{\"text\":\"Accuracy evolution during the season\"}},                        {\"responsive\": true}                    ).then(function(){\n",
       "                            \n",
       "var gd = document.getElementById('b57d4e56-e7d4-42e1-9a64-bb14b38187e4');\n",
       "var x = new MutationObserver(function (mutations, observer) {{\n",
       "        var display = window.getComputedStyle(gd).display;\n",
       "        if (!display || display === 'none') {{\n",
       "            console.log([gd, 'removed!']);\n",
       "            Plotly.purge(gd);\n",
       "            observer.disconnect();\n",
       "        }}\n",
       "}});\n",
       "\n",
       "// Listen for the removal of the full notebook cells\n",
       "var notebookContainer = gd.closest('#notebook-container');\n",
       "if (notebookContainer) {{\n",
       "    x.observe(notebookContainer, {childList: true});\n",
       "}}\n",
       "\n",
       "// Listen for the clearing of the current output cell\n",
       "var outputEl = gd.closest('.output');\n",
       "if (outputEl) {{\n",
       "    x.observe(outputEl, {childList: true});\n",
       "}}\n",
       "\n",
       "                        })                };                });            </script>        </div>"
      ]
     },
     "metadata": {},
     "output_type": "display_data"
    }
   ],
   "source": [
    "evolutions = [evolution_acc(reg_scaled,x) for x in range(1,23)]\n",
    "x = np.array([x for x in range(1,23)])\n",
    "X_Y_Spline = make_interp_spline(x, evolutions)\n",
    "\n",
    "X_ = np.linspace(x.min(), x.max(), 500)\n",
    "Y_ = X_Y_Spline(X_)\n",
    "\n",
    "a = pd.DataFrame(X_, columns = ['X_'])\n",
    "#a['Mean accuracy in %'] = evolutions\n",
    "acc_ = [round(j,2) for j in evolutions]\n",
    "acc= []\n",
    "ca = 0\n",
    "for i in range(500):\n",
    "    if i%23 == 0 & i!= 500:\n",
    "        \n",
    "        acc.append(acc_[ca])\n",
    "        ca+=1\n",
    "    else:\n",
    "        acc.append(None)\n",
    "a['c'] = [\"Performance\" for x in range(500)]\n",
    "a['Grand Prix Number'] = X_\n",
    "a['Mean accuracy in %'] = Y_\n",
    "a['Accuracy'] = acc\n",
    "fig = px.line(  a,x='Grand Prix Number', y='Mean accuracy in %',template = 'plotly_dark',text='Accuracy',color = 'c',color_discrete_sequence = ['darkred'])\n",
    "fig.update_traces(textposition='middle center')\n",
    "fig.update_layout(title = \"Accuracy evolution during the season\")\n",
    "fig.show()\n",
    "\n"
   ]
  }
 ],
 "metadata": {
  "kernelspec": {
   "display_name": "Python 3",
   "language": "python",
   "name": "python3"
  },
  "language_info": {
   "codemirror_mode": {
    "name": "ipython",
    "version": 3
   },
   "file_extension": ".py",
   "mimetype": "text/x-python",
   "name": "python",
   "nbconvert_exporter": "python",
   "pygments_lexer": "ipython3",
   "version": "3.8.5"
  }
 },
 "nbformat": 4,
 "nbformat_minor": 4
}
