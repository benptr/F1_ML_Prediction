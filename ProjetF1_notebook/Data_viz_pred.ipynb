{
 "cells": [
  {
   "cell_type": "markdown",
   "metadata": {},
   "source": [
    "# This notebook shows the preparation of the data for the machine learning prediction "
   ]
  },
  {
   "cell_type": "markdown",
   "metadata": {},
   "source": [
    "The objective here is to obtain a data representing the full grand Prix week end, for every drivers.\n",
    "Now we have those informations in the data depending on the session name. \n",
    "In  our case we need to have them in the same row."
   ]
  },
  {
   "cell_type": "markdown",
   "metadata": {},
   "source": [
    "### Import the data and the tools"
   ]
  },
  {
   "cell_type": "code",
   "execution_count": 1,
   "metadata": {},
   "outputs": [],
   "source": [
    "import numpy as np\n",
    "import sklearn\n",
    "import matplotlib.pyplot as plt\n",
    "import seaborn as sns\n",
    "import pandas as pd"
   ]
  },
  {
   "cell_type": "code",
   "execution_count": 2,
   "metadata": {},
   "outputs": [],
   "source": [
    "data = pd.read_csv(r'..\\Data\\allData.csv')"
   ]
  },
  {
   "cell_type": "markdown",
   "metadata": {},
   "source": [
    "## Checking the data"
   ]
  },
  {
   "cell_type": "code",
   "execution_count": 3,
   "metadata": {},
   "outputs": [
    {
     "data": {
      "text/plain": [
       "(6625, 25)"
      ]
     },
     "execution_count": 3,
     "metadata": {},
     "output_type": "execute_result"
    }
   ],
   "source": [
    "data.shape"
   ]
  },
  {
   "cell_type": "code",
   "execution_count": 4,
   "metadata": {
    "scrolled": true
   },
   "outputs": [
    {
     "data": {
      "text/plain": [
       "Index(['number', 'position', 'Q1', 'Q2', 'Q3', 'positionText', 'points',\n",
       "       'grid', 'laps', 'status', 'year', 'gpName', 'gpNumber', 'sessionName',\n",
       "       'driverId', 'code', 'DriverNationality', 'constructorId',\n",
       "       'constructorNationality', 'fastestLapNumber', 'fastestLapRank',\n",
       "       'fastestLapAvgSpeed', 'fastestLapTime', 'totalTime', 'TimeInterval'],\n",
       "      dtype='object')"
      ]
     },
     "execution_count": 4,
     "metadata": {},
     "output_type": "execute_result"
    }
   ],
   "source": [
    "data.columns"
   ]
  },
  {
   "cell_type": "code",
   "execution_count": 5,
   "metadata": {},
   "outputs": [
    {
     "data": {
      "text/html": [
       "<div>\n",
       "<style scoped>\n",
       "    .dataframe tbody tr th:only-of-type {\n",
       "        vertical-align: middle;\n",
       "    }\n",
       "\n",
       "    .dataframe tbody tr th {\n",
       "        vertical-align: top;\n",
       "    }\n",
       "\n",
       "    .dataframe thead th {\n",
       "        text-align: right;\n",
       "    }\n",
       "</style>\n",
       "<table border=\"1\" class=\"dataframe\">\n",
       "  <thead>\n",
       "    <tr style=\"text-align: right;\">\n",
       "      <th></th>\n",
       "      <th>number</th>\n",
       "      <th>position</th>\n",
       "      <th>points</th>\n",
       "      <th>grid</th>\n",
       "      <th>laps</th>\n",
       "      <th>year</th>\n",
       "      <th>gpNumber</th>\n",
       "      <th>fastestLapNumber</th>\n",
       "      <th>fastestLapRank</th>\n",
       "      <th>fastestLapAvgSpeed</th>\n",
       "      <th>totalTime</th>\n",
       "    </tr>\n",
       "  </thead>\n",
       "  <tbody>\n",
       "    <tr>\n",
       "      <th>count</th>\n",
       "      <td>6625.000000</td>\n",
       "      <td>6625.000000</td>\n",
       "      <td>1619.000000</td>\n",
       "      <td>1619.000000</td>\n",
       "      <td>1619.000000</td>\n",
       "      <td>6625.000000</td>\n",
       "      <td>6625.000000</td>\n",
       "      <td>4935.000000</td>\n",
       "      <td>4935.000000</td>\n",
       "      <td>1546.000000</td>\n",
       "      <td>7.960000e+02</td>\n",
       "    </tr>\n",
       "    <tr>\n",
       "      <th>mean</th>\n",
       "      <td>28.059925</td>\n",
       "      <td>10.479547</td>\n",
       "      <td>5.066399</td>\n",
       "      <td>10.155652</td>\n",
       "      <td>54.329216</td>\n",
       "      <td>2019.506113</td>\n",
       "      <td>10.544906</td>\n",
       "      <td>23.296251</td>\n",
       "      <td>10.382776</td>\n",
       "      <td>210.685937</td>\n",
       "      <td>5.697824e+06</td>\n",
       "    </tr>\n",
       "    <tr>\n",
       "      <th>std</th>\n",
       "      <td>25.708990</td>\n",
       "      <td>5.757025</td>\n",
       "      <td>7.218282</td>\n",
       "      <td>5.818685</td>\n",
       "      <td>17.921190</td>\n",
       "      <td>1.147093</td>\n",
       "      <td>5.960681</td>\n",
       "      <td>18.526019</td>\n",
       "      <td>5.711727</td>\n",
       "      <td>19.654407</td>\n",
       "      <td>1.287765e+06</td>\n",
       "    </tr>\n",
       "    <tr>\n",
       "      <th>min</th>\n",
       "      <td>2.000000</td>\n",
       "      <td>1.000000</td>\n",
       "      <td>0.000000</td>\n",
       "      <td>0.000000</td>\n",
       "      <td>0.000000</td>\n",
       "      <td>2018.000000</td>\n",
       "      <td>1.000000</td>\n",
       "      <td>2.000000</td>\n",
       "      <td>1.000000</td>\n",
       "      <td>140.802000</td>\n",
       "      <td>2.070710e+05</td>\n",
       "    </tr>\n",
       "    <tr>\n",
       "      <th>25%</th>\n",
       "      <td>8.000000</td>\n",
       "      <td>5.000000</td>\n",
       "      <td>0.000000</td>\n",
       "      <td>5.000000</td>\n",
       "      <td>52.000000</td>\n",
       "      <td>2018.000000</td>\n",
       "      <td>5.000000</td>\n",
       "      <td>10.000000</td>\n",
       "      <td>5.000000</td>\n",
       "      <td>200.297250</td>\n",
       "      <td>5.282710e+06</td>\n",
       "    </tr>\n",
       "    <tr>\n",
       "      <th>50%</th>\n",
       "      <td>18.000000</td>\n",
       "      <td>10.000000</td>\n",
       "      <td>1.000000</td>\n",
       "      <td>10.000000</td>\n",
       "      <td>56.000000</td>\n",
       "      <td>2019.000000</td>\n",
       "      <td>10.000000</td>\n",
       "      <td>14.000000</td>\n",
       "      <td>10.000000</td>\n",
       "      <td>210.106500</td>\n",
       "      <td>5.596877e+06</td>\n",
       "    </tr>\n",
       "    <tr>\n",
       "      <th>75%</th>\n",
       "      <td>44.000000</td>\n",
       "      <td>15.000000</td>\n",
       "      <td>8.000000</td>\n",
       "      <td>15.000000</td>\n",
       "      <td>67.000000</td>\n",
       "      <td>2021.000000</td>\n",
       "      <td>16.000000</td>\n",
       "      <td>37.000000</td>\n",
       "      <td>15.000000</td>\n",
       "      <td>224.515500</td>\n",
       "      <td>5.948403e+06</td>\n",
       "    </tr>\n",
       "    <tr>\n",
       "      <th>max</th>\n",
       "      <td>99.000000</td>\n",
       "      <td>20.000000</td>\n",
       "      <td>27.000000</td>\n",
       "      <td>20.000000</td>\n",
       "      <td>87.000000</td>\n",
       "      <td>2021.000000</td>\n",
       "      <td>22.000000</td>\n",
       "      <td>85.000000</td>\n",
       "      <td>20.000000</td>\n",
       "      <td>255.014000</td>\n",
       "      <td>1.081032e+07</td>\n",
       "    </tr>\n",
       "  </tbody>\n",
       "</table>\n",
       "</div>"
      ],
      "text/plain": [
       "            number     position       points         grid         laps  \\\n",
       "count  6625.000000  6625.000000  1619.000000  1619.000000  1619.000000   \n",
       "mean     28.059925    10.479547     5.066399    10.155652    54.329216   \n",
       "std      25.708990     5.757025     7.218282     5.818685    17.921190   \n",
       "min       2.000000     1.000000     0.000000     0.000000     0.000000   \n",
       "25%       8.000000     5.000000     0.000000     5.000000    52.000000   \n",
       "50%      18.000000    10.000000     1.000000    10.000000    56.000000   \n",
       "75%      44.000000    15.000000     8.000000    15.000000    67.000000   \n",
       "max      99.000000    20.000000    27.000000    20.000000    87.000000   \n",
       "\n",
       "              year     gpNumber  fastestLapNumber  fastestLapRank  \\\n",
       "count  6625.000000  6625.000000       4935.000000     4935.000000   \n",
       "mean   2019.506113    10.544906         23.296251       10.382776   \n",
       "std       1.147093     5.960681         18.526019        5.711727   \n",
       "min    2018.000000     1.000000          2.000000        1.000000   \n",
       "25%    2018.000000     5.000000         10.000000        5.000000   \n",
       "50%    2019.000000    10.000000         14.000000       10.000000   \n",
       "75%    2021.000000    16.000000         37.000000       15.000000   \n",
       "max    2021.000000    22.000000         85.000000       20.000000   \n",
       "\n",
       "       fastestLapAvgSpeed     totalTime  \n",
       "count         1546.000000  7.960000e+02  \n",
       "mean           210.685937  5.697824e+06  \n",
       "std             19.654407  1.287765e+06  \n",
       "min            140.802000  2.070710e+05  \n",
       "25%            200.297250  5.282710e+06  \n",
       "50%            210.106500  5.596877e+06  \n",
       "75%            224.515500  5.948403e+06  \n",
       "max            255.014000  1.081032e+07  "
      ]
     },
     "execution_count": 5,
     "metadata": {},
     "output_type": "execute_result"
    }
   ],
   "source": [
    "data.describe()"
   ]
  },
  {
   "cell_type": "markdown",
   "metadata": {},
   "source": [
    "## Spliting the data into the practice, the race and qualifying "
   ]
  },
  {
   "cell_type": "markdown",
   "metadata": {},
   "source": [
    " The goal of this step is to be able to merge the data to obtain a good data structure for processing"
   ]
  },
  {
   "cell_type": "code",
   "execution_count": 6,
   "metadata": {},
   "outputs": [],
   "source": [
    "df_race = data[data['sessionName'] == 'Race']"
   ]
  },
  {
   "cell_type": "code",
   "execution_count": 7,
   "metadata": {},
   "outputs": [],
   "source": [
    "df_practice1 = data[data['sessionName'] == 'Practice 1'][['fastestLapRank','fastestLapTime','year','gpName','driverId']]"
   ]
  },
  {
   "cell_type": "code",
   "execution_count": 8,
   "metadata": {},
   "outputs": [],
   "source": [
    "df_practice2 = data[data['sessionName'] == 'Practice 2'][['fastestLapRank','fastestLapTime','year','gpName','driverId']]"
   ]
  },
  {
   "cell_type": "code",
   "execution_count": 9,
   "metadata": {},
   "outputs": [],
   "source": [
    "df_practice3 = data[data['sessionName'] == 'Practice 3'][['fastestLapRank','fastestLapTime','year','gpName','driverId']]"
   ]
  },
  {
   "cell_type": "code",
   "execution_count": 10,
   "metadata": {},
   "outputs": [],
   "source": [
    "df_practice1 = df_practice1.rename(columns={\"fastestLapRank\": \"fastestLapRankP1\",\"fastestLapTime\": \"fastestLapTimeP1\"})\n",
    "df_practice2 = df_practice2.rename(columns={\"fastestLapRank\": \"fastestLapRankP2\",\"fastestLapTime\": \"fastestLapTimeP2\"})\n",
    "df_practice3 = df_practice3.rename(columns={\"fastestLapRank\": \"fastestLapRankP3\",\"fastestLapTime\": \"fastestLapTimeP3\"})"
   ]
  },
  {
   "cell_type": "code",
   "execution_count": 11,
   "metadata": {},
   "outputs": [],
   "source": [
    "df_quali = data[data['sessionName'] == 'Qualifying'][['Q1','Q2','Q3','year','gpName','driverId']]"
   ]
  },
  {
   "cell_type": "markdown",
   "metadata": {},
   "source": [
    "#### Data manipulation on race and qualifying to merge them "
   ]
  },
  {
   "cell_type": "code",
   "execution_count": 12,
   "metadata": {
    "scrolled": false
   },
   "outputs": [
    {
     "data": {
      "text/plain": [
       "number                       0\n",
       "position                     0\n",
       "Q1                        1619\n",
       "Q2                        1619\n",
       "Q3                        1619\n",
       "positionText                 0\n",
       "points                       0\n",
       "grid                         0\n",
       "laps                         0\n",
       "status                       0\n",
       "year                         0\n",
       "gpName                       0\n",
       "gpNumber                     0\n",
       "sessionName                  0\n",
       "driverId                     0\n",
       "code                         0\n",
       "DriverNationality            0\n",
       "constructorId                0\n",
       "constructorNationality       0\n",
       "fastestLapNumber            73\n",
       "fastestLapRank              73\n",
       "fastestLapAvgSpeed          73\n",
       "fastestLapTime              73\n",
       "totalTime                  823\n",
       "TimeInterval               823\n",
       "dtype: int64"
      ]
     },
     "execution_count": 12,
     "metadata": {},
     "output_type": "execute_result"
    }
   ],
   "source": [
    "df_race.isna().sum()"
   ]
  },
  {
   "cell_type": "code",
   "execution_count": 13,
   "metadata": {},
   "outputs": [
    {
     "data": {
      "text/html": [
       "<div>\n",
       "<style scoped>\n",
       "    .dataframe tbody tr th:only-of-type {\n",
       "        vertical-align: middle;\n",
       "    }\n",
       "\n",
       "    .dataframe tbody tr th {\n",
       "        vertical-align: top;\n",
       "    }\n",
       "\n",
       "    .dataframe thead th {\n",
       "        text-align: right;\n",
       "    }\n",
       "</style>\n",
       "<table border=\"1\" class=\"dataframe\">\n",
       "  <thead>\n",
       "    <tr style=\"text-align: right;\">\n",
       "      <th></th>\n",
       "      <th>gpName</th>\n",
       "      <th>sessionName</th>\n",
       "    </tr>\n",
       "  </thead>\n",
       "  <tbody>\n",
       "  </tbody>\n",
       "</table>\n",
       "</div>"
      ],
      "text/plain": [
       "Empty DataFrame\n",
       "Columns: [gpName, sessionName]\n",
       "Index: []"
      ]
     },
     "execution_count": 13,
     "metadata": {},
     "output_type": "execute_result"
    }
   ],
   "source": [
    "data[data['position'].isna()][['gpName','sessionName']]"
   ]
  },
  {
   "cell_type": "code",
   "execution_count": 14,
   "metadata": {},
   "outputs": [],
   "source": [
    "df_race = df_race.drop(['Q1','Q2','Q3'], axis=1)"
   ]
  },
  {
   "cell_type": "code",
   "execution_count": 15,
   "metadata": {},
   "outputs": [
    {
     "data": {
      "text/plain": [
       "count    7.960000e+02\n",
       "mean     5.697824e+06\n",
       "std      1.287765e+06\n",
       "min      2.070710e+05\n",
       "25%      5.282710e+06\n",
       "50%      5.596877e+06\n",
       "75%      5.948403e+06\n",
       "max      1.081032e+07\n",
       "Name: totalTime, dtype: float64"
      ]
     },
     "execution_count": 15,
     "metadata": {},
     "output_type": "execute_result"
    }
   ],
   "source": [
    "df_race['totalTime'].describe()"
   ]
  },
  {
   "cell_type": "code",
   "execution_count": 16,
   "metadata": {},
   "outputs": [],
   "source": [
    "df_race['totalTime'] = df_race['totalTime'].fillna(df_race['totalTime'].max())"
   ]
  },
  {
   "cell_type": "code",
   "execution_count": 17,
   "metadata": {
    "scrolled": true
   },
   "outputs": [
    {
     "data": {
      "text/plain": [
       "number                      0\n",
       "position                    0\n",
       "positionText                0\n",
       "points                      0\n",
       "grid                        0\n",
       "laps                        0\n",
       "status                      0\n",
       "year                        0\n",
       "gpName                      0\n",
       "gpNumber                    0\n",
       "sessionName                 0\n",
       "driverId                    0\n",
       "code                        0\n",
       "DriverNationality           0\n",
       "constructorId               0\n",
       "constructorNationality      0\n",
       "fastestLapNumber           73\n",
       "fastestLapRank             73\n",
       "fastestLapAvgSpeed         73\n",
       "fastestLapTime             73\n",
       "totalTime                   0\n",
       "TimeInterval              823\n",
       "dtype: int64"
      ]
     },
     "execution_count": 17,
     "metadata": {},
     "output_type": "execute_result"
    }
   ],
   "source": [
    "df_race.isna().sum()"
   ]
  },
  {
   "cell_type": "markdown",
   "metadata": {},
   "source": [
    "first step of our data creation, the race is combined to the qualifying for each drivers "
   ]
  },
  {
   "cell_type": "code",
   "execution_count": 18,
   "metadata": {},
   "outputs": [],
   "source": [
    "race_quali = pd.merge(df_race, df_quali, how=\"left\", on=['year','gpName','driverId'])"
   ]
  },
  {
   "cell_type": "code",
   "execution_count": 19,
   "metadata": {},
   "outputs": [
    {
     "data": {
      "text/plain": [
       "(1619, 25)"
      ]
     },
     "execution_count": 19,
     "metadata": {},
     "output_type": "execute_result"
    }
   ],
   "source": [
    "race_quali.shape "
   ]
  },
  {
   "cell_type": "code",
   "execution_count": 20,
   "metadata": {},
   "outputs": [
    {
     "data": {
      "text/plain": [
       "Index(['number', 'position', 'positionText', 'points', 'grid', 'laps',\n",
       "       'status', 'year', 'gpName', 'gpNumber', 'sessionName', 'driverId',\n",
       "       'code', 'DriverNationality', 'constructorId', 'constructorNationality',\n",
       "       'fastestLapNumber', 'fastestLapRank', 'fastestLapAvgSpeed',\n",
       "       'fastestLapTime', 'totalTime', 'TimeInterval', 'Q1', 'Q2', 'Q3'],\n",
       "      dtype='object')"
      ]
     },
     "execution_count": 20,
     "metadata": {},
     "output_type": "execute_result"
    }
   ],
   "source": [
    "race_quali.columns"
   ]
  },
  {
   "cell_type": "markdown",
   "metadata": {},
   "source": [
    "Second step is to combined the practices data with "
   ]
  },
  {
   "cell_type": "code",
   "execution_count": 21,
   "metadata": {},
   "outputs": [],
   "source": [
    "race_quali_1 = pd.merge(race_quali, df_practice1, how=\"left\", on=['year','gpName','driverId'])"
   ]
  },
  {
   "cell_type": "code",
   "execution_count": 22,
   "metadata": {},
   "outputs": [],
   "source": [
    "race_quali_12 = pd.merge(race_quali_1, df_practice2, how=\"left\", on=['year','gpName','driverId'])"
   ]
  },
  {
   "cell_type": "code",
   "execution_count": 23,
   "metadata": {},
   "outputs": [],
   "source": [
    "data_complete = pd.merge(race_quali_12, df_practice3, how=\"left\", on=['year','gpName','driverId'])"
   ]
  },
  {
   "cell_type": "code",
   "execution_count": 24,
   "metadata": {},
   "outputs": [
    {
     "data": {
      "text/plain": [
       "Index(['number', 'position', 'positionText', 'points', 'grid', 'laps',\n",
       "       'status', 'year', 'gpName', 'gpNumber', 'sessionName', 'driverId',\n",
       "       'code', 'DriverNationality', 'constructorId', 'constructorNationality',\n",
       "       'fastestLapNumber', 'fastestLapRank', 'fastestLapAvgSpeed',\n",
       "       'fastestLapTime', 'totalTime', 'TimeInterval', 'Q1', 'Q2', 'Q3',\n",
       "       'fastestLapRankP1', 'fastestLapTimeP1', 'fastestLapRankP2',\n",
       "       'fastestLapTimeP2', 'fastestLapRankP3', 'fastestLapTimeP3'],\n",
       "      dtype='object')"
      ]
     },
     "execution_count": 24,
     "metadata": {},
     "output_type": "execute_result"
    }
   ],
   "source": [
    "data_complete.columns"
   ]
  },
  {
   "cell_type": "code",
   "execution_count": 25,
   "metadata": {},
   "outputs": [
    {
     "data": {
      "text/plain": [
       "(1619, 31)"
      ]
     },
     "execution_count": 25,
     "metadata": {},
     "output_type": "execute_result"
    }
   ],
   "source": [
    "data_complete.shape"
   ]
  },
  {
   "cell_type": "markdown",
   "metadata": {},
   "source": [
    "We have now finaly a data that represent the entire week end (Grand prix) for a driver "
   ]
  },
  {
   "cell_type": "markdown",
   "metadata": {},
   "source": [
    "# Now we have to make the data suitable for the predictions  "
   ]
  },
  {
   "cell_type": "markdown",
   "metadata": {},
   "source": [
    "We want to predict the position of a driver before the race but after the practices sessions and the qualifying. \n",
    "To do so we have to predict the variable \" Position \". \n",
    "To avoid biased predictions, we have to drop the variables that are calculated after the race.\n",
    "We will also drop the variables that are representing the same information ( number, code, driverID represente the same information)."
   ]
  },
  {
   "cell_type": "code",
   "execution_count": 26,
   "metadata": {},
   "outputs": [],
   "source": [
    "df_pred_postion = data_complete.drop(['positionText','points','laps','status','fastestLapNumber', 'fastestLapRank', 'fastestLapAvgSpeed',\n",
    "       'fastestLapTime', 'totalTime', 'TimeInterval','code','driverId','sessionName'], axis=1)"
   ]
  },
  {
   "cell_type": "code",
   "execution_count": 27,
   "metadata": {},
   "outputs": [
    {
     "data": {
      "text/plain": [
       "(1619, 18)"
      ]
     },
     "execution_count": 27,
     "metadata": {},
     "output_type": "execute_result"
    }
   ],
   "source": [
    "df_pred_postion.shape"
   ]
  },
  {
   "cell_type": "code",
   "execution_count": 28,
   "metadata": {},
   "outputs": [
    {
     "data": {
      "text/plain": [
       "number                      0\n",
       "position                    0\n",
       "grid                        0\n",
       "year                        0\n",
       "gpName                      0\n",
       "gpNumber                    0\n",
       "DriverNationality           0\n",
       "constructorId               0\n",
       "constructorNationality      0\n",
       "Q1                         26\n",
       "Q2                        434\n",
       "Q3                        828\n",
       "fastestLapRankP1          880\n",
       "fastestLapTimeP1          880\n",
       "fastestLapRankP2          207\n",
       "fastestLapTimeP2          207\n",
       "fastestLapRankP3          381\n",
       "fastestLapTimeP3          381\n",
       "dtype: int64"
      ]
     },
     "execution_count": 28,
     "metadata": {},
     "output_type": "execute_result"
    }
   ],
   "source": [
    "df_pred_postion.isna().sum()"
   ]
  },
  {
   "cell_type": "markdown",
   "metadata": {},
   "source": [
    "## Dealing with NaN values and conversion"
   ]
  },
  {
   "cell_type": "code",
   "execution_count": 29,
   "metadata": {},
   "outputs": [
    {
     "data": {
      "text/plain": [
       "count                       1238\n",
       "unique                      1222\n",
       "top       0 days 00:01:32.047000\n",
       "freq                           2\n",
       "Name: fastestLapTimeP3, dtype: object"
      ]
     },
     "execution_count": 29,
     "metadata": {},
     "output_type": "execute_result"
    }
   ],
   "source": [
    "df_pred_postion['fastestLapTimeP3'].describe()"
   ]
  },
  {
   "cell_type": "code",
   "execution_count": 30,
   "metadata": {},
   "outputs": [],
   "source": [
    "def timeStrToInt(df,columnName):\n",
    "    l = []\n",
    "    is_na = df[columnName].isna()\n",
    "    for i in range(len(df[columnName])):\n",
    "        is_nai = is_na[i]\n",
    "        if  is_nai == False :\n",
    "            value = df[columnName][i]\n",
    "            if type(value) == np.int64:\n",
    "                l.append(value)\n",
    "            else:\n",
    "                a = value.split(':')\n",
    "                b = list(map(float,a[1:]))\n",
    "                l.append(int((b[0]*60*1000 + b[1])*1000))\n",
    "        else:\n",
    "            l.append(58276750)\n",
    "    df[columnName] = l"
   ]
  },
  {
   "cell_type": "code",
   "execution_count": 31,
   "metadata": {},
   "outputs": [],
   "source": [
    "timeStrToInt(df_pred_postion,'fastestLapTimeP1')\n",
    "timeStrToInt(df_pred_postion,'fastestLapTimeP2')\n",
    "timeStrToInt(df_pred_postion,'fastestLapTimeP3')"
   ]
  },
  {
   "cell_type": "code",
   "execution_count": 32,
   "metadata": {},
   "outputs": [
    {
     "data": {
      "text/plain": [
       "count    1.619000e+03\n",
       "mean     5.829842e+07\n",
       "std      6.734991e+06\n",
       "min      1.794000e+03\n",
       "25%      5.827675e+07\n",
       "50%      5.827675e+07\n",
       "75%      6.002710e+07\n",
       "max      6.004926e+07\n",
       "Name: fastestLapTimeP1, dtype: float64"
      ]
     },
     "execution_count": 32,
     "metadata": {},
     "output_type": "execute_result"
    }
   ],
   "source": [
    "df_pred_postion['fastestLapTimeP1'].describe()"
   ]
  },
  {
   "cell_type": "code",
   "execution_count": 33,
   "metadata": {
    "scrolled": true
   },
   "outputs": [
    {
     "data": {
      "text/plain": [
       "number                      0\n",
       "position                    0\n",
       "grid                        0\n",
       "year                        0\n",
       "gpName                      0\n",
       "gpNumber                    0\n",
       "DriverNationality           0\n",
       "constructorId               0\n",
       "constructorNationality      0\n",
       "Q1                         26\n",
       "Q2                        434\n",
       "Q3                        828\n",
       "fastestLapRankP1          880\n",
       "fastestLapTimeP1            0\n",
       "fastestLapRankP2          207\n",
       "fastestLapTimeP2            0\n",
       "fastestLapRankP3          381\n",
       "fastestLapTimeP3            0\n",
       "dtype: int64"
      ]
     },
     "execution_count": 33,
     "metadata": {},
     "output_type": "execute_result"
    }
   ],
   "source": [
    "df_pred_postion.isna().sum()"
   ]
  },
  {
   "cell_type": "markdown",
   "metadata": {},
   "source": [
    "Q1 Q2 and Q3 must have normaly NaN values, because the drivers are qualified or not to the next Q.\n",
    "In order to deal with that, we'll put the time of the precedent Q in the one missing."
   ]
  },
  {
   "cell_type": "code",
   "execution_count": 34,
   "metadata": {
    "scrolled": true
   },
   "outputs": [
    {
     "data": {
      "text/html": [
       "<div>\n",
       "<style scoped>\n",
       "    .dataframe tbody tr th:only-of-type {\n",
       "        vertical-align: middle;\n",
       "    }\n",
       "\n",
       "    .dataframe tbody tr th {\n",
       "        vertical-align: top;\n",
       "    }\n",
       "\n",
       "    .dataframe thead th {\n",
       "        text-align: right;\n",
       "    }\n",
       "</style>\n",
       "<table border=\"1\" class=\"dataframe\">\n",
       "  <thead>\n",
       "    <tr style=\"text-align: right;\">\n",
       "      <th></th>\n",
       "      <th>number</th>\n",
       "      <th>position</th>\n",
       "      <th>grid</th>\n",
       "      <th>year</th>\n",
       "      <th>gpName</th>\n",
       "      <th>gpNumber</th>\n",
       "      <th>DriverNationality</th>\n",
       "      <th>constructorId</th>\n",
       "      <th>constructorNationality</th>\n",
       "      <th>Q1</th>\n",
       "      <th>Q2</th>\n",
       "      <th>Q3</th>\n",
       "      <th>fastestLapRankP1</th>\n",
       "      <th>fastestLapTimeP1</th>\n",
       "      <th>fastestLapRankP2</th>\n",
       "      <th>fastestLapTimeP2</th>\n",
       "      <th>fastestLapRankP3</th>\n",
       "      <th>fastestLapTimeP3</th>\n",
       "    </tr>\n",
       "  </thead>\n",
       "  <tbody>\n",
       "    <tr>\n",
       "      <th>74</th>\n",
       "      <td>8</td>\n",
       "      <td>15</td>\n",
       "      <td>20.0</td>\n",
       "      <td>2018</td>\n",
       "      <td>Azerbaijan Grand Prix</td>\n",
       "      <td>4</td>\n",
       "      <td>French</td>\n",
       "      <td>haas</td>\n",
       "      <td>American</td>\n",
       "      <td>NaN</td>\n",
       "      <td>NaN</td>\n",
       "      <td>NaN</td>\n",
       "      <td>14.0</td>\n",
       "      <td>60046856</td>\n",
       "      <td>13.0</td>\n",
       "      <td>60044425</td>\n",
       "      <td>15.0</td>\n",
       "      <td>60045261</td>\n",
       "    </tr>\n",
       "    <tr>\n",
       "      <th>91</th>\n",
       "      <td>28</td>\n",
       "      <td>12</td>\n",
       "      <td>20.0</td>\n",
       "      <td>2018</td>\n",
       "      <td>Spanish Grand Prix</td>\n",
       "      <td>5</td>\n",
       "      <td>New Zealander</td>\n",
       "      <td>toro_rosso</td>\n",
       "      <td>Italian</td>\n",
       "      <td>NaN</td>\n",
       "      <td>NaN</td>\n",
       "      <td>NaN</td>\n",
       "      <td>NaN</td>\n",
       "      <td>58276750</td>\n",
       "      <td>18.0</td>\n",
       "      <td>60021265</td>\n",
       "      <td>17.0</td>\n",
       "      <td>60019428</td>\n",
       "    </tr>\n",
       "    <tr>\n",
       "      <th>108</th>\n",
       "      <td>33</td>\n",
       "      <td>9</td>\n",
       "      <td>20.0</td>\n",
       "      <td>2018</td>\n",
       "      <td>Monaco Grand Prix</td>\n",
       "      <td>6</td>\n",
       "      <td>Dutch</td>\n",
       "      <td>red_bull</td>\n",
       "      <td>Austrian</td>\n",
       "      <td>NaN</td>\n",
       "      <td>NaN</td>\n",
       "      <td>NaN</td>\n",
       "      <td>3.0</td>\n",
       "      <td>60012280</td>\n",
       "      <td>2.0</td>\n",
       "      <td>60012035</td>\n",
       "      <td>2.0</td>\n",
       "      <td>60011787</td>\n",
       "    </tr>\n",
       "    <tr>\n",
       "      <th>131</th>\n",
       "      <td>8</td>\n",
       "      <td>12</td>\n",
       "      <td>20.0</td>\n",
       "      <td>2018</td>\n",
       "      <td>Canadian Grand Prix</td>\n",
       "      <td>7</td>\n",
       "      <td>French</td>\n",
       "      <td>haas</td>\n",
       "      <td>American</td>\n",
       "      <td>NaN</td>\n",
       "      <td>NaN</td>\n",
       "      <td>NaN</td>\n",
       "      <td>NaN</td>\n",
       "      <td>58276750</td>\n",
       "      <td>7.0</td>\n",
       "      <td>60013620</td>\n",
       "      <td>9.0</td>\n",
       "      <td>60013014</td>\n",
       "    </tr>\n",
       "    <tr>\n",
       "      <th>191</th>\n",
       "      <td>18</td>\n",
       "      <td>12</td>\n",
       "      <td>19.0</td>\n",
       "      <td>2018</td>\n",
       "      <td>British Grand Prix</td>\n",
       "      <td>10</td>\n",
       "      <td>Canadian</td>\n",
       "      <td>williams</td>\n",
       "      <td>British</td>\n",
       "      <td>NaN</td>\n",
       "      <td>NaN</td>\n",
       "      <td>NaN</td>\n",
       "      <td>10.0</td>\n",
       "      <td>60029878</td>\n",
       "      <td>NaN</td>\n",
       "      <td>58276750</td>\n",
       "      <td>NaN</td>\n",
       "      <td>58276750</td>\n",
       "    </tr>\n",
       "    <tr>\n",
       "      <th>199</th>\n",
       "      <td>28</td>\n",
       "      <td>20</td>\n",
       "      <td>0.0</td>\n",
       "      <td>2018</td>\n",
       "      <td>British Grand Prix</td>\n",
       "      <td>10</td>\n",
       "      <td>New Zealander</td>\n",
       "      <td>toro_rosso</td>\n",
       "      <td>Italian</td>\n",
       "      <td>NaN</td>\n",
       "      <td>NaN</td>\n",
       "      <td>NaN</td>\n",
       "      <td>19.0</td>\n",
       "      <td>60030749</td>\n",
       "      <td>NaN</td>\n",
       "      <td>58276750</td>\n",
       "      <td>NaN</td>\n",
       "      <td>58276750</td>\n",
       "    </tr>\n",
       "    <tr>\n",
       "      <th>469</th>\n",
       "      <td>23</td>\n",
       "      <td>10</td>\n",
       "      <td>0.0</td>\n",
       "      <td>2019</td>\n",
       "      <td>Chinese Grand Prix</td>\n",
       "      <td>3</td>\n",
       "      <td>Thai</td>\n",
       "      <td>toro_rosso</td>\n",
       "      <td>Italian</td>\n",
       "      <td>NaN</td>\n",
       "      <td>NaN</td>\n",
       "      <td>NaN</td>\n",
       "      <td>NaN</td>\n",
       "      <td>58276750</td>\n",
       "      <td>12.0</td>\n",
       "      <td>60034634</td>\n",
       "      <td>9.0</td>\n",
       "      <td>60034600</td>\n",
       "    </tr>\n",
       "    <tr>\n",
       "      <th>474</th>\n",
       "      <td>99</td>\n",
       "      <td>15</td>\n",
       "      <td>19.0</td>\n",
       "      <td>2019</td>\n",
       "      <td>Chinese Grand Prix</td>\n",
       "      <td>3</td>\n",
       "      <td>Italian</td>\n",
       "      <td>alfa</td>\n",
       "      <td>Swiss</td>\n",
       "      <td>NaN</td>\n",
       "      <td>NaN</td>\n",
       "      <td>NaN</td>\n",
       "      <td>NaN</td>\n",
       "      <td>58276750</td>\n",
       "      <td>18.0</td>\n",
       "      <td>60035914</td>\n",
       "      <td>16.0</td>\n",
       "      <td>60035726</td>\n",
       "    </tr>\n",
       "    <tr>\n",
       "      <th>489</th>\n",
       "      <td>7</td>\n",
       "      <td>10</td>\n",
       "      <td>0.0</td>\n",
       "      <td>2019</td>\n",
       "      <td>Azerbaijan Grand Prix</td>\n",
       "      <td>4</td>\n",
       "      <td>Finnish</td>\n",
       "      <td>alfa</td>\n",
       "      <td>Swiss</td>\n",
       "      <td>NaN</td>\n",
       "      <td>NaN</td>\n",
       "      <td>NaN</td>\n",
       "      <td>NaN</td>\n",
       "      <td>58276750</td>\n",
       "      <td>14.0</td>\n",
       "      <td>60045482</td>\n",
       "      <td>10.0</td>\n",
       "      <td>60043537</td>\n",
       "    </tr>\n",
       "    <tr>\n",
       "      <th>496</th>\n",
       "      <td>10</td>\n",
       "      <td>17</td>\n",
       "      <td>0.0</td>\n",
       "      <td>2019</td>\n",
       "      <td>Azerbaijan Grand Prix</td>\n",
       "      <td>4</td>\n",
       "      <td>French</td>\n",
       "      <td>red_bull</td>\n",
       "      <td>Austrian</td>\n",
       "      <td>NaN</td>\n",
       "      <td>NaN</td>\n",
       "      <td>NaN</td>\n",
       "      <td>NaN</td>\n",
       "      <td>58276750</td>\n",
       "      <td>9.0</td>\n",
       "      <td>60044240</td>\n",
       "      <td>20.0</td>\n",
       "      <td>60047836</td>\n",
       "    </tr>\n",
       "    <tr>\n",
       "      <th>621</th>\n",
       "      <td>5</td>\n",
       "      <td>2</td>\n",
       "      <td>20.0</td>\n",
       "      <td>2019</td>\n",
       "      <td>German Grand Prix</td>\n",
       "      <td>11</td>\n",
       "      <td>German</td>\n",
       "      <td>ferrari</td>\n",
       "      <td>Italian</td>\n",
       "      <td>NaN</td>\n",
       "      <td>NaN</td>\n",
       "      <td>NaN</td>\n",
       "      <td>1.0</td>\n",
       "      <td>60014013</td>\n",
       "      <td>2.0</td>\n",
       "      <td>60013573</td>\n",
       "      <td>3.0</td>\n",
       "      <td>60012644</td>\n",
       "    </tr>\n",
       "    <tr>\n",
       "      <th>676</th>\n",
       "      <td>88</td>\n",
       "      <td>17</td>\n",
       "      <td>0.0</td>\n",
       "      <td>2019</td>\n",
       "      <td>Belgian Grand Prix</td>\n",
       "      <td>13</td>\n",
       "      <td>Polish</td>\n",
       "      <td>williams</td>\n",
       "      <td>British</td>\n",
       "      <td>NaN</td>\n",
       "      <td>NaN</td>\n",
       "      <td>NaN</td>\n",
       "      <td>NaN</td>\n",
       "      <td>58276750</td>\n",
       "      <td>20.0</td>\n",
       "      <td>60048331</td>\n",
       "      <td>19.0</td>\n",
       "      <td>60048350</td>\n",
       "    </tr>\n",
       "    <tr>\n",
       "      <th>687</th>\n",
       "      <td>33</td>\n",
       "      <td>8</td>\n",
       "      <td>19.0</td>\n",
       "      <td>2019</td>\n",
       "      <td>Italian Grand Prix</td>\n",
       "      <td>14</td>\n",
       "      <td>Dutch</td>\n",
       "      <td>red_bull</td>\n",
       "      <td>Austrian</td>\n",
       "      <td>NaN</td>\n",
       "      <td>NaN</td>\n",
       "      <td>NaN</td>\n",
       "      <td>NaN</td>\n",
       "      <td>58276750</td>\n",
       "      <td>5.0</td>\n",
       "      <td>60021350</td>\n",
       "      <td>2.0</td>\n",
       "      <td>60020326</td>\n",
       "    </tr>\n",
       "    <tr>\n",
       "      <th>713</th>\n",
       "      <td>3</td>\n",
       "      <td>14</td>\n",
       "      <td>20.0</td>\n",
       "      <td>2019</td>\n",
       "      <td>Singapore Grand Prix</td>\n",
       "      <td>15</td>\n",
       "      <td>Australian</td>\n",
       "      <td>renault</td>\n",
       "      <td>French</td>\n",
       "      <td>NaN</td>\n",
       "      <td>NaN</td>\n",
       "      <td>NaN</td>\n",
       "      <td>11.0</td>\n",
       "      <td>60042527</td>\n",
       "      <td>12.0</td>\n",
       "      <td>60040811</td>\n",
       "      <td>10.0</td>\n",
       "      <td>60040153</td>\n",
       "    </tr>\n",
       "    <tr>\n",
       "      <th>754</th>\n",
       "      <td>20</td>\n",
       "      <td>15</td>\n",
       "      <td>19.0</td>\n",
       "      <td>2019</td>\n",
       "      <td>Japanese Grand Prix</td>\n",
       "      <td>17</td>\n",
       "      <td>Danish</td>\n",
       "      <td>haas</td>\n",
       "      <td>American</td>\n",
       "      <td>NaN</td>\n",
       "      <td>NaN</td>\n",
       "      <td>NaN</td>\n",
       "      <td>NaN</td>\n",
       "      <td>58276750</td>\n",
       "      <td>16.0</td>\n",
       "      <td>60029749</td>\n",
       "      <td>NaN</td>\n",
       "      <td>58276750</td>\n",
       "    </tr>\n",
       "    <tr>\n",
       "      <th>756</th>\n",
       "      <td>88</td>\n",
       "      <td>17</td>\n",
       "      <td>0.0</td>\n",
       "      <td>2019</td>\n",
       "      <td>Japanese Grand Prix</td>\n",
       "      <td>17</td>\n",
       "      <td>Polish</td>\n",
       "      <td>williams</td>\n",
       "      <td>British</td>\n",
       "      <td>NaN</td>\n",
       "      <td>NaN</td>\n",
       "      <td>NaN</td>\n",
       "      <td>NaN</td>\n",
       "      <td>58276750</td>\n",
       "      <td>19.0</td>\n",
       "      <td>60030916</td>\n",
       "      <td>NaN</td>\n",
       "      <td>58276750</td>\n",
       "    </tr>\n",
       "    <tr>\n",
       "      <th>802</th>\n",
       "      <td>55</td>\n",
       "      <td>3</td>\n",
       "      <td>20.0</td>\n",
       "      <td>2019</td>\n",
       "      <td>Brazilian Grand Prix</td>\n",
       "      <td>20</td>\n",
       "      <td>Spanish</td>\n",
       "      <td>mclaren</td>\n",
       "      <td>British</td>\n",
       "      <td>NaN</td>\n",
       "      <td>NaN</td>\n",
       "      <td>NaN</td>\n",
       "      <td>NaN</td>\n",
       "      <td>58276750</td>\n",
       "      <td>NaN</td>\n",
       "      <td>58276750</td>\n",
       "      <td>10.0</td>\n",
       "      <td>60009588</td>\n",
       "    </tr>\n",
       "    <tr>\n",
       "      <th>872</th>\n",
       "      <td>8</td>\n",
       "      <td>13</td>\n",
       "      <td>0.0</td>\n",
       "      <td>2020</td>\n",
       "      <td>Styrian Grand Prix</td>\n",
       "      <td>2</td>\n",
       "      <td>French</td>\n",
       "      <td>haas</td>\n",
       "      <td>American</td>\n",
       "      <td>NaN</td>\n",
       "      <td>NaN</td>\n",
       "      <td>NaN</td>\n",
       "      <td>NaN</td>\n",
       "      <td>58276750</td>\n",
       "      <td>NaN</td>\n",
       "      <td>58276750</td>\n",
       "      <td>NaN</td>\n",
       "      <td>58276750</td>\n",
       "    </tr>\n",
       "    <tr>\n",
       "      <th>1211</th>\n",
       "      <td>22</td>\n",
       "      <td>12</td>\n",
       "      <td>20.0</td>\n",
       "      <td>2021</td>\n",
       "      <td>Emilia Romagna Grand Prix</td>\n",
       "      <td>2</td>\n",
       "      <td>Japanese</td>\n",
       "      <td>alphatauri</td>\n",
       "      <td>Italian</td>\n",
       "      <td>NaN</td>\n",
       "      <td>NaN</td>\n",
       "      <td>NaN</td>\n",
       "      <td>NaN</td>\n",
       "      <td>58276750</td>\n",
       "      <td>7.0</td>\n",
       "      <td>60016419</td>\n",
       "      <td>11.0</td>\n",
       "      <td>60016230</td>\n",
       "    </tr>\n",
       "    <tr>\n",
       "      <th>1277</th>\n",
       "      <td>47</td>\n",
       "      <td>18</td>\n",
       "      <td>20.0</td>\n",
       "      <td>2021</td>\n",
       "      <td>Monaco Grand Prix</td>\n",
       "      <td>5</td>\n",
       "      <td>German</td>\n",
       "      <td>haas</td>\n",
       "      <td>American</td>\n",
       "      <td>NaN</td>\n",
       "      <td>NaN</td>\n",
       "      <td>NaN</td>\n",
       "      <td>18.0</td>\n",
       "      <td>60014801</td>\n",
       "      <td>19.0</td>\n",
       "      <td>60014416</td>\n",
       "      <td>14.0</td>\n",
       "      <td>60013139</td>\n",
       "    </tr>\n",
       "    <tr>\n",
       "      <th>1290</th>\n",
       "      <td>99</td>\n",
       "      <td>11</td>\n",
       "      <td>20.0</td>\n",
       "      <td>2021</td>\n",
       "      <td>Azerbaijan Grand Prix</td>\n",
       "      <td>6</td>\n",
       "      <td>Italian</td>\n",
       "      <td>alfa</td>\n",
       "      <td>Swiss</td>\n",
       "      <td>NaN</td>\n",
       "      <td>NaN</td>\n",
       "      <td>NaN</td>\n",
       "      <td>12.0</td>\n",
       "      <td>60045092</td>\n",
       "      <td>7.0</td>\n",
       "      <td>60042941</td>\n",
       "      <td>17.0</td>\n",
       "      <td>60044113</td>\n",
       "    </tr>\n",
       "    <tr>\n",
       "      <th>1298</th>\n",
       "      <td>18</td>\n",
       "      <td>19</td>\n",
       "      <td>19.0</td>\n",
       "      <td>2021</td>\n",
       "      <td>Azerbaijan Grand Prix</td>\n",
       "      <td>6</td>\n",
       "      <td>Canadian</td>\n",
       "      <td>aston_martin</td>\n",
       "      <td>British</td>\n",
       "      <td>NaN</td>\n",
       "      <td>NaN</td>\n",
       "      <td>NaN</td>\n",
       "      <td>13.0</td>\n",
       "      <td>60045234</td>\n",
       "      <td>14.0</td>\n",
       "      <td>60043812</td>\n",
       "      <td>12.0</td>\n",
       "      <td>60043682</td>\n",
       "    </tr>\n",
       "    <tr>\n",
       "      <th>1309</th>\n",
       "      <td>18</td>\n",
       "      <td>10</td>\n",
       "      <td>19.0</td>\n",
       "      <td>2021</td>\n",
       "      <td>French Grand Prix</td>\n",
       "      <td>7</td>\n",
       "      <td>Canadian</td>\n",
       "      <td>aston_martin</td>\n",
       "      <td>British</td>\n",
       "      <td>NaN</td>\n",
       "      <td>NaN</td>\n",
       "      <td>NaN</td>\n",
       "      <td>NaN</td>\n",
       "      <td>58276750</td>\n",
       "      <td>16.0</td>\n",
       "      <td>60034632</td>\n",
       "      <td>14.0</td>\n",
       "      <td>60033051</td>\n",
       "    </tr>\n",
       "    <tr>\n",
       "      <th>1312</th>\n",
       "      <td>22</td>\n",
       "      <td>13</td>\n",
       "      <td>0.0</td>\n",
       "      <td>2021</td>\n",
       "      <td>French Grand Prix</td>\n",
       "      <td>7</td>\n",
       "      <td>Japanese</td>\n",
       "      <td>alphatauri</td>\n",
       "      <td>Italian</td>\n",
       "      <td>NaN</td>\n",
       "      <td>NaN</td>\n",
       "      <td>NaN</td>\n",
       "      <td>NaN</td>\n",
       "      <td>58276750</td>\n",
       "      <td>13.0</td>\n",
       "      <td>60033955</td>\n",
       "      <td>12.0</td>\n",
       "      <td>60032900</td>\n",
       "    </tr>\n",
       "    <tr>\n",
       "      <th>1391</th>\n",
       "      <td>47</td>\n",
       "      <td>12</td>\n",
       "      <td>20.0</td>\n",
       "      <td>2021</td>\n",
       "      <td>Hungarian Grand Prix</td>\n",
       "      <td>11</td>\n",
       "      <td>German</td>\n",
       "      <td>haas</td>\n",
       "      <td>American</td>\n",
       "      <td>NaN</td>\n",
       "      <td>NaN</td>\n",
       "      <td>NaN</td>\n",
       "      <td>NaN</td>\n",
       "      <td>58276750</td>\n",
       "      <td>19.0</td>\n",
       "      <td>60019817</td>\n",
       "      <td>19.0</td>\n",
       "      <td>60019406</td>\n",
       "    </tr>\n",
       "    <tr>\n",
       "      <th>1461</th>\n",
       "      <td>33</td>\n",
       "      <td>2</td>\n",
       "      <td>20.0</td>\n",
       "      <td>2021</td>\n",
       "      <td>Russian Grand Prix</td>\n",
       "      <td>15</td>\n",
       "      <td>Dutch</td>\n",
       "      <td>red_bull</td>\n",
       "      <td>Austrian</td>\n",
       "      <td>NaN</td>\n",
       "      <td>NaN</td>\n",
       "      <td>NaN</td>\n",
       "      <td>3.0</td>\n",
       "      <td>60034654</td>\n",
       "      <td>6.0</td>\n",
       "      <td>60034621</td>\n",
       "      <td>NaN</td>\n",
       "      <td>58276750</td>\n",
       "    </tr>\n",
       "  </tbody>\n",
       "</table>\n",
       "</div>"
      ],
      "text/plain": [
       "      number  position  grid  year                     gpName  gpNumber  \\\n",
       "74         8        15  20.0  2018      Azerbaijan Grand Prix         4   \n",
       "91        28        12  20.0  2018         Spanish Grand Prix         5   \n",
       "108       33         9  20.0  2018          Monaco Grand Prix         6   \n",
       "131        8        12  20.0  2018        Canadian Grand Prix         7   \n",
       "191       18        12  19.0  2018         British Grand Prix        10   \n",
       "199       28        20   0.0  2018         British Grand Prix        10   \n",
       "469       23        10   0.0  2019         Chinese Grand Prix         3   \n",
       "474       99        15  19.0  2019         Chinese Grand Prix         3   \n",
       "489        7        10   0.0  2019      Azerbaijan Grand Prix         4   \n",
       "496       10        17   0.0  2019      Azerbaijan Grand Prix         4   \n",
       "621        5         2  20.0  2019          German Grand Prix        11   \n",
       "676       88        17   0.0  2019         Belgian Grand Prix        13   \n",
       "687       33         8  19.0  2019         Italian Grand Prix        14   \n",
       "713        3        14  20.0  2019       Singapore Grand Prix        15   \n",
       "754       20        15  19.0  2019        Japanese Grand Prix        17   \n",
       "756       88        17   0.0  2019        Japanese Grand Prix        17   \n",
       "802       55         3  20.0  2019       Brazilian Grand Prix        20   \n",
       "872        8        13   0.0  2020         Styrian Grand Prix         2   \n",
       "1211      22        12  20.0  2021  Emilia Romagna Grand Prix         2   \n",
       "1277      47        18  20.0  2021          Monaco Grand Prix         5   \n",
       "1290      99        11  20.0  2021      Azerbaijan Grand Prix         6   \n",
       "1298      18        19  19.0  2021      Azerbaijan Grand Prix         6   \n",
       "1309      18        10  19.0  2021          French Grand Prix         7   \n",
       "1312      22        13   0.0  2021          French Grand Prix         7   \n",
       "1391      47        12  20.0  2021       Hungarian Grand Prix        11   \n",
       "1461      33         2  20.0  2021         Russian Grand Prix        15   \n",
       "\n",
       "     DriverNationality constructorId constructorNationality   Q1   Q2   Q3  \\\n",
       "74              French          haas               American  NaN  NaN  NaN   \n",
       "91       New Zealander    toro_rosso                Italian  NaN  NaN  NaN   \n",
       "108              Dutch      red_bull               Austrian  NaN  NaN  NaN   \n",
       "131             French          haas               American  NaN  NaN  NaN   \n",
       "191           Canadian      williams                British  NaN  NaN  NaN   \n",
       "199      New Zealander    toro_rosso                Italian  NaN  NaN  NaN   \n",
       "469               Thai    toro_rosso                Italian  NaN  NaN  NaN   \n",
       "474            Italian          alfa                  Swiss  NaN  NaN  NaN   \n",
       "489            Finnish          alfa                  Swiss  NaN  NaN  NaN   \n",
       "496             French      red_bull               Austrian  NaN  NaN  NaN   \n",
       "621             German       ferrari                Italian  NaN  NaN  NaN   \n",
       "676             Polish      williams                British  NaN  NaN  NaN   \n",
       "687              Dutch      red_bull               Austrian  NaN  NaN  NaN   \n",
       "713         Australian       renault                 French  NaN  NaN  NaN   \n",
       "754             Danish          haas               American  NaN  NaN  NaN   \n",
       "756             Polish      williams                British  NaN  NaN  NaN   \n",
       "802            Spanish       mclaren                British  NaN  NaN  NaN   \n",
       "872             French          haas               American  NaN  NaN  NaN   \n",
       "1211          Japanese    alphatauri                Italian  NaN  NaN  NaN   \n",
       "1277            German          haas               American  NaN  NaN  NaN   \n",
       "1290           Italian          alfa                  Swiss  NaN  NaN  NaN   \n",
       "1298          Canadian  aston_martin                British  NaN  NaN  NaN   \n",
       "1309          Canadian  aston_martin                British  NaN  NaN  NaN   \n",
       "1312          Japanese    alphatauri                Italian  NaN  NaN  NaN   \n",
       "1391            German          haas               American  NaN  NaN  NaN   \n",
       "1461             Dutch      red_bull               Austrian  NaN  NaN  NaN   \n",
       "\n",
       "      fastestLapRankP1  fastestLapTimeP1  fastestLapRankP2  fastestLapTimeP2  \\\n",
       "74                14.0          60046856              13.0          60044425   \n",
       "91                 NaN          58276750              18.0          60021265   \n",
       "108                3.0          60012280               2.0          60012035   \n",
       "131                NaN          58276750               7.0          60013620   \n",
       "191               10.0          60029878               NaN          58276750   \n",
       "199               19.0          60030749               NaN          58276750   \n",
       "469                NaN          58276750              12.0          60034634   \n",
       "474                NaN          58276750              18.0          60035914   \n",
       "489                NaN          58276750              14.0          60045482   \n",
       "496                NaN          58276750               9.0          60044240   \n",
       "621                1.0          60014013               2.0          60013573   \n",
       "676                NaN          58276750              20.0          60048331   \n",
       "687                NaN          58276750               5.0          60021350   \n",
       "713               11.0          60042527              12.0          60040811   \n",
       "754                NaN          58276750              16.0          60029749   \n",
       "756                NaN          58276750              19.0          60030916   \n",
       "802                NaN          58276750               NaN          58276750   \n",
       "872                NaN          58276750               NaN          58276750   \n",
       "1211               NaN          58276750               7.0          60016419   \n",
       "1277              18.0          60014801              19.0          60014416   \n",
       "1290              12.0          60045092               7.0          60042941   \n",
       "1298              13.0          60045234              14.0          60043812   \n",
       "1309               NaN          58276750              16.0          60034632   \n",
       "1312               NaN          58276750              13.0          60033955   \n",
       "1391               NaN          58276750              19.0          60019817   \n",
       "1461               3.0          60034654               6.0          60034621   \n",
       "\n",
       "      fastestLapRankP3  fastestLapTimeP3  \n",
       "74                15.0          60045261  \n",
       "91                17.0          60019428  \n",
       "108                2.0          60011787  \n",
       "131                9.0          60013014  \n",
       "191                NaN          58276750  \n",
       "199                NaN          58276750  \n",
       "469                9.0          60034600  \n",
       "474               16.0          60035726  \n",
       "489               10.0          60043537  \n",
       "496               20.0          60047836  \n",
       "621                3.0          60012644  \n",
       "676               19.0          60048350  \n",
       "687                2.0          60020326  \n",
       "713               10.0          60040153  \n",
       "754                NaN          58276750  \n",
       "756                NaN          58276750  \n",
       "802               10.0          60009588  \n",
       "872                NaN          58276750  \n",
       "1211              11.0          60016230  \n",
       "1277              14.0          60013139  \n",
       "1290              17.0          60044113  \n",
       "1298              12.0          60043682  \n",
       "1309              14.0          60033051  \n",
       "1312              12.0          60032900  \n",
       "1391              19.0          60019406  \n",
       "1461               NaN          58276750  "
      ]
     },
     "execution_count": 34,
     "metadata": {},
     "output_type": "execute_result"
    }
   ],
   "source": [
    "df_pred_postion[df_pred_postion['Q1'].isna()]"
   ]
  },
  {
   "cell_type": "code",
   "execution_count": 35,
   "metadata": {},
   "outputs": [],
   "source": [
    "def timeStrToIntQ1(df):\n",
    "    l = []\n",
    "    is_na = df['Q1'].isna()\n",
    "    for i in range(len(df['Q1'])):\n",
    "        is_nai = is_na[i]\n",
    "        if  is_nai == False :\n",
    "            value = df['Q1'][i]\n",
    "            if type(value) == np.int64:\n",
    "                l.append(value)\n",
    "            else:\n",
    "                a = value.split(':')\n",
    "                b = list(map(float,a))\n",
    "                l.append(int((b[0]*60*1000 + b[1])*1000))\n",
    "        else:\n",
    "            l.append(120004382)\n",
    "    df['Q1'] = l\n",
    "\n",
    "def timeStrToIntQ2_3(df, Q_number):\n",
    "    l = []\n",
    "    Q = 'Q'+str(Q_number)\n",
    "    is_na = df[Q].isna()\n",
    "    for i in range(len(df[Q])):\n",
    "        is_nai = is_na[i]\n",
    "        if  is_nai == False :\n",
    "            value = df[Q][i]\n",
    "            if type(value) == np.int64:\n",
    "                l.append(value)\n",
    "            else:\n",
    "                a = value.split(':')\n",
    "                b = list(map(float,a))\n",
    "                l.append(int((b[0]*60*1000 + b[1])*1000))\n",
    "        else:\n",
    "            c_name = 'Q'+ str((Q_number-1))\n",
    "            l.append(df[c_name].iloc[i])\n",
    "    df[Q] = l\n"
   ]
  },
  {
   "cell_type": "code",
   "execution_count": 36,
   "metadata": {},
   "outputs": [],
   "source": [
    "timeStrToIntQ1(df_pred_postion)\n",
    "timeStrToIntQ2_3(df_pred_postion,2)\n",
    "timeStrToIntQ2_3(df_pred_postion,3)"
   ]
  },
  {
   "cell_type": "code",
   "execution_count": 37,
   "metadata": {},
   "outputs": [],
   "source": [
    "df_pred_postion = df_pred_postion.dropna(subset=['position'])"
   ]
  },
  {
   "cell_type": "markdown",
   "metadata": {},
   "source": [
    "Now we have to take care of the laps rank, because we don't have the data,\n",
    "we presume it is because the drivers did not compete \n",
    "on those practices sessions. So their ranks are after the last one possible : 21 "
   ]
  },
  {
   "cell_type": "code",
   "execution_count": 38,
   "metadata": {},
   "outputs": [],
   "source": [
    "df_pred_postion.loc[df_pred_postion.fastestLapRankP1.isna(), 'fastestLapRankP1'] = 10\n",
    "df_pred_postion.loc[df_pred_postion.fastestLapRankP2.isna(), 'fastestLapRankP2'] = 10\n",
    "df_pred_postion.loc[df_pred_postion.fastestLapRankP3.isna(), 'fastestLapRankP3'] = 10"
   ]
  },
  {
   "cell_type": "code",
   "execution_count": 39,
   "metadata": {
    "scrolled": true
   },
   "outputs": [
    {
     "data": {
      "text/plain": [
       "number                    0\n",
       "position                  0\n",
       "grid                      0\n",
       "year                      0\n",
       "gpName                    0\n",
       "gpNumber                  0\n",
       "DriverNationality         0\n",
       "constructorId             0\n",
       "constructorNationality    0\n",
       "Q1                        0\n",
       "Q2                        0\n",
       "Q3                        0\n",
       "fastestLapRankP1          0\n",
       "fastestLapTimeP1          0\n",
       "fastestLapRankP2          0\n",
       "fastestLapTimeP2          0\n",
       "fastestLapRankP3          0\n",
       "fastestLapTimeP3          0\n",
       "dtype: int64"
      ]
     },
     "execution_count": 39,
     "metadata": {},
     "output_type": "execute_result"
    }
   ],
   "source": [
    "df_pred_postion.isna().sum()"
   ]
  },
  {
   "cell_type": "markdown",
   "metadata": {},
   "source": [
    "we have noticed that when the driver can't do the Qualifying, it can happen that the driver will have a grid of 0\n",
    "In real life, they start the grand prix from the pit line, we'll assume that the pit line is the position 21 on the grid.\n",
    "To have logique grid data we need to have that : "
   ]
  },
  {
   "cell_type": "code",
   "execution_count": 40,
   "metadata": {},
   "outputs": [],
   "source": [
    "df_pred_postion.loc[df_pred_postion.grid == 0.0, 'grid'] = 21.0"
   ]
  },
  {
   "cell_type": "markdown",
   "metadata": {},
   "source": [
    "## data homogenization"
   ]
  },
  {
   "cell_type": "markdown",
   "metadata": {},
   "source": [
    "Now we have to change the format of some variables to make sure that the classifiers support the data "
   ]
  },
  {
   "cell_type": "code",
   "execution_count": 41,
   "metadata": {},
   "outputs": [
    {
     "data": {
      "text/plain": [
       "Index(['number', 'position', 'grid', 'year', 'gpName', 'gpNumber',\n",
       "       'DriverNationality', 'constructorId', 'constructorNationality', 'Q1',\n",
       "       'Q2', 'Q3', 'fastestLapRankP1', 'fastestLapTimeP1', 'fastestLapRankP2',\n",
       "       'fastestLapTimeP2', 'fastestLapRankP3', 'fastestLapTimeP3'],\n",
       "      dtype='object')"
      ]
     },
     "execution_count": 41,
     "metadata": {},
     "output_type": "execute_result"
    }
   ],
   "source": [
    "df_pred_postion.columns"
   ]
  },
  {
   "cell_type": "code",
   "execution_count": 42,
   "metadata": {},
   "outputs": [],
   "source": [
    "df_features = pd.get_dummies(df_pred_postion, columns = [ 'gpName',\n",
    "       'DriverNationality', 'constructorId', 'constructorNationality'])"
   ]
  },
  {
   "cell_type": "markdown",
   "metadata": {},
   "source": [
    "## Scale data "
   ]
  },
  {
   "cell_type": "code",
   "execution_count": 43,
   "metadata": {},
   "outputs": [],
   "source": [
    "from sklearn.preprocessing import MinMaxScaler"
   ]
  },
  {
   "cell_type": "code",
   "execution_count": 44,
   "metadata": {},
   "outputs": [
    {
     "data": {
      "text/html": [
       "<div>\n",
       "<style scoped>\n",
       "    .dataframe tbody tr th:only-of-type {\n",
       "        vertical-align: middle;\n",
       "    }\n",
       "\n",
       "    .dataframe tbody tr th {\n",
       "        vertical-align: top;\n",
       "    }\n",
       "\n",
       "    .dataframe thead th {\n",
       "        text-align: right;\n",
       "    }\n",
       "</style>\n",
       "<table border=\"1\" class=\"dataframe\">\n",
       "  <thead>\n",
       "    <tr style=\"text-align: right;\">\n",
       "      <th></th>\n",
       "      <th>number</th>\n",
       "      <th>position</th>\n",
       "      <th>grid</th>\n",
       "      <th>year</th>\n",
       "      <th>gpNumber</th>\n",
       "      <th>Q1</th>\n",
       "      <th>Q2</th>\n",
       "      <th>Q3</th>\n",
       "      <th>fastestLapRankP1</th>\n",
       "      <th>fastestLapTimeP1</th>\n",
       "      <th>...</th>\n",
       "      <th>constructorId_toro_rosso</th>\n",
       "      <th>constructorId_williams</th>\n",
       "      <th>constructorNationality_American</th>\n",
       "      <th>constructorNationality_Austrian</th>\n",
       "      <th>constructorNationality_British</th>\n",
       "      <th>constructorNationality_French</th>\n",
       "      <th>constructorNationality_German</th>\n",
       "      <th>constructorNationality_Indian</th>\n",
       "      <th>constructorNationality_Italian</th>\n",
       "      <th>constructorNationality_Swiss</th>\n",
       "    </tr>\n",
       "  </thead>\n",
       "  <tbody>\n",
       "    <tr>\n",
       "      <th>0</th>\n",
       "      <td>5</td>\n",
       "      <td>1</td>\n",
       "      <td>3.0</td>\n",
       "      <td>2018</td>\n",
       "      <td>1</td>\n",
       "      <td>0.499880</td>\n",
       "      <td>0.499869</td>\n",
       "      <td>0.499869</td>\n",
       "      <td>5.0</td>\n",
       "      <td>0.999596</td>\n",
       "      <td>...</td>\n",
       "      <td>0</td>\n",
       "      <td>0</td>\n",
       "      <td>0</td>\n",
       "      <td>0</td>\n",
       "      <td>0</td>\n",
       "      <td>0</td>\n",
       "      <td>0</td>\n",
       "      <td>0</td>\n",
       "      <td>1</td>\n",
       "      <td>0</td>\n",
       "    </tr>\n",
       "    <tr>\n",
       "      <th>1</th>\n",
       "      <td>44</td>\n",
       "      <td>2</td>\n",
       "      <td>1.0</td>\n",
       "      <td>2018</td>\n",
       "      <td>1</td>\n",
       "      <td>0.499876</td>\n",
       "      <td>0.499870</td>\n",
       "      <td>0.499864</td>\n",
       "      <td>1.0</td>\n",
       "      <td>0.999580</td>\n",
       "      <td>...</td>\n",
       "      <td>0</td>\n",
       "      <td>0</td>\n",
       "      <td>0</td>\n",
       "      <td>0</td>\n",
       "      <td>0</td>\n",
       "      <td>0</td>\n",
       "      <td>1</td>\n",
       "      <td>0</td>\n",
       "      <td>0</td>\n",
       "      <td>0</td>\n",
       "    </tr>\n",
       "    <tr>\n",
       "      <th>2</th>\n",
       "      <td>7</td>\n",
       "      <td>3</td>\n",
       "      <td>2.0</td>\n",
       "      <td>2018</td>\n",
       "      <td>1</td>\n",
       "      <td>0.499878</td>\n",
       "      <td>0.499874</td>\n",
       "      <td>0.499869</td>\n",
       "      <td>4.0</td>\n",
       "      <td>0.999594</td>\n",
       "      <td>...</td>\n",
       "      <td>0</td>\n",
       "      <td>0</td>\n",
       "      <td>0</td>\n",
       "      <td>0</td>\n",
       "      <td>0</td>\n",
       "      <td>0</td>\n",
       "      <td>0</td>\n",
       "      <td>0</td>\n",
       "      <td>1</td>\n",
       "      <td>0</td>\n",
       "    </tr>\n",
       "    <tr>\n",
       "      <th>3</th>\n",
       "      <td>3</td>\n",
       "      <td>4</td>\n",
       "      <td>8.0</td>\n",
       "      <td>2018</td>\n",
       "      <td>1</td>\n",
       "      <td>0.499881</td>\n",
       "      <td>0.499877</td>\n",
       "      <td>0.499872</td>\n",
       "      <td>6.0</td>\n",
       "      <td>0.999597</td>\n",
       "      <td>...</td>\n",
       "      <td>0</td>\n",
       "      <td>0</td>\n",
       "      <td>0</td>\n",
       "      <td>1</td>\n",
       "      <td>0</td>\n",
       "      <td>0</td>\n",
       "      <td>0</td>\n",
       "      <td>0</td>\n",
       "      <td>0</td>\n",
       "      <td>0</td>\n",
       "    </tr>\n",
       "    <tr>\n",
       "      <th>4</th>\n",
       "      <td>14</td>\n",
       "      <td>5</td>\n",
       "      <td>10.0</td>\n",
       "      <td>2018</td>\n",
       "      <td>1</td>\n",
       "      <td>0.499882</td>\n",
       "      <td>0.499884</td>\n",
       "      <td>0.499885</td>\n",
       "      <td>8.0</td>\n",
       "      <td>0.999611</td>\n",
       "      <td>...</td>\n",
       "      <td>0</td>\n",
       "      <td>0</td>\n",
       "      <td>0</td>\n",
       "      <td>0</td>\n",
       "      <td>1</td>\n",
       "      <td>0</td>\n",
       "      <td>0</td>\n",
       "      <td>0</td>\n",
       "      <td>0</td>\n",
       "      <td>0</td>\n",
       "    </tr>\n",
       "  </tbody>\n",
       "</table>\n",
       "<p>5 rows × 91 columns</p>\n",
       "</div>"
      ],
      "text/plain": [
       "   number  position  grid  year  gpNumber        Q1        Q2        Q3  \\\n",
       "0       5         1   3.0  2018         1  0.499880  0.499869  0.499869   \n",
       "1      44         2   1.0  2018         1  0.499876  0.499870  0.499864   \n",
       "2       7         3   2.0  2018         1  0.499878  0.499874  0.499869   \n",
       "3       3         4   8.0  2018         1  0.499881  0.499877  0.499872   \n",
       "4      14         5  10.0  2018         1  0.499882  0.499884  0.499885   \n",
       "\n",
       "   fastestLapRankP1  fastestLapTimeP1  ...  constructorId_toro_rosso  \\\n",
       "0               5.0          0.999596  ...                         0   \n",
       "1               1.0          0.999580  ...                         0   \n",
       "2               4.0          0.999594  ...                         0   \n",
       "3               6.0          0.999597  ...                         0   \n",
       "4               8.0          0.999611  ...                         0   \n",
       "\n",
       "   constructorId_williams  constructorNationality_American  \\\n",
       "0                       0                                0   \n",
       "1                       0                                0   \n",
       "2                       0                                0   \n",
       "3                       0                                0   \n",
       "4                       0                                0   \n",
       "\n",
       "   constructorNationality_Austrian  constructorNationality_British  \\\n",
       "0                                0                               0   \n",
       "1                                0                               0   \n",
       "2                                0                               0   \n",
       "3                                1                               0   \n",
       "4                                0                               1   \n",
       "\n",
       "   constructorNationality_French  constructorNationality_German  \\\n",
       "0                              0                              0   \n",
       "1                              0                              1   \n",
       "2                              0                              0   \n",
       "3                              0                              0   \n",
       "4                              0                              0   \n",
       "\n",
       "   constructorNationality_Indian  constructorNationality_Italian  \\\n",
       "0                              0                               1   \n",
       "1                              0                               0   \n",
       "2                              0                               1   \n",
       "3                              0                               0   \n",
       "4                              0                               0   \n",
       "\n",
       "   constructorNationality_Swiss  \n",
       "0                             0  \n",
       "1                             0  \n",
       "2                             0  \n",
       "3                             0  \n",
       "4                             0  \n",
       "\n",
       "[5 rows x 91 columns]"
      ]
     },
     "execution_count": 44,
     "metadata": {},
     "output_type": "execute_result"
    }
   ],
   "source": [
    "scaler = MinMaxScaler()\n",
    "to_scale = ['Q1','Q2', 'Q3','fastestLapTimeP1',\n",
    "       'fastestLapTimeP2', 'fastestLapTimeP3']\n",
    "df_scaled = df_features.copy()\n",
    "df_scaled[to_scale] = scaler.fit_transform(df_scaled[to_scale].to_numpy())\n",
    "df_scaled.head()"
   ]
  },
  {
   "cell_type": "code",
   "execution_count": 45,
   "metadata": {},
   "outputs": [],
   "source": [
    "df_scaled = pd.DataFrame(df_scaled, columns= df_features.columns)"
   ]
  },
  {
   "cell_type": "markdown",
   "metadata": {},
   "source": [
    "## Prediction models with scaled Data "
   ]
  },
  {
   "cell_type": "code",
   "execution_count": 46,
   "metadata": {},
   "outputs": [],
   "source": [
    "from sklearn.model_selection import train_test_split\n",
    "from sklearn.ensemble import RandomForestRegressor\n",
    "from sklearn.ensemble import RandomForestClassifier\n",
    "from sklearn.ensemble import GradientBoostingClassifier\n",
    "from sklearn.linear_model import LinearRegression\n",
    "from sklearn.linear_model import LogisticRegression\n",
    "from sklearn.neighbors import KNeighborsClassifier\n",
    "from sklearn.discriminant_analysis import LinearDiscriminantAnalysis\n",
    "from sklearn.discriminant_analysis import QuadraticDiscriminantAnalysis\n",
    "from sklearn import svm\n",
    "from sklearn.neural_network import MLPClassifier"
   ]
  },
  {
   "cell_type": "code",
   "execution_count": 47,
   "metadata": {},
   "outputs": [],
   "source": [
    "def error_calculation(error):\n",
    "    round_error = round(error)\n",
    "    mape = 100 * (error / y_test)\n",
    "    count = 0\n",
    "    for elmt in round_error:\n",
    "        if elmt==0:\n",
    "            count+=1\n",
    "    print('Mean Absolute Error:', round(np.mean(error), 2))\n",
    "    print('Mean Absolute Percentage Error :', round(np.mean(mape), 2), '%.')\n",
    "    print('Accuracy :',count/len(round_error)*100, '%.')       \n",
    "   "
   ]
  },
  {
   "cell_type": "code",
   "execution_count": 48,
   "metadata": {},
   "outputs": [],
   "source": [
    "def error_calculationNoDisplay(error):\n",
    "    round_error = round(error)\n",
    "    mape = 100 * (error / y_test)\n",
    "    count = 0\n",
    "    for elmt in round_error:\n",
    "        if elmt==0:\n",
    "            count+=1\n",
    "    return [round(np.mean(error), 2),round(np.mean(mape), 2),count/len(round_error)*100]"
   ]
  },
  {
   "cell_type": "code",
   "execution_count": 49,
   "metadata": {},
   "outputs": [],
   "source": [
    "def evaluate(model, test_features, test_labels,display=True):\n",
    "    y_pred = model.predict(test_features) \n",
    "    error = abs(y_pred - test_labels)\n",
    "    error_calculation(error)\n",
    "    return y_pred"
   ]
  },
  {
   "cell_type": "code",
   "execution_count": 50,
   "metadata": {},
   "outputs": [],
   "source": [
    "def evaluateNoDisplay(model, test_features, test_labels,display=True):\n",
    "    y_pred = model.predict(test_features) \n",
    "    error = abs(y_pred - test_labels)\n",
    "    return y_pred,error_calculationNoDisplay(error)"
   ]
  },
  {
   "cell_type": "code",
   "execution_count": 51,
   "metadata": {},
   "outputs": [],
   "source": [
    "def test_train_creation(df):\n",
    "    train, test = train_test_split(df, test_size=0.2)\n",
    "    X_train = train.drop(['position'], axis=1)\n",
    "    y_train = train['position']\n",
    "    X_test = test.drop(['position'], axis=1)\n",
    "    y_test = test['position']\n",
    "    return X_train,y_train,X_test,y_test"
   ]
  },
  {
   "cell_type": "markdown",
   "metadata": {},
   "source": [
    "Dictionnary to save the accuracy of the different models"
   ]
  },
  {
   "cell_type": "code",
   "execution_count": 52,
   "metadata": {},
   "outputs": [],
   "source": [
    "accuracy_pred = {}"
   ]
  },
  {
   "cell_type": "markdown",
   "metadata": {},
   "source": [
    "### We try a Random forest "
   ]
  },
  {
   "cell_type": "code",
   "execution_count": 53,
   "metadata": {},
   "outputs": [],
   "source": [
    "X_train,y_train,X_test,y_test = test_train_creation(df_scaled)"
   ]
  },
  {
   "cell_type": "code",
   "execution_count": 54,
   "metadata": {},
   "outputs": [
    {
     "data": {
      "text/plain": [
       "0.9167210937267363"
      ]
     },
     "execution_count": 54,
     "metadata": {},
     "output_type": "execute_result"
    }
   ],
   "source": [
    "random_forest = RandomForestRegressor() \n",
    "model_rd = random_forest.fit(X_train, y_train)\n",
    "model_rd.score(X_train,y_train)"
   ]
  },
  {
   "cell_type": "code",
   "execution_count": 55,
   "metadata": {},
   "outputs": [
    {
     "name": "stdout",
     "output_type": "stream",
     "text": [
      "Mean Absolute Error: 3.75\n",
      "Mean Absolute Percentage Error : 70.65 %.\n",
      "Accuracy : 9.25925925925926 %.\n"
     ]
    }
   ],
   "source": [
    "y_pred = evaluate(random_forest, X_test, y_test)"
   ]
  },
  {
   "cell_type": "code",
   "execution_count": 56,
   "metadata": {
    "scrolled": false
   },
   "outputs": [
    {
     "data": {
      "text/plain": [
       "Text(0.5, 0, 'Relative Importance')"
      ]
     },
     "execution_count": 56,
     "metadata": {},
     "output_type": "execute_result"
    },
    {
     "data": {
      "image/png": "[encoded data removed]",
      "text/plain": [
       "<Figure size 432x288 with 1 Axes>"
      ]
     },
     "metadata": {
      "needs_background": "light"
     },
     "output_type": "display_data"
    }
   ],
   "source": [
    "importances = model_rd.feature_importances_\n",
    "indices = np.argsort(importances)\n",
    "plt.figure(1)\n",
    "plt.title('Feature Importances')\n",
    "plt.barh(range(len(indices)), importances[indices], color='b', align='center')\n",
    "plt.yticks(range(len(indices)), [X_test.columns[i] for i in indices])\n",
    "plt.xlabel('Relative Importance')"
   ]
  },
  {
   "cell_type": "markdown",
   "metadata": {},
   "source": [
    "We can see from this graph that most of the features like the nationality ones are note usefull at all. 5 we'll drop those columns later, after the comparison with the not scaled data"
   ]
  },
  {
   "cell_type": "code",
   "execution_count": 57,
   "metadata": {},
   "outputs": [
    {
     "data": {
      "text/plain": [
       "['gpName_Eifel Grand Prix',\n",
       " 'DriverNationality_Spanish',\n",
       " 'year',\n",
       " 'fastestLapTimeP1',\n",
       " 'Q2',\n",
       " 'Q3',\n",
       " 'gpNumber',\n",
       " 'Q1',\n",
       " 'number',\n",
       " 'fastestLapTimeP3',\n",
       " 'fastestLapRankP1',\n",
       " 'fastestLapTimeP2',\n",
       " 'fastestLapRankP3',\n",
       " 'fastestLapRankP2',\n",
       " 'grid']"
      ]
     },
     "execution_count": 57,
     "metadata": {},
     "output_type": "execute_result"
    }
   ],
   "source": [
    "[X_test.columns[i] for i in indices][-15:]"
   ]
  },
  {
   "cell_type": "markdown",
   "metadata": {},
   "source": [
    "## Searching a good regression algorithm ,Not scaled data ( to compare )"
   ]
  },
  {
   "cell_type": "code",
   "execution_count": 58,
   "metadata": {},
   "outputs": [],
   "source": [
    "X_train,y_train,X_test,y_test = test_train_creation(df_features)"
   ]
  },
  {
   "cell_type": "code",
   "execution_count": 59,
   "metadata": {},
   "outputs": [
    {
     "name": "stdout",
     "output_type": "stream",
     "text": [
      "Score on train data: 0.4708197864580883\n",
      "Mean Absolute Error: 3.41\n",
      "Mean Absolute Percentage Error : 58.79 %.\n",
      "Accuracy : 11.11111111111111 %.\n"
     ]
    }
   ],
   "source": [
    "model_lm = LinearRegression()\n",
    "model_lm.fit(X_train, y_train)\n",
    "print('Score on train data:',model_lm.score(X_train, y_train))\n",
    "y_pred = evaluate(model_lm, X_test, y_test)\n",
    "accuracy_pred['LinearRegression']= evaluateNoDisplay(model_lm, X_test, y_test)"
   ]
  },
  {
   "cell_type": "code",
   "execution_count": 60,
   "metadata": {},
   "outputs": [
    {
     "name": "stdout",
     "output_type": "stream",
     "text": [
      "Score on train data: 0.9104116382902804\n",
      "Mean Absolute Error: 3.37\n",
      "Mean Absolute Percentage Error : 60.42 %.\n",
      "Accuracy : 10.802469135802468 %.\n"
     ]
    }
   ],
   "source": [
    "random_forest = RandomForestRegressor() \n",
    "model_rd = random_forest.fit(X_train, y_train)\n",
    "print('Score on train data:',model_rd.score(X_train, y_train))\n",
    "y_pred = evaluate(random_forest, X_test, y_test)\n",
    "accuracy_pred['RandomForestRegressor']= evaluateNoDisplay(random_forest, X_test, y_test)"
   ]
  },
  {
   "cell_type": "code",
   "execution_count": 61,
   "metadata": {},
   "outputs": [
    {
     "name": "stdout",
     "output_type": "stream",
     "text": [
      "Score on train data: 0.2579150579150579\n",
      "Mean Absolute Error: 4.1\n",
      "Mean Absolute Percentage Error : 47.0 %.\n",
      "Accuracy : 6.790123456790123 %.\n"
     ]
    }
   ],
   "source": [
    "lda = LinearDiscriminantAnalysis(solver=\"svd\", store_covariance=True)\n",
    "y_pred = lda.fit(X_train, y_train).predict(X_test)\n",
    "print('Score on train data:',lda.score(X_train, y_train))\n",
    "y_pred = evaluate(lda, X_test, y_test)\n",
    "accuracy_pred['LDA']= evaluateNoDisplay(lda, X_test, y_test)"
   ]
  },
  {
   "cell_type": "code",
   "execution_count": 62,
   "metadata": {},
   "outputs": [
    {
     "name": "stdout",
     "output_type": "stream",
     "text": [
      "Score on train data: 0.7312741312741313\n",
      "Mean Absolute Error: 4.87\n",
      "Mean Absolute Percentage Error : 50.66 %.\n",
      "Accuracy : 6.790123456790123 %.\n"
     ]
    },
    {
     "name": "stderr",
     "output_type": "stream",
     "text": [
      "C:\\Users\\benja\\anaconda3\\lib\\site-packages\\sklearn\\discriminant_analysis.py:715: UserWarning: Variables are collinear\n",
      "  warnings.warn(\"Variables are collinear\")\n"
     ]
    }
   ],
   "source": [
    "qda = QuadraticDiscriminantAnalysis(store_covariance=True)\n",
    "y_pred = qda.fit(X_train, y_train).predict(X_test)\n",
    "print('Score on train data:',qda.score(X_train, y_train))\n",
    "y_pred = evaluate(qda, X_test, y_test)\n",
    "accuracy_pred['QDA']= evaluateNoDisplay(qda, X_test, y_test)"
   ]
  },
  {
   "cell_type": "code",
   "execution_count": 63,
   "metadata": {},
   "outputs": [
    {
     "name": "stdout",
     "output_type": "stream",
     "text": [
      "Score on train data: 0.047104247104247106\n",
      "Mean Absolute Error: 6.07\n",
      "Mean Absolute Percentage Error : 155.13 %.\n",
      "Accuracy : 8.024691358024691 %.\n"
     ]
    }
   ],
   "source": [
    "clf = MLPClassifier()\n",
    "clf.fit(X_train, y_train)\n",
    "print('Score on train data:',clf.score(X_train, y_train))\n",
    "y_pred = evaluate(clf, X_test, y_test)\n",
    "accuracy_pred['MLPClassifier']= evaluateNoDisplay(clf, X_test, y_test)"
   ]
  },
  {
   "cell_type": "markdown",
   "metadata": {},
   "source": [
    "The results show that it is ambiguous between scaled or not scaled data we should use. The random forest seems to be the best option."
   ]
  },
  {
   "cell_type": "markdown",
   "metadata": {},
   "source": [
    "## Drop useless/non significant columns"
   ]
  },
  {
   "cell_type": "code",
   "execution_count": 64,
   "metadata": {},
   "outputs": [],
   "source": [
    "df_features2 =  pd.get_dummies(df_pred_postion, columns = ['constructorId'])\n"
   ]
  },
  {
   "cell_type": "code",
   "execution_count": 65,
   "metadata": {},
   "outputs": [],
   "source": [
    "df_features2=df_features2.drop(['DriverNationality','constructorNationality','gpName'], axis=1)"
   ]
  },
  {
   "cell_type": "code",
   "execution_count": 66,
   "metadata": {},
   "outputs": [
    {
     "data": {
      "text/plain": [
       "(1619, 29)"
      ]
     },
     "execution_count": 66,
     "metadata": {},
     "output_type": "execute_result"
    }
   ],
   "source": [
    "df_features2.shape"
   ]
  },
  {
   "cell_type": "code",
   "execution_count": 67,
   "metadata": {},
   "outputs": [],
   "source": [
    "scaler = MinMaxScaler()\n",
    "to_scale = ['Q1','Q2', 'Q3','fastestLapTimeP1',\n",
    "       'fastestLapTimeP2', 'fastestLapTimeP3']\n",
    "df_scaled2 = df_features2.copy()\n",
    "df_scaled2[to_scale] = scaler.fit_transform(df_scaled2[to_scale].to_numpy())\n",
    "df_scaled2 = pd.DataFrame(df_scaled2, columns= df_features2.columns)"
   ]
  },
  {
   "cell_type": "code",
   "execution_count": 68,
   "metadata": {},
   "outputs": [
    {
     "data": {
      "text/plain": [
       "Index(['number', 'position', 'grid', 'year', 'gpNumber', 'Q1', 'Q2', 'Q3',\n",
       "       'fastestLapRankP1', 'fastestLapTimeP1', 'fastestLapRankP2',\n",
       "       'fastestLapTimeP2', 'fastestLapRankP3', 'fastestLapTimeP3',\n",
       "       'constructorId_alfa', 'constructorId_alphatauri',\n",
       "       'constructorId_alpine', 'constructorId_aston_martin',\n",
       "       'constructorId_ferrari', 'constructorId_force_india',\n",
       "       'constructorId_haas', 'constructorId_mclaren', 'constructorId_mercedes',\n",
       "       'constructorId_racing_point', 'constructorId_red_bull',\n",
       "       'constructorId_renault', 'constructorId_sauber',\n",
       "       'constructorId_toro_rosso', 'constructorId_williams'],\n",
       "      dtype='object')"
      ]
     },
     "execution_count": 68,
     "metadata": {},
     "output_type": "execute_result"
    }
   ],
   "source": [
    "df_scaled2.columns"
   ]
  },
  {
   "cell_type": "markdown",
   "metadata": {},
   "source": [
    "## The data is now trained considering the season and not the previous ones ( exeption for the first GP)"
   ]
  },
  {
   "cell_type": "markdown",
   "metadata": {},
   "source": [
    "This choice has been made to have a better match with the reality ( we don't have the results of the future GP)"
   ]
  },
  {
   "cell_type": "code",
   "execution_count": 69,
   "metadata": {},
   "outputs": [],
   "source": [
    "def which_gp(gpNumber,year,df):\n",
    "    if gpNumber != 1:\n",
    "        idx = df[(df['gpNumber']==gpNumber) & (df['year']==year)].index[0]\n",
    "        idx_begin = df[df['year']==year].index[0]\n",
    "        idx_end = idx+20\n",
    "        train = df.iloc[idx_begin:idx]\n",
    "        test = df.iloc[idx:idx_end]\n",
    "    else:\n",
    "        idx = df[(df['gpNumber']==gpNumber) & (df['year']==year)].index[0]\n",
    "        idx_begin = df[df['year']==(year-1)].index[0]\n",
    "        idx_end = idx+20\n",
    "        train = df.iloc[idx_begin:idx]\n",
    "        test = df.iloc[idx:idx_end]\n",
    "    return train,test"
   ]
  },
  {
   "cell_type": "markdown",
   "metadata": {},
   "source": [
    "#### Test without the new data format"
   ]
  },
  {
   "cell_type": "code",
   "execution_count": 70,
   "metadata": {
    "scrolled": true
   },
   "outputs": [],
   "source": [
    "X_train,y_train,X_test,y_test = test_train_creation(df_features2)"
   ]
  },
  {
   "cell_type": "code",
   "execution_count": 71,
   "metadata": {},
   "outputs": [
    {
     "name": "stdout",
     "output_type": "stream",
     "text": [
      "Score on train data: 0.42857142857142855\n",
      "Mean Absolute Error: 3.42\n",
      "Mean Absolute Percentage Error : 37.86 %.\n",
      "Accuracy : 15.432098765432098 %.\n"
     ]
    }
   ],
   "source": [
    "clf = RandomForestClassifier(max_depth=5, random_state=1)\n",
    "model_rf = clf.fit(X_train, y_train)\n",
    "print('Score on train data:',clf.score(X_train, y_train))\n",
    "y_pred = evaluate(clf, X_test, y_test)"
   ]
  },
  {
   "cell_type": "markdown",
   "metadata": {},
   "source": [
    "#### test with the good data format"
   ]
  },
  {
   "cell_type": "code",
   "execution_count": 72,
   "metadata": {},
   "outputs": [],
   "source": [
    "def test_train_creation_gp(df,year,gpNumber):\n",
    "    train, test = which_gp(gpNumber,year,df)\n",
    "    X_train = train.drop(['position'], axis=1)\n",
    "    y_train = train['position']\n",
    "    X_test = test.drop(['position'], axis=1)\n",
    "    y_test = test['position']\n",
    "    return X_train,y_train,X_test,y_test"
   ]
  },
  {
   "cell_type": "code",
   "execution_count": 73,
   "metadata": {},
   "outputs": [],
   "source": [
    "X_train,y_train,X_test,y_test = test_train_creation_gp(df_features2,2021,21)"
   ]
  },
  {
   "cell_type": "code",
   "execution_count": 74,
   "metadata": {},
   "outputs": [
    {
     "name": "stdout",
     "output_type": "stream",
     "text": [
      "Score on train data: 1.0\n",
      "Mean Absolute Error: 3.7\n",
      "Mean Absolute Percentage Error : 41.28 %.\n",
      "Accuracy : 15.0 %.\n"
     ]
    }
   ],
   "source": [
    "clf = RandomForestClassifier()\n",
    "model_rf = clf.fit(X_train, y_train)\n",
    "print('Score on train data:',clf.score(X_train, y_train))\n",
    "y_pred = evaluate(clf, X_test, y_test)"
   ]
  },
  {
   "cell_type": "code",
   "execution_count": 75,
   "metadata": {
    "scrolled": true
   },
   "outputs": [
    {
     "name": "stdout",
     "output_type": "stream",
     "text": [
      "Score on train data: 0.9196694511278196\n",
      "Mean Absolute Error: 3.23\n",
      "Mean Absolute Percentage Error : 68.53 %.\n",
      "Accuracy : 5.0 %.\n"
     ]
    }
   ],
   "source": [
    "clf = RandomForestRegressor()\n",
    "model_rf = clf.fit(X_train, y_train)\n",
    "print('Score on train data:',clf.score(X_train, y_train))\n",
    "y_pred = evaluate(clf, X_test, y_test)"
   ]
  },
  {
   "cell_type": "markdown",
   "metadata": {},
   "source": [
    "#### We must have have,as a result, a ranking of every driver."
   ]
  },
  {
   "cell_type": "code",
   "execution_count": 76,
   "metadata": {},
   "outputs": [],
   "source": [
    "def rank(y_pred):\n",
    "    y_pred_1 =  sorted(y_pred.copy())\n",
    "    for i in range(len(y_pred_1)):\n",
    "        for j in range(len(y_pred)):\n",
    "            if y_pred_1[i] == y_pred[j]:\n",
    "                y_pred_1[i] = j+1\n",
    "    return y_pred_1"
   ]
  },
  {
   "cell_type": "code",
   "execution_count": 77,
   "metadata": {},
   "outputs": [],
   "source": [
    "def evaluaterank(test_labels,y_pred):\n",
    "    y_pred = rank(y_pred)\n",
    "    error = abs(y_pred - test_labels)\n",
    "    error_calculation(error)\n",
    "    return y_pred"
   ]
  },
  {
   "cell_type": "code",
   "execution_count": 78,
   "metadata": {},
   "outputs": [],
   "source": [
    "def evaluaterankNoDisplay(test_labels,y_pred):\n",
    "    y_pred = rank(y_pred)\n",
    "    error = abs(y_pred - test_labels)\n",
    "    return y_pred,error_calculationNoDisplay(error)"
   ]
  },
  {
   "cell_type": "code",
   "execution_count": 79,
   "metadata": {},
   "outputs": [
    {
     "name": "stdout",
     "output_type": "stream",
     "text": [
      "Mean Absolute Error: 2.8\n",
      "Mean Absolute Percentage Error : 44.47 %.\n",
      "Accuracy : 20.0 %.\n"
     ]
    },
    {
     "data": {
      "text/plain": [
       "([2, 3, 7, 1, 17, 6, 10, 5, 8, 4, 9, 15, 13, 14, 11, 16, 19, 20, 12, 18],\n",
       " [2.8, 44.47, 20.0])"
      ]
     },
     "execution_count": 79,
     "metadata": {},
     "output_type": "execute_result"
    }
   ],
   "source": [
    "y_pred_reg = evaluaterank(y_test,y_pred)\n",
    "y_pred_reg = evaluaterankNoDisplay(y_test,y_pred)\n",
    "y_pred_reg"
   ]
  },
  {
   "cell_type": "markdown",
   "metadata": {},
   "source": [
    "## Finding the best classification algorithm with scaled data"
   ]
  },
  {
   "cell_type": "code",
   "execution_count": 80,
   "metadata": {},
   "outputs": [],
   "source": [
    "X_train,y_train,X_test,y_test = test_train_creation_gp(df_scaled2,2019,10)"
   ]
  },
  {
   "cell_type": "code",
   "execution_count": 81,
   "metadata": {},
   "outputs": [
    {
     "name": "stdout",
     "output_type": "stream",
     "text": [
      "Score on train data: 1.0\n",
      "Mean Absolute Error: 2.9\n",
      "Mean Absolute Percentage Error : 25.25 %.\n",
      "Accuracy : 25.0 %.\n"
     ]
    }
   ],
   "source": [
    "random_forest = RandomForestClassifier() \n",
    "model_rd = random_forest.fit(X_train, y_train)\n",
    "print('Score on train data:',random_forest.score(X_train, y_train))\n",
    "y_pred = evaluate(random_forest, X_test, y_test)\n",
    "accuracy_pred['RFClf']= evaluateNoDisplay(random_forest, X_test, y_test)"
   ]
  },
  {
   "cell_type": "code",
   "execution_count": 82,
   "metadata": {
    "scrolled": true
   },
   "outputs": [
    {
     "data": {
      "text/plain": [
       "Text(0.5, 0, 'Relative Importance')"
      ]
     },
     "execution_count": 82,
     "metadata": {},
     "output_type": "execute_result"
    },
    {
     "data": {
      "image/png": "[encoded data removed]",
      "text/plain": [
       "<Figure size 432x288 with 1 Axes>"
      ]
     },
     "metadata": {
      "needs_background": "light"
     },
     "output_type": "display_data"
    }
   ],
   "source": [
    "importances = model_rd.feature_importances_\n",
    "indices = np.argsort(importances)\n",
    "plt.figure(1)\n",
    "plt.title('Feature Importances')\n",
    "plt.barh(range(len(indices)), importances[indices], color='b', align='center')\n",
    "plt.yticks(range(len(indices)), [X_test.columns[i] for i in indices])\n",
    "plt.xlabel('Relative Importance')"
   ]
  },
  {
   "cell_type": "code",
   "execution_count": 83,
   "metadata": {},
   "outputs": [
    {
     "name": "stdout",
     "output_type": "stream",
     "text": [
      "Score on train data: 1.0\n",
      "Mean Absolute Error: 5.05\n",
      "Mean Absolute Percentage Error : 135.88 %.\n",
      "Accuracy : 5.0 %.\n"
     ]
    },
    {
     "name": "stderr",
     "output_type": "stream",
     "text": [
      "C:\\Users\\benja\\anaconda3\\lib\\site-packages\\sklearn\\svm\\_base.py:976: ConvergenceWarning: Liblinear failed to converge, increase the number of iterations.\n",
      "  warnings.warn(\"Liblinear failed to converge, increase \"\n"
     ]
    }
   ],
   "source": [
    "model_svm = svm.LinearSVC()\n",
    "model_svm.fit(X_train, y_train)\n",
    "print('Score on train data:',random_forest.score(X_train, y_train))\n",
    "y_pred = evaluate(model_svm, X_test, y_test)\n",
    "accuracy_pred['svm.LinearSVC']= evaluateNoDisplay(model_svm, X_test, y_test)"
   ]
  },
  {
   "cell_type": "code",
   "execution_count": 84,
   "metadata": {},
   "outputs": [
    {
     "name": "stdout",
     "output_type": "stream",
     "text": [
      "Score on train data: 0.39444444444444443\n",
      "Mean Absolute Error: 2.75\n",
      "Mean Absolute Percentage Error : 20.24 %.\n",
      "Accuracy : 30.0 %.\n"
     ]
    }
   ],
   "source": [
    "knn = KNeighborsClassifier(n_neighbors=4)\n",
    "knn.fit(X_train, y_train)\n",
    "print('Score on train data:',knn.score(X_train, y_train))\n",
    "y_pred = evaluate(knn, X_test, y_test)\n",
    "accuracy_pred['knn']= evaluateNoDisplay(knn, X_test, y_test)"
   ]
  },
  {
   "cell_type": "code",
   "execution_count": 85,
   "metadata": {},
   "outputs": [
    {
     "name": "stdout",
     "output_type": "stream",
     "text": [
      "Score on train data: 0.26666666666666666\n",
      "Mean Absolute Error: 3.55\n",
      "Mean Absolute Percentage Error : 41.33 %.\n",
      "Accuracy : 10.0 %.\n"
     ]
    },
    {
     "name": "stderr",
     "output_type": "stream",
     "text": [
      "C:\\Users\\benja\\anaconda3\\lib\\site-packages\\sklearn\\linear_model\\_logistic.py:762: ConvergenceWarning: lbfgs failed to converge (status=1):\n",
      "STOP: TOTAL NO. of ITERATIONS REACHED LIMIT.\n",
      "\n",
      "Increase the number of iterations (max_iter) or scale the data as shown in:\n",
      "    https://scikit-learn.org/stable/modules/preprocessing.html\n",
      "Please also refer to the documentation for alternative solver options:\n",
      "    https://scikit-learn.org/stable/modules/linear_model.html#logistic-regression\n",
      "  n_iter_i = _check_optimize_result(\n"
     ]
    }
   ],
   "source": [
    "log_Reg = LogisticRegression()\n",
    "log_Reg.fit(X_train, y_train)\n",
    "print('Score on train data:',log_Reg.score(X_train, y_train))\n",
    "y_pred = evaluate(log_Reg, X_test, y_test)\n",
    "accuracy_pred['Log_reg']= evaluateNoDisplay(log_Reg, X_test, y_test)"
   ]
  },
  {
   "cell_type": "code",
   "execution_count": 86,
   "metadata": {
    "scrolled": true
   },
   "outputs": [
    {
     "name": "stdout",
     "output_type": "stream",
     "text": [
      "Score on train data: 1.0\n",
      "Mean Absolute Error: 3.55\n",
      "Mean Absolute Percentage Error : 35.1 %.\n",
      "Accuracy : 25.0 %.\n"
     ]
    }
   ],
   "source": [
    "clf = GradientBoostingClassifier()\n",
    "clf.fit(X_train, y_train)\n",
    "print('Score on train data:',clf.score(X_train, y_train))\n",
    "y_pred = evaluate(clf, X_test, y_test)\n",
    "accuracy_pred['GradientBoostClf']= evaluateNoDisplay(clf, X_test, y_test)                           "
   ]
  },
  {
   "cell_type": "markdown",
   "metadata": {},
   "source": [
    "## Choice of the good model"
   ]
  },
  {
   "cell_type": "code",
   "execution_count": 87,
   "metadata": {},
   "outputs": [],
   "source": [
    "label_ = [x for x in accuracy_pred]\n",
    "label_.append('RdfRegRank')"
   ]
  },
  {
   "cell_type": "code",
   "execution_count": 88,
   "metadata": {},
   "outputs": [],
   "source": [
    "y = list(accuracy_pred.values())\n",
    "y.append([[0,1],[2.9,25.45,25.0]]) #calculated previously\n",
    "acc = [x_[1] for x_ in y]\n",
    "x0 =  [x_[0] for x_ in acc]\n",
    "x1 =  [x_[1] for x_ in acc]\n",
    "x1[4] = 100\n",
    "x2 =  [x_[2] for x_ in acc]"
   ]
  },
  {
   "cell_type": "code",
   "execution_count": 89,
   "metadata": {
    "scrolled": false
   },
   "outputs": [
    {
     "data": {
      "image/png": "[encoded data removed]",
      "text/plain": [
       "<Figure size 1224x504 with 1 Axes>"
      ]
     },
     "metadata": {
      "needs_background": "light"
     },
     "output_type": "display_data"
    }
   ],
   "source": [
    "x = np.arange(len(label_))  # the label locations\n",
    "width = 0.3\n",
    "fig, ax = plt.subplots(figsize = (17,7))\n",
    "a1 = ax.bar(x- width,x0,width,label = 'Mean Absolute Error')\n",
    "a2 = ax.bar(x,x1,width,label = 'Mean Absolute Percentage Error')\n",
    "a3 = ax.bar(x+ width,x2,width,label = 'Accuracy')\n",
    "ax.bar_label(a1, padding=4)\n",
    "ax.bar_label(a2, padding=4)\n",
    "ax.bar_label(a3, padding=4)\n",
    "ax.set_title('Accuracy in fonction of the position')\n",
    "ax.set_ylabel('Mean accuracy in %')\n",
    "ax.set_xlabel('Models')\n",
    "ax.set_ylabel('Scores')\n",
    "ax.set_title('Models insights')\n",
    "ax.set_xticks(x, label_)\n",
    "ax.legend()\n",
    "plt.grid(axis='y', color='0.8')\n",
    "ax.set_facecolor('seashell')\n",
    "plt.tight_layout();"
   ]
  },
  {
   "cell_type": "markdown",
   "metadata": {},
   "source": [
    "We have the Random forest Classifier and the Knn which can give some good results. The problem with the knn is that it will not always classifie the 20 position but maybe just 6 or 7. Therefore we prefere to stay on the Random Forest Classifier or The Random Forest Regressor with the rank technique applied ."
   ]
  },
  {
   "cell_type": "markdown",
   "metadata": {},
   "source": [
    "We can see that the results are the best for the Random Forest. Now we have to improve this result"
   ]
  },
  {
   "cell_type": "markdown",
   "metadata": {},
   "source": [
    "In classification or in regression (+rank), random forest seems to be the best. We'll try to make the classification and the regressio,n work together  "
   ]
  },
  {
   "cell_type": "markdown",
   "metadata": {},
   "source": [
    "# Test Random Forest with GridSearch "
   ]
  },
  {
   "cell_type": "markdown",
   "metadata": {},
   "source": [
    "## Not Scaled "
   ]
  },
  {
   "cell_type": "code",
   "execution_count": 90,
   "metadata": {},
   "outputs": [],
   "source": [
    "X_train,y_train,X_test,y_test = test_train_creation_gp(df_features2,2021,10)"
   ]
  },
  {
   "cell_type": "code",
   "execution_count": 91,
   "metadata": {},
   "outputs": [],
   "source": [
    "from sklearn.model_selection import RandomizedSearchCV\n",
    "from sklearn.model_selection import GridSearchCV"
   ]
  },
  {
   "cell_type": "markdown",
   "metadata": {},
   "source": [
    "### Regression "
   ]
  },
  {
   "cell_type": "code",
   "execution_count": 92,
   "metadata": {},
   "outputs": [],
   "source": [
    "\n",
    "n_estimators = [100,200,400,600,800]\n",
    "max_features = ['auto', 'sqrt']\n",
    "max_depth = [3,5,10,20,30]\n",
    "max_depth.append(None)\n",
    "min_samples_split = [2, 5]\n",
    "min_samples_leaf = [1, 2]\n",
    "random_grid = {'n_estimators': n_estimators,\n",
    "               'max_features': max_features,\n",
    "               'max_depth': max_depth,\n",
    "               'min_samples_split': min_samples_split,\n",
    "               'min_samples_leaf': min_samples_leaf}"
   ]
  },
  {
   "cell_type": "code",
   "execution_count": 93,
   "metadata": {},
   "outputs": [
    {
     "name": "stdout",
     "output_type": "stream",
     "text": [
      "Fitting 2 folds for each of 100 candidates, totalling 200 fits\n"
     ]
    },
    {
     "name": "stderr",
     "output_type": "stream",
     "text": [
      "[Parallel(n_jobs=-1)]: Using backend LokyBackend with 8 concurrent workers.\n",
      "[Parallel(n_jobs=-1)]: Done  25 tasks      | elapsed:   12.4s\n",
      "[Parallel(n_jobs=-1)]: Done 146 tasks      | elapsed:   35.5s\n",
      "[Parallel(n_jobs=-1)]: Done 200 out of 200 | elapsed:   46.3s finished\n"
     ]
    },
    {
     "data": {
      "text/plain": [
       "RandomizedSearchCV(cv=2, estimator=RandomForestRegressor(), n_iter=100,\n",
       "                   n_jobs=-1,\n",
       "                   param_distributions={'max_depth': [3, 5, 10, 20, 30, None],\n",
       "                                        'max_features': ['auto', 'sqrt'],\n",
       "                                        'min_samples_leaf': [1, 2],\n",
       "                                        'min_samples_split': [2, 5],\n",
       "                                        'n_estimators': [100, 200, 400, 600,\n",
       "                                                         800]},\n",
       "                   random_state=42, verbose=2)"
      ]
     },
     "execution_count": 93,
     "metadata": {},
     "output_type": "execute_result"
    }
   ],
   "source": [
    "rf = RandomForestRegressor()\n",
    "rf_random = RandomizedSearchCV(estimator = rf, param_distributions = random_grid, n_iter = 100, cv = 2, verbose=2, random_state=42, n_jobs = -1)\n",
    "rf_random.fit(X_train, y_train)"
   ]
  },
  {
   "cell_type": "code",
   "execution_count": 94,
   "metadata": {},
   "outputs": [
    {
     "data": {
      "text/plain": [
       "RandomForestRegressor(max_depth=30, min_samples_leaf=2, min_samples_split=5)"
      ]
     },
     "execution_count": 94,
     "metadata": {},
     "output_type": "execute_result"
    }
   ],
   "source": [
    "best_random = rf_random.best_estimator_\n",
    "best_random"
   ]
  },
  {
   "cell_type": "code",
   "execution_count": 95,
   "metadata": {},
   "outputs": [
    {
     "name": "stdout",
     "output_type": "stream",
     "text": [
      "Score on train data: 0.8720379973033416\n",
      "Mean Absolute Error: 3.99\n",
      "Mean Absolute Percentage Error : 80.22 %.\n",
      "Accuracy : 10.0 %.\n"
     ]
    }
   ],
   "source": [
    "print('Score on train data:',best_random.score(X_train, y_train))\n",
    "y_pred = evaluate(best_random, X_test, y_test)"
   ]
  },
  {
   "cell_type": "code",
   "execution_count": 96,
   "metadata": {},
   "outputs": [
    {
     "data": {
      "text/plain": [
       "array([ 7.11340476,  7.24188889,  8.78345238,  6.45194444,  6.19959524,\n",
       "       10.27478571,  8.54666667, 12.68130556, 10.41852778, 12.93404365,\n",
       "        9.05218498, 13.39732143, 12.80264286, 13.53032143, 10.31594048,\n",
       "       10.70213736, 14.70520238, 14.77880952,  6.59992857,  7.85027778])"
      ]
     },
     "execution_count": 96,
     "metadata": {},
     "output_type": "execute_result"
    }
   ],
   "source": [
    "y_pred"
   ]
  },
  {
   "cell_type": "code",
   "execution_count": 97,
   "metadata": {},
   "outputs": [
    {
     "name": "stdout",
     "output_type": "stream",
     "text": [
      "Mean Absolute Error: 4.5\n",
      "Mean Absolute Percentage Error : 88.83 %.\n",
      "Accuracy : 5.0 %.\n"
     ]
    }
   ],
   "source": [
    "y_pred = evaluaterank(y_test,y_pred)"
   ]
  },
  {
   "cell_type": "code",
   "execution_count": 98,
   "metadata": {
    "scrolled": true
   },
   "outputs": [
    {
     "data": {
      "text/plain": [
       "[5, 4, 19, 1, 2, 20, 7, 3, 11, 6, 15, 9, 16, 8, 13, 10, 12, 14, 17, 18]"
      ]
     },
     "execution_count": 98,
     "metadata": {},
     "output_type": "execute_result"
    }
   ],
   "source": [
    "y_pred"
   ]
  },
  {
   "cell_type": "markdown",
   "metadata": {},
   "source": [
    "### Classification"
   ]
  },
  {
   "cell_type": "code",
   "execution_count": 99,
   "metadata": {},
   "outputs": [],
   "source": [
    "param_grid = { \n",
    "    'n_estimators': [100,500,800],\n",
    "    'max_features': ['auto', 'sqrt', 'log2'],\n",
    "    'max_depth' : [4,5,6,7,None],\n",
    "    'criterion' :['gini', 'entropy']\n",
    "}"
   ]
  },
  {
   "cell_type": "code",
   "execution_count": 100,
   "metadata": {},
   "outputs": [
    {
     "name": "stderr",
     "output_type": "stream",
     "text": [
      "C:\\Users\\benja\\anaconda3\\lib\\site-packages\\sklearn\\model_selection\\_search.py:278: UserWarning: The total space of parameters 90 is smaller than n_iter=100. Running 90 iterations. For exhaustive searches, use GridSearchCV.\n",
      "  warnings.warn(\n",
      "[Parallel(n_jobs=-1)]: Using backend LokyBackend with 8 concurrent workers.\n"
     ]
    },
    {
     "name": "stdout",
     "output_type": "stream",
     "text": [
      "Fitting 2 folds for each of 90 candidates, totalling 180 fits\n"
     ]
    },
    {
     "name": "stderr",
     "output_type": "stream",
     "text": [
      "[Parallel(n_jobs=-1)]: Done  25 tasks      | elapsed:    6.6s\n",
      "[Parallel(n_jobs=-1)]: Done 146 tasks      | elapsed:   48.2s\n",
      "[Parallel(n_jobs=-1)]: Done 180 out of 180 | elapsed:   58.7s finished\n"
     ]
    },
    {
     "data": {
      "text/plain": [
       "RandomizedSearchCV(cv=2, estimator=RandomForestClassifier(random_state=42),\n",
       "                   n_iter=100, n_jobs=-1,\n",
       "                   param_distributions={'criterion': ['gini', 'entropy'],\n",
       "                                        'max_depth': [4, 5, 6, 7, None],\n",
       "                                        'max_features': ['auto', 'sqrt',\n",
       "                                                         'log2'],\n",
       "                                        'n_estimators': [100, 500, 800]},\n",
       "                   random_state=42, verbose=2)"
      ]
     },
     "execution_count": 100,
     "metadata": {},
     "output_type": "execute_result"
    }
   ],
   "source": [
    "rfc=RandomForestClassifier(random_state=42)\n",
    "CV_rfc = RandomizedSearchCV(estimator = rfc, param_distributions = param_grid, n_iter = 100, cv = 2, verbose=2, random_state=42, n_jobs = -1)\n",
    "CV_rfc.fit(X_train, y_train)"
   ]
  },
  {
   "cell_type": "code",
   "execution_count": 101,
   "metadata": {},
   "outputs": [
    {
     "data": {
      "text/plain": [
       "RandomForestRegressor(max_depth=30, min_samples_leaf=2, min_samples_split=5)"
      ]
     },
     "execution_count": 101,
     "metadata": {},
     "output_type": "execute_result"
    }
   ],
   "source": [
    "best_randomCV = CV_rfc.best_estimator_\n",
    "best_random"
   ]
  },
  {
   "cell_type": "code",
   "execution_count": 102,
   "metadata": {},
   "outputs": [
    {
     "name": "stdout",
     "output_type": "stream",
     "text": [
      "Score on train data: 0.9944444444444445\n",
      "Mean Absolute Error: 3.4\n",
      "Mean Absolute Percentage Error : 37.99 %.\n",
      "Accuracy : 20.0 %.\n"
     ]
    }
   ],
   "source": [
    "print('Score on train data:',best_randomCV.score(X_train, y_train))\n",
    "y_pred = evaluate(best_randomCV, X_test, y_test)"
   ]
  },
  {
   "cell_type": "code",
   "execution_count": 103,
   "metadata": {
    "scrolled": true
   },
   "outputs": [
    {
     "data": {
      "text/plain": [
       "array([ 3,  4,  3,  4,  7,  8,  6, 12,  8, 10, 10, 14, 12, 12, 12,  5, 18,\n",
       "       18,  5,  1], dtype=int64)"
      ]
     },
     "execution_count": 103,
     "metadata": {},
     "output_type": "execute_result"
    }
   ],
   "source": [
    "y_pred"
   ]
  },
  {
   "cell_type": "markdown",
   "metadata": {},
   "source": [
    "## Scaled"
   ]
  },
  {
   "cell_type": "code",
   "execution_count": 104,
   "metadata": {},
   "outputs": [],
   "source": [
    "X_train,y_train,X_test,y_test = test_train_creation_gp(df_scaled2,2021,15)"
   ]
  },
  {
   "cell_type": "markdown",
   "metadata": {},
   "source": [
    "### Regressor"
   ]
  },
  {
   "cell_type": "code",
   "execution_count": 105,
   "metadata": {},
   "outputs": [
    {
     "name": "stdout",
     "output_type": "stream",
     "text": [
      "Fitting 2 folds for each of 100 candidates, totalling 200 fits\n"
     ]
    },
    {
     "name": "stderr",
     "output_type": "stream",
     "text": [
      "[Parallel(n_jobs=-1)]: Using backend LokyBackend with 8 concurrent workers.\n",
      "[Parallel(n_jobs=-1)]: Done  25 tasks      | elapsed:    7.0s\n",
      "[Parallel(n_jobs=-1)]: Done 146 tasks      | elapsed:   30.5s\n",
      "[Parallel(n_jobs=-1)]: Done 200 out of 200 | elapsed:   40.9s finished\n"
     ]
    },
    {
     "data": {
      "text/plain": [
       "RandomizedSearchCV(cv=2, estimator=RandomForestRegressor(), n_iter=100,\n",
       "                   n_jobs=-1,\n",
       "                   param_distributions={'max_depth': [3, 5, 10, 20, 30, None],\n",
       "                                        'max_features': ['auto', 'sqrt'],\n",
       "                                        'min_samples_leaf': [1, 2],\n",
       "                                        'min_samples_split': [2, 5],\n",
       "                                        'n_estimators': [100, 200, 400, 600,\n",
       "                                                         800]},\n",
       "                   random_state=42, verbose=2)"
      ]
     },
     "execution_count": 105,
     "metadata": {},
     "output_type": "execute_result"
    }
   ],
   "source": [
    "rf = RandomForestRegressor()\n",
    "rf_random = RandomizedSearchCV(estimator = rf, param_distributions = random_grid, n_iter = 100, cv = 2, verbose=2, random_state=42, n_jobs = -1)\n",
    "rf_random.fit(X_train, y_train)"
   ]
  },
  {
   "cell_type": "code",
   "execution_count": 106,
   "metadata": {},
   "outputs": [
    {
     "name": "stdout",
     "output_type": "stream",
     "text": [
      "RandomForestRegressor(max_depth=3, min_samples_leaf=2, n_estimators=400)\n",
      "Score on train data: 0.5543772568303432\n",
      "Mean Absolute Error: 4.07\n",
      "Mean Absolute Percentage Error : 99.11 %.\n",
      "Accuracy : 0.0 %.\n",
      "[ 7.90790511 13.05670945  7.30602825  7.30242826 12.26362252  7.67223869\n",
      "  7.65867389 11.92687304  7.88811914  8.23269246  7.97086815 10.12567842\n",
      " 10.99051313  8.00394502 11.1234453  13.46022765 12.00510914 14.49737151\n",
      " 14.02501347 13.4712206 ]\n",
      "Mean Absolute Error: 3.7\n",
      "Mean Absolute Percentage Error : 57.21 %.\n",
      "Accuracy : 5.0 %.\n",
      "[4, 3, 7, 6, 9, 1, 11, 14, 10, 12, 13, 15, 8, 17, 5, 2, 16, 20, 19, 18]\n"
     ]
    }
   ],
   "source": [
    "best_random = rf_random.best_estimator_\n",
    "print(best_random)\n",
    "print('Score on train data:',best_random.score(X_train, y_train))\n",
    "y_pred = evaluate(best_random, X_test, y_test)\n",
    "print(y_pred)\n",
    "y_pred = evaluaterank(y_test,y_pred)\n",
    "print(y_pred)"
   ]
  },
  {
   "cell_type": "markdown",
   "metadata": {},
   "source": [
    "### Classificator "
   ]
  },
  {
   "cell_type": "code",
   "execution_count": 107,
   "metadata": {},
   "outputs": [
    {
     "name": "stdout",
     "output_type": "stream",
     "text": [
      "Fitting 2 folds for each of 90 candidates, totalling 180 fits\n"
     ]
    },
    {
     "name": "stderr",
     "output_type": "stream",
     "text": [
      "C:\\Users\\benja\\anaconda3\\lib\\site-packages\\sklearn\\model_selection\\_search.py:278: UserWarning: The total space of parameters 90 is smaller than n_iter=100. Running 90 iterations. For exhaustive searches, use GridSearchCV.\n",
      "  warnings.warn(\n",
      "[Parallel(n_jobs=-1)]: Using backend LokyBackend with 8 concurrent workers.\n",
      "[Parallel(n_jobs=-1)]: Done  25 tasks      | elapsed:    6.8s\n",
      "[Parallel(n_jobs=-1)]: Done 146 tasks      | elapsed:   51.1s\n",
      "[Parallel(n_jobs=-1)]: Done 180 out of 180 | elapsed:  1.1min finished\n"
     ]
    },
    {
     "data": {
      "text/plain": [
       "RandomizedSearchCV(cv=2, estimator=RandomForestClassifier(random_state=42),\n",
       "                   n_iter=100, n_jobs=-1,\n",
       "                   param_distributions={'criterion': ['gini', 'entropy'],\n",
       "                                        'max_depth': [4, 5, 6, 7, None],\n",
       "                                        'max_features': ['auto', 'sqrt',\n",
       "                                                         'log2'],\n",
       "                                        'n_estimators': [100, 500, 800]},\n",
       "                   random_state=42, verbose=2)"
      ]
     },
     "execution_count": 107,
     "metadata": {},
     "output_type": "execute_result"
    }
   ],
   "source": [
    "rfc=RandomForestClassifier(random_state=42)\n",
    "CV_rfc = RandomizedSearchCV(estimator = rfc, param_distributions = param_grid, n_iter = 100, cv = 2, verbose=2, random_state=42, n_jobs = -1)\n",
    "CV_rfc.fit(X_train, y_train)"
   ]
  },
  {
   "cell_type": "code",
   "execution_count": 108,
   "metadata": {
    "scrolled": false
   },
   "outputs": [
    {
     "name": "stdout",
     "output_type": "stream",
     "text": [
      "RandomForestRegressor(max_depth=3, min_samples_leaf=2, n_estimators=400)\n",
      "Score on train data: 0.9178571428571428\n",
      "Mean Absolute Error: 4.0\n",
      "Mean Absolute Percentage Error : 66.78 %.\n",
      "Accuracy : 0.0 %.\n",
      "[ 3 12  4  5  3  7  4 15  5  3  7 10 10  9  8 13 10 16 14 16]\n"
     ]
    }
   ],
   "source": [
    "best_randomCV = CV_rfc.best_estimator_\n",
    "print(best_random)\n",
    "print('Score on train data:',best_randomCV.score(X_train, y_train))\n",
    "y_pred = evaluate(best_randomCV, X_test, y_test)\n",
    "print(y_pred)"
   ]
  },
  {
   "cell_type": "markdown",
   "metadata": {},
   "source": [
    "After the analysis of the results, we can observe that the tunning of parameter is not really the good methode.\n",
    "We have a dataset that changes everytime, so we are not able to find the best parameters. Especially for the begining of the season"
   ]
  },
  {
   "cell_type": "markdown",
   "metadata": {},
   "source": [
    "The strategie now is to keep the random forest but to decide between the regressor or the classificator one."
   ]
  },
  {
   "cell_type": "markdown",
   "metadata": {},
   "source": [
    "We also have to finally decide between the scaled data and the normal ones. "
   ]
  },
  {
   "cell_type": "markdown",
   "metadata": {},
   "source": [
    "To do so we'll compare all the possibilities and the results that are possible in our dataset"
   ]
  },
  {
   "cell_type": "markdown",
   "metadata": {},
   "source": [
    "#### All the possibilities predicted from non scaled data "
   ]
  },
  {
   "cell_type": "code",
   "execution_count": 109,
   "metadata": {},
   "outputs": [
    {
     "name": "stdout",
     "output_type": "stream",
     "text": [
      "error at: 2018   1\n",
      "error at: 2020   18\n",
      "error at: 2020   19\n",
      "error at: 2020   20\n",
      "error at: 2020   21\n"
     ]
    }
   ],
   "source": [
    "year = [2018,2019,2020,2021]\n",
    "GpNumber = [i for i in range(1,22)]\n",
    "reg=[]\n",
    "clf = []\n",
    "for y in year:\n",
    "    for g in GpNumber:\n",
    "        try:\n",
    "\n",
    "            X_train,y_train,X_test,y_test = test_train_creation_gp(df_features2,y,g)\n",
    "            random_forest = RandomForestClassifier() \n",
    "            model_rd = random_forest.fit(X_train, y_train)\n",
    "\n",
    "            y_pred = evaluateNoDisplay(random_forest, X_test, y_test)\n",
    "            clf.append((y_pred,y,g))\n",
    "\n",
    "            random_forest = RandomForestRegressor()\n",
    "            model_rd = random_forest.fit(X_train, y_train)\n",
    "            y_pred,acc = evaluateNoDisplay(random_forest, X_test, y_test)\n",
    "            l=[]\n",
    "            l.append((y,g))\n",
    "            l.append(acc)\n",
    "            l.append(y_test)\n",
    "            l.append(y_pred.copy())\n",
    "            y_pred_2 = evaluaterankNoDisplay(y_test,y_pred)\n",
    "            l.append(y_pred_2)\n",
    "            reg.append(l)\n",
    "        except : \n",
    "            print( 'error at:',y,' ',g)\n",
    "            \n",
    "            "
   ]
  },
  {
   "cell_type": "code",
   "execution_count": 110,
   "metadata": {},
   "outputs": [
    {
     "name": "stdout",
     "output_type": "stream",
     "text": [
      "Average Accuracy regression without ranking : 8.734177215189874 %\n"
     ]
    }
   ],
   "source": [
    "sum_reg = 0\n",
    "for i in reg: \n",
    "    sum_reg+= i[1][2]\n",
    "print('Average Accuracy regression without ranking :',sum_reg/len(reg),'%')"
   ]
  },
  {
   "cell_type": "code",
   "execution_count": 111,
   "metadata": {},
   "outputs": [
    {
     "data": {
      "text/plain": [
       "[10, 1, 2, 6, 18, 16, 20, 3, 7, 11, 8, 4, 19, 5, 17, 13, 12, 14, 15, 9]"
      ]
     },
     "execution_count": 111,
     "metadata": {},
     "output_type": "execute_result"
    }
   ],
   "source": [
    "reg[0][4][0]"
   ]
  },
  {
   "cell_type": "code",
   "execution_count": 112,
   "metadata": {},
   "outputs": [
    {
     "name": "stdout",
     "output_type": "stream",
     "text": [
      "Average Accuracy regression with ranking : 13.670886075949367 %\n"
     ]
    }
   ],
   "source": [
    "sum_rank = 0\n",
    "for i in reg:\n",
    "    t = i[4]\n",
    "    c = 0\n",
    "    for pos in range(0,20):\n",
    "        if (1+pos)==t[0][pos]:\n",
    "            c+=1\n",
    "    sum_rank+=((c/20)*100)\n",
    "print('Average Accuracy regression with ranking :',sum_rank/len(reg),'%')\n",
    "        "
   ]
  },
  {
   "cell_type": "code",
   "execution_count": 113,
   "metadata": {},
   "outputs": [
    {
     "data": {
      "text/plain": [
       "[((array([18,  8, 20, 18, 18, 18, 18, 18, 18, 12, 18, 20, 18, 20, 20, 12, 18,\n",
       "          18, 18,  4], dtype=int64),\n",
       "   [8.2, 207.0, 5.0]),\n",
       "  2018,\n",
       "  2),\n",
       " ((array([13,  2, 18,  3,  6, 17, 13,  1, 10, 13, 12, 16, 13, 14, 14, 12,  9,\n",
       "          13, 12, 12], dtype=int64),\n",
       "   [4.75, 118.42, 15.0]),\n",
       "  2018,\n",
       "  3),\n",
       " ((array([ 2,  3, 12,  8,  6, 19,  7, 14, 13, 20, 16, 18, 13,  2, 16,  5,  1,\n",
       "          20, 10, 15], dtype=int64),\n",
       "   [5.8, 72.01, 10.0]),\n",
       "  2018,\n",
       "  4)]"
      ]
     },
     "execution_count": 113,
     "metadata": {},
     "output_type": "execute_result"
    }
   ],
   "source": [
    "clf[:3]"
   ]
  },
  {
   "cell_type": "markdown",
   "metadata": {},
   "source": [
    "When we look at the result of the Classificator, we can see that it is not a logical result for our problem.\n",
    "Having a regressor allows us to classifie the position of the driver in a better way because the regressor will not give us two times the same result."
   ]
  },
  {
   "cell_type": "markdown",
   "metadata": {},
   "source": [
    "We will focus on the regressor"
   ]
  },
  {
   "cell_type": "markdown",
   "metadata": {},
   "source": [
    "Now we are also testing on the scaled data."
   ]
  },
  {
   "cell_type": "code",
   "execution_count": 114,
   "metadata": {
    "scrolled": true
   },
   "outputs": [
    {
     "name": "stdout",
     "output_type": "stream",
     "text": [
      "error at: 2018   1\n",
      "error at: 2020   18\n",
      "error at: 2020   19\n",
      "error at: 2020   20\n",
      "error at: 2020   21\n"
     ]
    }
   ],
   "source": [
    "year = [2018,2019,2020,2021]\n",
    "GpNumber = [i for i in range(1,22)]\n",
    "reg_scaled=[]\n",
    "clf_scaled = []\n",
    "for y in year:\n",
    "    for g in GpNumber:\n",
    "        try:\n",
    "            X_train,y_train,X_test,y_test = test_train_creation_gp(df_scaled2,y,g)\n",
    "            random_forest = RandomForestClassifier() \n",
    "            model_rd = random_forest.fit(X_train, y_train)\n",
    "\n",
    "            y_pred = evaluateNoDisplay(random_forest, X_test, y_test)\n",
    "            clf_scaled.append((y_pred,y,g))\n",
    "\n",
    "            random_forest = RandomForestRegressor() \n",
    "            model_rd = random_forest.fit(X_train, y_train)\n",
    "            y_pred,acc = evaluateNoDisplay(random_forest, X_test, y_test)\n",
    "            l=[]\n",
    "            l.append((y,g))\n",
    "            l.append(acc)\n",
    "            l.append(y_test)\n",
    "            l.append(y_pred.copy())\n",
    "            y_pred_2 = evaluaterankNoDisplay(y_test,y_pred)\n",
    "            l.append(y_pred_2)\n",
    "            reg_scaled.append(l)\n",
    "        except:\n",
    "            print( 'error at:',y,' ',g)\n",
    "            "
   ]
  },
  {
   "cell_type": "code",
   "execution_count": 115,
   "metadata": {},
   "outputs": [
    {
     "data": {
      "text/plain": [
       "0.0"
      ]
     },
     "execution_count": 115,
     "metadata": {},
     "output_type": "execute_result"
    }
   ],
   "source": [
    "reg_scaled[0][1][2]"
   ]
  },
  {
   "cell_type": "code",
   "execution_count": 116,
   "metadata": {},
   "outputs": [
    {
     "name": "stdout",
     "output_type": "stream",
     "text": [
      "Average Accuracy regression without ranking : 8.987341772151899 %\n"
     ]
    }
   ],
   "source": [
    "sum_reg = 0\n",
    "for i in reg_scaled: \n",
    "    sum_reg+= i[1][2]\n",
    "print('Average Accuracy regression without ranking :',sum_reg/len(reg_scaled),'%')"
   ]
  },
  {
   "cell_type": "code",
   "execution_count": 117,
   "metadata": {},
   "outputs": [
    {
     "name": "stdout",
     "output_type": "stream",
     "text": [
      "Average Accuracy regression with ranking : 12.405063291139241 %\n"
     ]
    }
   ],
   "source": [
    "sum_rank = 0\n",
    "for i in reg_scaled:\n",
    "    t = i[4]\n",
    "    c = 0\n",
    "    for pos in range(0,20):\n",
    "        if (1+pos)==t[0][pos]:\n",
    "            c+=1\n",
    "    sum_rank+=((c/20)*100)\n",
    "print('Average Accuracy regression with ranking :',sum_rank/len(reg_scaled),'%')\n",
    "        "
   ]
  },
  {
   "cell_type": "markdown",
   "metadata": {},
   "source": [
    "##### We should try to find a good random state"
   ]
  },
  {
   "cell_type": "code",
   "execution_count": 118,
   "metadata": {
    "scrolled": true
   },
   "outputs": [
    {
     "name": "stdout",
     "output_type": "stream",
     "text": [
      "error at: 2018   1\n",
      "error at: 2020   18\n",
      "error at: 2020   19\n",
      "error at: 2020   20\n",
      "error at: 2020   21\n",
      "Random state: 5\n",
      "Average Accuracy regression without ranking : 8.734177215189874 %\n",
      "Average Accuracy regression with ranking : 12.531645569620252 %\n",
      "\n"
     ]
    }
   ],
   "source": [
    "year = [2018,2019,2020,2021]\n",
    "GpNumber = [i for i in range(1,22)]\n",
    "\n",
    "random_state_result = []\n",
    "for random in [x for x in range(5,6)]: # between 0 and 100 for testing\n",
    "    reg_scaled=[]\n",
    "    for y in year:\n",
    "        for g in GpNumber:\n",
    "            try:\n",
    "                X_train,y_train,X_test,y_test = test_train_creation_gp(df_scaled2,y,g)\n",
    "\n",
    "                random_forest = RandomForestRegressor(random_state = random) \n",
    "                model_rd = random_forest.fit(X_train, y_train)\n",
    "                y_pred,acc = evaluateNoDisplay(random_forest, X_test, y_test)\n",
    "                l=[]\n",
    "                l.append((y,g))\n",
    "                l.append(acc)\n",
    "                l.append(y_test)\n",
    "                l.append(y_pred.copy())\n",
    "                y_pred_2 = evaluaterankNoDisplay(y_test,y_pred)\n",
    "                l.append(y_pred_2)\n",
    "                reg_scaled.append(l)\n",
    "            except : \n",
    "                print( 'error at:',y,' ',g)\n",
    "                \n",
    "    print('Random state:',random)      \n",
    "    sum_reg = 0\n",
    "    for i in reg_scaled: \n",
    "        sum_reg+= i[1][2]\n",
    "    print('Average Accuracy regression without ranking :',sum_reg/len(reg_scaled),'%')\n",
    "    sum_rank = 0\n",
    "    for i in reg_scaled:\n",
    "        t = i[4]\n",
    "        c = 0\n",
    "        for pos in range(0,20):\n",
    "            if (1+pos)==t[0][pos]:\n",
    "                c+=1\n",
    "        sum_rank+=((c/20)*100)\n",
    "    print('Average Accuracy regression with ranking :',sum_rank/len(reg_scaled),'%')\n",
    "    print('')\n",
    "    random_state_result.append([random,sum_reg/len(reg_scaled),sum_rank/len(reg_scaled),reg_scaled])\n"
   ]
  },
  {
   "cell_type": "markdown",
   "metadata": {},
   "source": [
    "test made between 0 and 100, best results : Random_state = 9/19/42/43/47!! 47 is the best by far."
   ]
  },
  {
   "cell_type": "markdown",
   "metadata": {},
   "source": [
    "### After several testing with the supposed best parameters etc, We conclude that the best opportunity to predict the race result is  the Random forest regression with ranking on the scaled data."
   ]
  },
  {
   "cell_type": "code",
   "execution_count": 119,
   "metadata": {},
   "outputs": [
    {
     "name": "stdout",
     "output_type": "stream",
     "text": [
      "error at: 2018   1\n",
      "error at: 2018   22\n",
      "error at: 2019   22\n",
      "error at: 2020   18\n",
      "error at: 2020   19\n",
      "error at: 2020   20\n",
      "error at: 2020   21\n",
      "error at: 2020   22\n"
     ]
    }
   ],
   "source": [
    "year = [2018,2019,2020,2021]\n",
    "GpNumber = [i for i in range(1,23)]\n",
    "reg_scaled=[]\n",
    "\n",
    "for y in year:\n",
    "    for g in GpNumber:\n",
    "        try:\n",
    "            X_train,y_train,X_test,y_test = test_train_creation_gp(df_scaled2,y,g)\n",
    "\n",
    "\n",
    "            random_forest = RandomForestRegressor(random_state = 47) \n",
    "            model_rd = random_forest.fit(X_train, y_train)\n",
    "            y_pred,acc = evaluateNoDisplay(random_forest, X_test, y_test)\n",
    "            l=[]\n",
    "            l.append((y,g))\n",
    "            l.append(acc)\n",
    "            l.append(y_test)\n",
    "            l.append(y_pred.copy())\n",
    "            y_pred_2 = evaluaterankNoDisplay(y_test,y_pred)\n",
    "            l.append(y_pred_2)\n",
    "            reg_scaled.append(l)\n",
    "        except:\n",
    "            print( 'error at:',y,' ',g)\n",
    "            "
   ]
  },
  {
   "cell_type": "code",
   "execution_count": 120,
   "metadata": {
    "scrolled": true
   },
   "outputs": [
    {
     "name": "stdout",
     "output_type": "stream",
     "text": [
      "Average Accuracy regression without ranking : 8.694078947368421 %\n",
      "Average Accuracy regression with ranking : 13.223684210526315 %\n",
      "\n"
     ]
    }
   ],
   "source": [
    "   \n",
    "sum_reg = 0\n",
    "for i in reg_scaled: \n",
    "    sum_reg+= i[1][2]\n",
    "print('Average Accuracy regression without ranking :',sum_reg/len(reg_scaled),'%')\n",
    "sum_rank = 0\n",
    "for i in reg_scaled:\n",
    "    t = i[4]\n",
    "    c = 0\n",
    "    if len(t) == 20 :\n",
    "        for pos in range(0,20):\n",
    "            if (1+pos)==t[0][pos]:\n",
    "                c+=1\n",
    "        sum_rank+=((c/20)*100)\n",
    "    else : \n",
    "        for pos in range(0,19):\n",
    "            if (1+pos)==t[0][pos]:\n",
    "                c+=1\n",
    "        sum_rank+=((c/19)*100)\n",
    "print('Average Accuracy regression with ranking :',sum_rank/len(reg_scaled),'%')\n",
    "print('')\n",
    "random_state_result.append([random,sum_reg/len(reg_scaled),sum_rank/len(reg_scaled),reg_scaled])\n"
   ]
  },
  {
   "cell_type": "markdown",
   "metadata": {},
   "source": [
    "# Performance study "
   ]
  },
  {
   "cell_type": "markdown",
   "metadata": {},
   "source": [
    "We have to understand what the random forest predict and how is it permormant. "
   ]
  },
  {
   "cell_type": "markdown",
   "metadata": {},
   "source": [
    "### global Accuracy "
   ]
  },
  {
   "cell_type": "markdown",
   "metadata": {},
   "source": [
    "We have an accuracy global of :  this number is calculated by training the model on every possibility of train and test that we can have"
   ]
  },
  {
   "cell_type": "markdown",
   "metadata": {},
   "source": [
    "This number seems low, but considering all the parameters of the formula one, and also the DNS problem that can occure, this number is good."
   ]
  },
  {
   "cell_type": "markdown",
   "metadata": {},
   "source": [
    "This accuracy needs to be compared with other indicators."
   ]
  },
  {
   "cell_type": "markdown",
   "metadata": {},
   "source": [
    "### performance within an Interval "
   ]
  },
  {
   "cell_type": "markdown",
   "metadata": {},
   "source": [
    "For this insight, we'll considere valide, a position that is +-1 the real position."
   ]
  },
  {
   "cell_type": "code",
   "execution_count": 121,
   "metadata": {},
   "outputs": [],
   "source": [
    "def interval_acc(reg_scaled,interval):\n",
    "    sum_rank = 0\n",
    "    for i in reg_scaled:\n",
    "        t = i[4]\n",
    "        c = 0\n",
    "        if len(t) == 20 :\n",
    "            for pos in range(0,20):\n",
    "                for j in range(0,(interval+1)):\n",
    "                    if ((1+pos+j)==t[0][pos])|((1+pos-j)==t[0][pos]):\n",
    "                        c+=1\n",
    "                        break\n",
    "            sum_rank+=((c/20)*100)\n",
    "        else : \n",
    "            for pos in range(0,19):\n",
    "                for j in range(0,(interval+1)):\n",
    "                    if ((1+pos+j)==t[0][pos])|((1+pos-j)==t[0][pos]):\n",
    "                        c+=1\n",
    "                        break\n",
    "            sum_rank+=((c/19)*100)\n",
    "    return sum_rank/len(reg_scaled)"
   ]
  },
  {
   "cell_type": "code",
   "execution_count": 122,
   "metadata": {},
   "outputs": [
    {
     "name": "stdout",
     "output_type": "stream",
     "text": [
      "Interval Accuracy : 31.381578947368418 %\n"
     ]
    }
   ],
   "source": [
    "print('Interval Accuracy :',interval_acc(reg_scaled,1),'%')"
   ]
  },
  {
   "cell_type": "markdown",
   "metadata": {},
   "source": [
    "Now we have 30 pourcents of success if we classifie the pilot in an interval of 3 places."
   ]
  },
  {
   "cell_type": "code",
   "execution_count": 123,
   "metadata": {
    "scrolled": false
   },
   "outputs": [
    {
     "data": {
      "image/png": "[encoded data removed]",
      "text/plain": [
       "<Figure size 720x504 with 1 Axes>"
      ]
     },
     "metadata": {
      "needs_background": "light"
     },
     "output_type": "display_data"
    }
   ],
   "source": [
    "intervals = [interval_acc(reg_scaled,x) for x in range(15)]\n",
    "x = [x for x in range(15)]\n",
    "fig, ax = plt.subplots(figsize = (10,7))\n",
    "ax.scatter(x, intervals)\n",
    "for i, txt in enumerate([round(j,2) for j in intervals]):\n",
    "    ax.annotate(txt, (x[i], (intervals[i]-4)))\n",
    "ax.plot([x for x in range(15)], intervals)\n",
    "ax.set_title('Accuracy in fonction of the position Interval')\n",
    "ax.set_ylabel('Mean accuracy in %')\n",
    "ax.set_xlabel('position Interval')\n",
    "plt.grid(axis='x', color='0.8')\n",
    "ax.set_facecolor('seashell')\n",
    "plt.tight_layout();\n"
   ]
  },
  {
   "cell_type": "markdown",
   "metadata": {},
   "source": [
    "Another insight is very good to calculate : The accuracy depending on the position"
   ]
  },
  {
   "cell_type": "markdown",
   "metadata": {},
   "source": [
    "### The position accuracy"
   ]
  },
  {
   "cell_type": "markdown",
   "metadata": {},
   "source": [
    "In formula One we want to know who is going to be the first, the middle field or the queue is \"less\" important. We want to understand if our model can predict the front row the best or not."
   ]
  },
  {
   "cell_type": "code",
   "execution_count": 124,
   "metadata": {},
   "outputs": [],
   "source": [
    "def position_acc(reg_scaled,position):\n",
    "    sum_rank = 0\n",
    "    for i in reg_scaled:\n",
    "        t = i[4]\n",
    "        c = 0  \n",
    "        if t != reg_scaled[-1][4] :\n",
    "            if (position==t[0][position-1]):\n",
    "                c+=1\n",
    "\n",
    "            sum_rank+=c\n",
    "        else : \n",
    "            position -=1\n",
    "            if (position==round(t[0][position-1])):\n",
    "                c=c\n",
    "\n",
    "            sum_rank+=c\n",
    "    return (sum_rank/len(reg_scaled))*100"
   ]
  },
  {
   "cell_type": "code",
   "execution_count": 125,
   "metadata": {},
   "outputs": [
    {
     "name": "stdout",
     "output_type": "stream",
     "text": [
      "Position Accuracy for the Race Winner : 47.5 %\n"
     ]
    }
   ],
   "source": [
    "print('Position Accuracy for the Race Winner :',position_acc(reg_scaled,1),'%')"
   ]
  },
  {
   "cell_type": "code",
   "execution_count": 126,
   "metadata": {
    "scrolled": false
   },
   "outputs": [
    {
     "data": {
      "image/png": "[encoded data removed]",
      "text/plain": [
       "<Figure size 720x504 with 1 Axes>"
      ]
     },
     "metadata": {
      "needs_background": "light"
     },
     "output_type": "display_data"
    }
   ],
   "source": [
    "positions_acc = [position_acc(reg_scaled,x) for x in range(1,21)]\n",
    "x = [x for x in range(1,21)]\n",
    "fig, ax = plt.subplots(figsize = (10,7))\n",
    "ax.bar(x, positions_acc)\n",
    "for i, txt in enumerate([round(j,2) for j in positions_acc]):\n",
    "    ax.annotate(txt, ((x[i]-0.5), (positions_acc[i]+0.5)))\n",
    "ax.set_title('Accuracy in fonction of the position')\n",
    "ax.set_ylabel('Mean accuracy in %')\n",
    "ax.set_xlabel('position')\n",
    "plt.grid(axis='x', color='0.8')\n",
    "ax.set_facecolor('seashell')\n",
    "plt.tight_layout();"
   ]
  },
  {
   "cell_type": "markdown",
   "metadata": {},
   "source": [
    "We can observe that our model can make very good predictions concerning the first drivers and the podium"
   ]
  },
  {
   "cell_type": "markdown",
   "metadata": {},
   "source": [
    "Our model is based on a dataset that get bigger during the season. \n",
    "Indeed, the data of the previous Grand Prix are added to feed the Train. In this case,\n",
    "it is interesting to see the progression of the accuracy depending on the gp Number"
   ]
  },
  {
   "cell_type": "markdown",
   "metadata": {},
   "source": [
    "### Accuracy evolution during the Season "
   ]
  },
  {
   "cell_type": "code",
   "execution_count": 127,
   "metadata": {},
   "outputs": [],
   "source": [
    "def evolution_acc(reg_scaled,gpNumber):\n",
    "    sum_y = 0\n",
    "    for y in [2018,2019,2020,2021]:\n",
    "        sum_rank = 0\n",
    "        gpn =0\n",
    "        for i in reg_scaled:\n",
    "            if (i[0][0] == y)&(i[0][1]<=gpNumber):\n",
    "                t = i[4]\n",
    "                c = 0\n",
    "                gpn+=1\n",
    "                if len(t) == 20 :\n",
    "                    for pos in range(0,20):\n",
    "                        if (1+pos)==t[0][pos]:\n",
    "                            c+=1\n",
    "                    sum_rank+=((c/20)*100)\n",
    "                else:\n",
    "                    for pos in range(0,19):\n",
    "                        if (1+pos)==round(t[0][pos]):\n",
    "                            c+=1\n",
    "                    sum_rank+=((c/19)*100)\n",
    "        if gpn!=0:\n",
    "            sum_y+=sum_rank/gpn\n",
    "    return sum_y/4"
   ]
  },
  {
   "cell_type": "code",
   "execution_count": 128,
   "metadata": {},
   "outputs": [],
   "source": [
    "from scipy.interpolate import make_interp_spline"
   ]
  },
  {
   "cell_type": "code",
   "execution_count": 129,
   "metadata": {
    "scrolled": false
   },
   "outputs": [
    {
     "data": {
      "image/png": "[encoded data removed]",
      "text/plain": [
       "<Figure size 720x504 with 1 Axes>"
      ]
     },
     "metadata": {
      "needs_background": "light"
     },
     "output_type": "display_data"
    }
   ],
   "source": [
    "\n",
    "evolutions = [evolution_acc(reg_scaled,x) for x in range(1,23)]\n",
    "x = np.array([x for x in range(1,23)])\n",
    "\n",
    "X_Y_Spline = make_interp_spline(x, evolutions)\n",
    " \n",
    "X_ = np.linspace(x.min(), x.max(), 500)\n",
    "Y_ = X_Y_Spline(X_)\n",
    "\n",
    "fig, ax = plt.subplots(figsize = (10,7))\n",
    "ax.scatter(x, evolutions)\n",
    "for i, txt in enumerate([round(j,2) for j in evolutions]):\n",
    "    ax.annotate(txt, ((x[i]-0.4), (evolutions[i]+0.08)))\n",
    "ax.plot(X_, Y_)\n",
    "ax.set_title('Accuracy evolution during the season')\n",
    "ax.set_ylabel('Mean accuracy in %')\n",
    "ax.set_xlabel('Grand Prix Number')\n",
    "plt.grid(axis='x', color='0.8')\n",
    "ax.set_facecolor('seashell')\n",
    "plt.tight_layout();\n"
   ]
  }
 ],
 "metadata": {
  "kernelspec": {
   "display_name": "Python 3",
   "language": "python",
   "name": "python3"
  },
  "language_info": {
   "codemirror_mode": {
    "name": "ipython",
    "version": 3
   },
   "file_extension": ".py",
   "mimetype": "text/x-python",
   "name": "python",
   "nbconvert_exporter": "python",
   "pygments_lexer": "ipython3",
   "version": "3.8.5"
  }
 },
 "nbformat": 4,
 "nbformat_minor": 4
}
