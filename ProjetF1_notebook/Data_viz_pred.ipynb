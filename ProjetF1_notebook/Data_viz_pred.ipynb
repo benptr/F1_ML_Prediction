{
 "cells": [
  {
   "cell_type": "markdown",
   "metadata": {},
   "source": [
    "# This notebook show the preparation of the data for the machine learning prediction "
   ]
  },
  {
   "cell_type": "markdown",
   "metadata": {},
   "source": [
    "The objective here is to obtain a data representing the full grand Prix week end, for every drivers.\n",
    "Now we have those informations in the data depending on the session name. \n",
    "In  our case we need to have them in the same row."
   ]
  },
  {
   "cell_type": "markdown",
   "metadata": {},
   "source": [
    "### Import the data and the tools"
   ]
  },
  {
   "cell_type": "code",
   "execution_count": 1,
   "metadata": {},
   "outputs": [],
   "source": [
    "import numpy as np\n",
    "import sklearn\n",
    "import matplotlib.pyplot as plt\n",
    "import seaborn as sns\n",
    "import pandas as pd"
   ]
  },
  {
   "cell_type": "code",
   "execution_count": 2,
   "metadata": {},
   "outputs": [],
   "source": [
    "data = pd.read_csv(r'..\\Data\\allData.csv')"
   ]
  },
  {
   "cell_type": "markdown",
   "metadata": {},
   "source": [
    "## Checking the data"
   ]
  },
  {
   "cell_type": "code",
   "execution_count": 3,
   "metadata": {},
   "outputs": [
    {
     "data": {
      "text/plain": [
       "(6625, 25)"
      ]
     },
     "execution_count": 3,
     "metadata": {},
     "output_type": "execute_result"
    }
   ],
   "source": [
    "data.shape"
   ]
  },
  {
   "cell_type": "code",
   "execution_count": 4,
   "metadata": {
    "scrolled": true
   },
   "outputs": [
    {
     "data": {
      "text/plain": [
       "Index(['number', 'position', 'Q1', 'Q2', 'Q3', 'positionText', 'points',\n",
       "       'grid', 'laps', 'status', 'year', 'gpName', 'gpNumber', 'sessionName',\n",
       "       'driverId', 'code', 'DriverNationality', 'constructorId',\n",
       "       'constructorNationality', 'fastestLapNumber', 'fastestLapRank',\n",
       "       'fastestLapAvgSpeed', 'fastestLapTime', 'totalTime', 'TimeInterval'],\n",
       "      dtype='object')"
      ]
     },
     "execution_count": 4,
     "metadata": {},
     "output_type": "execute_result"
    }
   ],
   "source": [
    "data.columns"
   ]
  },
  {
   "cell_type": "code",
   "execution_count": 5,
   "metadata": {},
   "outputs": [
    {
     "data": {
      "text/plain": [
       "0        1\n",
       "1        1\n",
       "2        1\n",
       "3        1\n",
       "4        1\n",
       "        ..\n",
       "6620    22\n",
       "6621    22\n",
       "6622    22\n",
       "6623    22\n",
       "6624    22\n",
       "Name: gpNumber, Length: 6625, dtype: int64"
      ]
     },
     "execution_count": 5,
     "metadata": {},
     "output_type": "execute_result"
    }
   ],
   "source": [
    "data['gpNumber']"
   ]
  },
  {
   "cell_type": "markdown",
   "metadata": {},
   "source": [
    "## Spliting the data into the practice, the race and qualifying "
   ]
  },
  {
   "cell_type": "markdown",
   "metadata": {},
   "source": [
    "### The meaning of this step is to be able to merge the data "
   ]
  },
  {
   "cell_type": "code",
   "execution_count": 6,
   "metadata": {},
   "outputs": [],
   "source": [
    "df_race = data[data['sessionName'] == 'Race']"
   ]
  },
  {
   "cell_type": "code",
   "execution_count": 7,
   "metadata": {},
   "outputs": [],
   "source": [
    "df_practice1 = data[data['sessionName'] == 'Practice 1'][['fastestLapRank','fastestLapTime','year','gpName','driverId']]"
   ]
  },
  {
   "cell_type": "code",
   "execution_count": 8,
   "metadata": {},
   "outputs": [],
   "source": [
    "df_practice2 = data[data['sessionName'] == 'Practice 2'][['fastestLapRank','fastestLapTime','year','gpName','driverId']]"
   ]
  },
  {
   "cell_type": "code",
   "execution_count": 9,
   "metadata": {},
   "outputs": [],
   "source": [
    "df_practice3 = data[data['sessionName'] == 'Practice 3'][['fastestLapRank','fastestLapTime','year','gpName','driverId']]"
   ]
  },
  {
   "cell_type": "code",
   "execution_count": 10,
   "metadata": {},
   "outputs": [],
   "source": [
    "df_practice1 = df_practice1.rename(columns={\"fastestLapRank\": \"fastestLapRankP1\",\"fastestLapTime\": \"fastestLapTimeP1\"})\n",
    "df_practice2 = df_practice2.rename(columns={\"fastestLapRank\": \"fastestLapRankP2\",\"fastestLapTime\": \"fastestLapTimeP2\"})\n",
    "df_practice3 = df_practice3.rename(columns={\"fastestLapRank\": \"fastestLapRankP3\",\"fastestLapTime\": \"fastestLapTimeP3\"})"
   ]
  },
  {
   "cell_type": "code",
   "execution_count": 11,
   "metadata": {},
   "outputs": [],
   "source": [
    "df_quali = data[data['sessionName'] == 'Qualifying'][['Q1','Q2','Q3','year','gpName','driverId']]"
   ]
  },
  {
   "cell_type": "markdown",
   "metadata": {},
   "source": [
    "#### Data manipulation on race and qualifying to merge them "
   ]
  },
  {
   "cell_type": "code",
   "execution_count": 12,
   "metadata": {},
   "outputs": [
    {
     "data": {
      "text/html": [
       "<div>\n",
       "<style scoped>\n",
       "    .dataframe tbody tr th:only-of-type {\n",
       "        vertical-align: middle;\n",
       "    }\n",
       "\n",
       "    .dataframe tbody tr th {\n",
       "        vertical-align: top;\n",
       "    }\n",
       "\n",
       "    .dataframe thead th {\n",
       "        text-align: right;\n",
       "    }\n",
       "</style>\n",
       "<table border=\"1\" class=\"dataframe\">\n",
       "  <thead>\n",
       "    <tr style=\"text-align: right;\">\n",
       "      <th></th>\n",
       "      <th>number</th>\n",
       "      <th>position</th>\n",
       "      <th>points</th>\n",
       "      <th>grid</th>\n",
       "      <th>laps</th>\n",
       "      <th>year</th>\n",
       "      <th>gpNumber</th>\n",
       "      <th>fastestLapNumber</th>\n",
       "      <th>fastestLapRank</th>\n",
       "      <th>fastestLapAvgSpeed</th>\n",
       "      <th>totalTime</th>\n",
       "    </tr>\n",
       "  </thead>\n",
       "  <tbody>\n",
       "    <tr>\n",
       "      <th>count</th>\n",
       "      <td>1619.000000</td>\n",
       "      <td>1599.000000</td>\n",
       "      <td>1599.000000</td>\n",
       "      <td>1599.000000</td>\n",
       "      <td>1599.000000</td>\n",
       "      <td>1619.000000</td>\n",
       "      <td>1619.000000</td>\n",
       "      <td>1526.000000</td>\n",
       "      <td>1526.000000</td>\n",
       "      <td>1526.000000</td>\n",
       "      <td>7.840000e+02</td>\n",
       "    </tr>\n",
       "    <tr>\n",
       "      <th>mean</th>\n",
       "      <td>28.008647</td>\n",
       "      <td>10.494059</td>\n",
       "      <td>5.065979</td>\n",
       "      <td>10.151345</td>\n",
       "      <td>54.482802</td>\n",
       "      <td>2019.492897</td>\n",
       "      <td>10.709080</td>\n",
       "      <td>46.992136</td>\n",
       "      <td>10.185452</td>\n",
       "      <td>210.311455</td>\n",
       "      <td>5.668426e+06</td>\n",
       "    </tr>\n",
       "    <tr>\n",
       "      <th>std</th>\n",
       "      <td>25.666323</td>\n",
       "      <td>5.764989</td>\n",
       "      <td>7.217079</td>\n",
       "      <td>5.819209</td>\n",
       "      <td>17.902728</td>\n",
       "      <td>1.145386</td>\n",
       "      <td>5.981119</td>\n",
       "      <td>15.200990</td>\n",
       "      <td>5.613831</td>\n",
       "      <td>19.500750</td>\n",
       "      <td>1.275282e+06</td>\n",
       "    </tr>\n",
       "    <tr>\n",
       "      <th>min</th>\n",
       "      <td>2.000000</td>\n",
       "      <td>1.000000</td>\n",
       "      <td>0.000000</td>\n",
       "      <td>0.000000</td>\n",
       "      <td>0.000000</td>\n",
       "      <td>2018.000000</td>\n",
       "      <td>1.000000</td>\n",
       "      <td>2.000000</td>\n",
       "      <td>1.000000</td>\n",
       "      <td>140.802000</td>\n",
       "      <td>2.070710e+05</td>\n",
       "    </tr>\n",
       "    <tr>\n",
       "      <th>25%</th>\n",
       "      <td>8.000000</td>\n",
       "      <td>5.500000</td>\n",
       "      <td>0.000000</td>\n",
       "      <td>5.000000</td>\n",
       "      <td>52.000000</td>\n",
       "      <td>2018.000000</td>\n",
       "      <td>6.000000</td>\n",
       "      <td>40.000000</td>\n",
       "      <td>5.000000</td>\n",
       "      <td>200.244500</td>\n",
       "      <td>5.280748e+06</td>\n",
       "    </tr>\n",
       "    <tr>\n",
       "      <th>50%</th>\n",
       "      <td>18.000000</td>\n",
       "      <td>10.000000</td>\n",
       "      <td>1.000000</td>\n",
       "      <td>10.000000</td>\n",
       "      <td>56.000000</td>\n",
       "      <td>2019.000000</td>\n",
       "      <td>11.000000</td>\n",
       "      <td>49.000000</td>\n",
       "      <td>10.000000</td>\n",
       "      <td>209.825500</td>\n",
       "      <td>5.591682e+06</td>\n",
       "    </tr>\n",
       "    <tr>\n",
       "      <th>75%</th>\n",
       "      <td>44.000000</td>\n",
       "      <td>15.000000</td>\n",
       "      <td>8.000000</td>\n",
       "      <td>15.000000</td>\n",
       "      <td>67.000000</td>\n",
       "      <td>2021.000000</td>\n",
       "      <td>16.000000</td>\n",
       "      <td>57.000000</td>\n",
       "      <td>15.000000</td>\n",
       "      <td>224.209000</td>\n",
       "      <td>5.884478e+06</td>\n",
       "    </tr>\n",
       "    <tr>\n",
       "      <th>max</th>\n",
       "      <td>99.000000</td>\n",
       "      <td>20.000000</td>\n",
       "      <td>27.000000</td>\n",
       "      <td>20.000000</td>\n",
       "      <td>87.000000</td>\n",
       "      <td>2021.000000</td>\n",
       "      <td>22.000000</td>\n",
       "      <td>85.000000</td>\n",
       "      <td>20.000000</td>\n",
       "      <td>255.014000</td>\n",
       "      <td>1.081032e+07</td>\n",
       "    </tr>\n",
       "  </tbody>\n",
       "</table>\n",
       "</div>"
      ],
      "text/plain": [
       "            number     position       points         grid         laps  \\\n",
       "count  1619.000000  1599.000000  1599.000000  1599.000000  1599.000000   \n",
       "mean     28.008647    10.494059     5.065979    10.151345    54.482802   \n",
       "std      25.666323     5.764989     7.217079     5.819209    17.902728   \n",
       "min       2.000000     1.000000     0.000000     0.000000     0.000000   \n",
       "25%       8.000000     5.500000     0.000000     5.000000    52.000000   \n",
       "50%      18.000000    10.000000     1.000000    10.000000    56.000000   \n",
       "75%      44.000000    15.000000     8.000000    15.000000    67.000000   \n",
       "max      99.000000    20.000000    27.000000    20.000000    87.000000   \n",
       "\n",
       "              year     gpNumber  fastestLapNumber  fastestLapRank  \\\n",
       "count  1619.000000  1619.000000       1526.000000     1526.000000   \n",
       "mean   2019.492897    10.709080         46.992136       10.185452   \n",
       "std       1.145386     5.981119         15.200990        5.613831   \n",
       "min    2018.000000     1.000000          2.000000        1.000000   \n",
       "25%    2018.000000     6.000000         40.000000        5.000000   \n",
       "50%    2019.000000    11.000000         49.000000       10.000000   \n",
       "75%    2021.000000    16.000000         57.000000       15.000000   \n",
       "max    2021.000000    22.000000         85.000000       20.000000   \n",
       "\n",
       "       fastestLapAvgSpeed     totalTime  \n",
       "count         1526.000000  7.840000e+02  \n",
       "mean           210.311455  5.668426e+06  \n",
       "std             19.500750  1.275282e+06  \n",
       "min            140.802000  2.070710e+05  \n",
       "25%            200.244500  5.280748e+06  \n",
       "50%            209.825500  5.591682e+06  \n",
       "75%            224.209000  5.884478e+06  \n",
       "max            255.014000  1.081032e+07  "
      ]
     },
     "execution_count": 12,
     "metadata": {},
     "output_type": "execute_result"
    }
   ],
   "source": [
    "df_race.describe()"
   ]
  },
  {
   "cell_type": "code",
   "execution_count": 13,
   "metadata": {
    "scrolled": false
   },
   "outputs": [
    {
     "data": {
      "text/plain": [
       "number                       0\n",
       "position                    20\n",
       "Q1                        1619\n",
       "Q2                        1619\n",
       "Q3                        1619\n",
       "positionText                20\n",
       "points                      20\n",
       "grid                        20\n",
       "laps                        20\n",
       "status                      20\n",
       "year                         0\n",
       "gpName                       0\n",
       "gpNumber                     0\n",
       "sessionName                  0\n",
       "driverId                    20\n",
       "code                         0\n",
       "DriverNationality           20\n",
       "constructorId               20\n",
       "constructorNationality      20\n",
       "fastestLapNumber            93\n",
       "fastestLapRank              93\n",
       "fastestLapAvgSpeed          93\n",
       "fastestLapTime              93\n",
       "totalTime                  835\n",
       "TimeInterval               835\n",
       "dtype: int64"
      ]
     },
     "execution_count": 13,
     "metadata": {},
     "output_type": "execute_result"
    }
   ],
   "source": [
    "df_race.isna().sum()"
   ]
  },
  {
   "cell_type": "code",
   "execution_count": 14,
   "metadata": {},
   "outputs": [],
   "source": [
    "df_race = df_race.drop(['Q1','Q2','Q3'], axis=1)"
   ]
  },
  {
   "cell_type": "code",
   "execution_count": 15,
   "metadata": {},
   "outputs": [
    {
     "data": {
      "text/plain": [
       "count    7.840000e+02\n",
       "mean     5.668426e+06\n",
       "std      1.275282e+06\n",
       "min      2.070710e+05\n",
       "25%      5.280748e+06\n",
       "50%      5.591682e+06\n",
       "75%      5.884478e+06\n",
       "max      1.081032e+07\n",
       "Name: totalTime, dtype: float64"
      ]
     },
     "execution_count": 15,
     "metadata": {},
     "output_type": "execute_result"
    }
   ],
   "source": [
    "df_race['totalTime'].describe()"
   ]
  },
  {
   "cell_type": "code",
   "execution_count": 16,
   "metadata": {},
   "outputs": [],
   "source": [
    "df_race['totalTime'] = df_race['totalTime'].fillna(df_race['totalTime'].max())"
   ]
  },
  {
   "cell_type": "code",
   "execution_count": 17,
   "metadata": {
    "scrolled": true
   },
   "outputs": [
    {
     "data": {
      "text/plain": [
       "number                      0\n",
       "position                   20\n",
       "positionText               20\n",
       "points                     20\n",
       "grid                       20\n",
       "laps                       20\n",
       "status                     20\n",
       "year                        0\n",
       "gpName                      0\n",
       "gpNumber                    0\n",
       "sessionName                 0\n",
       "driverId                   20\n",
       "code                        0\n",
       "DriverNationality          20\n",
       "constructorId              20\n",
       "constructorNationality     20\n",
       "fastestLapNumber           93\n",
       "fastestLapRank             93\n",
       "fastestLapAvgSpeed         93\n",
       "fastestLapTime             93\n",
       "totalTime                   0\n",
       "TimeInterval              835\n",
       "dtype: int64"
      ]
     },
     "execution_count": 17,
     "metadata": {},
     "output_type": "execute_result"
    }
   ],
   "source": [
    "df_race.isna().sum()"
   ]
  },
  {
   "cell_type": "markdown",
   "metadata": {},
   "source": [
    "first step of our data creation, the race is combined to the qualifying for each drivers "
   ]
  },
  {
   "cell_type": "code",
   "execution_count": 18,
   "metadata": {},
   "outputs": [],
   "source": [
    "race_quali = pd.merge(df_race, df_quali, how=\"left\", on=['year','gpName','driverId'])"
   ]
  },
  {
   "cell_type": "code",
   "execution_count": 19,
   "metadata": {},
   "outputs": [
    {
     "data": {
      "text/plain": [
       "(1619, 25)"
      ]
     },
     "execution_count": 19,
     "metadata": {},
     "output_type": "execute_result"
    }
   ],
   "source": [
    "race_quali.shape "
   ]
  },
  {
   "cell_type": "code",
   "execution_count": 20,
   "metadata": {},
   "outputs": [
    {
     "data": {
      "text/plain": [
       "Index(['number', 'position', 'positionText', 'points', 'grid', 'laps',\n",
       "       'status', 'year', 'gpName', 'gpNumber', 'sessionName', 'driverId',\n",
       "       'code', 'DriverNationality', 'constructorId', 'constructorNationality',\n",
       "       'fastestLapNumber', 'fastestLapRank', 'fastestLapAvgSpeed',\n",
       "       'fastestLapTime', 'totalTime', 'TimeInterval', 'Q1', 'Q2', 'Q3'],\n",
       "      dtype='object')"
      ]
     },
     "execution_count": 20,
     "metadata": {},
     "output_type": "execute_result"
    }
   ],
   "source": [
    "race_quali.columns"
   ]
  },
  {
   "cell_type": "markdown",
   "metadata": {},
   "source": [
    "Second step is to combined the practices data with "
   ]
  },
  {
   "cell_type": "code",
   "execution_count": 22,
   "metadata": {},
   "outputs": [],
   "source": [
    "race_quali_1 = pd.merge(race_quali, df_practice1, how=\"left\", on=['year','gpName','driverId'])"
   ]
  },
  {
   "cell_type": "code",
   "execution_count": 24,
   "metadata": {},
   "outputs": [],
   "source": [
    "race_quali_12 = pd.merge(race_quali_1, df_practice2, how=\"left\", on=['year','gpName','driverId'])"
   ]
  },
  {
   "cell_type": "code",
   "execution_count": 34,
   "metadata": {},
   "outputs": [],
   "source": [
    "data_complete = pd.merge(race_quali_12, df_practice3, how=\"left\", on=['year','gpName','driverId'])"
   ]
  },
  {
   "cell_type": "code",
   "execution_count": 35,
   "metadata": {},
   "outputs": [
    {
     "data": {
      "text/plain": [
       "Index(['number', 'position', 'positionText', 'points', 'grid', 'laps',\n",
       "       'status', 'year', 'gpName', 'gpNumber', 'sessionName', 'driverId',\n",
       "       'code', 'DriverNationality', 'constructorId', 'constructorNationality',\n",
       "       'fastestLapNumber', 'fastestLapRank', 'fastestLapAvgSpeed',\n",
       "       'fastestLapTime', 'totalTime', 'TimeInterval', 'Q1', 'Q2', 'Q3',\n",
       "       'fastestLapRankP1', 'fastestLapTimeP1', 'fastestLapRankP2',\n",
       "       'fastestLapTimeP2', 'fastestLapRankP3', 'fastestLapTimeP3'],\n",
       "      dtype='object')"
      ]
     },
     "execution_count": 35,
     "metadata": {},
     "output_type": "execute_result"
    }
   ],
   "source": [
    "data_complete.columns"
   ]
  },
  {
   "cell_type": "code",
   "execution_count": 36,
   "metadata": {},
   "outputs": [
    {
     "data": {
      "text/plain": [
       "(1619, 31)"
      ]
     },
     "execution_count": 36,
     "metadata": {},
     "output_type": "execute_result"
    }
   ],
   "source": [
    "data_complete.shape"
   ]
  },
  {
   "cell_type": "markdown",
   "metadata": {},
   "source": [
    "We have now finaly a data that represent the entire week end (Grand prix) for a driver "
   ]
  },
  {
   "cell_type": "markdown",
   "metadata": {},
   "source": [
    "## Now we have to make the data suitable for the predictions techniques "
   ]
  },
  {
   "cell_type": "code",
   "execution_count": 21,
   "metadata": {},
   "outputs": [
    {
     "ename": "AttributeError",
     "evalue": "'float' object has no attribute 'split'",
     "output_type": "error",
     "traceback": [
      "\u001b[1;31m---------------------------------------------------------------------------\u001b[0m",
      "\u001b[1;31mAttributeError\u001b[0m                            Traceback (most recent call last)",
      "\u001b[1;32m<ipython-input-21-eef6db860d7a>\u001b[0m in \u001b[0;36m<module>\u001b[1;34m\u001b[0m\n\u001b[0;32m      2\u001b[0m \u001b[1;32mfor\u001b[0m \u001b[0mi\u001b[0m \u001b[1;32min\u001b[0m \u001b[0mdf_race\u001b[0m\u001b[1;33m[\u001b[0m\u001b[1;34m'fastestLapTime'\u001b[0m\u001b[1;33m]\u001b[0m\u001b[1;33m:\u001b[0m\u001b[1;33m\u001b[0m\u001b[1;33m\u001b[0m\u001b[0m\n\u001b[0;32m      3\u001b[0m     \u001b[1;32mif\u001b[0m \u001b[0mi\u001b[0m \u001b[1;33m!=\u001b[0m \u001b[1;34m'192.074'\u001b[0m\u001b[1;33m:\u001b[0m\u001b[1;33m\u001b[0m\u001b[1;33m\u001b[0m\u001b[0m\n\u001b[1;32m----> 4\u001b[1;33m         \u001b[0ma\u001b[0m \u001b[1;33m=\u001b[0m \u001b[0mlist\u001b[0m\u001b[1;33m(\u001b[0m\u001b[0mmap\u001b[0m\u001b[1;33m(\u001b[0m\u001b[0mfloat\u001b[0m\u001b[1;33m,\u001b[0m\u001b[0mi\u001b[0m\u001b[1;33m.\u001b[0m\u001b[0msplit\u001b[0m\u001b[1;33m(\u001b[0m\u001b[1;34m':'\u001b[0m\u001b[1;33m)\u001b[0m\u001b[1;33m)\u001b[0m\u001b[1;33m)\u001b[0m\u001b[1;33m\u001b[0m\u001b[1;33m\u001b[0m\u001b[0m\n\u001b[0m\u001b[0;32m      5\u001b[0m         \u001b[0mb\u001b[0m \u001b[1;33m=\u001b[0m \u001b[0mint\u001b[0m\u001b[1;33m(\u001b[0m\u001b[1;33m(\u001b[0m\u001b[0ma\u001b[0m\u001b[1;33m[\u001b[0m\u001b[1;36m0\u001b[0m\u001b[1;33m]\u001b[0m\u001b[1;33m*\u001b[0m\u001b[1;36m60\u001b[0m \u001b[1;33m+\u001b[0m \u001b[0ma\u001b[0m\u001b[1;33m[\u001b[0m\u001b[1;36m1\u001b[0m\u001b[1;33m]\u001b[0m\u001b[1;33m)\u001b[0m\u001b[1;33m*\u001b[0m\u001b[1;36m1000\u001b[0m\u001b[1;33m)\u001b[0m\u001b[1;33m\u001b[0m\u001b[1;33m\u001b[0m\u001b[0m\n\u001b[0;32m      6\u001b[0m     \u001b[1;32melse\u001b[0m \u001b[1;33m:\u001b[0m\u001b[1;33m\u001b[0m\u001b[1;33m\u001b[0m\u001b[0m\n",
      "\u001b[1;31mAttributeError\u001b[0m: 'float' object has no attribute 'split'"
     ]
    }
   ],
   "source": [
    "fastest  = []\n",
    "for i in df_race['fastestLapTime']:\n",
    "    if i != '192.074':\n",
    "        a = list(map(float,i.split(':')))\n",
    "        b = int((a[0]*60 + a[1])*1000)\n",
    "    else : \n",
    "        b = 92074\n",
    "    fastest.append(b)\n",
    "df_race['fastestLapTime'] = fastest"
   ]
  },
  {
   "cell_type": "code",
   "execution_count": null,
   "metadata": {},
   "outputs": [],
   "source": [
    "from sklearn.ensemble import RandomForestRegressor\n",
    "random_forest = RandomForestRegressor() "
   ]
  },
  {
   "cell_type": "code",
   "execution_count": null,
   "metadata": {},
   "outputs": [],
   "source": [
    "col = [ 'positionText',\n",
    "       'status', 'year', 'gpName', 'gpNumber', 'sessionName', 'driverId', 'DriverNationality', 'constructorId', 'constructorNationality']\n",
    "for elmt in col:\n",
    "    df_race[col] = df_race[col].astype(\"category\")"
   ]
  },
  {
   "cell_type": "code",
   "execution_count": null,
   "metadata": {},
   "outputs": [],
   "source": [
    "df_features = pd.get_dummies(df_race, columns = ['positionText',\n",
    "       'status', 'year', 'gpName', 'gpNumber', 'sessionName', 'driverId',\n",
    "       'DriverNationality', 'constructorId', 'constructorNationality'])"
   ]
  },
  {
   "cell_type": "code",
   "execution_count": null,
   "metadata": {},
   "outputs": [],
   "source": [
    "df_features.columns"
   ]
  },
  {
   "cell_type": "code",
   "execution_count": null,
   "metadata": {},
   "outputs": [],
   "source": [
    "from sklearn.model_selection import train_test_split\n",
    "\n",
    "train, test = train_test_split(df_features, test_size=0.2)\n",
    "X_train = train.drop(['position'], axis=1)\n",
    "y_train = train['position']\n",
    "X_test = test.drop(['position'], axis=1)\n",
    "y_test = test['position']"
   ]
  },
  {
   "cell_type": "code",
   "execution_count": null,
   "metadata": {},
   "outputs": [],
   "source": [
    "model_rd = random_forest.fit(X_train, y_train)"
   ]
  },
  {
   "cell_type": "code",
   "execution_count": null,
   "metadata": {},
   "outputs": [],
   "source": [
    "model_rd.score(X_test,y_test)"
   ]
  },
  {
   "cell_type": "code",
   "execution_count": null,
   "metadata": {},
   "outputs": [],
   "source": [
    "y_pred = random_forest.predict(X_test) "
   ]
  },
  {
   "cell_type": "code",
   "execution_count": null,
   "metadata": {},
   "outputs": [],
   "source": [
    "erreurs = abs(y_pred - y_test)\n",
    "print('Mean Absolute Error:', round(np.mean(erreurs), 2))\n",
    "mape = 100 * (erreurs / y_test)\n",
    "print('Mean Absolute Percentage Error :', round(np.mean(mape), 2), '%.')"
   ]
  },
  {
   "cell_type": "code",
   "execution_count": null,
   "metadata": {
    "scrolled": true
   },
   "outputs": [],
   "source": [
    "importances = model_rd.feature_importances_\n",
    "indices = np.argsort(importances)\n",
    "# style du graphique \n",
    "plt.figure(1)\n",
    "plt.title('Feature Importances')\n",
    "plt.barh(range(len(indices)), importances[indices], color='b', align='center')\n",
    "plt.yticks(range(len(indices)), [X_test.columns[i] for i in indices])\n",
    "plt.xlabel('Relative Importance')"
   ]
  },
  {
   "cell_type": "code",
   "execution_count": null,
   "metadata": {},
   "outputs": [],
   "source": [
    "# example of training a final regression model\n",
    "from sklearn.linear_model import LinearRegression\n",
    "\n",
    "\n",
    "model = LinearRegression()\n",
    "model.fit(X_train, y_train)\n",
    "\n",
    "y_pred = model.predict(X_test)\n",
    "\n",
    "erreurs = abs(y_pred - y_test)\n",
    "print('Mean Absolute Error:', round(np.mean(erreurs), 2))\n",
    "mape = 100 * (erreurs / y_test)\n",
    "print('Mean Absolute Percentage Error :', round(np.mean(mape), 2), '%.')"
   ]
  }
 ],
 "metadata": {
  "kernelspec": {
   "display_name": "Python 3",
   "language": "python",
   "name": "python3"
  },
  "language_info": {
   "codemirror_mode": {
    "name": "ipython",
    "version": 3
   },
   "file_extension": ".py",
   "mimetype": "text/x-python",
   "name": "python",
   "nbconvert_exporter": "python",
   "pygments_lexer": "ipython3",
   "version": "3.8.5"
  }
 },
 "nbformat": 4,
 "nbformat_minor": 4
}
